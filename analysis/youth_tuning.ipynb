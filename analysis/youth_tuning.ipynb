{
 "cells": [
  {
   "cell_type": "markdown",
   "metadata": {},
   "source": [
    "# Forecasting Indonesia's Youth Unemployment Rate\n",
    "with feature engineering and optimised setup"
   ]
  },
  {
   "cell_type": "markdown",
   "metadata": {},
   "source": [
    "### importing libraries and data"
   ]
  },
  {
   "cell_type": "code",
   "execution_count": 327,
   "metadata": {},
   "outputs": [],
   "source": [
    "import pandas as pd\n",
    "import seaborn as sns\n",
    "import matplotlib.pyplot as plt"
   ]
  },
  {
   "cell_type": "code",
   "execution_count": 328,
   "metadata": {},
   "outputs": [],
   "source": [
    "df = pd.read_csv('../data_ind_youth.csv')"
   ]
  },
  {
   "cell_type": "code",
   "execution_count": 329,
   "metadata": {},
   "outputs": [],
   "source": [
    "# converting to datetime format\n",
    "df['year_month'] = pd.to_datetime(df['year_month'], format='%Y-%m')\n",
    "# sorting order chronologically\n",
    "df = df.sort_values('year_month').reset_index(drop=True)"
   ]
  },
  {
   "cell_type": "code",
   "execution_count": 330,
   "metadata": {},
   "outputs": [],
   "source": [
    "df_forecast = df.copy()\n",
    "# setting the time period as index\n",
    "df_forecast.set_index('year_month', inplace=True)\n",
    "\n",
    "df_forecast.index = pd.to_datetime(df_forecast.index)\n",
    "df_forecast.index = pd.period_range(start=df_forecast.index[0], periods=len(df_forecast), freq='2Q')"
   ]
  },
  {
   "cell_type": "markdown",
   "metadata": {},
   "source": [
    "### feature engineering and setup"
   ]
  },
  {
   "cell_type": "code",
   "execution_count": 331,
   "metadata": {},
   "outputs": [],
   "source": [
    "from pycaret.time_series import *\n",
    "import numpy as np"
   ]
  },
  {
   "cell_type": "code",
   "execution_count": null,
   "metadata": {},
   "outputs": [],
   "source": [
    "# feature engineering\n",
    "# lag 1 = unemployment rate of the previous period\n",
    "df_forecast['lag_1'] = df_forecast['Unemployment_Rate'].shift(1)\n",
    "# lag 2 = unemployment rate of two periods ago\n",
    "df_forecast['lag_2'] = df_forecast['Unemployment_Rate'].shift(2)\n",
    "# average unemployment rate of the previous 3 periods - smooths short-term fluctuations\n",
    "df_forecast['rolling_mean_3'] = df_forecast['Unemployment_Rate'].rolling(window=3, closed='left').mean()\n",
    "\n",
    "# column indicating quarter\n",
    "df_forecast['quarter'] = df_forecast.index.quarter\n",
    "# drop dows with missing values caused by shifting and rolling mean\n",
    "df_forecast.dropna(inplace=True)"
   ]
  },
  {
   "cell_type": "code",
   "execution_count": 333,
   "metadata": {},
   "outputs": [
    {
     "data": {
      "text/html": [
       "<div>\n",
       "<style scoped>\n",
       "    .dataframe tbody tr th:only-of-type {\n",
       "        vertical-align: middle;\n",
       "    }\n",
       "\n",
       "    .dataframe tbody tr th {\n",
       "        vertical-align: top;\n",
       "    }\n",
       "\n",
       "    .dataframe thead th {\n",
       "        text-align: right;\n",
       "    }\n",
       "</style>\n",
       "<table border=\"1\" class=\"dataframe\">\n",
       "  <thead>\n",
       "    <tr style=\"text-align: right;\">\n",
       "      <th></th>\n",
       "      <th>Unemployment_Rate</th>\n",
       "      <th>lag_1</th>\n",
       "      <th>lag_2</th>\n",
       "      <th>rolling_mean_3</th>\n",
       "      <th>quarter</th>\n",
       "    </tr>\n",
       "  </thead>\n",
       "  <tbody>\n",
       "    <tr>\n",
       "      <th>2009Q3</th>\n",
       "      <td>17.142387</td>\n",
       "      <td>18.040630</td>\n",
       "      <td>18.374399</td>\n",
       "      <td>17.879705</td>\n",
       "      <td>3</td>\n",
       "    </tr>\n",
       "    <tr>\n",
       "      <th>2010Q1</th>\n",
       "      <td>15.775727</td>\n",
       "      <td>17.142387</td>\n",
       "      <td>18.040630</td>\n",
       "      <td>17.852472</td>\n",
       "      <td>1</td>\n",
       "    </tr>\n",
       "    <tr>\n",
       "      <th>2010Q3</th>\n",
       "      <td>15.989462</td>\n",
       "      <td>15.775727</td>\n",
       "      <td>17.142387</td>\n",
       "      <td>16.986248</td>\n",
       "      <td>3</td>\n",
       "    </tr>\n",
       "    <tr>\n",
       "      <th>2011Q1</th>\n",
       "      <td>16.851591</td>\n",
       "      <td>15.989462</td>\n",
       "      <td>15.775727</td>\n",
       "      <td>16.302525</td>\n",
       "      <td>1</td>\n",
       "    </tr>\n",
       "    <tr>\n",
       "      <th>2011Q3</th>\n",
       "      <td>16.717763</td>\n",
       "      <td>16.851591</td>\n",
       "      <td>15.989462</td>\n",
       "      <td>16.205593</td>\n",
       "      <td>3</td>\n",
       "    </tr>\n",
       "  </tbody>\n",
       "</table>\n",
       "</div>"
      ],
      "text/plain": [
       "        Unemployment_Rate      lag_1      lag_2  rolling_mean_3  quarter\n",
       "2009Q3          17.142387  18.040630  18.374399       17.879705        3\n",
       "2010Q1          15.775727  17.142387  18.040630       17.852472        1\n",
       "2010Q3          15.989462  15.775727  17.142387       16.986248        3\n",
       "2011Q1          16.851591  15.989462  15.775727       16.302525        1\n",
       "2011Q3          16.717763  16.851591  15.989462       16.205593        3"
      ]
     },
     "execution_count": 333,
     "metadata": {},
     "output_type": "execute_result"
    }
   ],
   "source": [
    "df_forecast.head()"
   ]
  },
  {
   "cell_type": "code",
   "execution_count": 395,
   "metadata": {},
   "outputs": [
    {
     "data": {
      "text/html": [
       "<style type=\"text/css\">\n",
       "#T_0be8c_row25_col1 {\n",
       "  background-color: lightgreen;\n",
       "}\n",
       "</style>\n",
       "<table id=\"T_0be8c\">\n",
       "  <thead>\n",
       "    <tr>\n",
       "      <th class=\"blank level0\" >&nbsp;</th>\n",
       "      <th id=\"T_0be8c_level0_col0\" class=\"col_heading level0 col0\" >Description</th>\n",
       "      <th id=\"T_0be8c_level0_col1\" class=\"col_heading level0 col1\" >Value</th>\n",
       "    </tr>\n",
       "  </thead>\n",
       "  <tbody>\n",
       "    <tr>\n",
       "      <th id=\"T_0be8c_level0_row0\" class=\"row_heading level0 row0\" >0</th>\n",
       "      <td id=\"T_0be8c_row0_col0\" class=\"data row0 col0\" >session_id</td>\n",
       "      <td id=\"T_0be8c_row0_col1\" class=\"data row0 col1\" >123</td>\n",
       "    </tr>\n",
       "    <tr>\n",
       "      <th id=\"T_0be8c_level0_row1\" class=\"row_heading level0 row1\" >1</th>\n",
       "      <td id=\"T_0be8c_row1_col0\" class=\"data row1 col0\" >Target</td>\n",
       "      <td id=\"T_0be8c_row1_col1\" class=\"data row1 col1\" >Unemployment_Rate</td>\n",
       "    </tr>\n",
       "    <tr>\n",
       "      <th id=\"T_0be8c_level0_row2\" class=\"row_heading level0 row2\" >2</th>\n",
       "      <td id=\"T_0be8c_row2_col0\" class=\"data row2 col0\" >Approach</td>\n",
       "      <td id=\"T_0be8c_row2_col1\" class=\"data row2 col1\" >Univariate</td>\n",
       "    </tr>\n",
       "    <tr>\n",
       "      <th id=\"T_0be8c_level0_row3\" class=\"row_heading level0 row3\" >3</th>\n",
       "      <td id=\"T_0be8c_row3_col0\" class=\"data row3 col0\" >Exogenous Variables</td>\n",
       "      <td id=\"T_0be8c_row3_col1\" class=\"data row3 col1\" >Present</td>\n",
       "    </tr>\n",
       "    <tr>\n",
       "      <th id=\"T_0be8c_level0_row4\" class=\"row_heading level0 row4\" >4</th>\n",
       "      <td id=\"T_0be8c_row4_col0\" class=\"data row4 col0\" >Original data shape</td>\n",
       "      <td id=\"T_0be8c_row4_col1\" class=\"data row4 col1\" >(31, 5)</td>\n",
       "    </tr>\n",
       "    <tr>\n",
       "      <th id=\"T_0be8c_level0_row5\" class=\"row_heading level0 row5\" >5</th>\n",
       "      <td id=\"T_0be8c_row5_col0\" class=\"data row5 col0\" >Transformed data shape</td>\n",
       "      <td id=\"T_0be8c_row5_col1\" class=\"data row5 col1\" >(31, 5)</td>\n",
       "    </tr>\n",
       "    <tr>\n",
       "      <th id=\"T_0be8c_level0_row6\" class=\"row_heading level0 row6\" >6</th>\n",
       "      <td id=\"T_0be8c_row6_col0\" class=\"data row6 col0\" >Transformed train set shape</td>\n",
       "      <td id=\"T_0be8c_row6_col1\" class=\"data row6 col1\" >(25, 5)</td>\n",
       "    </tr>\n",
       "    <tr>\n",
       "      <th id=\"T_0be8c_level0_row7\" class=\"row_heading level0 row7\" >7</th>\n",
       "      <td id=\"T_0be8c_row7_col0\" class=\"data row7 col0\" >Transformed test set shape</td>\n",
       "      <td id=\"T_0be8c_row7_col1\" class=\"data row7 col1\" >(6, 5)</td>\n",
       "    </tr>\n",
       "    <tr>\n",
       "      <th id=\"T_0be8c_level0_row8\" class=\"row_heading level0 row8\" >8</th>\n",
       "      <td id=\"T_0be8c_row8_col0\" class=\"data row8 col0\" >Rows with missing values</td>\n",
       "      <td id=\"T_0be8c_row8_col1\" class=\"data row8 col1\" >0.0%</td>\n",
       "    </tr>\n",
       "    <tr>\n",
       "      <th id=\"T_0be8c_level0_row9\" class=\"row_heading level0 row9\" >9</th>\n",
       "      <td id=\"T_0be8c_row9_col0\" class=\"data row9 col0\" >Fold Generator</td>\n",
       "      <td id=\"T_0be8c_row9_col1\" class=\"data row9 col1\" >ExpandingWindowSplitter</td>\n",
       "    </tr>\n",
       "    <tr>\n",
       "      <th id=\"T_0be8c_level0_row10\" class=\"row_heading level0 row10\" >10</th>\n",
       "      <td id=\"T_0be8c_row10_col0\" class=\"data row10 col0\" >Fold Number</td>\n",
       "      <td id=\"T_0be8c_row10_col1\" class=\"data row10 col1\" >3</td>\n",
       "    </tr>\n",
       "    <tr>\n",
       "      <th id=\"T_0be8c_level0_row11\" class=\"row_heading level0 row11\" >11</th>\n",
       "      <td id=\"T_0be8c_row11_col0\" class=\"data row11 col0\" >Enforce Prediction Interval</td>\n",
       "      <td id=\"T_0be8c_row11_col1\" class=\"data row11 col1\" >False</td>\n",
       "    </tr>\n",
       "    <tr>\n",
       "      <th id=\"T_0be8c_level0_row12\" class=\"row_heading level0 row12\" >12</th>\n",
       "      <td id=\"T_0be8c_row12_col0\" class=\"data row12 col0\" >Splits used for hyperparameters</td>\n",
       "      <td id=\"T_0be8c_row12_col1\" class=\"data row12 col1\" >all</td>\n",
       "    </tr>\n",
       "    <tr>\n",
       "      <th id=\"T_0be8c_level0_row13\" class=\"row_heading level0 row13\" >13</th>\n",
       "      <td id=\"T_0be8c_row13_col0\" class=\"data row13 col0\" >User Defined Seasonal Period(s)</td>\n",
       "      <td id=\"T_0be8c_row13_col1\" class=\"data row13 col1\" >[2, 4]</td>\n",
       "    </tr>\n",
       "    <tr>\n",
       "      <th id=\"T_0be8c_level0_row14\" class=\"row_heading level0 row14\" >14</th>\n",
       "      <td id=\"T_0be8c_row14_col0\" class=\"data row14 col0\" >Ignore Seasonality Test</td>\n",
       "      <td id=\"T_0be8c_row14_col1\" class=\"data row14 col1\" >False</td>\n",
       "    </tr>\n",
       "    <tr>\n",
       "      <th id=\"T_0be8c_level0_row15\" class=\"row_heading level0 row15\" >15</th>\n",
       "      <td id=\"T_0be8c_row15_col0\" class=\"data row15 col0\" >Seasonality Detection Algo</td>\n",
       "      <td id=\"T_0be8c_row15_col1\" class=\"data row15 col1\" >user_defined</td>\n",
       "    </tr>\n",
       "    <tr>\n",
       "      <th id=\"T_0be8c_level0_row16\" class=\"row_heading level0 row16\" >16</th>\n",
       "      <td id=\"T_0be8c_row16_col0\" class=\"data row16 col0\" >Max Period to Consider</td>\n",
       "      <td id=\"T_0be8c_row16_col1\" class=\"data row16 col1\" >60</td>\n",
       "    </tr>\n",
       "    <tr>\n",
       "      <th id=\"T_0be8c_level0_row17\" class=\"row_heading level0 row17\" >17</th>\n",
       "      <td id=\"T_0be8c_row17_col0\" class=\"data row17 col0\" >Seasonal Period(s) Tested</td>\n",
       "      <td id=\"T_0be8c_row17_col1\" class=\"data row17 col1\" >[2, 4]</td>\n",
       "    </tr>\n",
       "    <tr>\n",
       "      <th id=\"T_0be8c_level0_row18\" class=\"row_heading level0 row18\" >18</th>\n",
       "      <td id=\"T_0be8c_row18_col0\" class=\"data row18 col0\" >Significant Seasonal Period(s)</td>\n",
       "      <td id=\"T_0be8c_row18_col1\" class=\"data row18 col1\" >[2, 4]</td>\n",
       "    </tr>\n",
       "    <tr>\n",
       "      <th id=\"T_0be8c_level0_row19\" class=\"row_heading level0 row19\" >19</th>\n",
       "      <td id=\"T_0be8c_row19_col0\" class=\"data row19 col0\" >Significant Seasonal Period(s) without Harmonics</td>\n",
       "      <td id=\"T_0be8c_row19_col1\" class=\"data row19 col1\" >[4]</td>\n",
       "    </tr>\n",
       "    <tr>\n",
       "      <th id=\"T_0be8c_level0_row20\" class=\"row_heading level0 row20\" >20</th>\n",
       "      <td id=\"T_0be8c_row20_col0\" class=\"data row20 col0\" >Remove Harmonics</td>\n",
       "      <td id=\"T_0be8c_row20_col1\" class=\"data row20 col1\" >False</td>\n",
       "    </tr>\n",
       "    <tr>\n",
       "      <th id=\"T_0be8c_level0_row21\" class=\"row_heading level0 row21\" >21</th>\n",
       "      <td id=\"T_0be8c_row21_col0\" class=\"data row21 col0\" >Harmonics Order Method</td>\n",
       "      <td id=\"T_0be8c_row21_col1\" class=\"data row21 col1\" >harmonic_max</td>\n",
       "    </tr>\n",
       "    <tr>\n",
       "      <th id=\"T_0be8c_level0_row22\" class=\"row_heading level0 row22\" >22</th>\n",
       "      <td id=\"T_0be8c_row22_col0\" class=\"data row22 col0\" >Num Seasonalities to Use</td>\n",
       "      <td id=\"T_0be8c_row22_col1\" class=\"data row22 col1\" >1</td>\n",
       "    </tr>\n",
       "    <tr>\n",
       "      <th id=\"T_0be8c_level0_row23\" class=\"row_heading level0 row23\" >23</th>\n",
       "      <td id=\"T_0be8c_row23_col0\" class=\"data row23 col0\" >All Seasonalities to Use</td>\n",
       "      <td id=\"T_0be8c_row23_col1\" class=\"data row23 col1\" >[2]</td>\n",
       "    </tr>\n",
       "    <tr>\n",
       "      <th id=\"T_0be8c_level0_row24\" class=\"row_heading level0 row24\" >24</th>\n",
       "      <td id=\"T_0be8c_row24_col0\" class=\"data row24 col0\" >Primary Seasonality</td>\n",
       "      <td id=\"T_0be8c_row24_col1\" class=\"data row24 col1\" >2</td>\n",
       "    </tr>\n",
       "    <tr>\n",
       "      <th id=\"T_0be8c_level0_row25\" class=\"row_heading level0 row25\" >25</th>\n",
       "      <td id=\"T_0be8c_row25_col0\" class=\"data row25 col0\" >Seasonality Present</td>\n",
       "      <td id=\"T_0be8c_row25_col1\" class=\"data row25 col1\" >True</td>\n",
       "    </tr>\n",
       "    <tr>\n",
       "      <th id=\"T_0be8c_level0_row26\" class=\"row_heading level0 row26\" >26</th>\n",
       "      <td id=\"T_0be8c_row26_col0\" class=\"data row26 col0\" >Seasonality Type</td>\n",
       "      <td id=\"T_0be8c_row26_col1\" class=\"data row26 col1\" >mul</td>\n",
       "    </tr>\n",
       "    <tr>\n",
       "      <th id=\"T_0be8c_level0_row27\" class=\"row_heading level0 row27\" >27</th>\n",
       "      <td id=\"T_0be8c_row27_col0\" class=\"data row27 col0\" >Target Strictly Positive</td>\n",
       "      <td id=\"T_0be8c_row27_col1\" class=\"data row27 col1\" >True</td>\n",
       "    </tr>\n",
       "    <tr>\n",
       "      <th id=\"T_0be8c_level0_row28\" class=\"row_heading level0 row28\" >28</th>\n",
       "      <td id=\"T_0be8c_row28_col0\" class=\"data row28 col0\" >Target White Noise</td>\n",
       "      <td id=\"T_0be8c_row28_col1\" class=\"data row28 col1\" >No</td>\n",
       "    </tr>\n",
       "    <tr>\n",
       "      <th id=\"T_0be8c_level0_row29\" class=\"row_heading level0 row29\" >29</th>\n",
       "      <td id=\"T_0be8c_row29_col0\" class=\"data row29 col0\" >Recommended d</td>\n",
       "      <td id=\"T_0be8c_row29_col1\" class=\"data row29 col1\" >1</td>\n",
       "    </tr>\n",
       "    <tr>\n",
       "      <th id=\"T_0be8c_level0_row30\" class=\"row_heading level0 row30\" >30</th>\n",
       "      <td id=\"T_0be8c_row30_col0\" class=\"data row30 col0\" >Recommended Seasonal D</td>\n",
       "      <td id=\"T_0be8c_row30_col1\" class=\"data row30 col1\" >2</td>\n",
       "    </tr>\n",
       "    <tr>\n",
       "      <th id=\"T_0be8c_level0_row31\" class=\"row_heading level0 row31\" >31</th>\n",
       "      <td id=\"T_0be8c_row31_col0\" class=\"data row31 col0\" >Preprocess</td>\n",
       "      <td id=\"T_0be8c_row31_col1\" class=\"data row31 col1\" >False</td>\n",
       "    </tr>\n",
       "    <tr>\n",
       "      <th id=\"T_0be8c_level0_row32\" class=\"row_heading level0 row32\" >32</th>\n",
       "      <td id=\"T_0be8c_row32_col0\" class=\"data row32 col0\" >CPU Jobs</td>\n",
       "      <td id=\"T_0be8c_row32_col1\" class=\"data row32 col1\" >-1</td>\n",
       "    </tr>\n",
       "    <tr>\n",
       "      <th id=\"T_0be8c_level0_row33\" class=\"row_heading level0 row33\" >33</th>\n",
       "      <td id=\"T_0be8c_row33_col0\" class=\"data row33 col0\" >Use GPU</td>\n",
       "      <td id=\"T_0be8c_row33_col1\" class=\"data row33 col1\" >False</td>\n",
       "    </tr>\n",
       "    <tr>\n",
       "      <th id=\"T_0be8c_level0_row34\" class=\"row_heading level0 row34\" >34</th>\n",
       "      <td id=\"T_0be8c_row34_col0\" class=\"data row34 col0\" >Log Experiment</td>\n",
       "      <td id=\"T_0be8c_row34_col1\" class=\"data row34 col1\" >False</td>\n",
       "    </tr>\n",
       "    <tr>\n",
       "      <th id=\"T_0be8c_level0_row35\" class=\"row_heading level0 row35\" >35</th>\n",
       "      <td id=\"T_0be8c_row35_col0\" class=\"data row35 col0\" >Experiment Name</td>\n",
       "      <td id=\"T_0be8c_row35_col1\" class=\"data row35 col1\" >ts-default-name</td>\n",
       "    </tr>\n",
       "    <tr>\n",
       "      <th id=\"T_0be8c_level0_row36\" class=\"row_heading level0 row36\" >36</th>\n",
       "      <td id=\"T_0be8c_row36_col0\" class=\"data row36 col0\" >USI</td>\n",
       "      <td id=\"T_0be8c_row36_col1\" class=\"data row36 col1\" >6414</td>\n",
       "    </tr>\n",
       "  </tbody>\n",
       "</table>\n"
      ],
      "text/plain": [
       "<pandas.io.formats.style.Styler at 0x176f5c970>"
      ]
     },
     "metadata": {},
     "output_type": "display_data"
    }
   ],
   "source": [
    "# setup\n",
    "# differences = explicitly specifying seasonal periods, inclusion of the engineered features\n",
    "exp = setup(\n",
    "    data=df_forecast,\n",
    "    target='Unemployment_Rate',\n",
    "    fh=6,\n",
    "    session_id=123,\n",
    "    seasonal_period=[2, 4]\n",
    ")"
   ]
  },
  {
   "cell_type": "markdown",
   "metadata": {},
   "source": [
    "### statistics"
   ]
  },
  {
   "cell_type": "code",
   "execution_count": 396,
   "metadata": {},
   "outputs": [
    {
     "data": {
      "text/html": [
       "<div>\n",
       "<style scoped>\n",
       "    .dataframe tbody tr th:only-of-type {\n",
       "        vertical-align: middle;\n",
       "    }\n",
       "\n",
       "    .dataframe tbody tr th {\n",
       "        vertical-align: top;\n",
       "    }\n",
       "\n",
       "    .dataframe thead th {\n",
       "        text-align: right;\n",
       "    }\n",
       "</style>\n",
       "<table border=\"1\" class=\"dataframe\">\n",
       "  <thead>\n",
       "    <tr style=\"text-align: right;\">\n",
       "      <th></th>\n",
       "      <th>Test</th>\n",
       "      <th>Test Name</th>\n",
       "      <th>Data</th>\n",
       "      <th>Property</th>\n",
       "      <th>Setting</th>\n",
       "      <th>Value</th>\n",
       "    </tr>\n",
       "  </thead>\n",
       "  <tbody>\n",
       "    <tr>\n",
       "      <th>0</th>\n",
       "      <td>Summary</td>\n",
       "      <td>Statistics</td>\n",
       "      <td>Transformed</td>\n",
       "      <td>Length</td>\n",
       "      <td></td>\n",
       "      <td>31.0</td>\n",
       "    </tr>\n",
       "    <tr>\n",
       "      <th>1</th>\n",
       "      <td>Summary</td>\n",
       "      <td>Statistics</td>\n",
       "      <td>Transformed</td>\n",
       "      <td># Missing Values</td>\n",
       "      <td></td>\n",
       "      <td>0.0</td>\n",
       "    </tr>\n",
       "    <tr>\n",
       "      <th>2</th>\n",
       "      <td>Summary</td>\n",
       "      <td>Statistics</td>\n",
       "      <td>Transformed</td>\n",
       "      <td>Mean</td>\n",
       "      <td></td>\n",
       "      <td>14.299465</td>\n",
       "    </tr>\n",
       "    <tr>\n",
       "      <th>3</th>\n",
       "      <td>Summary</td>\n",
       "      <td>Statistics</td>\n",
       "      <td>Transformed</td>\n",
       "      <td>Median</td>\n",
       "      <td></td>\n",
       "      <td>14.186109</td>\n",
       "    </tr>\n",
       "    <tr>\n",
       "      <th>4</th>\n",
       "      <td>Summary</td>\n",
       "      <td>Statistics</td>\n",
       "      <td>Transformed</td>\n",
       "      <td>Standard Deviation</td>\n",
       "      <td></td>\n",
       "      <td>1.57381</td>\n",
       "    </tr>\n",
       "    <tr>\n",
       "      <th>5</th>\n",
       "      <td>Summary</td>\n",
       "      <td>Statistics</td>\n",
       "      <td>Transformed</td>\n",
       "      <td>Variance</td>\n",
       "      <td></td>\n",
       "      <td>2.476878</td>\n",
       "    </tr>\n",
       "    <tr>\n",
       "      <th>6</th>\n",
       "      <td>Summary</td>\n",
       "      <td>Statistics</td>\n",
       "      <td>Transformed</td>\n",
       "      <td>Kurtosis</td>\n",
       "      <td></td>\n",
       "      <td>-1.08518</td>\n",
       "    </tr>\n",
       "    <tr>\n",
       "      <th>7</th>\n",
       "      <td>Summary</td>\n",
       "      <td>Statistics</td>\n",
       "      <td>Transformed</td>\n",
       "      <td>Skewness</td>\n",
       "      <td></td>\n",
       "      <td>0.147363</td>\n",
       "    </tr>\n",
       "    <tr>\n",
       "      <th>8</th>\n",
       "      <td>Summary</td>\n",
       "      <td>Statistics</td>\n",
       "      <td>Transformed</td>\n",
       "      <td># Distinct Values</td>\n",
       "      <td></td>\n",
       "      <td>31.0</td>\n",
       "    </tr>\n",
       "    <tr>\n",
       "      <th>9</th>\n",
       "      <td>White Noise</td>\n",
       "      <td>Ljung-Box</td>\n",
       "      <td>Transformed</td>\n",
       "      <td>Test Statictic</td>\n",
       "      <td>{'alpha': 0.05, 'K': 24}</td>\n",
       "      <td>68.079361</td>\n",
       "    </tr>\n",
       "    <tr>\n",
       "      <th>10</th>\n",
       "      <td>White Noise</td>\n",
       "      <td>Ljung-Box</td>\n",
       "      <td>Transformed</td>\n",
       "      <td>p-value</td>\n",
       "      <td>{'alpha': 0.05, 'K': 24}</td>\n",
       "      <td>0.000004</td>\n",
       "    </tr>\n",
       "    <tr>\n",
       "      <th>11</th>\n",
       "      <td>White Noise</td>\n",
       "      <td>Ljung-Box</td>\n",
       "      <td>Transformed</td>\n",
       "      <td>White Noise</td>\n",
       "      <td>{'alpha': 0.05, 'K': 24}</td>\n",
       "      <td>0.0</td>\n",
       "    </tr>\n",
       "    <tr>\n",
       "      <th>12</th>\n",
       "      <td>Stationarity</td>\n",
       "      <td>ADF</td>\n",
       "      <td>Transformed</td>\n",
       "      <td>Stationarity</td>\n",
       "      <td>{'alpha': 0.05}</td>\n",
       "      <td>False</td>\n",
       "    </tr>\n",
       "    <tr>\n",
       "      <th>13</th>\n",
       "      <td>Stationarity</td>\n",
       "      <td>ADF</td>\n",
       "      <td>Transformed</td>\n",
       "      <td>p-value</td>\n",
       "      <td>{'alpha': 0.05}</td>\n",
       "      <td>0.297107</td>\n",
       "    </tr>\n",
       "    <tr>\n",
       "      <th>14</th>\n",
       "      <td>Stationarity</td>\n",
       "      <td>ADF</td>\n",
       "      <td>Transformed</td>\n",
       "      <td>Test Statistic</td>\n",
       "      <td>{'alpha': 0.05}</td>\n",
       "      <td>-1.976196</td>\n",
       "    </tr>\n",
       "    <tr>\n",
       "      <th>15</th>\n",
       "      <td>Stationarity</td>\n",
       "      <td>ADF</td>\n",
       "      <td>Transformed</td>\n",
       "      <td>Critical Value 1%</td>\n",
       "      <td>{'alpha': 0.05}</td>\n",
       "      <td>-3.688926</td>\n",
       "    </tr>\n",
       "    <tr>\n",
       "      <th>16</th>\n",
       "      <td>Stationarity</td>\n",
       "      <td>ADF</td>\n",
       "      <td>Transformed</td>\n",
       "      <td>Critical Value 5%</td>\n",
       "      <td>{'alpha': 0.05}</td>\n",
       "      <td>-2.971989</td>\n",
       "    </tr>\n",
       "    <tr>\n",
       "      <th>17</th>\n",
       "      <td>Stationarity</td>\n",
       "      <td>ADF</td>\n",
       "      <td>Transformed</td>\n",
       "      <td>Critical Value 10%</td>\n",
       "      <td>{'alpha': 0.05}</td>\n",
       "      <td>-2.625296</td>\n",
       "    </tr>\n",
       "    <tr>\n",
       "      <th>18</th>\n",
       "      <td>Stationarity</td>\n",
       "      <td>KPSS</td>\n",
       "      <td>Transformed</td>\n",
       "      <td>Trend Stationarity</td>\n",
       "      <td>{'alpha': 0.05}</td>\n",
       "      <td>True</td>\n",
       "    </tr>\n",
       "    <tr>\n",
       "      <th>19</th>\n",
       "      <td>Stationarity</td>\n",
       "      <td>KPSS</td>\n",
       "      <td>Transformed</td>\n",
       "      <td>p-value</td>\n",
       "      <td>{'alpha': 0.05}</td>\n",
       "      <td>0.092408</td>\n",
       "    </tr>\n",
       "    <tr>\n",
       "      <th>20</th>\n",
       "      <td>Stationarity</td>\n",
       "      <td>KPSS</td>\n",
       "      <td>Transformed</td>\n",
       "      <td>Test Statistic</td>\n",
       "      <td>{'alpha': 0.05}</td>\n",
       "      <td>0.1231</td>\n",
       "    </tr>\n",
       "    <tr>\n",
       "      <th>21</th>\n",
       "      <td>Stationarity</td>\n",
       "      <td>KPSS</td>\n",
       "      <td>Transformed</td>\n",
       "      <td>Critical Value 10%</td>\n",
       "      <td>{'alpha': 0.05}</td>\n",
       "      <td>0.119</td>\n",
       "    </tr>\n",
       "    <tr>\n",
       "      <th>22</th>\n",
       "      <td>Stationarity</td>\n",
       "      <td>KPSS</td>\n",
       "      <td>Transformed</td>\n",
       "      <td>Critical Value 5%</td>\n",
       "      <td>{'alpha': 0.05}</td>\n",
       "      <td>0.146</td>\n",
       "    </tr>\n",
       "    <tr>\n",
       "      <th>23</th>\n",
       "      <td>Stationarity</td>\n",
       "      <td>KPSS</td>\n",
       "      <td>Transformed</td>\n",
       "      <td>Critical Value 2.5%</td>\n",
       "      <td>{'alpha': 0.05}</td>\n",
       "      <td>0.176</td>\n",
       "    </tr>\n",
       "    <tr>\n",
       "      <th>24</th>\n",
       "      <td>Stationarity</td>\n",
       "      <td>KPSS</td>\n",
       "      <td>Transformed</td>\n",
       "      <td>Critical Value 1%</td>\n",
       "      <td>{'alpha': 0.05}</td>\n",
       "      <td>0.216</td>\n",
       "    </tr>\n",
       "    <tr>\n",
       "      <th>25</th>\n",
       "      <td>Normality</td>\n",
       "      <td>Shapiro</td>\n",
       "      <td>Transformed</td>\n",
       "      <td>Normality</td>\n",
       "      <td>{'alpha': 0.05}</td>\n",
       "      <td>True</td>\n",
       "    </tr>\n",
       "    <tr>\n",
       "      <th>26</th>\n",
       "      <td>Normality</td>\n",
       "      <td>Shapiro</td>\n",
       "      <td>Transformed</td>\n",
       "      <td>p-value</td>\n",
       "      <td>{'alpha': 0.05}</td>\n",
       "      <td>0.186699</td>\n",
       "    </tr>\n",
       "  </tbody>\n",
       "</table>\n",
       "</div>"
      ],
      "text/plain": [
       "            Test   Test Name         Data             Property  \\\n",
       "0        Summary  Statistics  Transformed               Length   \n",
       "1        Summary  Statistics  Transformed     # Missing Values   \n",
       "2        Summary  Statistics  Transformed                 Mean   \n",
       "3        Summary  Statistics  Transformed               Median   \n",
       "4        Summary  Statistics  Transformed   Standard Deviation   \n",
       "5        Summary  Statistics  Transformed             Variance   \n",
       "6        Summary  Statistics  Transformed             Kurtosis   \n",
       "7        Summary  Statistics  Transformed             Skewness   \n",
       "8        Summary  Statistics  Transformed    # Distinct Values   \n",
       "9    White Noise   Ljung-Box  Transformed       Test Statictic   \n",
       "10   White Noise   Ljung-Box  Transformed              p-value   \n",
       "11   White Noise   Ljung-Box  Transformed          White Noise   \n",
       "12  Stationarity         ADF  Transformed         Stationarity   \n",
       "13  Stationarity         ADF  Transformed              p-value   \n",
       "14  Stationarity         ADF  Transformed       Test Statistic   \n",
       "15  Stationarity         ADF  Transformed    Critical Value 1%   \n",
       "16  Stationarity         ADF  Transformed    Critical Value 5%   \n",
       "17  Stationarity         ADF  Transformed   Critical Value 10%   \n",
       "18  Stationarity        KPSS  Transformed   Trend Stationarity   \n",
       "19  Stationarity        KPSS  Transformed              p-value   \n",
       "20  Stationarity        KPSS  Transformed       Test Statistic   \n",
       "21  Stationarity        KPSS  Transformed   Critical Value 10%   \n",
       "22  Stationarity        KPSS  Transformed    Critical Value 5%   \n",
       "23  Stationarity        KPSS  Transformed  Critical Value 2.5%   \n",
       "24  Stationarity        KPSS  Transformed    Critical Value 1%   \n",
       "25     Normality     Shapiro  Transformed            Normality   \n",
       "26     Normality     Shapiro  Transformed              p-value   \n",
       "\n",
       "                     Setting      Value  \n",
       "0                                  31.0  \n",
       "1                                   0.0  \n",
       "2                             14.299465  \n",
       "3                             14.186109  \n",
       "4                               1.57381  \n",
       "5                              2.476878  \n",
       "6                              -1.08518  \n",
       "7                              0.147363  \n",
       "8                                  31.0  \n",
       "9   {'alpha': 0.05, 'K': 24}  68.079361  \n",
       "10  {'alpha': 0.05, 'K': 24}   0.000004  \n",
       "11  {'alpha': 0.05, 'K': 24}        0.0  \n",
       "12           {'alpha': 0.05}      False  \n",
       "13           {'alpha': 0.05}   0.297107  \n",
       "14           {'alpha': 0.05}  -1.976196  \n",
       "15           {'alpha': 0.05}  -3.688926  \n",
       "16           {'alpha': 0.05}  -2.971989  \n",
       "17           {'alpha': 0.05}  -2.625296  \n",
       "18           {'alpha': 0.05}       True  \n",
       "19           {'alpha': 0.05}   0.092408  \n",
       "20           {'alpha': 0.05}     0.1231  \n",
       "21           {'alpha': 0.05}      0.119  \n",
       "22           {'alpha': 0.05}      0.146  \n",
       "23           {'alpha': 0.05}      0.176  \n",
       "24           {'alpha': 0.05}      0.216  \n",
       "25           {'alpha': 0.05}       True  \n",
       "26           {'alpha': 0.05}   0.186699  "
      ]
     },
     "execution_count": 396,
     "metadata": {},
     "output_type": "execute_result"
    }
   ],
   "source": [
    "check_stats()"
   ]
  },
  {
   "cell_type": "markdown",
   "metadata": {},
   "source": [
    "### model comparisons"
   ]
  },
  {
   "cell_type": "code",
   "execution_count": 397,
   "metadata": {},
   "outputs": [
    {
     "data": {
      "text/html": [],
      "text/plain": [
       "<IPython.core.display.HTML object>"
      ]
     },
     "metadata": {},
     "output_type": "display_data"
    },
    {
     "data": {
      "text/html": [
       "<style type=\"text/css\">\n",
       "#T_3517a th {\n",
       "  text-align: left;\n",
       "}\n",
       "#T_3517a_row0_col0, #T_3517a_row1_col0, #T_3517a_row1_col1, #T_3517a_row1_col2, #T_3517a_row1_col3, #T_3517a_row1_col4, #T_3517a_row1_col5, #T_3517a_row1_col6, #T_3517a_row1_col7, #T_3517a_row2_col0, #T_3517a_row2_col1, #T_3517a_row2_col2, #T_3517a_row2_col3, #T_3517a_row2_col4, #T_3517a_row2_col5, #T_3517a_row2_col6, #T_3517a_row2_col7, #T_3517a_row3_col0, #T_3517a_row3_col1, #T_3517a_row3_col2, #T_3517a_row3_col3, #T_3517a_row3_col4, #T_3517a_row3_col5, #T_3517a_row3_col6, #T_3517a_row3_col7, #T_3517a_row4_col0, #T_3517a_row4_col1, #T_3517a_row4_col2, #T_3517a_row4_col3, #T_3517a_row4_col4, #T_3517a_row4_col5, #T_3517a_row4_col6, #T_3517a_row4_col7, #T_3517a_row5_col0, #T_3517a_row5_col1, #T_3517a_row5_col2, #T_3517a_row5_col3, #T_3517a_row5_col4, #T_3517a_row5_col5, #T_3517a_row5_col6, #T_3517a_row5_col7, #T_3517a_row6_col0, #T_3517a_row6_col1, #T_3517a_row6_col2, #T_3517a_row6_col3, #T_3517a_row6_col4, #T_3517a_row6_col5, #T_3517a_row6_col6, #T_3517a_row6_col7, #T_3517a_row7_col0, #T_3517a_row7_col1, #T_3517a_row7_col2, #T_3517a_row7_col3, #T_3517a_row7_col4, #T_3517a_row7_col5, #T_3517a_row7_col6, #T_3517a_row7_col7, #T_3517a_row8_col0, #T_3517a_row8_col1, #T_3517a_row8_col2, #T_3517a_row8_col3, #T_3517a_row8_col4, #T_3517a_row8_col5, #T_3517a_row8_col6, #T_3517a_row8_col7, #T_3517a_row9_col0, #T_3517a_row9_col1, #T_3517a_row9_col2, #T_3517a_row9_col3, #T_3517a_row9_col4, #T_3517a_row9_col5, #T_3517a_row9_col6, #T_3517a_row9_col7, #T_3517a_row10_col0, #T_3517a_row10_col1, #T_3517a_row10_col2, #T_3517a_row10_col3, #T_3517a_row10_col4, #T_3517a_row10_col5, #T_3517a_row10_col6, #T_3517a_row10_col7, #T_3517a_row11_col0, #T_3517a_row11_col1, #T_3517a_row11_col2, #T_3517a_row11_col3, #T_3517a_row11_col4, #T_3517a_row11_col5, #T_3517a_row11_col6, #T_3517a_row11_col7, #T_3517a_row12_col0, #T_3517a_row12_col1, #T_3517a_row12_col2, #T_3517a_row12_col3, #T_3517a_row12_col4, #T_3517a_row12_col5, #T_3517a_row12_col6, #T_3517a_row12_col7, #T_3517a_row13_col0, #T_3517a_row13_col1, #T_3517a_row13_col2, #T_3517a_row13_col3, #T_3517a_row13_col4, #T_3517a_row13_col5, #T_3517a_row13_col6, #T_3517a_row13_col7, #T_3517a_row14_col0, #T_3517a_row14_col1, #T_3517a_row14_col2, #T_3517a_row14_col3, #T_3517a_row14_col4, #T_3517a_row14_col5, #T_3517a_row14_col6, #T_3517a_row14_col7, #T_3517a_row15_col0, #T_3517a_row15_col1, #T_3517a_row15_col2, #T_3517a_row15_col3, #T_3517a_row15_col4, #T_3517a_row15_col5, #T_3517a_row15_col6, #T_3517a_row15_col7 {\n",
       "  text-align: left;\n",
       "}\n",
       "#T_3517a_row0_col1, #T_3517a_row0_col2, #T_3517a_row0_col3, #T_3517a_row0_col4, #T_3517a_row0_col5, #T_3517a_row0_col6, #T_3517a_row0_col7 {\n",
       "  text-align: left;\n",
       "  background-color: yellow;\n",
       "}\n",
       "#T_3517a_row0_col8, #T_3517a_row1_col8, #T_3517a_row2_col8, #T_3517a_row3_col8, #T_3517a_row4_col8, #T_3517a_row5_col8, #T_3517a_row6_col8, #T_3517a_row7_col8, #T_3517a_row8_col8, #T_3517a_row9_col8, #T_3517a_row10_col8, #T_3517a_row11_col8, #T_3517a_row12_col8, #T_3517a_row13_col8, #T_3517a_row15_col8 {\n",
       "  text-align: left;\n",
       "  background-color: lightgrey;\n",
       "}\n",
       "#T_3517a_row14_col8 {\n",
       "  text-align: left;\n",
       "  background-color: yellow;\n",
       "  background-color: lightgrey;\n",
       "}\n",
       "</style>\n",
       "<table id=\"T_3517a\">\n",
       "  <thead>\n",
       "    <tr>\n",
       "      <th class=\"blank level0\" >&nbsp;</th>\n",
       "      <th id=\"T_3517a_level0_col0\" class=\"col_heading level0 col0\" >Model</th>\n",
       "      <th id=\"T_3517a_level0_col1\" class=\"col_heading level0 col1\" >MASE</th>\n",
       "      <th id=\"T_3517a_level0_col2\" class=\"col_heading level0 col2\" >RMSSE</th>\n",
       "      <th id=\"T_3517a_level0_col3\" class=\"col_heading level0 col3\" >MAE</th>\n",
       "      <th id=\"T_3517a_level0_col4\" class=\"col_heading level0 col4\" >RMSE</th>\n",
       "      <th id=\"T_3517a_level0_col5\" class=\"col_heading level0 col5\" >MAPE</th>\n",
       "      <th id=\"T_3517a_level0_col6\" class=\"col_heading level0 col6\" >SMAPE</th>\n",
       "      <th id=\"T_3517a_level0_col7\" class=\"col_heading level0 col7\" >R2</th>\n",
       "      <th id=\"T_3517a_level0_col8\" class=\"col_heading level0 col8\" >TT (Sec)</th>\n",
       "    </tr>\n",
       "  </thead>\n",
       "  <tbody>\n",
       "    <tr>\n",
       "      <th id=\"T_3517a_level0_row0\" class=\"row_heading level0 row0\" >et_cds_dt</th>\n",
       "      <td id=\"T_3517a_row0_col0\" class=\"data row0 col0\" >Extra Trees w/ Cond. Deseasonalize & Detrending</td>\n",
       "      <td id=\"T_3517a_row0_col1\" class=\"data row0 col1\" >0.8726</td>\n",
       "      <td id=\"T_3517a_row0_col2\" class=\"data row0 col2\" >0.9339</td>\n",
       "      <td id=\"T_3517a_row0_col3\" class=\"data row0 col3\" >1.1416</td>\n",
       "      <td id=\"T_3517a_row0_col4\" class=\"data row0 col4\" >1.3724</td>\n",
       "      <td id=\"T_3517a_row0_col5\" class=\"data row0 col5\" >0.0780</td>\n",
       "      <td id=\"T_3517a_row0_col6\" class=\"data row0 col6\" >0.0817</td>\n",
       "      <td id=\"T_3517a_row0_col7\" class=\"data row0 col7\" >-0.2018</td>\n",
       "      <td id=\"T_3517a_row0_col8\" class=\"data row0 col8\" >0.0867</td>\n",
       "    </tr>\n",
       "    <tr>\n",
       "      <th id=\"T_3517a_level0_row1\" class=\"row_heading level0 row1\" >omp_cds_dt</th>\n",
       "      <td id=\"T_3517a_row1_col0\" class=\"data row1 col0\" >Orthogonal Matching Pursuit w/ Cond. Deseasonalize & Detrending</td>\n",
       "      <td id=\"T_3517a_row1_col1\" class=\"data row1 col1\" >0.8839</td>\n",
       "      <td id=\"T_3517a_row1_col2\" class=\"data row1 col2\" >0.9887</td>\n",
       "      <td id=\"T_3517a_row1_col3\" class=\"data row1 col3\" >1.1541</td>\n",
       "      <td id=\"T_3517a_row1_col4\" class=\"data row1 col4\" >1.4532</td>\n",
       "      <td id=\"T_3517a_row1_col5\" class=\"data row1 col5\" >0.0791</td>\n",
       "      <td id=\"T_3517a_row1_col6\" class=\"data row1 col6\" >0.0822</td>\n",
       "      <td id=\"T_3517a_row1_col7\" class=\"data row1 col7\" >-0.2562</td>\n",
       "      <td id=\"T_3517a_row1_col8\" class=\"data row1 col8\" >0.0667</td>\n",
       "    </tr>\n",
       "    <tr>\n",
       "      <th id=\"T_3517a_level0_row2\" class=\"row_heading level0 row2\" >ridge_cds_dt</th>\n",
       "      <td id=\"T_3517a_row2_col0\" class=\"data row2 col0\" >Ridge w/ Cond. Deseasonalize & Detrending</td>\n",
       "      <td id=\"T_3517a_row2_col1\" class=\"data row2 col1\" >0.8945</td>\n",
       "      <td id=\"T_3517a_row2_col2\" class=\"data row2 col2\" >0.9805</td>\n",
       "      <td id=\"T_3517a_row2_col3\" class=\"data row2 col3\" >1.1792</td>\n",
       "      <td id=\"T_3517a_row2_col4\" class=\"data row2 col4\" >1.4487</td>\n",
       "      <td id=\"T_3517a_row2_col5\" class=\"data row2 col5\" >0.0824</td>\n",
       "      <td id=\"T_3517a_row2_col6\" class=\"data row2 col6\" >0.0835</td>\n",
       "      <td id=\"T_3517a_row2_col7\" class=\"data row2 col7\" >-0.2570</td>\n",
       "      <td id=\"T_3517a_row2_col8\" class=\"data row2 col8\" >0.0733</td>\n",
       "    </tr>\n",
       "    <tr>\n",
       "      <th id=\"T_3517a_level0_row3\" class=\"row_heading level0 row3\" >en_cds_dt</th>\n",
       "      <td id=\"T_3517a_row3_col0\" class=\"data row3 col0\" >Elastic Net w/ Cond. Deseasonalize & Detrending</td>\n",
       "      <td id=\"T_3517a_row3_col1\" class=\"data row3 col1\" >0.9207</td>\n",
       "      <td id=\"T_3517a_row3_col2\" class=\"data row3 col2\" >1.0103</td>\n",
       "      <td id=\"T_3517a_row3_col3\" class=\"data row3 col3\" >1.2113</td>\n",
       "      <td id=\"T_3517a_row3_col4\" class=\"data row3 col4\" >1.4836</td>\n",
       "      <td id=\"T_3517a_row3_col5\" class=\"data row3 col5\" >0.0827</td>\n",
       "      <td id=\"T_3517a_row3_col6\" class=\"data row3 col6\" >0.0869</td>\n",
       "      <td id=\"T_3517a_row3_col7\" class=\"data row3 col7\" >-0.3235</td>\n",
       "      <td id=\"T_3517a_row3_col8\" class=\"data row3 col8\" >0.0867</td>\n",
       "    </tr>\n",
       "    <tr>\n",
       "      <th id=\"T_3517a_level0_row4\" class=\"row_heading level0 row4\" >lasso_cds_dt</th>\n",
       "      <td id=\"T_3517a_row4_col0\" class=\"data row4 col0\" >Lasso w/ Cond. Deseasonalize & Detrending</td>\n",
       "      <td id=\"T_3517a_row4_col1\" class=\"data row4 col1\" >0.9207</td>\n",
       "      <td id=\"T_3517a_row4_col2\" class=\"data row4 col2\" >1.0103</td>\n",
       "      <td id=\"T_3517a_row4_col3\" class=\"data row4 col3\" >1.2113</td>\n",
       "      <td id=\"T_3517a_row4_col4\" class=\"data row4 col4\" >1.4836</td>\n",
       "      <td id=\"T_3517a_row4_col5\" class=\"data row4 col5\" >0.0827</td>\n",
       "      <td id=\"T_3517a_row4_col6\" class=\"data row4 col6\" >0.0869</td>\n",
       "      <td id=\"T_3517a_row4_col7\" class=\"data row4 col7\" >-0.3235</td>\n",
       "      <td id=\"T_3517a_row4_col8\" class=\"data row4 col8\" >0.0767</td>\n",
       "    </tr>\n",
       "    <tr>\n",
       "      <th id=\"T_3517a_level0_row5\" class=\"row_heading level0 row5\" >llar_cds_dt</th>\n",
       "      <td id=\"T_3517a_row5_col0\" class=\"data row5 col0\" >Lasso Least Angular Regressor w/ Cond. Deseasonalize & Detrending</td>\n",
       "      <td id=\"T_3517a_row5_col1\" class=\"data row5 col1\" >0.9207</td>\n",
       "      <td id=\"T_3517a_row5_col2\" class=\"data row5 col2\" >1.0103</td>\n",
       "      <td id=\"T_3517a_row5_col3\" class=\"data row5 col3\" >1.2113</td>\n",
       "      <td id=\"T_3517a_row5_col4\" class=\"data row5 col4\" >1.4836</td>\n",
       "      <td id=\"T_3517a_row5_col5\" class=\"data row5 col5\" >0.0827</td>\n",
       "      <td id=\"T_3517a_row5_col6\" class=\"data row5 col6\" >0.0869</td>\n",
       "      <td id=\"T_3517a_row5_col7\" class=\"data row5 col7\" >-0.3235</td>\n",
       "      <td id=\"T_3517a_row5_col8\" class=\"data row5 col8\" >0.0567</td>\n",
       "    </tr>\n",
       "    <tr>\n",
       "      <th id=\"T_3517a_level0_row6\" class=\"row_heading level0 row6\" >lightgbm_cds_dt</th>\n",
       "      <td id=\"T_3517a_row6_col0\" class=\"data row6 col0\" >Light Gradient Boosting w/ Cond. Deseasonalize & Detrending</td>\n",
       "      <td id=\"T_3517a_row6_col1\" class=\"data row6 col1\" >0.9207</td>\n",
       "      <td id=\"T_3517a_row6_col2\" class=\"data row6 col2\" >1.0103</td>\n",
       "      <td id=\"T_3517a_row6_col3\" class=\"data row6 col3\" >1.2113</td>\n",
       "      <td id=\"T_3517a_row6_col4\" class=\"data row6 col4\" >1.4836</td>\n",
       "      <td id=\"T_3517a_row6_col5\" class=\"data row6 col5\" >0.0827</td>\n",
       "      <td id=\"T_3517a_row6_col6\" class=\"data row6 col6\" >0.0869</td>\n",
       "      <td id=\"T_3517a_row6_col7\" class=\"data row6 col7\" >-0.3235</td>\n",
       "      <td id=\"T_3517a_row6_col8\" class=\"data row6 col8\" >0.0533</td>\n",
       "    </tr>\n",
       "    <tr>\n",
       "      <th id=\"T_3517a_level0_row7\" class=\"row_heading level0 row7\" >dt_cds_dt</th>\n",
       "      <td id=\"T_3517a_row7_col0\" class=\"data row7 col0\" >Decision Tree w/ Cond. Deseasonalize & Detrending</td>\n",
       "      <td id=\"T_3517a_row7_col1\" class=\"data row7 col1\" >0.9411</td>\n",
       "      <td id=\"T_3517a_row7_col2\" class=\"data row7 col2\" >1.0412</td>\n",
       "      <td id=\"T_3517a_row7_col3\" class=\"data row7 col3\" >1.2028</td>\n",
       "      <td id=\"T_3517a_row7_col4\" class=\"data row7 col4\" >1.5100</td>\n",
       "      <td id=\"T_3517a_row7_col5\" class=\"data row7 col5\" >0.0822</td>\n",
       "      <td id=\"T_3517a_row7_col6\" class=\"data row7 col6\" >0.0848</td>\n",
       "      <td id=\"T_3517a_row7_col7\" class=\"data row7 col7\" >-0.3459</td>\n",
       "      <td id=\"T_3517a_row7_col8\" class=\"data row7 col8\" >0.0433</td>\n",
       "    </tr>\n",
       "    <tr>\n",
       "      <th id=\"T_3517a_level0_row8\" class=\"row_heading level0 row8\" >rf_cds_dt</th>\n",
       "      <td id=\"T_3517a_row8_col0\" class=\"data row8 col0\" >Random Forest w/ Cond. Deseasonalize & Detrending</td>\n",
       "      <td id=\"T_3517a_row8_col1\" class=\"data row8 col1\" >0.9533</td>\n",
       "      <td id=\"T_3517a_row8_col2\" class=\"data row8 col2\" >1.0171</td>\n",
       "      <td id=\"T_3517a_row8_col3\" class=\"data row8 col3\" >1.2440</td>\n",
       "      <td id=\"T_3517a_row8_col4\" class=\"data row8 col4\" >1.4882</td>\n",
       "      <td id=\"T_3517a_row8_col5\" class=\"data row8 col5\" >0.0852</td>\n",
       "      <td id=\"T_3517a_row8_col6\" class=\"data row8 col6\" >0.0896</td>\n",
       "      <td id=\"T_3517a_row8_col7\" class=\"data row8 col7\" >-0.3517</td>\n",
       "      <td id=\"T_3517a_row8_col8\" class=\"data row8 col8\" >0.1000</td>\n",
       "    </tr>\n",
       "    <tr>\n",
       "      <th id=\"T_3517a_level0_row9\" class=\"row_heading level0 row9\" >knn_cds_dt</th>\n",
       "      <td id=\"T_3517a_row9_col0\" class=\"data row9 col0\" >K Neighbors w/ Cond. Deseasonalize & Detrending</td>\n",
       "      <td id=\"T_3517a_row9_col1\" class=\"data row9 col1\" >0.9810</td>\n",
       "      <td id=\"T_3517a_row9_col2\" class=\"data row9 col2\" >1.0219</td>\n",
       "      <td id=\"T_3517a_row9_col3\" class=\"data row9 col3\" >1.2801</td>\n",
       "      <td id=\"T_3517a_row9_col4\" class=\"data row9 col4\" >1.4987</td>\n",
       "      <td id=\"T_3517a_row9_col5\" class=\"data row9 col5\" >0.0880</td>\n",
       "      <td id=\"T_3517a_row9_col6\" class=\"data row9 col6\" >0.0925</td>\n",
       "      <td id=\"T_3517a_row9_col7\" class=\"data row9 col7\" >-0.3618</td>\n",
       "      <td id=\"T_3517a_row9_col8\" class=\"data row9 col8\" >0.0733</td>\n",
       "    </tr>\n",
       "    <tr>\n",
       "      <th id=\"T_3517a_level0_row10\" class=\"row_heading level0 row10\" >br_cds_dt</th>\n",
       "      <td id=\"T_3517a_row10_col0\" class=\"data row10 col0\" >Bayesian Ridge w/ Cond. Deseasonalize & Detrending</td>\n",
       "      <td id=\"T_3517a_row10_col1\" class=\"data row10 col1\" >0.9907</td>\n",
       "      <td id=\"T_3517a_row10_col2\" class=\"data row10 col2\" >1.0623</td>\n",
       "      <td id=\"T_3517a_row10_col3\" class=\"data row10 col3\" >1.3184</td>\n",
       "      <td id=\"T_3517a_row10_col4\" class=\"data row10 col4\" >1.5710</td>\n",
       "      <td id=\"T_3517a_row10_col5\" class=\"data row10 col5\" >0.0923</td>\n",
       "      <td id=\"T_3517a_row10_col6\" class=\"data row10 col6\" >0.0927</td>\n",
       "      <td id=\"T_3517a_row10_col7\" class=\"data row10 col7\" >-0.5031</td>\n",
       "      <td id=\"T_3517a_row10_col8\" class=\"data row10 col8\" >0.0433</td>\n",
       "    </tr>\n",
       "    <tr>\n",
       "      <th id=\"T_3517a_level0_row11\" class=\"row_heading level0 row11\" >gbr_cds_dt</th>\n",
       "      <td id=\"T_3517a_row11_col0\" class=\"data row11 col0\" >Gradient Boosting w/ Cond. Deseasonalize & Detrending</td>\n",
       "      <td id=\"T_3517a_row11_col1\" class=\"data row11 col1\" >1.0411</td>\n",
       "      <td id=\"T_3517a_row11_col2\" class=\"data row11 col2\" >1.1095</td>\n",
       "      <td id=\"T_3517a_row11_col3\" class=\"data row11 col3\" >1.3442</td>\n",
       "      <td id=\"T_3517a_row11_col4\" class=\"data row11 col4\" >1.6120</td>\n",
       "      <td id=\"T_3517a_row11_col5\" class=\"data row11 col5\" >0.0926</td>\n",
       "      <td id=\"T_3517a_row11_col6\" class=\"data row11 col6\" >0.0963</td>\n",
       "      <td id=\"T_3517a_row11_col7\" class=\"data row11 col7\" >-0.5256</td>\n",
       "      <td id=\"T_3517a_row11_col8\" class=\"data row11 col8\" >0.0433</td>\n",
       "    </tr>\n",
       "    <tr>\n",
       "      <th id=\"T_3517a_level0_row12\" class=\"row_heading level0 row12\" >ada_cds_dt</th>\n",
       "      <td id=\"T_3517a_row12_col0\" class=\"data row12 col0\" >AdaBoost w/ Cond. Deseasonalize & Detrending</td>\n",
       "      <td id=\"T_3517a_row12_col1\" class=\"data row12 col1\" >1.0415</td>\n",
       "      <td id=\"T_3517a_row12_col2\" class=\"data row12 col2\" >1.0984</td>\n",
       "      <td id=\"T_3517a_row12_col3\" class=\"data row12 col3\" >1.3299</td>\n",
       "      <td id=\"T_3517a_row12_col4\" class=\"data row12 col4\" >1.5862</td>\n",
       "      <td id=\"T_3517a_row12_col5\" class=\"data row12 col5\" >0.0933</td>\n",
       "      <td id=\"T_3517a_row12_col6\" class=\"data row12 col6\" >0.0940</td>\n",
       "      <td id=\"T_3517a_row12_col7\" class=\"data row12 col7\" >-0.4947</td>\n",
       "      <td id=\"T_3517a_row12_col8\" class=\"data row12 col8\" >0.0500</td>\n",
       "    </tr>\n",
       "    <tr>\n",
       "      <th id=\"T_3517a_level0_row13\" class=\"row_heading level0 row13\" >arima</th>\n",
       "      <td id=\"T_3517a_row13_col0\" class=\"data row13 col0\" >ARIMA</td>\n",
       "      <td id=\"T_3517a_row13_col1\" class=\"data row13 col1\" >1.1356</td>\n",
       "      <td id=\"T_3517a_row13_col2\" class=\"data row13 col2\" >1.3067</td>\n",
       "      <td id=\"T_3517a_row13_col3\" class=\"data row13 col3\" >1.4905</td>\n",
       "      <td id=\"T_3517a_row13_col4\" class=\"data row13 col4\" >1.9620</td>\n",
       "      <td id=\"T_3517a_row13_col5\" class=\"data row13 col5\" >0.1029</td>\n",
       "      <td id=\"T_3517a_row13_col6\" class=\"data row13 col6\" >0.1133</td>\n",
       "      <td id=\"T_3517a_row13_col7\" class=\"data row13 col7\" >-1.4251</td>\n",
       "      <td id=\"T_3517a_row13_col8\" class=\"data row13 col8\" >0.8933</td>\n",
       "    </tr>\n",
       "    <tr>\n",
       "      <th id=\"T_3517a_level0_row14\" class=\"row_heading level0 row14\" >croston</th>\n",
       "      <td id=\"T_3517a_row14_col0\" class=\"data row14 col0\" >Croston</td>\n",
       "      <td id=\"T_3517a_row14_col1\" class=\"data row14 col1\" >1.3830</td>\n",
       "      <td id=\"T_3517a_row14_col2\" class=\"data row14 col2\" >1.4493</td>\n",
       "      <td id=\"T_3517a_row14_col3\" class=\"data row14 col3\" >1.7338</td>\n",
       "      <td id=\"T_3517a_row14_col4\" class=\"data row14 col4\" >2.0847</td>\n",
       "      <td id=\"T_3517a_row14_col5\" class=\"data row14 col5\" >0.1324</td>\n",
       "      <td id=\"T_3517a_row14_col6\" class=\"data row14 col6\" >0.1205</td>\n",
       "      <td id=\"T_3517a_row14_col7\" class=\"data row14 col7\" >-2.0071</td>\n",
       "      <td id=\"T_3517a_row14_col8\" class=\"data row14 col8\" >0.0233</td>\n",
       "    </tr>\n",
       "    <tr>\n",
       "      <th id=\"T_3517a_level0_row15\" class=\"row_heading level0 row15\" >huber_cds_dt</th>\n",
       "      <td id=\"T_3517a_row15_col0\" class=\"data row15 col0\" >Huber w/ Cond. Deseasonalize & Detrending</td>\n",
       "      <td id=\"T_3517a_row15_col1\" class=\"data row15 col1\" >1.7964</td>\n",
       "      <td id=\"T_3517a_row15_col2\" class=\"data row15 col2\" >2.3043</td>\n",
       "      <td id=\"T_3517a_row15_col3\" class=\"data row15 col3\" >2.2243</td>\n",
       "      <td id=\"T_3517a_row15_col4\" class=\"data row15 col4\" >3.2259</td>\n",
       "      <td id=\"T_3517a_row15_col5\" class=\"data row15 col5\" >0.1553</td>\n",
       "      <td id=\"T_3517a_row15_col6\" class=\"data row15 col6\" >0.1402</td>\n",
       "      <td id=\"T_3517a_row15_col7\" class=\"data row15 col7\" >-12.4106</td>\n",
       "      <td id=\"T_3517a_row15_col8\" class=\"data row15 col8\" >0.0833</td>\n",
       "    </tr>\n",
       "  </tbody>\n",
       "</table>\n"
      ],
      "text/plain": [
       "<pandas.io.formats.style.Styler at 0x177bb5a00>"
      ]
     },
     "metadata": {},
     "output_type": "display_data"
    },
    {
     "data": {
      "text/html": [],
      "text/plain": [
       "<IPython.core.display.HTML object>"
      ]
     },
     "metadata": {},
     "output_type": "display_data"
    }
   ],
   "source": [
    "best_model = compare_models(exclude='lr_cds_dt') \n",
    "# the exclusion of this was purely due to very poor performance on a previous run"
   ]
  },
  {
   "cell_type": "markdown",
   "metadata": {},
   "source": [
    "diagnostics plot"
   ]
  },
  {
   "cell_type": "code",
   "execution_count": 398,
   "metadata": {},
   "outputs": [
    {
     "data": {
      "application/vnd.plotly.v1+json": {
       "config": {
        "plotlyServerURL": "https://plot.ly"
       },
       "data": [
        {
         "line": {
          "color": "rgb(31, 119, 180)",
          "width": 2
         },
         "marker": {
          "color": "rgb(31, 119, 180)",
          "size": 5
         },
         "mode": "lines+markers",
         "name": "Unemployment_Rate (transformed)",
         "showlegend": false,
         "type": "scattergl",
         "x": [
          "2009-07-01T00:00:00",
          "2010-01-01T00:00:00",
          "2010-07-01T00:00:00",
          "2011-01-01T00:00:00",
          "2011-07-01T00:00:00",
          "2012-01-01T00:00:00",
          "2012-07-01T00:00:00",
          "2013-01-01T00:00:00",
          "2013-07-01T00:00:00",
          "2014-01-01T00:00:00",
          "2014-07-01T00:00:00",
          "2015-01-01T00:00:00",
          "2015-07-01T00:00:00",
          "2016-01-01T00:00:00",
          "2016-07-01T00:00:00",
          "2017-01-01T00:00:00",
          "2017-07-01T00:00:00",
          "2018-01-01T00:00:00",
          "2018-07-01T00:00:00",
          "2019-01-01T00:00:00",
          "2019-07-01T00:00:00",
          "2020-01-01T00:00:00",
          "2020-07-01T00:00:00",
          "2021-01-01T00:00:00",
          "2021-07-01T00:00:00",
          "2022-01-01T00:00:00",
          "2022-07-01T00:00:00",
          "2023-01-01T00:00:00",
          "2023-07-01T00:00:00",
          "2024-01-01T00:00:00",
          "2024-07-01T00:00:00"
         ],
         "xaxis": "x",
         "y": [
          17.14238687901972,
          15.775726707916432,
          15.989462347425771,
          16.851591124698285,
          16.717763415603496,
          14.310062356756935,
          14.5723059746109,
          13.3476811958149,
          15.849200216451232,
          12.565402640695696,
          16.084781044581263,
          14.11539724268468,
          16.397679501557164,
          13.548613123951707,
          14.186108713893296,
          11.812189996775132,
          14.866057832702904,
          12.5799081053059,
          14.163591538115917,
          12.020975928692252,
          13.680974319783642,
          12.22887496390804,
          15.862362395833156,
          14.188898876104474,
          15.018407075494991,
          12.948944225299863,
          14.764916741760771,
          12.265233452406,
          14.177533914667926,
          12.378460471546267,
          12.871909126092456
         ],
         "yaxis": "y"
        },
        {
         "hoverinfo": "text",
         "hovertext": [
          "Freq: 0.0323<br>Ampl: 8.967<br>Time period: 31.0",
          "Freq: 0.0645<br>Ampl: 8.6126<br>Time period: 15.5",
          "Freq: 0.0968<br>Ampl: 5.6693<br>Time period: 10.3333",
          "Freq: 0.129<br>Ampl: -4.7733<br>Time period: 7.75",
          "Freq: 0.1613<br>Ampl: 4.7937<br>Time period: 6.2",
          "Freq: 0.1935<br>Ampl: 5.4436<br>Time period: 5.1667",
          "Freq: 0.2258<br>Ampl: 0.9824<br>Time period: 4.4286",
          "Freq: 0.2581<br>Ampl: -6.1128<br>Time period: 3.875",
          "Freq: 0.2903<br>Ampl: -5.3737<br>Time period: 3.4444",
          "Freq: 0.3226<br>Ampl: -1.609<br>Time period: 3.1",
          "Freq: 0.3548<br>Ampl: -2.4919<br>Time period: 2.8182",
          "Freq: 0.3871<br>Ampl: -9.4738<br>Time period: 2.5833",
          "Freq: 0.4194<br>Ampl: -24.7991<br>Time period: 2.3846",
          "Freq: 0.4516<br>Ampl: 6.9923<br>Time period: 2.2143",
          "Freq: 0.4839<br>Ampl: 14.9512<br>Time period: 2.0667"
         ],
         "line": {
          "color": "#1f77b4",
          "width": 2
         },
         "marker": {
          "size": 5
         },
         "mode": "lines+markers",
         "name": "Unemployment_Rate (transformed)",
         "showlegend": false,
         "type": "scattergl",
         "x": [
          0.03225806451612903,
          0.06451612903225806,
          0.0967741935483871,
          0.12903225806451613,
          0.16129032258064516,
          0.1935483870967742,
          0.22580645161290322,
          0.25806451612903225,
          0.29032258064516125,
          0.3225806451612903,
          0.3548387096774194,
          0.3870967741935484,
          0.4193548387096774,
          0.45161290322580644,
          0.4838709677419355
         ],
         "xaxis": "x2",
         "y": [
          8.96702082897246,
          8.612571101231987,
          5.669266215024575,
          -4.773278285507977,
          4.793724867817297,
          5.443635395925186,
          0.9823518085357642,
          -6.112772025309903,
          -5.373681963641443,
          -1.6090066242673355,
          -2.491899350156685,
          -9.47381040030685,
          -24.799055034894735,
          6.992306996014817,
          14.951178133153608
         ],
         "yaxis": "y2"
        },
        {
         "alignmentgroup": "True",
         "bingroup": "x",
         "hovertemplate": "variable=Unemployment_Rate (transformed)<br>value=%{x}<br>count=%{y}<extra></extra>",
         "legendgroup": "Unemployment_Rate (transformed)",
         "marker": {
          "color": "#1f77b4",
          "pattern": {
           "shape": ""
          }
         },
         "name": "Unemployment_Rate (transformed)",
         "offsetgroup": "Unemployment_Rate (transformed)",
         "orientation": "v",
         "showlegend": false,
         "type": "histogram",
         "x": [
          17.14238687901972,
          15.775726707916432,
          15.989462347425771,
          16.851591124698285,
          16.717763415603496,
          14.310062356756935,
          14.5723059746109,
          13.3476811958149,
          15.849200216451232,
          12.565402640695696,
          16.084781044581263,
          14.11539724268468,
          16.397679501557164,
          13.548613123951707,
          14.186108713893296,
          11.812189996775132,
          14.866057832702904,
          12.5799081053059,
          14.163591538115917,
          12.020975928692252,
          13.680974319783642,
          12.22887496390804,
          15.862362395833156,
          14.188898876104474,
          15.018407075494991,
          12.948944225299863,
          14.764916741760771,
          12.265233452406,
          14.177533914667926,
          12.378460471546267,
          12.871909126092456
         ],
         "xaxis": "x3",
         "yaxis": "y3"
        },
        {
         "marker": {
          "color": "#1f77b4"
         },
         "mode": "markers",
         "name": "Unemployment_Rate (transformed)",
         "showlegend": false,
         "type": "scattergl",
         "x": [
          -1.8627318674216515,
          -1.5341205443525463,
          -1.318010897303537,
          -1.1503493803760079,
          -1.009990169249582,
          -0.887146559018876,
          -0.7764217611479277,
          -0.6744897501960817,
          -0.579132162255556,
          -0.4887764111146695,
          -0.40225006532172536,
          -0.31863936396437514,
          -0.23720210932878769,
          -0.1573106846101707,
          -0.0784124127331122,
          0,
          0.0784124127331122,
          0.1573106846101707,
          0.23720210932878769,
          0.31863936396437514,
          0.40225006532172536,
          0.4887764111146695,
          0.579132162255556,
          0.6744897501960817,
          0.7764217611479277,
          0.887146559018876,
          1.009990169249582,
          1.1503493803760079,
          1.318010897303537,
          1.5341205443525463,
          1.8627318674216515
         ],
         "xaxis": "x4",
         "y": [
          11.812189996775132,
          12.020975928692252,
          12.22887496390804,
          12.265233452406,
          12.378460471546267,
          12.565402640695696,
          12.5799081053059,
          12.871909126092456,
          12.948944225299863,
          13.3476811958149,
          13.548613123951707,
          13.680974319783642,
          14.11539724268468,
          14.163591538115917,
          14.177533914667926,
          14.186108713893296,
          14.188898876104474,
          14.310062356756935,
          14.5723059746109,
          14.764916741760771,
          14.866057832702904,
          15.018407075494991,
          15.775726707916432,
          15.849200216451232,
          15.862362395833156,
          15.989462347425771,
          16.084781044581263,
          16.397679501557164,
          16.717763415603496,
          16.851591124698285,
          17.14238687901972
         ],
         "yaxis": "y4"
        },
        {
         "line": {
          "color": "#3f3f3f"
         },
         "mode": "lines",
         "name": "Unemployment_Rate (transformed)",
         "showlegend": false,
         "type": "scattergl",
         "x": [
          -1.8627318674216515,
          -1.5341205443525463,
          -1.318010897303537,
          -1.1503493803760079,
          -1.009990169249582,
          -0.887146559018876,
          -0.7764217611479277,
          -0.6744897501960817,
          -0.579132162255556,
          -0.4887764111146695,
          -0.40225006532172536,
          -0.31863936396437514,
          -0.23720210932878769,
          -0.1573106846101707,
          -0.0784124127331122,
          0,
          0.0784124127331122,
          0.1573106846101707,
          0.23720210932878769,
          0.31863936396437514,
          0.40225006532172536,
          0.4887764111146695,
          0.579132162255556,
          0.6744897501960817,
          0.7764217611479277,
          0.887146559018876,
          1.009990169249582,
          1.1503493803760079,
          1.318010897303537,
          1.5341205443525463,
          1.8627318674216515
         ],
         "xaxis": "x4",
         "y": [
          11.415549434789947,
          11.924311421656945,
          12.258896281323082,
          12.518472870700823,
          12.735779537010515,
          12.92596823358731,
          13.097394365937667,
          13.255207346734755,
          13.402841687056206,
          13.542732093284327,
          13.676693744973067,
          13.806141343274367,
          13.932223972096876,
          14.055913319115911,
          14.178065048963953,
          14.299464562908103,
          14.420864076852252,
          14.543015806700295,
          14.66670515371933,
          14.792787782541838,
          14.922235380843139,
          15.056197032531879,
          15.19608743876,
          15.34372177908145,
          15.501534759878538,
          15.672960892228895,
          15.86314958880569,
          16.080456255115383,
          16.340032844493123,
          16.67461770415926,
          17.183379691026257
         ],
         "yaxis": "y4"
        },
        {
         "line": {
          "color": "#3f3f3f"
         },
         "mode": "lines",
         "name": "ACF",
         "showlegend": false,
         "type": "scattergl",
         "x": [
          0,
          0
         ],
         "xaxis": "x5",
         "y": [
          0,
          1
         ],
         "yaxis": "y5"
        },
        {
         "line": {
          "color": "#3f3f3f"
         },
         "mode": "lines",
         "name": "ACF",
         "showlegend": false,
         "type": "scattergl",
         "x": [
          1,
          1
         ],
         "xaxis": "x5",
         "y": [
          0,
          0.07810124725811655
         ],
         "yaxis": "y5"
        },
        {
         "line": {
          "color": "#3f3f3f"
         },
         "mode": "lines",
         "name": "ACF",
         "showlegend": false,
         "type": "scattergl",
         "x": [
          2,
          2
         ],
         "xaxis": "x5",
         "y": [
          0,
          0.5989643105350673
         ],
         "yaxis": "y5"
        },
        {
         "line": {
          "color": "#3f3f3f"
         },
         "mode": "lines",
         "name": "ACF",
         "showlegend": false,
         "type": "scattergl",
         "x": [
          3,
          3
         ],
         "xaxis": "x5",
         "y": [
          0,
          -0.12986983239935385
         ],
         "yaxis": "y5"
        },
        {
         "line": {
          "color": "#3f3f3f"
         },
         "mode": "lines",
         "name": "ACF",
         "showlegend": false,
         "type": "scattergl",
         "x": [
          4,
          4
         ],
         "xaxis": "x5",
         "y": [
          0,
          0.41291292486649706
         ],
         "yaxis": "y5"
        },
        {
         "line": {
          "color": "#3f3f3f"
         },
         "mode": "lines",
         "name": "ACF",
         "showlegend": false,
         "type": "scattergl",
         "x": [
          5,
          5
         ],
         "xaxis": "x5",
         "y": [
          0,
          -0.2542818533248881
         ],
         "yaxis": "y5"
        },
        {
         "line": {
          "color": "#3f3f3f"
         },
         "mode": "lines",
         "name": "ACF",
         "showlegend": false,
         "type": "scattergl",
         "x": [
          6,
          6
         ],
         "xaxis": "x5",
         "y": [
          0,
          0.29947530154921415
         ],
         "yaxis": "y5"
        },
        {
         "line": {
          "color": "#3f3f3f"
         },
         "mode": "lines",
         "name": "ACF",
         "showlegend": false,
         "type": "scattergl",
         "x": [
          7,
          7
         ],
         "xaxis": "x5",
         "y": [
          0,
          -0.25129734826136235
         ],
         "yaxis": "y5"
        },
        {
         "line": {
          "color": "#3f3f3f"
         },
         "mode": "lines",
         "name": "ACF",
         "showlegend": false,
         "type": "scattergl",
         "x": [
          8,
          8
         ],
         "xaxis": "x5",
         "y": [
          0,
          0.3406255365254512
         ],
         "yaxis": "y5"
        },
        {
         "line": {
          "color": "#3f3f3f"
         },
         "mode": "lines",
         "name": "ACF",
         "showlegend": false,
         "type": "scattergl",
         "x": [
          9,
          9
         ],
         "xaxis": "x5",
         "y": [
          0,
          -0.1457419844655942
         ],
         "yaxis": "y5"
        },
        {
         "line": {
          "color": "#3f3f3f"
         },
         "mode": "lines",
         "name": "ACF",
         "showlegend": false,
         "type": "scattergl",
         "x": [
          10,
          10
         ],
         "xaxis": "x5",
         "y": [
          0,
          0.35824331464713116
         ],
         "yaxis": "y5"
        },
        {
         "line": {
          "color": "#3f3f3f"
         },
         "mode": "lines",
         "name": "ACF",
         "showlegend": false,
         "type": "scattergl",
         "x": [
          11,
          11
         ],
         "xaxis": "x5",
         "y": [
          0,
          -0.14778513512557434
         ],
         "yaxis": "y5"
        },
        {
         "line": {
          "color": "#3f3f3f"
         },
         "mode": "lines",
         "name": "ACF",
         "showlegend": false,
         "type": "scattergl",
         "x": [
          12,
          12
         ],
         "xaxis": "x5",
         "y": [
          0,
          0.2449453612040178
         ],
         "yaxis": "y5"
        },
        {
         "line": {
          "color": "#3f3f3f"
         },
         "mode": "lines",
         "name": "ACF",
         "showlegend": false,
         "type": "scattergl",
         "x": [
          13,
          13
         ],
         "xaxis": "x5",
         "y": [
          0,
          -0.2258755358838626
         ],
         "yaxis": "y5"
        },
        {
         "line": {
          "color": "#3f3f3f"
         },
         "mode": "lines",
         "name": "ACF",
         "showlegend": false,
         "type": "scattergl",
         "x": [
          14,
          14
         ],
         "xaxis": "x5",
         "y": [
          0,
          0.06267510693493186
         ],
         "yaxis": "y5"
        },
        {
         "line": {
          "color": "#3f3f3f"
         },
         "mode": "lines",
         "name": "ACF",
         "showlegend": false,
         "type": "scattergl",
         "x": [
          15,
          15
         ],
         "xaxis": "x5",
         "y": [
          0,
          -0.28772298147798014
         ],
         "yaxis": "y5"
        },
        {
         "line": {
          "color": "#3f3f3f"
         },
         "mode": "lines",
         "name": "ACF",
         "showlegend": false,
         "type": "scattergl",
         "x": [
          16,
          16
         ],
         "xaxis": "x5",
         "y": [
          0,
          -0.026222341893753002
         ],
         "yaxis": "y5"
        },
        {
         "line": {
          "color": "#3f3f3f"
         },
         "mode": "lines",
         "name": "ACF",
         "showlegend": false,
         "type": "scattergl",
         "x": [
          17,
          17
         ],
         "xaxis": "x5",
         "y": [
          0,
          -0.3457525840377746
         ],
         "yaxis": "y5"
        },
        {
         "line": {
          "color": "#3f3f3f"
         },
         "mode": "lines",
         "name": "ACF",
         "showlegend": false,
         "type": "scattergl",
         "x": [
          18,
          18
         ],
         "xaxis": "x5",
         "y": [
          0,
          -0.04616338399837569
         ],
         "yaxis": "y5"
        },
        {
         "line": {
          "color": "#3f3f3f"
         },
         "mode": "lines",
         "name": "ACF",
         "showlegend": false,
         "type": "scattergl",
         "x": [
          19,
          19
         ],
         "xaxis": "x5",
         "y": [
          0,
          -0.18949075224279782
         ],
         "yaxis": "y5"
        },
        {
         "line": {
          "color": "#3f3f3f"
         },
         "mode": "lines",
         "name": "ACF",
         "showlegend": false,
         "type": "scattergl",
         "x": [
          20,
          20
         ],
         "xaxis": "x5",
         "y": [
          0,
          0.025906967328040282
         ],
         "yaxis": "y5"
        },
        {
         "line": {
          "color": "#3f3f3f"
         },
         "mode": "lines",
         "name": "ACF",
         "showlegend": false,
         "type": "scattergl",
         "x": [
          21,
          21
         ],
         "xaxis": "x5",
         "y": [
          0,
          -0.08253507983111764
         ],
         "yaxis": "y5"
        },
        {
         "line": {
          "color": "#3f3f3f"
         },
         "mode": "lines",
         "name": "ACF",
         "showlegend": false,
         "type": "scattergl",
         "x": [
          22,
          22
         ],
         "xaxis": "x5",
         "y": [
          0,
          0.03680853672363018
         ],
         "yaxis": "y5"
        },
        {
         "line": {
          "color": "#3f3f3f"
         },
         "mode": "lines",
         "name": "ACF",
         "showlegend": false,
         "type": "scattergl",
         "x": [
          23,
          23
         ],
         "xaxis": "x5",
         "y": [
          0,
          -0.059665724221622835
         ],
         "yaxis": "y5"
        },
        {
         "line": {
          "color": "#3f3f3f"
         },
         "mode": "lines",
         "name": "ACF",
         "showlegend": false,
         "type": "scattergl",
         "x": [
          24,
          24
         ],
         "xaxis": "x5",
         "y": [
          0,
          -0.06809035192069006
         ],
         "yaxis": "y5"
        },
        {
         "line": {
          "color": "#3f3f3f"
         },
         "mode": "lines",
         "name": "ACF",
         "showlegend": false,
         "type": "scattergl",
         "x": [
          25,
          25
         ],
         "xaxis": "x5",
         "y": [
          0,
          -0.15559926864419643
         ],
         "yaxis": "y5"
        },
        {
         "line": {
          "color": "#3f3f3f"
         },
         "mode": "lines",
         "name": "ACF",
         "showlegend": false,
         "type": "scattergl",
         "x": [
          26,
          26
         ],
         "xaxis": "x5",
         "y": [
          0,
          -0.1378183310162819
         ],
         "yaxis": "y5"
        },
        {
         "line": {
          "color": "#3f3f3f"
         },
         "mode": "lines",
         "name": "ACF",
         "showlegend": false,
         "type": "scattergl",
         "x": [
          27,
          27
         ],
         "xaxis": "x5",
         "y": [
          0,
          -0.17297252046682182
         ],
         "yaxis": "y5"
        },
        {
         "line": {
          "color": "#3f3f3f"
         },
         "mode": "lines",
         "name": "ACF",
         "showlegend": false,
         "type": "scattergl",
         "x": [
          28,
          28
         ],
         "xaxis": "x5",
         "y": [
          0,
          -0.07529787382490244
         ],
         "yaxis": "y5"
        },
        {
         "line": {
          "color": "#3f3f3f"
         },
         "mode": "lines",
         "name": "ACF",
         "showlegend": false,
         "type": "scattergl",
         "x": [
          29,
          29
         ],
         "xaxis": "x5",
         "y": [
          0,
          -0.10185819908742319
         ],
         "yaxis": "y5"
        },
        {
         "line": {
          "color": "#3f3f3f"
         },
         "mode": "lines",
         "name": "ACF",
         "showlegend": false,
         "type": "scattergl",
         "x": [
          30,
          30
         ],
         "xaxis": "x5",
         "y": [
          0,
          -0.05461752544772475
         ],
         "yaxis": "y5"
        },
        {
         "marker": {
          "color": "#1f77b4",
          "size": 6
         },
         "mode": "markers",
         "name": "ACF",
         "showlegend": false,
         "type": "scattergl",
         "x": [
          0,
          1,
          2,
          3,
          4,
          5,
          6,
          7,
          8,
          9,
          10,
          11,
          12,
          13,
          14,
          15,
          16,
          17,
          18,
          19,
          20,
          21,
          22,
          23,
          24,
          25,
          26,
          27,
          28,
          29,
          30
         ],
         "xaxis": "x5",
         "y": [
          1,
          0.07810124725811655,
          0.5989643105350673,
          -0.12986983239935385,
          0.41291292486649706,
          -0.2542818533248881,
          0.29947530154921415,
          -0.25129734826136235,
          0.3406255365254512,
          -0.1457419844655942,
          0.35824331464713116,
          -0.14778513512557434,
          0.2449453612040178,
          -0.2258755358838626,
          0.06267510693493186,
          -0.28772298147798014,
          -0.026222341893753002,
          -0.3457525840377746,
          -0.04616338399837569,
          -0.18949075224279782,
          0.025906967328040282,
          -0.08253507983111764,
          0.03680853672363018,
          -0.059665724221622835,
          -0.06809035192069006,
          -0.15559926864419643,
          -0.1378183310162819,
          -0.17297252046682182,
          -0.07529787382490244,
          -0.10185819908742319,
          -0.05461752544772475
         ],
         "yaxis": "y5"
        },
        {
         "line": {
          "color": "rgba(255,255,255,0)"
         },
         "mode": "lines",
         "name": "UC",
         "showlegend": false,
         "type": "scatter",
         "x": [
          0,
          1,
          2,
          3,
          4,
          5,
          6,
          7,
          8,
          9,
          10,
          11,
          12,
          13,
          14,
          15,
          16,
          17,
          18,
          19,
          20,
          21,
          22,
          23,
          24,
          25,
          26,
          27,
          28,
          29,
          30
         ],
         "xaxis": "x5",
         "y": [
          0,
          0.3520199234049176,
          0.35416066696508997,
          0.46297192733637865,
          0.46746449206039525,
          0.5106646409890492,
          0.5261209666721003,
          0.546836868776101,
          0.5609647906368636,
          0.5860348639583086,
          0.5905091696808256,
          0.616853248652439,
          0.6212252251357778,
          0.6330801725263235,
          0.6429891447134808,
          0.6437457433854681,
          0.6594888697615601,
          0.6596180593257873,
          0.681706320791105,
          0.6820935865519963,
          0.6885859763430854,
          0.6887067497687112,
          0.6899313416094973,
          0.6901746455539982,
          0.6908135330020199,
          0.691644691070342,
          0.6959689434003884,
          0.6993426495584938,
          0.7046242051635287,
          0.705620609018276,
          0.70744029140299
         ],
         "yaxis": "y5"
        },
        {
         "fill": "tonexty",
         "fillcolor": "rgba(32, 146, 230,0.3)",
         "line": {
          "color": "rgba(255,255,255,0)"
         },
         "mode": "lines",
         "name": "LC",
         "showlegend": false,
         "type": "scatter",
         "x": [
          0,
          1,
          2,
          3,
          4,
          5,
          6,
          7,
          8,
          9,
          10,
          11,
          12,
          13,
          14,
          15,
          16,
          17,
          18,
          19,
          20,
          21,
          22,
          23,
          24,
          25,
          26,
          27,
          28,
          29,
          30
         ],
         "xaxis": "x5",
         "y": [
          0,
          -0.3520199234049176,
          -0.35416066696508997,
          -0.46297192733637865,
          -0.4674644920603952,
          -0.5106646409890492,
          -0.5261209666721003,
          -0.5468368687761012,
          -0.5609647906368634,
          -0.5860348639583086,
          -0.5905091696808256,
          -0.616853248652439,
          -0.6212252251357778,
          -0.6330801725263235,
          -0.6429891447134808,
          -0.6437457433854681,
          -0.6594888697615601,
          -0.6596180593257872,
          -0.681706320791105,
          -0.6820935865519964,
          -0.6885859763430854,
          -0.6887067497687112,
          -0.6899313416094973,
          -0.6901746455539982,
          -0.6908135330020199,
          -0.691644691070342,
          -0.6959689434003884,
          -0.6993426495584938,
          -0.7046242051635287,
          -0.705620609018276,
          -0.70744029140299
         ],
         "yaxis": "y5"
        },
        {
         "line": {
          "color": "#3f3f3f"
         },
         "mode": "lines",
         "name": "PACF",
         "showlegend": false,
         "type": "scattergl",
         "x": [
          0,
          0
         ],
         "xaxis": "x6",
         "y": [
          0,
          1
         ],
         "yaxis": "y6"
        },
        {
         "line": {
          "color": "#3f3f3f"
         },
         "mode": "lines",
         "name": "PACF",
         "showlegend": false,
         "type": "scattergl",
         "x": [
          1,
          1
         ],
         "xaxis": "x6",
         "y": [
          0,
          0.08070462216672045
         ],
         "yaxis": "y6"
        },
        {
         "line": {
          "color": "#3f3f3f"
         },
         "mode": "lines",
         "name": "PACF",
         "showlegend": false,
         "type": "scattergl",
         "x": [
          2,
          2
         ],
         "xaxis": "x6",
         "y": [
          0,
          0.6379138414028194
         ],
         "yaxis": "y6"
        },
        {
         "line": {
          "color": "#3f3f3f"
         },
         "mode": "lines",
         "name": "PACF",
         "showlegend": false,
         "type": "scattergl",
         "x": [
          3,
          3
         ],
         "xaxis": "x6",
         "y": [
          0,
          -0.3631635421781505
         ],
         "yaxis": "y6"
        },
        {
         "line": {
          "color": "#3f3f3f"
         },
         "mode": "lines",
         "name": "PACF",
         "showlegend": false,
         "type": "scattergl",
         "x": [
          4,
          4
         ],
         "xaxis": "x6",
         "y": [
          0,
          0.24569704081517116
         ],
         "yaxis": "y6"
        },
        {
         "line": {
          "color": "#3f3f3f"
         },
         "mode": "lines",
         "name": "PACF",
         "showlegend": false,
         "type": "scattergl",
         "x": [
          5,
          5
         ],
         "xaxis": "x6",
         "y": [
          0,
          -0.3018921754507262
         ],
         "yaxis": "y6"
        },
        {
         "line": {
          "color": "#3f3f3f"
         },
         "mode": "lines",
         "name": "PACF",
         "showlegend": false,
         "type": "scattergl",
         "x": [
          6,
          6
         ],
         "xaxis": "x6",
         "y": [
          0,
          0.20237157744673623
         ],
         "yaxis": "y6"
        },
        {
         "line": {
          "color": "#3f3f3f"
         },
         "mode": "lines",
         "name": "PACF",
         "showlegend": false,
         "type": "scattergl",
         "x": [
          7,
          7
         ],
         "xaxis": "x6",
         "y": [
          0,
          -0.09426676029695263
         ],
         "yaxis": "y6"
        },
        {
         "line": {
          "color": "#3f3f3f"
         },
         "mode": "lines",
         "name": "PACF",
         "showlegend": false,
         "type": "scattergl",
         "x": [
          8,
          8
         ],
         "xaxis": "x6",
         "y": [
          0,
          0.34743680211184713
         ],
         "yaxis": "y6"
        },
        {
         "line": {
          "color": "#3f3f3f"
         },
         "mode": "lines",
         "name": "PACF",
         "showlegend": false,
         "type": "scattergl",
         "x": [
          9,
          9
         ],
         "xaxis": "x6",
         "y": [
          0,
          -0.03950210263679935
         ],
         "yaxis": "y6"
        },
        {
         "line": {
          "color": "#3f3f3f"
         },
         "mode": "lines",
         "name": "PACF",
         "showlegend": false,
         "type": "scattergl",
         "x": [
          10,
          10
         ],
         "xaxis": "x6",
         "y": [
          0,
          0.16274434903002688
         ],
         "yaxis": "y6"
        },
        {
         "line": {
          "color": "#3f3f3f"
         },
         "mode": "lines",
         "name": "PACF",
         "showlegend": false,
         "type": "scattergl",
         "x": [
          11,
          11
         ],
         "xaxis": "x6",
         "y": [
          0,
          -0.2368459360587613
         ],
         "yaxis": "y6"
        },
        {
         "line": {
          "color": "#3f3f3f"
         },
         "mode": "lines",
         "name": "PACF",
         "showlegend": false,
         "type": "scattergl",
         "x": [
          12,
          12
         ],
         "xaxis": "x6",
         "y": [
          0,
          -0.07925935978379334
         ],
         "yaxis": "y6"
        },
        {
         "line": {
          "color": "#3f3f3f"
         },
         "mode": "lines",
         "name": "PACF",
         "showlegend": false,
         "type": "scattergl",
         "x": [
          13,
          13
         ],
         "xaxis": "x6",
         "y": [
          0,
          -0.19354299378365283
         ],
         "yaxis": "y6"
        },
        {
         "line": {
          "color": "#3f3f3f"
         },
         "mode": "lines",
         "name": "PACF",
         "showlegend": false,
         "type": "scattergl",
         "x": [
          14,
          14
         ],
         "xaxis": "x6",
         "y": [
          0,
          -0.4326059782926324
         ],
         "yaxis": "y6"
        },
        {
         "marker": {
          "color": "#1f77b4",
          "size": 6
         },
         "mode": "markers",
         "name": "PACF",
         "showlegend": false,
         "type": "scattergl",
         "x": [
          0,
          1,
          2,
          3,
          4,
          5,
          6,
          7,
          8,
          9,
          10,
          11,
          12,
          13,
          14
         ],
         "xaxis": "x6",
         "y": [
          1,
          0.08070462216672045,
          0.6379138414028194,
          -0.3631635421781505,
          0.24569704081517116,
          -0.3018921754507262,
          0.20237157744673623,
          -0.09426676029695263,
          0.34743680211184713,
          -0.03950210263679935,
          0.16274434903002688,
          -0.2368459360587613,
          -0.07925935978379334,
          -0.19354299378365283,
          -0.4326059782926324
         ],
         "yaxis": "y6"
        },
        {
         "line": {
          "color": "rgba(255,255,255,0)"
         },
         "mode": "lines",
         "name": "UC",
         "showlegend": false,
         "type": "scatter",
         "x": [
          0,
          1,
          2,
          3,
          4,
          5,
          6,
          7,
          8,
          9,
          10,
          11,
          12,
          13,
          14
         ],
         "xaxis": "x6",
         "y": [
          0,
          0.3520199234049176,
          0.3520199234049176,
          0.3520199234049176,
          0.3520199234049176,
          0.3520199234049176,
          0.35201992340491756,
          0.3520199234049176,
          0.3520199234049176,
          0.3520199234049176,
          0.3520199234049176,
          0.3520199234049176,
          0.3520199234049176,
          0.3520199234049176,
          0.3520199234049176
         ],
         "yaxis": "y6"
        },
        {
         "fill": "tonexty",
         "fillcolor": "rgba(32, 146, 230,0.3)",
         "line": {
          "color": "rgba(255,255,255,0)"
         },
         "mode": "lines",
         "name": "LC",
         "showlegend": false,
         "type": "scatter",
         "x": [
          0,
          1,
          2,
          3,
          4,
          5,
          6,
          7,
          8,
          9,
          10,
          11,
          12,
          13,
          14
         ],
         "xaxis": "x6",
         "y": [
          0,
          -0.3520199234049176,
          -0.3520199234049176,
          -0.3520199234049176,
          -0.3520199234049176,
          -0.3520199234049176,
          -0.3520199234049176,
          -0.3520199234049176,
          -0.3520199234049176,
          -0.3520199234049176,
          -0.3520199234049176,
          -0.35201992340491756,
          -0.3520199234049176,
          -0.3520199234049176,
          -0.35201992340491767
         ],
         "yaxis": "y6"
        }
       ],
       "layout": {
        "annotations": [
         {
          "font": {
           "size": 16
          },
          "showarrow": false,
          "text": "Unemployment_Rate (transformed)",
          "x": 0.225,
          "xanchor": "center",
          "xref": "paper",
          "y": 1,
          "yanchor": "bottom",
          "yref": "paper"
         },
         {
          "font": {
           "size": 16
          },
          "showarrow": false,
          "text": "Periodogram",
          "x": 0.775,
          "xanchor": "center",
          "xref": "paper",
          "y": 1,
          "yanchor": "bottom",
          "yref": "paper"
         },
         {
          "font": {
           "size": 16
          },
          "showarrow": false,
          "text": "Histogram",
          "x": 0.225,
          "xanchor": "center",
          "xref": "paper",
          "y": 0.6111111111111112,
          "yanchor": "bottom",
          "yref": "paper"
         },
         {
          "font": {
           "size": 16
          },
          "showarrow": false,
          "text": "Q-Q Plot",
          "x": 0.775,
          "xanchor": "center",
          "xref": "paper",
          "y": 0.6111111111111112,
          "yanchor": "bottom",
          "yref": "paper"
         },
         {
          "font": {
           "size": 16
          },
          "showarrow": false,
          "text": "ACF",
          "x": 0.225,
          "xanchor": "center",
          "xref": "paper",
          "y": 0.22222222222222227,
          "yanchor": "bottom",
          "yref": "paper"
         },
         {
          "font": {
           "size": 16
          },
          "showarrow": false,
          "text": "PACF",
          "x": 0.775,
          "xanchor": "center",
          "xref": "paper",
          "y": 0.22222222222222227,
          "yanchor": "bottom",
          "yref": "paper"
         }
        ],
        "autosize": false,
        "height": 800,
        "showlegend": false,
        "template": {
         "data": {
          "bar": [
           {
            "error_x": {
             "color": "rgb(51,51,51)"
            },
            "error_y": {
             "color": "rgb(51,51,51)"
            },
            "marker": {
             "line": {
              "color": "rgb(237,237,237)",
              "width": 0.5
             },
             "pattern": {
              "fillmode": "overlay",
              "size": 10,
              "solidity": 0.2
             }
            },
            "type": "bar"
           }
          ],
          "barpolar": [
           {
            "marker": {
             "line": {
              "color": "rgb(237,237,237)",
              "width": 0.5
             },
             "pattern": {
              "fillmode": "overlay",
              "size": 10,
              "solidity": 0.2
             }
            },
            "type": "barpolar"
           }
          ],
          "carpet": [
           {
            "aaxis": {
             "endlinecolor": "rgb(51,51,51)",
             "gridcolor": "white",
             "linecolor": "white",
             "minorgridcolor": "white",
             "startlinecolor": "rgb(51,51,51)"
            },
            "baxis": {
             "endlinecolor": "rgb(51,51,51)",
             "gridcolor": "white",
             "linecolor": "white",
             "minorgridcolor": "white",
             "startlinecolor": "rgb(51,51,51)"
            },
            "type": "carpet"
           }
          ],
          "choropleth": [
           {
            "colorbar": {
             "outlinewidth": 0,
             "tickcolor": "rgb(237,237,237)",
             "ticklen": 6,
             "ticks": "inside"
            },
            "type": "choropleth"
           }
          ],
          "contour": [
           {
            "colorbar": {
             "outlinewidth": 0,
             "tickcolor": "rgb(237,237,237)",
             "ticklen": 6,
             "ticks": "inside"
            },
            "colorscale": [
             [
              0,
              "rgb(20,44,66)"
             ],
             [
              1,
              "rgb(90,179,244)"
             ]
            ],
            "type": "contour"
           }
          ],
          "contourcarpet": [
           {
            "colorbar": {
             "outlinewidth": 0,
             "tickcolor": "rgb(237,237,237)",
             "ticklen": 6,
             "ticks": "inside"
            },
            "type": "contourcarpet"
           }
          ],
          "heatmap": [
           {
            "colorbar": {
             "outlinewidth": 0,
             "tickcolor": "rgb(237,237,237)",
             "ticklen": 6,
             "ticks": "inside"
            },
            "colorscale": [
             [
              0,
              "rgb(20,44,66)"
             ],
             [
              1,
              "rgb(90,179,244)"
             ]
            ],
            "type": "heatmap"
           }
          ],
          "heatmapgl": [
           {
            "colorbar": {
             "outlinewidth": 0,
             "tickcolor": "rgb(237,237,237)",
             "ticklen": 6,
             "ticks": "inside"
            },
            "colorscale": [
             [
              0,
              "rgb(20,44,66)"
             ],
             [
              1,
              "rgb(90,179,244)"
             ]
            ],
            "type": "heatmapgl"
           }
          ],
          "histogram": [
           {
            "marker": {
             "pattern": {
              "fillmode": "overlay",
              "size": 10,
              "solidity": 0.2
             }
            },
            "type": "histogram"
           }
          ],
          "histogram2d": [
           {
            "colorbar": {
             "outlinewidth": 0,
             "tickcolor": "rgb(237,237,237)",
             "ticklen": 6,
             "ticks": "inside"
            },
            "colorscale": [
             [
              0,
              "rgb(20,44,66)"
             ],
             [
              1,
              "rgb(90,179,244)"
             ]
            ],
            "type": "histogram2d"
           }
          ],
          "histogram2dcontour": [
           {
            "colorbar": {
             "outlinewidth": 0,
             "tickcolor": "rgb(237,237,237)",
             "ticklen": 6,
             "ticks": "inside"
            },
            "colorscale": [
             [
              0,
              "rgb(20,44,66)"
             ],
             [
              1,
              "rgb(90,179,244)"
             ]
            ],
            "type": "histogram2dcontour"
           }
          ],
          "mesh3d": [
           {
            "colorbar": {
             "outlinewidth": 0,
             "tickcolor": "rgb(237,237,237)",
             "ticklen": 6,
             "ticks": "inside"
            },
            "type": "mesh3d"
           }
          ],
          "parcoords": [
           {
            "line": {
             "colorbar": {
              "outlinewidth": 0,
              "tickcolor": "rgb(237,237,237)",
              "ticklen": 6,
              "ticks": "inside"
             }
            },
            "type": "parcoords"
           }
          ],
          "pie": [
           {
            "automargin": true,
            "type": "pie"
           }
          ],
          "scatter": [
           {
            "fillpattern": {
             "fillmode": "overlay",
             "size": 10,
             "solidity": 0.2
            },
            "type": "scatter"
           }
          ],
          "scatter3d": [
           {
            "line": {
             "colorbar": {
              "outlinewidth": 0,
              "tickcolor": "rgb(237,237,237)",
              "ticklen": 6,
              "ticks": "inside"
             }
            },
            "marker": {
             "colorbar": {
              "outlinewidth": 0,
              "tickcolor": "rgb(237,237,237)",
              "ticklen": 6,
              "ticks": "inside"
             }
            },
            "type": "scatter3d"
           }
          ],
          "scattercarpet": [
           {
            "marker": {
             "colorbar": {
              "outlinewidth": 0,
              "tickcolor": "rgb(237,237,237)",
              "ticklen": 6,
              "ticks": "inside"
             }
            },
            "type": "scattercarpet"
           }
          ],
          "scattergeo": [
           {
            "marker": {
             "colorbar": {
              "outlinewidth": 0,
              "tickcolor": "rgb(237,237,237)",
              "ticklen": 6,
              "ticks": "inside"
             }
            },
            "type": "scattergeo"
           }
          ],
          "scattergl": [
           {
            "marker": {
             "colorbar": {
              "outlinewidth": 0,
              "tickcolor": "rgb(237,237,237)",
              "ticklen": 6,
              "ticks": "inside"
             }
            },
            "type": "scattergl"
           }
          ],
          "scattermapbox": [
           {
            "marker": {
             "colorbar": {
              "outlinewidth": 0,
              "tickcolor": "rgb(237,237,237)",
              "ticklen": 6,
              "ticks": "inside"
             }
            },
            "type": "scattermapbox"
           }
          ],
          "scatterpolar": [
           {
            "marker": {
             "colorbar": {
              "outlinewidth": 0,
              "tickcolor": "rgb(237,237,237)",
              "ticklen": 6,
              "ticks": "inside"
             }
            },
            "type": "scatterpolar"
           }
          ],
          "scatterpolargl": [
           {
            "marker": {
             "colorbar": {
              "outlinewidth": 0,
              "tickcolor": "rgb(237,237,237)",
              "ticklen": 6,
              "ticks": "inside"
             }
            },
            "type": "scatterpolargl"
           }
          ],
          "scatterternary": [
           {
            "marker": {
             "colorbar": {
              "outlinewidth": 0,
              "tickcolor": "rgb(237,237,237)",
              "ticklen": 6,
              "ticks": "inside"
             }
            },
            "type": "scatterternary"
           }
          ],
          "surface": [
           {
            "colorbar": {
             "outlinewidth": 0,
             "tickcolor": "rgb(237,237,237)",
             "ticklen": 6,
             "ticks": "inside"
            },
            "colorscale": [
             [
              0,
              "rgb(20,44,66)"
             ],
             [
              1,
              "rgb(90,179,244)"
             ]
            ],
            "type": "surface"
           }
          ],
          "table": [
           {
            "cells": {
             "fill": {
              "color": "rgb(237,237,237)"
             },
             "line": {
              "color": "white"
             }
            },
            "header": {
             "fill": {
              "color": "rgb(217,217,217)"
             },
             "line": {
              "color": "white"
             }
            },
            "type": "table"
           }
          ]
         },
         "layout": {
          "annotationdefaults": {
           "arrowhead": 0,
           "arrowwidth": 1
          },
          "autotypenumbers": "strict",
          "coloraxis": {
           "colorbar": {
            "outlinewidth": 0,
            "tickcolor": "rgb(237,237,237)",
            "ticklen": 6,
            "ticks": "inside"
           }
          },
          "colorscale": {
           "sequential": [
            [
             0,
             "rgb(20,44,66)"
            ],
            [
             1,
             "rgb(90,179,244)"
            ]
           ],
           "sequentialminus": [
            [
             0,
             "rgb(20,44,66)"
            ],
            [
             1,
             "rgb(90,179,244)"
            ]
           ]
          },
          "colorway": [
           "#F8766D",
           "#A3A500",
           "#00BF7D",
           "#00B0F6",
           "#E76BF3"
          ],
          "font": {
           "color": "rgb(51,51,51)"
          },
          "geo": {
           "bgcolor": "white",
           "lakecolor": "white",
           "landcolor": "rgb(237,237,237)",
           "showlakes": true,
           "showland": true,
           "subunitcolor": "white"
          },
          "hoverlabel": {
           "align": "left"
          },
          "hovermode": "closest",
          "paper_bgcolor": "white",
          "plot_bgcolor": "rgb(237,237,237)",
          "polar": {
           "angularaxis": {
            "gridcolor": "white",
            "linecolor": "white",
            "showgrid": true,
            "tickcolor": "rgb(51,51,51)",
            "ticks": "outside"
           },
           "bgcolor": "rgb(237,237,237)",
           "radialaxis": {
            "gridcolor": "white",
            "linecolor": "white",
            "showgrid": true,
            "tickcolor": "rgb(51,51,51)",
            "ticks": "outside"
           }
          },
          "scene": {
           "xaxis": {
            "backgroundcolor": "rgb(237,237,237)",
            "gridcolor": "white",
            "gridwidth": 2,
            "linecolor": "white",
            "showbackground": true,
            "showgrid": true,
            "tickcolor": "rgb(51,51,51)",
            "ticks": "outside",
            "zerolinecolor": "white"
           },
           "yaxis": {
            "backgroundcolor": "rgb(237,237,237)",
            "gridcolor": "white",
            "gridwidth": 2,
            "linecolor": "white",
            "showbackground": true,
            "showgrid": true,
            "tickcolor": "rgb(51,51,51)",
            "ticks": "outside",
            "zerolinecolor": "white"
           },
           "zaxis": {
            "backgroundcolor": "rgb(237,237,237)",
            "gridcolor": "white",
            "gridwidth": 2,
            "linecolor": "white",
            "showbackground": true,
            "showgrid": true,
            "tickcolor": "rgb(51,51,51)",
            "ticks": "outside",
            "zerolinecolor": "white"
           }
          },
          "shapedefaults": {
           "fillcolor": "black",
           "line": {
            "width": 0
           },
           "opacity": 0.3
          },
          "ternary": {
           "aaxis": {
            "gridcolor": "white",
            "linecolor": "white",
            "showgrid": true,
            "tickcolor": "rgb(51,51,51)",
            "ticks": "outside"
           },
           "baxis": {
            "gridcolor": "white",
            "linecolor": "white",
            "showgrid": true,
            "tickcolor": "rgb(51,51,51)",
            "ticks": "outside"
           },
           "bgcolor": "rgb(237,237,237)",
           "caxis": {
            "gridcolor": "white",
            "linecolor": "white",
            "showgrid": true,
            "tickcolor": "rgb(51,51,51)",
            "ticks": "outside"
           }
          },
          "xaxis": {
           "automargin": true,
           "gridcolor": "white",
           "linecolor": "white",
           "showgrid": true,
           "tickcolor": "rgb(51,51,51)",
           "ticks": "outside",
           "title": {
            "standoff": 15
           },
           "zerolinecolor": "white"
          },
          "yaxis": {
           "automargin": true,
           "gridcolor": "white",
           "linecolor": "white",
           "showgrid": true,
           "tickcolor": "rgb(51,51,51)",
           "ticks": "outside",
           "title": {
            "standoff": 15
           },
           "zerolinecolor": "white"
          }
         }
        },
        "title": {
         "text": "Diagnostics | Unemployment_Rate"
        },
        "width": 1000,
        "xaxis": {
         "anchor": "y",
         "domain": [
          0,
          0.45
         ]
        },
        "xaxis2": {
         "anchor": "y2",
         "domain": [
          0.55,
          1
         ],
         "range": [
          0,
          0.5
         ]
        },
        "xaxis3": {
         "anchor": "y3",
         "domain": [
          0,
          0.45
         ],
         "title": {
          "text": "Range of Values"
         }
        },
        "xaxis4": {
         "anchor": "y4",
         "domain": [
          0.55,
          1
         ],
         "title": {
          "text": "Theoretical Quantities"
         }
        },
        "xaxis5": {
         "anchor": "y5",
         "domain": [
          0,
          0.45
         ],
         "range": [
          -1,
          32
         ]
        },
        "xaxis6": {
         "anchor": "y6",
         "domain": [
          0.55,
          1
         ],
         "range": [
          -1,
          16
         ]
        },
        "yaxis": {
         "anchor": "x",
         "domain": [
          0.7777777777777779,
          1
         ]
        },
        "yaxis2": {
         "anchor": "x2",
         "domain": [
          0.7777777777777779,
          1
         ]
        },
        "yaxis3": {
         "anchor": "x3",
         "domain": [
          0.38888888888888895,
          0.6111111111111112
         ],
         "title": {
          "text": "PDF"
         }
        },
        "yaxis4": {
         "anchor": "x4",
         "domain": [
          0.38888888888888895,
          0.6111111111111112
         ],
         "title": {
          "text": "Sample Quantities"
         }
        },
        "yaxis5": {
         "anchor": "x5",
         "domain": [
          0,
          0.22222222222222227
         ],
         "range": [
          -1.1,
          1.1
         ],
         "zerolinecolor": "#000000"
        },
        "yaxis6": {
         "anchor": "x6",
         "domain": [
          0,
          0.22222222222222227
         ],
         "range": [
          -1.1,
          1.1
         ],
         "zerolinecolor": "#000000"
        }
       }
      }
     },
     "metadata": {},
     "output_type": "display_data"
    }
   ],
   "source": [
    "exp.plot_model(plot=\"diagnostics\", fig_kwargs={\"height\": 800, \"width\": 1000})"
   ]
  },
  {
   "cell_type": "markdown",
   "metadata": {},
   "source": [
    "difference plot"
   ]
  },
  {
   "cell_type": "code",
   "execution_count": 399,
   "metadata": {},
   "outputs": [
    {
     "data": {
      "application/vnd.plotly.v1+json": {
       "config": {
        "plotlyServerURL": "https://plot.ly"
       },
       "data": [
        {
         "line": {
          "color": "rgb(31, 119, 180)",
          "width": 2
         },
         "marker": {
          "color": "rgb(31, 119, 180)",
          "size": 5
         },
         "mode": "lines+markers",
         "name": "Actual",
         "showlegend": false,
         "type": "scattergl",
         "x": [
          "2009-07-01T00:00:00",
          "2010-01-01T00:00:00",
          "2010-07-01T00:00:00",
          "2011-01-01T00:00:00",
          "2011-07-01T00:00:00",
          "2012-01-01T00:00:00",
          "2012-07-01T00:00:00",
          "2013-01-01T00:00:00",
          "2013-07-01T00:00:00",
          "2014-01-01T00:00:00",
          "2014-07-01T00:00:00",
          "2015-01-01T00:00:00",
          "2015-07-01T00:00:00",
          "2016-01-01T00:00:00",
          "2016-07-01T00:00:00",
          "2017-01-01T00:00:00",
          "2017-07-01T00:00:00",
          "2018-01-01T00:00:00",
          "2018-07-01T00:00:00",
          "2019-01-01T00:00:00",
          "2019-07-01T00:00:00",
          "2020-01-01T00:00:00",
          "2020-07-01T00:00:00",
          "2021-01-01T00:00:00",
          "2021-07-01T00:00:00",
          "2022-01-01T00:00:00",
          "2022-07-01T00:00:00",
          "2023-01-01T00:00:00",
          "2023-07-01T00:00:00",
          "2024-01-01T00:00:00",
          "2024-07-01T00:00:00"
         ],
         "xaxis": "x",
         "y": [
          17.14238687901972,
          15.775726707916432,
          15.989462347425771,
          16.851591124698285,
          16.717763415603496,
          14.310062356756935,
          14.5723059746109,
          13.3476811958149,
          15.849200216451232,
          12.565402640695696,
          16.084781044581263,
          14.11539724268468,
          16.397679501557164,
          13.548613123951707,
          14.186108713893296,
          11.812189996775132,
          14.866057832702904,
          12.5799081053059,
          14.163591538115917,
          12.020975928692252,
          13.680974319783642,
          12.22887496390804,
          15.862362395833156,
          14.188898876104474,
          15.018407075494991,
          12.948944225299863,
          14.764916741760771,
          12.265233452406,
          14.177533914667926,
          12.378460471546267,
          12.871909126092456
         ],
         "yaxis": "y"
        },
        {
         "line": {
          "color": "#3f3f3f"
         },
         "mode": "lines",
         "name": "Actual",
         "showlegend": false,
         "type": "scattergl",
         "x": [
          0,
          0
         ],
         "xaxis": "x2",
         "y": [
          0,
          1
         ],
         "yaxis": "y2"
        },
        {
         "line": {
          "color": "#3f3f3f"
         },
         "mode": "lines",
         "name": "Actual",
         "showlegend": false,
         "type": "scattergl",
         "x": [
          1,
          1
         ],
         "xaxis": "x2",
         "y": [
          0,
          0.07810124725811655
         ],
         "yaxis": "y2"
        },
        {
         "line": {
          "color": "#3f3f3f"
         },
         "mode": "lines",
         "name": "Actual",
         "showlegend": false,
         "type": "scattergl",
         "x": [
          2,
          2
         ],
         "xaxis": "x2",
         "y": [
          0,
          0.5989643105350673
         ],
         "yaxis": "y2"
        },
        {
         "line": {
          "color": "#3f3f3f"
         },
         "mode": "lines",
         "name": "Actual",
         "showlegend": false,
         "type": "scattergl",
         "x": [
          3,
          3
         ],
         "xaxis": "x2",
         "y": [
          0,
          -0.12986983239935385
         ],
         "yaxis": "y2"
        },
        {
         "line": {
          "color": "#3f3f3f"
         },
         "mode": "lines",
         "name": "Actual",
         "showlegend": false,
         "type": "scattergl",
         "x": [
          4,
          4
         ],
         "xaxis": "x2",
         "y": [
          0,
          0.41291292486649706
         ],
         "yaxis": "y2"
        },
        {
         "line": {
          "color": "#3f3f3f"
         },
         "mode": "lines",
         "name": "Actual",
         "showlegend": false,
         "type": "scattergl",
         "x": [
          5,
          5
         ],
         "xaxis": "x2",
         "y": [
          0,
          -0.2542818533248881
         ],
         "yaxis": "y2"
        },
        {
         "line": {
          "color": "#3f3f3f"
         },
         "mode": "lines",
         "name": "Actual",
         "showlegend": false,
         "type": "scattergl",
         "x": [
          6,
          6
         ],
         "xaxis": "x2",
         "y": [
          0,
          0.29947530154921415
         ],
         "yaxis": "y2"
        },
        {
         "line": {
          "color": "#3f3f3f"
         },
         "mode": "lines",
         "name": "Actual",
         "showlegend": false,
         "type": "scattergl",
         "x": [
          7,
          7
         ],
         "xaxis": "x2",
         "y": [
          0,
          -0.25129734826136235
         ],
         "yaxis": "y2"
        },
        {
         "line": {
          "color": "#3f3f3f"
         },
         "mode": "lines",
         "name": "Actual",
         "showlegend": false,
         "type": "scattergl",
         "x": [
          8,
          8
         ],
         "xaxis": "x2",
         "y": [
          0,
          0.3406255365254512
         ],
         "yaxis": "y2"
        },
        {
         "line": {
          "color": "#3f3f3f"
         },
         "mode": "lines",
         "name": "Actual",
         "showlegend": false,
         "type": "scattergl",
         "x": [
          9,
          9
         ],
         "xaxis": "x2",
         "y": [
          0,
          -0.1457419844655942
         ],
         "yaxis": "y2"
        },
        {
         "line": {
          "color": "#3f3f3f"
         },
         "mode": "lines",
         "name": "Actual",
         "showlegend": false,
         "type": "scattergl",
         "x": [
          10,
          10
         ],
         "xaxis": "x2",
         "y": [
          0,
          0.35824331464713116
         ],
         "yaxis": "y2"
        },
        {
         "line": {
          "color": "#3f3f3f"
         },
         "mode": "lines",
         "name": "Actual",
         "showlegend": false,
         "type": "scattergl",
         "x": [
          11,
          11
         ],
         "xaxis": "x2",
         "y": [
          0,
          -0.14778513512557434
         ],
         "yaxis": "y2"
        },
        {
         "line": {
          "color": "#3f3f3f"
         },
         "mode": "lines",
         "name": "Actual",
         "showlegend": false,
         "type": "scattergl",
         "x": [
          12,
          12
         ],
         "xaxis": "x2",
         "y": [
          0,
          0.2449453612040178
         ],
         "yaxis": "y2"
        },
        {
         "line": {
          "color": "#3f3f3f"
         },
         "mode": "lines",
         "name": "Actual",
         "showlegend": false,
         "type": "scattergl",
         "x": [
          13,
          13
         ],
         "xaxis": "x2",
         "y": [
          0,
          -0.2258755358838626
         ],
         "yaxis": "y2"
        },
        {
         "line": {
          "color": "#3f3f3f"
         },
         "mode": "lines",
         "name": "Actual",
         "showlegend": false,
         "type": "scattergl",
         "x": [
          14,
          14
         ],
         "xaxis": "x2",
         "y": [
          0,
          0.06267510693493186
         ],
         "yaxis": "y2"
        },
        {
         "line": {
          "color": "#3f3f3f"
         },
         "mode": "lines",
         "name": "Actual",
         "showlegend": false,
         "type": "scattergl",
         "x": [
          15,
          15
         ],
         "xaxis": "x2",
         "y": [
          0,
          -0.28772298147798014
         ],
         "yaxis": "y2"
        },
        {
         "line": {
          "color": "#3f3f3f"
         },
         "mode": "lines",
         "name": "Actual",
         "showlegend": false,
         "type": "scattergl",
         "x": [
          16,
          16
         ],
         "xaxis": "x2",
         "y": [
          0,
          -0.026222341893753002
         ],
         "yaxis": "y2"
        },
        {
         "line": {
          "color": "#3f3f3f"
         },
         "mode": "lines",
         "name": "Actual",
         "showlegend": false,
         "type": "scattergl",
         "x": [
          17,
          17
         ],
         "xaxis": "x2",
         "y": [
          0,
          -0.3457525840377746
         ],
         "yaxis": "y2"
        },
        {
         "line": {
          "color": "#3f3f3f"
         },
         "mode": "lines",
         "name": "Actual",
         "showlegend": false,
         "type": "scattergl",
         "x": [
          18,
          18
         ],
         "xaxis": "x2",
         "y": [
          0,
          -0.04616338399837569
         ],
         "yaxis": "y2"
        },
        {
         "line": {
          "color": "#3f3f3f"
         },
         "mode": "lines",
         "name": "Actual",
         "showlegend": false,
         "type": "scattergl",
         "x": [
          19,
          19
         ],
         "xaxis": "x2",
         "y": [
          0,
          -0.18949075224279782
         ],
         "yaxis": "y2"
        },
        {
         "line": {
          "color": "#3f3f3f"
         },
         "mode": "lines",
         "name": "Actual",
         "showlegend": false,
         "type": "scattergl",
         "x": [
          20,
          20
         ],
         "xaxis": "x2",
         "y": [
          0,
          0.025906967328040282
         ],
         "yaxis": "y2"
        },
        {
         "line": {
          "color": "#3f3f3f"
         },
         "mode": "lines",
         "name": "Actual",
         "showlegend": false,
         "type": "scattergl",
         "x": [
          21,
          21
         ],
         "xaxis": "x2",
         "y": [
          0,
          -0.08253507983111764
         ],
         "yaxis": "y2"
        },
        {
         "line": {
          "color": "#3f3f3f"
         },
         "mode": "lines",
         "name": "Actual",
         "showlegend": false,
         "type": "scattergl",
         "x": [
          22,
          22
         ],
         "xaxis": "x2",
         "y": [
          0,
          0.03680853672363018
         ],
         "yaxis": "y2"
        },
        {
         "line": {
          "color": "#3f3f3f"
         },
         "mode": "lines",
         "name": "Actual",
         "showlegend": false,
         "type": "scattergl",
         "x": [
          23,
          23
         ],
         "xaxis": "x2",
         "y": [
          0,
          -0.059665724221622835
         ],
         "yaxis": "y2"
        },
        {
         "line": {
          "color": "#3f3f3f"
         },
         "mode": "lines",
         "name": "Actual",
         "showlegend": false,
         "type": "scattergl",
         "x": [
          24,
          24
         ],
         "xaxis": "x2",
         "y": [
          0,
          -0.06809035192069006
         ],
         "yaxis": "y2"
        },
        {
         "line": {
          "color": "#3f3f3f"
         },
         "mode": "lines",
         "name": "Actual",
         "showlegend": false,
         "type": "scattergl",
         "x": [
          25,
          25
         ],
         "xaxis": "x2",
         "y": [
          0,
          -0.15559926864419643
         ],
         "yaxis": "y2"
        },
        {
         "line": {
          "color": "#3f3f3f"
         },
         "mode": "lines",
         "name": "Actual",
         "showlegend": false,
         "type": "scattergl",
         "x": [
          26,
          26
         ],
         "xaxis": "x2",
         "y": [
          0,
          -0.1378183310162819
         ],
         "yaxis": "y2"
        },
        {
         "line": {
          "color": "#3f3f3f"
         },
         "mode": "lines",
         "name": "Actual",
         "showlegend": false,
         "type": "scattergl",
         "x": [
          27,
          27
         ],
         "xaxis": "x2",
         "y": [
          0,
          -0.17297252046682182
         ],
         "yaxis": "y2"
        },
        {
         "line": {
          "color": "#3f3f3f"
         },
         "mode": "lines",
         "name": "Actual",
         "showlegend": false,
         "type": "scattergl",
         "x": [
          28,
          28
         ],
         "xaxis": "x2",
         "y": [
          0,
          -0.07529787382490244
         ],
         "yaxis": "y2"
        },
        {
         "line": {
          "color": "#3f3f3f"
         },
         "mode": "lines",
         "name": "Actual",
         "showlegend": false,
         "type": "scattergl",
         "x": [
          29,
          29
         ],
         "xaxis": "x2",
         "y": [
          0,
          -0.10185819908742319
         ],
         "yaxis": "y2"
        },
        {
         "line": {
          "color": "#3f3f3f"
         },
         "mode": "lines",
         "name": "Actual",
         "showlegend": false,
         "type": "scattergl",
         "x": [
          30,
          30
         ],
         "xaxis": "x2",
         "y": [
          0,
          -0.05461752544772475
         ],
         "yaxis": "y2"
        },
        {
         "marker": {
          "color": "#1f77b4",
          "size": 6
         },
         "mode": "markers",
         "name": "Actual",
         "showlegend": false,
         "type": "scattergl",
         "x": [
          0,
          1,
          2,
          3,
          4,
          5,
          6,
          7,
          8,
          9,
          10,
          11,
          12,
          13,
          14,
          15,
          16,
          17,
          18,
          19,
          20,
          21,
          22,
          23,
          24,
          25,
          26,
          27,
          28,
          29,
          30
         ],
         "xaxis": "x2",
         "y": [
          1,
          0.07810124725811655,
          0.5989643105350673,
          -0.12986983239935385,
          0.41291292486649706,
          -0.2542818533248881,
          0.29947530154921415,
          -0.25129734826136235,
          0.3406255365254512,
          -0.1457419844655942,
          0.35824331464713116,
          -0.14778513512557434,
          0.2449453612040178,
          -0.2258755358838626,
          0.06267510693493186,
          -0.28772298147798014,
          -0.026222341893753002,
          -0.3457525840377746,
          -0.04616338399837569,
          -0.18949075224279782,
          0.025906967328040282,
          -0.08253507983111764,
          0.03680853672363018,
          -0.059665724221622835,
          -0.06809035192069006,
          -0.15559926864419643,
          -0.1378183310162819,
          -0.17297252046682182,
          -0.07529787382490244,
          -0.10185819908742319,
          -0.05461752544772475
         ],
         "yaxis": "y2"
        },
        {
         "line": {
          "color": "rgba(255,255,255,0)"
         },
         "mode": "lines",
         "name": "UC",
         "showlegend": false,
         "type": "scatter",
         "x": [
          0,
          1,
          2,
          3,
          4,
          5,
          6,
          7,
          8,
          9,
          10,
          11,
          12,
          13,
          14,
          15,
          16,
          17,
          18,
          19,
          20,
          21,
          22,
          23,
          24,
          25,
          26,
          27,
          28,
          29,
          30
         ],
         "xaxis": "x2",
         "y": [
          0,
          0.3520199234049176,
          0.35416066696508997,
          0.46297192733637865,
          0.46746449206039525,
          0.5106646409890492,
          0.5261209666721003,
          0.546836868776101,
          0.5609647906368636,
          0.5860348639583086,
          0.5905091696808256,
          0.616853248652439,
          0.6212252251357778,
          0.6330801725263235,
          0.6429891447134808,
          0.6437457433854681,
          0.6594888697615601,
          0.6596180593257873,
          0.681706320791105,
          0.6820935865519963,
          0.6885859763430854,
          0.6887067497687112,
          0.6899313416094973,
          0.6901746455539982,
          0.6908135330020199,
          0.691644691070342,
          0.6959689434003884,
          0.6993426495584938,
          0.7046242051635287,
          0.705620609018276,
          0.70744029140299
         ],
         "yaxis": "y2"
        },
        {
         "fill": "tonexty",
         "fillcolor": "rgba(32, 146, 230,0.3)",
         "line": {
          "color": "rgba(255,255,255,0)"
         },
         "mode": "lines",
         "name": "LC",
         "showlegend": false,
         "type": "scatter",
         "x": [
          0,
          1,
          2,
          3,
          4,
          5,
          6,
          7,
          8,
          9,
          10,
          11,
          12,
          13,
          14,
          15,
          16,
          17,
          18,
          19,
          20,
          21,
          22,
          23,
          24,
          25,
          26,
          27,
          28,
          29,
          30
         ],
         "xaxis": "x2",
         "y": [
          0,
          -0.3520199234049176,
          -0.35416066696508997,
          -0.46297192733637865,
          -0.4674644920603952,
          -0.5106646409890492,
          -0.5261209666721003,
          -0.5468368687761012,
          -0.5609647906368634,
          -0.5860348639583086,
          -0.5905091696808256,
          -0.616853248652439,
          -0.6212252251357778,
          -0.6330801725263235,
          -0.6429891447134808,
          -0.6437457433854681,
          -0.6594888697615601,
          -0.6596180593257872,
          -0.681706320791105,
          -0.6820935865519964,
          -0.6885859763430854,
          -0.6887067497687112,
          -0.6899313416094973,
          -0.6901746455539982,
          -0.6908135330020199,
          -0.691644691070342,
          -0.6959689434003884,
          -0.6993426495584938,
          -0.7046242051635287,
          -0.705620609018276,
          -0.70744029140299
         ],
         "yaxis": "y2"
        },
        {
         "line": {
          "color": "#3f3f3f"
         },
         "mode": "lines",
         "name": "Actual",
         "showlegend": false,
         "type": "scattergl",
         "x": [
          0,
          0
         ],
         "xaxis": "x3",
         "y": [
          0,
          1
         ],
         "yaxis": "y3"
        },
        {
         "line": {
          "color": "#3f3f3f"
         },
         "mode": "lines",
         "name": "Actual",
         "showlegend": false,
         "type": "scattergl",
         "x": [
          1,
          1
         ],
         "xaxis": "x3",
         "y": [
          0,
          0.08070462216672045
         ],
         "yaxis": "y3"
        },
        {
         "line": {
          "color": "#3f3f3f"
         },
         "mode": "lines",
         "name": "Actual",
         "showlegend": false,
         "type": "scattergl",
         "x": [
          2,
          2
         ],
         "xaxis": "x3",
         "y": [
          0,
          0.6379138414028194
         ],
         "yaxis": "y3"
        },
        {
         "line": {
          "color": "#3f3f3f"
         },
         "mode": "lines",
         "name": "Actual",
         "showlegend": false,
         "type": "scattergl",
         "x": [
          3,
          3
         ],
         "xaxis": "x3",
         "y": [
          0,
          -0.3631635421781505
         ],
         "yaxis": "y3"
        },
        {
         "line": {
          "color": "#3f3f3f"
         },
         "mode": "lines",
         "name": "Actual",
         "showlegend": false,
         "type": "scattergl",
         "x": [
          4,
          4
         ],
         "xaxis": "x3",
         "y": [
          0,
          0.24569704081517116
         ],
         "yaxis": "y3"
        },
        {
         "line": {
          "color": "#3f3f3f"
         },
         "mode": "lines",
         "name": "Actual",
         "showlegend": false,
         "type": "scattergl",
         "x": [
          5,
          5
         ],
         "xaxis": "x3",
         "y": [
          0,
          -0.3018921754507262
         ],
         "yaxis": "y3"
        },
        {
         "line": {
          "color": "#3f3f3f"
         },
         "mode": "lines",
         "name": "Actual",
         "showlegend": false,
         "type": "scattergl",
         "x": [
          6,
          6
         ],
         "xaxis": "x3",
         "y": [
          0,
          0.20237157744673623
         ],
         "yaxis": "y3"
        },
        {
         "line": {
          "color": "#3f3f3f"
         },
         "mode": "lines",
         "name": "Actual",
         "showlegend": false,
         "type": "scattergl",
         "x": [
          7,
          7
         ],
         "xaxis": "x3",
         "y": [
          0,
          -0.09426676029695263
         ],
         "yaxis": "y3"
        },
        {
         "line": {
          "color": "#3f3f3f"
         },
         "mode": "lines",
         "name": "Actual",
         "showlegend": false,
         "type": "scattergl",
         "x": [
          8,
          8
         ],
         "xaxis": "x3",
         "y": [
          0,
          0.34743680211184713
         ],
         "yaxis": "y3"
        },
        {
         "line": {
          "color": "#3f3f3f"
         },
         "mode": "lines",
         "name": "Actual",
         "showlegend": false,
         "type": "scattergl",
         "x": [
          9,
          9
         ],
         "xaxis": "x3",
         "y": [
          0,
          -0.03950210263679935
         ],
         "yaxis": "y3"
        },
        {
         "line": {
          "color": "#3f3f3f"
         },
         "mode": "lines",
         "name": "Actual",
         "showlegend": false,
         "type": "scattergl",
         "x": [
          10,
          10
         ],
         "xaxis": "x3",
         "y": [
          0,
          0.16274434903002688
         ],
         "yaxis": "y3"
        },
        {
         "line": {
          "color": "#3f3f3f"
         },
         "mode": "lines",
         "name": "Actual",
         "showlegend": false,
         "type": "scattergl",
         "x": [
          11,
          11
         ],
         "xaxis": "x3",
         "y": [
          0,
          -0.2368459360587613
         ],
         "yaxis": "y3"
        },
        {
         "line": {
          "color": "#3f3f3f"
         },
         "mode": "lines",
         "name": "Actual",
         "showlegend": false,
         "type": "scattergl",
         "x": [
          12,
          12
         ],
         "xaxis": "x3",
         "y": [
          0,
          -0.07925935978379334
         ],
         "yaxis": "y3"
        },
        {
         "line": {
          "color": "#3f3f3f"
         },
         "mode": "lines",
         "name": "Actual",
         "showlegend": false,
         "type": "scattergl",
         "x": [
          13,
          13
         ],
         "xaxis": "x3",
         "y": [
          0,
          -0.19354299378365283
         ],
         "yaxis": "y3"
        },
        {
         "line": {
          "color": "#3f3f3f"
         },
         "mode": "lines",
         "name": "Actual",
         "showlegend": false,
         "type": "scattergl",
         "x": [
          14,
          14
         ],
         "xaxis": "x3",
         "y": [
          0,
          -0.4326059782926324
         ],
         "yaxis": "y3"
        },
        {
         "marker": {
          "color": "#1f77b4",
          "size": 6
         },
         "mode": "markers",
         "name": "Actual",
         "showlegend": false,
         "type": "scattergl",
         "x": [
          0,
          1,
          2,
          3,
          4,
          5,
          6,
          7,
          8,
          9,
          10,
          11,
          12,
          13,
          14
         ],
         "xaxis": "x3",
         "y": [
          1,
          0.08070462216672045,
          0.6379138414028194,
          -0.3631635421781505,
          0.24569704081517116,
          -0.3018921754507262,
          0.20237157744673623,
          -0.09426676029695263,
          0.34743680211184713,
          -0.03950210263679935,
          0.16274434903002688,
          -0.2368459360587613,
          -0.07925935978379334,
          -0.19354299378365283,
          -0.4326059782926324
         ],
         "yaxis": "y3"
        },
        {
         "line": {
          "color": "rgba(255,255,255,0)"
         },
         "mode": "lines",
         "name": "UC",
         "showlegend": false,
         "type": "scatter",
         "x": [
          0,
          1,
          2,
          3,
          4,
          5,
          6,
          7,
          8,
          9,
          10,
          11,
          12,
          13,
          14
         ],
         "xaxis": "x3",
         "y": [
          0,
          0.3520199234049176,
          0.3520199234049176,
          0.3520199234049176,
          0.3520199234049176,
          0.3520199234049176,
          0.35201992340491756,
          0.3520199234049176,
          0.3520199234049176,
          0.3520199234049176,
          0.3520199234049176,
          0.3520199234049176,
          0.3520199234049176,
          0.3520199234049176,
          0.3520199234049176
         ],
         "yaxis": "y3"
        },
        {
         "fill": "tonexty",
         "fillcolor": "rgba(32, 146, 230,0.3)",
         "line": {
          "color": "rgba(255,255,255,0)"
         },
         "mode": "lines",
         "name": "LC",
         "showlegend": false,
         "type": "scatter",
         "x": [
          0,
          1,
          2,
          3,
          4,
          5,
          6,
          7,
          8,
          9,
          10,
          11,
          12,
          13,
          14
         ],
         "xaxis": "x3",
         "y": [
          0,
          -0.3520199234049176,
          -0.3520199234049176,
          -0.3520199234049176,
          -0.3520199234049176,
          -0.3520199234049176,
          -0.3520199234049176,
          -0.3520199234049176,
          -0.3520199234049176,
          -0.3520199234049176,
          -0.3520199234049176,
          -0.35201992340491756,
          -0.3520199234049176,
          -0.3520199234049176,
          -0.35201992340491767
         ],
         "yaxis": "y3"
        },
        {
         "hoverinfo": "text",
         "hovertext": [
          "Freq: 0.0323<br>Ampl: 8.967<br>Time period: 31.0",
          "Freq: 0.0645<br>Ampl: 8.6126<br>Time period: 15.5",
          "Freq: 0.0968<br>Ampl: 5.6693<br>Time period: 10.3333",
          "Freq: 0.129<br>Ampl: -4.7733<br>Time period: 7.75",
          "Freq: 0.1613<br>Ampl: 4.7937<br>Time period: 6.2",
          "Freq: 0.1935<br>Ampl: 5.4436<br>Time period: 5.1667",
          "Freq: 0.2258<br>Ampl: 0.9824<br>Time period: 4.4286",
          "Freq: 0.2581<br>Ampl: -6.1128<br>Time period: 3.875",
          "Freq: 0.2903<br>Ampl: -5.3737<br>Time period: 3.4444",
          "Freq: 0.3226<br>Ampl: -1.609<br>Time period: 3.1",
          "Freq: 0.3548<br>Ampl: -2.4919<br>Time period: 2.8182",
          "Freq: 0.3871<br>Ampl: -9.4738<br>Time period: 2.5833",
          "Freq: 0.4194<br>Ampl: -24.7991<br>Time period: 2.3846",
          "Freq: 0.4516<br>Ampl: 6.9923<br>Time period: 2.2143",
          "Freq: 0.4839<br>Ampl: 14.9512<br>Time period: 2.0667"
         ],
         "line": {
          "color": "#1f77b4",
          "width": 2
         },
         "marker": {
          "size": 5
         },
         "mode": "lines+markers",
         "name": "Actual",
         "showlegend": false,
         "type": "scattergl",
         "x": [
          0.03225806451612903,
          0.06451612903225806,
          0.0967741935483871,
          0.12903225806451613,
          0.16129032258064516,
          0.1935483870967742,
          0.22580645161290322,
          0.25806451612903225,
          0.29032258064516125,
          0.3225806451612903,
          0.3548387096774194,
          0.3870967741935484,
          0.4193548387096774,
          0.45161290322580644,
          0.4838709677419355
         ],
         "xaxis": "x4",
         "y": [
          8.96702082897246,
          8.612571101231987,
          5.669266215024575,
          -4.773278285507977,
          4.793724867817297,
          5.443635395925186,
          0.9823518085357642,
          -6.112772025309903,
          -5.373681963641443,
          -1.6090066242673355,
          -2.491899350156685,
          -9.47381040030685,
          -24.799055034894735,
          6.992306996014817,
          14.951178133153608
         ],
         "yaxis": "y4"
        },
        {
         "line": {
          "color": "rgb(31, 119, 180)",
          "width": 2
         },
         "marker": {
          "color": "rgb(31, 119, 180)",
          "size": 5
         },
         "mode": "lines+markers",
         "name": "Lags=[1]",
         "showlegend": false,
         "type": "scattergl",
         "x": [
          "2010-01-01T00:00:00",
          "2010-07-01T00:00:00",
          "2011-01-01T00:00:00",
          "2011-07-01T00:00:00",
          "2012-01-01T00:00:00",
          "2012-07-01T00:00:00",
          "2013-01-01T00:00:00",
          "2013-07-01T00:00:00",
          "2014-01-01T00:00:00",
          "2014-07-01T00:00:00",
          "2015-01-01T00:00:00",
          "2015-07-01T00:00:00",
          "2016-01-01T00:00:00",
          "2016-07-01T00:00:00",
          "2017-01-01T00:00:00",
          "2017-07-01T00:00:00",
          "2018-01-01T00:00:00",
          "2018-07-01T00:00:00",
          "2019-01-01T00:00:00",
          "2019-07-01T00:00:00",
          "2020-01-01T00:00:00",
          "2020-07-01T00:00:00",
          "2021-01-01T00:00:00",
          "2021-07-01T00:00:00",
          "2022-01-01T00:00:00",
          "2022-07-01T00:00:00",
          "2023-01-01T00:00:00",
          "2023-07-01T00:00:00",
          "2024-01-01T00:00:00",
          "2024-07-01T00:00:00"
         ],
         "xaxis": "x5",
         "y": [
          -1.3666601711032893,
          0.2137356395093395,
          0.8621287772725132,
          -0.13382770909478836,
          -2.407701058846561,
          0.2622436178539651,
          -1.2246247787960005,
          2.501519020636332,
          -3.2837975757555355,
          3.5193784038855664,
          -1.9693838018965835,
          2.2822822588724847,
          -2.849066377605457,
          0.6374955899415884,
          -2.3739187171181637,
          3.053867835927772,
          -2.286149727397003,
          1.583683432810016,
          -2.1426156094236646,
          1.6599983910913902,
          -1.4520993558756015,
          3.633487431925115,
          -1.6734635197286813,
          0.8295081993905171,
          -2.069462850195128,
          1.8159725164609082,
          -2.4996832893547722,
          1.9123004622619266,
          -1.7990734431216584,
          0.4934486545461887
         ],
         "yaxis": "y5"
        },
        {
         "line": {
          "color": "#3f3f3f"
         },
         "mode": "lines",
         "name": "Lags=[1]",
         "showlegend": false,
         "type": "scattergl",
         "x": [
          0,
          0
         ],
         "xaxis": "x6",
         "y": [
          0,
          1
         ],
         "yaxis": "y6"
        },
        {
         "line": {
          "color": "#3f3f3f"
         },
         "mode": "lines",
         "name": "Lags=[1]",
         "showlegend": false,
         "type": "scattergl",
         "x": [
          1,
          1
         ],
         "xaxis": "x6",
         "y": [
          0,
          -0.8277726401522697
         ],
         "yaxis": "y6"
        },
        {
         "line": {
          "color": "#3f3f3f"
         },
         "mode": "lines",
         "name": "Lags=[1]",
         "showlegend": false,
         "type": "scattergl",
         "x": [
          2,
          2
         ],
         "xaxis": "x6",
         "y": [
          0,
          0.7485290069002647
         ],
         "yaxis": "y6"
        },
        {
         "line": {
          "color": "#3f3f3f"
         },
         "mode": "lines",
         "name": "Lags=[1]",
         "showlegend": false,
         "type": "scattergl",
         "x": [
          3,
          3
         ],
         "xaxis": "x6",
         "y": [
          0,
          -0.7949434588470334
         ],
         "yaxis": "y6"
        },
        {
         "line": {
          "color": "#3f3f3f"
         },
         "mode": "lines",
         "name": "Lags=[1]",
         "showlegend": false,
         "type": "scattergl",
         "x": [
          4,
          4
         ],
         "xaxis": "x6",
         "y": [
          0,
          0.7404218434376056
         ],
         "yaxis": "y6"
        },
        {
         "line": {
          "color": "#3f3f3f"
         },
         "mode": "lines",
         "name": "Lags=[1]",
         "showlegend": false,
         "type": "scattergl",
         "x": [
          5,
          5
         ],
         "xaxis": "x6",
         "y": [
          0,
          -0.6871122078087097
         ],
         "yaxis": "y6"
        },
        {
         "line": {
          "color": "#3f3f3f"
         },
         "mode": "lines",
         "name": "Lags=[1]",
         "showlegend": false,
         "type": "scattergl",
         "x": [
          6,
          6
         ],
         "xaxis": "x6",
         "y": [
          0,
          0.666975564478737
         ],
         "yaxis": "y6"
        },
        {
         "line": {
          "color": "#3f3f3f"
         },
         "mode": "lines",
         "name": "Lags=[1]",
         "showlegend": false,
         "type": "scattergl",
         "x": [
          7,
          7
         ],
         "xaxis": "x6",
         "y": [
          0,
          -0.6543846908487536
         ],
         "yaxis": "y6"
        },
        {
         "line": {
          "color": "#3f3f3f"
         },
         "mode": "lines",
         "name": "Lags=[1]",
         "showlegend": false,
         "type": "scattergl",
         "x": [
          8,
          8
         ],
         "xaxis": "x6",
         "y": [
          0,
          0.5958363563703115
         ],
         "yaxis": "y6"
        },
        {
         "line": {
          "color": "#3f3f3f"
         },
         "mode": "lines",
         "name": "Lags=[1]",
         "showlegend": false,
         "type": "scattergl",
         "x": [
          9,
          9
         ],
         "xaxis": "x6",
         "y": [
          0,
          -0.5517294234705603
         ],
         "yaxis": "y6"
        },
        {
         "line": {
          "color": "#3f3f3f"
         },
         "mode": "lines",
         "name": "Lags=[1]",
         "showlegend": false,
         "type": "scattergl",
         "x": [
          10,
          10
         ],
         "xaxis": "x6",
         "y": [
          0,
          0.5271966495546088
         ],
         "yaxis": "y6"
        },
        {
         "line": {
          "color": "#3f3f3f"
         },
         "mode": "lines",
         "name": "Lags=[1]",
         "showlegend": false,
         "type": "scattergl",
         "x": [
          11,
          11
         ],
         "xaxis": "x6",
         "y": [
          0,
          -0.507416551839381
         ],
         "yaxis": "y6"
        },
        {
         "line": {
          "color": "#3f3f3f"
         },
         "mode": "lines",
         "name": "Lags=[1]",
         "showlegend": false,
         "type": "scattergl",
         "x": [
          12,
          12
         ],
         "xaxis": "x6",
         "y": [
          0,
          0.4765406356526103
         ],
         "yaxis": "y6"
        },
        {
         "line": {
          "color": "#3f3f3f"
         },
         "mode": "lines",
         "name": "Lags=[1]",
         "showlegend": false,
         "type": "scattergl",
         "x": [
          13,
          13
         ],
         "xaxis": "x6",
         "y": [
          0,
          -0.4037807887770691
         ],
         "yaxis": "y6"
        },
        {
         "line": {
          "color": "#3f3f3f"
         },
         "mode": "lines",
         "name": "Lags=[1]",
         "showlegend": false,
         "type": "scattergl",
         "x": [
          14,
          14
         ],
         "xaxis": "x6",
         "y": [
          0,
          0.3859925544513782
         ],
         "yaxis": "y6"
        },
        {
         "line": {
          "color": "#3f3f3f"
         },
         "mode": "lines",
         "name": "Lags=[1]",
         "showlegend": false,
         "type": "scattergl",
         "x": [
          15,
          15
         ],
         "xaxis": "x6",
         "y": [
          0,
          -0.3435488697177942
         ],
         "yaxis": "y6"
        },
        {
         "line": {
          "color": "#3f3f3f"
         },
         "mode": "lines",
         "name": "Lags=[1]",
         "showlegend": false,
         "type": "scattergl",
         "x": [
          16,
          16
         ],
         "xaxis": "x6",
         "y": [
          0,
          0.2966496104940576
         ],
         "yaxis": "y6"
        },
        {
         "line": {
          "color": "#3f3f3f"
         },
         "mode": "lines",
         "name": "Lags=[1]",
         "showlegend": false,
         "type": "scattergl",
         "x": [
          17,
          17
         ],
         "xaxis": "x6",
         "y": [
          0,
          -0.32168590808995917
         ],
         "yaxis": "y6"
        },
        {
         "line": {
          "color": "#3f3f3f"
         },
         "mode": "lines",
         "name": "Lags=[1]",
         "showlegend": false,
         "type": "scattergl",
         "x": [
          18,
          18
         ],
         "xaxis": "x6",
         "y": [
          0,
          0.25681232254681524
         ],
         "yaxis": "y6"
        },
        {
         "line": {
          "color": "#3f3f3f"
         },
         "mode": "lines",
         "name": "Lags=[1]",
         "showlegend": false,
         "type": "scattergl",
         "x": [
          19,
          19
         ],
         "xaxis": "x6",
         "y": [
          0,
          -0.18933812915280576
         ],
         "yaxis": "y6"
        },
        {
         "line": {
          "color": "#3f3f3f"
         },
         "mode": "lines",
         "name": "Lags=[1]",
         "showlegend": false,
         "type": "scattergl",
         "x": [
          20,
          20
         ],
         "xaxis": "x6",
         "y": [
          0,
          0.17495090773375388
         ],
         "yaxis": "y6"
        },
        {
         "line": {
          "color": "#3f3f3f"
         },
         "mode": "lines",
         "name": "Lags=[1]",
         "showlegend": false,
         "type": "scattergl",
         "x": [
          21,
          21
         ],
         "xaxis": "x6",
         "y": [
          0,
          -0.14412226273258366
         ],
         "yaxis": "y6"
        },
        {
         "line": {
          "color": "#3f3f3f"
         },
         "mode": "lines",
         "name": "Lags=[1]",
         "showlegend": false,
         "type": "scattergl",
         "x": [
          22,
          22
         ],
         "xaxis": "x6",
         "y": [
          0,
          0.07877116867255254
         ],
         "yaxis": "y6"
        },
        {
         "line": {
          "color": "#3f3f3f"
         },
         "mode": "lines",
         "name": "Lags=[1]",
         "showlegend": false,
         "type": "scattergl",
         "x": [
          23,
          23
         ],
         "xaxis": "x6",
         "y": [
          0,
          -0.0470548115396264
         ],
         "yaxis": "y6"
        },
        {
         "line": {
          "color": "#3f3f3f"
         },
         "mode": "lines",
         "name": "Lags=[1]",
         "showlegend": false,
         "type": "scattergl",
         "x": [
          24,
          24
         ],
         "xaxis": "x6",
         "y": [
          0,
          0.03735125340638497
         ],
         "yaxis": "y6"
        },
        {
         "line": {
          "color": "#3f3f3f"
         },
         "mode": "lines",
         "name": "Lags=[1]",
         "showlegend": false,
         "type": "scattergl",
         "x": [
          25,
          25
         ],
         "xaxis": "x6",
         "y": [
          0,
          -0.020807917277877085
         ],
         "yaxis": "y6"
        },
        {
         "line": {
          "color": "#3f3f3f"
         },
         "mode": "lines",
         "name": "Lags=[1]",
         "showlegend": false,
         "type": "scattergl",
         "x": [
          26,
          26
         ],
         "xaxis": "x6",
         "y": [
          0,
          0.01551352390341094
         ],
         "yaxis": "y6"
        },
        {
         "line": {
          "color": "#3f3f3f"
         },
         "mode": "lines",
         "name": "Lags=[1]",
         "showlegend": false,
         "type": "scattergl",
         "x": [
          27,
          27
         ],
         "xaxis": "x6",
         "y": [
          0,
          -0.01953485507892622
         ],
         "yaxis": "y6"
        },
        {
         "line": {
          "color": "#3f3f3f"
         },
         "mode": "lines",
         "name": "Lags=[1]",
         "showlegend": false,
         "type": "scattergl",
         "x": [
          28,
          28
         ],
         "xaxis": "x6",
         "y": [
          0,
          0.01785541593108253
         ],
         "yaxis": "y6"
        },
        {
         "line": {
          "color": "#3f3f3f"
         },
         "mode": "lines",
         "name": "Lags=[1]",
         "showlegend": false,
         "type": "scattergl",
         "x": [
          29,
          29
         ],
         "xaxis": "x6",
         "y": [
          0,
          -0.0061642982002242394
         ],
         "yaxis": "y6"
        },
        {
         "marker": {
          "color": "#1f77b4",
          "size": 6
         },
         "mode": "markers",
         "name": "Lags=[1]",
         "showlegend": false,
         "type": "scattergl",
         "x": [
          0,
          1,
          2,
          3,
          4,
          5,
          6,
          7,
          8,
          9,
          10,
          11,
          12,
          13,
          14,
          15,
          16,
          17,
          18,
          19,
          20,
          21,
          22,
          23,
          24,
          25,
          26,
          27,
          28,
          29
         ],
         "xaxis": "x6",
         "y": [
          1,
          -0.8277726401522697,
          0.7485290069002647,
          -0.7949434588470334,
          0.7404218434376056,
          -0.6871122078087097,
          0.666975564478737,
          -0.6543846908487536,
          0.5958363563703115,
          -0.5517294234705603,
          0.5271966495546088,
          -0.507416551839381,
          0.4765406356526103,
          -0.4037807887770691,
          0.3859925544513782,
          -0.3435488697177942,
          0.2966496104940576,
          -0.32168590808995917,
          0.25681232254681524,
          -0.18933812915280576,
          0.17495090773375388,
          -0.14412226273258366,
          0.07877116867255254,
          -0.0470548115396264,
          0.03735125340638497,
          -0.020807917277877085,
          0.01551352390341094,
          -0.01953485507892622,
          0.01785541593108253,
          -0.0061642982002242394
         ],
         "yaxis": "y6"
        },
        {
         "line": {
          "color": "rgba(255,255,255,0)"
         },
         "mode": "lines",
         "name": "UC",
         "showlegend": false,
         "type": "scatter",
         "x": [
          0,
          1,
          2,
          3,
          4,
          5,
          6,
          7,
          8,
          9,
          10,
          11,
          12,
          13,
          14,
          15,
          16,
          17,
          18,
          19,
          20,
          21,
          22,
          23,
          24,
          25,
          26,
          27,
          28,
          29
         ],
         "xaxis": "x6",
         "y": [
          0,
          0.35783882874343137,
          0.5509341142353773,
          0.668594482635831,
          0.7802918858898859,
          0.8655947193692322,
          0.9328256375397801,
          0.9920131923305927,
          1.0458278859120826,
          1.0884281607381512,
          1.1236695409525652,
          1.154907772313245,
          1.1831101899166208,
          1.207438237498706,
          1.2246064341561083,
          1.2400874618817268,
          1.252215238331845,
          1.261181912105325,
          1.2716450866194453,
          1.2782689459533105,
          1.2818550269107598,
          1.2849089028880845,
          1.2869772114665525,
          1.2875944236929948,
          1.2878145980754856,
          1.287953308325844,
          1.2879963535304333,
          1.288020279920486,
          1.2880582172029298,
          1.2880899109825845
         ],
         "yaxis": "y6"
        },
        {
         "fill": "tonexty",
         "fillcolor": "rgba(32, 146, 230,0.3)",
         "line": {
          "color": "rgba(255,255,255,0)"
         },
         "mode": "lines",
         "name": "LC",
         "showlegend": false,
         "type": "scatter",
         "x": [
          0,
          1,
          2,
          3,
          4,
          5,
          6,
          7,
          8,
          9,
          10,
          11,
          12,
          13,
          14,
          15,
          16,
          17,
          18,
          19,
          20,
          21,
          22,
          23,
          24,
          25,
          26,
          27,
          28,
          29
         ],
         "xaxis": "x6",
         "y": [
          0,
          -0.3578388287434314,
          -0.5509341142353773,
          -0.668594482635831,
          -0.780291885889886,
          -0.8655947193692322,
          -0.9328256375397801,
          -0.9920131923305928,
          -1.0458278859120826,
          -1.0884281607381512,
          -1.1236695409525652,
          -1.154907772313245,
          -1.1831101899166208,
          -1.207438237498706,
          -1.2246064341561083,
          -1.2400874618817268,
          -1.252215238331845,
          -1.261181912105325,
          -1.2716450866194453,
          -1.2782689459533105,
          -1.2818550269107598,
          -1.2849089028880845,
          -1.2869772114665525,
          -1.2875944236929948,
          -1.2878145980754856,
          -1.287953308325844,
          -1.2879963535304333,
          -1.288020279920486,
          -1.2880582172029293,
          -1.2880899109825845
         ],
         "yaxis": "y6"
        },
        {
         "line": {
          "color": "#3f3f3f"
         },
         "mode": "lines",
         "name": "Lags=[1]",
         "showlegend": false,
         "type": "scattergl",
         "x": [
          0,
          0
         ],
         "xaxis": "x7",
         "y": [
          0,
          1
         ],
         "yaxis": "y7"
        },
        {
         "line": {
          "color": "#3f3f3f"
         },
         "mode": "lines",
         "name": "Lags=[1]",
         "showlegend": false,
         "type": "scattergl",
         "x": [
          1,
          1
         ],
         "xaxis": "x7",
         "y": [
          0,
          -0.8563165242954516
         ],
         "yaxis": "y7"
        },
        {
         "line": {
          "color": "#3f3f3f"
         },
         "mode": "lines",
         "name": "Lags=[1]",
         "showlegend": false,
         "type": "scattergl",
         "x": [
          2,
          2
         ],
         "xaxis": "x7",
         "y": [
          0,
          0.2576366858447368
         ],
         "yaxis": "y7"
        },
        {
         "line": {
          "color": "#3f3f3f"
         },
         "mode": "lines",
         "name": "Lags=[1]",
         "showlegend": false,
         "type": "scattergl",
         "x": [
          3,
          3
         ],
         "xaxis": "x7",
         "y": [
          0,
          -0.6137114436544516
         ],
         "yaxis": "y7"
        },
        {
         "line": {
          "color": "#3f3f3f"
         },
         "mode": "lines",
         "name": "Lags=[1]",
         "showlegend": false,
         "type": "scattergl",
         "x": [
          4,
          4
         ],
         "xaxis": "x7",
         "y": [
          0,
          0.08522628672916503
         ],
         "yaxis": "y7"
        },
        {
         "line": {
          "color": "#3f3f3f"
         },
         "mode": "lines",
         "name": "Lags=[1]",
         "showlegend": false,
         "type": "scattergl",
         "x": [
          5,
          5
         ],
         "xaxis": "x7",
         "y": [
          0,
          -0.2318721484851091
         ],
         "yaxis": "y7"
        },
        {
         "line": {
          "color": "#3f3f3f"
         },
         "mode": "lines",
         "name": "Lags=[1]",
         "showlegend": false,
         "type": "scattergl",
         "x": [
          6,
          6
         ],
         "xaxis": "x7",
         "y": [
          0,
          -0.016116933916681897
         ],
         "yaxis": "y7"
        },
        {
         "line": {
          "color": "#3f3f3f"
         },
         "mode": "lines",
         "name": "Lags=[1]",
         "showlegend": false,
         "type": "scattergl",
         "x": [
          7,
          7
         ],
         "xaxis": "x7",
         "y": [
          0,
          -0.2621826358157052
         ],
         "yaxis": "y7"
        },
        {
         "line": {
          "color": "#3f3f3f"
         },
         "mode": "lines",
         "name": "Lags=[1]",
         "showlegend": false,
         "type": "scattergl",
         "x": [
          8,
          8
         ],
         "xaxis": "x7",
         "y": [
          0,
          -0.19858821363916884
         ],
         "yaxis": "y7"
        },
        {
         "line": {
          "color": "#3f3f3f"
         },
         "mode": "lines",
         "name": "Lags=[1]",
         "showlegend": false,
         "type": "scattergl",
         "x": [
          9,
          9
         ],
         "xaxis": "x7",
         "y": [
          0,
          -0.05121447148926779
         ],
         "yaxis": "y7"
        },
        {
         "line": {
          "color": "#3f3f3f"
         },
         "mode": "lines",
         "name": "Lags=[1]",
         "showlegend": false,
         "type": "scattergl",
         "x": [
          10,
          10
         ],
         "xaxis": "x7",
         "y": [
          0,
          -0.3033215929348816
         ],
         "yaxis": "y7"
        },
        {
         "line": {
          "color": "#3f3f3f"
         },
         "mode": "lines",
         "name": "Lags=[1]",
         "showlegend": false,
         "type": "scattergl",
         "x": [
          11,
          11
         ],
         "xaxis": "x7",
         "y": [
          0,
          -0.2866990312056202
         ],
         "yaxis": "y7"
        },
        {
         "line": {
          "color": "#3f3f3f"
         },
         "mode": "lines",
         "name": "Lags=[1]",
         "showlegend": false,
         "type": "scattergl",
         "x": [
          12,
          12
         ],
         "xaxis": "x7",
         "y": [
          0,
          -0.21518033999577232
         ],
         "yaxis": "y7"
        },
        {
         "line": {
          "color": "#3f3f3f"
         },
         "mode": "lines",
         "name": "Lags=[1]",
         "showlegend": false,
         "type": "scattergl",
         "x": [
          13,
          13
         ],
         "xaxis": "x7",
         "y": [
          0,
          0.19922185432522949
         ],
         "yaxis": "y7"
        },
        {
         "line": {
          "color": "#3f3f3f"
         },
         "mode": "lines",
         "name": "Lags=[1]",
         "showlegend": false,
         "type": "scattergl",
         "x": [
          14,
          14
         ],
         "xaxis": "x7",
         "y": [
          0,
          -0.1632420588916113
         ],
         "yaxis": "y7"
        },
        {
         "marker": {
          "color": "#1f77b4",
          "size": 6
         },
         "mode": "markers",
         "name": "Lags=[1]",
         "showlegend": false,
         "type": "scattergl",
         "x": [
          0,
          1,
          2,
          3,
          4,
          5,
          6,
          7,
          8,
          9,
          10,
          11,
          12,
          13,
          14
         ],
         "xaxis": "x7",
         "y": [
          1,
          -0.8563165242954516,
          0.2576366858447368,
          -0.6137114436544516,
          0.08522628672916503,
          -0.2318721484851091,
          -0.016116933916681897,
          -0.2621826358157052,
          -0.19858821363916884,
          -0.05121447148926779,
          -0.3033215929348816,
          -0.2866990312056202,
          -0.21518033999577232,
          0.19922185432522949,
          -0.1632420588916113
         ],
         "yaxis": "y7"
        },
        {
         "line": {
          "color": "rgba(255,255,255,0)"
         },
         "mode": "lines",
         "name": "UC",
         "showlegend": false,
         "type": "scatter",
         "x": [
          0,
          1,
          2,
          3,
          4,
          5,
          6,
          7,
          8,
          9,
          10,
          11,
          12,
          13,
          14
         ],
         "xaxis": "x7",
         "y": [
          0,
          0.35783882874343137,
          0.35783882874343137,
          0.35783882874343137,
          0.35783882874343137,
          0.35783882874343137,
          0.35783882874343137,
          0.35783882874343137,
          0.35783882874343137,
          0.35783882874343137,
          0.35783882874343137,
          0.35783882874343137,
          0.35783882874343137,
          0.35783882874343137,
          0.35783882874343137
         ],
         "yaxis": "y7"
        },
        {
         "fill": "tonexty",
         "fillcolor": "rgba(32, 146, 230,0.3)",
         "line": {
          "color": "rgba(255,255,255,0)"
         },
         "mode": "lines",
         "name": "LC",
         "showlegend": false,
         "type": "scatter",
         "x": [
          0,
          1,
          2,
          3,
          4,
          5,
          6,
          7,
          8,
          9,
          10,
          11,
          12,
          13,
          14
         ],
         "xaxis": "x7",
         "y": [
          0,
          -0.3578388287434313,
          -0.35783882874343137,
          -0.3578388287434314,
          -0.35783882874343137,
          -0.3578388287434314,
          -0.35783882874343137,
          -0.3578388287434314,
          -0.35783882874343137,
          -0.35783882874343137,
          -0.3578388287434313,
          -0.35783882874343137,
          -0.3578388287434313,
          -0.35783882874343137,
          -0.35783882874343137
         ],
         "yaxis": "y7"
        },
        {
         "hoverinfo": "text",
         "hovertext": [
          "Freq: 0.0333<br>Ampl: -7.5397<br>Time period: 30.0",
          "Freq: 0.0667<br>Ampl: -0.6064<br>Time period: 15.0",
          "Freq: 0.1<br>Ampl: -1.8396<br>Time period: 10.0",
          "Freq: 0.1333<br>Ampl: -1.7522<br>Time period: 7.5",
          "Freq: 0.1667<br>Ampl: 5.6582<br>Time period: 6.0",
          "Freq: 0.2<br>Ampl: 6.0085<br>Time period: 5.0",
          "Freq: 0.2333<br>Ampl: 0.4041<br>Time period: 4.2857",
          "Freq: 0.2667<br>Ampl: -2.1635<br>Time period: 3.75",
          "Freq: 0.3<br>Ampl: 0.0734<br>Time period: 3.3333",
          "Freq: 0.3333<br>Ampl: 3.596<br>Time period: 3.0",
          "Freq: 0.3667<br>Ampl: 0.2288<br>Time period: 2.7273",
          "Freq: 0.4<br>Ampl: -7.9397<br>Time period: 2.5",
          "Freq: 0.4333<br>Ampl: 4.0466<br>Time period: 2.3077",
          "Freq: 0.4667<br>Ampl: 17.9728<br>Time period: 2.1429",
          "Freq: 0.5<br>Ampl: 18.7464<br>Time period: 2.0"
         ],
         "line": {
          "color": "#1f77b4",
          "width": 2
         },
         "marker": {
          "size": 5
         },
         "mode": "lines+markers",
         "name": "Lags=[1]",
         "showlegend": false,
         "type": "scattergl",
         "x": [
          0.03333333333333333,
          0.06666666666666667,
          0.1,
          0.13333333333333333,
          0.16666666666666666,
          0.2,
          0.23333333333333334,
          0.26666666666666666,
          0.3,
          0.3333333333333333,
          0.36666666666666664,
          0.4,
          0.43333333333333335,
          0.4666666666666667,
          0.5
         ],
         "xaxis": "x8",
         "y": [
          -7.539667617571255,
          -0.606417480721261,
          -1.8395894917626774,
          -1.7522445295073077,
          5.6582309174589,
          6.0085498635091135,
          0.4041207116610024,
          -2.1635362324472167,
          0.07338449012168465,
          3.596029354732291,
          0.2288147753712056,
          -7.939709894593545,
          4.046584869283699,
          17.972780961432328,
          18.7464208219316
         ],
         "yaxis": "y8"
        },
        {
         "line": {
          "color": "rgb(31, 119, 180)",
          "width": 2
         },
         "marker": {
          "color": "rgb(31, 119, 180)",
          "size": 5
         },
         "mode": "lines+markers",
         "name": "Lags=[1, 2]",
         "showlegend": false,
         "type": "scattergl",
         "x": [
          "2011-01-01T00:00:00",
          "2011-07-01T00:00:00",
          "2012-01-01T00:00:00",
          "2012-07-01T00:00:00",
          "2013-01-01T00:00:00",
          "2013-07-01T00:00:00",
          "2014-01-01T00:00:00",
          "2014-07-01T00:00:00",
          "2015-01-01T00:00:00",
          "2015-07-01T00:00:00",
          "2016-01-01T00:00:00",
          "2016-07-01T00:00:00",
          "2017-01-01T00:00:00",
          "2017-07-01T00:00:00",
          "2018-01-01T00:00:00",
          "2018-07-01T00:00:00",
          "2019-01-01T00:00:00",
          "2019-07-01T00:00:00",
          "2020-01-01T00:00:00",
          "2020-07-01T00:00:00",
          "2021-01-01T00:00:00",
          "2021-07-01T00:00:00",
          "2022-01-01T00:00:00",
          "2022-07-01T00:00:00",
          "2023-01-01T00:00:00",
          "2023-07-01T00:00:00",
          "2024-01-01T00:00:00",
          "2024-07-01T00:00:00"
         ],
         "xaxis": "x9",
         "y": [
          2.2287889483758025,
          -0.34756334860412785,
          -3.269829836119074,
          0.39607132694875347,
          1.1830762800505603,
          2.2392754027823667,
          -2.059172796959535,
          1.0178593832492346,
          1.314413773858952,
          -1.2370961450130817,
          -0.8796825757088733,
          -1.6447866689308963,
          0.47514766048729307,
          2.4163722459861834,
          0.08776898972116065,
          -1.4701844031177558,
          0.14353411797333848,
          0.07631495828137425,
          0.6905162535480631,
          1.9734890408337247,
          -0.2213641638530799,
          -2.803979232534598,
          -0.39599933046644686,
          0.9864643170703911,
          -0.43022043915964403,
          0.09632794580101844,
          0.7006098462331138,
          -1.418851807715738
         ],
         "yaxis": "y9"
        },
        {
         "line": {
          "color": "#3f3f3f"
         },
         "mode": "lines",
         "name": "Lags=[1, 2]",
         "showlegend": false,
         "type": "scattergl",
         "x": [
          0,
          0
         ],
         "xaxis": "x10",
         "y": [
          0,
          1
         ],
         "yaxis": "y10"
        },
        {
         "line": {
          "color": "#3f3f3f"
         },
         "mode": "lines",
         "name": "Lags=[1, 2]",
         "showlegend": false,
         "type": "scattergl",
         "x": [
          1,
          1
         ],
         "xaxis": "x10",
         "y": [
          0,
          -0.01880602017604177
         ],
         "yaxis": "y10"
        },
        {
         "line": {
          "color": "#3f3f3f"
         },
         "mode": "lines",
         "name": "Lags=[1, 2]",
         "showlegend": false,
         "type": "scattergl",
         "x": [
          2,
          2
         ],
         "xaxis": "x10",
         "y": [
          0,
          -0.5099017347425253
         ],
         "yaxis": "y10"
        },
        {
         "line": {
          "color": "#3f3f3f"
         },
         "mode": "lines",
         "name": "Lags=[1, 2]",
         "showlegend": false,
         "type": "scattergl",
         "x": [
          3,
          3
         ],
         "xaxis": "x10",
         "y": [
          0,
          -0.14363504194142887
         ],
         "yaxis": "y10"
        },
        {
         "line": {
          "color": "#3f3f3f"
         },
         "mode": "lines",
         "name": "Lags=[1, 2]",
         "showlegend": false,
         "type": "scattergl",
         "x": [
          4,
          4
         ],
         "xaxis": "x10",
         "y": [
          0,
          0.08326839821995861
         ],
         "yaxis": "y10"
        },
        {
         "line": {
          "color": "#3f3f3f"
         },
         "mode": "lines",
         "name": "Lags=[1, 2]",
         "showlegend": false,
         "type": "scattergl",
         "x": [
          5,
          5
         ],
         "xaxis": "x10",
         "y": [
          0,
          0.13004334558678915
         ],
         "yaxis": "y10"
        },
        {
         "line": {
          "color": "#3f3f3f"
         },
         "mode": "lines",
         "name": "Lags=[1, 2]",
         "showlegend": false,
         "type": "scattergl",
         "x": [
          6,
          6
         ],
         "xaxis": "x10",
         "y": [
          0,
          0.027773236438782056
         ],
         "yaxis": "y10"
        },
        {
         "line": {
          "color": "#3f3f3f"
         },
         "mode": "lines",
         "name": "Lags=[1, 2]",
         "showlegend": false,
         "type": "scattergl",
         "x": [
          7,
          7
         ],
         "xaxis": "x10",
         "y": [
          0,
          -0.01612541462023628
         ],
         "yaxis": "y10"
        },
        {
         "line": {
          "color": "#3f3f3f"
         },
         "mode": "lines",
         "name": "Lags=[1, 2]",
         "showlegend": false,
         "type": "scattergl",
         "x": [
          8,
          8
         ],
         "xaxis": "x10",
         "y": [
          0,
          -0.07839964715607571
         ],
         "yaxis": "y10"
        },
        {
         "line": {
          "color": "#3f3f3f"
         },
         "mode": "lines",
         "name": "Lags=[1, 2]",
         "showlegend": false,
         "type": "scattergl",
         "x": [
          9,
          9
         ],
         "xaxis": "x10",
         "y": [
          0,
          0.0804909786419668
         ],
         "yaxis": "y10"
        },
        {
         "line": {
          "color": "#3f3f3f"
         },
         "mode": "lines",
         "name": "Lags=[1, 2]",
         "showlegend": false,
         "type": "scattergl",
         "x": [
          10,
          10
         ],
         "xaxis": "x10",
         "y": [
          0,
          -0.001959146890835882
         ],
         "yaxis": "y10"
        },
        {
         "line": {
          "color": "#3f3f3f"
         },
         "mode": "lines",
         "name": "Lags=[1, 2]",
         "showlegend": false,
         "type": "scattergl",
         "x": [
          11,
          11
         ],
         "xaxis": "x10",
         "y": [
          0,
          -0.14267846377287308
         ],
         "yaxis": "y10"
        },
        {
         "line": {
          "color": "#3f3f3f"
         },
         "mode": "lines",
         "name": "Lags=[1, 2]",
         "showlegend": false,
         "type": "scattergl",
         "x": [
          12,
          12
         ],
         "xaxis": "x10",
         "y": [
          0,
          0.0743129102677375
         ],
         "yaxis": "y10"
        },
        {
         "line": {
          "color": "#3f3f3f"
         },
         "mode": "lines",
         "name": "Lags=[1, 2]",
         "showlegend": false,
         "type": "scattergl",
         "x": [
          13,
          13
         ],
         "xaxis": "x10",
         "y": [
          0,
          0.0993998516075036
         ],
         "yaxis": "y10"
        },
        {
         "line": {
          "color": "#3f3f3f"
         },
         "mode": "lines",
         "name": "Lags=[1, 2]",
         "showlegend": false,
         "type": "scattergl",
         "x": [
          14,
          14
         ],
         "xaxis": "x10",
         "y": [
          0,
          -0.02573347538890048
         ],
         "yaxis": "y10"
        },
        {
         "line": {
          "color": "#3f3f3f"
         },
         "mode": "lines",
         "name": "Lags=[1, 2]",
         "showlegend": false,
         "type": "scattergl",
         "x": [
          15,
          15
         ],
         "xaxis": "x10",
         "y": [
          0,
          0.06488009673458986
         ],
         "yaxis": "y10"
        },
        {
         "line": {
          "color": "#3f3f3f"
         },
         "mode": "lines",
         "name": "Lags=[1, 2]",
         "showlegend": false,
         "type": "scattergl",
         "x": [
          16,
          16
         ],
         "xaxis": "x10",
         "y": [
          0,
          -0.0830864022762393
         ],
         "yaxis": "y10"
        },
        {
         "line": {
          "color": "#3f3f3f"
         },
         "mode": "lines",
         "name": "Lags=[1, 2]",
         "showlegend": false,
         "type": "scattergl",
         "x": [
          17,
          17
         ],
         "xaxis": "x10",
         "y": [
          0,
          -0.217525741869072
         ],
         "yaxis": "y10"
        },
        {
         "line": {
          "color": "#3f3f3f"
         },
         "mode": "lines",
         "name": "Lags=[1, 2]",
         "showlegend": false,
         "type": "scattergl",
         "x": [
          18,
          18
         ],
         "xaxis": "x10",
         "y": [
          0,
          0.0999527618868482
         ],
         "yaxis": "y10"
        },
        {
         "line": {
          "color": "#3f3f3f"
         },
         "mode": "lines",
         "name": "Lags=[1, 2]",
         "showlegend": false,
         "type": "scattergl",
         "x": [
          19,
          19
         ],
         "xaxis": "x10",
         "y": [
          0,
          0.21022192816949836
         ],
         "yaxis": "y10"
        },
        {
         "line": {
          "color": "#3f3f3f"
         },
         "mode": "lines",
         "name": "Lags=[1, 2]",
         "showlegend": false,
         "type": "scattergl",
         "x": [
          20,
          20
         ],
         "xaxis": "x10",
         "y": [
          0,
          -0.017444597274563975
         ],
         "yaxis": "y10"
        },
        {
         "line": {
          "color": "#3f3f3f"
         },
         "mode": "lines",
         "name": "Lags=[1, 2]",
         "showlegend": false,
         "type": "scattergl",
         "x": [
          21,
          21
         ],
         "xaxis": "x10",
         "y": [
          0,
          -0.08374764153039853
         ],
         "yaxis": "y10"
        },
        {
         "line": {
          "color": "#3f3f3f"
         },
         "mode": "lines",
         "name": "Lags=[1, 2]",
         "showlegend": false,
         "type": "scattergl",
         "x": [
          22,
          22
         ],
         "xaxis": "x10",
         "y": [
          0,
          -0.03605983563630149
         ],
         "yaxis": "y10"
        },
        {
         "line": {
          "color": "#3f3f3f"
         },
         "mode": "lines",
         "name": "Lags=[1, 2]",
         "showlegend": false,
         "type": "scattergl",
         "x": [
          23,
          23
         ],
         "xaxis": "x10",
         "y": [
          0,
          0.010775279837002464
         ],
         "yaxis": "y10"
        },
        {
         "line": {
          "color": "#3f3f3f"
         },
         "mode": "lines",
         "name": "Lags=[1, 2]",
         "showlegend": false,
         "type": "scattergl",
         "x": [
          24,
          24
         ],
         "xaxis": "x10",
         "y": [
          0,
          -0.06565473718715235
         ],
         "yaxis": "y10"
        },
        {
         "line": {
          "color": "#3f3f3f"
         },
         "mode": "lines",
         "name": "Lags=[1, 2]",
         "showlegend": false,
         "type": "scattergl",
         "x": [
          25,
          25
         ],
         "xaxis": "x10",
         "y": [
          0,
          0.07831319438747393
         ],
         "yaxis": "y10"
        },
        {
         "line": {
          "color": "#3f3f3f"
         },
         "mode": "lines",
         "name": "Lags=[1, 2]",
         "showlegend": false,
         "type": "scattergl",
         "x": [
          26,
          26
         ],
         "xaxis": "x10",
         "y": [
          0,
          0.03509079863717985
         ],
         "yaxis": "y10"
        },
        {
         "line": {
          "color": "#3f3f3f"
         },
         "mode": "lines",
         "name": "Lags=[1, 2]",
         "showlegend": false,
         "type": "scattergl",
         "x": [
          27,
          27
         ],
         "xaxis": "x10",
         "y": [
          0,
          -0.05376487995268532
         ],
         "yaxis": "y10"
        },
        {
         "marker": {
          "color": "#1f77b4",
          "size": 6
         },
         "mode": "markers",
         "name": "Lags=[1, 2]",
         "showlegend": false,
         "type": "scattergl",
         "x": [
          0,
          1,
          2,
          3,
          4,
          5,
          6,
          7,
          8,
          9,
          10,
          11,
          12,
          13,
          14,
          15,
          16,
          17,
          18,
          19,
          20,
          21,
          22,
          23,
          24,
          25,
          26,
          27
         ],
         "xaxis": "x10",
         "y": [
          1,
          -0.01880602017604177,
          -0.5099017347425253,
          -0.14363504194142887,
          0.08326839821995861,
          0.13004334558678915,
          0.027773236438782056,
          -0.01612541462023628,
          -0.07839964715607571,
          0.0804909786419668,
          -0.001959146890835882,
          -0.14267846377287308,
          0.0743129102677375,
          0.0993998516075036,
          -0.02573347538890048,
          0.06488009673458986,
          -0.0830864022762393,
          -0.217525741869072,
          0.0999527618868482,
          0.21022192816949836,
          -0.017444597274563975,
          -0.08374764153039853,
          -0.03605983563630149,
          0.010775279837002464,
          -0.06565473718715235,
          0.07831319438747393,
          0.03509079863717985,
          -0.05376487995268532
         ],
         "yaxis": "y10"
        },
        {
         "line": {
          "color": "rgba(255,255,255,0)"
         },
         "mode": "lines",
         "name": "UC",
         "showlegend": false,
         "type": "scatter",
         "x": [
          0,
          1,
          2,
          3,
          4,
          5,
          6,
          7,
          8,
          9,
          10,
          11,
          12,
          13,
          14,
          15,
          16,
          17,
          18,
          19,
          20,
          21,
          22,
          23,
          24,
          25,
          26,
          27
         ],
         "xaxis": "x10",
         "y": [
          0,
          0.3703983772668733,
          0.3705293515691134,
          0.4567639629593161,
          0.46291928361780493,
          0.4649696551800941,
          0.4699330406176348,
          0.47015817982479485,
          0.47023405171324817,
          0.4720239424970443,
          0.47390328024808603,
          0.4739043914217135,
          0.47976157332875663,
          0.4813381976140669,
          0.4841461799248871,
          0.4843337978746639,
          0.48552471828996374,
          0.4874714984101852,
          0.5006115184813849,
          0.5033420307045532,
          0.515246916061592,
          0.5153279394683472,
          0.5171918066063693,
          0.5175366240675571,
          0.5175674021291182,
          0.5187087677040776,
          0.5203283646767922,
          0.5206529371782533
         ],
         "yaxis": "y10"
        },
        {
         "fill": "tonexty",
         "fillcolor": "rgba(32, 146, 230,0.3)",
         "line": {
          "color": "rgba(255,255,255,0)"
         },
         "mode": "lines",
         "name": "LC",
         "showlegend": false,
         "type": "scatter",
         "x": [
          0,
          1,
          2,
          3,
          4,
          5,
          6,
          7,
          8,
          9,
          10,
          11,
          12,
          13,
          14,
          15,
          16,
          17,
          18,
          19,
          20,
          21,
          22,
          23,
          24,
          25,
          26,
          27
         ],
         "xaxis": "x10",
         "y": [
          0,
          -0.3703983772668733,
          -0.3705293515691134,
          -0.4567639629593161,
          -0.462919283617805,
          -0.46496965518009403,
          -0.4699330406176348,
          -0.47015817982479485,
          -0.47023405171324817,
          -0.4720239424970443,
          -0.47390328024808603,
          -0.4739043914217135,
          -0.4797615733287567,
          -0.4813381976140669,
          -0.4841461799248872,
          -0.4843337978746638,
          -0.4855247182899637,
          -0.4874714984101852,
          -0.5006115184813849,
          -0.5033420307045532,
          -0.515246916061592,
          -0.5153279394683472,
          -0.5171918066063693,
          -0.5175366240675571,
          -0.5175674021291182,
          -0.5187087677040776,
          -0.5203283646767922,
          -0.5206529371782533
         ],
         "yaxis": "y10"
        },
        {
         "line": {
          "color": "#3f3f3f"
         },
         "mode": "lines",
         "name": "Lags=[1, 2]",
         "showlegend": false,
         "type": "scattergl",
         "x": [
          0,
          0
         ],
         "xaxis": "x11",
         "y": [
          0,
          1
         ],
         "yaxis": "y11"
        },
        {
         "line": {
          "color": "#3f3f3f"
         },
         "mode": "lines",
         "name": "Lags=[1, 2]",
         "showlegend": false,
         "type": "scattergl",
         "x": [
          1,
          1
         ],
         "xaxis": "x11",
         "y": [
          0,
          -0.01950253944182111
         ],
         "yaxis": "y11"
        },
        {
         "line": {
          "color": "#3f3f3f"
         },
         "mode": "lines",
         "name": "Lags=[1, 2]",
         "showlegend": false,
         "type": "scattergl",
         "x": [
          2,
          2
         ],
         "xaxis": "x11",
         "y": [
          0,
          -0.5497143774903398
         ],
         "yaxis": "y11"
        },
        {
         "line": {
          "color": "#3f3f3f"
         },
         "mode": "lines",
         "name": "Lags=[1, 2]",
         "showlegend": false,
         "type": "scattergl",
         "x": [
          3,
          3
         ],
         "xaxis": "x11",
         "y": [
          0,
          -0.2697854357731391
         ],
         "yaxis": "y11"
        },
        {
         "line": {
          "color": "#3f3f3f"
         },
         "mode": "lines",
         "name": "Lags=[1, 2]",
         "showlegend": false,
         "type": "scattergl",
         "x": [
          4,
          4
         ],
         "xaxis": "x11",
         "y": [
          0,
          -0.3759781321795861
         ],
         "yaxis": "y11"
        },
        {
         "line": {
          "color": "#3f3f3f"
         },
         "mode": "lines",
         "name": "Lags=[1, 2]",
         "showlegend": false,
         "type": "scattergl",
         "x": [
          5,
          5
         ],
         "xaxis": "x11",
         "y": [
          0,
          -0.23465093333397144
         ],
         "yaxis": "y11"
        },
        {
         "line": {
          "color": "#3f3f3f"
         },
         "mode": "lines",
         "name": "Lags=[1, 2]",
         "showlegend": false,
         "type": "scattergl",
         "x": [
          6,
          6
         ],
         "xaxis": "x11",
         "y": [
          0,
          -0.29421694151560224
         ],
         "yaxis": "y11"
        },
        {
         "line": {
          "color": "#3f3f3f"
         },
         "mode": "lines",
         "name": "Lags=[1, 2]",
         "showlegend": false,
         "type": "scattergl",
         "x": [
          7,
          7
         ],
         "xaxis": "x11",
         "y": [
          0,
          -0.19115600318665876
         ],
         "yaxis": "y11"
        },
        {
         "line": {
          "color": "#3f3f3f"
         },
         "mode": "lines",
         "name": "Lags=[1, 2]",
         "showlegend": false,
         "type": "scattergl",
         "x": [
          8,
          8
         ],
         "xaxis": "x11",
         "y": [
          0,
          -0.37578796432838196
         ],
         "yaxis": "y11"
        },
        {
         "line": {
          "color": "#3f3f3f"
         },
         "mode": "lines",
         "name": "Lags=[1, 2]",
         "showlegend": false,
         "type": "scattergl",
         "x": [
          9,
          9
         ],
         "xaxis": "x11",
         "y": [
          0,
          -0.031313734598900154
         ],
         "yaxis": "y11"
        },
        {
         "line": {
          "color": "#3f3f3f"
         },
         "mode": "lines",
         "name": "Lags=[1, 2]",
         "showlegend": false,
         "type": "scattergl",
         "x": [
          10,
          10
         ],
         "xaxis": "x11",
         "y": [
          0,
          -0.29149084820354304
         ],
         "yaxis": "y11"
        },
        {
         "line": {
          "color": "#3f3f3f"
         },
         "mode": "lines",
         "name": "Lags=[1, 2]",
         "showlegend": false,
         "type": "scattergl",
         "x": [
          11,
          11
         ],
         "xaxis": "x11",
         "y": [
          0,
          -0.504014202109706
         ],
         "yaxis": "y11"
        },
        {
         "line": {
          "color": "#3f3f3f"
         },
         "mode": "lines",
         "name": "Lags=[1, 2]",
         "showlegend": false,
         "type": "scattergl",
         "x": [
          12,
          12
         ],
         "xaxis": "x11",
         "y": [
          0,
          -0.5662249891368913
         ],
         "yaxis": "y11"
        },
        {
         "line": {
          "color": "#3f3f3f"
         },
         "mode": "lines",
         "name": "Lags=[1, 2]",
         "showlegend": false,
         "type": "scattergl",
         "x": [
          13,
          13
         ],
         "xaxis": "x11",
         "y": [
          0,
          -1.3905961007675907
         ],
         "yaxis": "y11"
        },
        {
         "marker": {
          "color": "#1f77b4",
          "size": 6
         },
         "mode": "markers",
         "name": "Lags=[1, 2]",
         "showlegend": false,
         "type": "scattergl",
         "x": [
          0,
          1,
          2,
          3,
          4,
          5,
          6,
          7,
          8,
          9,
          10,
          11,
          12,
          13
         ],
         "xaxis": "x11",
         "y": [
          1,
          -0.01950253944182111,
          -0.5497143774903398,
          -0.2697854357731391,
          -0.3759781321795861,
          -0.23465093333397144,
          -0.29421694151560224,
          -0.19115600318665876,
          -0.37578796432838196,
          -0.031313734598900154,
          -0.29149084820354304,
          -0.504014202109706,
          -0.5662249891368913,
          -1.3905961007675907
         ],
         "yaxis": "y11"
        },
        {
         "line": {
          "color": "rgba(255,255,255,0)"
         },
         "mode": "lines",
         "name": "UC",
         "showlegend": false,
         "type": "scatter",
         "x": [
          0,
          1,
          2,
          3,
          4,
          5,
          6,
          7,
          8,
          9,
          10,
          11,
          12,
          13
         ],
         "xaxis": "x11",
         "y": [
          0,
          0.3703983772668733,
          0.3703983772668733,
          0.3703983772668733,
          0.3703983772668733,
          0.3703983772668733,
          0.3703983772668733,
          0.3703983772668733,
          0.3703983772668733,
          0.3703983772668733,
          0.3703983772668733,
          0.3703983772668733,
          0.3703983772668733,
          0.3703983772668733
         ],
         "yaxis": "y11"
        },
        {
         "fill": "tonexty",
         "fillcolor": "rgba(32, 146, 230,0.3)",
         "line": {
          "color": "rgba(255,255,255,0)"
         },
         "mode": "lines",
         "name": "LC",
         "showlegend": false,
         "type": "scatter",
         "x": [
          0,
          1,
          2,
          3,
          4,
          5,
          6,
          7,
          8,
          9,
          10,
          11,
          12,
          13
         ],
         "xaxis": "x11",
         "y": [
          0,
          -0.3703983772668733,
          -0.3703983772668733,
          -0.37039837726687325,
          -0.3703983772668733,
          -0.3703983772668733,
          -0.37039837726687325,
          -0.37039837726687336,
          -0.37039837726687325,
          -0.3703983772668733,
          -0.37039837726687325,
          -0.3703983772668733,
          -0.3703983772668733,
          -0.3703983772668733
         ],
         "yaxis": "y11"
        },
        {
         "hoverinfo": "text",
         "hovertext": [
          "Freq: 0.0357<br>Ampl: -6.2016<br>Time period: 28.0",
          "Freq: 0.0714<br>Ampl: -0.3007<br>Time period: 14.0",
          "Freq: 0.1071<br>Ampl: -5.4336<br>Time period: 9.3333",
          "Freq: 0.1429<br>Ampl: 6.9582<br>Time period: 7.0",
          "Freq: 0.1786<br>Ampl: 11.4175<br>Time period: 5.6",
          "Freq: 0.2143<br>Ampl: 9.8349<br>Time period: 4.6667",
          "Freq: 0.25<br>Ampl: 3.4852<br>Time period: 4.0",
          "Freq: 0.2857<br>Ampl: 4.4029<br>Time period: 3.5",
          "Freq: 0.3214<br>Ampl: 7.3721<br>Time period: 3.1111",
          "Freq: 0.3571<br>Ampl: 6.4592<br>Time period: 2.8",
          "Freq: 0.3929<br>Ampl: -1.657<br>Time period: 2.5455",
          "Freq: 0.4286<br>Ampl: -8.9809<br>Time period: 2.3333",
          "Freq: 0.4643<br>Ampl: -8.1802<br>Time period: 2.1538",
          "Freq: 0.5<br>Ampl: -13.3945<br>Time period: 2.0"
         ],
         "line": {
          "color": "#1f77b4",
          "width": 2
         },
         "marker": {
          "size": 5
         },
         "mode": "lines+markers",
         "name": "Lags=[1, 2]",
         "showlegend": true,
         "type": "scattergl",
         "x": [
          0.03571428571428571,
          0.07142857142857142,
          0.10714285714285714,
          0.14285714285714285,
          0.17857142857142855,
          0.21428571428571427,
          0.25,
          0.2857142857142857,
          0.3214285714285714,
          0.3571428571428571,
          0.39285714285714285,
          0.42857142857142855,
          0.46428571428571425,
          0.5
         ],
         "xaxis": "x12",
         "y": [
          -6.20161467048046,
          -0.3007368627824416,
          -5.4335737889970765,
          6.958228870504469,
          11.417478463337371,
          9.834905085233988,
          3.4851844893655692,
          4.402908073467462,
          7.372133587211049,
          6.459247187541068,
          -1.6569637476452104,
          -8.980941744360052,
          -8.18023920943125,
          -13.394516746559493
         ],
         "yaxis": "y12"
        }
       ],
       "layout": {
        "annotations": [
         {
          "font": {
           "size": 16
          },
          "showarrow": false,
          "text": "Unemployment_Rate (transformed)",
          "x": 0.10375,
          "xanchor": "center",
          "xref": "paper",
          "y": 1,
          "yanchor": "bottom",
          "yref": "paper"
         },
         {
          "font": {
           "size": 16
          },
          "showarrow": false,
          "text": "ACF",
          "x": 0.36124999999999996,
          "xanchor": "center",
          "xref": "paper",
          "y": 1,
          "yanchor": "bottom",
          "yref": "paper"
         },
         {
          "font": {
           "size": 16
          },
          "showarrow": false,
          "text": "PACF",
          "x": 0.61875,
          "xanchor": "center",
          "xref": "paper",
          "y": 1,
          "yanchor": "bottom",
          "yref": "paper"
         },
         {
          "font": {
           "size": 16
          },
          "showarrow": false,
          "text": "Periodogram",
          "x": 0.87625,
          "xanchor": "center",
          "xref": "paper",
          "y": 1,
          "yanchor": "bottom",
          "yref": "paper"
         },
         {
          "font": {
           "size": 16
          },
          "showarrow": false,
          "text": "Actual",
          "textangle": 90,
          "x": 0.98,
          "xanchor": "left",
          "xref": "paper",
          "y": 0.8666666666666667,
          "yanchor": "middle",
          "yref": "paper"
         },
         {
          "font": {
           "size": 16
          },
          "showarrow": false,
          "text": "Lags=[1]",
          "textangle": 90,
          "x": 0.98,
          "xanchor": "left",
          "xref": "paper",
          "y": 0.5,
          "yanchor": "middle",
          "yref": "paper"
         },
         {
          "font": {
           "size": 16
          },
          "showarrow": false,
          "text": "Lags=[1, 2]",
          "textangle": 90,
          "x": 0.98,
          "xanchor": "left",
          "xref": "paper",
          "y": 0.13333333333333333,
          "yanchor": "middle",
          "yref": "paper"
         }
        ],
        "autosize": false,
        "height": 800,
        "showlegend": false,
        "template": {
         "data": {
          "bar": [
           {
            "error_x": {
             "color": "rgb(51,51,51)"
            },
            "error_y": {
             "color": "rgb(51,51,51)"
            },
            "marker": {
             "line": {
              "color": "rgb(237,237,237)",
              "width": 0.5
             },
             "pattern": {
              "fillmode": "overlay",
              "size": 10,
              "solidity": 0.2
             }
            },
            "type": "bar"
           }
          ],
          "barpolar": [
           {
            "marker": {
             "line": {
              "color": "rgb(237,237,237)",
              "width": 0.5
             },
             "pattern": {
              "fillmode": "overlay",
              "size": 10,
              "solidity": 0.2
             }
            },
            "type": "barpolar"
           }
          ],
          "carpet": [
           {
            "aaxis": {
             "endlinecolor": "rgb(51,51,51)",
             "gridcolor": "white",
             "linecolor": "white",
             "minorgridcolor": "white",
             "startlinecolor": "rgb(51,51,51)"
            },
            "baxis": {
             "endlinecolor": "rgb(51,51,51)",
             "gridcolor": "white",
             "linecolor": "white",
             "minorgridcolor": "white",
             "startlinecolor": "rgb(51,51,51)"
            },
            "type": "carpet"
           }
          ],
          "choropleth": [
           {
            "colorbar": {
             "outlinewidth": 0,
             "tickcolor": "rgb(237,237,237)",
             "ticklen": 6,
             "ticks": "inside"
            },
            "type": "choropleth"
           }
          ],
          "contour": [
           {
            "colorbar": {
             "outlinewidth": 0,
             "tickcolor": "rgb(237,237,237)",
             "ticklen": 6,
             "ticks": "inside"
            },
            "colorscale": [
             [
              0,
              "rgb(20,44,66)"
             ],
             [
              1,
              "rgb(90,179,244)"
             ]
            ],
            "type": "contour"
           }
          ],
          "contourcarpet": [
           {
            "colorbar": {
             "outlinewidth": 0,
             "tickcolor": "rgb(237,237,237)",
             "ticklen": 6,
             "ticks": "inside"
            },
            "type": "contourcarpet"
           }
          ],
          "heatmap": [
           {
            "colorbar": {
             "outlinewidth": 0,
             "tickcolor": "rgb(237,237,237)",
             "ticklen": 6,
             "ticks": "inside"
            },
            "colorscale": [
             [
              0,
              "rgb(20,44,66)"
             ],
             [
              1,
              "rgb(90,179,244)"
             ]
            ],
            "type": "heatmap"
           }
          ],
          "heatmapgl": [
           {
            "colorbar": {
             "outlinewidth": 0,
             "tickcolor": "rgb(237,237,237)",
             "ticklen": 6,
             "ticks": "inside"
            },
            "colorscale": [
             [
              0,
              "rgb(20,44,66)"
             ],
             [
              1,
              "rgb(90,179,244)"
             ]
            ],
            "type": "heatmapgl"
           }
          ],
          "histogram": [
           {
            "marker": {
             "pattern": {
              "fillmode": "overlay",
              "size": 10,
              "solidity": 0.2
             }
            },
            "type": "histogram"
           }
          ],
          "histogram2d": [
           {
            "colorbar": {
             "outlinewidth": 0,
             "tickcolor": "rgb(237,237,237)",
             "ticklen": 6,
             "ticks": "inside"
            },
            "colorscale": [
             [
              0,
              "rgb(20,44,66)"
             ],
             [
              1,
              "rgb(90,179,244)"
             ]
            ],
            "type": "histogram2d"
           }
          ],
          "histogram2dcontour": [
           {
            "colorbar": {
             "outlinewidth": 0,
             "tickcolor": "rgb(237,237,237)",
             "ticklen": 6,
             "ticks": "inside"
            },
            "colorscale": [
             [
              0,
              "rgb(20,44,66)"
             ],
             [
              1,
              "rgb(90,179,244)"
             ]
            ],
            "type": "histogram2dcontour"
           }
          ],
          "mesh3d": [
           {
            "colorbar": {
             "outlinewidth": 0,
             "tickcolor": "rgb(237,237,237)",
             "ticklen": 6,
             "ticks": "inside"
            },
            "type": "mesh3d"
           }
          ],
          "parcoords": [
           {
            "line": {
             "colorbar": {
              "outlinewidth": 0,
              "tickcolor": "rgb(237,237,237)",
              "ticklen": 6,
              "ticks": "inside"
             }
            },
            "type": "parcoords"
           }
          ],
          "pie": [
           {
            "automargin": true,
            "type": "pie"
           }
          ],
          "scatter": [
           {
            "fillpattern": {
             "fillmode": "overlay",
             "size": 10,
             "solidity": 0.2
            },
            "type": "scatter"
           }
          ],
          "scatter3d": [
           {
            "line": {
             "colorbar": {
              "outlinewidth": 0,
              "tickcolor": "rgb(237,237,237)",
              "ticklen": 6,
              "ticks": "inside"
             }
            },
            "marker": {
             "colorbar": {
              "outlinewidth": 0,
              "tickcolor": "rgb(237,237,237)",
              "ticklen": 6,
              "ticks": "inside"
             }
            },
            "type": "scatter3d"
           }
          ],
          "scattercarpet": [
           {
            "marker": {
             "colorbar": {
              "outlinewidth": 0,
              "tickcolor": "rgb(237,237,237)",
              "ticklen": 6,
              "ticks": "inside"
             }
            },
            "type": "scattercarpet"
           }
          ],
          "scattergeo": [
           {
            "marker": {
             "colorbar": {
              "outlinewidth": 0,
              "tickcolor": "rgb(237,237,237)",
              "ticklen": 6,
              "ticks": "inside"
             }
            },
            "type": "scattergeo"
           }
          ],
          "scattergl": [
           {
            "marker": {
             "colorbar": {
              "outlinewidth": 0,
              "tickcolor": "rgb(237,237,237)",
              "ticklen": 6,
              "ticks": "inside"
             }
            },
            "type": "scattergl"
           }
          ],
          "scattermapbox": [
           {
            "marker": {
             "colorbar": {
              "outlinewidth": 0,
              "tickcolor": "rgb(237,237,237)",
              "ticklen": 6,
              "ticks": "inside"
             }
            },
            "type": "scattermapbox"
           }
          ],
          "scatterpolar": [
           {
            "marker": {
             "colorbar": {
              "outlinewidth": 0,
              "tickcolor": "rgb(237,237,237)",
              "ticklen": 6,
              "ticks": "inside"
             }
            },
            "type": "scatterpolar"
           }
          ],
          "scatterpolargl": [
           {
            "marker": {
             "colorbar": {
              "outlinewidth": 0,
              "tickcolor": "rgb(237,237,237)",
              "ticklen": 6,
              "ticks": "inside"
             }
            },
            "type": "scatterpolargl"
           }
          ],
          "scatterternary": [
           {
            "marker": {
             "colorbar": {
              "outlinewidth": 0,
              "tickcolor": "rgb(237,237,237)",
              "ticklen": 6,
              "ticks": "inside"
             }
            },
            "type": "scatterternary"
           }
          ],
          "surface": [
           {
            "colorbar": {
             "outlinewidth": 0,
             "tickcolor": "rgb(237,237,237)",
             "ticklen": 6,
             "ticks": "inside"
            },
            "colorscale": [
             [
              0,
              "rgb(20,44,66)"
             ],
             [
              1,
              "rgb(90,179,244)"
             ]
            ],
            "type": "surface"
           }
          ],
          "table": [
           {
            "cells": {
             "fill": {
              "color": "rgb(237,237,237)"
             },
             "line": {
              "color": "white"
             }
            },
            "header": {
             "fill": {
              "color": "rgb(217,217,217)"
             },
             "line": {
              "color": "white"
             }
            },
            "type": "table"
           }
          ]
         },
         "layout": {
          "annotationdefaults": {
           "arrowhead": 0,
           "arrowwidth": 1
          },
          "autotypenumbers": "strict",
          "coloraxis": {
           "colorbar": {
            "outlinewidth": 0,
            "tickcolor": "rgb(237,237,237)",
            "ticklen": 6,
            "ticks": "inside"
           }
          },
          "colorscale": {
           "sequential": [
            [
             0,
             "rgb(20,44,66)"
            ],
            [
             1,
             "rgb(90,179,244)"
            ]
           ],
           "sequentialminus": [
            [
             0,
             "rgb(20,44,66)"
            ],
            [
             1,
             "rgb(90,179,244)"
            ]
           ]
          },
          "colorway": [
           "#F8766D",
           "#A3A500",
           "#00BF7D",
           "#00B0F6",
           "#E76BF3"
          ],
          "font": {
           "color": "rgb(51,51,51)"
          },
          "geo": {
           "bgcolor": "white",
           "lakecolor": "white",
           "landcolor": "rgb(237,237,237)",
           "showlakes": true,
           "showland": true,
           "subunitcolor": "white"
          },
          "hoverlabel": {
           "align": "left"
          },
          "hovermode": "closest",
          "paper_bgcolor": "white",
          "plot_bgcolor": "rgb(237,237,237)",
          "polar": {
           "angularaxis": {
            "gridcolor": "white",
            "linecolor": "white",
            "showgrid": true,
            "tickcolor": "rgb(51,51,51)",
            "ticks": "outside"
           },
           "bgcolor": "rgb(237,237,237)",
           "radialaxis": {
            "gridcolor": "white",
            "linecolor": "white",
            "showgrid": true,
            "tickcolor": "rgb(51,51,51)",
            "ticks": "outside"
           }
          },
          "scene": {
           "xaxis": {
            "backgroundcolor": "rgb(237,237,237)",
            "gridcolor": "white",
            "gridwidth": 2,
            "linecolor": "white",
            "showbackground": true,
            "showgrid": true,
            "tickcolor": "rgb(51,51,51)",
            "ticks": "outside",
            "zerolinecolor": "white"
           },
           "yaxis": {
            "backgroundcolor": "rgb(237,237,237)",
            "gridcolor": "white",
            "gridwidth": 2,
            "linecolor": "white",
            "showbackground": true,
            "showgrid": true,
            "tickcolor": "rgb(51,51,51)",
            "ticks": "outside",
            "zerolinecolor": "white"
           },
           "zaxis": {
            "backgroundcolor": "rgb(237,237,237)",
            "gridcolor": "white",
            "gridwidth": 2,
            "linecolor": "white",
            "showbackground": true,
            "showgrid": true,
            "tickcolor": "rgb(51,51,51)",
            "ticks": "outside",
            "zerolinecolor": "white"
           }
          },
          "shapedefaults": {
           "fillcolor": "black",
           "line": {
            "width": 0
           },
           "opacity": 0.3
          },
          "ternary": {
           "aaxis": {
            "gridcolor": "white",
            "linecolor": "white",
            "showgrid": true,
            "tickcolor": "rgb(51,51,51)",
            "ticks": "outside"
           },
           "baxis": {
            "gridcolor": "white",
            "linecolor": "white",
            "showgrid": true,
            "tickcolor": "rgb(51,51,51)",
            "ticks": "outside"
           },
           "bgcolor": "rgb(237,237,237)",
           "caxis": {
            "gridcolor": "white",
            "linecolor": "white",
            "showgrid": true,
            "tickcolor": "rgb(51,51,51)",
            "ticks": "outside"
           }
          },
          "xaxis": {
           "automargin": true,
           "gridcolor": "white",
           "linecolor": "white",
           "showgrid": true,
           "tickcolor": "rgb(51,51,51)",
           "ticks": "outside",
           "title": {
            "standoff": 15
           },
           "zerolinecolor": "white"
          },
          "yaxis": {
           "automargin": true,
           "gridcolor": "white",
           "linecolor": "white",
           "showgrid": true,
           "tickcolor": "rgb(51,51,51)",
           "ticks": "outside",
           "title": {
            "standoff": 15
           },
           "zerolinecolor": "white"
          }
         }
        },
        "title": {
         "text": "Difference Plot | Unemployment_Rate"
        },
        "width": 1500,
        "xaxis": {
         "anchor": "y",
         "domain": [
          0,
          0.2075
         ],
         "matches": "x9",
         "showticklabels": false
        },
        "xaxis10": {
         "anchor": "y10",
         "domain": [
          0.2575,
          0.46499999999999997
         ],
         "range": [
          -1,
          29
         ]
        },
        "xaxis11": {
         "anchor": "y11",
         "domain": [
          0.515,
          0.7225
         ],
         "range": [
          -1,
          15
         ]
        },
        "xaxis12": {
         "anchor": "y12",
         "domain": [
          0.7725,
          0.98
         ],
         "range": [
          0,
          0.5
         ]
        },
        "xaxis2": {
         "anchor": "y2",
         "domain": [
          0.2575,
          0.46499999999999997
         ],
         "matches": "x10",
         "range": [
          -1,
          32
         ],
         "showticklabels": false
        },
        "xaxis3": {
         "anchor": "y3",
         "domain": [
          0.515,
          0.7225
         ],
         "matches": "x11",
         "range": [
          -1,
          16
         ],
         "showticklabels": false
        },
        "xaxis4": {
         "anchor": "y4",
         "domain": [
          0.7725,
          0.98
         ],
         "matches": "x12",
         "range": [
          0,
          0.5
         ],
         "showticklabels": false
        },
        "xaxis5": {
         "anchor": "y5",
         "domain": [
          0,
          0.2075
         ],
         "matches": "x9",
         "showticklabels": false
        },
        "xaxis6": {
         "anchor": "y6",
         "domain": [
          0.2575,
          0.46499999999999997
         ],
         "matches": "x10",
         "range": [
          -1,
          31
         ],
         "showticklabels": false
        },
        "xaxis7": {
         "anchor": "y7",
         "domain": [
          0.515,
          0.7225
         ],
         "matches": "x11",
         "range": [
          -1,
          16
         ],
         "showticklabels": false
        },
        "xaxis8": {
         "anchor": "y8",
         "domain": [
          0.7725,
          0.98
         ],
         "matches": "x12",
         "range": [
          0,
          0.5
         ],
         "showticklabels": false
        },
        "xaxis9": {
         "anchor": "y9",
         "domain": [
          0,
          0.2075
         ]
        },
        "yaxis": {
         "anchor": "x",
         "domain": [
          0.7333333333333333,
          1
         ]
        },
        "yaxis10": {
         "anchor": "x10",
         "domain": [
          0,
          0.26666666666666666
         ],
         "range": [
          -1.1,
          1.1
         ],
         "zerolinecolor": "#000000"
        },
        "yaxis11": {
         "anchor": "x11",
         "domain": [
          0,
          0.26666666666666666
         ],
         "range": [
          -1.1,
          1.1
         ],
         "zerolinecolor": "#000000"
        },
        "yaxis12": {
         "anchor": "x12",
         "domain": [
          0,
          0.26666666666666666
         ]
        },
        "yaxis2": {
         "anchor": "x2",
         "domain": [
          0.7333333333333333,
          1
         ],
         "range": [
          -1.1,
          1.1
         ],
         "zerolinecolor": "#000000"
        },
        "yaxis3": {
         "anchor": "x3",
         "domain": [
          0.7333333333333333,
          1
         ],
         "range": [
          -1.1,
          1.1
         ],
         "zerolinecolor": "#000000"
        },
        "yaxis4": {
         "anchor": "x4",
         "domain": [
          0.7333333333333333,
          1
         ]
        },
        "yaxis5": {
         "anchor": "x5",
         "domain": [
          0.36666666666666664,
          0.6333333333333333
         ]
        },
        "yaxis6": {
         "anchor": "x6",
         "domain": [
          0.36666666666666664,
          0.6333333333333333
         ],
         "range": [
          -1.1,
          1.1
         ],
         "zerolinecolor": "#000000"
        },
        "yaxis7": {
         "anchor": "x7",
         "domain": [
          0.36666666666666664,
          0.6333333333333333
         ],
         "range": [
          -1.1,
          1.1
         ],
         "zerolinecolor": "#000000"
        },
        "yaxis8": {
         "anchor": "x8",
         "domain": [
          0.36666666666666664,
          0.6333333333333333
         ]
        },
        "yaxis9": {
         "anchor": "x9",
         "domain": [
          0,
          0.26666666666666666
         ]
        }
       }
      }
     },
     "metadata": {},
     "output_type": "display_data"
    }
   ],
   "source": [
    "exp.plot_model(\n",
    "    plot=\"diff\",\n",
    "    data_kwargs={\"lags_list\": [[1], [1, 2]], \"acf\": True, \"pacf\": True, \"periodogram\": True},\n",
    "    fig_kwargs={\"height\": 800, \"width\": 1500}\n",
    ")"
   ]
  },
  {
   "cell_type": "markdown",
   "metadata": {},
   "source": [
    "STL decomposition"
   ]
  },
  {
   "cell_type": "code",
   "execution_count": 400,
   "metadata": {},
   "outputs": [
    {
     "data": {
      "application/vnd.plotly.v1+json": {
       "config": {
        "plotlyServerURL": "https://plot.ly"
       },
       "data": [
        {
         "line": {
          "color": "rgb(31, 119, 180)",
          "width": 2
         },
         "marker": {
          "size": 2
         },
         "mode": "lines+markers",
         "name": "Actual",
         "type": "scattergl",
         "x": [
          "2009-07-01T00:00:00",
          "2010-01-01T00:00:00",
          "2010-07-01T00:00:00",
          "2011-01-01T00:00:00",
          "2011-07-01T00:00:00",
          "2012-01-01T00:00:00",
          "2012-07-01T00:00:00",
          "2013-01-01T00:00:00",
          "2013-07-01T00:00:00",
          "2014-01-01T00:00:00",
          "2014-07-01T00:00:00",
          "2015-01-01T00:00:00",
          "2015-07-01T00:00:00",
          "2016-01-01T00:00:00",
          "2016-07-01T00:00:00",
          "2017-01-01T00:00:00",
          "2017-07-01T00:00:00",
          "2018-01-01T00:00:00",
          "2018-07-01T00:00:00",
          "2019-01-01T00:00:00",
          "2019-07-01T00:00:00",
          "2020-01-01T00:00:00",
          "2020-07-01T00:00:00",
          "2021-01-01T00:00:00",
          "2021-07-01T00:00:00",
          "2022-01-01T00:00:00",
          "2022-07-01T00:00:00",
          "2023-01-01T00:00:00",
          "2023-07-01T00:00:00",
          "2024-01-01T00:00:00",
          "2024-07-01T00:00:00"
         ],
         "xaxis": "x",
         "y": [
          17.14238687901972,
          15.775726707916432,
          15.989462347425771,
          16.851591124698285,
          16.717763415603496,
          14.310062356756935,
          14.5723059746109,
          13.3476811958149,
          15.849200216451232,
          12.565402640695696,
          16.084781044581263,
          14.11539724268468,
          16.397679501557164,
          13.548613123951707,
          14.186108713893296,
          11.812189996775132,
          14.866057832702904,
          12.5799081053059,
          14.163591538115917,
          12.020975928692252,
          13.680974319783642,
          12.22887496390804,
          15.862362395833156,
          14.188898876104474,
          15.018407075494991,
          12.948944225299863,
          14.764916741760771,
          12.265233452406,
          14.177533914667926,
          12.378460471546267,
          12.871909126092456
         ],
         "yaxis": "y"
        },
        {
         "line": {
          "color": "rgb(255, 127, 14)",
          "width": 2
         },
         "marker": {
          "size": 2
         },
         "mode": "lines+markers",
         "name": "Seasonal",
         "type": "scattergl",
         "x": [
          "2009-07-01T00:00:00",
          "2010-01-01T00:00:00",
          "2010-07-01T00:00:00",
          "2011-01-01T00:00:00",
          "2011-07-01T00:00:00",
          "2012-01-01T00:00:00",
          "2012-07-01T00:00:00",
          "2013-01-01T00:00:00",
          "2013-07-01T00:00:00",
          "2014-01-01T00:00:00",
          "2014-07-01T00:00:00",
          "2015-01-01T00:00:00",
          "2015-07-01T00:00:00",
          "2016-01-01T00:00:00",
          "2016-07-01T00:00:00",
          "2017-01-01T00:00:00",
          "2017-07-01T00:00:00",
          "2018-01-01T00:00:00",
          "2018-07-01T00:00:00",
          "2019-01-01T00:00:00",
          "2019-07-01T00:00:00",
          "2020-01-01T00:00:00",
          "2020-07-01T00:00:00",
          "2021-01-01T00:00:00",
          "2021-07-01T00:00:00",
          "2022-01-01T00:00:00",
          "2022-07-01T00:00:00",
          "2023-01-01T00:00:00",
          "2023-07-01T00:00:00",
          "2024-01-01T00:00:00",
          "2024-07-01T00:00:00"
         ],
         "xaxis": "x2",
         "y": [
          0.01146475439196917,
          -0.11939158558003961,
          0.23923089218342428,
          -0.36343511725034683,
          0.48121443759287913,
          -0.6192646282464239,
          0.772507166968715,
          -0.9471960982123534,
          1.0801094819712234,
          -1.1730721278454013,
          1.2239056883492674,
          -1.2185849036523928,
          1.1930250047472581,
          -1.1511428903340852,
          1.1106023845503112,
          -1.0529900419961362,
          1.034436282842181,
          -1.05671429890307,
          1.0416204123710209,
          -1.0346668282388292,
          1.0095646419468698,
          -0.9666699572090283,
          0.9579710883071799,
          -0.9806637445964131,
          0.9789071906352262,
          -0.9251224094940873,
          0.8746763456149905,
          -0.8175185310070959,
          0.7655157518246533,
          -0.7124933666213752,
          0.6552596798574366
         ],
         "yaxis": "y2"
        },
        {
         "line": {
          "color": "rgb(44, 160, 44)",
          "width": 2
         },
         "marker": {
          "size": 2
         },
         "mode": "lines+markers",
         "name": "Trend",
         "type": "scattergl",
         "x": [
          "2009-07-01T00:00:00",
          "2010-01-01T00:00:00",
          "2010-07-01T00:00:00",
          "2011-01-01T00:00:00",
          "2011-07-01T00:00:00",
          "2012-01-01T00:00:00",
          "2012-07-01T00:00:00",
          "2013-01-01T00:00:00",
          "2013-07-01T00:00:00",
          "2014-01-01T00:00:00",
          "2014-07-01T00:00:00",
          "2015-01-01T00:00:00",
          "2015-07-01T00:00:00",
          "2016-01-01T00:00:00",
          "2016-07-01T00:00:00",
          "2017-01-01T00:00:00",
          "2017-07-01T00:00:00",
          "2018-01-01T00:00:00",
          "2018-07-01T00:00:00",
          "2019-01-01T00:00:00",
          "2019-07-01T00:00:00",
          "2020-01-01T00:00:00",
          "2020-07-01T00:00:00",
          "2021-01-01T00:00:00",
          "2021-07-01T00:00:00",
          "2022-01-01T00:00:00",
          "2022-07-01T00:00:00",
          "2023-01-01T00:00:00",
          "2023-07-01T00:00:00",
          "2024-01-01T00:00:00",
          "2024-07-01T00:00:00"
         ],
         "xaxis": "x3",
         "y": [
          16.745261473450537,
          16.399102403355425,
          16.21110023434203,
          16.515491756663998,
          16.142425904495802,
          14.98020259332273,
          14.264940782320785,
          14.288903411928102,
          14.338242248342828,
          14.354906052259816,
          14.67497571301669,
          15.161498830148542,
          15.097124617245672,
          14.379273992224348,
          13.480327468132037,
          13.202101037076595,
          13.499088874349678,
          13.545102636634159,
          13.250330690027067,
          12.964623294805698,
          12.931485082322993,
          13.534740181628852,
          14.491051950164323,
          14.770092438052725,
          14.315683452156035,
          13.926062632219871,
          13.654417252814405,
          13.408216778998957,
          13.225821699647703,
          12.84626274641408,
          12.397087073179032
         ],
         "yaxis": "y3"
        },
        {
         "line": {
          "color": "rgb(214, 39, 40)",
          "width": 2
         },
         "marker": {
          "size": 4
         },
         "mode": "markers",
         "name": "Residuals",
         "type": "scattergl",
         "x": [
          "2009-07-01T00:00:00",
          "2010-01-01T00:00:00",
          "2010-07-01T00:00:00",
          "2011-01-01T00:00:00",
          "2011-07-01T00:00:00",
          "2012-01-01T00:00:00",
          "2012-07-01T00:00:00",
          "2013-01-01T00:00:00",
          "2013-07-01T00:00:00",
          "2014-01-01T00:00:00",
          "2014-07-01T00:00:00",
          "2015-01-01T00:00:00",
          "2015-07-01T00:00:00",
          "2016-01-01T00:00:00",
          "2016-07-01T00:00:00",
          "2017-01-01T00:00:00",
          "2017-07-01T00:00:00",
          "2018-01-01T00:00:00",
          "2018-07-01T00:00:00",
          "2019-01-01T00:00:00",
          "2019-07-01T00:00:00",
          "2020-01-01T00:00:00",
          "2020-07-01T00:00:00",
          "2021-01-01T00:00:00",
          "2021-07-01T00:00:00",
          "2022-01-01T00:00:00",
          "2022-07-01T00:00:00",
          "2023-01-01T00:00:00",
          "2023-07-01T00:00:00",
          "2024-01-01T00:00:00",
          "2024-07-01T00:00:00"
         ],
         "xaxis": "x4",
         "y": [
          0.38566065117721493,
          -0.503984109858953,
          -0.46086877909968393,
          0.6995344852846337,
          0.0941230735148153,
          -0.050875608319371324,
          -0.4651419746786001,
          0.00597388209915195,
          0.4308484861371795,
          -0.6164312837187182,
          0.18589964321530594,
          0.1724833161885293,
          0.10752987956423254,
          0.3204820220614444,
          -0.40482113878905324,
          -0.3369209983053274,
          0.33253267551104493,
          0.0915197675748125,
          -0.12835956428217088,
          0.09101946212538436,
          -0.260075404486221,
          -0.33919526051178295,
          0.4133393573616537,
          0.39947018264816236,
          -0.27618356729627,
          -0.0519959974259212,
          0.23582314333137688,
          -0.3254647955858623,
          0.1861964631955697,
          0.24469109175356252,
          -0.18043762694401266
         ],
         "yaxis": "y4"
        }
       ],
       "layout": {
        "annotations": [
         {
          "font": {
           "size": 16
          },
          "showarrow": false,
          "text": "Unemployment_Rate (transformed)",
          "x": 0.49,
          "xanchor": "center",
          "xref": "paper",
          "y": 1,
          "yanchor": "bottom",
          "yref": "paper"
         },
         {
          "font": {
           "size": 16
          },
          "showarrow": false,
          "text": "Actual",
          "textangle": 90,
          "x": 0.98,
          "xanchor": "left",
          "xref": "paper",
          "y": 0.903125,
          "yanchor": "middle",
          "yref": "paper"
         },
         {
          "font": {
           "size": 16
          },
          "showarrow": false,
          "text": "Seasonal",
          "textangle": 90,
          "x": 0.98,
          "xanchor": "left",
          "xref": "paper",
          "y": 0.6343749999999999,
          "yanchor": "middle",
          "yref": "paper"
         },
         {
          "font": {
           "size": 16
          },
          "showarrow": false,
          "text": "Trend",
          "textangle": 90,
          "x": 0.98,
          "xanchor": "left",
          "xref": "paper",
          "y": 0.365625,
          "yanchor": "middle",
          "yref": "paper"
         },
         {
          "font": {
           "size": 16
          },
          "showarrow": false,
          "text": "Residual",
          "textangle": 90,
          "x": 0.98,
          "xanchor": "left",
          "xref": "paper",
          "y": 0.096875,
          "yanchor": "middle",
          "yref": "paper"
         }
        ],
        "autosize": false,
        "height": 500,
        "showlegend": false,
        "template": {
         "data": {
          "bar": [
           {
            "error_x": {
             "color": "rgb(51,51,51)"
            },
            "error_y": {
             "color": "rgb(51,51,51)"
            },
            "marker": {
             "line": {
              "color": "rgb(237,237,237)",
              "width": 0.5
             },
             "pattern": {
              "fillmode": "overlay",
              "size": 10,
              "solidity": 0.2
             }
            },
            "type": "bar"
           }
          ],
          "barpolar": [
           {
            "marker": {
             "line": {
              "color": "rgb(237,237,237)",
              "width": 0.5
             },
             "pattern": {
              "fillmode": "overlay",
              "size": 10,
              "solidity": 0.2
             }
            },
            "type": "barpolar"
           }
          ],
          "carpet": [
           {
            "aaxis": {
             "endlinecolor": "rgb(51,51,51)",
             "gridcolor": "white",
             "linecolor": "white",
             "minorgridcolor": "white",
             "startlinecolor": "rgb(51,51,51)"
            },
            "baxis": {
             "endlinecolor": "rgb(51,51,51)",
             "gridcolor": "white",
             "linecolor": "white",
             "minorgridcolor": "white",
             "startlinecolor": "rgb(51,51,51)"
            },
            "type": "carpet"
           }
          ],
          "choropleth": [
           {
            "colorbar": {
             "outlinewidth": 0,
             "tickcolor": "rgb(237,237,237)",
             "ticklen": 6,
             "ticks": "inside"
            },
            "type": "choropleth"
           }
          ],
          "contour": [
           {
            "colorbar": {
             "outlinewidth": 0,
             "tickcolor": "rgb(237,237,237)",
             "ticklen": 6,
             "ticks": "inside"
            },
            "colorscale": [
             [
              0,
              "rgb(20,44,66)"
             ],
             [
              1,
              "rgb(90,179,244)"
             ]
            ],
            "type": "contour"
           }
          ],
          "contourcarpet": [
           {
            "colorbar": {
             "outlinewidth": 0,
             "tickcolor": "rgb(237,237,237)",
             "ticklen": 6,
             "ticks": "inside"
            },
            "type": "contourcarpet"
           }
          ],
          "heatmap": [
           {
            "colorbar": {
             "outlinewidth": 0,
             "tickcolor": "rgb(237,237,237)",
             "ticklen": 6,
             "ticks": "inside"
            },
            "colorscale": [
             [
              0,
              "rgb(20,44,66)"
             ],
             [
              1,
              "rgb(90,179,244)"
             ]
            ],
            "type": "heatmap"
           }
          ],
          "heatmapgl": [
           {
            "colorbar": {
             "outlinewidth": 0,
             "tickcolor": "rgb(237,237,237)",
             "ticklen": 6,
             "ticks": "inside"
            },
            "colorscale": [
             [
              0,
              "rgb(20,44,66)"
             ],
             [
              1,
              "rgb(90,179,244)"
             ]
            ],
            "type": "heatmapgl"
           }
          ],
          "histogram": [
           {
            "marker": {
             "pattern": {
              "fillmode": "overlay",
              "size": 10,
              "solidity": 0.2
             }
            },
            "type": "histogram"
           }
          ],
          "histogram2d": [
           {
            "colorbar": {
             "outlinewidth": 0,
             "tickcolor": "rgb(237,237,237)",
             "ticklen": 6,
             "ticks": "inside"
            },
            "colorscale": [
             [
              0,
              "rgb(20,44,66)"
             ],
             [
              1,
              "rgb(90,179,244)"
             ]
            ],
            "type": "histogram2d"
           }
          ],
          "histogram2dcontour": [
           {
            "colorbar": {
             "outlinewidth": 0,
             "tickcolor": "rgb(237,237,237)",
             "ticklen": 6,
             "ticks": "inside"
            },
            "colorscale": [
             [
              0,
              "rgb(20,44,66)"
             ],
             [
              1,
              "rgb(90,179,244)"
             ]
            ],
            "type": "histogram2dcontour"
           }
          ],
          "mesh3d": [
           {
            "colorbar": {
             "outlinewidth": 0,
             "tickcolor": "rgb(237,237,237)",
             "ticklen": 6,
             "ticks": "inside"
            },
            "type": "mesh3d"
           }
          ],
          "parcoords": [
           {
            "line": {
             "colorbar": {
              "outlinewidth": 0,
              "tickcolor": "rgb(237,237,237)",
              "ticklen": 6,
              "ticks": "inside"
             }
            },
            "type": "parcoords"
           }
          ],
          "pie": [
           {
            "automargin": true,
            "type": "pie"
           }
          ],
          "scatter": [
           {
            "fillpattern": {
             "fillmode": "overlay",
             "size": 10,
             "solidity": 0.2
            },
            "type": "scatter"
           }
          ],
          "scatter3d": [
           {
            "line": {
             "colorbar": {
              "outlinewidth": 0,
              "tickcolor": "rgb(237,237,237)",
              "ticklen": 6,
              "ticks": "inside"
             }
            },
            "marker": {
             "colorbar": {
              "outlinewidth": 0,
              "tickcolor": "rgb(237,237,237)",
              "ticklen": 6,
              "ticks": "inside"
             }
            },
            "type": "scatter3d"
           }
          ],
          "scattercarpet": [
           {
            "marker": {
             "colorbar": {
              "outlinewidth": 0,
              "tickcolor": "rgb(237,237,237)",
              "ticklen": 6,
              "ticks": "inside"
             }
            },
            "type": "scattercarpet"
           }
          ],
          "scattergeo": [
           {
            "marker": {
             "colorbar": {
              "outlinewidth": 0,
              "tickcolor": "rgb(237,237,237)",
              "ticklen": 6,
              "ticks": "inside"
             }
            },
            "type": "scattergeo"
           }
          ],
          "scattergl": [
           {
            "marker": {
             "colorbar": {
              "outlinewidth": 0,
              "tickcolor": "rgb(237,237,237)",
              "ticklen": 6,
              "ticks": "inside"
             }
            },
            "type": "scattergl"
           }
          ],
          "scattermapbox": [
           {
            "marker": {
             "colorbar": {
              "outlinewidth": 0,
              "tickcolor": "rgb(237,237,237)",
              "ticklen": 6,
              "ticks": "inside"
             }
            },
            "type": "scattermapbox"
           }
          ],
          "scatterpolar": [
           {
            "marker": {
             "colorbar": {
              "outlinewidth": 0,
              "tickcolor": "rgb(237,237,237)",
              "ticklen": 6,
              "ticks": "inside"
             }
            },
            "type": "scatterpolar"
           }
          ],
          "scatterpolargl": [
           {
            "marker": {
             "colorbar": {
              "outlinewidth": 0,
              "tickcolor": "rgb(237,237,237)",
              "ticklen": 6,
              "ticks": "inside"
             }
            },
            "type": "scatterpolargl"
           }
          ],
          "scatterternary": [
           {
            "marker": {
             "colorbar": {
              "outlinewidth": 0,
              "tickcolor": "rgb(237,237,237)",
              "ticklen": 6,
              "ticks": "inside"
             }
            },
            "type": "scatterternary"
           }
          ],
          "surface": [
           {
            "colorbar": {
             "outlinewidth": 0,
             "tickcolor": "rgb(237,237,237)",
             "ticklen": 6,
             "ticks": "inside"
            },
            "colorscale": [
             [
              0,
              "rgb(20,44,66)"
             ],
             [
              1,
              "rgb(90,179,244)"
             ]
            ],
            "type": "surface"
           }
          ],
          "table": [
           {
            "cells": {
             "fill": {
              "color": "rgb(237,237,237)"
             },
             "line": {
              "color": "white"
             }
            },
            "header": {
             "fill": {
              "color": "rgb(217,217,217)"
             },
             "line": {
              "color": "white"
             }
            },
            "type": "table"
           }
          ]
         },
         "layout": {
          "annotationdefaults": {
           "arrowhead": 0,
           "arrowwidth": 1
          },
          "autotypenumbers": "strict",
          "coloraxis": {
           "colorbar": {
            "outlinewidth": 0,
            "tickcolor": "rgb(237,237,237)",
            "ticklen": 6,
            "ticks": "inside"
           }
          },
          "colorscale": {
           "sequential": [
            [
             0,
             "rgb(20,44,66)"
            ],
            [
             1,
             "rgb(90,179,244)"
            ]
           ],
           "sequentialminus": [
            [
             0,
             "rgb(20,44,66)"
            ],
            [
             1,
             "rgb(90,179,244)"
            ]
           ]
          },
          "colorway": [
           "#F8766D",
           "#A3A500",
           "#00BF7D",
           "#00B0F6",
           "#E76BF3"
          ],
          "font": {
           "color": "rgb(51,51,51)"
          },
          "geo": {
           "bgcolor": "white",
           "lakecolor": "white",
           "landcolor": "rgb(237,237,237)",
           "showlakes": true,
           "showland": true,
           "subunitcolor": "white"
          },
          "hoverlabel": {
           "align": "left"
          },
          "hovermode": "closest",
          "paper_bgcolor": "white",
          "plot_bgcolor": "rgb(237,237,237)",
          "polar": {
           "angularaxis": {
            "gridcolor": "white",
            "linecolor": "white",
            "showgrid": true,
            "tickcolor": "rgb(51,51,51)",
            "ticks": "outside"
           },
           "bgcolor": "rgb(237,237,237)",
           "radialaxis": {
            "gridcolor": "white",
            "linecolor": "white",
            "showgrid": true,
            "tickcolor": "rgb(51,51,51)",
            "ticks": "outside"
           }
          },
          "scene": {
           "xaxis": {
            "backgroundcolor": "rgb(237,237,237)",
            "gridcolor": "white",
            "gridwidth": 2,
            "linecolor": "white",
            "showbackground": true,
            "showgrid": true,
            "tickcolor": "rgb(51,51,51)",
            "ticks": "outside",
            "zerolinecolor": "white"
           },
           "yaxis": {
            "backgroundcolor": "rgb(237,237,237)",
            "gridcolor": "white",
            "gridwidth": 2,
            "linecolor": "white",
            "showbackground": true,
            "showgrid": true,
            "tickcolor": "rgb(51,51,51)",
            "ticks": "outside",
            "zerolinecolor": "white"
           },
           "zaxis": {
            "backgroundcolor": "rgb(237,237,237)",
            "gridcolor": "white",
            "gridwidth": 2,
            "linecolor": "white",
            "showbackground": true,
            "showgrid": true,
            "tickcolor": "rgb(51,51,51)",
            "ticks": "outside",
            "zerolinecolor": "white"
           }
          },
          "shapedefaults": {
           "fillcolor": "black",
           "line": {
            "width": 0
           },
           "opacity": 0.3
          },
          "ternary": {
           "aaxis": {
            "gridcolor": "white",
            "linecolor": "white",
            "showgrid": true,
            "tickcolor": "rgb(51,51,51)",
            "ticks": "outside"
           },
           "baxis": {
            "gridcolor": "white",
            "linecolor": "white",
            "showgrid": true,
            "tickcolor": "rgb(51,51,51)",
            "ticks": "outside"
           },
           "bgcolor": "rgb(237,237,237)",
           "caxis": {
            "gridcolor": "white",
            "linecolor": "white",
            "showgrid": true,
            "tickcolor": "rgb(51,51,51)",
            "ticks": "outside"
           }
          },
          "xaxis": {
           "automargin": true,
           "gridcolor": "white",
           "linecolor": "white",
           "showgrid": true,
           "tickcolor": "rgb(51,51,51)",
           "ticks": "outside",
           "title": {
            "standoff": 15
           },
           "zerolinecolor": "white"
          },
          "yaxis": {
           "automargin": true,
           "gridcolor": "white",
           "linecolor": "white",
           "showgrid": true,
           "tickcolor": "rgb(51,51,51)",
           "ticks": "outside",
           "title": {
            "standoff": 15
           },
           "zerolinecolor": "white"
          }
         }
        },
        "title": {
         "text": "STL Decomposition | Unemployment_Rate<br>Seasonal Period = 2"
        },
        "xaxis": {
         "anchor": "y",
         "domain": [
          0,
          0.98
         ],
         "matches": "x4",
         "showticklabels": false
        },
        "xaxis2": {
         "anchor": "y2",
         "domain": [
          0,
          0.98
         ],
         "matches": "x4",
         "showticklabels": false
        },
        "xaxis3": {
         "anchor": "y3",
         "domain": [
          0,
          0.98
         ],
         "matches": "x4",
         "showticklabels": false
        },
        "xaxis4": {
         "anchor": "y4",
         "domain": [
          0,
          0.98
         ]
        },
        "yaxis": {
         "anchor": "x",
         "domain": [
          0.80625,
          1
         ]
        },
        "yaxis2": {
         "anchor": "x2",
         "domain": [
          0.5375,
          0.73125
         ]
        },
        "yaxis3": {
         "anchor": "x3",
         "domain": [
          0.26875,
          0.4625
         ]
        },
        "yaxis4": {
         "anchor": "x4",
         "domain": [
          0,
          0.19375
         ]
        }
       }
      }
     },
     "metadata": {},
     "output_type": "display_data"
    }
   ],
   "source": [
    "exp.plot_model(plot=\"decomp_stl\", fig_kwargs={\"height\": 500})"
   ]
  },
  {
   "cell_type": "markdown",
   "metadata": {},
   "source": [
    "### fine tuning"
   ]
  },
  {
   "cell_type": "code",
   "execution_count": 401,
   "metadata": {},
   "outputs": [
    {
     "data": {
      "text/html": [],
      "text/plain": [
       "<IPython.core.display.HTML object>"
      ]
     },
     "metadata": {},
     "output_type": "display_data"
    },
    {
     "data": {
      "text/html": [
       "<style type=\"text/css\">\n",
       "#T_4da06_row3_col0, #T_4da06_row3_col1, #T_4da06_row3_col2, #T_4da06_row3_col3, #T_4da06_row3_col4, #T_4da06_row3_col5, #T_4da06_row3_col6, #T_4da06_row3_col7 {\n",
       "  background: yellow;\n",
       "}\n",
       "</style>\n",
       "<table id=\"T_4da06\">\n",
       "  <thead>\n",
       "    <tr>\n",
       "      <th class=\"blank level0\" >&nbsp;</th>\n",
       "      <th id=\"T_4da06_level0_col0\" class=\"col_heading level0 col0\" >cutoff</th>\n",
       "      <th id=\"T_4da06_level0_col1\" class=\"col_heading level0 col1\" >MASE</th>\n",
       "      <th id=\"T_4da06_level0_col2\" class=\"col_heading level0 col2\" >RMSSE</th>\n",
       "      <th id=\"T_4da06_level0_col3\" class=\"col_heading level0 col3\" >MAE</th>\n",
       "      <th id=\"T_4da06_level0_col4\" class=\"col_heading level0 col4\" >RMSE</th>\n",
       "      <th id=\"T_4da06_level0_col5\" class=\"col_heading level0 col5\" >MAPE</th>\n",
       "      <th id=\"T_4da06_level0_col6\" class=\"col_heading level0 col6\" >SMAPE</th>\n",
       "      <th id=\"T_4da06_level0_col7\" class=\"col_heading level0 col7\" >R2</th>\n",
       "    </tr>\n",
       "  </thead>\n",
       "  <tbody>\n",
       "    <tr>\n",
       "      <th id=\"T_4da06_level0_row0\" class=\"row_heading level0 row0\" >0</th>\n",
       "      <td id=\"T_4da06_row0_col0\" class=\"data row0 col0\" >2012Q3</td>\n",
       "      <td id=\"T_4da06_row0_col1\" class=\"data row0 col1\" >1.1098</td>\n",
       "      <td id=\"T_4da06_row0_col2\" class=\"data row0 col2\" >1.1586</td>\n",
       "      <td id=\"T_4da06_row0_col3\" class=\"data row0 col3\" >1.6967</td>\n",
       "      <td id=\"T_4da06_row0_col4\" class=\"data row0 col4\" >1.9441</td>\n",
       "      <td id=\"T_4da06_row0_col5\" class=\"data row0 col5\" >0.1143</td>\n",
       "      <td id=\"T_4da06_row0_col6\" class=\"data row0 col6\" >0.1170</td>\n",
       "      <td id=\"T_4da06_row0_col7\" class=\"data row0 col7\" >-0.7658</td>\n",
       "    </tr>\n",
       "    <tr>\n",
       "      <th id=\"T_4da06_level0_row1\" class=\"row_heading level0 row1\" >1</th>\n",
       "      <td id=\"T_4da06_row1_col0\" class=\"data row1 col0\" >2015Q3</td>\n",
       "      <td id=\"T_4da06_row1_col1\" class=\"data row1 col1\" >0.2785</td>\n",
       "      <td id=\"T_4da06_row1_col2\" class=\"data row1 col2\" >0.2630</td>\n",
       "      <td id=\"T_4da06_row1_col3\" class=\"data row1 col3\" >0.3232</td>\n",
       "      <td id=\"T_4da06_row1_col4\" class=\"data row1 col4\" >0.3529</td>\n",
       "      <td id=\"T_4da06_row1_col5\" class=\"data row1 col5\" >0.0234</td>\n",
       "      <td id=\"T_4da06_row1_col6\" class=\"data row1 col6\" >0.0234</td>\n",
       "      <td id=\"T_4da06_row1_col7\" class=\"data row1 col7\" >0.8845</td>\n",
       "    </tr>\n",
       "    <tr>\n",
       "      <th id=\"T_4da06_level0_row2\" class=\"row_heading level0 row2\" >2</th>\n",
       "      <td id=\"T_4da06_row2_col0\" class=\"data row2 col0\" >2018Q3</td>\n",
       "      <td id=\"T_4da06_row2_col1\" class=\"data row2 col1\" >1.2294</td>\n",
       "      <td id=\"T_4da06_row2_col2\" class=\"data row2 col2\" >1.3800</td>\n",
       "      <td id=\"T_4da06_row2_col3\" class=\"data row2 col3\" >1.4051</td>\n",
       "      <td id=\"T_4da06_row2_col4\" class=\"data row2 col4\" >1.8202</td>\n",
       "      <td id=\"T_4da06_row2_col5\" class=\"data row2 col5\" >0.0964</td>\n",
       "      <td id=\"T_4da06_row2_col6\" class=\"data row2 col6\" >0.1048</td>\n",
       "      <td id=\"T_4da06_row2_col7\" class=\"data row2 col7\" >-0.7242</td>\n",
       "    </tr>\n",
       "    <tr>\n",
       "      <th id=\"T_4da06_level0_row3\" class=\"row_heading level0 row3\" >Mean</th>\n",
       "      <td id=\"T_4da06_row3_col0\" class=\"data row3 col0\" >NaT</td>\n",
       "      <td id=\"T_4da06_row3_col1\" class=\"data row3 col1\" >0.8726</td>\n",
       "      <td id=\"T_4da06_row3_col2\" class=\"data row3 col2\" >0.9339</td>\n",
       "      <td id=\"T_4da06_row3_col3\" class=\"data row3 col3\" >1.1416</td>\n",
       "      <td id=\"T_4da06_row3_col4\" class=\"data row3 col4\" >1.3724</td>\n",
       "      <td id=\"T_4da06_row3_col5\" class=\"data row3 col5\" >0.0780</td>\n",
       "      <td id=\"T_4da06_row3_col6\" class=\"data row3 col6\" >0.0817</td>\n",
       "      <td id=\"T_4da06_row3_col7\" class=\"data row3 col7\" >-0.2018</td>\n",
       "    </tr>\n",
       "    <tr>\n",
       "      <th id=\"T_4da06_level0_row4\" class=\"row_heading level0 row4\" >SD</th>\n",
       "      <td id=\"T_4da06_row4_col0\" class=\"data row4 col0\" >NaT</td>\n",
       "      <td id=\"T_4da06_row4_col1\" class=\"data row4 col1\" >0.4229</td>\n",
       "      <td id=\"T_4da06_row4_col2\" class=\"data row4 col2\" >0.4829</td>\n",
       "      <td id=\"T_4da06_row4_col3\" class=\"data row4 col3\" >0.5909</td>\n",
       "      <td id=\"T_4da06_row4_col4\" class=\"data row4 col4\" >0.7227</td>\n",
       "      <td id=\"T_4da06_row4_col5\" class=\"data row4 col5\" >0.0393</td>\n",
       "      <td id=\"T_4da06_row4_col6\" class=\"data row4 col6\" >0.0415</td>\n",
       "      <td id=\"T_4da06_row4_col7\" class=\"data row4 col7\" >0.7683</td>\n",
       "    </tr>\n",
       "  </tbody>\n",
       "</table>\n"
      ],
      "text/plain": [
       "<pandas.io.formats.style.Styler at 0x16aa551c0>"
      ]
     },
     "metadata": {},
     "output_type": "display_data"
    },
    {
     "data": {
      "text/html": [],
      "text/plain": [
       "<IPython.core.display.HTML object>"
      ]
     },
     "metadata": {},
     "output_type": "display_data"
    },
    {
     "data": {
      "text/html": [
       "<style type=\"text/css\">\n",
       "</style>\n",
       "<table id=\"T_4a549\">\n",
       "  <thead>\n",
       "    <tr>\n",
       "      <th class=\"blank level0\" >&nbsp;</th>\n",
       "      <th id=\"T_4a549_level0_col0\" class=\"col_heading level0 col0\" >Model</th>\n",
       "      <th id=\"T_4a549_level0_col1\" class=\"col_heading level0 col1\" >MASE</th>\n",
       "      <th id=\"T_4a549_level0_col2\" class=\"col_heading level0 col2\" >RMSSE</th>\n",
       "      <th id=\"T_4a549_level0_col3\" class=\"col_heading level0 col3\" >MAE</th>\n",
       "      <th id=\"T_4a549_level0_col4\" class=\"col_heading level0 col4\" >RMSE</th>\n",
       "      <th id=\"T_4a549_level0_col5\" class=\"col_heading level0 col5\" >MAPE</th>\n",
       "      <th id=\"T_4a549_level0_col6\" class=\"col_heading level0 col6\" >SMAPE</th>\n",
       "      <th id=\"T_4a549_level0_col7\" class=\"col_heading level0 col7\" >R2</th>\n",
       "    </tr>\n",
       "  </thead>\n",
       "  <tbody>\n",
       "    <tr>\n",
       "      <th id=\"T_4a549_level0_row0\" class=\"row_heading level0 row0\" >0</th>\n",
       "      <td id=\"T_4a549_row0_col0\" class=\"data row0 col0\" >ExtraTreesRegressor</td>\n",
       "      <td id=\"T_4a549_row0_col1\" class=\"data row0 col1\" >0.7282</td>\n",
       "      <td id=\"T_4a549_row0_col2\" class=\"data row0 col2\" >0.6838</td>\n",
       "      <td id=\"T_4a549_row0_col3\" class=\"data row0 col3\" >0.8125</td>\n",
       "      <td id=\"T_4a549_row0_col4\" class=\"data row0 col4\" >0.8958</td>\n",
       "      <td id=\"T_4a549_row0_col5\" class=\"data row0 col5\" >0.0617</td>\n",
       "      <td id=\"T_4a549_row0_col6\" class=\"data row0 col6\" >0.0642</td>\n",
       "      <td id=\"T_4a549_row0_col7\" class=\"data row0 col7\" >0.0590</td>\n",
       "    </tr>\n",
       "  </tbody>\n",
       "</table>\n"
      ],
      "text/plain": [
       "<pandas.io.formats.style.Styler at 0x16d280eb0>"
      ]
     },
     "metadata": {},
     "output_type": "display_data"
    },
    {
     "data": {
      "application/vnd.plotly.v1+json": {
       "config": {
        "plotlyServerURL": "https://plot.ly"
       },
       "data": [
        {
         "line": {
          "color": "rgb(31, 119, 180)",
          "width": 2
         },
         "marker": {
          "color": "rgb(31, 119, 180)",
          "size": 5
         },
         "mode": "lines+markers",
         "name": "Unemployment_Rate",
         "type": "scattergl",
         "x": [
          "2009-07-01T00:00:00",
          "2010-01-01T00:00:00",
          "2010-07-01T00:00:00",
          "2011-01-01T00:00:00",
          "2011-07-01T00:00:00",
          "2012-01-01T00:00:00",
          "2012-07-01T00:00:00",
          "2013-01-01T00:00:00",
          "2013-07-01T00:00:00",
          "2014-01-01T00:00:00",
          "2014-07-01T00:00:00",
          "2015-01-01T00:00:00",
          "2015-07-01T00:00:00",
          "2016-01-01T00:00:00",
          "2016-07-01T00:00:00",
          "2017-01-01T00:00:00",
          "2017-07-01T00:00:00",
          "2018-01-01T00:00:00",
          "2018-07-01T00:00:00",
          "2019-01-01T00:00:00",
          "2019-07-01T00:00:00",
          "2020-01-01T00:00:00",
          "2020-07-01T00:00:00",
          "2021-01-01T00:00:00",
          "2021-07-01T00:00:00",
          "2022-01-01T00:00:00",
          "2022-07-01T00:00:00",
          "2023-01-01T00:00:00",
          "2023-07-01T00:00:00",
          "2024-01-01T00:00:00",
          "2024-07-01T00:00:00"
         ],
         "xaxis": "x",
         "y": [
          17.14238687901972,
          15.775726707916432,
          15.989462347425771,
          16.851591124698285,
          16.717763415603496,
          14.310062356756935,
          14.5723059746109,
          13.3476811958149,
          15.849200216451232,
          12.565402640695696,
          16.084781044581263,
          14.11539724268468,
          16.397679501557164,
          13.548613123951707,
          14.186108713893296,
          11.812189996775132,
          14.866057832702904,
          12.5799081053059,
          14.163591538115917,
          12.020975928692252,
          13.680974319783642,
          12.22887496390804,
          15.862362395833156,
          14.188898876104474,
          15.018407075494991,
          12.948944225299863,
          14.764916741760771,
          12.265233452406,
          14.177533914667926,
          12.378460471546267,
          12.871909126092456
         ],
         "yaxis": "y"
        },
        {
         "line": {
          "color": "rgb(255, 127, 14)",
          "width": 2
         },
         "marker": {
          "color": "rgb(255, 127, 14)",
          "size": 5
         },
         "mode": "lines+markers",
         "name": "ExtraTreesRegressor",
         "type": "scattergl",
         "x": [
          "2009-07-01T00:00:00",
          "2010-01-01T00:00:00",
          "2010-07-01T00:00:00",
          "2011-01-01T00:00:00",
          "2011-07-01T00:00:00",
          "2012-01-01T00:00:00",
          "2012-07-01T00:00:00",
          "2013-01-01T00:00:00",
          "2013-07-01T00:00:00",
          "2014-01-01T00:00:00",
          "2014-07-01T00:00:00",
          "2015-01-01T00:00:00",
          "2015-07-01T00:00:00",
          "2016-01-01T00:00:00",
          "2016-07-01T00:00:00",
          "2017-01-01T00:00:00",
          "2017-07-01T00:00:00",
          "2018-01-01T00:00:00",
          "2018-07-01T00:00:00",
          "2019-01-01T00:00:00",
          "2019-07-01T00:00:00",
          "2020-01-01T00:00:00",
          "2020-07-01T00:00:00",
          "2021-01-01T00:00:00",
          "2021-07-01T00:00:00",
          "2022-01-01T00:00:00",
          "2022-07-01T00:00:00",
          "2023-01-01T00:00:00",
          "2023-07-01T00:00:00",
          "2024-01-01T00:00:00",
          "2024-07-01T00:00:00"
         ],
         "xaxis": "x",
         "y": [
          null,
          null,
          null,
          null,
          null,
          null,
          null,
          null,
          null,
          null,
          null,
          null,
          null,
          null,
          null,
          null,
          null,
          null,
          null,
          null,
          null,
          null,
          null,
          null,
          null,
          12.2517,
          13.778,
          11.1408,
          13.3271,
          11.2102,
          12.9196
         ],
         "yaxis": "y"
        }
       ],
       "layout": {
        "showlegend": true,
        "template": {
         "data": {
          "bar": [
           {
            "error_x": {
             "color": "rgb(51,51,51)"
            },
            "error_y": {
             "color": "rgb(51,51,51)"
            },
            "marker": {
             "line": {
              "color": "rgb(237,237,237)",
              "width": 0.5
             },
             "pattern": {
              "fillmode": "overlay",
              "size": 10,
              "solidity": 0.2
             }
            },
            "type": "bar"
           }
          ],
          "barpolar": [
           {
            "marker": {
             "line": {
              "color": "rgb(237,237,237)",
              "width": 0.5
             },
             "pattern": {
              "fillmode": "overlay",
              "size": 10,
              "solidity": 0.2
             }
            },
            "type": "barpolar"
           }
          ],
          "carpet": [
           {
            "aaxis": {
             "endlinecolor": "rgb(51,51,51)",
             "gridcolor": "white",
             "linecolor": "white",
             "minorgridcolor": "white",
             "startlinecolor": "rgb(51,51,51)"
            },
            "baxis": {
             "endlinecolor": "rgb(51,51,51)",
             "gridcolor": "white",
             "linecolor": "white",
             "minorgridcolor": "white",
             "startlinecolor": "rgb(51,51,51)"
            },
            "type": "carpet"
           }
          ],
          "choropleth": [
           {
            "colorbar": {
             "outlinewidth": 0,
             "tickcolor": "rgb(237,237,237)",
             "ticklen": 6,
             "ticks": "inside"
            },
            "type": "choropleth"
           }
          ],
          "contour": [
           {
            "colorbar": {
             "outlinewidth": 0,
             "tickcolor": "rgb(237,237,237)",
             "ticklen": 6,
             "ticks": "inside"
            },
            "colorscale": [
             [
              0,
              "rgb(20,44,66)"
             ],
             [
              1,
              "rgb(90,179,244)"
             ]
            ],
            "type": "contour"
           }
          ],
          "contourcarpet": [
           {
            "colorbar": {
             "outlinewidth": 0,
             "tickcolor": "rgb(237,237,237)",
             "ticklen": 6,
             "ticks": "inside"
            },
            "type": "contourcarpet"
           }
          ],
          "heatmap": [
           {
            "colorbar": {
             "outlinewidth": 0,
             "tickcolor": "rgb(237,237,237)",
             "ticklen": 6,
             "ticks": "inside"
            },
            "colorscale": [
             [
              0,
              "rgb(20,44,66)"
             ],
             [
              1,
              "rgb(90,179,244)"
             ]
            ],
            "type": "heatmap"
           }
          ],
          "heatmapgl": [
           {
            "colorbar": {
             "outlinewidth": 0,
             "tickcolor": "rgb(237,237,237)",
             "ticklen": 6,
             "ticks": "inside"
            },
            "colorscale": [
             [
              0,
              "rgb(20,44,66)"
             ],
             [
              1,
              "rgb(90,179,244)"
             ]
            ],
            "type": "heatmapgl"
           }
          ],
          "histogram": [
           {
            "marker": {
             "pattern": {
              "fillmode": "overlay",
              "size": 10,
              "solidity": 0.2
             }
            },
            "type": "histogram"
           }
          ],
          "histogram2d": [
           {
            "colorbar": {
             "outlinewidth": 0,
             "tickcolor": "rgb(237,237,237)",
             "ticklen": 6,
             "ticks": "inside"
            },
            "colorscale": [
             [
              0,
              "rgb(20,44,66)"
             ],
             [
              1,
              "rgb(90,179,244)"
             ]
            ],
            "type": "histogram2d"
           }
          ],
          "histogram2dcontour": [
           {
            "colorbar": {
             "outlinewidth": 0,
             "tickcolor": "rgb(237,237,237)",
             "ticklen": 6,
             "ticks": "inside"
            },
            "colorscale": [
             [
              0,
              "rgb(20,44,66)"
             ],
             [
              1,
              "rgb(90,179,244)"
             ]
            ],
            "type": "histogram2dcontour"
           }
          ],
          "mesh3d": [
           {
            "colorbar": {
             "outlinewidth": 0,
             "tickcolor": "rgb(237,237,237)",
             "ticklen": 6,
             "ticks": "inside"
            },
            "type": "mesh3d"
           }
          ],
          "parcoords": [
           {
            "line": {
             "colorbar": {
              "outlinewidth": 0,
              "tickcolor": "rgb(237,237,237)",
              "ticklen": 6,
              "ticks": "inside"
             }
            },
            "type": "parcoords"
           }
          ],
          "pie": [
           {
            "automargin": true,
            "type": "pie"
           }
          ],
          "scatter": [
           {
            "fillpattern": {
             "fillmode": "overlay",
             "size": 10,
             "solidity": 0.2
            },
            "type": "scatter"
           }
          ],
          "scatter3d": [
           {
            "line": {
             "colorbar": {
              "outlinewidth": 0,
              "tickcolor": "rgb(237,237,237)",
              "ticklen": 6,
              "ticks": "inside"
             }
            },
            "marker": {
             "colorbar": {
              "outlinewidth": 0,
              "tickcolor": "rgb(237,237,237)",
              "ticklen": 6,
              "ticks": "inside"
             }
            },
            "type": "scatter3d"
           }
          ],
          "scattercarpet": [
           {
            "marker": {
             "colorbar": {
              "outlinewidth": 0,
              "tickcolor": "rgb(237,237,237)",
              "ticklen": 6,
              "ticks": "inside"
             }
            },
            "type": "scattercarpet"
           }
          ],
          "scattergeo": [
           {
            "marker": {
             "colorbar": {
              "outlinewidth": 0,
              "tickcolor": "rgb(237,237,237)",
              "ticklen": 6,
              "ticks": "inside"
             }
            },
            "type": "scattergeo"
           }
          ],
          "scattergl": [
           {
            "marker": {
             "colorbar": {
              "outlinewidth": 0,
              "tickcolor": "rgb(237,237,237)",
              "ticklen": 6,
              "ticks": "inside"
             }
            },
            "type": "scattergl"
           }
          ],
          "scattermapbox": [
           {
            "marker": {
             "colorbar": {
              "outlinewidth": 0,
              "tickcolor": "rgb(237,237,237)",
              "ticklen": 6,
              "ticks": "inside"
             }
            },
            "type": "scattermapbox"
           }
          ],
          "scatterpolar": [
           {
            "marker": {
             "colorbar": {
              "outlinewidth": 0,
              "tickcolor": "rgb(237,237,237)",
              "ticklen": 6,
              "ticks": "inside"
             }
            },
            "type": "scatterpolar"
           }
          ],
          "scatterpolargl": [
           {
            "marker": {
             "colorbar": {
              "outlinewidth": 0,
              "tickcolor": "rgb(237,237,237)",
              "ticklen": 6,
              "ticks": "inside"
             }
            },
            "type": "scatterpolargl"
           }
          ],
          "scatterternary": [
           {
            "marker": {
             "colorbar": {
              "outlinewidth": 0,
              "tickcolor": "rgb(237,237,237)",
              "ticklen": 6,
              "ticks": "inside"
             }
            },
            "type": "scatterternary"
           }
          ],
          "surface": [
           {
            "colorbar": {
             "outlinewidth": 0,
             "tickcolor": "rgb(237,237,237)",
             "ticklen": 6,
             "ticks": "inside"
            },
            "colorscale": [
             [
              0,
              "rgb(20,44,66)"
             ],
             [
              1,
              "rgb(90,179,244)"
             ]
            ],
            "type": "surface"
           }
          ],
          "table": [
           {
            "cells": {
             "fill": {
              "color": "rgb(237,237,237)"
             },
             "line": {
              "color": "white"
             }
            },
            "header": {
             "fill": {
              "color": "rgb(217,217,217)"
             },
             "line": {
              "color": "white"
             }
            },
            "type": "table"
           }
          ]
         },
         "layout": {
          "annotationdefaults": {
           "arrowhead": 0,
           "arrowwidth": 1
          },
          "autotypenumbers": "strict",
          "coloraxis": {
           "colorbar": {
            "outlinewidth": 0,
            "tickcolor": "rgb(237,237,237)",
            "ticklen": 6,
            "ticks": "inside"
           }
          },
          "colorscale": {
           "sequential": [
            [
             0,
             "rgb(20,44,66)"
            ],
            [
             1,
             "rgb(90,179,244)"
            ]
           ],
           "sequentialminus": [
            [
             0,
             "rgb(20,44,66)"
            ],
            [
             1,
             "rgb(90,179,244)"
            ]
           ]
          },
          "colorway": [
           "#F8766D",
           "#A3A500",
           "#00BF7D",
           "#00B0F6",
           "#E76BF3"
          ],
          "font": {
           "color": "rgb(51,51,51)"
          },
          "geo": {
           "bgcolor": "white",
           "lakecolor": "white",
           "landcolor": "rgb(237,237,237)",
           "showlakes": true,
           "showland": true,
           "subunitcolor": "white"
          },
          "hoverlabel": {
           "align": "left"
          },
          "hovermode": "closest",
          "paper_bgcolor": "white",
          "plot_bgcolor": "rgb(237,237,237)",
          "polar": {
           "angularaxis": {
            "gridcolor": "white",
            "linecolor": "white",
            "showgrid": true,
            "tickcolor": "rgb(51,51,51)",
            "ticks": "outside"
           },
           "bgcolor": "rgb(237,237,237)",
           "radialaxis": {
            "gridcolor": "white",
            "linecolor": "white",
            "showgrid": true,
            "tickcolor": "rgb(51,51,51)",
            "ticks": "outside"
           }
          },
          "scene": {
           "xaxis": {
            "backgroundcolor": "rgb(237,237,237)",
            "gridcolor": "white",
            "gridwidth": 2,
            "linecolor": "white",
            "showbackground": true,
            "showgrid": true,
            "tickcolor": "rgb(51,51,51)",
            "ticks": "outside",
            "zerolinecolor": "white"
           },
           "yaxis": {
            "backgroundcolor": "rgb(237,237,237)",
            "gridcolor": "white",
            "gridwidth": 2,
            "linecolor": "white",
            "showbackground": true,
            "showgrid": true,
            "tickcolor": "rgb(51,51,51)",
            "ticks": "outside",
            "zerolinecolor": "white"
           },
           "zaxis": {
            "backgroundcolor": "rgb(237,237,237)",
            "gridcolor": "white",
            "gridwidth": 2,
            "linecolor": "white",
            "showbackground": true,
            "showgrid": true,
            "tickcolor": "rgb(51,51,51)",
            "ticks": "outside",
            "zerolinecolor": "white"
           }
          },
          "shapedefaults": {
           "fillcolor": "black",
           "line": {
            "width": 0
           },
           "opacity": 0.3
          },
          "ternary": {
           "aaxis": {
            "gridcolor": "white",
            "linecolor": "white",
            "showgrid": true,
            "tickcolor": "rgb(51,51,51)",
            "ticks": "outside"
           },
           "baxis": {
            "gridcolor": "white",
            "linecolor": "white",
            "showgrid": true,
            "tickcolor": "rgb(51,51,51)",
            "ticks": "outside"
           },
           "bgcolor": "rgb(237,237,237)",
           "caxis": {
            "gridcolor": "white",
            "linecolor": "white",
            "showgrid": true,
            "tickcolor": "rgb(51,51,51)",
            "ticks": "outside"
           }
          },
          "xaxis": {
           "automargin": true,
           "gridcolor": "white",
           "linecolor": "white",
           "showgrid": true,
           "tickcolor": "rgb(51,51,51)",
           "ticks": "outside",
           "title": {
            "standoff": 15
           },
           "zerolinecolor": "white"
          },
          "yaxis": {
           "automargin": true,
           "gridcolor": "white",
           "linecolor": "white",
           "showgrid": true,
           "tickcolor": "rgb(51,51,51)",
           "ticks": "outside",
           "title": {
            "standoff": 15
           },
           "zerolinecolor": "white"
          }
         }
        },
        "title": {
         "text": "Actual vs. Forecast (Out-of-Sample)"
        },
        "xaxis": {
         "anchor": "y",
         "domain": [
          0,
          1
         ]
        },
        "yaxis": {
         "anchor": "x",
         "domain": [
          0,
          1
         ]
        }
       }
      }
     },
     "metadata": {},
     "output_type": "display_data"
    }
   ],
   "source": [
    "et_cds_dt = exp.create_model('et_cds_dt')\n",
    "y_predict_et_cds_dt = exp.predict_model(et_cds_dt)\n",
    "exp.plot_model(estimator=et_cds_dt)"
   ]
  },
  {
   "cell_type": "code",
   "execution_count": 402,
   "metadata": {},
   "outputs": [
    {
     "data": {
      "text/html": [],
      "text/plain": [
       "<IPython.core.display.HTML object>"
      ]
     },
     "metadata": {},
     "output_type": "display_data"
    },
    {
     "data": {
      "text/html": [
       "<style type=\"text/css\">\n",
       "#T_ceba1_row3_col0, #T_ceba1_row3_col1, #T_ceba1_row3_col2, #T_ceba1_row3_col3, #T_ceba1_row3_col4, #T_ceba1_row3_col5, #T_ceba1_row3_col6, #T_ceba1_row3_col7 {\n",
       "  background: yellow;\n",
       "}\n",
       "</style>\n",
       "<table id=\"T_ceba1\">\n",
       "  <thead>\n",
       "    <tr>\n",
       "      <th class=\"blank level0\" >&nbsp;</th>\n",
       "      <th id=\"T_ceba1_level0_col0\" class=\"col_heading level0 col0\" >cutoff</th>\n",
       "      <th id=\"T_ceba1_level0_col1\" class=\"col_heading level0 col1\" >MASE</th>\n",
       "      <th id=\"T_ceba1_level0_col2\" class=\"col_heading level0 col2\" >RMSSE</th>\n",
       "      <th id=\"T_ceba1_level0_col3\" class=\"col_heading level0 col3\" >MAE</th>\n",
       "      <th id=\"T_ceba1_level0_col4\" class=\"col_heading level0 col4\" >RMSE</th>\n",
       "      <th id=\"T_ceba1_level0_col5\" class=\"col_heading level0 col5\" >MAPE</th>\n",
       "      <th id=\"T_ceba1_level0_col6\" class=\"col_heading level0 col6\" >SMAPE</th>\n",
       "      <th id=\"T_ceba1_level0_col7\" class=\"col_heading level0 col7\" >R2</th>\n",
       "    </tr>\n",
       "  </thead>\n",
       "  <tbody>\n",
       "    <tr>\n",
       "      <th id=\"T_ceba1_level0_row0\" class=\"row_heading level0 row0\" >0</th>\n",
       "      <td id=\"T_ceba1_row0_col0\" class=\"data row0 col0\" >2012Q3</td>\n",
       "      <td id=\"T_ceba1_row0_col1\" class=\"data row0 col1\" >1.1912</td>\n",
       "      <td id=\"T_ceba1_row0_col2\" class=\"data row0 col2\" >1.2073</td>\n",
       "      <td id=\"T_ceba1_row0_col3\" class=\"data row0 col3\" >1.8211</td>\n",
       "      <td id=\"T_ceba1_row0_col4\" class=\"data row0 col4\" >2.0259</td>\n",
       "      <td id=\"T_ceba1_row0_col5\" class=\"data row0 col5\" >0.1218</td>\n",
       "      <td id=\"T_ceba1_row0_col6\" class=\"data row0 col6\" >0.1260</td>\n",
       "      <td id=\"T_ceba1_row0_col7\" class=\"data row0 col7\" >-0.9174</td>\n",
       "    </tr>\n",
       "    <tr>\n",
       "      <th id=\"T_ceba1_level0_row1\" class=\"row_heading level0 row1\" >1</th>\n",
       "      <td id=\"T_ceba1_row1_col0\" class=\"data row1 col0\" >2015Q3</td>\n",
       "      <td id=\"T_ceba1_row1_col1\" class=\"data row1 col1\" >0.3432</td>\n",
       "      <td id=\"T_ceba1_row1_col2\" class=\"data row1 col2\" >0.3808</td>\n",
       "      <td id=\"T_ceba1_row1_col3\" class=\"data row1 col3\" >0.3983</td>\n",
       "      <td id=\"T_ceba1_row1_col4\" class=\"data row1 col4\" >0.5110</td>\n",
       "      <td id=\"T_ceba1_row1_col5\" class=\"data row1 col5\" >0.0305</td>\n",
       "      <td id=\"T_ceba1_row1_col6\" class=\"data row1 col6\" >0.0298</td>\n",
       "      <td id=\"T_ceba1_row1_col7\" class=\"data row1 col7\" >0.7579</td>\n",
       "    </tr>\n",
       "    <tr>\n",
       "      <th id=\"T_ceba1_level0_row2\" class=\"row_heading level0 row2\" >2</th>\n",
       "      <td id=\"T_ceba1_row2_col0\" class=\"data row2 col0\" >2018Q3</td>\n",
       "      <td id=\"T_ceba1_row2_col1\" class=\"data row2 col1\" >1.1986</td>\n",
       "      <td id=\"T_ceba1_row2_col2\" class=\"data row2 col2\" >1.3362</td>\n",
       "      <td id=\"T_ceba1_row2_col3\" class=\"data row2 col3\" >1.3698</td>\n",
       "      <td id=\"T_ceba1_row2_col4\" class=\"data row2 col4\" >1.7625</td>\n",
       "      <td id=\"T_ceba1_row2_col5\" class=\"data row2 col5\" >0.0939</td>\n",
       "      <td id=\"T_ceba1_row2_col6\" class=\"data row2 col6\" >0.1017</td>\n",
       "      <td id=\"T_ceba1_row2_col7\" class=\"data row2 col7\" >-0.6165</td>\n",
       "    </tr>\n",
       "    <tr>\n",
       "      <th id=\"T_ceba1_level0_row3\" class=\"row_heading level0 row3\" >Mean</th>\n",
       "      <td id=\"T_ceba1_row3_col0\" class=\"data row3 col0\" >NaT</td>\n",
       "      <td id=\"T_ceba1_row3_col1\" class=\"data row3 col1\" >0.9110</td>\n",
       "      <td id=\"T_ceba1_row3_col2\" class=\"data row3 col2\" >0.9748</td>\n",
       "      <td id=\"T_ceba1_row3_col3\" class=\"data row3 col3\" >1.1964</td>\n",
       "      <td id=\"T_ceba1_row3_col4\" class=\"data row3 col4\" >1.4331</td>\n",
       "      <td id=\"T_ceba1_row3_col5\" class=\"data row3 col5\" >0.0821</td>\n",
       "      <td id=\"T_ceba1_row3_col6\" class=\"data row3 col6\" >0.0859</td>\n",
       "      <td id=\"T_ceba1_row3_col7\" class=\"data row3 col7\" >-0.2587</td>\n",
       "    </tr>\n",
       "    <tr>\n",
       "      <th id=\"T_ceba1_level0_row4\" class=\"row_heading level0 row4\" >SD</th>\n",
       "      <td id=\"T_ceba1_row4_col0\" class=\"data row4 col0\" >NaT</td>\n",
       "      <td id=\"T_ceba1_row4_col1\" class=\"data row4 col1\" >0.4015</td>\n",
       "      <td id=\"T_ceba1_row4_col2\" class=\"data row4 col2\" >0.4233</td>\n",
       "      <td id=\"T_ceba1_row4_col3\" class=\"data row4 col3\" >0.5937</td>\n",
       "      <td id=\"T_ceba1_row4_col4\" class=\"data row4 col4\" >0.6608</td>\n",
       "      <td id=\"T_ceba1_row4_col5\" class=\"data row4 col5\" >0.0382</td>\n",
       "      <td id=\"T_ceba1_row4_col6\" class=\"data row4 col6\" >0.0409</td>\n",
       "      <td id=\"T_ceba1_row4_col7\" class=\"data row4 col7\" >0.7292</td>\n",
       "    </tr>\n",
       "  </tbody>\n",
       "</table>\n"
      ],
      "text/plain": [
       "<pandas.io.formats.style.Styler at 0x17715cac0>"
      ]
     },
     "metadata": {},
     "output_type": "display_data"
    },
    {
     "data": {
      "text/html": [],
      "text/plain": [
       "<IPython.core.display.HTML object>"
      ]
     },
     "metadata": {},
     "output_type": "display_data"
    },
    {
     "name": "stdout",
     "output_type": "stream",
     "text": [
      "Fitting 3 folds for each of 20 candidates, totalling 60 fits\n"
     ]
    },
    {
     "name": "stderr",
     "output_type": "stream",
     "text": [
      "[Parallel(n_jobs=-1)]: Using backend LokyBackend with 8 concurrent workers.\n",
      "[Parallel(n_jobs=-1)]: Done  34 tasks      | elapsed:    1.8s\n",
      "[Parallel(n_jobs=-1)]: Done  60 out of  60 | elapsed:    2.8s finished\n"
     ]
    },
    {
     "data": {
      "text/html": [
       "<style type=\"text/css\">\n",
       "</style>\n",
       "<table id=\"T_b4a16\">\n",
       "  <thead>\n",
       "    <tr>\n",
       "      <th class=\"blank level0\" >&nbsp;</th>\n",
       "      <th id=\"T_b4a16_level0_col0\" class=\"col_heading level0 col0\" >Model</th>\n",
       "      <th id=\"T_b4a16_level0_col1\" class=\"col_heading level0 col1\" >MASE</th>\n",
       "      <th id=\"T_b4a16_level0_col2\" class=\"col_heading level0 col2\" >RMSSE</th>\n",
       "      <th id=\"T_b4a16_level0_col3\" class=\"col_heading level0 col3\" >MAE</th>\n",
       "      <th id=\"T_b4a16_level0_col4\" class=\"col_heading level0 col4\" >RMSE</th>\n",
       "      <th id=\"T_b4a16_level0_col5\" class=\"col_heading level0 col5\" >MAPE</th>\n",
       "      <th id=\"T_b4a16_level0_col6\" class=\"col_heading level0 col6\" >SMAPE</th>\n",
       "      <th id=\"T_b4a16_level0_col7\" class=\"col_heading level0 col7\" >R2</th>\n",
       "    </tr>\n",
       "  </thead>\n",
       "  <tbody>\n",
       "    <tr>\n",
       "      <th id=\"T_b4a16_level0_row0\" class=\"row_heading level0 row0\" >0</th>\n",
       "      <td id=\"T_b4a16_row0_col0\" class=\"data row0 col0\" >ExtraTreesRegressor</td>\n",
       "      <td id=\"T_b4a16_row0_col1\" class=\"data row0 col1\" >0.7282</td>\n",
       "      <td id=\"T_b4a16_row0_col2\" class=\"data row0 col2\" >0.6838</td>\n",
       "      <td id=\"T_b4a16_row0_col3\" class=\"data row0 col3\" >0.8125</td>\n",
       "      <td id=\"T_b4a16_row0_col4\" class=\"data row0 col4\" >0.8958</td>\n",
       "      <td id=\"T_b4a16_row0_col5\" class=\"data row0 col5\" >0.0617</td>\n",
       "      <td id=\"T_b4a16_row0_col6\" class=\"data row0 col6\" >0.0642</td>\n",
       "      <td id=\"T_b4a16_row0_col7\" class=\"data row0 col7\" >0.0590</td>\n",
       "    </tr>\n",
       "  </tbody>\n",
       "</table>\n"
      ],
      "text/plain": [
       "<pandas.io.formats.style.Styler at 0x176fcafd0>"
      ]
     },
     "metadata": {},
     "output_type": "display_data"
    },
    {
     "data": {
      "text/html": [
       "<div>\n",
       "<style scoped>\n",
       "    .dataframe tbody tr th:only-of-type {\n",
       "        vertical-align: middle;\n",
       "    }\n",
       "\n",
       "    .dataframe tbody tr th {\n",
       "        vertical-align: top;\n",
       "    }\n",
       "\n",
       "    .dataframe thead th {\n",
       "        text-align: right;\n",
       "    }\n",
       "</style>\n",
       "<table border=\"1\" class=\"dataframe\">\n",
       "  <thead>\n",
       "    <tr style=\"text-align: right;\">\n",
       "      <th></th>\n",
       "      <th>y_pred</th>\n",
       "    </tr>\n",
       "  </thead>\n",
       "  <tbody>\n",
       "    <tr>\n",
       "      <th>2022Q1</th>\n",
       "      <td>12.2517</td>\n",
       "    </tr>\n",
       "    <tr>\n",
       "      <th>2022Q3</th>\n",
       "      <td>13.7780</td>\n",
       "    </tr>\n",
       "    <tr>\n",
       "      <th>2023Q1</th>\n",
       "      <td>11.1408</td>\n",
       "    </tr>\n",
       "    <tr>\n",
       "      <th>2023Q3</th>\n",
       "      <td>13.3271</td>\n",
       "    </tr>\n",
       "    <tr>\n",
       "      <th>2024Q1</th>\n",
       "      <td>11.2102</td>\n",
       "    </tr>\n",
       "    <tr>\n",
       "      <th>2024Q3</th>\n",
       "      <td>12.9196</td>\n",
       "    </tr>\n",
       "  </tbody>\n",
       "</table>\n",
       "</div>"
      ],
      "text/plain": [
       "         y_pred\n",
       "2022Q1  12.2517\n",
       "2022Q3  13.7780\n",
       "2023Q1  11.1408\n",
       "2023Q3  13.3271\n",
       "2024Q1  11.2102\n",
       "2024Q3  12.9196"
      ]
     },
     "execution_count": 402,
     "metadata": {},
     "output_type": "execute_result"
    }
   ],
   "source": [
    "tuned_et_cds_dt = tune_model(et_cds_dt, n_iter=20, optimize='MASE')\n",
    "exp.predict_model(tuned_et_cds_dt)"
   ]
  },
  {
   "cell_type": "code",
   "execution_count": 403,
   "metadata": {},
   "outputs": [
    {
     "data": {
      "application/vnd.plotly.v1+json": {
       "config": {
        "plotlyServerURL": "https://plot.ly"
       },
       "data": [
        {
         "line": {
          "color": "rgb(31, 119, 180)",
          "width": 2
         },
         "marker": {
          "color": "rgb(31, 119, 180)",
          "size": 5
         },
         "mode": "lines+markers",
         "name": "Unemployment_Rate",
         "type": "scattergl",
         "x": [
          "2009-07-01T00:00:00",
          "2010-01-01T00:00:00",
          "2010-07-01T00:00:00",
          "2011-01-01T00:00:00",
          "2011-07-01T00:00:00",
          "2012-01-01T00:00:00",
          "2012-07-01T00:00:00",
          "2013-01-01T00:00:00",
          "2013-07-01T00:00:00",
          "2014-01-01T00:00:00",
          "2014-07-01T00:00:00",
          "2015-01-01T00:00:00",
          "2015-07-01T00:00:00",
          "2016-01-01T00:00:00",
          "2016-07-01T00:00:00",
          "2017-01-01T00:00:00",
          "2017-07-01T00:00:00",
          "2018-01-01T00:00:00",
          "2018-07-01T00:00:00",
          "2019-01-01T00:00:00",
          "2019-07-01T00:00:00",
          "2020-01-01T00:00:00",
          "2020-07-01T00:00:00",
          "2021-01-01T00:00:00",
          "2021-07-01T00:00:00",
          "2022-01-01T00:00:00",
          "2022-07-01T00:00:00",
          "2023-01-01T00:00:00",
          "2023-07-01T00:00:00",
          "2024-01-01T00:00:00",
          "2024-07-01T00:00:00"
         ],
         "xaxis": "x",
         "y": [
          17.14238687901972,
          15.775726707916432,
          15.989462347425771,
          16.851591124698285,
          16.717763415603496,
          14.310062356756935,
          14.5723059746109,
          13.3476811958149,
          15.849200216451232,
          12.565402640695696,
          16.084781044581263,
          14.11539724268468,
          16.397679501557164,
          13.548613123951707,
          14.186108713893296,
          11.812189996775132,
          14.866057832702904,
          12.5799081053059,
          14.163591538115917,
          12.020975928692252,
          13.680974319783642,
          12.22887496390804,
          15.862362395833156,
          14.188898876104474,
          15.018407075494991,
          12.948944225299863,
          14.764916741760771,
          12.265233452406,
          14.177533914667926,
          12.378460471546267,
          12.871909126092456
         ],
         "yaxis": "y"
        },
        {
         "line": {
          "color": "rgb(255, 127, 14)",
          "width": 2
         },
         "marker": {
          "color": "rgb(255, 127, 14)",
          "size": 5
         },
         "mode": "lines+markers",
         "name": "ExtraTreesRegressor",
         "type": "scattergl",
         "x": [
          "2009-07-01T00:00:00",
          "2010-01-01T00:00:00",
          "2010-07-01T00:00:00",
          "2011-01-01T00:00:00",
          "2011-07-01T00:00:00",
          "2012-01-01T00:00:00",
          "2012-07-01T00:00:00",
          "2013-01-01T00:00:00",
          "2013-07-01T00:00:00",
          "2014-01-01T00:00:00",
          "2014-07-01T00:00:00",
          "2015-01-01T00:00:00",
          "2015-07-01T00:00:00",
          "2016-01-01T00:00:00",
          "2016-07-01T00:00:00",
          "2017-01-01T00:00:00",
          "2017-07-01T00:00:00",
          "2018-01-01T00:00:00",
          "2018-07-01T00:00:00",
          "2019-01-01T00:00:00",
          "2019-07-01T00:00:00",
          "2020-01-01T00:00:00",
          "2020-07-01T00:00:00",
          "2021-01-01T00:00:00",
          "2021-07-01T00:00:00",
          "2022-01-01T00:00:00",
          "2022-07-01T00:00:00",
          "2023-01-01T00:00:00",
          "2023-07-01T00:00:00",
          "2024-01-01T00:00:00",
          "2024-07-01T00:00:00"
         ],
         "xaxis": "x",
         "y": [
          null,
          null,
          null,
          null,
          null,
          null,
          null,
          null,
          null,
          null,
          null,
          null,
          null,
          null,
          null,
          null,
          null,
          null,
          null,
          null,
          null,
          null,
          null,
          null,
          null,
          12.2517,
          13.778,
          11.1408,
          13.3271,
          11.2102,
          12.9196
         ],
         "yaxis": "y"
        }
       ],
       "layout": {
        "showlegend": true,
        "template": {
         "data": {
          "bar": [
           {
            "error_x": {
             "color": "rgb(51,51,51)"
            },
            "error_y": {
             "color": "rgb(51,51,51)"
            },
            "marker": {
             "line": {
              "color": "rgb(237,237,237)",
              "width": 0.5
             },
             "pattern": {
              "fillmode": "overlay",
              "size": 10,
              "solidity": 0.2
             }
            },
            "type": "bar"
           }
          ],
          "barpolar": [
           {
            "marker": {
             "line": {
              "color": "rgb(237,237,237)",
              "width": 0.5
             },
             "pattern": {
              "fillmode": "overlay",
              "size": 10,
              "solidity": 0.2
             }
            },
            "type": "barpolar"
           }
          ],
          "carpet": [
           {
            "aaxis": {
             "endlinecolor": "rgb(51,51,51)",
             "gridcolor": "white",
             "linecolor": "white",
             "minorgridcolor": "white",
             "startlinecolor": "rgb(51,51,51)"
            },
            "baxis": {
             "endlinecolor": "rgb(51,51,51)",
             "gridcolor": "white",
             "linecolor": "white",
             "minorgridcolor": "white",
             "startlinecolor": "rgb(51,51,51)"
            },
            "type": "carpet"
           }
          ],
          "choropleth": [
           {
            "colorbar": {
             "outlinewidth": 0,
             "tickcolor": "rgb(237,237,237)",
             "ticklen": 6,
             "ticks": "inside"
            },
            "type": "choropleth"
           }
          ],
          "contour": [
           {
            "colorbar": {
             "outlinewidth": 0,
             "tickcolor": "rgb(237,237,237)",
             "ticklen": 6,
             "ticks": "inside"
            },
            "colorscale": [
             [
              0,
              "rgb(20,44,66)"
             ],
             [
              1,
              "rgb(90,179,244)"
             ]
            ],
            "type": "contour"
           }
          ],
          "contourcarpet": [
           {
            "colorbar": {
             "outlinewidth": 0,
             "tickcolor": "rgb(237,237,237)",
             "ticklen": 6,
             "ticks": "inside"
            },
            "type": "contourcarpet"
           }
          ],
          "heatmap": [
           {
            "colorbar": {
             "outlinewidth": 0,
             "tickcolor": "rgb(237,237,237)",
             "ticklen": 6,
             "ticks": "inside"
            },
            "colorscale": [
             [
              0,
              "rgb(20,44,66)"
             ],
             [
              1,
              "rgb(90,179,244)"
             ]
            ],
            "type": "heatmap"
           }
          ],
          "heatmapgl": [
           {
            "colorbar": {
             "outlinewidth": 0,
             "tickcolor": "rgb(237,237,237)",
             "ticklen": 6,
             "ticks": "inside"
            },
            "colorscale": [
             [
              0,
              "rgb(20,44,66)"
             ],
             [
              1,
              "rgb(90,179,244)"
             ]
            ],
            "type": "heatmapgl"
           }
          ],
          "histogram": [
           {
            "marker": {
             "pattern": {
              "fillmode": "overlay",
              "size": 10,
              "solidity": 0.2
             }
            },
            "type": "histogram"
           }
          ],
          "histogram2d": [
           {
            "colorbar": {
             "outlinewidth": 0,
             "tickcolor": "rgb(237,237,237)",
             "ticklen": 6,
             "ticks": "inside"
            },
            "colorscale": [
             [
              0,
              "rgb(20,44,66)"
             ],
             [
              1,
              "rgb(90,179,244)"
             ]
            ],
            "type": "histogram2d"
           }
          ],
          "histogram2dcontour": [
           {
            "colorbar": {
             "outlinewidth": 0,
             "tickcolor": "rgb(237,237,237)",
             "ticklen": 6,
             "ticks": "inside"
            },
            "colorscale": [
             [
              0,
              "rgb(20,44,66)"
             ],
             [
              1,
              "rgb(90,179,244)"
             ]
            ],
            "type": "histogram2dcontour"
           }
          ],
          "mesh3d": [
           {
            "colorbar": {
             "outlinewidth": 0,
             "tickcolor": "rgb(237,237,237)",
             "ticklen": 6,
             "ticks": "inside"
            },
            "type": "mesh3d"
           }
          ],
          "parcoords": [
           {
            "line": {
             "colorbar": {
              "outlinewidth": 0,
              "tickcolor": "rgb(237,237,237)",
              "ticklen": 6,
              "ticks": "inside"
             }
            },
            "type": "parcoords"
           }
          ],
          "pie": [
           {
            "automargin": true,
            "type": "pie"
           }
          ],
          "scatter": [
           {
            "fillpattern": {
             "fillmode": "overlay",
             "size": 10,
             "solidity": 0.2
            },
            "type": "scatter"
           }
          ],
          "scatter3d": [
           {
            "line": {
             "colorbar": {
              "outlinewidth": 0,
              "tickcolor": "rgb(237,237,237)",
              "ticklen": 6,
              "ticks": "inside"
             }
            },
            "marker": {
             "colorbar": {
              "outlinewidth": 0,
              "tickcolor": "rgb(237,237,237)",
              "ticklen": 6,
              "ticks": "inside"
             }
            },
            "type": "scatter3d"
           }
          ],
          "scattercarpet": [
           {
            "marker": {
             "colorbar": {
              "outlinewidth": 0,
              "tickcolor": "rgb(237,237,237)",
              "ticklen": 6,
              "ticks": "inside"
             }
            },
            "type": "scattercarpet"
           }
          ],
          "scattergeo": [
           {
            "marker": {
             "colorbar": {
              "outlinewidth": 0,
              "tickcolor": "rgb(237,237,237)",
              "ticklen": 6,
              "ticks": "inside"
             }
            },
            "type": "scattergeo"
           }
          ],
          "scattergl": [
           {
            "marker": {
             "colorbar": {
              "outlinewidth": 0,
              "tickcolor": "rgb(237,237,237)",
              "ticklen": 6,
              "ticks": "inside"
             }
            },
            "type": "scattergl"
           }
          ],
          "scattermapbox": [
           {
            "marker": {
             "colorbar": {
              "outlinewidth": 0,
              "tickcolor": "rgb(237,237,237)",
              "ticklen": 6,
              "ticks": "inside"
             }
            },
            "type": "scattermapbox"
           }
          ],
          "scatterpolar": [
           {
            "marker": {
             "colorbar": {
              "outlinewidth": 0,
              "tickcolor": "rgb(237,237,237)",
              "ticklen": 6,
              "ticks": "inside"
             }
            },
            "type": "scatterpolar"
           }
          ],
          "scatterpolargl": [
           {
            "marker": {
             "colorbar": {
              "outlinewidth": 0,
              "tickcolor": "rgb(237,237,237)",
              "ticklen": 6,
              "ticks": "inside"
             }
            },
            "type": "scatterpolargl"
           }
          ],
          "scatterternary": [
           {
            "marker": {
             "colorbar": {
              "outlinewidth": 0,
              "tickcolor": "rgb(237,237,237)",
              "ticklen": 6,
              "ticks": "inside"
             }
            },
            "type": "scatterternary"
           }
          ],
          "surface": [
           {
            "colorbar": {
             "outlinewidth": 0,
             "tickcolor": "rgb(237,237,237)",
             "ticklen": 6,
             "ticks": "inside"
            },
            "colorscale": [
             [
              0,
              "rgb(20,44,66)"
             ],
             [
              1,
              "rgb(90,179,244)"
             ]
            ],
            "type": "surface"
           }
          ],
          "table": [
           {
            "cells": {
             "fill": {
              "color": "rgb(237,237,237)"
             },
             "line": {
              "color": "white"
             }
            },
            "header": {
             "fill": {
              "color": "rgb(217,217,217)"
             },
             "line": {
              "color": "white"
             }
            },
            "type": "table"
           }
          ]
         },
         "layout": {
          "annotationdefaults": {
           "arrowhead": 0,
           "arrowwidth": 1
          },
          "autotypenumbers": "strict",
          "coloraxis": {
           "colorbar": {
            "outlinewidth": 0,
            "tickcolor": "rgb(237,237,237)",
            "ticklen": 6,
            "ticks": "inside"
           }
          },
          "colorscale": {
           "sequential": [
            [
             0,
             "rgb(20,44,66)"
            ],
            [
             1,
             "rgb(90,179,244)"
            ]
           ],
           "sequentialminus": [
            [
             0,
             "rgb(20,44,66)"
            ],
            [
             1,
             "rgb(90,179,244)"
            ]
           ]
          },
          "colorway": [
           "#F8766D",
           "#A3A500",
           "#00BF7D",
           "#00B0F6",
           "#E76BF3"
          ],
          "font": {
           "color": "rgb(51,51,51)"
          },
          "geo": {
           "bgcolor": "white",
           "lakecolor": "white",
           "landcolor": "rgb(237,237,237)",
           "showlakes": true,
           "showland": true,
           "subunitcolor": "white"
          },
          "hoverlabel": {
           "align": "left"
          },
          "hovermode": "closest",
          "paper_bgcolor": "white",
          "plot_bgcolor": "rgb(237,237,237)",
          "polar": {
           "angularaxis": {
            "gridcolor": "white",
            "linecolor": "white",
            "showgrid": true,
            "tickcolor": "rgb(51,51,51)",
            "ticks": "outside"
           },
           "bgcolor": "rgb(237,237,237)",
           "radialaxis": {
            "gridcolor": "white",
            "linecolor": "white",
            "showgrid": true,
            "tickcolor": "rgb(51,51,51)",
            "ticks": "outside"
           }
          },
          "scene": {
           "xaxis": {
            "backgroundcolor": "rgb(237,237,237)",
            "gridcolor": "white",
            "gridwidth": 2,
            "linecolor": "white",
            "showbackground": true,
            "showgrid": true,
            "tickcolor": "rgb(51,51,51)",
            "ticks": "outside",
            "zerolinecolor": "white"
           },
           "yaxis": {
            "backgroundcolor": "rgb(237,237,237)",
            "gridcolor": "white",
            "gridwidth": 2,
            "linecolor": "white",
            "showbackground": true,
            "showgrid": true,
            "tickcolor": "rgb(51,51,51)",
            "ticks": "outside",
            "zerolinecolor": "white"
           },
           "zaxis": {
            "backgroundcolor": "rgb(237,237,237)",
            "gridcolor": "white",
            "gridwidth": 2,
            "linecolor": "white",
            "showbackground": true,
            "showgrid": true,
            "tickcolor": "rgb(51,51,51)",
            "ticks": "outside",
            "zerolinecolor": "white"
           }
          },
          "shapedefaults": {
           "fillcolor": "black",
           "line": {
            "width": 0
           },
           "opacity": 0.3
          },
          "ternary": {
           "aaxis": {
            "gridcolor": "white",
            "linecolor": "white",
            "showgrid": true,
            "tickcolor": "rgb(51,51,51)",
            "ticks": "outside"
           },
           "baxis": {
            "gridcolor": "white",
            "linecolor": "white",
            "showgrid": true,
            "tickcolor": "rgb(51,51,51)",
            "ticks": "outside"
           },
           "bgcolor": "rgb(237,237,237)",
           "caxis": {
            "gridcolor": "white",
            "linecolor": "white",
            "showgrid": true,
            "tickcolor": "rgb(51,51,51)",
            "ticks": "outside"
           }
          },
          "xaxis": {
           "automargin": true,
           "gridcolor": "white",
           "linecolor": "white",
           "showgrid": true,
           "tickcolor": "rgb(51,51,51)",
           "ticks": "outside",
           "title": {
            "standoff": 15
           },
           "zerolinecolor": "white"
          },
          "yaxis": {
           "automargin": true,
           "gridcolor": "white",
           "linecolor": "white",
           "showgrid": true,
           "tickcolor": "rgb(51,51,51)",
           "ticks": "outside",
           "title": {
            "standoff": 15
           },
           "zerolinecolor": "white"
          }
         }
        },
        "title": {
         "text": "Actual vs. Forecast (Out-of-Sample)"
        },
        "xaxis": {
         "anchor": "y",
         "domain": [
          0,
          1
         ]
        },
        "yaxis": {
         "anchor": "x",
         "domain": [
          0,
          1
         ]
        }
       }
      }
     },
     "metadata": {},
     "output_type": "display_data"
    }
   ],
   "source": [
    "exp.plot_model(estimator=tuned_et_cds_dt)"
   ]
  },
  {
   "cell_type": "code",
   "execution_count": 404,
   "metadata": {},
   "outputs": [
    {
     "name": "stdout",
     "output_type": "stream",
     "text": [
      "{'degree': 1, 'deseasonal_model': 'additive', 'fe_target_rr': [WindowSummarizer(lag_feature={'lag': [2, 1]}, n_jobs=1)], 'regressor': ExtraTreesRegressor(n_jobs=-1, random_state=123), 'sp': 2, 'window_length': 2, 'regressor__bootstrap': False, 'regressor__ccp_alpha': 0.0, 'regressor__criterion': 'squared_error', 'regressor__max_depth': None, 'regressor__max_features': 1.0, 'regressor__max_leaf_nodes': None, 'regressor__max_samples': None, 'regressor__min_impurity_decrease': 0.0, 'regressor__min_samples_leaf': 1, 'regressor__min_samples_split': 2, 'regressor__min_weight_fraction_leaf': 0.0, 'regressor__monotonic_cst': None, 'regressor__n_estimators': 100, 'regressor__n_jobs': -1, 'regressor__oob_score': False, 'regressor__random_state': 123, 'regressor__verbose': 0, 'regressor__warm_start': False}\n",
      "{'degree': 1, 'deseasonal_model': 'additive', 'fe_target_rr': [WindowSummarizer(lag_feature={'lag': [2, 1]}, n_jobs=1)], 'regressor': ExtraTreesRegressor(n_jobs=-1, random_state=123), 'sp': 2, 'window_length': 2, 'regressor__bootstrap': False, 'regressor__ccp_alpha': 0.0, 'regressor__criterion': 'squared_error', 'regressor__max_depth': None, 'regressor__max_features': 1.0, 'regressor__max_leaf_nodes': None, 'regressor__max_samples': None, 'regressor__min_impurity_decrease': 0.0, 'regressor__min_samples_leaf': 1, 'regressor__min_samples_split': 2, 'regressor__min_weight_fraction_leaf': 0.0, 'regressor__monotonic_cst': None, 'regressor__n_estimators': 100, 'regressor__n_jobs': -1, 'regressor__oob_score': False, 'regressor__random_state': 123, 'regressor__verbose': 0, 'regressor__warm_start': False}\n"
     ]
    }
   ],
   "source": [
    "print(et_cds_dt.get_params())\n",
    "print(tuned_et_cds_dt.get_params())"
   ]
  },
  {
   "cell_type": "code",
   "execution_count": 405,
   "metadata": {},
   "outputs": [
    {
     "data": {
      "application/vnd.plotly.v1+json": {
       "config": {
        "plotlyServerURL": "https://plot.ly"
       },
       "data": [
        {
         "line": {
          "color": "rgb(31, 119, 180)",
          "width": 2
         },
         "marker": {
          "color": "rgb(31, 119, 180)",
          "size": 5
         },
         "mode": "lines+markers",
         "name": "Unemployment_Rate",
         "type": "scattergl",
         "x": [
          "2009-07-01T00:00:00",
          "2010-01-01T00:00:00",
          "2010-07-01T00:00:00",
          "2011-01-01T00:00:00",
          "2011-07-01T00:00:00",
          "2012-01-01T00:00:00",
          "2012-07-01T00:00:00",
          "2013-01-01T00:00:00",
          "2013-07-01T00:00:00",
          "2014-01-01T00:00:00",
          "2014-07-01T00:00:00",
          "2015-01-01T00:00:00",
          "2015-07-01T00:00:00",
          "2016-01-01T00:00:00",
          "2016-07-01T00:00:00",
          "2017-01-01T00:00:00",
          "2017-07-01T00:00:00",
          "2018-01-01T00:00:00",
          "2018-07-01T00:00:00",
          "2019-01-01T00:00:00",
          "2019-07-01T00:00:00",
          "2020-01-01T00:00:00",
          "2020-07-01T00:00:00",
          "2021-01-01T00:00:00",
          "2021-07-01T00:00:00",
          "2022-01-01T00:00:00",
          "2022-07-01T00:00:00",
          "2023-01-01T00:00:00",
          "2023-07-01T00:00:00",
          "2024-01-01T00:00:00",
          "2024-07-01T00:00:00"
         ],
         "xaxis": "x",
         "y": [
          17.14238687901972,
          15.775726707916432,
          15.989462347425771,
          16.851591124698285,
          16.717763415603496,
          14.310062356756935,
          14.5723059746109,
          13.3476811958149,
          15.849200216451232,
          12.565402640695696,
          16.084781044581263,
          14.11539724268468,
          16.397679501557164,
          13.548613123951707,
          14.186108713893296,
          11.812189996775132,
          14.866057832702904,
          12.5799081053059,
          14.163591538115917,
          12.020975928692252,
          13.680974319783642,
          12.22887496390804,
          15.862362395833156,
          14.188898876104474,
          15.018407075494991,
          12.948944225299863,
          14.764916741760771,
          12.265233452406,
          14.177533914667926,
          12.378460471546267,
          12.871909126092456
         ],
         "yaxis": "y"
        },
        {
         "line": {
          "color": "rgb(255, 127, 14)",
          "width": 2
         },
         "marker": {
          "color": "rgb(255, 127, 14)",
          "size": 5
         },
         "mode": "lines+markers",
         "name": "Baseline",
         "type": "scattergl",
         "x": [
          "2009-07-01T00:00:00",
          "2010-01-01T00:00:00",
          "2010-07-01T00:00:00",
          "2011-01-01T00:00:00",
          "2011-07-01T00:00:00",
          "2012-01-01T00:00:00",
          "2012-07-01T00:00:00",
          "2013-01-01T00:00:00",
          "2013-07-01T00:00:00",
          "2014-01-01T00:00:00",
          "2014-07-01T00:00:00",
          "2015-01-01T00:00:00",
          "2015-07-01T00:00:00",
          "2016-01-01T00:00:00",
          "2016-07-01T00:00:00",
          "2017-01-01T00:00:00",
          "2017-07-01T00:00:00",
          "2018-01-01T00:00:00",
          "2018-07-01T00:00:00",
          "2019-01-01T00:00:00",
          "2019-07-01T00:00:00",
          "2020-01-01T00:00:00",
          "2020-07-01T00:00:00",
          "2021-01-01T00:00:00",
          "2021-07-01T00:00:00",
          "2022-01-01T00:00:00",
          "2022-07-01T00:00:00",
          "2023-01-01T00:00:00",
          "2023-07-01T00:00:00",
          "2024-01-01T00:00:00",
          "2024-07-01T00:00:00"
         ],
         "xaxis": "x",
         "y": [
          null,
          null,
          null,
          null,
          null,
          null,
          null,
          null,
          null,
          null,
          null,
          null,
          null,
          null,
          null,
          null,
          null,
          null,
          null,
          null,
          null,
          null,
          null,
          null,
          null,
          12.2517,
          13.778,
          11.1408,
          13.3271,
          11.2102,
          12.9196
         ],
         "yaxis": "y"
        },
        {
         "line": {
          "color": "rgb(44, 160, 44)",
          "width": 2
         },
         "marker": {
          "color": "rgb(44, 160, 44)",
          "size": 5
         },
         "mode": "lines+markers",
         "name": "Tuned",
         "type": "scattergl",
         "x": [
          "2009-07-01T00:00:00",
          "2010-01-01T00:00:00",
          "2010-07-01T00:00:00",
          "2011-01-01T00:00:00",
          "2011-07-01T00:00:00",
          "2012-01-01T00:00:00",
          "2012-07-01T00:00:00",
          "2013-01-01T00:00:00",
          "2013-07-01T00:00:00",
          "2014-01-01T00:00:00",
          "2014-07-01T00:00:00",
          "2015-01-01T00:00:00",
          "2015-07-01T00:00:00",
          "2016-01-01T00:00:00",
          "2016-07-01T00:00:00",
          "2017-01-01T00:00:00",
          "2017-07-01T00:00:00",
          "2018-01-01T00:00:00",
          "2018-07-01T00:00:00",
          "2019-01-01T00:00:00",
          "2019-07-01T00:00:00",
          "2020-01-01T00:00:00",
          "2020-07-01T00:00:00",
          "2021-01-01T00:00:00",
          "2021-07-01T00:00:00",
          "2022-01-01T00:00:00",
          "2022-07-01T00:00:00",
          "2023-01-01T00:00:00",
          "2023-07-01T00:00:00",
          "2024-01-01T00:00:00",
          "2024-07-01T00:00:00"
         ],
         "xaxis": "x",
         "y": [
          null,
          null,
          null,
          null,
          null,
          null,
          null,
          null,
          null,
          null,
          null,
          null,
          null,
          null,
          null,
          null,
          null,
          null,
          null,
          null,
          null,
          null,
          null,
          null,
          null,
          12.2517,
          13.778,
          11.1408,
          13.3271,
          11.2102,
          12.9196
         ],
         "yaxis": "y"
        }
       ],
       "layout": {
        "showlegend": true,
        "template": {
         "data": {
          "bar": [
           {
            "error_x": {
             "color": "rgb(51,51,51)"
            },
            "error_y": {
             "color": "rgb(51,51,51)"
            },
            "marker": {
             "line": {
              "color": "rgb(237,237,237)",
              "width": 0.5
             },
             "pattern": {
              "fillmode": "overlay",
              "size": 10,
              "solidity": 0.2
             }
            },
            "type": "bar"
           }
          ],
          "barpolar": [
           {
            "marker": {
             "line": {
              "color": "rgb(237,237,237)",
              "width": 0.5
             },
             "pattern": {
              "fillmode": "overlay",
              "size": 10,
              "solidity": 0.2
             }
            },
            "type": "barpolar"
           }
          ],
          "carpet": [
           {
            "aaxis": {
             "endlinecolor": "rgb(51,51,51)",
             "gridcolor": "white",
             "linecolor": "white",
             "minorgridcolor": "white",
             "startlinecolor": "rgb(51,51,51)"
            },
            "baxis": {
             "endlinecolor": "rgb(51,51,51)",
             "gridcolor": "white",
             "linecolor": "white",
             "minorgridcolor": "white",
             "startlinecolor": "rgb(51,51,51)"
            },
            "type": "carpet"
           }
          ],
          "choropleth": [
           {
            "colorbar": {
             "outlinewidth": 0,
             "tickcolor": "rgb(237,237,237)",
             "ticklen": 6,
             "ticks": "inside"
            },
            "type": "choropleth"
           }
          ],
          "contour": [
           {
            "colorbar": {
             "outlinewidth": 0,
             "tickcolor": "rgb(237,237,237)",
             "ticklen": 6,
             "ticks": "inside"
            },
            "colorscale": [
             [
              0,
              "rgb(20,44,66)"
             ],
             [
              1,
              "rgb(90,179,244)"
             ]
            ],
            "type": "contour"
           }
          ],
          "contourcarpet": [
           {
            "colorbar": {
             "outlinewidth": 0,
             "tickcolor": "rgb(237,237,237)",
             "ticklen": 6,
             "ticks": "inside"
            },
            "type": "contourcarpet"
           }
          ],
          "heatmap": [
           {
            "colorbar": {
             "outlinewidth": 0,
             "tickcolor": "rgb(237,237,237)",
             "ticklen": 6,
             "ticks": "inside"
            },
            "colorscale": [
             [
              0,
              "rgb(20,44,66)"
             ],
             [
              1,
              "rgb(90,179,244)"
             ]
            ],
            "type": "heatmap"
           }
          ],
          "heatmapgl": [
           {
            "colorbar": {
             "outlinewidth": 0,
             "tickcolor": "rgb(237,237,237)",
             "ticklen": 6,
             "ticks": "inside"
            },
            "colorscale": [
             [
              0,
              "rgb(20,44,66)"
             ],
             [
              1,
              "rgb(90,179,244)"
             ]
            ],
            "type": "heatmapgl"
           }
          ],
          "histogram": [
           {
            "marker": {
             "pattern": {
              "fillmode": "overlay",
              "size": 10,
              "solidity": 0.2
             }
            },
            "type": "histogram"
           }
          ],
          "histogram2d": [
           {
            "colorbar": {
             "outlinewidth": 0,
             "tickcolor": "rgb(237,237,237)",
             "ticklen": 6,
             "ticks": "inside"
            },
            "colorscale": [
             [
              0,
              "rgb(20,44,66)"
             ],
             [
              1,
              "rgb(90,179,244)"
             ]
            ],
            "type": "histogram2d"
           }
          ],
          "histogram2dcontour": [
           {
            "colorbar": {
             "outlinewidth": 0,
             "tickcolor": "rgb(237,237,237)",
             "ticklen": 6,
             "ticks": "inside"
            },
            "colorscale": [
             [
              0,
              "rgb(20,44,66)"
             ],
             [
              1,
              "rgb(90,179,244)"
             ]
            ],
            "type": "histogram2dcontour"
           }
          ],
          "mesh3d": [
           {
            "colorbar": {
             "outlinewidth": 0,
             "tickcolor": "rgb(237,237,237)",
             "ticklen": 6,
             "ticks": "inside"
            },
            "type": "mesh3d"
           }
          ],
          "parcoords": [
           {
            "line": {
             "colorbar": {
              "outlinewidth": 0,
              "tickcolor": "rgb(237,237,237)",
              "ticklen": 6,
              "ticks": "inside"
             }
            },
            "type": "parcoords"
           }
          ],
          "pie": [
           {
            "automargin": true,
            "type": "pie"
           }
          ],
          "scatter": [
           {
            "fillpattern": {
             "fillmode": "overlay",
             "size": 10,
             "solidity": 0.2
            },
            "type": "scatter"
           }
          ],
          "scatter3d": [
           {
            "line": {
             "colorbar": {
              "outlinewidth": 0,
              "tickcolor": "rgb(237,237,237)",
              "ticklen": 6,
              "ticks": "inside"
             }
            },
            "marker": {
             "colorbar": {
              "outlinewidth": 0,
              "tickcolor": "rgb(237,237,237)",
              "ticklen": 6,
              "ticks": "inside"
             }
            },
            "type": "scatter3d"
           }
          ],
          "scattercarpet": [
           {
            "marker": {
             "colorbar": {
              "outlinewidth": 0,
              "tickcolor": "rgb(237,237,237)",
              "ticklen": 6,
              "ticks": "inside"
             }
            },
            "type": "scattercarpet"
           }
          ],
          "scattergeo": [
           {
            "marker": {
             "colorbar": {
              "outlinewidth": 0,
              "tickcolor": "rgb(237,237,237)",
              "ticklen": 6,
              "ticks": "inside"
             }
            },
            "type": "scattergeo"
           }
          ],
          "scattergl": [
           {
            "marker": {
             "colorbar": {
              "outlinewidth": 0,
              "tickcolor": "rgb(237,237,237)",
              "ticklen": 6,
              "ticks": "inside"
             }
            },
            "type": "scattergl"
           }
          ],
          "scattermapbox": [
           {
            "marker": {
             "colorbar": {
              "outlinewidth": 0,
              "tickcolor": "rgb(237,237,237)",
              "ticklen": 6,
              "ticks": "inside"
             }
            },
            "type": "scattermapbox"
           }
          ],
          "scatterpolar": [
           {
            "marker": {
             "colorbar": {
              "outlinewidth": 0,
              "tickcolor": "rgb(237,237,237)",
              "ticklen": 6,
              "ticks": "inside"
             }
            },
            "type": "scatterpolar"
           }
          ],
          "scatterpolargl": [
           {
            "marker": {
             "colorbar": {
              "outlinewidth": 0,
              "tickcolor": "rgb(237,237,237)",
              "ticklen": 6,
              "ticks": "inside"
             }
            },
            "type": "scatterpolargl"
           }
          ],
          "scatterternary": [
           {
            "marker": {
             "colorbar": {
              "outlinewidth": 0,
              "tickcolor": "rgb(237,237,237)",
              "ticklen": 6,
              "ticks": "inside"
             }
            },
            "type": "scatterternary"
           }
          ],
          "surface": [
           {
            "colorbar": {
             "outlinewidth": 0,
             "tickcolor": "rgb(237,237,237)",
             "ticklen": 6,
             "ticks": "inside"
            },
            "colorscale": [
             [
              0,
              "rgb(20,44,66)"
             ],
             [
              1,
              "rgb(90,179,244)"
             ]
            ],
            "type": "surface"
           }
          ],
          "table": [
           {
            "cells": {
             "fill": {
              "color": "rgb(237,237,237)"
             },
             "line": {
              "color": "white"
             }
            },
            "header": {
             "fill": {
              "color": "rgb(217,217,217)"
             },
             "line": {
              "color": "white"
             }
            },
            "type": "table"
           }
          ]
         },
         "layout": {
          "annotationdefaults": {
           "arrowhead": 0,
           "arrowwidth": 1
          },
          "autotypenumbers": "strict",
          "coloraxis": {
           "colorbar": {
            "outlinewidth": 0,
            "tickcolor": "rgb(237,237,237)",
            "ticklen": 6,
            "ticks": "inside"
           }
          },
          "colorscale": {
           "sequential": [
            [
             0,
             "rgb(20,44,66)"
            ],
            [
             1,
             "rgb(90,179,244)"
            ]
           ],
           "sequentialminus": [
            [
             0,
             "rgb(20,44,66)"
            ],
            [
             1,
             "rgb(90,179,244)"
            ]
           ]
          },
          "colorway": [
           "#F8766D",
           "#A3A500",
           "#00BF7D",
           "#00B0F6",
           "#E76BF3"
          ],
          "font": {
           "color": "rgb(51,51,51)"
          },
          "geo": {
           "bgcolor": "white",
           "lakecolor": "white",
           "landcolor": "rgb(237,237,237)",
           "showlakes": true,
           "showland": true,
           "subunitcolor": "white"
          },
          "hoverlabel": {
           "align": "left"
          },
          "hovermode": "closest",
          "paper_bgcolor": "white",
          "plot_bgcolor": "rgb(237,237,237)",
          "polar": {
           "angularaxis": {
            "gridcolor": "white",
            "linecolor": "white",
            "showgrid": true,
            "tickcolor": "rgb(51,51,51)",
            "ticks": "outside"
           },
           "bgcolor": "rgb(237,237,237)",
           "radialaxis": {
            "gridcolor": "white",
            "linecolor": "white",
            "showgrid": true,
            "tickcolor": "rgb(51,51,51)",
            "ticks": "outside"
           }
          },
          "scene": {
           "xaxis": {
            "backgroundcolor": "rgb(237,237,237)",
            "gridcolor": "white",
            "gridwidth": 2,
            "linecolor": "white",
            "showbackground": true,
            "showgrid": true,
            "tickcolor": "rgb(51,51,51)",
            "ticks": "outside",
            "zerolinecolor": "white"
           },
           "yaxis": {
            "backgroundcolor": "rgb(237,237,237)",
            "gridcolor": "white",
            "gridwidth": 2,
            "linecolor": "white",
            "showbackground": true,
            "showgrid": true,
            "tickcolor": "rgb(51,51,51)",
            "ticks": "outside",
            "zerolinecolor": "white"
           },
           "zaxis": {
            "backgroundcolor": "rgb(237,237,237)",
            "gridcolor": "white",
            "gridwidth": 2,
            "linecolor": "white",
            "showbackground": true,
            "showgrid": true,
            "tickcolor": "rgb(51,51,51)",
            "ticks": "outside",
            "zerolinecolor": "white"
           }
          },
          "shapedefaults": {
           "fillcolor": "black",
           "line": {
            "width": 0
           },
           "opacity": 0.3
          },
          "ternary": {
           "aaxis": {
            "gridcolor": "white",
            "linecolor": "white",
            "showgrid": true,
            "tickcolor": "rgb(51,51,51)",
            "ticks": "outside"
           },
           "baxis": {
            "gridcolor": "white",
            "linecolor": "white",
            "showgrid": true,
            "tickcolor": "rgb(51,51,51)",
            "ticks": "outside"
           },
           "bgcolor": "rgb(237,237,237)",
           "caxis": {
            "gridcolor": "white",
            "linecolor": "white",
            "showgrid": true,
            "tickcolor": "rgb(51,51,51)",
            "ticks": "outside"
           }
          },
          "xaxis": {
           "automargin": true,
           "gridcolor": "white",
           "linecolor": "white",
           "showgrid": true,
           "tickcolor": "rgb(51,51,51)",
           "ticks": "outside",
           "title": {
            "standoff": 15
           },
           "zerolinecolor": "white"
          },
          "yaxis": {
           "automargin": true,
           "gridcolor": "white",
           "linecolor": "white",
           "showgrid": true,
           "tickcolor": "rgb(51,51,51)",
           "ticks": "outside",
           "title": {
            "standoff": 15
           },
           "zerolinecolor": "white"
          }
         }
        },
        "title": {
         "text": "Actual vs. Forecast (Out-of-Sample)"
        },
        "xaxis": {
         "anchor": "y",
         "domain": [
          0,
          1
         ]
        },
        "yaxis": {
         "anchor": "x",
         "domain": [
          0,
          1
         ]
        }
       }
      }
     },
     "metadata": {},
     "output_type": "display_data"
    }
   ],
   "source": [
    "exp.plot_model([et_cds_dt, tuned_et_cds_dt], data_kwargs={\"labels\": [\"Baseline\", \"Tuned\"]})"
   ]
  },
  {
   "cell_type": "code",
   "execution_count": 406,
   "metadata": {},
   "outputs": [
    {
     "data": {
      "text/html": [],
      "text/plain": [
       "<IPython.core.display.HTML object>"
      ]
     },
     "metadata": {},
     "output_type": "display_data"
    },
    {
     "data": {
      "text/html": [
       "<style type=\"text/css\">\n",
       "#T_d9b07_row3_col0, #T_d9b07_row3_col1, #T_d9b07_row3_col2, #T_d9b07_row3_col3, #T_d9b07_row3_col4, #T_d9b07_row3_col5, #T_d9b07_row3_col6, #T_d9b07_row3_col7 {\n",
       "  background: yellow;\n",
       "}\n",
       "</style>\n",
       "<table id=\"T_d9b07\">\n",
       "  <thead>\n",
       "    <tr>\n",
       "      <th class=\"blank level0\" >&nbsp;</th>\n",
       "      <th id=\"T_d9b07_level0_col0\" class=\"col_heading level0 col0\" >cutoff</th>\n",
       "      <th id=\"T_d9b07_level0_col1\" class=\"col_heading level0 col1\" >MASE</th>\n",
       "      <th id=\"T_d9b07_level0_col2\" class=\"col_heading level0 col2\" >RMSSE</th>\n",
       "      <th id=\"T_d9b07_level0_col3\" class=\"col_heading level0 col3\" >MAE</th>\n",
       "      <th id=\"T_d9b07_level0_col4\" class=\"col_heading level0 col4\" >RMSE</th>\n",
       "      <th id=\"T_d9b07_level0_col5\" class=\"col_heading level0 col5\" >MAPE</th>\n",
       "      <th id=\"T_d9b07_level0_col6\" class=\"col_heading level0 col6\" >SMAPE</th>\n",
       "      <th id=\"T_d9b07_level0_col7\" class=\"col_heading level0 col7\" >R2</th>\n",
       "    </tr>\n",
       "  </thead>\n",
       "  <tbody>\n",
       "    <tr>\n",
       "      <th id=\"T_d9b07_level0_row0\" class=\"row_heading level0 row0\" >0</th>\n",
       "      <td id=\"T_d9b07_row0_col0\" class=\"data row0 col0\" >2012Q3</td>\n",
       "      <td id=\"T_d9b07_row0_col1\" class=\"data row0 col1\" >1.0984</td>\n",
       "      <td id=\"T_d9b07_row0_col2\" class=\"data row0 col2\" >1.2136</td>\n",
       "      <td id=\"T_d9b07_row0_col3\" class=\"data row0 col3\" >1.6792</td>\n",
       "      <td id=\"T_d9b07_row0_col4\" class=\"data row0 col4\" >2.0366</td>\n",
       "      <td id=\"T_d9b07_row0_col5\" class=\"data row0 col5\" >0.1105</td>\n",
       "      <td id=\"T_d9b07_row0_col6\" class=\"data row0 col6\" >0.1149</td>\n",
       "      <td id=\"T_d9b07_row0_col7\" class=\"data row0 col7\" >-0.9377</td>\n",
       "    </tr>\n",
       "    <tr>\n",
       "      <th id=\"T_d9b07_level0_row1\" class=\"row_heading level0 row1\" >1</th>\n",
       "      <td id=\"T_d9b07_row1_col0\" class=\"data row1 col0\" >2015Q3</td>\n",
       "      <td id=\"T_d9b07_row1_col1\" class=\"data row1 col1\" >0.4493</td>\n",
       "      <td id=\"T_d9b07_row1_col2\" class=\"data row1 col2\" >0.5113</td>\n",
       "      <td id=\"T_d9b07_row1_col3\" class=\"data row1 col3\" >0.5214</td>\n",
       "      <td id=\"T_d9b07_row1_col4\" class=\"data row1 col4\" >0.6861</td>\n",
       "      <td id=\"T_d9b07_row1_col5\" class=\"data row1 col5\" >0.0409</td>\n",
       "      <td id=\"T_d9b07_row1_col6\" class=\"data row1 col6\" >0.0394</td>\n",
       "      <td id=\"T_d9b07_row1_col7\" class=\"data row1 col7\" >0.5635</td>\n",
       "    </tr>\n",
       "    <tr>\n",
       "      <th id=\"T_d9b07_level0_row2\" class=\"row_heading level0 row2\" >2</th>\n",
       "      <td id=\"T_d9b07_row2_col0\" class=\"data row2 col0\" >2018Q3</td>\n",
       "      <td id=\"T_d9b07_row2_col1\" class=\"data row2 col1\" >1.1039</td>\n",
       "      <td id=\"T_d9b07_row2_col2\" class=\"data row2 col2\" >1.2411</td>\n",
       "      <td id=\"T_d9b07_row2_col3\" class=\"data row2 col3\" >1.2616</td>\n",
       "      <td id=\"T_d9b07_row2_col4\" class=\"data row2 col4\" >1.6371</td>\n",
       "      <td id=\"T_d9b07_row2_col5\" class=\"data row2 col5\" >0.0859</td>\n",
       "      <td id=\"T_d9b07_row2_col6\" class=\"data row2 col6\" >0.0924</td>\n",
       "      <td id=\"T_d9b07_row2_col7\" class=\"data row2 col7\" >-0.3946</td>\n",
       "    </tr>\n",
       "    <tr>\n",
       "      <th id=\"T_d9b07_level0_row3\" class=\"row_heading level0 row3\" >Mean</th>\n",
       "      <td id=\"T_d9b07_row3_col0\" class=\"data row3 col0\" >NaT</td>\n",
       "      <td id=\"T_d9b07_row3_col1\" class=\"data row3 col1\" >0.8839</td>\n",
       "      <td id=\"T_d9b07_row3_col2\" class=\"data row3 col2\" >0.9887</td>\n",
       "      <td id=\"T_d9b07_row3_col3\" class=\"data row3 col3\" >1.1541</td>\n",
       "      <td id=\"T_d9b07_row3_col4\" class=\"data row3 col4\" >1.4532</td>\n",
       "      <td id=\"T_d9b07_row3_col5\" class=\"data row3 col5\" >0.0791</td>\n",
       "      <td id=\"T_d9b07_row3_col6\" class=\"data row3 col6\" >0.0822</td>\n",
       "      <td id=\"T_d9b07_row3_col7\" class=\"data row3 col7\" >-0.2562</td>\n",
       "    </tr>\n",
       "    <tr>\n",
       "      <th id=\"T_d9b07_level0_row4\" class=\"row_heading level0 row4\" >SD</th>\n",
       "      <td id=\"T_d9b07_row4_col0\" class=\"data row4 col0\" >NaT</td>\n",
       "      <td id=\"T_d9b07_row4_col1\" class=\"data row4 col1\" >0.3073</td>\n",
       "      <td id=\"T_d9b07_row4_col2\" class=\"data row4 col2\" >0.3377</td>\n",
       "      <td id=\"T_d9b07_row4_col3\" class=\"data row4 col3\" >0.4788</td>\n",
       "      <td id=\"T_d9b07_row4_col4\" class=\"data row4 col4\" >0.5664</td>\n",
       "      <td id=\"T_d9b07_row4_col5\" class=\"data row4 col5\" >0.0288</td>\n",
       "      <td id=\"T_d9b07_row4_col6\" class=\"data row4 col6\" >0.0316</td>\n",
       "      <td id=\"T_d9b07_row4_col7\" class=\"data row4 col7\" >0.6206</td>\n",
       "    </tr>\n",
       "  </tbody>\n",
       "</table>\n"
      ],
      "text/plain": [
       "<pandas.io.formats.style.Styler at 0x16c731250>"
      ]
     },
     "metadata": {},
     "output_type": "display_data"
    },
    {
     "data": {
      "text/html": [],
      "text/plain": [
       "<IPython.core.display.HTML object>"
      ]
     },
     "metadata": {},
     "output_type": "display_data"
    },
    {
     "data": {
      "text/html": [
       "<style type=\"text/css\">\n",
       "</style>\n",
       "<table id=\"T_12ca4\">\n",
       "  <thead>\n",
       "    <tr>\n",
       "      <th class=\"blank level0\" >&nbsp;</th>\n",
       "      <th id=\"T_12ca4_level0_col0\" class=\"col_heading level0 col0\" >Model</th>\n",
       "      <th id=\"T_12ca4_level0_col1\" class=\"col_heading level0 col1\" >MASE</th>\n",
       "      <th id=\"T_12ca4_level0_col2\" class=\"col_heading level0 col2\" >RMSSE</th>\n",
       "      <th id=\"T_12ca4_level0_col3\" class=\"col_heading level0 col3\" >MAE</th>\n",
       "      <th id=\"T_12ca4_level0_col4\" class=\"col_heading level0 col4\" >RMSE</th>\n",
       "      <th id=\"T_12ca4_level0_col5\" class=\"col_heading level0 col5\" >MAPE</th>\n",
       "      <th id=\"T_12ca4_level0_col6\" class=\"col_heading level0 col6\" >SMAPE</th>\n",
       "      <th id=\"T_12ca4_level0_col7\" class=\"col_heading level0 col7\" >R2</th>\n",
       "    </tr>\n",
       "  </thead>\n",
       "  <tbody>\n",
       "    <tr>\n",
       "      <th id=\"T_12ca4_level0_row0\" class=\"row_heading level0 row0\" >0</th>\n",
       "      <td id=\"T_12ca4_row0_col0\" class=\"data row0 col0\" >OrthogonalMatchingPursuit</td>\n",
       "      <td id=\"T_12ca4_row0_col1\" class=\"data row0 col1\" >0.5071</td>\n",
       "      <td id=\"T_12ca4_row0_col2\" class=\"data row0 col2\" >0.4498</td>\n",
       "      <td id=\"T_12ca4_row0_col3\" class=\"data row0 col3\" >0.5658</td>\n",
       "      <td id=\"T_12ca4_row0_col4\" class=\"data row0 col4\" >0.5893</td>\n",
       "      <td id=\"T_12ca4_row0_col5\" class=\"data row0 col5\" >0.0424</td>\n",
       "      <td id=\"T_12ca4_row0_col6\" class=\"data row0 col6\" >0.0431</td>\n",
       "      <td id=\"T_12ca4_row0_col7\" class=\"data row0 col7\" >0.5928</td>\n",
       "    </tr>\n",
       "  </tbody>\n",
       "</table>\n"
      ],
      "text/plain": [
       "<pandas.io.formats.style.Styler at 0x16d209220>"
      ]
     },
     "metadata": {},
     "output_type": "display_data"
    },
    {
     "data": {
      "application/vnd.plotly.v1+json": {
       "config": {
        "plotlyServerURL": "https://plot.ly"
       },
       "data": [
        {
         "line": {
          "color": "rgb(31, 119, 180)",
          "width": 2
         },
         "marker": {
          "color": "rgb(31, 119, 180)",
          "size": 5
         },
         "mode": "lines+markers",
         "name": "Unemployment_Rate",
         "type": "scattergl",
         "x": [
          "2009-07-01T00:00:00",
          "2010-01-01T00:00:00",
          "2010-07-01T00:00:00",
          "2011-01-01T00:00:00",
          "2011-07-01T00:00:00",
          "2012-01-01T00:00:00",
          "2012-07-01T00:00:00",
          "2013-01-01T00:00:00",
          "2013-07-01T00:00:00",
          "2014-01-01T00:00:00",
          "2014-07-01T00:00:00",
          "2015-01-01T00:00:00",
          "2015-07-01T00:00:00",
          "2016-01-01T00:00:00",
          "2016-07-01T00:00:00",
          "2017-01-01T00:00:00",
          "2017-07-01T00:00:00",
          "2018-01-01T00:00:00",
          "2018-07-01T00:00:00",
          "2019-01-01T00:00:00",
          "2019-07-01T00:00:00",
          "2020-01-01T00:00:00",
          "2020-07-01T00:00:00",
          "2021-01-01T00:00:00",
          "2021-07-01T00:00:00",
          "2022-01-01T00:00:00",
          "2022-07-01T00:00:00",
          "2023-01-01T00:00:00",
          "2023-07-01T00:00:00",
          "2024-01-01T00:00:00",
          "2024-07-01T00:00:00"
         ],
         "xaxis": "x",
         "y": [
          17.14238687901972,
          15.775726707916432,
          15.989462347425771,
          16.851591124698285,
          16.717763415603496,
          14.310062356756935,
          14.5723059746109,
          13.3476811958149,
          15.849200216451232,
          12.565402640695696,
          16.084781044581263,
          14.11539724268468,
          16.397679501557164,
          13.548613123951707,
          14.186108713893296,
          11.812189996775132,
          14.866057832702904,
          12.5799081053059,
          14.163591538115917,
          12.020975928692252,
          13.680974319783642,
          12.22887496390804,
          15.862362395833156,
          14.188898876104474,
          15.018407075494991,
          12.948944225299863,
          14.764916741760771,
          12.265233452406,
          14.177533914667926,
          12.378460471546267,
          12.871909126092456
         ],
         "yaxis": "y"
        },
        {
         "line": {
          "color": "rgb(255, 127, 14)",
          "width": 2
         },
         "marker": {
          "color": "rgb(255, 127, 14)",
          "size": 5
         },
         "mode": "lines+markers",
         "name": "OrthogonalMatchingPursuit",
         "type": "scattergl",
         "x": [
          "2009-07-01T00:00:00",
          "2010-01-01T00:00:00",
          "2010-07-01T00:00:00",
          "2011-01-01T00:00:00",
          "2011-07-01T00:00:00",
          "2012-01-01T00:00:00",
          "2012-07-01T00:00:00",
          "2013-01-01T00:00:00",
          "2013-07-01T00:00:00",
          "2014-01-01T00:00:00",
          "2014-07-01T00:00:00",
          "2015-01-01T00:00:00",
          "2015-07-01T00:00:00",
          "2016-01-01T00:00:00",
          "2016-07-01T00:00:00",
          "2017-01-01T00:00:00",
          "2017-07-01T00:00:00",
          "2018-01-01T00:00:00",
          "2018-07-01T00:00:00",
          "2019-01-01T00:00:00",
          "2019-07-01T00:00:00",
          "2020-01-01T00:00:00",
          "2020-07-01T00:00:00",
          "2021-01-01T00:00:00",
          "2021-07-01T00:00:00",
          "2022-01-01T00:00:00",
          "2022-07-01T00:00:00",
          "2023-01-01T00:00:00",
          "2023-07-01T00:00:00",
          "2024-01-01T00:00:00",
          "2024-07-01T00:00:00"
         ],
         "xaxis": "x",
         "y": [
          null,
          null,
          null,
          null,
          null,
          null,
          null,
          null,
          null,
          null,
          null,
          null,
          null,
          null,
          null,
          null,
          null,
          null,
          null,
          null,
          null,
          null,
          null,
          null,
          null,
          12.4626,
          13.9233,
          11.952,
          13.6068,
          11.7,
          13.3762
         ],
         "yaxis": "y"
        }
       ],
       "layout": {
        "showlegend": true,
        "template": {
         "data": {
          "bar": [
           {
            "error_x": {
             "color": "rgb(51,51,51)"
            },
            "error_y": {
             "color": "rgb(51,51,51)"
            },
            "marker": {
             "line": {
              "color": "rgb(237,237,237)",
              "width": 0.5
             },
             "pattern": {
              "fillmode": "overlay",
              "size": 10,
              "solidity": 0.2
             }
            },
            "type": "bar"
           }
          ],
          "barpolar": [
           {
            "marker": {
             "line": {
              "color": "rgb(237,237,237)",
              "width": 0.5
             },
             "pattern": {
              "fillmode": "overlay",
              "size": 10,
              "solidity": 0.2
             }
            },
            "type": "barpolar"
           }
          ],
          "carpet": [
           {
            "aaxis": {
             "endlinecolor": "rgb(51,51,51)",
             "gridcolor": "white",
             "linecolor": "white",
             "minorgridcolor": "white",
             "startlinecolor": "rgb(51,51,51)"
            },
            "baxis": {
             "endlinecolor": "rgb(51,51,51)",
             "gridcolor": "white",
             "linecolor": "white",
             "minorgridcolor": "white",
             "startlinecolor": "rgb(51,51,51)"
            },
            "type": "carpet"
           }
          ],
          "choropleth": [
           {
            "colorbar": {
             "outlinewidth": 0,
             "tickcolor": "rgb(237,237,237)",
             "ticklen": 6,
             "ticks": "inside"
            },
            "type": "choropleth"
           }
          ],
          "contour": [
           {
            "colorbar": {
             "outlinewidth": 0,
             "tickcolor": "rgb(237,237,237)",
             "ticklen": 6,
             "ticks": "inside"
            },
            "colorscale": [
             [
              0,
              "rgb(20,44,66)"
             ],
             [
              1,
              "rgb(90,179,244)"
             ]
            ],
            "type": "contour"
           }
          ],
          "contourcarpet": [
           {
            "colorbar": {
             "outlinewidth": 0,
             "tickcolor": "rgb(237,237,237)",
             "ticklen": 6,
             "ticks": "inside"
            },
            "type": "contourcarpet"
           }
          ],
          "heatmap": [
           {
            "colorbar": {
             "outlinewidth": 0,
             "tickcolor": "rgb(237,237,237)",
             "ticklen": 6,
             "ticks": "inside"
            },
            "colorscale": [
             [
              0,
              "rgb(20,44,66)"
             ],
             [
              1,
              "rgb(90,179,244)"
             ]
            ],
            "type": "heatmap"
           }
          ],
          "heatmapgl": [
           {
            "colorbar": {
             "outlinewidth": 0,
             "tickcolor": "rgb(237,237,237)",
             "ticklen": 6,
             "ticks": "inside"
            },
            "colorscale": [
             [
              0,
              "rgb(20,44,66)"
             ],
             [
              1,
              "rgb(90,179,244)"
             ]
            ],
            "type": "heatmapgl"
           }
          ],
          "histogram": [
           {
            "marker": {
             "pattern": {
              "fillmode": "overlay",
              "size": 10,
              "solidity": 0.2
             }
            },
            "type": "histogram"
           }
          ],
          "histogram2d": [
           {
            "colorbar": {
             "outlinewidth": 0,
             "tickcolor": "rgb(237,237,237)",
             "ticklen": 6,
             "ticks": "inside"
            },
            "colorscale": [
             [
              0,
              "rgb(20,44,66)"
             ],
             [
              1,
              "rgb(90,179,244)"
             ]
            ],
            "type": "histogram2d"
           }
          ],
          "histogram2dcontour": [
           {
            "colorbar": {
             "outlinewidth": 0,
             "tickcolor": "rgb(237,237,237)",
             "ticklen": 6,
             "ticks": "inside"
            },
            "colorscale": [
             [
              0,
              "rgb(20,44,66)"
             ],
             [
              1,
              "rgb(90,179,244)"
             ]
            ],
            "type": "histogram2dcontour"
           }
          ],
          "mesh3d": [
           {
            "colorbar": {
             "outlinewidth": 0,
             "tickcolor": "rgb(237,237,237)",
             "ticklen": 6,
             "ticks": "inside"
            },
            "type": "mesh3d"
           }
          ],
          "parcoords": [
           {
            "line": {
             "colorbar": {
              "outlinewidth": 0,
              "tickcolor": "rgb(237,237,237)",
              "ticklen": 6,
              "ticks": "inside"
             }
            },
            "type": "parcoords"
           }
          ],
          "pie": [
           {
            "automargin": true,
            "type": "pie"
           }
          ],
          "scatter": [
           {
            "fillpattern": {
             "fillmode": "overlay",
             "size": 10,
             "solidity": 0.2
            },
            "type": "scatter"
           }
          ],
          "scatter3d": [
           {
            "line": {
             "colorbar": {
              "outlinewidth": 0,
              "tickcolor": "rgb(237,237,237)",
              "ticklen": 6,
              "ticks": "inside"
             }
            },
            "marker": {
             "colorbar": {
              "outlinewidth": 0,
              "tickcolor": "rgb(237,237,237)",
              "ticklen": 6,
              "ticks": "inside"
             }
            },
            "type": "scatter3d"
           }
          ],
          "scattercarpet": [
           {
            "marker": {
             "colorbar": {
              "outlinewidth": 0,
              "tickcolor": "rgb(237,237,237)",
              "ticklen": 6,
              "ticks": "inside"
             }
            },
            "type": "scattercarpet"
           }
          ],
          "scattergeo": [
           {
            "marker": {
             "colorbar": {
              "outlinewidth": 0,
              "tickcolor": "rgb(237,237,237)",
              "ticklen": 6,
              "ticks": "inside"
             }
            },
            "type": "scattergeo"
           }
          ],
          "scattergl": [
           {
            "marker": {
             "colorbar": {
              "outlinewidth": 0,
              "tickcolor": "rgb(237,237,237)",
              "ticklen": 6,
              "ticks": "inside"
             }
            },
            "type": "scattergl"
           }
          ],
          "scattermapbox": [
           {
            "marker": {
             "colorbar": {
              "outlinewidth": 0,
              "tickcolor": "rgb(237,237,237)",
              "ticklen": 6,
              "ticks": "inside"
             }
            },
            "type": "scattermapbox"
           }
          ],
          "scatterpolar": [
           {
            "marker": {
             "colorbar": {
              "outlinewidth": 0,
              "tickcolor": "rgb(237,237,237)",
              "ticklen": 6,
              "ticks": "inside"
             }
            },
            "type": "scatterpolar"
           }
          ],
          "scatterpolargl": [
           {
            "marker": {
             "colorbar": {
              "outlinewidth": 0,
              "tickcolor": "rgb(237,237,237)",
              "ticklen": 6,
              "ticks": "inside"
             }
            },
            "type": "scatterpolargl"
           }
          ],
          "scatterternary": [
           {
            "marker": {
             "colorbar": {
              "outlinewidth": 0,
              "tickcolor": "rgb(237,237,237)",
              "ticklen": 6,
              "ticks": "inside"
             }
            },
            "type": "scatterternary"
           }
          ],
          "surface": [
           {
            "colorbar": {
             "outlinewidth": 0,
             "tickcolor": "rgb(237,237,237)",
             "ticklen": 6,
             "ticks": "inside"
            },
            "colorscale": [
             [
              0,
              "rgb(20,44,66)"
             ],
             [
              1,
              "rgb(90,179,244)"
             ]
            ],
            "type": "surface"
           }
          ],
          "table": [
           {
            "cells": {
             "fill": {
              "color": "rgb(237,237,237)"
             },
             "line": {
              "color": "white"
             }
            },
            "header": {
             "fill": {
              "color": "rgb(217,217,217)"
             },
             "line": {
              "color": "white"
             }
            },
            "type": "table"
           }
          ]
         },
         "layout": {
          "annotationdefaults": {
           "arrowhead": 0,
           "arrowwidth": 1
          },
          "autotypenumbers": "strict",
          "coloraxis": {
           "colorbar": {
            "outlinewidth": 0,
            "tickcolor": "rgb(237,237,237)",
            "ticklen": 6,
            "ticks": "inside"
           }
          },
          "colorscale": {
           "sequential": [
            [
             0,
             "rgb(20,44,66)"
            ],
            [
             1,
             "rgb(90,179,244)"
            ]
           ],
           "sequentialminus": [
            [
             0,
             "rgb(20,44,66)"
            ],
            [
             1,
             "rgb(90,179,244)"
            ]
           ]
          },
          "colorway": [
           "#F8766D",
           "#A3A500",
           "#00BF7D",
           "#00B0F6",
           "#E76BF3"
          ],
          "font": {
           "color": "rgb(51,51,51)"
          },
          "geo": {
           "bgcolor": "white",
           "lakecolor": "white",
           "landcolor": "rgb(237,237,237)",
           "showlakes": true,
           "showland": true,
           "subunitcolor": "white"
          },
          "hoverlabel": {
           "align": "left"
          },
          "hovermode": "closest",
          "paper_bgcolor": "white",
          "plot_bgcolor": "rgb(237,237,237)",
          "polar": {
           "angularaxis": {
            "gridcolor": "white",
            "linecolor": "white",
            "showgrid": true,
            "tickcolor": "rgb(51,51,51)",
            "ticks": "outside"
           },
           "bgcolor": "rgb(237,237,237)",
           "radialaxis": {
            "gridcolor": "white",
            "linecolor": "white",
            "showgrid": true,
            "tickcolor": "rgb(51,51,51)",
            "ticks": "outside"
           }
          },
          "scene": {
           "xaxis": {
            "backgroundcolor": "rgb(237,237,237)",
            "gridcolor": "white",
            "gridwidth": 2,
            "linecolor": "white",
            "showbackground": true,
            "showgrid": true,
            "tickcolor": "rgb(51,51,51)",
            "ticks": "outside",
            "zerolinecolor": "white"
           },
           "yaxis": {
            "backgroundcolor": "rgb(237,237,237)",
            "gridcolor": "white",
            "gridwidth": 2,
            "linecolor": "white",
            "showbackground": true,
            "showgrid": true,
            "tickcolor": "rgb(51,51,51)",
            "ticks": "outside",
            "zerolinecolor": "white"
           },
           "zaxis": {
            "backgroundcolor": "rgb(237,237,237)",
            "gridcolor": "white",
            "gridwidth": 2,
            "linecolor": "white",
            "showbackground": true,
            "showgrid": true,
            "tickcolor": "rgb(51,51,51)",
            "ticks": "outside",
            "zerolinecolor": "white"
           }
          },
          "shapedefaults": {
           "fillcolor": "black",
           "line": {
            "width": 0
           },
           "opacity": 0.3
          },
          "ternary": {
           "aaxis": {
            "gridcolor": "white",
            "linecolor": "white",
            "showgrid": true,
            "tickcolor": "rgb(51,51,51)",
            "ticks": "outside"
           },
           "baxis": {
            "gridcolor": "white",
            "linecolor": "white",
            "showgrid": true,
            "tickcolor": "rgb(51,51,51)",
            "ticks": "outside"
           },
           "bgcolor": "rgb(237,237,237)",
           "caxis": {
            "gridcolor": "white",
            "linecolor": "white",
            "showgrid": true,
            "tickcolor": "rgb(51,51,51)",
            "ticks": "outside"
           }
          },
          "xaxis": {
           "automargin": true,
           "gridcolor": "white",
           "linecolor": "white",
           "showgrid": true,
           "tickcolor": "rgb(51,51,51)",
           "ticks": "outside",
           "title": {
            "standoff": 15
           },
           "zerolinecolor": "white"
          },
          "yaxis": {
           "automargin": true,
           "gridcolor": "white",
           "linecolor": "white",
           "showgrid": true,
           "tickcolor": "rgb(51,51,51)",
           "ticks": "outside",
           "title": {
            "standoff": 15
           },
           "zerolinecolor": "white"
          }
         }
        },
        "title": {
         "text": "Actual vs. Forecast (Out-of-Sample)"
        },
        "xaxis": {
         "anchor": "y",
         "domain": [
          0,
          1
         ]
        },
        "yaxis": {
         "anchor": "x",
         "domain": [
          0,
          1
         ]
        }
       }
      }
     },
     "metadata": {},
     "output_type": "display_data"
    }
   ],
   "source": [
    "omp_cds_dt= exp.create_model('omp_cds_dt')\n",
    "y_predict_omp_cds_dt = exp.predict_model(omp_cds_dt)\n",
    "exp.plot_model(estimator=omp_cds_dt)"
   ]
  },
  {
   "cell_type": "code",
   "execution_count": 407,
   "metadata": {},
   "outputs": [
    {
     "data": {
      "text/html": [],
      "text/plain": [
       "<IPython.core.display.HTML object>"
      ]
     },
     "metadata": {},
     "output_type": "display_data"
    },
    {
     "data": {
      "text/html": [
       "<style type=\"text/css\">\n",
       "#T_e4bfa_row3_col0, #T_e4bfa_row3_col1, #T_e4bfa_row3_col2, #T_e4bfa_row3_col3, #T_e4bfa_row3_col4, #T_e4bfa_row3_col5, #T_e4bfa_row3_col6, #T_e4bfa_row3_col7 {\n",
       "  background: yellow;\n",
       "}\n",
       "</style>\n",
       "<table id=\"T_e4bfa\">\n",
       "  <thead>\n",
       "    <tr>\n",
       "      <th class=\"blank level0\" >&nbsp;</th>\n",
       "      <th id=\"T_e4bfa_level0_col0\" class=\"col_heading level0 col0\" >cutoff</th>\n",
       "      <th id=\"T_e4bfa_level0_col1\" class=\"col_heading level0 col1\" >MASE</th>\n",
       "      <th id=\"T_e4bfa_level0_col2\" class=\"col_heading level0 col2\" >RMSSE</th>\n",
       "      <th id=\"T_e4bfa_level0_col3\" class=\"col_heading level0 col3\" >MAE</th>\n",
       "      <th id=\"T_e4bfa_level0_col4\" class=\"col_heading level0 col4\" >RMSE</th>\n",
       "      <th id=\"T_e4bfa_level0_col5\" class=\"col_heading level0 col5\" >MAPE</th>\n",
       "      <th id=\"T_e4bfa_level0_col6\" class=\"col_heading level0 col6\" >SMAPE</th>\n",
       "      <th id=\"T_e4bfa_level0_col7\" class=\"col_heading level0 col7\" >R2</th>\n",
       "    </tr>\n",
       "  </thead>\n",
       "  <tbody>\n",
       "    <tr>\n",
       "      <th id=\"T_e4bfa_level0_row0\" class=\"row_heading level0 row0\" >0</th>\n",
       "      <td id=\"T_e4bfa_row0_col0\" class=\"data row0 col0\" >2012Q3</td>\n",
       "      <td id=\"T_e4bfa_row0_col1\" class=\"data row0 col1\" >1.0249</td>\n",
       "      <td id=\"T_e4bfa_row0_col2\" class=\"data row0 col2\" >1.1445</td>\n",
       "      <td id=\"T_e4bfa_row0_col3\" class=\"data row0 col3\" >1.5668</td>\n",
       "      <td id=\"T_e4bfa_row0_col4\" class=\"data row0 col4\" >1.9205</td>\n",
       "      <td id=\"T_e4bfa_row0_col5\" class=\"data row0 col5\" >0.1029</td>\n",
       "      <td id=\"T_e4bfa_row0_col6\" class=\"data row0 col6\" >0.1071</td>\n",
       "      <td id=\"T_e4bfa_row0_col7\" class=\"data row0 col7\" >-0.7231</td>\n",
       "    </tr>\n",
       "    <tr>\n",
       "      <th id=\"T_e4bfa_level0_row1\" class=\"row_heading level0 row1\" >1</th>\n",
       "      <td id=\"T_e4bfa_row1_col0\" class=\"data row1 col0\" >2015Q3</td>\n",
       "      <td id=\"T_e4bfa_row1_col1\" class=\"data row1 col1\" >0.4415</td>\n",
       "      <td id=\"T_e4bfa_row1_col2\" class=\"data row1 col2\" >0.4903</td>\n",
       "      <td id=\"T_e4bfa_row1_col3\" class=\"data row1 col3\" >0.5123</td>\n",
       "      <td id=\"T_e4bfa_row1_col4\" class=\"data row1 col4\" >0.6579</td>\n",
       "      <td id=\"T_e4bfa_row1_col5\" class=\"data row1 col5\" >0.0399</td>\n",
       "      <td id=\"T_e4bfa_row1_col6\" class=\"data row1 col6\" >0.0386</td>\n",
       "      <td id=\"T_e4bfa_row1_col7\" class=\"data row1 col7\" >0.5987</td>\n",
       "    </tr>\n",
       "    <tr>\n",
       "      <th id=\"T_e4bfa_level0_row2\" class=\"row_heading level0 row2\" >2</th>\n",
       "      <td id=\"T_e4bfa_row2_col0\" class=\"data row2 col0\" >2018Q3</td>\n",
       "      <td id=\"T_e4bfa_row2_col1\" class=\"data row2 col1\" >1.1038</td>\n",
       "      <td id=\"T_e4bfa_row2_col2\" class=\"data row2 col2\" >1.2411</td>\n",
       "      <td id=\"T_e4bfa_row2_col3\" class=\"data row2 col3\" >1.2616</td>\n",
       "      <td id=\"T_e4bfa_row2_col4\" class=\"data row2 col4\" >1.6370</td>\n",
       "      <td id=\"T_e4bfa_row2_col5\" class=\"data row2 col5\" >0.0859</td>\n",
       "      <td id=\"T_e4bfa_row2_col6\" class=\"data row2 col6\" >0.0924</td>\n",
       "      <td id=\"T_e4bfa_row2_col7\" class=\"data row2 col7\" >-0.3946</td>\n",
       "    </tr>\n",
       "    <tr>\n",
       "      <th id=\"T_e4bfa_level0_row3\" class=\"row_heading level0 row3\" >Mean</th>\n",
       "      <td id=\"T_e4bfa_row3_col0\" class=\"data row3 col0\" >NaT</td>\n",
       "      <td id=\"T_e4bfa_row3_col1\" class=\"data row3 col1\" >0.8567</td>\n",
       "      <td id=\"T_e4bfa_row3_col2\" class=\"data row3 col2\" >0.9586</td>\n",
       "      <td id=\"T_e4bfa_row3_col3\" class=\"data row3 col3\" >1.1135</td>\n",
       "      <td id=\"T_e4bfa_row3_col4\" class=\"data row3 col4\" >1.4051</td>\n",
       "      <td id=\"T_e4bfa_row3_col5\" class=\"data row3 col5\" >0.0762</td>\n",
       "      <td id=\"T_e4bfa_row3_col6\" class=\"data row3 col6\" >0.0794</td>\n",
       "      <td id=\"T_e4bfa_row3_col7\" class=\"data row3 col7\" >-0.1730</td>\n",
       "    </tr>\n",
       "    <tr>\n",
       "      <th id=\"T_e4bfa_level0_row4\" class=\"row_heading level0 row4\" >SD</th>\n",
       "      <td id=\"T_e4bfa_row4_col0\" class=\"data row4 col0\" >NaT</td>\n",
       "      <td id=\"T_e4bfa_row4_col1\" class=\"data row4 col1\" >0.2954</td>\n",
       "      <td id=\"T_e4bfa_row4_col2\" class=\"data row4 col2\" >0.3335</td>\n",
       "      <td id=\"T_e4bfa_row4_col3\" class=\"data row4 col3\" >0.4431</td>\n",
       "      <td id=\"T_e4bfa_row4_col4\" class=\"data row4 col4\" >0.5409</td>\n",
       "      <td id=\"T_e4bfa_row4_col5\" class=\"data row4 col5\" >0.0266</td>\n",
       "      <td id=\"T_e4bfa_row4_col6\" class=\"data row4 col6\" >0.0294</td>\n",
       "      <td id=\"T_e4bfa_row4_col7\" class=\"data row4 col7\" >0.5619</td>\n",
       "    </tr>\n",
       "  </tbody>\n",
       "</table>\n"
      ],
      "text/plain": [
       "<pandas.io.formats.style.Styler at 0x16d20db20>"
      ]
     },
     "metadata": {},
     "output_type": "display_data"
    },
    {
     "data": {
      "text/html": [],
      "text/plain": [
       "<IPython.core.display.HTML object>"
      ]
     },
     "metadata": {},
     "output_type": "display_data"
    },
    {
     "name": "stdout",
     "output_type": "stream",
     "text": [
      "Fitting 3 folds for each of 20 candidates, totalling 60 fits\n"
     ]
    },
    {
     "name": "stderr",
     "output_type": "stream",
     "text": [
      "[Parallel(n_jobs=-1)]: Using backend LokyBackend with 8 concurrent workers.\n",
      "[Parallel(n_jobs=-1)]: Done  60 out of  60 | elapsed:    1.4s finished\n"
     ]
    },
    {
     "data": {
      "text/html": [
       "<style type=\"text/css\">\n",
       "</style>\n",
       "<table id=\"T_ae9f2\">\n",
       "  <thead>\n",
       "    <tr>\n",
       "      <th class=\"blank level0\" >&nbsp;</th>\n",
       "      <th id=\"T_ae9f2_level0_col0\" class=\"col_heading level0 col0\" >Model</th>\n",
       "      <th id=\"T_ae9f2_level0_col1\" class=\"col_heading level0 col1\" >MASE</th>\n",
       "      <th id=\"T_ae9f2_level0_col2\" class=\"col_heading level0 col2\" >RMSSE</th>\n",
       "      <th id=\"T_ae9f2_level0_col3\" class=\"col_heading level0 col3\" >MAE</th>\n",
       "      <th id=\"T_ae9f2_level0_col4\" class=\"col_heading level0 col4\" >RMSE</th>\n",
       "      <th id=\"T_ae9f2_level0_col5\" class=\"col_heading level0 col5\" >MAPE</th>\n",
       "      <th id=\"T_ae9f2_level0_col6\" class=\"col_heading level0 col6\" >SMAPE</th>\n",
       "      <th id=\"T_ae9f2_level0_col7\" class=\"col_heading level0 col7\" >R2</th>\n",
       "    </tr>\n",
       "  </thead>\n",
       "  <tbody>\n",
       "    <tr>\n",
       "      <th id=\"T_ae9f2_level0_row0\" class=\"row_heading level0 row0\" >0</th>\n",
       "      <td id=\"T_ae9f2_row0_col0\" class=\"data row0 col0\" >OrthogonalMatchingPursuit</td>\n",
       "      <td id=\"T_ae9f2_row0_col1\" class=\"data row0 col1\" >0.5982</td>\n",
       "      <td id=\"T_ae9f2_row0_col2\" class=\"data row0 col2\" >0.5652</td>\n",
       "      <td id=\"T_ae9f2_row0_col3\" class=\"data row0 col3\" >0.6675</td>\n",
       "      <td id=\"T_ae9f2_row0_col4\" class=\"data row0 col4\" >0.7404</td>\n",
       "      <td id=\"T_ae9f2_row0_col5\" class=\"data row0 col5\" >0.0520</td>\n",
       "      <td id=\"T_ae9f2_row0_col6\" class=\"data row0 col6\" >0.0505</td>\n",
       "      <td id=\"T_ae9f2_row0_col7\" class=\"data row0 col7\" >0.3571</td>\n",
       "    </tr>\n",
       "  </tbody>\n",
       "</table>\n"
      ],
      "text/plain": [
       "<pandas.io.formats.style.Styler at 0x16c71d0a0>"
      ]
     },
     "metadata": {},
     "output_type": "display_data"
    },
    {
     "data": {
      "text/html": [
       "<div>\n",
       "<style scoped>\n",
       "    .dataframe tbody tr th:only-of-type {\n",
       "        vertical-align: middle;\n",
       "    }\n",
       "\n",
       "    .dataframe tbody tr th {\n",
       "        vertical-align: top;\n",
       "    }\n",
       "\n",
       "    .dataframe thead th {\n",
       "        text-align: right;\n",
       "    }\n",
       "</style>\n",
       "<table border=\"1\" class=\"dataframe\">\n",
       "  <thead>\n",
       "    <tr style=\"text-align: right;\">\n",
       "      <th></th>\n",
       "      <th>y_pred</th>\n",
       "    </tr>\n",
       "  </thead>\n",
       "  <tbody>\n",
       "    <tr>\n",
       "      <th>2022Q1</th>\n",
       "      <td>13.5132</td>\n",
       "    </tr>\n",
       "    <tr>\n",
       "      <th>2022Q3</th>\n",
       "      <td>14.3209</td>\n",
       "    </tr>\n",
       "    <tr>\n",
       "      <th>2023Q1</th>\n",
       "      <td>13.2655</td>\n",
       "    </tr>\n",
       "    <tr>\n",
       "      <th>2023Q3</th>\n",
       "      <td>14.0416</td>\n",
       "    </tr>\n",
       "    <tr>\n",
       "      <th>2024Q1</th>\n",
       "      <td>13.1977</td>\n",
       "    </tr>\n",
       "    <tr>\n",
       "      <th>2024Q3</th>\n",
       "      <td>13.9129</td>\n",
       "    </tr>\n",
       "  </tbody>\n",
       "</table>\n",
       "</div>"
      ],
      "text/plain": [
       "         y_pred\n",
       "2022Q1  13.5132\n",
       "2022Q3  14.3209\n",
       "2023Q1  13.2655\n",
       "2023Q3  14.0416\n",
       "2024Q1  13.1977\n",
       "2024Q3  13.9129"
      ]
     },
     "execution_count": 407,
     "metadata": {},
     "output_type": "execute_result"
    }
   ],
   "source": [
    "tuned_omp_cds_dt = tune_model(omp_cds_dt, n_iter=20, optimize='MASE')\n",
    "exp.predict_model(tuned_omp_cds_dt)"
   ]
  },
  {
   "cell_type": "code",
   "execution_count": 408,
   "metadata": {},
   "outputs": [
    {
     "data": {
      "application/vnd.plotly.v1+json": {
       "config": {
        "plotlyServerURL": "https://plot.ly"
       },
       "data": [
        {
         "line": {
          "color": "rgb(31, 119, 180)",
          "width": 2
         },
         "marker": {
          "color": "rgb(31, 119, 180)",
          "size": 5
         },
         "mode": "lines+markers",
         "name": "Unemployment_Rate",
         "type": "scattergl",
         "x": [
          "2009-07-01T00:00:00",
          "2010-01-01T00:00:00",
          "2010-07-01T00:00:00",
          "2011-01-01T00:00:00",
          "2011-07-01T00:00:00",
          "2012-01-01T00:00:00",
          "2012-07-01T00:00:00",
          "2013-01-01T00:00:00",
          "2013-07-01T00:00:00",
          "2014-01-01T00:00:00",
          "2014-07-01T00:00:00",
          "2015-01-01T00:00:00",
          "2015-07-01T00:00:00",
          "2016-01-01T00:00:00",
          "2016-07-01T00:00:00",
          "2017-01-01T00:00:00",
          "2017-07-01T00:00:00",
          "2018-01-01T00:00:00",
          "2018-07-01T00:00:00",
          "2019-01-01T00:00:00",
          "2019-07-01T00:00:00",
          "2020-01-01T00:00:00",
          "2020-07-01T00:00:00",
          "2021-01-01T00:00:00",
          "2021-07-01T00:00:00",
          "2022-01-01T00:00:00",
          "2022-07-01T00:00:00",
          "2023-01-01T00:00:00",
          "2023-07-01T00:00:00",
          "2024-01-01T00:00:00",
          "2024-07-01T00:00:00"
         ],
         "xaxis": "x",
         "y": [
          17.14238687901972,
          15.775726707916432,
          15.989462347425771,
          16.851591124698285,
          16.717763415603496,
          14.310062356756935,
          14.5723059746109,
          13.3476811958149,
          15.849200216451232,
          12.565402640695696,
          16.084781044581263,
          14.11539724268468,
          16.397679501557164,
          13.548613123951707,
          14.186108713893296,
          11.812189996775132,
          14.866057832702904,
          12.5799081053059,
          14.163591538115917,
          12.020975928692252,
          13.680974319783642,
          12.22887496390804,
          15.862362395833156,
          14.188898876104474,
          15.018407075494991,
          12.948944225299863,
          14.764916741760771,
          12.265233452406,
          14.177533914667926,
          12.378460471546267,
          12.871909126092456
         ],
         "yaxis": "y"
        },
        {
         "line": {
          "color": "rgb(255, 127, 14)",
          "width": 2
         },
         "marker": {
          "color": "rgb(255, 127, 14)",
          "size": 5
         },
         "mode": "lines+markers",
         "name": "OrthogonalMatchingPursuit",
         "type": "scattergl",
         "x": [
          "2009-07-01T00:00:00",
          "2010-01-01T00:00:00",
          "2010-07-01T00:00:00",
          "2011-01-01T00:00:00",
          "2011-07-01T00:00:00",
          "2012-01-01T00:00:00",
          "2012-07-01T00:00:00",
          "2013-01-01T00:00:00",
          "2013-07-01T00:00:00",
          "2014-01-01T00:00:00",
          "2014-07-01T00:00:00",
          "2015-01-01T00:00:00",
          "2015-07-01T00:00:00",
          "2016-01-01T00:00:00",
          "2016-07-01T00:00:00",
          "2017-01-01T00:00:00",
          "2017-07-01T00:00:00",
          "2018-01-01T00:00:00",
          "2018-07-01T00:00:00",
          "2019-01-01T00:00:00",
          "2019-07-01T00:00:00",
          "2020-01-01T00:00:00",
          "2020-07-01T00:00:00",
          "2021-01-01T00:00:00",
          "2021-07-01T00:00:00",
          "2022-01-01T00:00:00",
          "2022-07-01T00:00:00",
          "2023-01-01T00:00:00",
          "2023-07-01T00:00:00",
          "2024-01-01T00:00:00",
          "2024-07-01T00:00:00"
         ],
         "xaxis": "x",
         "y": [
          null,
          null,
          null,
          null,
          null,
          null,
          null,
          null,
          null,
          null,
          null,
          null,
          null,
          null,
          null,
          null,
          null,
          null,
          null,
          null,
          null,
          null,
          null,
          null,
          null,
          13.5132,
          14.3209,
          13.2655,
          14.0416,
          13.1977,
          13.9129
         ],
         "yaxis": "y"
        }
       ],
       "layout": {
        "showlegend": true,
        "template": {
         "data": {
          "bar": [
           {
            "error_x": {
             "color": "rgb(51,51,51)"
            },
            "error_y": {
             "color": "rgb(51,51,51)"
            },
            "marker": {
             "line": {
              "color": "rgb(237,237,237)",
              "width": 0.5
             },
             "pattern": {
              "fillmode": "overlay",
              "size": 10,
              "solidity": 0.2
             }
            },
            "type": "bar"
           }
          ],
          "barpolar": [
           {
            "marker": {
             "line": {
              "color": "rgb(237,237,237)",
              "width": 0.5
             },
             "pattern": {
              "fillmode": "overlay",
              "size": 10,
              "solidity": 0.2
             }
            },
            "type": "barpolar"
           }
          ],
          "carpet": [
           {
            "aaxis": {
             "endlinecolor": "rgb(51,51,51)",
             "gridcolor": "white",
             "linecolor": "white",
             "minorgridcolor": "white",
             "startlinecolor": "rgb(51,51,51)"
            },
            "baxis": {
             "endlinecolor": "rgb(51,51,51)",
             "gridcolor": "white",
             "linecolor": "white",
             "minorgridcolor": "white",
             "startlinecolor": "rgb(51,51,51)"
            },
            "type": "carpet"
           }
          ],
          "choropleth": [
           {
            "colorbar": {
             "outlinewidth": 0,
             "tickcolor": "rgb(237,237,237)",
             "ticklen": 6,
             "ticks": "inside"
            },
            "type": "choropleth"
           }
          ],
          "contour": [
           {
            "colorbar": {
             "outlinewidth": 0,
             "tickcolor": "rgb(237,237,237)",
             "ticklen": 6,
             "ticks": "inside"
            },
            "colorscale": [
             [
              0,
              "rgb(20,44,66)"
             ],
             [
              1,
              "rgb(90,179,244)"
             ]
            ],
            "type": "contour"
           }
          ],
          "contourcarpet": [
           {
            "colorbar": {
             "outlinewidth": 0,
             "tickcolor": "rgb(237,237,237)",
             "ticklen": 6,
             "ticks": "inside"
            },
            "type": "contourcarpet"
           }
          ],
          "heatmap": [
           {
            "colorbar": {
             "outlinewidth": 0,
             "tickcolor": "rgb(237,237,237)",
             "ticklen": 6,
             "ticks": "inside"
            },
            "colorscale": [
             [
              0,
              "rgb(20,44,66)"
             ],
             [
              1,
              "rgb(90,179,244)"
             ]
            ],
            "type": "heatmap"
           }
          ],
          "heatmapgl": [
           {
            "colorbar": {
             "outlinewidth": 0,
             "tickcolor": "rgb(237,237,237)",
             "ticklen": 6,
             "ticks": "inside"
            },
            "colorscale": [
             [
              0,
              "rgb(20,44,66)"
             ],
             [
              1,
              "rgb(90,179,244)"
             ]
            ],
            "type": "heatmapgl"
           }
          ],
          "histogram": [
           {
            "marker": {
             "pattern": {
              "fillmode": "overlay",
              "size": 10,
              "solidity": 0.2
             }
            },
            "type": "histogram"
           }
          ],
          "histogram2d": [
           {
            "colorbar": {
             "outlinewidth": 0,
             "tickcolor": "rgb(237,237,237)",
             "ticklen": 6,
             "ticks": "inside"
            },
            "colorscale": [
             [
              0,
              "rgb(20,44,66)"
             ],
             [
              1,
              "rgb(90,179,244)"
             ]
            ],
            "type": "histogram2d"
           }
          ],
          "histogram2dcontour": [
           {
            "colorbar": {
             "outlinewidth": 0,
             "tickcolor": "rgb(237,237,237)",
             "ticklen": 6,
             "ticks": "inside"
            },
            "colorscale": [
             [
              0,
              "rgb(20,44,66)"
             ],
             [
              1,
              "rgb(90,179,244)"
             ]
            ],
            "type": "histogram2dcontour"
           }
          ],
          "mesh3d": [
           {
            "colorbar": {
             "outlinewidth": 0,
             "tickcolor": "rgb(237,237,237)",
             "ticklen": 6,
             "ticks": "inside"
            },
            "type": "mesh3d"
           }
          ],
          "parcoords": [
           {
            "line": {
             "colorbar": {
              "outlinewidth": 0,
              "tickcolor": "rgb(237,237,237)",
              "ticklen": 6,
              "ticks": "inside"
             }
            },
            "type": "parcoords"
           }
          ],
          "pie": [
           {
            "automargin": true,
            "type": "pie"
           }
          ],
          "scatter": [
           {
            "fillpattern": {
             "fillmode": "overlay",
             "size": 10,
             "solidity": 0.2
            },
            "type": "scatter"
           }
          ],
          "scatter3d": [
           {
            "line": {
             "colorbar": {
              "outlinewidth": 0,
              "tickcolor": "rgb(237,237,237)",
              "ticklen": 6,
              "ticks": "inside"
             }
            },
            "marker": {
             "colorbar": {
              "outlinewidth": 0,
              "tickcolor": "rgb(237,237,237)",
              "ticklen": 6,
              "ticks": "inside"
             }
            },
            "type": "scatter3d"
           }
          ],
          "scattercarpet": [
           {
            "marker": {
             "colorbar": {
              "outlinewidth": 0,
              "tickcolor": "rgb(237,237,237)",
              "ticklen": 6,
              "ticks": "inside"
             }
            },
            "type": "scattercarpet"
           }
          ],
          "scattergeo": [
           {
            "marker": {
             "colorbar": {
              "outlinewidth": 0,
              "tickcolor": "rgb(237,237,237)",
              "ticklen": 6,
              "ticks": "inside"
             }
            },
            "type": "scattergeo"
           }
          ],
          "scattergl": [
           {
            "marker": {
             "colorbar": {
              "outlinewidth": 0,
              "tickcolor": "rgb(237,237,237)",
              "ticklen": 6,
              "ticks": "inside"
             }
            },
            "type": "scattergl"
           }
          ],
          "scattermapbox": [
           {
            "marker": {
             "colorbar": {
              "outlinewidth": 0,
              "tickcolor": "rgb(237,237,237)",
              "ticklen": 6,
              "ticks": "inside"
             }
            },
            "type": "scattermapbox"
           }
          ],
          "scatterpolar": [
           {
            "marker": {
             "colorbar": {
              "outlinewidth": 0,
              "tickcolor": "rgb(237,237,237)",
              "ticklen": 6,
              "ticks": "inside"
             }
            },
            "type": "scatterpolar"
           }
          ],
          "scatterpolargl": [
           {
            "marker": {
             "colorbar": {
              "outlinewidth": 0,
              "tickcolor": "rgb(237,237,237)",
              "ticklen": 6,
              "ticks": "inside"
             }
            },
            "type": "scatterpolargl"
           }
          ],
          "scatterternary": [
           {
            "marker": {
             "colorbar": {
              "outlinewidth": 0,
              "tickcolor": "rgb(237,237,237)",
              "ticklen": 6,
              "ticks": "inside"
             }
            },
            "type": "scatterternary"
           }
          ],
          "surface": [
           {
            "colorbar": {
             "outlinewidth": 0,
             "tickcolor": "rgb(237,237,237)",
             "ticklen": 6,
             "ticks": "inside"
            },
            "colorscale": [
             [
              0,
              "rgb(20,44,66)"
             ],
             [
              1,
              "rgb(90,179,244)"
             ]
            ],
            "type": "surface"
           }
          ],
          "table": [
           {
            "cells": {
             "fill": {
              "color": "rgb(237,237,237)"
             },
             "line": {
              "color": "white"
             }
            },
            "header": {
             "fill": {
              "color": "rgb(217,217,217)"
             },
             "line": {
              "color": "white"
             }
            },
            "type": "table"
           }
          ]
         },
         "layout": {
          "annotationdefaults": {
           "arrowhead": 0,
           "arrowwidth": 1
          },
          "autotypenumbers": "strict",
          "coloraxis": {
           "colorbar": {
            "outlinewidth": 0,
            "tickcolor": "rgb(237,237,237)",
            "ticklen": 6,
            "ticks": "inside"
           }
          },
          "colorscale": {
           "sequential": [
            [
             0,
             "rgb(20,44,66)"
            ],
            [
             1,
             "rgb(90,179,244)"
            ]
           ],
           "sequentialminus": [
            [
             0,
             "rgb(20,44,66)"
            ],
            [
             1,
             "rgb(90,179,244)"
            ]
           ]
          },
          "colorway": [
           "#F8766D",
           "#A3A500",
           "#00BF7D",
           "#00B0F6",
           "#E76BF3"
          ],
          "font": {
           "color": "rgb(51,51,51)"
          },
          "geo": {
           "bgcolor": "white",
           "lakecolor": "white",
           "landcolor": "rgb(237,237,237)",
           "showlakes": true,
           "showland": true,
           "subunitcolor": "white"
          },
          "hoverlabel": {
           "align": "left"
          },
          "hovermode": "closest",
          "paper_bgcolor": "white",
          "plot_bgcolor": "rgb(237,237,237)",
          "polar": {
           "angularaxis": {
            "gridcolor": "white",
            "linecolor": "white",
            "showgrid": true,
            "tickcolor": "rgb(51,51,51)",
            "ticks": "outside"
           },
           "bgcolor": "rgb(237,237,237)",
           "radialaxis": {
            "gridcolor": "white",
            "linecolor": "white",
            "showgrid": true,
            "tickcolor": "rgb(51,51,51)",
            "ticks": "outside"
           }
          },
          "scene": {
           "xaxis": {
            "backgroundcolor": "rgb(237,237,237)",
            "gridcolor": "white",
            "gridwidth": 2,
            "linecolor": "white",
            "showbackground": true,
            "showgrid": true,
            "tickcolor": "rgb(51,51,51)",
            "ticks": "outside",
            "zerolinecolor": "white"
           },
           "yaxis": {
            "backgroundcolor": "rgb(237,237,237)",
            "gridcolor": "white",
            "gridwidth": 2,
            "linecolor": "white",
            "showbackground": true,
            "showgrid": true,
            "tickcolor": "rgb(51,51,51)",
            "ticks": "outside",
            "zerolinecolor": "white"
           },
           "zaxis": {
            "backgroundcolor": "rgb(237,237,237)",
            "gridcolor": "white",
            "gridwidth": 2,
            "linecolor": "white",
            "showbackground": true,
            "showgrid": true,
            "tickcolor": "rgb(51,51,51)",
            "ticks": "outside",
            "zerolinecolor": "white"
           }
          },
          "shapedefaults": {
           "fillcolor": "black",
           "line": {
            "width": 0
           },
           "opacity": 0.3
          },
          "ternary": {
           "aaxis": {
            "gridcolor": "white",
            "linecolor": "white",
            "showgrid": true,
            "tickcolor": "rgb(51,51,51)",
            "ticks": "outside"
           },
           "baxis": {
            "gridcolor": "white",
            "linecolor": "white",
            "showgrid": true,
            "tickcolor": "rgb(51,51,51)",
            "ticks": "outside"
           },
           "bgcolor": "rgb(237,237,237)",
           "caxis": {
            "gridcolor": "white",
            "linecolor": "white",
            "showgrid": true,
            "tickcolor": "rgb(51,51,51)",
            "ticks": "outside"
           }
          },
          "xaxis": {
           "automargin": true,
           "gridcolor": "white",
           "linecolor": "white",
           "showgrid": true,
           "tickcolor": "rgb(51,51,51)",
           "ticks": "outside",
           "title": {
            "standoff": 15
           },
           "zerolinecolor": "white"
          },
          "yaxis": {
           "automargin": true,
           "gridcolor": "white",
           "linecolor": "white",
           "showgrid": true,
           "tickcolor": "rgb(51,51,51)",
           "ticks": "outside",
           "title": {
            "standoff": 15
           },
           "zerolinecolor": "white"
          }
         }
        },
        "title": {
         "text": "Actual vs. Forecast (Out-of-Sample)"
        },
        "xaxis": {
         "anchor": "y",
         "domain": [
          0,
          1
         ]
        },
        "yaxis": {
         "anchor": "x",
         "domain": [
          0,
          1
         ]
        }
       }
      }
     },
     "metadata": {},
     "output_type": "display_data"
    }
   ],
   "source": [
    "exp.plot_model(estimator=tuned_omp_cds_dt)"
   ]
  },
  {
   "cell_type": "code",
   "execution_count": 409,
   "metadata": {},
   "outputs": [
    {
     "name": "stdout",
     "output_type": "stream",
     "text": [
      "{'degree': 1, 'deseasonal_model': 'additive', 'fe_target_rr': [WindowSummarizer(lag_feature={'lag': [2, 1]}, n_jobs=1)], 'regressor': OrthogonalMatchingPursuit(), 'sp': 2, 'window_length': 2, 'regressor__fit_intercept': True, 'regressor__n_nonzero_coefs': None, 'regressor__precompute': 'auto', 'regressor__tol': None}\n",
      "{'degree': 1, 'deseasonal_model': 'additive', 'fe_target_rr': [WindowSummarizer(lag_feature={'lag': [2, 1]}, n_jobs=1)], 'regressor': OrthogonalMatchingPursuit(n_nonzero_coefs=2), 'sp': 4, 'window_length': 2, 'regressor__fit_intercept': True, 'regressor__n_nonzero_coefs': 2, 'regressor__precompute': 'auto', 'regressor__tol': None}\n"
     ]
    }
   ],
   "source": [
    "print(omp_cds_dt.get_params())\n",
    "print(tuned_omp_cds_dt.get_params())"
   ]
  },
  {
   "cell_type": "code",
   "execution_count": 410,
   "metadata": {},
   "outputs": [
    {
     "data": {
      "application/vnd.plotly.v1+json": {
       "config": {
        "plotlyServerURL": "https://plot.ly"
       },
       "data": [
        {
         "line": {
          "color": "rgb(31, 119, 180)",
          "width": 2
         },
         "marker": {
          "color": "rgb(31, 119, 180)",
          "size": 5
         },
         "mode": "lines+markers",
         "name": "Unemployment_Rate",
         "type": "scattergl",
         "x": [
          "2009-07-01T00:00:00",
          "2010-01-01T00:00:00",
          "2010-07-01T00:00:00",
          "2011-01-01T00:00:00",
          "2011-07-01T00:00:00",
          "2012-01-01T00:00:00",
          "2012-07-01T00:00:00",
          "2013-01-01T00:00:00",
          "2013-07-01T00:00:00",
          "2014-01-01T00:00:00",
          "2014-07-01T00:00:00",
          "2015-01-01T00:00:00",
          "2015-07-01T00:00:00",
          "2016-01-01T00:00:00",
          "2016-07-01T00:00:00",
          "2017-01-01T00:00:00",
          "2017-07-01T00:00:00",
          "2018-01-01T00:00:00",
          "2018-07-01T00:00:00",
          "2019-01-01T00:00:00",
          "2019-07-01T00:00:00",
          "2020-01-01T00:00:00",
          "2020-07-01T00:00:00",
          "2021-01-01T00:00:00",
          "2021-07-01T00:00:00",
          "2022-01-01T00:00:00",
          "2022-07-01T00:00:00",
          "2023-01-01T00:00:00",
          "2023-07-01T00:00:00",
          "2024-01-01T00:00:00",
          "2024-07-01T00:00:00"
         ],
         "xaxis": "x",
         "y": [
          17.14238687901972,
          15.775726707916432,
          15.989462347425771,
          16.851591124698285,
          16.717763415603496,
          14.310062356756935,
          14.5723059746109,
          13.3476811958149,
          15.849200216451232,
          12.565402640695696,
          16.084781044581263,
          14.11539724268468,
          16.397679501557164,
          13.548613123951707,
          14.186108713893296,
          11.812189996775132,
          14.866057832702904,
          12.5799081053059,
          14.163591538115917,
          12.020975928692252,
          13.680974319783642,
          12.22887496390804,
          15.862362395833156,
          14.188898876104474,
          15.018407075494991,
          12.948944225299863,
          14.764916741760771,
          12.265233452406,
          14.177533914667926,
          12.378460471546267,
          12.871909126092456
         ],
         "yaxis": "y"
        },
        {
         "line": {
          "color": "rgb(255, 127, 14)",
          "width": 2
         },
         "marker": {
          "color": "rgb(255, 127, 14)",
          "size": 5
         },
         "mode": "lines+markers",
         "name": "Baseline",
         "type": "scattergl",
         "x": [
          "2009-07-01T00:00:00",
          "2010-01-01T00:00:00",
          "2010-07-01T00:00:00",
          "2011-01-01T00:00:00",
          "2011-07-01T00:00:00",
          "2012-01-01T00:00:00",
          "2012-07-01T00:00:00",
          "2013-01-01T00:00:00",
          "2013-07-01T00:00:00",
          "2014-01-01T00:00:00",
          "2014-07-01T00:00:00",
          "2015-01-01T00:00:00",
          "2015-07-01T00:00:00",
          "2016-01-01T00:00:00",
          "2016-07-01T00:00:00",
          "2017-01-01T00:00:00",
          "2017-07-01T00:00:00",
          "2018-01-01T00:00:00",
          "2018-07-01T00:00:00",
          "2019-01-01T00:00:00",
          "2019-07-01T00:00:00",
          "2020-01-01T00:00:00",
          "2020-07-01T00:00:00",
          "2021-01-01T00:00:00",
          "2021-07-01T00:00:00",
          "2022-01-01T00:00:00",
          "2022-07-01T00:00:00",
          "2023-01-01T00:00:00",
          "2023-07-01T00:00:00",
          "2024-01-01T00:00:00",
          "2024-07-01T00:00:00"
         ],
         "xaxis": "x",
         "y": [
          null,
          null,
          null,
          null,
          null,
          null,
          null,
          null,
          null,
          null,
          null,
          null,
          null,
          null,
          null,
          null,
          null,
          null,
          null,
          null,
          null,
          null,
          null,
          null,
          null,
          12.4626,
          13.9233,
          11.952,
          13.6068,
          11.7,
          13.3762
         ],
         "yaxis": "y"
        },
        {
         "line": {
          "color": "rgb(44, 160, 44)",
          "width": 2
         },
         "marker": {
          "color": "rgb(44, 160, 44)",
          "size": 5
         },
         "mode": "lines+markers",
         "name": "Tuned",
         "type": "scattergl",
         "x": [
          "2009-07-01T00:00:00",
          "2010-01-01T00:00:00",
          "2010-07-01T00:00:00",
          "2011-01-01T00:00:00",
          "2011-07-01T00:00:00",
          "2012-01-01T00:00:00",
          "2012-07-01T00:00:00",
          "2013-01-01T00:00:00",
          "2013-07-01T00:00:00",
          "2014-01-01T00:00:00",
          "2014-07-01T00:00:00",
          "2015-01-01T00:00:00",
          "2015-07-01T00:00:00",
          "2016-01-01T00:00:00",
          "2016-07-01T00:00:00",
          "2017-01-01T00:00:00",
          "2017-07-01T00:00:00",
          "2018-01-01T00:00:00",
          "2018-07-01T00:00:00",
          "2019-01-01T00:00:00",
          "2019-07-01T00:00:00",
          "2020-01-01T00:00:00",
          "2020-07-01T00:00:00",
          "2021-01-01T00:00:00",
          "2021-07-01T00:00:00",
          "2022-01-01T00:00:00",
          "2022-07-01T00:00:00",
          "2023-01-01T00:00:00",
          "2023-07-01T00:00:00",
          "2024-01-01T00:00:00",
          "2024-07-01T00:00:00"
         ],
         "xaxis": "x",
         "y": [
          null,
          null,
          null,
          null,
          null,
          null,
          null,
          null,
          null,
          null,
          null,
          null,
          null,
          null,
          null,
          null,
          null,
          null,
          null,
          null,
          null,
          null,
          null,
          null,
          null,
          13.5132,
          14.3209,
          13.2655,
          14.0416,
          13.1977,
          13.9129
         ],
         "yaxis": "y"
        }
       ],
       "layout": {
        "showlegend": true,
        "template": {
         "data": {
          "bar": [
           {
            "error_x": {
             "color": "rgb(51,51,51)"
            },
            "error_y": {
             "color": "rgb(51,51,51)"
            },
            "marker": {
             "line": {
              "color": "rgb(237,237,237)",
              "width": 0.5
             },
             "pattern": {
              "fillmode": "overlay",
              "size": 10,
              "solidity": 0.2
             }
            },
            "type": "bar"
           }
          ],
          "barpolar": [
           {
            "marker": {
             "line": {
              "color": "rgb(237,237,237)",
              "width": 0.5
             },
             "pattern": {
              "fillmode": "overlay",
              "size": 10,
              "solidity": 0.2
             }
            },
            "type": "barpolar"
           }
          ],
          "carpet": [
           {
            "aaxis": {
             "endlinecolor": "rgb(51,51,51)",
             "gridcolor": "white",
             "linecolor": "white",
             "minorgridcolor": "white",
             "startlinecolor": "rgb(51,51,51)"
            },
            "baxis": {
             "endlinecolor": "rgb(51,51,51)",
             "gridcolor": "white",
             "linecolor": "white",
             "minorgridcolor": "white",
             "startlinecolor": "rgb(51,51,51)"
            },
            "type": "carpet"
           }
          ],
          "choropleth": [
           {
            "colorbar": {
             "outlinewidth": 0,
             "tickcolor": "rgb(237,237,237)",
             "ticklen": 6,
             "ticks": "inside"
            },
            "type": "choropleth"
           }
          ],
          "contour": [
           {
            "colorbar": {
             "outlinewidth": 0,
             "tickcolor": "rgb(237,237,237)",
             "ticklen": 6,
             "ticks": "inside"
            },
            "colorscale": [
             [
              0,
              "rgb(20,44,66)"
             ],
             [
              1,
              "rgb(90,179,244)"
             ]
            ],
            "type": "contour"
           }
          ],
          "contourcarpet": [
           {
            "colorbar": {
             "outlinewidth": 0,
             "tickcolor": "rgb(237,237,237)",
             "ticklen": 6,
             "ticks": "inside"
            },
            "type": "contourcarpet"
           }
          ],
          "heatmap": [
           {
            "colorbar": {
             "outlinewidth": 0,
             "tickcolor": "rgb(237,237,237)",
             "ticklen": 6,
             "ticks": "inside"
            },
            "colorscale": [
             [
              0,
              "rgb(20,44,66)"
             ],
             [
              1,
              "rgb(90,179,244)"
             ]
            ],
            "type": "heatmap"
           }
          ],
          "heatmapgl": [
           {
            "colorbar": {
             "outlinewidth": 0,
             "tickcolor": "rgb(237,237,237)",
             "ticklen": 6,
             "ticks": "inside"
            },
            "colorscale": [
             [
              0,
              "rgb(20,44,66)"
             ],
             [
              1,
              "rgb(90,179,244)"
             ]
            ],
            "type": "heatmapgl"
           }
          ],
          "histogram": [
           {
            "marker": {
             "pattern": {
              "fillmode": "overlay",
              "size": 10,
              "solidity": 0.2
             }
            },
            "type": "histogram"
           }
          ],
          "histogram2d": [
           {
            "colorbar": {
             "outlinewidth": 0,
             "tickcolor": "rgb(237,237,237)",
             "ticklen": 6,
             "ticks": "inside"
            },
            "colorscale": [
             [
              0,
              "rgb(20,44,66)"
             ],
             [
              1,
              "rgb(90,179,244)"
             ]
            ],
            "type": "histogram2d"
           }
          ],
          "histogram2dcontour": [
           {
            "colorbar": {
             "outlinewidth": 0,
             "tickcolor": "rgb(237,237,237)",
             "ticklen": 6,
             "ticks": "inside"
            },
            "colorscale": [
             [
              0,
              "rgb(20,44,66)"
             ],
             [
              1,
              "rgb(90,179,244)"
             ]
            ],
            "type": "histogram2dcontour"
           }
          ],
          "mesh3d": [
           {
            "colorbar": {
             "outlinewidth": 0,
             "tickcolor": "rgb(237,237,237)",
             "ticklen": 6,
             "ticks": "inside"
            },
            "type": "mesh3d"
           }
          ],
          "parcoords": [
           {
            "line": {
             "colorbar": {
              "outlinewidth": 0,
              "tickcolor": "rgb(237,237,237)",
              "ticklen": 6,
              "ticks": "inside"
             }
            },
            "type": "parcoords"
           }
          ],
          "pie": [
           {
            "automargin": true,
            "type": "pie"
           }
          ],
          "scatter": [
           {
            "fillpattern": {
             "fillmode": "overlay",
             "size": 10,
             "solidity": 0.2
            },
            "type": "scatter"
           }
          ],
          "scatter3d": [
           {
            "line": {
             "colorbar": {
              "outlinewidth": 0,
              "tickcolor": "rgb(237,237,237)",
              "ticklen": 6,
              "ticks": "inside"
             }
            },
            "marker": {
             "colorbar": {
              "outlinewidth": 0,
              "tickcolor": "rgb(237,237,237)",
              "ticklen": 6,
              "ticks": "inside"
             }
            },
            "type": "scatter3d"
           }
          ],
          "scattercarpet": [
           {
            "marker": {
             "colorbar": {
              "outlinewidth": 0,
              "tickcolor": "rgb(237,237,237)",
              "ticklen": 6,
              "ticks": "inside"
             }
            },
            "type": "scattercarpet"
           }
          ],
          "scattergeo": [
           {
            "marker": {
             "colorbar": {
              "outlinewidth": 0,
              "tickcolor": "rgb(237,237,237)",
              "ticklen": 6,
              "ticks": "inside"
             }
            },
            "type": "scattergeo"
           }
          ],
          "scattergl": [
           {
            "marker": {
             "colorbar": {
              "outlinewidth": 0,
              "tickcolor": "rgb(237,237,237)",
              "ticklen": 6,
              "ticks": "inside"
             }
            },
            "type": "scattergl"
           }
          ],
          "scattermapbox": [
           {
            "marker": {
             "colorbar": {
              "outlinewidth": 0,
              "tickcolor": "rgb(237,237,237)",
              "ticklen": 6,
              "ticks": "inside"
             }
            },
            "type": "scattermapbox"
           }
          ],
          "scatterpolar": [
           {
            "marker": {
             "colorbar": {
              "outlinewidth": 0,
              "tickcolor": "rgb(237,237,237)",
              "ticklen": 6,
              "ticks": "inside"
             }
            },
            "type": "scatterpolar"
           }
          ],
          "scatterpolargl": [
           {
            "marker": {
             "colorbar": {
              "outlinewidth": 0,
              "tickcolor": "rgb(237,237,237)",
              "ticklen": 6,
              "ticks": "inside"
             }
            },
            "type": "scatterpolargl"
           }
          ],
          "scatterternary": [
           {
            "marker": {
             "colorbar": {
              "outlinewidth": 0,
              "tickcolor": "rgb(237,237,237)",
              "ticklen": 6,
              "ticks": "inside"
             }
            },
            "type": "scatterternary"
           }
          ],
          "surface": [
           {
            "colorbar": {
             "outlinewidth": 0,
             "tickcolor": "rgb(237,237,237)",
             "ticklen": 6,
             "ticks": "inside"
            },
            "colorscale": [
             [
              0,
              "rgb(20,44,66)"
             ],
             [
              1,
              "rgb(90,179,244)"
             ]
            ],
            "type": "surface"
           }
          ],
          "table": [
           {
            "cells": {
             "fill": {
              "color": "rgb(237,237,237)"
             },
             "line": {
              "color": "white"
             }
            },
            "header": {
             "fill": {
              "color": "rgb(217,217,217)"
             },
             "line": {
              "color": "white"
             }
            },
            "type": "table"
           }
          ]
         },
         "layout": {
          "annotationdefaults": {
           "arrowhead": 0,
           "arrowwidth": 1
          },
          "autotypenumbers": "strict",
          "coloraxis": {
           "colorbar": {
            "outlinewidth": 0,
            "tickcolor": "rgb(237,237,237)",
            "ticklen": 6,
            "ticks": "inside"
           }
          },
          "colorscale": {
           "sequential": [
            [
             0,
             "rgb(20,44,66)"
            ],
            [
             1,
             "rgb(90,179,244)"
            ]
           ],
           "sequentialminus": [
            [
             0,
             "rgb(20,44,66)"
            ],
            [
             1,
             "rgb(90,179,244)"
            ]
           ]
          },
          "colorway": [
           "#F8766D",
           "#A3A500",
           "#00BF7D",
           "#00B0F6",
           "#E76BF3"
          ],
          "font": {
           "color": "rgb(51,51,51)"
          },
          "geo": {
           "bgcolor": "white",
           "lakecolor": "white",
           "landcolor": "rgb(237,237,237)",
           "showlakes": true,
           "showland": true,
           "subunitcolor": "white"
          },
          "hoverlabel": {
           "align": "left"
          },
          "hovermode": "closest",
          "paper_bgcolor": "white",
          "plot_bgcolor": "rgb(237,237,237)",
          "polar": {
           "angularaxis": {
            "gridcolor": "white",
            "linecolor": "white",
            "showgrid": true,
            "tickcolor": "rgb(51,51,51)",
            "ticks": "outside"
           },
           "bgcolor": "rgb(237,237,237)",
           "radialaxis": {
            "gridcolor": "white",
            "linecolor": "white",
            "showgrid": true,
            "tickcolor": "rgb(51,51,51)",
            "ticks": "outside"
           }
          },
          "scene": {
           "xaxis": {
            "backgroundcolor": "rgb(237,237,237)",
            "gridcolor": "white",
            "gridwidth": 2,
            "linecolor": "white",
            "showbackground": true,
            "showgrid": true,
            "tickcolor": "rgb(51,51,51)",
            "ticks": "outside",
            "zerolinecolor": "white"
           },
           "yaxis": {
            "backgroundcolor": "rgb(237,237,237)",
            "gridcolor": "white",
            "gridwidth": 2,
            "linecolor": "white",
            "showbackground": true,
            "showgrid": true,
            "tickcolor": "rgb(51,51,51)",
            "ticks": "outside",
            "zerolinecolor": "white"
           },
           "zaxis": {
            "backgroundcolor": "rgb(237,237,237)",
            "gridcolor": "white",
            "gridwidth": 2,
            "linecolor": "white",
            "showbackground": true,
            "showgrid": true,
            "tickcolor": "rgb(51,51,51)",
            "ticks": "outside",
            "zerolinecolor": "white"
           }
          },
          "shapedefaults": {
           "fillcolor": "black",
           "line": {
            "width": 0
           },
           "opacity": 0.3
          },
          "ternary": {
           "aaxis": {
            "gridcolor": "white",
            "linecolor": "white",
            "showgrid": true,
            "tickcolor": "rgb(51,51,51)",
            "ticks": "outside"
           },
           "baxis": {
            "gridcolor": "white",
            "linecolor": "white",
            "showgrid": true,
            "tickcolor": "rgb(51,51,51)",
            "ticks": "outside"
           },
           "bgcolor": "rgb(237,237,237)",
           "caxis": {
            "gridcolor": "white",
            "linecolor": "white",
            "showgrid": true,
            "tickcolor": "rgb(51,51,51)",
            "ticks": "outside"
           }
          },
          "xaxis": {
           "automargin": true,
           "gridcolor": "white",
           "linecolor": "white",
           "showgrid": true,
           "tickcolor": "rgb(51,51,51)",
           "ticks": "outside",
           "title": {
            "standoff": 15
           },
           "zerolinecolor": "white"
          },
          "yaxis": {
           "automargin": true,
           "gridcolor": "white",
           "linecolor": "white",
           "showgrid": true,
           "tickcolor": "rgb(51,51,51)",
           "ticks": "outside",
           "title": {
            "standoff": 15
           },
           "zerolinecolor": "white"
          }
         }
        },
        "title": {
         "text": "Actual vs. Forecast (Out-of-Sample)"
        },
        "xaxis": {
         "anchor": "y",
         "domain": [
          0,
          1
         ]
        },
        "yaxis": {
         "anchor": "x",
         "domain": [
          0,
          1
         ]
        }
       }
      }
     },
     "metadata": {},
     "output_type": "display_data"
    }
   ],
   "source": [
    "exp.plot_model([omp_cds_dt, tuned_omp_cds_dt], data_kwargs={\"labels\": [\"Baseline\", \"Tuned\"]})"
   ]
  },
  {
   "cell_type": "code",
   "execution_count": 411,
   "metadata": {},
   "outputs": [
    {
     "data": {
      "text/html": [],
      "text/plain": [
       "<IPython.core.display.HTML object>"
      ]
     },
     "metadata": {},
     "output_type": "display_data"
    },
    {
     "data": {
      "text/html": [
       "<style type=\"text/css\">\n",
       "#T_93c0f_row3_col0, #T_93c0f_row3_col1, #T_93c0f_row3_col2, #T_93c0f_row3_col3, #T_93c0f_row3_col4, #T_93c0f_row3_col5, #T_93c0f_row3_col6, #T_93c0f_row3_col7 {\n",
       "  background: yellow;\n",
       "}\n",
       "</style>\n",
       "<table id=\"T_93c0f\">\n",
       "  <thead>\n",
       "    <tr>\n",
       "      <th class=\"blank level0\" >&nbsp;</th>\n",
       "      <th id=\"T_93c0f_level0_col0\" class=\"col_heading level0 col0\" >cutoff</th>\n",
       "      <th id=\"T_93c0f_level0_col1\" class=\"col_heading level0 col1\" >MASE</th>\n",
       "      <th id=\"T_93c0f_level0_col2\" class=\"col_heading level0 col2\" >RMSSE</th>\n",
       "      <th id=\"T_93c0f_level0_col3\" class=\"col_heading level0 col3\" >MAE</th>\n",
       "      <th id=\"T_93c0f_level0_col4\" class=\"col_heading level0 col4\" >RMSE</th>\n",
       "      <th id=\"T_93c0f_level0_col5\" class=\"col_heading level0 col5\" >MAPE</th>\n",
       "      <th id=\"T_93c0f_level0_col6\" class=\"col_heading level0 col6\" >SMAPE</th>\n",
       "      <th id=\"T_93c0f_level0_col7\" class=\"col_heading level0 col7\" >R2</th>\n",
       "    </tr>\n",
       "  </thead>\n",
       "  <tbody>\n",
       "    <tr>\n",
       "      <th id=\"T_93c0f_level0_row0\" class=\"row_heading level0 row0\" >0</th>\n",
       "      <td id=\"T_93c0f_row0_col0\" class=\"data row0 col0\" >2012Q3</td>\n",
       "      <td id=\"T_93c0f_row0_col1\" class=\"data row0 col1\" >1.1984</td>\n",
       "      <td id=\"T_93c0f_row0_col2\" class=\"data row0 col2\" >1.2660</td>\n",
       "      <td id=\"T_93c0f_row0_col3\" class=\"data row0 col3\" >1.8321</td>\n",
       "      <td id=\"T_93c0f_row0_col4\" class=\"data row0 col4\" >2.1245</td>\n",
       "      <td id=\"T_93c0f_row0_col5\" class=\"data row0 col5\" >0.1266</td>\n",
       "      <td id=\"T_93c0f_row0_col6\" class=\"data row0 col6\" >0.1256</td>\n",
       "      <td id=\"T_93c0f_row0_col7\" class=\"data row0 col7\" >-1.1086</td>\n",
       "    </tr>\n",
       "    <tr>\n",
       "      <th id=\"T_93c0f_level0_row1\" class=\"row_heading level0 row1\" >1</th>\n",
       "      <td id=\"T_93c0f_row1_col0\" class=\"data row1 col0\" >2015Q3</td>\n",
       "      <td id=\"T_93c0f_row1_col1\" class=\"data row1 col1\" >0.4744</td>\n",
       "      <td id=\"T_93c0f_row1_col2\" class=\"data row1 col2\" >0.5133</td>\n",
       "      <td id=\"T_93c0f_row1_col3\" class=\"data row1 col3\" >0.5505</td>\n",
       "      <td id=\"T_93c0f_row1_col4\" class=\"data row1 col4\" >0.6887</td>\n",
       "      <td id=\"T_93c0f_row1_col5\" class=\"data row1 col5\" >0.0420</td>\n",
       "      <td id=\"T_93c0f_row1_col6\" class=\"data row1 col6\" >0.0407</td>\n",
       "      <td id=\"T_93c0f_row1_col7\" class=\"data row1 col7\" >0.5602</td>\n",
       "    </tr>\n",
       "    <tr>\n",
       "      <th id=\"T_93c0f_level0_row2\" class=\"row_heading level0 row2\" >2</th>\n",
       "      <td id=\"T_93c0f_row2_col0\" class=\"data row2 col0\" >2018Q3</td>\n",
       "      <td id=\"T_93c0f_row2_col1\" class=\"data row2 col1\" >1.0106</td>\n",
       "      <td id=\"T_93c0f_row2_col2\" class=\"data row2 col2\" >1.1621</td>\n",
       "      <td id=\"T_93c0f_row2_col3\" class=\"data row2 col3\" >1.1550</td>\n",
       "      <td id=\"T_93c0f_row2_col4\" class=\"data row2 col4\" >1.5328</td>\n",
       "      <td id=\"T_93c0f_row2_col5\" class=\"data row2 col5\" >0.0785</td>\n",
       "      <td id=\"T_93c0f_row2_col6\" class=\"data row2 col6\" >0.0843</td>\n",
       "      <td id=\"T_93c0f_row2_col7\" class=\"data row2 col7\" >-0.2227</td>\n",
       "    </tr>\n",
       "    <tr>\n",
       "      <th id=\"T_93c0f_level0_row3\" class=\"row_heading level0 row3\" >Mean</th>\n",
       "      <td id=\"T_93c0f_row3_col0\" class=\"data row3 col0\" >NaT</td>\n",
       "      <td id=\"T_93c0f_row3_col1\" class=\"data row3 col1\" >0.8945</td>\n",
       "      <td id=\"T_93c0f_row3_col2\" class=\"data row3 col2\" >0.9805</td>\n",
       "      <td id=\"T_93c0f_row3_col3\" class=\"data row3 col3\" >1.1792</td>\n",
       "      <td id=\"T_93c0f_row3_col4\" class=\"data row3 col4\" >1.4487</td>\n",
       "      <td id=\"T_93c0f_row3_col5\" class=\"data row3 col5\" >0.0824</td>\n",
       "      <td id=\"T_93c0f_row3_col6\" class=\"data row3 col6\" >0.0835</td>\n",
       "      <td id=\"T_93c0f_row3_col7\" class=\"data row3 col7\" >-0.2570</td>\n",
       "    </tr>\n",
       "    <tr>\n",
       "      <th id=\"T_93c0f_level0_row4\" class=\"row_heading level0 row4\" >SD</th>\n",
       "      <td id=\"T_93c0f_row4_col0\" class=\"data row4 col0\" >NaT</td>\n",
       "      <td id=\"T_93c0f_row4_col1\" class=\"data row4 col1\" >0.3068</td>\n",
       "      <td id=\"T_93c0f_row4_col2\" class=\"data row4 col2\" >0.3331</td>\n",
       "      <td id=\"T_93c0f_row4_col3\" class=\"data row4 col3\" >0.5235</td>\n",
       "      <td id=\"T_93c0f_row4_col4\" class=\"data row4 col4\" >0.5892</td>\n",
       "      <td id=\"T_93c0f_row4_col5\" class=\"data row4 col5\" >0.0346</td>\n",
       "      <td id=\"T_93c0f_row4_col6\" class=\"data row4 col6\" >0.0347</td>\n",
       "      <td id=\"T_93c0f_row4_col7\" class=\"data row4 col7\" >0.6817</td>\n",
       "    </tr>\n",
       "  </tbody>\n",
       "</table>\n"
      ],
      "text/plain": [
       "<pandas.io.formats.style.Styler at 0x16d33a940>"
      ]
     },
     "metadata": {},
     "output_type": "display_data"
    },
    {
     "data": {
      "text/html": [],
      "text/plain": [
       "<IPython.core.display.HTML object>"
      ]
     },
     "metadata": {},
     "output_type": "display_data"
    },
    {
     "data": {
      "text/html": [
       "<style type=\"text/css\">\n",
       "</style>\n",
       "<table id=\"T_25ffb\">\n",
       "  <thead>\n",
       "    <tr>\n",
       "      <th class=\"blank level0\" >&nbsp;</th>\n",
       "      <th id=\"T_25ffb_level0_col0\" class=\"col_heading level0 col0\" >Model</th>\n",
       "      <th id=\"T_25ffb_level0_col1\" class=\"col_heading level0 col1\" >MASE</th>\n",
       "      <th id=\"T_25ffb_level0_col2\" class=\"col_heading level0 col2\" >RMSSE</th>\n",
       "      <th id=\"T_25ffb_level0_col3\" class=\"col_heading level0 col3\" >MAE</th>\n",
       "      <th id=\"T_25ffb_level0_col4\" class=\"col_heading level0 col4\" >RMSE</th>\n",
       "      <th id=\"T_25ffb_level0_col5\" class=\"col_heading level0 col5\" >MAPE</th>\n",
       "      <th id=\"T_25ffb_level0_col6\" class=\"col_heading level0 col6\" >SMAPE</th>\n",
       "      <th id=\"T_25ffb_level0_col7\" class=\"col_heading level0 col7\" >R2</th>\n",
       "    </tr>\n",
       "  </thead>\n",
       "  <tbody>\n",
       "    <tr>\n",
       "      <th id=\"T_25ffb_level0_row0\" class=\"row_heading level0 row0\" >0</th>\n",
       "      <td id=\"T_25ffb_row0_col0\" class=\"data row0 col0\" >Ridge</td>\n",
       "      <td id=\"T_25ffb_row0_col1\" class=\"data row0 col1\" >0.6053</td>\n",
       "      <td id=\"T_25ffb_row0_col2\" class=\"data row0 col2\" >0.5348</td>\n",
       "      <td id=\"T_25ffb_row0_col3\" class=\"data row0 col3\" >0.6754</td>\n",
       "      <td id=\"T_25ffb_row0_col4\" class=\"data row0 col4\" >0.7007</td>\n",
       "      <td id=\"T_25ffb_row0_col5\" class=\"data row0 col5\" >0.0507</td>\n",
       "      <td id=\"T_25ffb_row0_col6\" class=\"data row0 col6\" >0.0517</td>\n",
       "      <td id=\"T_25ffb_row0_col7\" class=\"data row0 col7\" >0.4243</td>\n",
       "    </tr>\n",
       "  </tbody>\n",
       "</table>\n"
      ],
      "text/plain": [
       "<pandas.io.formats.style.Styler at 0x280191d30>"
      ]
     },
     "metadata": {},
     "output_type": "display_data"
    },
    {
     "data": {
      "application/vnd.plotly.v1+json": {
       "config": {
        "plotlyServerURL": "https://plot.ly"
       },
       "data": [
        {
         "line": {
          "color": "rgb(31, 119, 180)",
          "width": 2
         },
         "marker": {
          "color": "rgb(31, 119, 180)",
          "size": 5
         },
         "mode": "lines+markers",
         "name": "Unemployment_Rate",
         "type": "scattergl",
         "x": [
          "2009-07-01T00:00:00",
          "2010-01-01T00:00:00",
          "2010-07-01T00:00:00",
          "2011-01-01T00:00:00",
          "2011-07-01T00:00:00",
          "2012-01-01T00:00:00",
          "2012-07-01T00:00:00",
          "2013-01-01T00:00:00",
          "2013-07-01T00:00:00",
          "2014-01-01T00:00:00",
          "2014-07-01T00:00:00",
          "2015-01-01T00:00:00",
          "2015-07-01T00:00:00",
          "2016-01-01T00:00:00",
          "2016-07-01T00:00:00",
          "2017-01-01T00:00:00",
          "2017-07-01T00:00:00",
          "2018-01-01T00:00:00",
          "2018-07-01T00:00:00",
          "2019-01-01T00:00:00",
          "2019-07-01T00:00:00",
          "2020-01-01T00:00:00",
          "2020-07-01T00:00:00",
          "2021-01-01T00:00:00",
          "2021-07-01T00:00:00",
          "2022-01-01T00:00:00",
          "2022-07-01T00:00:00",
          "2023-01-01T00:00:00",
          "2023-07-01T00:00:00",
          "2024-01-01T00:00:00",
          "2024-07-01T00:00:00"
         ],
         "xaxis": "x",
         "y": [
          17.14238687901972,
          15.775726707916432,
          15.989462347425771,
          16.851591124698285,
          16.717763415603496,
          14.310062356756935,
          14.5723059746109,
          13.3476811958149,
          15.849200216451232,
          12.565402640695696,
          16.084781044581263,
          14.11539724268468,
          16.397679501557164,
          13.548613123951707,
          14.186108713893296,
          11.812189996775132,
          14.866057832702904,
          12.5799081053059,
          14.163591538115917,
          12.020975928692252,
          13.680974319783642,
          12.22887496390804,
          15.862362395833156,
          14.188898876104474,
          15.018407075494991,
          12.948944225299863,
          14.764916741760771,
          12.265233452406,
          14.177533914667926,
          12.378460471546267,
          12.871909126092456
         ],
         "yaxis": "y"
        },
        {
         "line": {
          "color": "rgb(255, 127, 14)",
          "width": 2
         },
         "marker": {
          "color": "rgb(255, 127, 14)",
          "size": 5
         },
         "mode": "lines+markers",
         "name": "Ridge",
         "type": "scattergl",
         "x": [
          "2009-07-01T00:00:00",
          "2010-01-01T00:00:00",
          "2010-07-01T00:00:00",
          "2011-01-01T00:00:00",
          "2011-07-01T00:00:00",
          "2012-01-01T00:00:00",
          "2012-07-01T00:00:00",
          "2013-01-01T00:00:00",
          "2013-07-01T00:00:00",
          "2014-01-01T00:00:00",
          "2014-07-01T00:00:00",
          "2015-01-01T00:00:00",
          "2015-07-01T00:00:00",
          "2016-01-01T00:00:00",
          "2016-07-01T00:00:00",
          "2017-01-01T00:00:00",
          "2017-07-01T00:00:00",
          "2018-01-01T00:00:00",
          "2018-07-01T00:00:00",
          "2019-01-01T00:00:00",
          "2019-07-01T00:00:00",
          "2020-01-01T00:00:00",
          "2020-07-01T00:00:00",
          "2021-01-01T00:00:00",
          "2021-07-01T00:00:00",
          "2022-01-01T00:00:00",
          "2022-07-01T00:00:00",
          "2023-01-01T00:00:00",
          "2023-07-01T00:00:00",
          "2024-01-01T00:00:00",
          "2024-07-01T00:00:00"
         ],
         "xaxis": "x",
         "y": [
          null,
          null,
          null,
          null,
          null,
          null,
          null,
          null,
          null,
          null,
          null,
          null,
          null,
          null,
          null,
          null,
          null,
          null,
          null,
          null,
          null,
          null,
          null,
          null,
          null,
          12.2644,
          13.7649,
          11.8825,
          13.6045,
          11.623,
          13.5287
         ],
         "yaxis": "y"
        }
       ],
       "layout": {
        "showlegend": true,
        "template": {
         "data": {
          "bar": [
           {
            "error_x": {
             "color": "rgb(51,51,51)"
            },
            "error_y": {
             "color": "rgb(51,51,51)"
            },
            "marker": {
             "line": {
              "color": "rgb(237,237,237)",
              "width": 0.5
             },
             "pattern": {
              "fillmode": "overlay",
              "size": 10,
              "solidity": 0.2
             }
            },
            "type": "bar"
           }
          ],
          "barpolar": [
           {
            "marker": {
             "line": {
              "color": "rgb(237,237,237)",
              "width": 0.5
             },
             "pattern": {
              "fillmode": "overlay",
              "size": 10,
              "solidity": 0.2
             }
            },
            "type": "barpolar"
           }
          ],
          "carpet": [
           {
            "aaxis": {
             "endlinecolor": "rgb(51,51,51)",
             "gridcolor": "white",
             "linecolor": "white",
             "minorgridcolor": "white",
             "startlinecolor": "rgb(51,51,51)"
            },
            "baxis": {
             "endlinecolor": "rgb(51,51,51)",
             "gridcolor": "white",
             "linecolor": "white",
             "minorgridcolor": "white",
             "startlinecolor": "rgb(51,51,51)"
            },
            "type": "carpet"
           }
          ],
          "choropleth": [
           {
            "colorbar": {
             "outlinewidth": 0,
             "tickcolor": "rgb(237,237,237)",
             "ticklen": 6,
             "ticks": "inside"
            },
            "type": "choropleth"
           }
          ],
          "contour": [
           {
            "colorbar": {
             "outlinewidth": 0,
             "tickcolor": "rgb(237,237,237)",
             "ticklen": 6,
             "ticks": "inside"
            },
            "colorscale": [
             [
              0,
              "rgb(20,44,66)"
             ],
             [
              1,
              "rgb(90,179,244)"
             ]
            ],
            "type": "contour"
           }
          ],
          "contourcarpet": [
           {
            "colorbar": {
             "outlinewidth": 0,
             "tickcolor": "rgb(237,237,237)",
             "ticklen": 6,
             "ticks": "inside"
            },
            "type": "contourcarpet"
           }
          ],
          "heatmap": [
           {
            "colorbar": {
             "outlinewidth": 0,
             "tickcolor": "rgb(237,237,237)",
             "ticklen": 6,
             "ticks": "inside"
            },
            "colorscale": [
             [
              0,
              "rgb(20,44,66)"
             ],
             [
              1,
              "rgb(90,179,244)"
             ]
            ],
            "type": "heatmap"
           }
          ],
          "heatmapgl": [
           {
            "colorbar": {
             "outlinewidth": 0,
             "tickcolor": "rgb(237,237,237)",
             "ticklen": 6,
             "ticks": "inside"
            },
            "colorscale": [
             [
              0,
              "rgb(20,44,66)"
             ],
             [
              1,
              "rgb(90,179,244)"
             ]
            ],
            "type": "heatmapgl"
           }
          ],
          "histogram": [
           {
            "marker": {
             "pattern": {
              "fillmode": "overlay",
              "size": 10,
              "solidity": 0.2
             }
            },
            "type": "histogram"
           }
          ],
          "histogram2d": [
           {
            "colorbar": {
             "outlinewidth": 0,
             "tickcolor": "rgb(237,237,237)",
             "ticklen": 6,
             "ticks": "inside"
            },
            "colorscale": [
             [
              0,
              "rgb(20,44,66)"
             ],
             [
              1,
              "rgb(90,179,244)"
             ]
            ],
            "type": "histogram2d"
           }
          ],
          "histogram2dcontour": [
           {
            "colorbar": {
             "outlinewidth": 0,
             "tickcolor": "rgb(237,237,237)",
             "ticklen": 6,
             "ticks": "inside"
            },
            "colorscale": [
             [
              0,
              "rgb(20,44,66)"
             ],
             [
              1,
              "rgb(90,179,244)"
             ]
            ],
            "type": "histogram2dcontour"
           }
          ],
          "mesh3d": [
           {
            "colorbar": {
             "outlinewidth": 0,
             "tickcolor": "rgb(237,237,237)",
             "ticklen": 6,
             "ticks": "inside"
            },
            "type": "mesh3d"
           }
          ],
          "parcoords": [
           {
            "line": {
             "colorbar": {
              "outlinewidth": 0,
              "tickcolor": "rgb(237,237,237)",
              "ticklen": 6,
              "ticks": "inside"
             }
            },
            "type": "parcoords"
           }
          ],
          "pie": [
           {
            "automargin": true,
            "type": "pie"
           }
          ],
          "scatter": [
           {
            "fillpattern": {
             "fillmode": "overlay",
             "size": 10,
             "solidity": 0.2
            },
            "type": "scatter"
           }
          ],
          "scatter3d": [
           {
            "line": {
             "colorbar": {
              "outlinewidth": 0,
              "tickcolor": "rgb(237,237,237)",
              "ticklen": 6,
              "ticks": "inside"
             }
            },
            "marker": {
             "colorbar": {
              "outlinewidth": 0,
              "tickcolor": "rgb(237,237,237)",
              "ticklen": 6,
              "ticks": "inside"
             }
            },
            "type": "scatter3d"
           }
          ],
          "scattercarpet": [
           {
            "marker": {
             "colorbar": {
              "outlinewidth": 0,
              "tickcolor": "rgb(237,237,237)",
              "ticklen": 6,
              "ticks": "inside"
             }
            },
            "type": "scattercarpet"
           }
          ],
          "scattergeo": [
           {
            "marker": {
             "colorbar": {
              "outlinewidth": 0,
              "tickcolor": "rgb(237,237,237)",
              "ticklen": 6,
              "ticks": "inside"
             }
            },
            "type": "scattergeo"
           }
          ],
          "scattergl": [
           {
            "marker": {
             "colorbar": {
              "outlinewidth": 0,
              "tickcolor": "rgb(237,237,237)",
              "ticklen": 6,
              "ticks": "inside"
             }
            },
            "type": "scattergl"
           }
          ],
          "scattermapbox": [
           {
            "marker": {
             "colorbar": {
              "outlinewidth": 0,
              "tickcolor": "rgb(237,237,237)",
              "ticklen": 6,
              "ticks": "inside"
             }
            },
            "type": "scattermapbox"
           }
          ],
          "scatterpolar": [
           {
            "marker": {
             "colorbar": {
              "outlinewidth": 0,
              "tickcolor": "rgb(237,237,237)",
              "ticklen": 6,
              "ticks": "inside"
             }
            },
            "type": "scatterpolar"
           }
          ],
          "scatterpolargl": [
           {
            "marker": {
             "colorbar": {
              "outlinewidth": 0,
              "tickcolor": "rgb(237,237,237)",
              "ticklen": 6,
              "ticks": "inside"
             }
            },
            "type": "scatterpolargl"
           }
          ],
          "scatterternary": [
           {
            "marker": {
             "colorbar": {
              "outlinewidth": 0,
              "tickcolor": "rgb(237,237,237)",
              "ticklen": 6,
              "ticks": "inside"
             }
            },
            "type": "scatterternary"
           }
          ],
          "surface": [
           {
            "colorbar": {
             "outlinewidth": 0,
             "tickcolor": "rgb(237,237,237)",
             "ticklen": 6,
             "ticks": "inside"
            },
            "colorscale": [
             [
              0,
              "rgb(20,44,66)"
             ],
             [
              1,
              "rgb(90,179,244)"
             ]
            ],
            "type": "surface"
           }
          ],
          "table": [
           {
            "cells": {
             "fill": {
              "color": "rgb(237,237,237)"
             },
             "line": {
              "color": "white"
             }
            },
            "header": {
             "fill": {
              "color": "rgb(217,217,217)"
             },
             "line": {
              "color": "white"
             }
            },
            "type": "table"
           }
          ]
         },
         "layout": {
          "annotationdefaults": {
           "arrowhead": 0,
           "arrowwidth": 1
          },
          "autotypenumbers": "strict",
          "coloraxis": {
           "colorbar": {
            "outlinewidth": 0,
            "tickcolor": "rgb(237,237,237)",
            "ticklen": 6,
            "ticks": "inside"
           }
          },
          "colorscale": {
           "sequential": [
            [
             0,
             "rgb(20,44,66)"
            ],
            [
             1,
             "rgb(90,179,244)"
            ]
           ],
           "sequentialminus": [
            [
             0,
             "rgb(20,44,66)"
            ],
            [
             1,
             "rgb(90,179,244)"
            ]
           ]
          },
          "colorway": [
           "#F8766D",
           "#A3A500",
           "#00BF7D",
           "#00B0F6",
           "#E76BF3"
          ],
          "font": {
           "color": "rgb(51,51,51)"
          },
          "geo": {
           "bgcolor": "white",
           "lakecolor": "white",
           "landcolor": "rgb(237,237,237)",
           "showlakes": true,
           "showland": true,
           "subunitcolor": "white"
          },
          "hoverlabel": {
           "align": "left"
          },
          "hovermode": "closest",
          "paper_bgcolor": "white",
          "plot_bgcolor": "rgb(237,237,237)",
          "polar": {
           "angularaxis": {
            "gridcolor": "white",
            "linecolor": "white",
            "showgrid": true,
            "tickcolor": "rgb(51,51,51)",
            "ticks": "outside"
           },
           "bgcolor": "rgb(237,237,237)",
           "radialaxis": {
            "gridcolor": "white",
            "linecolor": "white",
            "showgrid": true,
            "tickcolor": "rgb(51,51,51)",
            "ticks": "outside"
           }
          },
          "scene": {
           "xaxis": {
            "backgroundcolor": "rgb(237,237,237)",
            "gridcolor": "white",
            "gridwidth": 2,
            "linecolor": "white",
            "showbackground": true,
            "showgrid": true,
            "tickcolor": "rgb(51,51,51)",
            "ticks": "outside",
            "zerolinecolor": "white"
           },
           "yaxis": {
            "backgroundcolor": "rgb(237,237,237)",
            "gridcolor": "white",
            "gridwidth": 2,
            "linecolor": "white",
            "showbackground": true,
            "showgrid": true,
            "tickcolor": "rgb(51,51,51)",
            "ticks": "outside",
            "zerolinecolor": "white"
           },
           "zaxis": {
            "backgroundcolor": "rgb(237,237,237)",
            "gridcolor": "white",
            "gridwidth": 2,
            "linecolor": "white",
            "showbackground": true,
            "showgrid": true,
            "tickcolor": "rgb(51,51,51)",
            "ticks": "outside",
            "zerolinecolor": "white"
           }
          },
          "shapedefaults": {
           "fillcolor": "black",
           "line": {
            "width": 0
           },
           "opacity": 0.3
          },
          "ternary": {
           "aaxis": {
            "gridcolor": "white",
            "linecolor": "white",
            "showgrid": true,
            "tickcolor": "rgb(51,51,51)",
            "ticks": "outside"
           },
           "baxis": {
            "gridcolor": "white",
            "linecolor": "white",
            "showgrid": true,
            "tickcolor": "rgb(51,51,51)",
            "ticks": "outside"
           },
           "bgcolor": "rgb(237,237,237)",
           "caxis": {
            "gridcolor": "white",
            "linecolor": "white",
            "showgrid": true,
            "tickcolor": "rgb(51,51,51)",
            "ticks": "outside"
           }
          },
          "xaxis": {
           "automargin": true,
           "gridcolor": "white",
           "linecolor": "white",
           "showgrid": true,
           "tickcolor": "rgb(51,51,51)",
           "ticks": "outside",
           "title": {
            "standoff": 15
           },
           "zerolinecolor": "white"
          },
          "yaxis": {
           "automargin": true,
           "gridcolor": "white",
           "linecolor": "white",
           "showgrid": true,
           "tickcolor": "rgb(51,51,51)",
           "ticks": "outside",
           "title": {
            "standoff": 15
           },
           "zerolinecolor": "white"
          }
         }
        },
        "title": {
         "text": "Actual vs. Forecast (Out-of-Sample)"
        },
        "xaxis": {
         "anchor": "y",
         "domain": [
          0,
          1
         ]
        },
        "yaxis": {
         "anchor": "x",
         "domain": [
          0,
          1
         ]
        }
       }
      }
     },
     "metadata": {},
     "output_type": "display_data"
    }
   ],
   "source": [
    "ridge_cds_dt= exp.create_model('ridge_cds_dt')\n",
    "y_predict_ridge_cds_dt = exp.predict_model(ridge_cds_dt)\n",
    "exp.plot_model(estimator=ridge_cds_dt)"
   ]
  },
  {
   "cell_type": "code",
   "execution_count": 412,
   "metadata": {},
   "outputs": [
    {
     "data": {
      "text/html": [],
      "text/plain": [
       "<IPython.core.display.HTML object>"
      ]
     },
     "metadata": {},
     "output_type": "display_data"
    },
    {
     "data": {
      "text/html": [
       "<style type=\"text/css\">\n",
       "#T_04a26_row3_col0, #T_04a26_row3_col1, #T_04a26_row3_col2, #T_04a26_row3_col3, #T_04a26_row3_col4, #T_04a26_row3_col5, #T_04a26_row3_col6, #T_04a26_row3_col7 {\n",
       "  background: yellow;\n",
       "}\n",
       "</style>\n",
       "<table id=\"T_04a26\">\n",
       "  <thead>\n",
       "    <tr>\n",
       "      <th class=\"blank level0\" >&nbsp;</th>\n",
       "      <th id=\"T_04a26_level0_col0\" class=\"col_heading level0 col0\" >cutoff</th>\n",
       "      <th id=\"T_04a26_level0_col1\" class=\"col_heading level0 col1\" >MASE</th>\n",
       "      <th id=\"T_04a26_level0_col2\" class=\"col_heading level0 col2\" >RMSSE</th>\n",
       "      <th id=\"T_04a26_level0_col3\" class=\"col_heading level0 col3\" >MAE</th>\n",
       "      <th id=\"T_04a26_level0_col4\" class=\"col_heading level0 col4\" >RMSE</th>\n",
       "      <th id=\"T_04a26_level0_col5\" class=\"col_heading level0 col5\" >MAPE</th>\n",
       "      <th id=\"T_04a26_level0_col6\" class=\"col_heading level0 col6\" >SMAPE</th>\n",
       "      <th id=\"T_04a26_level0_col7\" class=\"col_heading level0 col7\" >R2</th>\n",
       "    </tr>\n",
       "  </thead>\n",
       "  <tbody>\n",
       "    <tr>\n",
       "      <th id=\"T_04a26_level0_row0\" class=\"row_heading level0 row0\" >0</th>\n",
       "      <td id=\"T_04a26_row0_col0\" class=\"data row0 col0\" >2012Q3</td>\n",
       "      <td id=\"T_04a26_row0_col1\" class=\"data row0 col1\" >1.1847</td>\n",
       "      <td id=\"T_04a26_row0_col2\" class=\"data row0 col2\" >1.2264</td>\n",
       "      <td id=\"T_04a26_row0_col3\" class=\"data row0 col3\" >1.8111</td>\n",
       "      <td id=\"T_04a26_row0_col4\" class=\"data row0 col4\" >2.0581</td>\n",
       "      <td id=\"T_04a26_row0_col5\" class=\"data row0 col5\" >0.1217</td>\n",
       "      <td id=\"T_04a26_row0_col6\" class=\"data row0 col6\" >0.1251</td>\n",
       "      <td id=\"T_04a26_row0_col7\" class=\"data row0 col7\" >-0.9788</td>\n",
       "    </tr>\n",
       "    <tr>\n",
       "      <th id=\"T_04a26_level0_row1\" class=\"row_heading level0 row1\" >1</th>\n",
       "      <td id=\"T_04a26_row1_col0\" class=\"data row1 col0\" >2015Q3</td>\n",
       "      <td id=\"T_04a26_row1_col1\" class=\"data row1 col1\" >0.4332</td>\n",
       "      <td id=\"T_04a26_row1_col2\" class=\"data row1 col2\" >0.4939</td>\n",
       "      <td id=\"T_04a26_row1_col3\" class=\"data row1 col3\" >0.5026</td>\n",
       "      <td id=\"T_04a26_row1_col4\" class=\"data row1 col4\" >0.6627</td>\n",
       "      <td id=\"T_04a26_row1_col5\" class=\"data row1 col5\" >0.0390</td>\n",
       "      <td id=\"T_04a26_row1_col6\" class=\"data row1 col6\" >0.0377</td>\n",
       "      <td id=\"T_04a26_row1_col7\" class=\"data row1 col7\" >0.5928</td>\n",
       "    </tr>\n",
       "    <tr>\n",
       "      <th id=\"T_04a26_level0_row2\" class=\"row_heading level0 row2\" >2</th>\n",
       "      <td id=\"T_04a26_row2_col0\" class=\"data row2 col0\" >2018Q3</td>\n",
       "      <td id=\"T_04a26_row2_col1\" class=\"data row2 col1\" >1.1051</td>\n",
       "      <td id=\"T_04a26_row2_col2\" class=\"data row2 col2\" >1.2734</td>\n",
       "      <td id=\"T_04a26_row2_col3\" class=\"data row2 col3\" >1.2630</td>\n",
       "      <td id=\"T_04a26_row2_col4\" class=\"data row2 col4\" >1.6797</td>\n",
       "      <td id=\"T_04a26_row2_col5\" class=\"data row2 col5\" >0.0856</td>\n",
       "      <td id=\"T_04a26_row2_col6\" class=\"data row2 col6\" >0.0924</td>\n",
       "      <td id=\"T_04a26_row2_col7\" class=\"data row2 col7\" >-0.4682</td>\n",
       "    </tr>\n",
       "    <tr>\n",
       "      <th id=\"T_04a26_level0_row3\" class=\"row_heading level0 row3\" >Mean</th>\n",
       "      <td id=\"T_04a26_row3_col0\" class=\"data row3 col0\" >NaT</td>\n",
       "      <td id=\"T_04a26_row3_col1\" class=\"data row3 col1\" >0.9076</td>\n",
       "      <td id=\"T_04a26_row3_col2\" class=\"data row3 col2\" >0.9979</td>\n",
       "      <td id=\"T_04a26_row3_col3\" class=\"data row3 col3\" >1.1922</td>\n",
       "      <td id=\"T_04a26_row3_col4\" class=\"data row3 col4\" >1.4668</td>\n",
       "      <td id=\"T_04a26_row3_col5\" class=\"data row3 col5\" >0.0821</td>\n",
       "      <td id=\"T_04a26_row3_col6\" class=\"data row3 col6\" >0.0851</td>\n",
       "      <td id=\"T_04a26_row3_col7\" class=\"data row3 col7\" >-0.2847</td>\n",
       "    </tr>\n",
       "    <tr>\n",
       "      <th id=\"T_04a26_level0_row4\" class=\"row_heading level0 row4\" >SD</th>\n",
       "      <td id=\"T_04a26_row4_col0\" class=\"data row4 col0\" >NaT</td>\n",
       "      <td id=\"T_04a26_row4_col1\" class=\"data row4 col1\" >0.3371</td>\n",
       "      <td id=\"T_04a26_row4_col2\" class=\"data row4 col2\" >0.3569</td>\n",
       "      <td id=\"T_04a26_row4_col3\" class=\"data row4 col3\" >0.5365</td>\n",
       "      <td id=\"T_04a26_row4_col4\" class=\"data row4 col4\" >0.5892</td>\n",
       "      <td id=\"T_04a26_row4_col5\" class=\"data row4 col5\" >0.0338</td>\n",
       "      <td id=\"T_04a26_row4_col6\" class=\"data row4 col6\" >0.0361</td>\n",
       "      <td id=\"T_04a26_row4_col7\" class=\"data row4 col7\" >0.6546</td>\n",
       "    </tr>\n",
       "  </tbody>\n",
       "</table>\n"
      ],
      "text/plain": [
       "<pandas.io.formats.style.Styler at 0x16d340880>"
      ]
     },
     "metadata": {},
     "output_type": "display_data"
    },
    {
     "data": {
      "text/html": [],
      "text/plain": [
       "<IPython.core.display.HTML object>"
      ]
     },
     "metadata": {},
     "output_type": "display_data"
    },
    {
     "name": "stdout",
     "output_type": "stream",
     "text": [
      "Fitting 3 folds for each of 20 candidates, totalling 60 fits\n"
     ]
    },
    {
     "name": "stderr",
     "output_type": "stream",
     "text": [
      "[Parallel(n_jobs=-1)]: Using backend LokyBackend with 8 concurrent workers.\n",
      "[Parallel(n_jobs=-1)]: Done  34 tasks      | elapsed:    0.8s\n",
      "[Parallel(n_jobs=-1)]: Done  60 out of  60 | elapsed:    1.3s finished\n"
     ]
    },
    {
     "data": {
      "text/html": [
       "<style type=\"text/css\">\n",
       "</style>\n",
       "<table id=\"T_daf14\">\n",
       "  <thead>\n",
       "    <tr>\n",
       "      <th class=\"blank level0\" >&nbsp;</th>\n",
       "      <th id=\"T_daf14_level0_col0\" class=\"col_heading level0 col0\" >Model</th>\n",
       "      <th id=\"T_daf14_level0_col1\" class=\"col_heading level0 col1\" >MASE</th>\n",
       "      <th id=\"T_daf14_level0_col2\" class=\"col_heading level0 col2\" >RMSSE</th>\n",
       "      <th id=\"T_daf14_level0_col3\" class=\"col_heading level0 col3\" >MAE</th>\n",
       "      <th id=\"T_daf14_level0_col4\" class=\"col_heading level0 col4\" >RMSE</th>\n",
       "      <th id=\"T_daf14_level0_col5\" class=\"col_heading level0 col5\" >MAPE</th>\n",
       "      <th id=\"T_daf14_level0_col6\" class=\"col_heading level0 col6\" >SMAPE</th>\n",
       "      <th id=\"T_daf14_level0_col7\" class=\"col_heading level0 col7\" >R2</th>\n",
       "    </tr>\n",
       "  </thead>\n",
       "  <tbody>\n",
       "    <tr>\n",
       "      <th id=\"T_daf14_level0_row0\" class=\"row_heading level0 row0\" >0</th>\n",
       "      <td id=\"T_daf14_row0_col0\" class=\"data row0 col0\" >Ridge</td>\n",
       "      <td id=\"T_daf14_row0_col1\" class=\"data row0 col1\" >0.6053</td>\n",
       "      <td id=\"T_daf14_row0_col2\" class=\"data row0 col2\" >0.5348</td>\n",
       "      <td id=\"T_daf14_row0_col3\" class=\"data row0 col3\" >0.6754</td>\n",
       "      <td id=\"T_daf14_row0_col4\" class=\"data row0 col4\" >0.7007</td>\n",
       "      <td id=\"T_daf14_row0_col5\" class=\"data row0 col5\" >0.0507</td>\n",
       "      <td id=\"T_daf14_row0_col6\" class=\"data row0 col6\" >0.0517</td>\n",
       "      <td id=\"T_daf14_row0_col7\" class=\"data row0 col7\" >0.4243</td>\n",
       "    </tr>\n",
       "  </tbody>\n",
       "</table>\n"
      ],
      "text/plain": [
       "<pandas.io.formats.style.Styler at 0x176f86580>"
      ]
     },
     "metadata": {},
     "output_type": "display_data"
    },
    {
     "data": {
      "text/html": [
       "<div>\n",
       "<style scoped>\n",
       "    .dataframe tbody tr th:only-of-type {\n",
       "        vertical-align: middle;\n",
       "    }\n",
       "\n",
       "    .dataframe tbody tr th {\n",
       "        vertical-align: top;\n",
       "    }\n",
       "\n",
       "    .dataframe thead th {\n",
       "        text-align: right;\n",
       "    }\n",
       "</style>\n",
       "<table border=\"1\" class=\"dataframe\">\n",
       "  <thead>\n",
       "    <tr style=\"text-align: right;\">\n",
       "      <th></th>\n",
       "      <th>y_pred</th>\n",
       "    </tr>\n",
       "  </thead>\n",
       "  <tbody>\n",
       "    <tr>\n",
       "      <th>2022Q1</th>\n",
       "      <td>12.2644</td>\n",
       "    </tr>\n",
       "    <tr>\n",
       "      <th>2022Q3</th>\n",
       "      <td>13.7649</td>\n",
       "    </tr>\n",
       "    <tr>\n",
       "      <th>2023Q1</th>\n",
       "      <td>11.8825</td>\n",
       "    </tr>\n",
       "    <tr>\n",
       "      <th>2023Q3</th>\n",
       "      <td>13.6045</td>\n",
       "    </tr>\n",
       "    <tr>\n",
       "      <th>2024Q1</th>\n",
       "      <td>11.6230</td>\n",
       "    </tr>\n",
       "    <tr>\n",
       "      <th>2024Q3</th>\n",
       "      <td>13.5287</td>\n",
       "    </tr>\n",
       "  </tbody>\n",
       "</table>\n",
       "</div>"
      ],
      "text/plain": [
       "         y_pred\n",
       "2022Q1  12.2644\n",
       "2022Q3  13.7649\n",
       "2023Q1  11.8825\n",
       "2023Q3  13.6045\n",
       "2024Q1  11.6230\n",
       "2024Q3  13.5287"
      ]
     },
     "execution_count": 412,
     "metadata": {},
     "output_type": "execute_result"
    }
   ],
   "source": [
    "tuned_ridge_cds_dt = tune_model(ridge_cds_dt, n_iter=20, optimize='MASE')\n",
    "exp.predict_model(tuned_ridge_cds_dt)"
   ]
  },
  {
   "cell_type": "code",
   "execution_count": 413,
   "metadata": {},
   "outputs": [
    {
     "data": {
      "application/vnd.plotly.v1+json": {
       "config": {
        "plotlyServerURL": "https://plot.ly"
       },
       "data": [
        {
         "line": {
          "color": "rgb(31, 119, 180)",
          "width": 2
         },
         "marker": {
          "color": "rgb(31, 119, 180)",
          "size": 5
         },
         "mode": "lines+markers",
         "name": "Unemployment_Rate",
         "type": "scattergl",
         "x": [
          "2009-07-01T00:00:00",
          "2010-01-01T00:00:00",
          "2010-07-01T00:00:00",
          "2011-01-01T00:00:00",
          "2011-07-01T00:00:00",
          "2012-01-01T00:00:00",
          "2012-07-01T00:00:00",
          "2013-01-01T00:00:00",
          "2013-07-01T00:00:00",
          "2014-01-01T00:00:00",
          "2014-07-01T00:00:00",
          "2015-01-01T00:00:00",
          "2015-07-01T00:00:00",
          "2016-01-01T00:00:00",
          "2016-07-01T00:00:00",
          "2017-01-01T00:00:00",
          "2017-07-01T00:00:00",
          "2018-01-01T00:00:00",
          "2018-07-01T00:00:00",
          "2019-01-01T00:00:00",
          "2019-07-01T00:00:00",
          "2020-01-01T00:00:00",
          "2020-07-01T00:00:00",
          "2021-01-01T00:00:00",
          "2021-07-01T00:00:00",
          "2022-01-01T00:00:00",
          "2022-07-01T00:00:00",
          "2023-01-01T00:00:00",
          "2023-07-01T00:00:00",
          "2024-01-01T00:00:00",
          "2024-07-01T00:00:00"
         ],
         "xaxis": "x",
         "y": [
          17.14238687901972,
          15.775726707916432,
          15.989462347425771,
          16.851591124698285,
          16.717763415603496,
          14.310062356756935,
          14.5723059746109,
          13.3476811958149,
          15.849200216451232,
          12.565402640695696,
          16.084781044581263,
          14.11539724268468,
          16.397679501557164,
          13.548613123951707,
          14.186108713893296,
          11.812189996775132,
          14.866057832702904,
          12.5799081053059,
          14.163591538115917,
          12.020975928692252,
          13.680974319783642,
          12.22887496390804,
          15.862362395833156,
          14.188898876104474,
          15.018407075494991,
          12.948944225299863,
          14.764916741760771,
          12.265233452406,
          14.177533914667926,
          12.378460471546267,
          12.871909126092456
         ],
         "yaxis": "y"
        },
        {
         "line": {
          "color": "rgb(255, 127, 14)",
          "width": 2
         },
         "marker": {
          "color": "rgb(255, 127, 14)",
          "size": 5
         },
         "mode": "lines+markers",
         "name": "Ridge",
         "type": "scattergl",
         "x": [
          "2009-07-01T00:00:00",
          "2010-01-01T00:00:00",
          "2010-07-01T00:00:00",
          "2011-01-01T00:00:00",
          "2011-07-01T00:00:00",
          "2012-01-01T00:00:00",
          "2012-07-01T00:00:00",
          "2013-01-01T00:00:00",
          "2013-07-01T00:00:00",
          "2014-01-01T00:00:00",
          "2014-07-01T00:00:00",
          "2015-01-01T00:00:00",
          "2015-07-01T00:00:00",
          "2016-01-01T00:00:00",
          "2016-07-01T00:00:00",
          "2017-01-01T00:00:00",
          "2017-07-01T00:00:00",
          "2018-01-01T00:00:00",
          "2018-07-01T00:00:00",
          "2019-01-01T00:00:00",
          "2019-07-01T00:00:00",
          "2020-01-01T00:00:00",
          "2020-07-01T00:00:00",
          "2021-01-01T00:00:00",
          "2021-07-01T00:00:00",
          "2022-01-01T00:00:00",
          "2022-07-01T00:00:00",
          "2023-01-01T00:00:00",
          "2023-07-01T00:00:00",
          "2024-01-01T00:00:00",
          "2024-07-01T00:00:00"
         ],
         "xaxis": "x",
         "y": [
          null,
          null,
          null,
          null,
          null,
          null,
          null,
          null,
          null,
          null,
          null,
          null,
          null,
          null,
          null,
          null,
          null,
          null,
          null,
          null,
          null,
          null,
          null,
          null,
          null,
          12.2644,
          13.7649,
          11.8825,
          13.6045,
          11.623,
          13.5287
         ],
         "yaxis": "y"
        }
       ],
       "layout": {
        "showlegend": true,
        "template": {
         "data": {
          "bar": [
           {
            "error_x": {
             "color": "rgb(51,51,51)"
            },
            "error_y": {
             "color": "rgb(51,51,51)"
            },
            "marker": {
             "line": {
              "color": "rgb(237,237,237)",
              "width": 0.5
             },
             "pattern": {
              "fillmode": "overlay",
              "size": 10,
              "solidity": 0.2
             }
            },
            "type": "bar"
           }
          ],
          "barpolar": [
           {
            "marker": {
             "line": {
              "color": "rgb(237,237,237)",
              "width": 0.5
             },
             "pattern": {
              "fillmode": "overlay",
              "size": 10,
              "solidity": 0.2
             }
            },
            "type": "barpolar"
           }
          ],
          "carpet": [
           {
            "aaxis": {
             "endlinecolor": "rgb(51,51,51)",
             "gridcolor": "white",
             "linecolor": "white",
             "minorgridcolor": "white",
             "startlinecolor": "rgb(51,51,51)"
            },
            "baxis": {
             "endlinecolor": "rgb(51,51,51)",
             "gridcolor": "white",
             "linecolor": "white",
             "minorgridcolor": "white",
             "startlinecolor": "rgb(51,51,51)"
            },
            "type": "carpet"
           }
          ],
          "choropleth": [
           {
            "colorbar": {
             "outlinewidth": 0,
             "tickcolor": "rgb(237,237,237)",
             "ticklen": 6,
             "ticks": "inside"
            },
            "type": "choropleth"
           }
          ],
          "contour": [
           {
            "colorbar": {
             "outlinewidth": 0,
             "tickcolor": "rgb(237,237,237)",
             "ticklen": 6,
             "ticks": "inside"
            },
            "colorscale": [
             [
              0,
              "rgb(20,44,66)"
             ],
             [
              1,
              "rgb(90,179,244)"
             ]
            ],
            "type": "contour"
           }
          ],
          "contourcarpet": [
           {
            "colorbar": {
             "outlinewidth": 0,
             "tickcolor": "rgb(237,237,237)",
             "ticklen": 6,
             "ticks": "inside"
            },
            "type": "contourcarpet"
           }
          ],
          "heatmap": [
           {
            "colorbar": {
             "outlinewidth": 0,
             "tickcolor": "rgb(237,237,237)",
             "ticklen": 6,
             "ticks": "inside"
            },
            "colorscale": [
             [
              0,
              "rgb(20,44,66)"
             ],
             [
              1,
              "rgb(90,179,244)"
             ]
            ],
            "type": "heatmap"
           }
          ],
          "heatmapgl": [
           {
            "colorbar": {
             "outlinewidth": 0,
             "tickcolor": "rgb(237,237,237)",
             "ticklen": 6,
             "ticks": "inside"
            },
            "colorscale": [
             [
              0,
              "rgb(20,44,66)"
             ],
             [
              1,
              "rgb(90,179,244)"
             ]
            ],
            "type": "heatmapgl"
           }
          ],
          "histogram": [
           {
            "marker": {
             "pattern": {
              "fillmode": "overlay",
              "size": 10,
              "solidity": 0.2
             }
            },
            "type": "histogram"
           }
          ],
          "histogram2d": [
           {
            "colorbar": {
             "outlinewidth": 0,
             "tickcolor": "rgb(237,237,237)",
             "ticklen": 6,
             "ticks": "inside"
            },
            "colorscale": [
             [
              0,
              "rgb(20,44,66)"
             ],
             [
              1,
              "rgb(90,179,244)"
             ]
            ],
            "type": "histogram2d"
           }
          ],
          "histogram2dcontour": [
           {
            "colorbar": {
             "outlinewidth": 0,
             "tickcolor": "rgb(237,237,237)",
             "ticklen": 6,
             "ticks": "inside"
            },
            "colorscale": [
             [
              0,
              "rgb(20,44,66)"
             ],
             [
              1,
              "rgb(90,179,244)"
             ]
            ],
            "type": "histogram2dcontour"
           }
          ],
          "mesh3d": [
           {
            "colorbar": {
             "outlinewidth": 0,
             "tickcolor": "rgb(237,237,237)",
             "ticklen": 6,
             "ticks": "inside"
            },
            "type": "mesh3d"
           }
          ],
          "parcoords": [
           {
            "line": {
             "colorbar": {
              "outlinewidth": 0,
              "tickcolor": "rgb(237,237,237)",
              "ticklen": 6,
              "ticks": "inside"
             }
            },
            "type": "parcoords"
           }
          ],
          "pie": [
           {
            "automargin": true,
            "type": "pie"
           }
          ],
          "scatter": [
           {
            "fillpattern": {
             "fillmode": "overlay",
             "size": 10,
             "solidity": 0.2
            },
            "type": "scatter"
           }
          ],
          "scatter3d": [
           {
            "line": {
             "colorbar": {
              "outlinewidth": 0,
              "tickcolor": "rgb(237,237,237)",
              "ticklen": 6,
              "ticks": "inside"
             }
            },
            "marker": {
             "colorbar": {
              "outlinewidth": 0,
              "tickcolor": "rgb(237,237,237)",
              "ticklen": 6,
              "ticks": "inside"
             }
            },
            "type": "scatter3d"
           }
          ],
          "scattercarpet": [
           {
            "marker": {
             "colorbar": {
              "outlinewidth": 0,
              "tickcolor": "rgb(237,237,237)",
              "ticklen": 6,
              "ticks": "inside"
             }
            },
            "type": "scattercarpet"
           }
          ],
          "scattergeo": [
           {
            "marker": {
             "colorbar": {
              "outlinewidth": 0,
              "tickcolor": "rgb(237,237,237)",
              "ticklen": 6,
              "ticks": "inside"
             }
            },
            "type": "scattergeo"
           }
          ],
          "scattergl": [
           {
            "marker": {
             "colorbar": {
              "outlinewidth": 0,
              "tickcolor": "rgb(237,237,237)",
              "ticklen": 6,
              "ticks": "inside"
             }
            },
            "type": "scattergl"
           }
          ],
          "scattermapbox": [
           {
            "marker": {
             "colorbar": {
              "outlinewidth": 0,
              "tickcolor": "rgb(237,237,237)",
              "ticklen": 6,
              "ticks": "inside"
             }
            },
            "type": "scattermapbox"
           }
          ],
          "scatterpolar": [
           {
            "marker": {
             "colorbar": {
              "outlinewidth": 0,
              "tickcolor": "rgb(237,237,237)",
              "ticklen": 6,
              "ticks": "inside"
             }
            },
            "type": "scatterpolar"
           }
          ],
          "scatterpolargl": [
           {
            "marker": {
             "colorbar": {
              "outlinewidth": 0,
              "tickcolor": "rgb(237,237,237)",
              "ticklen": 6,
              "ticks": "inside"
             }
            },
            "type": "scatterpolargl"
           }
          ],
          "scatterternary": [
           {
            "marker": {
             "colorbar": {
              "outlinewidth": 0,
              "tickcolor": "rgb(237,237,237)",
              "ticklen": 6,
              "ticks": "inside"
             }
            },
            "type": "scatterternary"
           }
          ],
          "surface": [
           {
            "colorbar": {
             "outlinewidth": 0,
             "tickcolor": "rgb(237,237,237)",
             "ticklen": 6,
             "ticks": "inside"
            },
            "colorscale": [
             [
              0,
              "rgb(20,44,66)"
             ],
             [
              1,
              "rgb(90,179,244)"
             ]
            ],
            "type": "surface"
           }
          ],
          "table": [
           {
            "cells": {
             "fill": {
              "color": "rgb(237,237,237)"
             },
             "line": {
              "color": "white"
             }
            },
            "header": {
             "fill": {
              "color": "rgb(217,217,217)"
             },
             "line": {
              "color": "white"
             }
            },
            "type": "table"
           }
          ]
         },
         "layout": {
          "annotationdefaults": {
           "arrowhead": 0,
           "arrowwidth": 1
          },
          "autotypenumbers": "strict",
          "coloraxis": {
           "colorbar": {
            "outlinewidth": 0,
            "tickcolor": "rgb(237,237,237)",
            "ticklen": 6,
            "ticks": "inside"
           }
          },
          "colorscale": {
           "sequential": [
            [
             0,
             "rgb(20,44,66)"
            ],
            [
             1,
             "rgb(90,179,244)"
            ]
           ],
           "sequentialminus": [
            [
             0,
             "rgb(20,44,66)"
            ],
            [
             1,
             "rgb(90,179,244)"
            ]
           ]
          },
          "colorway": [
           "#F8766D",
           "#A3A500",
           "#00BF7D",
           "#00B0F6",
           "#E76BF3"
          ],
          "font": {
           "color": "rgb(51,51,51)"
          },
          "geo": {
           "bgcolor": "white",
           "lakecolor": "white",
           "landcolor": "rgb(237,237,237)",
           "showlakes": true,
           "showland": true,
           "subunitcolor": "white"
          },
          "hoverlabel": {
           "align": "left"
          },
          "hovermode": "closest",
          "paper_bgcolor": "white",
          "plot_bgcolor": "rgb(237,237,237)",
          "polar": {
           "angularaxis": {
            "gridcolor": "white",
            "linecolor": "white",
            "showgrid": true,
            "tickcolor": "rgb(51,51,51)",
            "ticks": "outside"
           },
           "bgcolor": "rgb(237,237,237)",
           "radialaxis": {
            "gridcolor": "white",
            "linecolor": "white",
            "showgrid": true,
            "tickcolor": "rgb(51,51,51)",
            "ticks": "outside"
           }
          },
          "scene": {
           "xaxis": {
            "backgroundcolor": "rgb(237,237,237)",
            "gridcolor": "white",
            "gridwidth": 2,
            "linecolor": "white",
            "showbackground": true,
            "showgrid": true,
            "tickcolor": "rgb(51,51,51)",
            "ticks": "outside",
            "zerolinecolor": "white"
           },
           "yaxis": {
            "backgroundcolor": "rgb(237,237,237)",
            "gridcolor": "white",
            "gridwidth": 2,
            "linecolor": "white",
            "showbackground": true,
            "showgrid": true,
            "tickcolor": "rgb(51,51,51)",
            "ticks": "outside",
            "zerolinecolor": "white"
           },
           "zaxis": {
            "backgroundcolor": "rgb(237,237,237)",
            "gridcolor": "white",
            "gridwidth": 2,
            "linecolor": "white",
            "showbackground": true,
            "showgrid": true,
            "tickcolor": "rgb(51,51,51)",
            "ticks": "outside",
            "zerolinecolor": "white"
           }
          },
          "shapedefaults": {
           "fillcolor": "black",
           "line": {
            "width": 0
           },
           "opacity": 0.3
          },
          "ternary": {
           "aaxis": {
            "gridcolor": "white",
            "linecolor": "white",
            "showgrid": true,
            "tickcolor": "rgb(51,51,51)",
            "ticks": "outside"
           },
           "baxis": {
            "gridcolor": "white",
            "linecolor": "white",
            "showgrid": true,
            "tickcolor": "rgb(51,51,51)",
            "ticks": "outside"
           },
           "bgcolor": "rgb(237,237,237)",
           "caxis": {
            "gridcolor": "white",
            "linecolor": "white",
            "showgrid": true,
            "tickcolor": "rgb(51,51,51)",
            "ticks": "outside"
           }
          },
          "xaxis": {
           "automargin": true,
           "gridcolor": "white",
           "linecolor": "white",
           "showgrid": true,
           "tickcolor": "rgb(51,51,51)",
           "ticks": "outside",
           "title": {
            "standoff": 15
           },
           "zerolinecolor": "white"
          },
          "yaxis": {
           "automargin": true,
           "gridcolor": "white",
           "linecolor": "white",
           "showgrid": true,
           "tickcolor": "rgb(51,51,51)",
           "ticks": "outside",
           "title": {
            "standoff": 15
           },
           "zerolinecolor": "white"
          }
         }
        },
        "title": {
         "text": "Actual vs. Forecast (Out-of-Sample)"
        },
        "xaxis": {
         "anchor": "y",
         "domain": [
          0,
          1
         ]
        },
        "yaxis": {
         "anchor": "x",
         "domain": [
          0,
          1
         ]
        }
       }
      }
     },
     "metadata": {},
     "output_type": "display_data"
    }
   ],
   "source": [
    "exp.plot_model(estimator=tuned_ridge_cds_dt)"
   ]
  },
  {
   "cell_type": "code",
   "execution_count": 414,
   "metadata": {},
   "outputs": [
    {
     "name": "stdout",
     "output_type": "stream",
     "text": [
      "{'degree': 1, 'deseasonal_model': 'additive', 'fe_target_rr': [WindowSummarizer(lag_feature={'lag': [2, 1]}, n_jobs=1)], 'regressor': Ridge(random_state=123), 'sp': 2, 'window_length': 2, 'regressor__alpha': 1.0, 'regressor__copy_X': True, 'regressor__fit_intercept': True, 'regressor__max_iter': None, 'regressor__positive': False, 'regressor__random_state': 123, 'regressor__solver': 'auto', 'regressor__tol': 0.0001}\n",
      "{'degree': 1, 'deseasonal_model': 'additive', 'fe_target_rr': [WindowSummarizer(lag_feature={'lag': [2, 1]}, n_jobs=1)], 'regressor': Ridge(random_state=123), 'sp': 2, 'window_length': 2, 'regressor__alpha': 1.0, 'regressor__copy_X': True, 'regressor__fit_intercept': True, 'regressor__max_iter': None, 'regressor__positive': False, 'regressor__random_state': 123, 'regressor__solver': 'auto', 'regressor__tol': 0.0001}\n"
     ]
    }
   ],
   "source": [
    "print(ridge_cds_dt.get_params())\n",
    "print(tuned_ridge_cds_dt.get_params())"
   ]
  },
  {
   "cell_type": "code",
   "execution_count": 415,
   "metadata": {},
   "outputs": [
    {
     "data": {
      "application/vnd.plotly.v1+json": {
       "config": {
        "plotlyServerURL": "https://plot.ly"
       },
       "data": [
        {
         "line": {
          "color": "rgb(31, 119, 180)",
          "width": 2
         },
         "marker": {
          "color": "rgb(31, 119, 180)",
          "size": 5
         },
         "mode": "lines+markers",
         "name": "Unemployment_Rate",
         "type": "scattergl",
         "x": [
          "2009-07-01T00:00:00",
          "2010-01-01T00:00:00",
          "2010-07-01T00:00:00",
          "2011-01-01T00:00:00",
          "2011-07-01T00:00:00",
          "2012-01-01T00:00:00",
          "2012-07-01T00:00:00",
          "2013-01-01T00:00:00",
          "2013-07-01T00:00:00",
          "2014-01-01T00:00:00",
          "2014-07-01T00:00:00",
          "2015-01-01T00:00:00",
          "2015-07-01T00:00:00",
          "2016-01-01T00:00:00",
          "2016-07-01T00:00:00",
          "2017-01-01T00:00:00",
          "2017-07-01T00:00:00",
          "2018-01-01T00:00:00",
          "2018-07-01T00:00:00",
          "2019-01-01T00:00:00",
          "2019-07-01T00:00:00",
          "2020-01-01T00:00:00",
          "2020-07-01T00:00:00",
          "2021-01-01T00:00:00",
          "2021-07-01T00:00:00",
          "2022-01-01T00:00:00",
          "2022-07-01T00:00:00",
          "2023-01-01T00:00:00",
          "2023-07-01T00:00:00",
          "2024-01-01T00:00:00",
          "2024-07-01T00:00:00"
         ],
         "xaxis": "x",
         "y": [
          17.14238687901972,
          15.775726707916432,
          15.989462347425771,
          16.851591124698285,
          16.717763415603496,
          14.310062356756935,
          14.5723059746109,
          13.3476811958149,
          15.849200216451232,
          12.565402640695696,
          16.084781044581263,
          14.11539724268468,
          16.397679501557164,
          13.548613123951707,
          14.186108713893296,
          11.812189996775132,
          14.866057832702904,
          12.5799081053059,
          14.163591538115917,
          12.020975928692252,
          13.680974319783642,
          12.22887496390804,
          15.862362395833156,
          14.188898876104474,
          15.018407075494991,
          12.948944225299863,
          14.764916741760771,
          12.265233452406,
          14.177533914667926,
          12.378460471546267,
          12.871909126092456
         ],
         "yaxis": "y"
        },
        {
         "line": {
          "color": "rgb(255, 127, 14)",
          "width": 2
         },
         "marker": {
          "color": "rgb(255, 127, 14)",
          "size": 5
         },
         "mode": "lines+markers",
         "name": "Baseline",
         "type": "scattergl",
         "x": [
          "2009-07-01T00:00:00",
          "2010-01-01T00:00:00",
          "2010-07-01T00:00:00",
          "2011-01-01T00:00:00",
          "2011-07-01T00:00:00",
          "2012-01-01T00:00:00",
          "2012-07-01T00:00:00",
          "2013-01-01T00:00:00",
          "2013-07-01T00:00:00",
          "2014-01-01T00:00:00",
          "2014-07-01T00:00:00",
          "2015-01-01T00:00:00",
          "2015-07-01T00:00:00",
          "2016-01-01T00:00:00",
          "2016-07-01T00:00:00",
          "2017-01-01T00:00:00",
          "2017-07-01T00:00:00",
          "2018-01-01T00:00:00",
          "2018-07-01T00:00:00",
          "2019-01-01T00:00:00",
          "2019-07-01T00:00:00",
          "2020-01-01T00:00:00",
          "2020-07-01T00:00:00",
          "2021-01-01T00:00:00",
          "2021-07-01T00:00:00",
          "2022-01-01T00:00:00",
          "2022-07-01T00:00:00",
          "2023-01-01T00:00:00",
          "2023-07-01T00:00:00",
          "2024-01-01T00:00:00",
          "2024-07-01T00:00:00"
         ],
         "xaxis": "x",
         "y": [
          null,
          null,
          null,
          null,
          null,
          null,
          null,
          null,
          null,
          null,
          null,
          null,
          null,
          null,
          null,
          null,
          null,
          null,
          null,
          null,
          null,
          null,
          null,
          null,
          null,
          12.2644,
          13.7649,
          11.8825,
          13.6045,
          11.623,
          13.5287
         ],
         "yaxis": "y"
        },
        {
         "line": {
          "color": "rgb(44, 160, 44)",
          "width": 2
         },
         "marker": {
          "color": "rgb(44, 160, 44)",
          "size": 5
         },
         "mode": "lines+markers",
         "name": "Tuned",
         "type": "scattergl",
         "x": [
          "2009-07-01T00:00:00",
          "2010-01-01T00:00:00",
          "2010-07-01T00:00:00",
          "2011-01-01T00:00:00",
          "2011-07-01T00:00:00",
          "2012-01-01T00:00:00",
          "2012-07-01T00:00:00",
          "2013-01-01T00:00:00",
          "2013-07-01T00:00:00",
          "2014-01-01T00:00:00",
          "2014-07-01T00:00:00",
          "2015-01-01T00:00:00",
          "2015-07-01T00:00:00",
          "2016-01-01T00:00:00",
          "2016-07-01T00:00:00",
          "2017-01-01T00:00:00",
          "2017-07-01T00:00:00",
          "2018-01-01T00:00:00",
          "2018-07-01T00:00:00",
          "2019-01-01T00:00:00",
          "2019-07-01T00:00:00",
          "2020-01-01T00:00:00",
          "2020-07-01T00:00:00",
          "2021-01-01T00:00:00",
          "2021-07-01T00:00:00",
          "2022-01-01T00:00:00",
          "2022-07-01T00:00:00",
          "2023-01-01T00:00:00",
          "2023-07-01T00:00:00",
          "2024-01-01T00:00:00",
          "2024-07-01T00:00:00"
         ],
         "xaxis": "x",
         "y": [
          null,
          null,
          null,
          null,
          null,
          null,
          null,
          null,
          null,
          null,
          null,
          null,
          null,
          null,
          null,
          null,
          null,
          null,
          null,
          null,
          null,
          null,
          null,
          null,
          null,
          12.2644,
          13.7649,
          11.8825,
          13.6045,
          11.623,
          13.5287
         ],
         "yaxis": "y"
        }
       ],
       "layout": {
        "showlegend": true,
        "template": {
         "data": {
          "bar": [
           {
            "error_x": {
             "color": "rgb(51,51,51)"
            },
            "error_y": {
             "color": "rgb(51,51,51)"
            },
            "marker": {
             "line": {
              "color": "rgb(237,237,237)",
              "width": 0.5
             },
             "pattern": {
              "fillmode": "overlay",
              "size": 10,
              "solidity": 0.2
             }
            },
            "type": "bar"
           }
          ],
          "barpolar": [
           {
            "marker": {
             "line": {
              "color": "rgb(237,237,237)",
              "width": 0.5
             },
             "pattern": {
              "fillmode": "overlay",
              "size": 10,
              "solidity": 0.2
             }
            },
            "type": "barpolar"
           }
          ],
          "carpet": [
           {
            "aaxis": {
             "endlinecolor": "rgb(51,51,51)",
             "gridcolor": "white",
             "linecolor": "white",
             "minorgridcolor": "white",
             "startlinecolor": "rgb(51,51,51)"
            },
            "baxis": {
             "endlinecolor": "rgb(51,51,51)",
             "gridcolor": "white",
             "linecolor": "white",
             "minorgridcolor": "white",
             "startlinecolor": "rgb(51,51,51)"
            },
            "type": "carpet"
           }
          ],
          "choropleth": [
           {
            "colorbar": {
             "outlinewidth": 0,
             "tickcolor": "rgb(237,237,237)",
             "ticklen": 6,
             "ticks": "inside"
            },
            "type": "choropleth"
           }
          ],
          "contour": [
           {
            "colorbar": {
             "outlinewidth": 0,
             "tickcolor": "rgb(237,237,237)",
             "ticklen": 6,
             "ticks": "inside"
            },
            "colorscale": [
             [
              0,
              "rgb(20,44,66)"
             ],
             [
              1,
              "rgb(90,179,244)"
             ]
            ],
            "type": "contour"
           }
          ],
          "contourcarpet": [
           {
            "colorbar": {
             "outlinewidth": 0,
             "tickcolor": "rgb(237,237,237)",
             "ticklen": 6,
             "ticks": "inside"
            },
            "type": "contourcarpet"
           }
          ],
          "heatmap": [
           {
            "colorbar": {
             "outlinewidth": 0,
             "tickcolor": "rgb(237,237,237)",
             "ticklen": 6,
             "ticks": "inside"
            },
            "colorscale": [
             [
              0,
              "rgb(20,44,66)"
             ],
             [
              1,
              "rgb(90,179,244)"
             ]
            ],
            "type": "heatmap"
           }
          ],
          "heatmapgl": [
           {
            "colorbar": {
             "outlinewidth": 0,
             "tickcolor": "rgb(237,237,237)",
             "ticklen": 6,
             "ticks": "inside"
            },
            "colorscale": [
             [
              0,
              "rgb(20,44,66)"
             ],
             [
              1,
              "rgb(90,179,244)"
             ]
            ],
            "type": "heatmapgl"
           }
          ],
          "histogram": [
           {
            "marker": {
             "pattern": {
              "fillmode": "overlay",
              "size": 10,
              "solidity": 0.2
             }
            },
            "type": "histogram"
           }
          ],
          "histogram2d": [
           {
            "colorbar": {
             "outlinewidth": 0,
             "tickcolor": "rgb(237,237,237)",
             "ticklen": 6,
             "ticks": "inside"
            },
            "colorscale": [
             [
              0,
              "rgb(20,44,66)"
             ],
             [
              1,
              "rgb(90,179,244)"
             ]
            ],
            "type": "histogram2d"
           }
          ],
          "histogram2dcontour": [
           {
            "colorbar": {
             "outlinewidth": 0,
             "tickcolor": "rgb(237,237,237)",
             "ticklen": 6,
             "ticks": "inside"
            },
            "colorscale": [
             [
              0,
              "rgb(20,44,66)"
             ],
             [
              1,
              "rgb(90,179,244)"
             ]
            ],
            "type": "histogram2dcontour"
           }
          ],
          "mesh3d": [
           {
            "colorbar": {
             "outlinewidth": 0,
             "tickcolor": "rgb(237,237,237)",
             "ticklen": 6,
             "ticks": "inside"
            },
            "type": "mesh3d"
           }
          ],
          "parcoords": [
           {
            "line": {
             "colorbar": {
              "outlinewidth": 0,
              "tickcolor": "rgb(237,237,237)",
              "ticklen": 6,
              "ticks": "inside"
             }
            },
            "type": "parcoords"
           }
          ],
          "pie": [
           {
            "automargin": true,
            "type": "pie"
           }
          ],
          "scatter": [
           {
            "fillpattern": {
             "fillmode": "overlay",
             "size": 10,
             "solidity": 0.2
            },
            "type": "scatter"
           }
          ],
          "scatter3d": [
           {
            "line": {
             "colorbar": {
              "outlinewidth": 0,
              "tickcolor": "rgb(237,237,237)",
              "ticklen": 6,
              "ticks": "inside"
             }
            },
            "marker": {
             "colorbar": {
              "outlinewidth": 0,
              "tickcolor": "rgb(237,237,237)",
              "ticklen": 6,
              "ticks": "inside"
             }
            },
            "type": "scatter3d"
           }
          ],
          "scattercarpet": [
           {
            "marker": {
             "colorbar": {
              "outlinewidth": 0,
              "tickcolor": "rgb(237,237,237)",
              "ticklen": 6,
              "ticks": "inside"
             }
            },
            "type": "scattercarpet"
           }
          ],
          "scattergeo": [
           {
            "marker": {
             "colorbar": {
              "outlinewidth": 0,
              "tickcolor": "rgb(237,237,237)",
              "ticklen": 6,
              "ticks": "inside"
             }
            },
            "type": "scattergeo"
           }
          ],
          "scattergl": [
           {
            "marker": {
             "colorbar": {
              "outlinewidth": 0,
              "tickcolor": "rgb(237,237,237)",
              "ticklen": 6,
              "ticks": "inside"
             }
            },
            "type": "scattergl"
           }
          ],
          "scattermapbox": [
           {
            "marker": {
             "colorbar": {
              "outlinewidth": 0,
              "tickcolor": "rgb(237,237,237)",
              "ticklen": 6,
              "ticks": "inside"
             }
            },
            "type": "scattermapbox"
           }
          ],
          "scatterpolar": [
           {
            "marker": {
             "colorbar": {
              "outlinewidth": 0,
              "tickcolor": "rgb(237,237,237)",
              "ticklen": 6,
              "ticks": "inside"
             }
            },
            "type": "scatterpolar"
           }
          ],
          "scatterpolargl": [
           {
            "marker": {
             "colorbar": {
              "outlinewidth": 0,
              "tickcolor": "rgb(237,237,237)",
              "ticklen": 6,
              "ticks": "inside"
             }
            },
            "type": "scatterpolargl"
           }
          ],
          "scatterternary": [
           {
            "marker": {
             "colorbar": {
              "outlinewidth": 0,
              "tickcolor": "rgb(237,237,237)",
              "ticklen": 6,
              "ticks": "inside"
             }
            },
            "type": "scatterternary"
           }
          ],
          "surface": [
           {
            "colorbar": {
             "outlinewidth": 0,
             "tickcolor": "rgb(237,237,237)",
             "ticklen": 6,
             "ticks": "inside"
            },
            "colorscale": [
             [
              0,
              "rgb(20,44,66)"
             ],
             [
              1,
              "rgb(90,179,244)"
             ]
            ],
            "type": "surface"
           }
          ],
          "table": [
           {
            "cells": {
             "fill": {
              "color": "rgb(237,237,237)"
             },
             "line": {
              "color": "white"
             }
            },
            "header": {
             "fill": {
              "color": "rgb(217,217,217)"
             },
             "line": {
              "color": "white"
             }
            },
            "type": "table"
           }
          ]
         },
         "layout": {
          "annotationdefaults": {
           "arrowhead": 0,
           "arrowwidth": 1
          },
          "autotypenumbers": "strict",
          "coloraxis": {
           "colorbar": {
            "outlinewidth": 0,
            "tickcolor": "rgb(237,237,237)",
            "ticklen": 6,
            "ticks": "inside"
           }
          },
          "colorscale": {
           "sequential": [
            [
             0,
             "rgb(20,44,66)"
            ],
            [
             1,
             "rgb(90,179,244)"
            ]
           ],
           "sequentialminus": [
            [
             0,
             "rgb(20,44,66)"
            ],
            [
             1,
             "rgb(90,179,244)"
            ]
           ]
          },
          "colorway": [
           "#F8766D",
           "#A3A500",
           "#00BF7D",
           "#00B0F6",
           "#E76BF3"
          ],
          "font": {
           "color": "rgb(51,51,51)"
          },
          "geo": {
           "bgcolor": "white",
           "lakecolor": "white",
           "landcolor": "rgb(237,237,237)",
           "showlakes": true,
           "showland": true,
           "subunitcolor": "white"
          },
          "hoverlabel": {
           "align": "left"
          },
          "hovermode": "closest",
          "paper_bgcolor": "white",
          "plot_bgcolor": "rgb(237,237,237)",
          "polar": {
           "angularaxis": {
            "gridcolor": "white",
            "linecolor": "white",
            "showgrid": true,
            "tickcolor": "rgb(51,51,51)",
            "ticks": "outside"
           },
           "bgcolor": "rgb(237,237,237)",
           "radialaxis": {
            "gridcolor": "white",
            "linecolor": "white",
            "showgrid": true,
            "tickcolor": "rgb(51,51,51)",
            "ticks": "outside"
           }
          },
          "scene": {
           "xaxis": {
            "backgroundcolor": "rgb(237,237,237)",
            "gridcolor": "white",
            "gridwidth": 2,
            "linecolor": "white",
            "showbackground": true,
            "showgrid": true,
            "tickcolor": "rgb(51,51,51)",
            "ticks": "outside",
            "zerolinecolor": "white"
           },
           "yaxis": {
            "backgroundcolor": "rgb(237,237,237)",
            "gridcolor": "white",
            "gridwidth": 2,
            "linecolor": "white",
            "showbackground": true,
            "showgrid": true,
            "tickcolor": "rgb(51,51,51)",
            "ticks": "outside",
            "zerolinecolor": "white"
           },
           "zaxis": {
            "backgroundcolor": "rgb(237,237,237)",
            "gridcolor": "white",
            "gridwidth": 2,
            "linecolor": "white",
            "showbackground": true,
            "showgrid": true,
            "tickcolor": "rgb(51,51,51)",
            "ticks": "outside",
            "zerolinecolor": "white"
           }
          },
          "shapedefaults": {
           "fillcolor": "black",
           "line": {
            "width": 0
           },
           "opacity": 0.3
          },
          "ternary": {
           "aaxis": {
            "gridcolor": "white",
            "linecolor": "white",
            "showgrid": true,
            "tickcolor": "rgb(51,51,51)",
            "ticks": "outside"
           },
           "baxis": {
            "gridcolor": "white",
            "linecolor": "white",
            "showgrid": true,
            "tickcolor": "rgb(51,51,51)",
            "ticks": "outside"
           },
           "bgcolor": "rgb(237,237,237)",
           "caxis": {
            "gridcolor": "white",
            "linecolor": "white",
            "showgrid": true,
            "tickcolor": "rgb(51,51,51)",
            "ticks": "outside"
           }
          },
          "xaxis": {
           "automargin": true,
           "gridcolor": "white",
           "linecolor": "white",
           "showgrid": true,
           "tickcolor": "rgb(51,51,51)",
           "ticks": "outside",
           "title": {
            "standoff": 15
           },
           "zerolinecolor": "white"
          },
          "yaxis": {
           "automargin": true,
           "gridcolor": "white",
           "linecolor": "white",
           "showgrid": true,
           "tickcolor": "rgb(51,51,51)",
           "ticks": "outside",
           "title": {
            "standoff": 15
           },
           "zerolinecolor": "white"
          }
         }
        },
        "title": {
         "text": "Actual vs. Forecast (Out-of-Sample)"
        },
        "xaxis": {
         "anchor": "y",
         "domain": [
          0,
          1
         ]
        },
        "yaxis": {
         "anchor": "x",
         "domain": [
          0,
          1
         ]
        }
       }
      }
     },
     "metadata": {},
     "output_type": "display_data"
    }
   ],
   "source": [
    "exp.plot_model([ridge_cds_dt, tuned_ridge_cds_dt], data_kwargs={\"labels\": [\"Baseline\", \"Tuned\"]})"
   ]
  },
  {
   "cell_type": "markdown",
   "metadata": {},
   "source": [
    "comparisons"
   ]
  },
  {
   "cell_type": "code",
   "execution_count": 416,
   "metadata": {},
   "outputs": [
    {
     "data": {
      "text/html": [],
      "text/plain": [
       "<IPython.core.display.HTML object>"
      ]
     },
     "metadata": {},
     "output_type": "display_data"
    },
    {
     "data": {
      "text/html": [
       "<style type=\"text/css\">\n",
       "#T_e6061 th {\n",
       "  text-align: left;\n",
       "}\n",
       "#T_e6061_row0_col0, #T_e6061_row0_col2, #T_e6061_row0_col4, #T_e6061_row1_col0, #T_e6061_row1_col1, #T_e6061_row1_col3, #T_e6061_row1_col5, #T_e6061_row1_col6, #T_e6061_row1_col7, #T_e6061_row2_col0, #T_e6061_row2_col1, #T_e6061_row2_col3, #T_e6061_row2_col5, #T_e6061_row2_col6, #T_e6061_row2_col7, #T_e6061_row3_col0, #T_e6061_row3_col1, #T_e6061_row3_col2, #T_e6061_row3_col3, #T_e6061_row3_col4, #T_e6061_row3_col5, #T_e6061_row3_col6, #T_e6061_row3_col7, #T_e6061_row4_col0, #T_e6061_row4_col1, #T_e6061_row4_col2, #T_e6061_row4_col3, #T_e6061_row4_col4, #T_e6061_row4_col5, #T_e6061_row4_col6, #T_e6061_row4_col7, #T_e6061_row5_col0, #T_e6061_row5_col1, #T_e6061_row5_col2, #T_e6061_row5_col3, #T_e6061_row5_col4, #T_e6061_row5_col5, #T_e6061_row5_col6, #T_e6061_row5_col7 {\n",
       "  text-align: left;\n",
       "}\n",
       "#T_e6061_row0_col1, #T_e6061_row0_col3, #T_e6061_row0_col5, #T_e6061_row0_col6, #T_e6061_row0_col7, #T_e6061_row1_col2, #T_e6061_row1_col4, #T_e6061_row2_col2, #T_e6061_row2_col4 {\n",
       "  text-align: left;\n",
       "  background-color: yellow;\n",
       "}\n",
       "#T_e6061_row0_col8, #T_e6061_row3_col8, #T_e6061_row4_col8, #T_e6061_row5_col8 {\n",
       "  text-align: left;\n",
       "  background-color: yellow;\n",
       "  background-color: lightgrey;\n",
       "}\n",
       "#T_e6061_row1_col8, #T_e6061_row2_col8 {\n",
       "  text-align: left;\n",
       "  background-color: lightgrey;\n",
       "}\n",
       "</style>\n",
       "<table id=\"T_e6061\">\n",
       "  <thead>\n",
       "    <tr>\n",
       "      <th class=\"blank level0\" >&nbsp;</th>\n",
       "      <th id=\"T_e6061_level0_col0\" class=\"col_heading level0 col0\" >Model</th>\n",
       "      <th id=\"T_e6061_level0_col1\" class=\"col_heading level0 col1\" >MASE</th>\n",
       "      <th id=\"T_e6061_level0_col2\" class=\"col_heading level0 col2\" >RMSSE</th>\n",
       "      <th id=\"T_e6061_level0_col3\" class=\"col_heading level0 col3\" >MAE</th>\n",
       "      <th id=\"T_e6061_level0_col4\" class=\"col_heading level0 col4\" >RMSE</th>\n",
       "      <th id=\"T_e6061_level0_col5\" class=\"col_heading level0 col5\" >MAPE</th>\n",
       "      <th id=\"T_e6061_level0_col6\" class=\"col_heading level0 col6\" >SMAPE</th>\n",
       "      <th id=\"T_e6061_level0_col7\" class=\"col_heading level0 col7\" >R2</th>\n",
       "      <th id=\"T_e6061_level0_col8\" class=\"col_heading level0 col8\" >TT (Sec)</th>\n",
       "    </tr>\n",
       "  </thead>\n",
       "  <tbody>\n",
       "    <tr>\n",
       "      <th id=\"T_e6061_level0_row0\" class=\"row_heading level0 row0\" >3</th>\n",
       "      <td id=\"T_e6061_row0_col0\" class=\"data row0 col0\" >OrthogonalMatchingPursuit</td>\n",
       "      <td id=\"T_e6061_row0_col1\" class=\"data row0 col1\" >0.8567</td>\n",
       "      <td id=\"T_e6061_row0_col2\" class=\"data row0 col2\" >0.9586</td>\n",
       "      <td id=\"T_e6061_row0_col3\" class=\"data row0 col3\" >1.1135</td>\n",
       "      <td id=\"T_e6061_row0_col4\" class=\"data row0 col4\" >1.4051</td>\n",
       "      <td id=\"T_e6061_row0_col5\" class=\"data row0 col5\" >0.0762</td>\n",
       "      <td id=\"T_e6061_row0_col6\" class=\"data row0 col6\" >0.0794</td>\n",
       "      <td id=\"T_e6061_row0_col7\" class=\"data row0 col7\" >-0.1730</td>\n",
       "      <td id=\"T_e6061_row0_col8\" class=\"data row0 col8\" >0.0400</td>\n",
       "    </tr>\n",
       "    <tr>\n",
       "      <th id=\"T_e6061_level0_row1\" class=\"row_heading level0 row1\" >0</th>\n",
       "      <td id=\"T_e6061_row1_col0\" class=\"data row1 col0\" >ExtraTreesRegressor</td>\n",
       "      <td id=\"T_e6061_row1_col1\" class=\"data row1 col1\" >0.8726</td>\n",
       "      <td id=\"T_e6061_row1_col2\" class=\"data row1 col2\" >0.9339</td>\n",
       "      <td id=\"T_e6061_row1_col3\" class=\"data row1 col3\" >1.1416</td>\n",
       "      <td id=\"T_e6061_row1_col4\" class=\"data row1 col4\" >1.3724</td>\n",
       "      <td id=\"T_e6061_row1_col5\" class=\"data row1 col5\" >0.0780</td>\n",
       "      <td id=\"T_e6061_row1_col6\" class=\"data row1 col6\" >0.0817</td>\n",
       "      <td id=\"T_e6061_row1_col7\" class=\"data row1 col7\" >-0.2018</td>\n",
       "      <td id=\"T_e6061_row1_col8\" class=\"data row1 col8\" >0.0833</td>\n",
       "    </tr>\n",
       "    <tr>\n",
       "      <th id=\"T_e6061_level0_row2\" class=\"row_heading level0 row2\" >1</th>\n",
       "      <td id=\"T_e6061_row2_col0\" class=\"data row2 col0\" >ExtraTreesRegressor</td>\n",
       "      <td id=\"T_e6061_row2_col1\" class=\"data row2 col1\" >0.8726</td>\n",
       "      <td id=\"T_e6061_row2_col2\" class=\"data row2 col2\" >0.9339</td>\n",
       "      <td id=\"T_e6061_row2_col3\" class=\"data row2 col3\" >1.1416</td>\n",
       "      <td id=\"T_e6061_row2_col4\" class=\"data row2 col4\" >1.3724</td>\n",
       "      <td id=\"T_e6061_row2_col5\" class=\"data row2 col5\" >0.0780</td>\n",
       "      <td id=\"T_e6061_row2_col6\" class=\"data row2 col6\" >0.0817</td>\n",
       "      <td id=\"T_e6061_row2_col7\" class=\"data row2 col7\" >-0.2018</td>\n",
       "      <td id=\"T_e6061_row2_col8\" class=\"data row2 col8\" >0.0867</td>\n",
       "    </tr>\n",
       "    <tr>\n",
       "      <th id=\"T_e6061_level0_row3\" class=\"row_heading level0 row3\" >2</th>\n",
       "      <td id=\"T_e6061_row3_col0\" class=\"data row3 col0\" >OrthogonalMatchingPursuit</td>\n",
       "      <td id=\"T_e6061_row3_col1\" class=\"data row3 col1\" >0.8839</td>\n",
       "      <td id=\"T_e6061_row3_col2\" class=\"data row3 col2\" >0.9887</td>\n",
       "      <td id=\"T_e6061_row3_col3\" class=\"data row3 col3\" >1.1541</td>\n",
       "      <td id=\"T_e6061_row3_col4\" class=\"data row3 col4\" >1.4532</td>\n",
       "      <td id=\"T_e6061_row3_col5\" class=\"data row3 col5\" >0.0791</td>\n",
       "      <td id=\"T_e6061_row3_col6\" class=\"data row3 col6\" >0.0822</td>\n",
       "      <td id=\"T_e6061_row3_col7\" class=\"data row3 col7\" >-0.2562</td>\n",
       "      <td id=\"T_e6061_row3_col8\" class=\"data row3 col8\" >0.0400</td>\n",
       "    </tr>\n",
       "    <tr>\n",
       "      <th id=\"T_e6061_level0_row4\" class=\"row_heading level0 row4\" >4</th>\n",
       "      <td id=\"T_e6061_row4_col0\" class=\"data row4 col0\" >Ridge</td>\n",
       "      <td id=\"T_e6061_row4_col1\" class=\"data row4 col1\" >0.8945</td>\n",
       "      <td id=\"T_e6061_row4_col2\" class=\"data row4 col2\" >0.9805</td>\n",
       "      <td id=\"T_e6061_row4_col3\" class=\"data row4 col3\" >1.1792</td>\n",
       "      <td id=\"T_e6061_row4_col4\" class=\"data row4 col4\" >1.4487</td>\n",
       "      <td id=\"T_e6061_row4_col5\" class=\"data row4 col5\" >0.0824</td>\n",
       "      <td id=\"T_e6061_row4_col6\" class=\"data row4 col6\" >0.0835</td>\n",
       "      <td id=\"T_e6061_row4_col7\" class=\"data row4 col7\" >-0.2570</td>\n",
       "      <td id=\"T_e6061_row4_col8\" class=\"data row4 col8\" >0.0400</td>\n",
       "    </tr>\n",
       "    <tr>\n",
       "      <th id=\"T_e6061_level0_row5\" class=\"row_heading level0 row5\" >5</th>\n",
       "      <td id=\"T_e6061_row5_col0\" class=\"data row5 col0\" >Ridge</td>\n",
       "      <td id=\"T_e6061_row5_col1\" class=\"data row5 col1\" >0.8945</td>\n",
       "      <td id=\"T_e6061_row5_col2\" class=\"data row5 col2\" >0.9805</td>\n",
       "      <td id=\"T_e6061_row5_col3\" class=\"data row5 col3\" >1.1792</td>\n",
       "      <td id=\"T_e6061_row5_col4\" class=\"data row5 col4\" >1.4487</td>\n",
       "      <td id=\"T_e6061_row5_col5\" class=\"data row5 col5\" >0.0824</td>\n",
       "      <td id=\"T_e6061_row5_col6\" class=\"data row5 col6\" >0.0835</td>\n",
       "      <td id=\"T_e6061_row5_col7\" class=\"data row5 col7\" >-0.2570</td>\n",
       "      <td id=\"T_e6061_row5_col8\" class=\"data row5 col8\" >0.0400</td>\n",
       "    </tr>\n",
       "  </tbody>\n",
       "</table>\n"
      ],
      "text/plain": [
       "<pandas.io.formats.style.Styler at 0x177e323d0>"
      ]
     },
     "metadata": {},
     "output_type": "display_data"
    },
    {
     "data": {
      "text/html": [],
      "text/plain": [
       "<IPython.core.display.HTML object>"
      ]
     },
     "metadata": {},
     "output_type": "display_data"
    },
    {
     "data": {
      "text/html": [
       "<style>#sk-b6dd24ef-e388-49cf-a2de-db0533447b8c {color: black;background-color: white;}#sk-b6dd24ef-e388-49cf-a2de-db0533447b8c pre{padding: 0;}#sk-b6dd24ef-e388-49cf-a2de-db0533447b8c div.sk-toggleable {background-color: white;}#sk-b6dd24ef-e388-49cf-a2de-db0533447b8c label.sk-toggleable__label {cursor: pointer;display: block;width: 100%;margin-bottom: 0;padding: 0.3em;box-sizing: border-box;text-align: center;}#sk-b6dd24ef-e388-49cf-a2de-db0533447b8c label.sk-toggleable__label-arrow:before {content: \"▸\";float: left;margin-right: 0.25em;color: #696969;}#sk-b6dd24ef-e388-49cf-a2de-db0533447b8c label.sk-toggleable__label-arrow:hover:before {color: black;}#sk-b6dd24ef-e388-49cf-a2de-db0533447b8c div.sk-estimator:hover label.sk-toggleable__label-arrow:before {color: black;}#sk-b6dd24ef-e388-49cf-a2de-db0533447b8c div.sk-toggleable__content {max-height: 0;max-width: 0;overflow: hidden;text-align: left;background-color: #f0f8ff;}#sk-b6dd24ef-e388-49cf-a2de-db0533447b8c div.sk-toggleable__content pre {margin: 0.2em;color: black;border-radius: 0.25em;background-color: #f0f8ff;}#sk-b6dd24ef-e388-49cf-a2de-db0533447b8c input.sk-toggleable__control:checked~div.sk-toggleable__content {max-height: 200px;max-width: 100%;overflow: auto;}#sk-b6dd24ef-e388-49cf-a2de-db0533447b8c input.sk-toggleable__control:checked~label.sk-toggleable__label-arrow:before {content: \"▾\";}#sk-b6dd24ef-e388-49cf-a2de-db0533447b8c div.sk-estimator input.sk-toggleable__control:checked~label.sk-toggleable__label {background-color: #d4ebff;}#sk-b6dd24ef-e388-49cf-a2de-db0533447b8c div.sk-label input.sk-toggleable__control:checked~label.sk-toggleable__label {background-color: #d4ebff;}#sk-b6dd24ef-e388-49cf-a2de-db0533447b8c input.sk-hidden--visually {border: 0;clip: rect(1px 1px 1px 1px);clip: rect(1px, 1px, 1px, 1px);height: 1px;margin: -1px;overflow: hidden;padding: 0;position: absolute;width: 1px;}#sk-b6dd24ef-e388-49cf-a2de-db0533447b8c div.sk-estimator {font-family: monospace;background-color: #f0f8ff;border: 1px dotted black;border-radius: 0.25em;box-sizing: border-box;margin-bottom: 0.5em;}#sk-b6dd24ef-e388-49cf-a2de-db0533447b8c div.sk-estimator:hover {background-color: #d4ebff;}#sk-b6dd24ef-e388-49cf-a2de-db0533447b8c div.sk-parallel-item::after {content: \"\";width: 100%;border-bottom: 1px solid gray;flex-grow: 1;}#sk-b6dd24ef-e388-49cf-a2de-db0533447b8c div.sk-label:hover label.sk-toggleable__label {background-color: #d4ebff;}#sk-b6dd24ef-e388-49cf-a2de-db0533447b8c div.sk-serial::before {content: \"\";position: absolute;border-left: 1px solid gray;box-sizing: border-box;top: 2em;bottom: 0;left: 50%;}#sk-b6dd24ef-e388-49cf-a2de-db0533447b8c div.sk-serial {display: flex;flex-direction: column;align-items: center;background-color: white;padding-right: 0.2em;padding-left: 0.2em;}#sk-b6dd24ef-e388-49cf-a2de-db0533447b8c div.sk-item {z-index: 1;}#sk-b6dd24ef-e388-49cf-a2de-db0533447b8c div.sk-parallel {display: flex;align-items: stretch;justify-content: center;background-color: white;}#sk-b6dd24ef-e388-49cf-a2de-db0533447b8c div.sk-parallel::before {content: \"\";position: absolute;border-left: 1px solid gray;box-sizing: border-box;top: 2em;bottom: 0;left: 50%;}#sk-b6dd24ef-e388-49cf-a2de-db0533447b8c div.sk-parallel-item {display: flex;flex-direction: column;position: relative;background-color: white;}#sk-b6dd24ef-e388-49cf-a2de-db0533447b8c div.sk-parallel-item:first-child::after {align-self: flex-end;width: 50%;}#sk-b6dd24ef-e388-49cf-a2de-db0533447b8c div.sk-parallel-item:last-child::after {align-self: flex-start;width: 50%;}#sk-b6dd24ef-e388-49cf-a2de-db0533447b8c div.sk-parallel-item:only-child::after {width: 0;}#sk-b6dd24ef-e388-49cf-a2de-db0533447b8c div.sk-dashed-wrapped {border: 1px dashed gray;margin: 0 0.4em 0.5em 0.4em;box-sizing: border-box;padding-bottom: 0.4em;background-color: white;position: relative;}#sk-b6dd24ef-e388-49cf-a2de-db0533447b8c div.sk-label label {font-family: monospace;font-weight: bold;background-color: white;display: inline-block;line-height: 1.2em;}#sk-b6dd24ef-e388-49cf-a2de-db0533447b8c div.sk-label-container {position: relative;z-index: 2;text-align: center;}#sk-b6dd24ef-e388-49cf-a2de-db0533447b8c div.sk-container {/* jupyter's `normalize.less` sets `[hidden] { display: none; }` but bootstrap.min.css set `[hidden] { display: none !important; }` so we also need the `!important` here to be able to override the default hidden behavior on the sphinx rendered scikit-learn.org. See: https://github.com/scikit-learn/scikit-learn/issues/21755 */display: inline-block !important;position: relative;}#sk-b6dd24ef-e388-49cf-a2de-db0533447b8c div.sk-text-repr-fallback {display: none;}</style><div id='sk-b6dd24ef-e388-49cf-a2de-db0533447b8c' class=\"sk-top-container\"><div class=\"sk-text-repr-fallback\"><pre>BaseCdsDtForecaster(fe_target_rr=[WindowSummarizer(lag_feature={&#x27;lag&#x27;: [2, 1]},\n",
       "                                                   n_jobs=1)],\n",
       "                    regressor=OrthogonalMatchingPursuit(n_nonzero_coefs=2),\n",
       "                    sp=4, window_length=2)</pre><b>Please rerun this cell to show the HTML repr or trust the notebook.</b></div><div class=\"sk-container\" hidden><div class=\"sk-item sk-dashed-wrapped\"><div class='sk-label-container'><div class=\"sk-label sk-toggleable\"><input class=\"sk-toggleable__control sk-hidden--visually\" id=UUID('dcd7bd2e-7d50-4b4c-ad01-00635ebba561') type=\"checkbox\" ><label for=UUID('dcd7bd2e-7d50-4b4c-ad01-00635ebba561') class='sk-toggleable__label sk-toggleable__label-arrow'>BaseCdsDtForecaster</label><div class=\"sk-toggleable__content\"><pre>BaseCdsDtForecaster(fe_target_rr=[WindowSummarizer(lag_feature={&#x27;lag&#x27;: [2, 1]},\n",
       "                                                   n_jobs=1)],\n",
       "                    regressor=OrthogonalMatchingPursuit(n_nonzero_coefs=2),\n",
       "                    sp=4, window_length=2)</pre></div></div></div><div class=\"sk-parallel\"><div class=\"sk-parallel-item\"><div class=\"sk-item\"><div class=\"sk-serial\"><div class='sk-item'><div class=\"sk-estimator sk-toggleable\"><input class=\"sk-toggleable__control sk-hidden--visually\" id=UUID('c5e796bf-80f8-4827-855e-49651114884e') type=\"checkbox\" ><label for=UUID('c5e796bf-80f8-4827-855e-49651114884e') class='sk-toggleable__label sk-toggleable__label-arrow'>OrthogonalMatchingPursuit</label><div class=\"sk-toggleable__content\"><pre>OrthogonalMatchingPursuit(n_nonzero_coefs=2)</pre></div></div></div></div></div></div></div></div></div></div>"
      ],
      "text/plain": [
       "BaseCdsDtForecaster(fe_target_rr=[WindowSummarizer(lag_feature={'lag': [2, 1]},\n",
       "                                                   n_jobs=1)],\n",
       "                    regressor=OrthogonalMatchingPursuit(n_nonzero_coefs=2),\n",
       "                    sp=4, window_length=2)"
      ]
     },
     "execution_count": 416,
     "metadata": {},
     "output_type": "execute_result"
    }
   ],
   "source": [
    "exp.compare_models(include=[et_cds_dt, tuned_et_cds_dt, omp_cds_dt, tuned_omp_cds_dt, ridge_cds_dt, tuned_ridge_cds_dt], sort='MASE')"
   ]
  },
  {
   "cell_type": "code",
   "execution_count": 417,
   "metadata": {},
   "outputs": [
    {
     "data": {
      "application/vnd.plotly.v1+json": {
       "config": {
        "plotlyServerURL": "https://plot.ly"
       },
       "data": [
        {
         "line": {
          "color": "rgb(31, 119, 180)",
          "width": 2
         },
         "marker": {
          "color": "rgb(31, 119, 180)",
          "size": 5
         },
         "mode": "lines+markers",
         "name": "Unemployment_Rate",
         "type": "scattergl",
         "x": [
          "2009-07-01T00:00:00",
          "2010-01-01T00:00:00",
          "2010-07-01T00:00:00",
          "2011-01-01T00:00:00",
          "2011-07-01T00:00:00",
          "2012-01-01T00:00:00",
          "2012-07-01T00:00:00",
          "2013-01-01T00:00:00",
          "2013-07-01T00:00:00",
          "2014-01-01T00:00:00",
          "2014-07-01T00:00:00",
          "2015-01-01T00:00:00",
          "2015-07-01T00:00:00",
          "2016-01-01T00:00:00",
          "2016-07-01T00:00:00",
          "2017-01-01T00:00:00",
          "2017-07-01T00:00:00",
          "2018-01-01T00:00:00",
          "2018-07-01T00:00:00",
          "2019-01-01T00:00:00",
          "2019-07-01T00:00:00",
          "2020-01-01T00:00:00",
          "2020-07-01T00:00:00",
          "2021-01-01T00:00:00",
          "2021-07-01T00:00:00",
          "2022-01-01T00:00:00",
          "2022-07-01T00:00:00",
          "2023-01-01T00:00:00",
          "2023-07-01T00:00:00",
          "2024-01-01T00:00:00",
          "2024-07-01T00:00:00"
         ],
         "xaxis": "x",
         "y": [
          17.14238687901972,
          15.775726707916432,
          15.989462347425771,
          16.851591124698285,
          16.717763415603496,
          14.310062356756935,
          14.5723059746109,
          13.3476811958149,
          15.849200216451232,
          12.565402640695696,
          16.084781044581263,
          14.11539724268468,
          16.397679501557164,
          13.548613123951707,
          14.186108713893296,
          11.812189996775132,
          14.866057832702904,
          12.5799081053059,
          14.163591538115917,
          12.020975928692252,
          13.680974319783642,
          12.22887496390804,
          15.862362395833156,
          14.188898876104474,
          15.018407075494991,
          12.948944225299863,
          14.764916741760771,
          12.265233452406,
          14.177533914667926,
          12.378460471546267,
          12.871909126092456
         ],
         "yaxis": "y"
        },
        {
         "line": {
          "color": "rgb(255, 127, 14)",
          "width": 2
         },
         "marker": {
          "color": "rgb(255, 127, 14)",
          "size": 5
         },
         "mode": "lines+markers",
         "name": "et_cds_dt",
         "type": "scattergl",
         "x": [
          "2009-07-01T00:00:00",
          "2010-01-01T00:00:00",
          "2010-07-01T00:00:00",
          "2011-01-01T00:00:00",
          "2011-07-01T00:00:00",
          "2012-01-01T00:00:00",
          "2012-07-01T00:00:00",
          "2013-01-01T00:00:00",
          "2013-07-01T00:00:00",
          "2014-01-01T00:00:00",
          "2014-07-01T00:00:00",
          "2015-01-01T00:00:00",
          "2015-07-01T00:00:00",
          "2016-01-01T00:00:00",
          "2016-07-01T00:00:00",
          "2017-01-01T00:00:00",
          "2017-07-01T00:00:00",
          "2018-01-01T00:00:00",
          "2018-07-01T00:00:00",
          "2019-01-01T00:00:00",
          "2019-07-01T00:00:00",
          "2020-01-01T00:00:00",
          "2020-07-01T00:00:00",
          "2021-01-01T00:00:00",
          "2021-07-01T00:00:00",
          "2022-01-01T00:00:00",
          "2022-07-01T00:00:00",
          "2023-01-01T00:00:00",
          "2023-07-01T00:00:00",
          "2024-01-01T00:00:00",
          "2024-07-01T00:00:00"
         ],
         "xaxis": "x",
         "y": [
          null,
          null,
          null,
          null,
          null,
          null,
          null,
          null,
          null,
          null,
          null,
          null,
          null,
          null,
          null,
          null,
          null,
          null,
          null,
          null,
          null,
          null,
          null,
          null,
          null,
          12.2517,
          13.778,
          11.1408,
          13.3271,
          11.2102,
          12.9196
         ],
         "yaxis": "y"
        },
        {
         "line": {
          "color": "rgb(44, 160, 44)",
          "width": 2
         },
         "marker": {
          "color": "rgb(44, 160, 44)",
          "size": 5
         },
         "mode": "lines+markers",
         "name": "tuned_et_cds_dt",
         "type": "scattergl",
         "x": [
          "2009-07-01T00:00:00",
          "2010-01-01T00:00:00",
          "2010-07-01T00:00:00",
          "2011-01-01T00:00:00",
          "2011-07-01T00:00:00",
          "2012-01-01T00:00:00",
          "2012-07-01T00:00:00",
          "2013-01-01T00:00:00",
          "2013-07-01T00:00:00",
          "2014-01-01T00:00:00",
          "2014-07-01T00:00:00",
          "2015-01-01T00:00:00",
          "2015-07-01T00:00:00",
          "2016-01-01T00:00:00",
          "2016-07-01T00:00:00",
          "2017-01-01T00:00:00",
          "2017-07-01T00:00:00",
          "2018-01-01T00:00:00",
          "2018-07-01T00:00:00",
          "2019-01-01T00:00:00",
          "2019-07-01T00:00:00",
          "2020-01-01T00:00:00",
          "2020-07-01T00:00:00",
          "2021-01-01T00:00:00",
          "2021-07-01T00:00:00",
          "2022-01-01T00:00:00",
          "2022-07-01T00:00:00",
          "2023-01-01T00:00:00",
          "2023-07-01T00:00:00",
          "2024-01-01T00:00:00",
          "2024-07-01T00:00:00"
         ],
         "xaxis": "x",
         "y": [
          null,
          null,
          null,
          null,
          null,
          null,
          null,
          null,
          null,
          null,
          null,
          null,
          null,
          null,
          null,
          null,
          null,
          null,
          null,
          null,
          null,
          null,
          null,
          null,
          null,
          12.2517,
          13.778,
          11.1408,
          13.3271,
          11.2102,
          12.9196
         ],
         "yaxis": "y"
        },
        {
         "line": {
          "color": "rgb(214, 39, 40)",
          "width": 2
         },
         "marker": {
          "color": "rgb(214, 39, 40)",
          "size": 5
         },
         "mode": "lines+markers",
         "name": "omp_cds_dt",
         "type": "scattergl",
         "x": [
          "2009-07-01T00:00:00",
          "2010-01-01T00:00:00",
          "2010-07-01T00:00:00",
          "2011-01-01T00:00:00",
          "2011-07-01T00:00:00",
          "2012-01-01T00:00:00",
          "2012-07-01T00:00:00",
          "2013-01-01T00:00:00",
          "2013-07-01T00:00:00",
          "2014-01-01T00:00:00",
          "2014-07-01T00:00:00",
          "2015-01-01T00:00:00",
          "2015-07-01T00:00:00",
          "2016-01-01T00:00:00",
          "2016-07-01T00:00:00",
          "2017-01-01T00:00:00",
          "2017-07-01T00:00:00",
          "2018-01-01T00:00:00",
          "2018-07-01T00:00:00",
          "2019-01-01T00:00:00",
          "2019-07-01T00:00:00",
          "2020-01-01T00:00:00",
          "2020-07-01T00:00:00",
          "2021-01-01T00:00:00",
          "2021-07-01T00:00:00",
          "2022-01-01T00:00:00",
          "2022-07-01T00:00:00",
          "2023-01-01T00:00:00",
          "2023-07-01T00:00:00",
          "2024-01-01T00:00:00",
          "2024-07-01T00:00:00"
         ],
         "xaxis": "x",
         "y": [
          null,
          null,
          null,
          null,
          null,
          null,
          null,
          null,
          null,
          null,
          null,
          null,
          null,
          null,
          null,
          null,
          null,
          null,
          null,
          null,
          null,
          null,
          null,
          null,
          null,
          12.4626,
          13.9233,
          11.952,
          13.6068,
          11.7,
          13.3762
         ],
         "yaxis": "y"
        },
        {
         "line": {
          "color": "rgb(148, 103, 189)",
          "width": 2
         },
         "marker": {
          "color": "rgb(148, 103, 189)",
          "size": 5
         },
         "mode": "lines+markers",
         "name": "tuned_omp_cds_dt",
         "type": "scattergl",
         "x": [
          "2009-07-01T00:00:00",
          "2010-01-01T00:00:00",
          "2010-07-01T00:00:00",
          "2011-01-01T00:00:00",
          "2011-07-01T00:00:00",
          "2012-01-01T00:00:00",
          "2012-07-01T00:00:00",
          "2013-01-01T00:00:00",
          "2013-07-01T00:00:00",
          "2014-01-01T00:00:00",
          "2014-07-01T00:00:00",
          "2015-01-01T00:00:00",
          "2015-07-01T00:00:00",
          "2016-01-01T00:00:00",
          "2016-07-01T00:00:00",
          "2017-01-01T00:00:00",
          "2017-07-01T00:00:00",
          "2018-01-01T00:00:00",
          "2018-07-01T00:00:00",
          "2019-01-01T00:00:00",
          "2019-07-01T00:00:00",
          "2020-01-01T00:00:00",
          "2020-07-01T00:00:00",
          "2021-01-01T00:00:00",
          "2021-07-01T00:00:00",
          "2022-01-01T00:00:00",
          "2022-07-01T00:00:00",
          "2023-01-01T00:00:00",
          "2023-07-01T00:00:00",
          "2024-01-01T00:00:00",
          "2024-07-01T00:00:00"
         ],
         "xaxis": "x",
         "y": [
          null,
          null,
          null,
          null,
          null,
          null,
          null,
          null,
          null,
          null,
          null,
          null,
          null,
          null,
          null,
          null,
          null,
          null,
          null,
          null,
          null,
          null,
          null,
          null,
          null,
          13.5132,
          14.3209,
          13.2655,
          14.0416,
          13.1977,
          13.9129
         ],
         "yaxis": "y"
        },
        {
         "line": {
          "color": "rgb(140, 86, 75)",
          "width": 2
         },
         "marker": {
          "color": "rgb(140, 86, 75)",
          "size": 5
         },
         "mode": "lines+markers",
         "name": "ridge_cds_dt",
         "type": "scattergl",
         "x": [
          "2009-07-01T00:00:00",
          "2010-01-01T00:00:00",
          "2010-07-01T00:00:00",
          "2011-01-01T00:00:00",
          "2011-07-01T00:00:00",
          "2012-01-01T00:00:00",
          "2012-07-01T00:00:00",
          "2013-01-01T00:00:00",
          "2013-07-01T00:00:00",
          "2014-01-01T00:00:00",
          "2014-07-01T00:00:00",
          "2015-01-01T00:00:00",
          "2015-07-01T00:00:00",
          "2016-01-01T00:00:00",
          "2016-07-01T00:00:00",
          "2017-01-01T00:00:00",
          "2017-07-01T00:00:00",
          "2018-01-01T00:00:00",
          "2018-07-01T00:00:00",
          "2019-01-01T00:00:00",
          "2019-07-01T00:00:00",
          "2020-01-01T00:00:00",
          "2020-07-01T00:00:00",
          "2021-01-01T00:00:00",
          "2021-07-01T00:00:00",
          "2022-01-01T00:00:00",
          "2022-07-01T00:00:00",
          "2023-01-01T00:00:00",
          "2023-07-01T00:00:00",
          "2024-01-01T00:00:00",
          "2024-07-01T00:00:00"
         ],
         "xaxis": "x",
         "y": [
          null,
          null,
          null,
          null,
          null,
          null,
          null,
          null,
          null,
          null,
          null,
          null,
          null,
          null,
          null,
          null,
          null,
          null,
          null,
          null,
          null,
          null,
          null,
          null,
          null,
          12.2644,
          13.7649,
          11.8825,
          13.6045,
          11.623,
          13.5287
         ],
         "yaxis": "y"
        },
        {
         "line": {
          "color": "rgb(227, 119, 194)",
          "width": 2
         },
         "marker": {
          "color": "rgb(227, 119, 194)",
          "size": 5
         },
         "mode": "lines+markers",
         "name": "tuned_ridge_cds_dt",
         "type": "scattergl",
         "x": [
          "2009-07-01T00:00:00",
          "2010-01-01T00:00:00",
          "2010-07-01T00:00:00",
          "2011-01-01T00:00:00",
          "2011-07-01T00:00:00",
          "2012-01-01T00:00:00",
          "2012-07-01T00:00:00",
          "2013-01-01T00:00:00",
          "2013-07-01T00:00:00",
          "2014-01-01T00:00:00",
          "2014-07-01T00:00:00",
          "2015-01-01T00:00:00",
          "2015-07-01T00:00:00",
          "2016-01-01T00:00:00",
          "2016-07-01T00:00:00",
          "2017-01-01T00:00:00",
          "2017-07-01T00:00:00",
          "2018-01-01T00:00:00",
          "2018-07-01T00:00:00",
          "2019-01-01T00:00:00",
          "2019-07-01T00:00:00",
          "2020-01-01T00:00:00",
          "2020-07-01T00:00:00",
          "2021-01-01T00:00:00",
          "2021-07-01T00:00:00",
          "2022-01-01T00:00:00",
          "2022-07-01T00:00:00",
          "2023-01-01T00:00:00",
          "2023-07-01T00:00:00",
          "2024-01-01T00:00:00",
          "2024-07-01T00:00:00"
         ],
         "xaxis": "x",
         "y": [
          null,
          null,
          null,
          null,
          null,
          null,
          null,
          null,
          null,
          null,
          null,
          null,
          null,
          null,
          null,
          null,
          null,
          null,
          null,
          null,
          null,
          null,
          null,
          null,
          null,
          12.2644,
          13.7649,
          11.8825,
          13.6045,
          11.623,
          13.5287
         ],
         "yaxis": "y"
        }
       ],
       "layout": {
        "showlegend": true,
        "template": {
         "data": {
          "bar": [
           {
            "error_x": {
             "color": "rgb(51,51,51)"
            },
            "error_y": {
             "color": "rgb(51,51,51)"
            },
            "marker": {
             "line": {
              "color": "rgb(237,237,237)",
              "width": 0.5
             },
             "pattern": {
              "fillmode": "overlay",
              "size": 10,
              "solidity": 0.2
             }
            },
            "type": "bar"
           }
          ],
          "barpolar": [
           {
            "marker": {
             "line": {
              "color": "rgb(237,237,237)",
              "width": 0.5
             },
             "pattern": {
              "fillmode": "overlay",
              "size": 10,
              "solidity": 0.2
             }
            },
            "type": "barpolar"
           }
          ],
          "carpet": [
           {
            "aaxis": {
             "endlinecolor": "rgb(51,51,51)",
             "gridcolor": "white",
             "linecolor": "white",
             "minorgridcolor": "white",
             "startlinecolor": "rgb(51,51,51)"
            },
            "baxis": {
             "endlinecolor": "rgb(51,51,51)",
             "gridcolor": "white",
             "linecolor": "white",
             "minorgridcolor": "white",
             "startlinecolor": "rgb(51,51,51)"
            },
            "type": "carpet"
           }
          ],
          "choropleth": [
           {
            "colorbar": {
             "outlinewidth": 0,
             "tickcolor": "rgb(237,237,237)",
             "ticklen": 6,
             "ticks": "inside"
            },
            "type": "choropleth"
           }
          ],
          "contour": [
           {
            "colorbar": {
             "outlinewidth": 0,
             "tickcolor": "rgb(237,237,237)",
             "ticklen": 6,
             "ticks": "inside"
            },
            "colorscale": [
             [
              0,
              "rgb(20,44,66)"
             ],
             [
              1,
              "rgb(90,179,244)"
             ]
            ],
            "type": "contour"
           }
          ],
          "contourcarpet": [
           {
            "colorbar": {
             "outlinewidth": 0,
             "tickcolor": "rgb(237,237,237)",
             "ticklen": 6,
             "ticks": "inside"
            },
            "type": "contourcarpet"
           }
          ],
          "heatmap": [
           {
            "colorbar": {
             "outlinewidth": 0,
             "tickcolor": "rgb(237,237,237)",
             "ticklen": 6,
             "ticks": "inside"
            },
            "colorscale": [
             [
              0,
              "rgb(20,44,66)"
             ],
             [
              1,
              "rgb(90,179,244)"
             ]
            ],
            "type": "heatmap"
           }
          ],
          "heatmapgl": [
           {
            "colorbar": {
             "outlinewidth": 0,
             "tickcolor": "rgb(237,237,237)",
             "ticklen": 6,
             "ticks": "inside"
            },
            "colorscale": [
             [
              0,
              "rgb(20,44,66)"
             ],
             [
              1,
              "rgb(90,179,244)"
             ]
            ],
            "type": "heatmapgl"
           }
          ],
          "histogram": [
           {
            "marker": {
             "pattern": {
              "fillmode": "overlay",
              "size": 10,
              "solidity": 0.2
             }
            },
            "type": "histogram"
           }
          ],
          "histogram2d": [
           {
            "colorbar": {
             "outlinewidth": 0,
             "tickcolor": "rgb(237,237,237)",
             "ticklen": 6,
             "ticks": "inside"
            },
            "colorscale": [
             [
              0,
              "rgb(20,44,66)"
             ],
             [
              1,
              "rgb(90,179,244)"
             ]
            ],
            "type": "histogram2d"
           }
          ],
          "histogram2dcontour": [
           {
            "colorbar": {
             "outlinewidth": 0,
             "tickcolor": "rgb(237,237,237)",
             "ticklen": 6,
             "ticks": "inside"
            },
            "colorscale": [
             [
              0,
              "rgb(20,44,66)"
             ],
             [
              1,
              "rgb(90,179,244)"
             ]
            ],
            "type": "histogram2dcontour"
           }
          ],
          "mesh3d": [
           {
            "colorbar": {
             "outlinewidth": 0,
             "tickcolor": "rgb(237,237,237)",
             "ticklen": 6,
             "ticks": "inside"
            },
            "type": "mesh3d"
           }
          ],
          "parcoords": [
           {
            "line": {
             "colorbar": {
              "outlinewidth": 0,
              "tickcolor": "rgb(237,237,237)",
              "ticklen": 6,
              "ticks": "inside"
             }
            },
            "type": "parcoords"
           }
          ],
          "pie": [
           {
            "automargin": true,
            "type": "pie"
           }
          ],
          "scatter": [
           {
            "fillpattern": {
             "fillmode": "overlay",
             "size": 10,
             "solidity": 0.2
            },
            "type": "scatter"
           }
          ],
          "scatter3d": [
           {
            "line": {
             "colorbar": {
              "outlinewidth": 0,
              "tickcolor": "rgb(237,237,237)",
              "ticklen": 6,
              "ticks": "inside"
             }
            },
            "marker": {
             "colorbar": {
              "outlinewidth": 0,
              "tickcolor": "rgb(237,237,237)",
              "ticklen": 6,
              "ticks": "inside"
             }
            },
            "type": "scatter3d"
           }
          ],
          "scattercarpet": [
           {
            "marker": {
             "colorbar": {
              "outlinewidth": 0,
              "tickcolor": "rgb(237,237,237)",
              "ticklen": 6,
              "ticks": "inside"
             }
            },
            "type": "scattercarpet"
           }
          ],
          "scattergeo": [
           {
            "marker": {
             "colorbar": {
              "outlinewidth": 0,
              "tickcolor": "rgb(237,237,237)",
              "ticklen": 6,
              "ticks": "inside"
             }
            },
            "type": "scattergeo"
           }
          ],
          "scattergl": [
           {
            "marker": {
             "colorbar": {
              "outlinewidth": 0,
              "tickcolor": "rgb(237,237,237)",
              "ticklen": 6,
              "ticks": "inside"
             }
            },
            "type": "scattergl"
           }
          ],
          "scattermapbox": [
           {
            "marker": {
             "colorbar": {
              "outlinewidth": 0,
              "tickcolor": "rgb(237,237,237)",
              "ticklen": 6,
              "ticks": "inside"
             }
            },
            "type": "scattermapbox"
           }
          ],
          "scatterpolar": [
           {
            "marker": {
             "colorbar": {
              "outlinewidth": 0,
              "tickcolor": "rgb(237,237,237)",
              "ticklen": 6,
              "ticks": "inside"
             }
            },
            "type": "scatterpolar"
           }
          ],
          "scatterpolargl": [
           {
            "marker": {
             "colorbar": {
              "outlinewidth": 0,
              "tickcolor": "rgb(237,237,237)",
              "ticklen": 6,
              "ticks": "inside"
             }
            },
            "type": "scatterpolargl"
           }
          ],
          "scatterternary": [
           {
            "marker": {
             "colorbar": {
              "outlinewidth": 0,
              "tickcolor": "rgb(237,237,237)",
              "ticklen": 6,
              "ticks": "inside"
             }
            },
            "type": "scatterternary"
           }
          ],
          "surface": [
           {
            "colorbar": {
             "outlinewidth": 0,
             "tickcolor": "rgb(237,237,237)",
             "ticklen": 6,
             "ticks": "inside"
            },
            "colorscale": [
             [
              0,
              "rgb(20,44,66)"
             ],
             [
              1,
              "rgb(90,179,244)"
             ]
            ],
            "type": "surface"
           }
          ],
          "table": [
           {
            "cells": {
             "fill": {
              "color": "rgb(237,237,237)"
             },
             "line": {
              "color": "white"
             }
            },
            "header": {
             "fill": {
              "color": "rgb(217,217,217)"
             },
             "line": {
              "color": "white"
             }
            },
            "type": "table"
           }
          ]
         },
         "layout": {
          "annotationdefaults": {
           "arrowhead": 0,
           "arrowwidth": 1
          },
          "autotypenumbers": "strict",
          "coloraxis": {
           "colorbar": {
            "outlinewidth": 0,
            "tickcolor": "rgb(237,237,237)",
            "ticklen": 6,
            "ticks": "inside"
           }
          },
          "colorscale": {
           "sequential": [
            [
             0,
             "rgb(20,44,66)"
            ],
            [
             1,
             "rgb(90,179,244)"
            ]
           ],
           "sequentialminus": [
            [
             0,
             "rgb(20,44,66)"
            ],
            [
             1,
             "rgb(90,179,244)"
            ]
           ]
          },
          "colorway": [
           "#F8766D",
           "#A3A500",
           "#00BF7D",
           "#00B0F6",
           "#E76BF3"
          ],
          "font": {
           "color": "rgb(51,51,51)"
          },
          "geo": {
           "bgcolor": "white",
           "lakecolor": "white",
           "landcolor": "rgb(237,237,237)",
           "showlakes": true,
           "showland": true,
           "subunitcolor": "white"
          },
          "hoverlabel": {
           "align": "left"
          },
          "hovermode": "closest",
          "paper_bgcolor": "white",
          "plot_bgcolor": "rgb(237,237,237)",
          "polar": {
           "angularaxis": {
            "gridcolor": "white",
            "linecolor": "white",
            "showgrid": true,
            "tickcolor": "rgb(51,51,51)",
            "ticks": "outside"
           },
           "bgcolor": "rgb(237,237,237)",
           "radialaxis": {
            "gridcolor": "white",
            "linecolor": "white",
            "showgrid": true,
            "tickcolor": "rgb(51,51,51)",
            "ticks": "outside"
           }
          },
          "scene": {
           "xaxis": {
            "backgroundcolor": "rgb(237,237,237)",
            "gridcolor": "white",
            "gridwidth": 2,
            "linecolor": "white",
            "showbackground": true,
            "showgrid": true,
            "tickcolor": "rgb(51,51,51)",
            "ticks": "outside",
            "zerolinecolor": "white"
           },
           "yaxis": {
            "backgroundcolor": "rgb(237,237,237)",
            "gridcolor": "white",
            "gridwidth": 2,
            "linecolor": "white",
            "showbackground": true,
            "showgrid": true,
            "tickcolor": "rgb(51,51,51)",
            "ticks": "outside",
            "zerolinecolor": "white"
           },
           "zaxis": {
            "backgroundcolor": "rgb(237,237,237)",
            "gridcolor": "white",
            "gridwidth": 2,
            "linecolor": "white",
            "showbackground": true,
            "showgrid": true,
            "tickcolor": "rgb(51,51,51)",
            "ticks": "outside",
            "zerolinecolor": "white"
           }
          },
          "shapedefaults": {
           "fillcolor": "black",
           "line": {
            "width": 0
           },
           "opacity": 0.3
          },
          "ternary": {
           "aaxis": {
            "gridcolor": "white",
            "linecolor": "white",
            "showgrid": true,
            "tickcolor": "rgb(51,51,51)",
            "ticks": "outside"
           },
           "baxis": {
            "gridcolor": "white",
            "linecolor": "white",
            "showgrid": true,
            "tickcolor": "rgb(51,51,51)",
            "ticks": "outside"
           },
           "bgcolor": "rgb(237,237,237)",
           "caxis": {
            "gridcolor": "white",
            "linecolor": "white",
            "showgrid": true,
            "tickcolor": "rgb(51,51,51)",
            "ticks": "outside"
           }
          },
          "xaxis": {
           "automargin": true,
           "gridcolor": "white",
           "linecolor": "white",
           "showgrid": true,
           "tickcolor": "rgb(51,51,51)",
           "ticks": "outside",
           "title": {
            "standoff": 15
           },
           "zerolinecolor": "white"
          },
          "yaxis": {
           "automargin": true,
           "gridcolor": "white",
           "linecolor": "white",
           "showgrid": true,
           "tickcolor": "rgb(51,51,51)",
           "ticks": "outside",
           "title": {
            "standoff": 15
           },
           "zerolinecolor": "white"
          }
         }
        },
        "title": {
         "text": "Actual vs. Forecast (Out-of-Sample)"
        },
        "xaxis": {
         "anchor": "y",
         "domain": [
          0,
          1
         ]
        },
        "yaxis": {
         "anchor": "x",
         "domain": [
          0,
          1
         ]
        }
       }
      }
     },
     "metadata": {},
     "output_type": "display_data"
    }
   ],
   "source": [
    "exp.plot_model([et_cds_dt, tuned_et_cds_dt, omp_cds_dt, tuned_omp_cds_dt, ridge_cds_dt, tuned_ridge_cds_dt], \n",
    "               data_kwargs={\"labels\": ['et_cds_dt', 'tuned_et_cds_dt', 'omp_cds_dt', 'tuned_omp_cds_dt', 'ridge_cds_dt', 'tuned_ridge_cds_dt']})"
   ]
  },
  {
   "cell_type": "markdown",
   "metadata": {},
   "source": [
    "### finalise model and future forecast"
   ]
  },
  {
   "cell_type": "code",
   "execution_count": 418,
   "metadata": {},
   "outputs": [],
   "source": [
    "final_model = exp.finalize_model(tuned_omp_cds_dt)"
   ]
  },
  {
   "cell_type": "code",
   "execution_count": 419,
   "metadata": {},
   "outputs": [],
   "source": [
    "# future periods to predict\n",
    "future_periods = pd.period_range(start=df_forecast.index[-1] + 1, periods=6, freq='2Q')  # 5 future periods\n",
    "\n",
    "# initialising future_df with NaNs for features and target\n",
    "future_df = pd.DataFrame(index=future_periods, columns=['Unemployment_Rate', 'lag_1', 'lag_2', 'rolling_mean_3', 'quarter'])\n",
    "future_df[['Unemployment_Rate', 'lag_1', 'lag_2', 'rolling_mean_3', 'quarter']] = np.nan"
   ]
  },
  {
   "cell_type": "code",
   "execution_count": 420,
   "metadata": {},
   "outputs": [],
   "source": [
    "# defining a function to get value from historical or predicted data\n",
    "def get_value_for_period(period):\n",
    "    if period in df_forecast.index:\n",
    "        value = df_forecast.loc[period, 'Unemployment_Rate']\n",
    "        print(f\"[INFO] Using historical value for {period}: {value}\")\n",
    "        return value\n",
    "    elif period in future_df.index:\n",
    "        value = future_df.loc[period, 'Unemployment_Rate']\n",
    "        if not pd.isna(value):\n",
    "            print(f\"[INFO] Using predicted value for {period}: {value}\")\n",
    "            return value\n",
    "        else:\n",
    "            print(f\"[WARN] Predicted value for {period} is NaN.\")\n",
    "    else:\n",
    "        print(f\"[WARN] No data found for {period}.\")\n",
    "    return np.nan"
   ]
  },
  {
   "cell_type": "code",
   "execution_count": 421,
   "metadata": {},
   "outputs": [
    {
     "data": {
      "text/plain": [
       "PeriodIndex(['2025Q1', '2025Q3', '2026Q1', '2026Q3', '2027Q1', '2027Q3'], dtype='period[2Q-DEC]')"
      ]
     },
     "execution_count": 421,
     "metadata": {},
     "output_type": "execute_result"
    }
   ],
   "source": [
    "future_periods"
   ]
  },
  {
   "cell_type": "code",
   "execution_count": 422,
   "metadata": {},
   "outputs": [
    {
     "name": "stdout",
     "output_type": "stream",
     "text": [
      "[INFO] Using historical value for 2024Q3: 12.871909126092456\n",
      "[INFO] Using historical value for 2024Q1: 12.378460471546267\n",
      "[INFO] Using historical value for 2024Q3: 12.871909126092456\n",
      "[INFO] Using historical value for 2024Q1: 12.378460471546267\n",
      "[INFO] Using historical value for 2023Q3: 14.177533914667926\n",
      "Predicted Unemployment_Rate at 2025Q1: 11.771\n",
      "[INFO] Using predicted value for 2025Q1: 11.7712\n",
      "[INFO] Using historical value for 2024Q3: 12.871909126092456\n",
      "[INFO] Using predicted value for 2025Q1: 11.7712\n",
      "[INFO] Using historical value for 2024Q3: 12.871909126092456\n",
      "[INFO] Using historical value for 2024Q1: 12.378460471546267\n",
      "Predicted Unemployment_Rate at 2025Q3: 12.841\n",
      "[INFO] Using predicted value for 2025Q3: 12.8411\n",
      "[INFO] Using predicted value for 2025Q1: 11.7712\n",
      "[INFO] Using predicted value for 2025Q3: 12.8411\n",
      "[INFO] Using predicted value for 2025Q1: 11.7712\n",
      "[INFO] Using historical value for 2024Q3: 12.871909126092456\n",
      "Predicted Unemployment_Rate at 2026Q1: 12.841\n",
      "[INFO] Using predicted value for 2026Q1: 12.8411\n",
      "[INFO] Using predicted value for 2025Q3: 12.8411\n",
      "[INFO] Using predicted value for 2026Q1: 12.8411\n",
      "[INFO] Using predicted value for 2025Q3: 12.8411\n",
      "[INFO] Using predicted value for 2025Q1: 11.7712\n",
      "Predicted Unemployment_Rate at 2026Q3: 12.841\n",
      "[INFO] Using predicted value for 2026Q3: 12.8411\n",
      "[INFO] Using predicted value for 2026Q1: 12.8411\n",
      "[INFO] Using predicted value for 2026Q3: 12.8411\n",
      "[INFO] Using predicted value for 2026Q1: 12.8411\n",
      "[INFO] Using predicted value for 2025Q3: 12.8411\n",
      "Predicted Unemployment_Rate at 2027Q1: 12.841\n",
      "[INFO] Using predicted value for 2027Q1: 12.8411\n",
      "[INFO] Using predicted value for 2026Q3: 12.8411\n",
      "[INFO] Using predicted value for 2027Q1: 12.8411\n",
      "[INFO] Using predicted value for 2026Q3: 12.8411\n",
      "[INFO] Using predicted value for 2026Q1: 12.8411\n",
      "Predicted Unemployment_Rate at 2027Q3: 12.841\n"
     ]
    }
   ],
   "source": [
    "# looping over each future period and predict\n",
    "for period in future_periods:\n",
    "    # calculating the lag features\n",
    "    lag_1 = get_value_for_period(period - 1)\n",
    "    lag_2 = get_value_for_period(period - 2)\n",
    "\n",
    "    # rolling mean of last 3 values (lags 1, 2, 3)\n",
    "    last_three_vals = [get_value_for_period(period - i) for i in range(1, 4)]\n",
    "    rolling_mean_3 = np.nanmean(last_three_vals)  # np.nanmean ignores nan values\n",
    "\n",
    "    # taking the quarter from the period\n",
    "    quarter = period.quarter\n",
    "\n",
    "    # saving features into future_df\n",
    "    future_df.loc[period, ['lag_1', 'lag_2', 'rolling_mean_3', 'quarter']] = [lag_1, lag_2, rolling_mean_3, quarter]\n",
    "\n",
    "    # preparing feature vector for prediction\n",
    "    X_pred = future_df.loc[[period], ['lag_1', 'lag_2', 'rolling_mean_3', 'quarter']].astype(float)\n",
    "\n",
    "    # checking for NaNs before predicting\n",
    "    if X_pred.isnull().values.any():\n",
    "        raise ValueError(f\"NaN found in features at period {period}:\\n{X_pred}\")\n",
    "    \n",
    "    #print(X_pred)\n",
    "\n",
    "    # forecasting future values\n",
    "    pred_df = predict_model(final_model, X=X_pred, fh=[1])\n",
    "    pred_value = pred_df['y_pred'].values[0]\n",
    "\n",
    "    # saving predicted value back to future_df for next iterations\n",
    "    future_df.loc[period, 'Unemployment_Rate'] = pred_value\n",
    "\n",
    "    print(f\"Predicted Unemployment_Rate at {period}: {pred_value:.3f}\")"
   ]
  },
  {
   "cell_type": "code",
   "execution_count": 423,
   "metadata": {},
   "outputs": [],
   "source": [
    "# concatenating historical and future predictions into one DataFrame\n",
    "combined_df = pd.concat([df_forecast[['Unemployment_Rate']], future_df[['Unemployment_Rate']]], axis=0)\n",
    "\n",
    "# creating a column to indicate whether the value is historical or predicted\n",
    "combined_df['Type'] = ['Historical'] * len(df_forecast) + ['Predicted'] * len(future_df)"
   ]
  },
  {
   "cell_type": "code",
   "execution_count": 424,
   "metadata": {},
   "outputs": [
    {
     "data": {
      "image/png": "[encoded data removed]",
      "text/plain": [
       "<Figure size 1200x600 with 1 Axes>"
      ]
     },
     "metadata": {},
     "output_type": "display_data"
    }
   ],
   "source": [
    "# plotting\n",
    "plt.figure(figsize=(12,6))\n",
    "\n",
    "for t_type, group_data in combined_df.groupby('Type'):\n",
    "    plt.plot(group_data.index.to_timestamp(), group_data['Unemployment_Rate'], \n",
    "             marker='o', label=t_type)\n",
    "\n",
    "plt.title('Unemployment Rate: Historical vs Predicted')\n",
    "plt.xlabel('Period')\n",
    "plt.ylabel('Unemployment Rate')\n",
    "plt.legend()\n",
    "plt.grid(True)\n",
    "plt.show()"
   ]
  },
  {
   "cell_type": "code",
   "execution_count": null,
   "metadata": {},
   "outputs": [],
   "source": []
  }
 ],
 "metadata": {
  "kernelspec": {
   "display_name": "Thesis (.venv)",
   "language": "python",
   "name": ".venv"
  },
  "language_info": {
   "codemirror_mode": {
    "name": "ipython",
    "version": 3
   },
   "file_extension": ".py",
   "mimetype": "text/x-python",
   "name": "python",
   "nbconvert_exporter": "python",
   "pygments_lexer": "ipython3",
   "version": "3.9.6"
  }
 },
 "nbformat": 4,
 "nbformat_minor": 2
}
