{
 "cells": [
  {
   "cell_type": "markdown",
   "metadata": {},
   "source": [
    "# Forecasting Indonesia's Youth Unemployment Rate\n",
    "with feature engineering and optimised setup"
   ]
  },
  {
   "cell_type": "markdown",
   "metadata": {},
   "source": [
    "### importing libraries and data"
   ]
  },
  {
   "cell_type": "code",
   "execution_count": 1,
   "metadata": {},
   "outputs": [],
   "source": [
    "import pandas as pd\n",
    "import seaborn as sns\n",
    "import matplotlib.pyplot as plt"
   ]
  },
  {
   "cell_type": "code",
   "execution_count": 2,
   "metadata": {},
   "outputs": [],
   "source": [
    "df = pd.read_csv('../data_ind_youth.csv')"
   ]
  },
  {
   "cell_type": "code",
   "execution_count": 3,
   "metadata": {},
   "outputs": [],
   "source": [
    "# converting to datetime format\n",
    "df['year_month'] = pd.to_datetime(df['year_month'], format='%Y-%m')\n",
    "# sorting order chronologically\n",
    "df = df.sort_values('year_month').reset_index(drop=True)"
   ]
  },
  {
   "cell_type": "code",
   "execution_count": 4,
   "metadata": {},
   "outputs": [],
   "source": [
    "df_forecast = df.copy()\n",
    "df_forecast.set_index('year_month', inplace=True)\n",
    "\n",
    "df_forecast.index = pd.to_datetime(df_forecast.index)\n",
    "df_forecast.index = pd.period_range(start=df_forecast.index[0], periods=len(df_forecast), freq='2Q')"
   ]
  },
  {
   "cell_type": "markdown",
   "metadata": {},
   "source": [
    "### feature engineering and setup"
   ]
  },
  {
   "cell_type": "code",
   "execution_count": 5,
   "metadata": {},
   "outputs": [],
   "source": [
    "from pycaret.time_series import *\n",
    "import numpy as np"
   ]
  },
  {
   "cell_type": "code",
   "execution_count": 6,
   "metadata": {},
   "outputs": [],
   "source": [
    "# Step 1: Feature engineering (optional)\n",
    "df_forecast['lag_1'] = df_forecast['Unemployment_Rate'].shift(1)\n",
    "df_forecast['lag_2'] = df_forecast['Unemployment_Rate'].shift(2)\n",
    "df_forecast['rolling_mean_3'] = df_forecast['Unemployment_Rate'].rolling(3).mean()\n",
    "df_forecast.dropna(inplace=True)"
   ]
  },
  {
   "cell_type": "code",
   "execution_count": 12,
   "metadata": {},
   "outputs": [
    {
     "data": {
      "text/html": [
       "<style type=\"text/css\">\n",
       "#T_750c7_row25_col1, #T_750c7_row31_col1 {\n",
       "  background-color: lightgreen;\n",
       "}\n",
       "</style>\n",
       "<table id=\"T_750c7\">\n",
       "  <thead>\n",
       "    <tr>\n",
       "      <th class=\"blank level0\" >&nbsp;</th>\n",
       "      <th id=\"T_750c7_level0_col0\" class=\"col_heading level0 col0\" >Description</th>\n",
       "      <th id=\"T_750c7_level0_col1\" class=\"col_heading level0 col1\" >Value</th>\n",
       "    </tr>\n",
       "  </thead>\n",
       "  <tbody>\n",
       "    <tr>\n",
       "      <th id=\"T_750c7_level0_row0\" class=\"row_heading level0 row0\" >0</th>\n",
       "      <td id=\"T_750c7_row0_col0\" class=\"data row0 col0\" >session_id</td>\n",
       "      <td id=\"T_750c7_row0_col1\" class=\"data row0 col1\" >123</td>\n",
       "    </tr>\n",
       "    <tr>\n",
       "      <th id=\"T_750c7_level0_row1\" class=\"row_heading level0 row1\" >1</th>\n",
       "      <td id=\"T_750c7_row1_col0\" class=\"data row1 col0\" >Target</td>\n",
       "      <td id=\"T_750c7_row1_col1\" class=\"data row1 col1\" >Unemployment_Rate</td>\n",
       "    </tr>\n",
       "    <tr>\n",
       "      <th id=\"T_750c7_level0_row2\" class=\"row_heading level0 row2\" >2</th>\n",
       "      <td id=\"T_750c7_row2_col0\" class=\"data row2 col0\" >Approach</td>\n",
       "      <td id=\"T_750c7_row2_col1\" class=\"data row2 col1\" >Univariate</td>\n",
       "    </tr>\n",
       "    <tr>\n",
       "      <th id=\"T_750c7_level0_row3\" class=\"row_heading level0 row3\" >3</th>\n",
       "      <td id=\"T_750c7_row3_col0\" class=\"data row3 col0\" >Exogenous Variables</td>\n",
       "      <td id=\"T_750c7_row3_col1\" class=\"data row3 col1\" >Present</td>\n",
       "    </tr>\n",
       "    <tr>\n",
       "      <th id=\"T_750c7_level0_row4\" class=\"row_heading level0 row4\" >4</th>\n",
       "      <td id=\"T_750c7_row4_col0\" class=\"data row4 col0\" >Original data shape</td>\n",
       "      <td id=\"T_750c7_row4_col1\" class=\"data row4 col1\" >(32, 4)</td>\n",
       "    </tr>\n",
       "    <tr>\n",
       "      <th id=\"T_750c7_level0_row5\" class=\"row_heading level0 row5\" >5</th>\n",
       "      <td id=\"T_750c7_row5_col0\" class=\"data row5 col0\" >Transformed data shape</td>\n",
       "      <td id=\"T_750c7_row5_col1\" class=\"data row5 col1\" >(32, 4)</td>\n",
       "    </tr>\n",
       "    <tr>\n",
       "      <th id=\"T_750c7_level0_row6\" class=\"row_heading level0 row6\" >6</th>\n",
       "      <td id=\"T_750c7_row6_col0\" class=\"data row6 col0\" >Transformed train set shape</td>\n",
       "      <td id=\"T_750c7_row6_col1\" class=\"data row6 col1\" >(26, 4)</td>\n",
       "    </tr>\n",
       "    <tr>\n",
       "      <th id=\"T_750c7_level0_row7\" class=\"row_heading level0 row7\" >7</th>\n",
       "      <td id=\"T_750c7_row7_col0\" class=\"data row7 col0\" >Transformed test set shape</td>\n",
       "      <td id=\"T_750c7_row7_col1\" class=\"data row7 col1\" >(6, 4)</td>\n",
       "    </tr>\n",
       "    <tr>\n",
       "      <th id=\"T_750c7_level0_row8\" class=\"row_heading level0 row8\" >8</th>\n",
       "      <td id=\"T_750c7_row8_col0\" class=\"data row8 col0\" >Rows with missing values</td>\n",
       "      <td id=\"T_750c7_row8_col1\" class=\"data row8 col1\" >0.0%</td>\n",
       "    </tr>\n",
       "    <tr>\n",
       "      <th id=\"T_750c7_level0_row9\" class=\"row_heading level0 row9\" >9</th>\n",
       "      <td id=\"T_750c7_row9_col0\" class=\"data row9 col0\" >Fold Generator</td>\n",
       "      <td id=\"T_750c7_row9_col1\" class=\"data row9 col1\" >ExpandingWindowSplitter</td>\n",
       "    </tr>\n",
       "    <tr>\n",
       "      <th id=\"T_750c7_level0_row10\" class=\"row_heading level0 row10\" >10</th>\n",
       "      <td id=\"T_750c7_row10_col0\" class=\"data row10 col0\" >Fold Number</td>\n",
       "      <td id=\"T_750c7_row10_col1\" class=\"data row10 col1\" >3</td>\n",
       "    </tr>\n",
       "    <tr>\n",
       "      <th id=\"T_750c7_level0_row11\" class=\"row_heading level0 row11\" >11</th>\n",
       "      <td id=\"T_750c7_row11_col0\" class=\"data row11 col0\" >Enforce Prediction Interval</td>\n",
       "      <td id=\"T_750c7_row11_col1\" class=\"data row11 col1\" >False</td>\n",
       "    </tr>\n",
       "    <tr>\n",
       "      <th id=\"T_750c7_level0_row12\" class=\"row_heading level0 row12\" >12</th>\n",
       "      <td id=\"T_750c7_row12_col0\" class=\"data row12 col0\" >Splits used for hyperparameters</td>\n",
       "      <td id=\"T_750c7_row12_col1\" class=\"data row12 col1\" >all</td>\n",
       "    </tr>\n",
       "    <tr>\n",
       "      <th id=\"T_750c7_level0_row13\" class=\"row_heading level0 row13\" >13</th>\n",
       "      <td id=\"T_750c7_row13_col0\" class=\"data row13 col0\" >User Defined Seasonal Period(s)</td>\n",
       "      <td id=\"T_750c7_row13_col1\" class=\"data row13 col1\" >[2, 4]</td>\n",
       "    </tr>\n",
       "    <tr>\n",
       "      <th id=\"T_750c7_level0_row14\" class=\"row_heading level0 row14\" >14</th>\n",
       "      <td id=\"T_750c7_row14_col0\" class=\"data row14 col0\" >Ignore Seasonality Test</td>\n",
       "      <td id=\"T_750c7_row14_col1\" class=\"data row14 col1\" >False</td>\n",
       "    </tr>\n",
       "    <tr>\n",
       "      <th id=\"T_750c7_level0_row15\" class=\"row_heading level0 row15\" >15</th>\n",
       "      <td id=\"T_750c7_row15_col0\" class=\"data row15 col0\" >Seasonality Detection Algo</td>\n",
       "      <td id=\"T_750c7_row15_col1\" class=\"data row15 col1\" >user_defined</td>\n",
       "    </tr>\n",
       "    <tr>\n",
       "      <th id=\"T_750c7_level0_row16\" class=\"row_heading level0 row16\" >16</th>\n",
       "      <td id=\"T_750c7_row16_col0\" class=\"data row16 col0\" >Max Period to Consider</td>\n",
       "      <td id=\"T_750c7_row16_col1\" class=\"data row16 col1\" >60</td>\n",
       "    </tr>\n",
       "    <tr>\n",
       "      <th id=\"T_750c7_level0_row17\" class=\"row_heading level0 row17\" >17</th>\n",
       "      <td id=\"T_750c7_row17_col0\" class=\"data row17 col0\" >Seasonal Period(s) Tested</td>\n",
       "      <td id=\"T_750c7_row17_col1\" class=\"data row17 col1\" >[2, 4]</td>\n",
       "    </tr>\n",
       "    <tr>\n",
       "      <th id=\"T_750c7_level0_row18\" class=\"row_heading level0 row18\" >18</th>\n",
       "      <td id=\"T_750c7_row18_col0\" class=\"data row18 col0\" >Significant Seasonal Period(s)</td>\n",
       "      <td id=\"T_750c7_row18_col1\" class=\"data row18 col1\" >[2, 4]</td>\n",
       "    </tr>\n",
       "    <tr>\n",
       "      <th id=\"T_750c7_level0_row19\" class=\"row_heading level0 row19\" >19</th>\n",
       "      <td id=\"T_750c7_row19_col0\" class=\"data row19 col0\" >Significant Seasonal Period(s) without Harmonics</td>\n",
       "      <td id=\"T_750c7_row19_col1\" class=\"data row19 col1\" >[4]</td>\n",
       "    </tr>\n",
       "    <tr>\n",
       "      <th id=\"T_750c7_level0_row20\" class=\"row_heading level0 row20\" >20</th>\n",
       "      <td id=\"T_750c7_row20_col0\" class=\"data row20 col0\" >Remove Harmonics</td>\n",
       "      <td id=\"T_750c7_row20_col1\" class=\"data row20 col1\" >False</td>\n",
       "    </tr>\n",
       "    <tr>\n",
       "      <th id=\"T_750c7_level0_row21\" class=\"row_heading level0 row21\" >21</th>\n",
       "      <td id=\"T_750c7_row21_col0\" class=\"data row21 col0\" >Harmonics Order Method</td>\n",
       "      <td id=\"T_750c7_row21_col1\" class=\"data row21 col1\" >harmonic_max</td>\n",
       "    </tr>\n",
       "    <tr>\n",
       "      <th id=\"T_750c7_level0_row22\" class=\"row_heading level0 row22\" >22</th>\n",
       "      <td id=\"T_750c7_row22_col0\" class=\"data row22 col0\" >Num Seasonalities to Use</td>\n",
       "      <td id=\"T_750c7_row22_col1\" class=\"data row22 col1\" >1</td>\n",
       "    </tr>\n",
       "    <tr>\n",
       "      <th id=\"T_750c7_level0_row23\" class=\"row_heading level0 row23\" >23</th>\n",
       "      <td id=\"T_750c7_row23_col0\" class=\"data row23 col0\" >All Seasonalities to Use</td>\n",
       "      <td id=\"T_750c7_row23_col1\" class=\"data row23 col1\" >[2]</td>\n",
       "    </tr>\n",
       "    <tr>\n",
       "      <th id=\"T_750c7_level0_row24\" class=\"row_heading level0 row24\" >24</th>\n",
       "      <td id=\"T_750c7_row24_col0\" class=\"data row24 col0\" >Primary Seasonality</td>\n",
       "      <td id=\"T_750c7_row24_col1\" class=\"data row24 col1\" >2</td>\n",
       "    </tr>\n",
       "    <tr>\n",
       "      <th id=\"T_750c7_level0_row25\" class=\"row_heading level0 row25\" >25</th>\n",
       "      <td id=\"T_750c7_row25_col0\" class=\"data row25 col0\" >Seasonality Present</td>\n",
       "      <td id=\"T_750c7_row25_col1\" class=\"data row25 col1\" >True</td>\n",
       "    </tr>\n",
       "    <tr>\n",
       "      <th id=\"T_750c7_level0_row26\" class=\"row_heading level0 row26\" >26</th>\n",
       "      <td id=\"T_750c7_row26_col0\" class=\"data row26 col0\" >Seasonality Type</td>\n",
       "      <td id=\"T_750c7_row26_col1\" class=\"data row26 col1\" >mul</td>\n",
       "    </tr>\n",
       "    <tr>\n",
       "      <th id=\"T_750c7_level0_row27\" class=\"row_heading level0 row27\" >27</th>\n",
       "      <td id=\"T_750c7_row27_col0\" class=\"data row27 col0\" >Target Strictly Positive</td>\n",
       "      <td id=\"T_750c7_row27_col1\" class=\"data row27 col1\" >True</td>\n",
       "    </tr>\n",
       "    <tr>\n",
       "      <th id=\"T_750c7_level0_row28\" class=\"row_heading level0 row28\" >28</th>\n",
       "      <td id=\"T_750c7_row28_col0\" class=\"data row28 col0\" >Target White Noise</td>\n",
       "      <td id=\"T_750c7_row28_col1\" class=\"data row28 col1\" >No</td>\n",
       "    </tr>\n",
       "    <tr>\n",
       "      <th id=\"T_750c7_level0_row29\" class=\"row_heading level0 row29\" >29</th>\n",
       "      <td id=\"T_750c7_row29_col0\" class=\"data row29 col0\" >Recommended d</td>\n",
       "      <td id=\"T_750c7_row29_col1\" class=\"data row29 col1\" >1</td>\n",
       "    </tr>\n",
       "    <tr>\n",
       "      <th id=\"T_750c7_level0_row30\" class=\"row_heading level0 row30\" >30</th>\n",
       "      <td id=\"T_750c7_row30_col0\" class=\"data row30 col0\" >Recommended Seasonal D</td>\n",
       "      <td id=\"T_750c7_row30_col1\" class=\"data row30 col1\" >2</td>\n",
       "    </tr>\n",
       "    <tr>\n",
       "      <th id=\"T_750c7_level0_row31\" class=\"row_heading level0 row31\" >31</th>\n",
       "      <td id=\"T_750c7_row31_col0\" class=\"data row31 col0\" >Preprocess</td>\n",
       "      <td id=\"T_750c7_row31_col1\" class=\"data row31 col1\" >True</td>\n",
       "    </tr>\n",
       "    <tr>\n",
       "      <th id=\"T_750c7_level0_row32\" class=\"row_heading level0 row32\" >32</th>\n",
       "      <td id=\"T_750c7_row32_col0\" class=\"data row32 col0\" >Numerical Imputation (Target)</td>\n",
       "      <td id=\"T_750c7_row32_col1\" class=\"data row32 col1\" >None</td>\n",
       "    </tr>\n",
       "    <tr>\n",
       "      <th id=\"T_750c7_level0_row33\" class=\"row_heading level0 row33\" >33</th>\n",
       "      <td id=\"T_750c7_row33_col0\" class=\"data row33 col0\" >Transformation (Target)</td>\n",
       "      <td id=\"T_750c7_row33_col1\" class=\"data row33 col1\" >box-cox</td>\n",
       "    </tr>\n",
       "    <tr>\n",
       "      <th id=\"T_750c7_level0_row34\" class=\"row_heading level0 row34\" >34</th>\n",
       "      <td id=\"T_750c7_row34_col0\" class=\"data row34 col0\" >Scaling (Target)</td>\n",
       "      <td id=\"T_750c7_row34_col1\" class=\"data row34 col1\" >None</td>\n",
       "    </tr>\n",
       "    <tr>\n",
       "      <th id=\"T_750c7_level0_row35\" class=\"row_heading level0 row35\" >35</th>\n",
       "      <td id=\"T_750c7_row35_col0\" class=\"data row35 col0\" >Feature Engineering (Target) - Reduced Regression</td>\n",
       "      <td id=\"T_750c7_row35_col1\" class=\"data row35 col1\" >False</td>\n",
       "    </tr>\n",
       "    <tr>\n",
       "      <th id=\"T_750c7_level0_row36\" class=\"row_heading level0 row36\" >36</th>\n",
       "      <td id=\"T_750c7_row36_col0\" class=\"data row36 col0\" >Numerical Imputation (Exogenous)</td>\n",
       "      <td id=\"T_750c7_row36_col1\" class=\"data row36 col1\" >None</td>\n",
       "    </tr>\n",
       "    <tr>\n",
       "      <th id=\"T_750c7_level0_row37\" class=\"row_heading level0 row37\" >37</th>\n",
       "      <td id=\"T_750c7_row37_col0\" class=\"data row37 col0\" >Transformation (Exogenous)</td>\n",
       "      <td id=\"T_750c7_row37_col1\" class=\"data row37 col1\" >None</td>\n",
       "    </tr>\n",
       "    <tr>\n",
       "      <th id=\"T_750c7_level0_row38\" class=\"row_heading level0 row38\" >38</th>\n",
       "      <td id=\"T_750c7_row38_col0\" class=\"data row38 col0\" >Scaling (Exogenous)</td>\n",
       "      <td id=\"T_750c7_row38_col1\" class=\"data row38 col1\" >None</td>\n",
       "    </tr>\n",
       "    <tr>\n",
       "      <th id=\"T_750c7_level0_row39\" class=\"row_heading level0 row39\" >39</th>\n",
       "      <td id=\"T_750c7_row39_col0\" class=\"data row39 col0\" >CPU Jobs</td>\n",
       "      <td id=\"T_750c7_row39_col1\" class=\"data row39 col1\" >-1</td>\n",
       "    </tr>\n",
       "    <tr>\n",
       "      <th id=\"T_750c7_level0_row40\" class=\"row_heading level0 row40\" >40</th>\n",
       "      <td id=\"T_750c7_row40_col0\" class=\"data row40 col0\" >Use GPU</td>\n",
       "      <td id=\"T_750c7_row40_col1\" class=\"data row40 col1\" >False</td>\n",
       "    </tr>\n",
       "    <tr>\n",
       "      <th id=\"T_750c7_level0_row41\" class=\"row_heading level0 row41\" >41</th>\n",
       "      <td id=\"T_750c7_row41_col0\" class=\"data row41 col0\" >Log Experiment</td>\n",
       "      <td id=\"T_750c7_row41_col1\" class=\"data row41 col1\" >False</td>\n",
       "    </tr>\n",
       "    <tr>\n",
       "      <th id=\"T_750c7_level0_row42\" class=\"row_heading level0 row42\" >42</th>\n",
       "      <td id=\"T_750c7_row42_col0\" class=\"data row42 col0\" >Experiment Name</td>\n",
       "      <td id=\"T_750c7_row42_col1\" class=\"data row42 col1\" >ts-default-name</td>\n",
       "    </tr>\n",
       "    <tr>\n",
       "      <th id=\"T_750c7_level0_row43\" class=\"row_heading level0 row43\" >43</th>\n",
       "      <td id=\"T_750c7_row43_col0\" class=\"data row43 col0\" >USI</td>\n",
       "      <td id=\"T_750c7_row43_col1\" class=\"data row43 col1\" >aab2</td>\n",
       "    </tr>\n",
       "  </tbody>\n",
       "</table>\n"
      ],
      "text/plain": [
       "<pandas.io.formats.style.Styler at 0x11046f250>"
      ]
     },
     "metadata": {},
     "output_type": "display_data"
    }
   ],
   "source": [
    "# Step 2: Setup\n",
    "exp = setup(\n",
    "    data=df_forecast,\n",
    "    target='Unemployment_Rate',\n",
    "    fh=6,\n",
    "    session_id=123,\n",
    "    transform_target='box-cox',\n",
    "    seasonal_period=[2, 4]\n",
    ")"
   ]
  },
  {
   "cell_type": "markdown",
   "metadata": {},
   "source": [
    "### statistics"
   ]
  },
  {
   "cell_type": "code",
   "execution_count": 13,
   "metadata": {},
   "outputs": [
    {
     "data": {
      "text/html": [
       "<div>\n",
       "<style scoped>\n",
       "    .dataframe tbody tr th:only-of-type {\n",
       "        vertical-align: middle;\n",
       "    }\n",
       "\n",
       "    .dataframe tbody tr th {\n",
       "        vertical-align: top;\n",
       "    }\n",
       "\n",
       "    .dataframe thead th {\n",
       "        text-align: right;\n",
       "    }\n",
       "</style>\n",
       "<table border=\"1\" class=\"dataframe\">\n",
       "  <thead>\n",
       "    <tr style=\"text-align: right;\">\n",
       "      <th></th>\n",
       "      <th>Test</th>\n",
       "      <th>Test Name</th>\n",
       "      <th>Data</th>\n",
       "      <th>Property</th>\n",
       "      <th>Setting</th>\n",
       "      <th>Value</th>\n",
       "    </tr>\n",
       "  </thead>\n",
       "  <tbody>\n",
       "    <tr>\n",
       "      <th>0</th>\n",
       "      <td>Summary</td>\n",
       "      <td>Statistics</td>\n",
       "      <td>Transformed</td>\n",
       "      <td>Length</td>\n",
       "      <td></td>\n",
       "      <td>32.0</td>\n",
       "    </tr>\n",
       "    <tr>\n",
       "      <th>1</th>\n",
       "      <td>Summary</td>\n",
       "      <td>Statistics</td>\n",
       "      <td>Transformed</td>\n",
       "      <td># Missing Values</td>\n",
       "      <td></td>\n",
       "      <td>0.0</td>\n",
       "    </tr>\n",
       "    <tr>\n",
       "      <th>2</th>\n",
       "      <td>Summary</td>\n",
       "      <td>Statistics</td>\n",
       "      <td>Transformed</td>\n",
       "      <td>Mean</td>\n",
       "      <td></td>\n",
       "      <td>1.614285</td>\n",
       "    </tr>\n",
       "    <tr>\n",
       "      <th>3</th>\n",
       "      <td>Summary</td>\n",
       "      <td>Statistics</td>\n",
       "      <td>Transformed</td>\n",
       "      <td>Median</td>\n",
       "      <td></td>\n",
       "      <td>1.612033</td>\n",
       "    </tr>\n",
       "    <tr>\n",
       "      <th>4</th>\n",
       "      <td>Summary</td>\n",
       "      <td>Statistics</td>\n",
       "      <td>Transformed</td>\n",
       "      <td>Standard Deviation</td>\n",
       "      <td></td>\n",
       "      <td>0.038716</td>\n",
       "    </tr>\n",
       "    <tr>\n",
       "      <th>5</th>\n",
       "      <td>Summary</td>\n",
       "      <td>Statistics</td>\n",
       "      <td>Transformed</td>\n",
       "      <td>Variance</td>\n",
       "      <td></td>\n",
       "      <td>0.001499</td>\n",
       "    </tr>\n",
       "    <tr>\n",
       "      <th>6</th>\n",
       "      <td>Summary</td>\n",
       "      <td>Statistics</td>\n",
       "      <td>Transformed</td>\n",
       "      <td>Kurtosis</td>\n",
       "      <td></td>\n",
       "      <td>-0.99917</td>\n",
       "    </tr>\n",
       "    <tr>\n",
       "      <th>7</th>\n",
       "      <td>Summary</td>\n",
       "      <td>Statistics</td>\n",
       "      <td>Transformed</td>\n",
       "      <td>Skewness</td>\n",
       "      <td></td>\n",
       "      <td>0.017002</td>\n",
       "    </tr>\n",
       "    <tr>\n",
       "      <th>8</th>\n",
       "      <td>Summary</td>\n",
       "      <td>Statistics</td>\n",
       "      <td>Transformed</td>\n",
       "      <td># Distinct Values</td>\n",
       "      <td></td>\n",
       "      <td>32.0</td>\n",
       "    </tr>\n",
       "    <tr>\n",
       "      <th>9</th>\n",
       "      <td>White Noise</td>\n",
       "      <td>Ljung-Box</td>\n",
       "      <td>Transformed</td>\n",
       "      <td>Test Statictic</td>\n",
       "      <td>{'alpha': 0.05, 'K': 24}</td>\n",
       "      <td>56.271255</td>\n",
       "    </tr>\n",
       "    <tr>\n",
       "      <th>10</th>\n",
       "      <td>White Noise</td>\n",
       "      <td>Ljung-Box</td>\n",
       "      <td>Transformed</td>\n",
       "      <td>p-value</td>\n",
       "      <td>{'alpha': 0.05, 'K': 24}</td>\n",
       "      <td>0.00021</td>\n",
       "    </tr>\n",
       "    <tr>\n",
       "      <th>11</th>\n",
       "      <td>White Noise</td>\n",
       "      <td>Ljung-Box</td>\n",
       "      <td>Transformed</td>\n",
       "      <td>White Noise</td>\n",
       "      <td>{'alpha': 0.05, 'K': 24}</td>\n",
       "      <td>0.0</td>\n",
       "    </tr>\n",
       "    <tr>\n",
       "      <th>12</th>\n",
       "      <td>Stationarity</td>\n",
       "      <td>ADF</td>\n",
       "      <td>Transformed</td>\n",
       "      <td>Stationarity</td>\n",
       "      <td>{'alpha': 0.05}</td>\n",
       "      <td>False</td>\n",
       "    </tr>\n",
       "    <tr>\n",
       "      <th>13</th>\n",
       "      <td>Stationarity</td>\n",
       "      <td>ADF</td>\n",
       "      <td>Transformed</td>\n",
       "      <td>p-value</td>\n",
       "      <td>{'alpha': 0.05}</td>\n",
       "      <td>0.318072</td>\n",
       "    </tr>\n",
       "    <tr>\n",
       "      <th>14</th>\n",
       "      <td>Stationarity</td>\n",
       "      <td>ADF</td>\n",
       "      <td>Transformed</td>\n",
       "      <td>Test Statistic</td>\n",
       "      <td>{'alpha': 0.05}</td>\n",
       "      <td>-1.930022</td>\n",
       "    </tr>\n",
       "    <tr>\n",
       "      <th>15</th>\n",
       "      <td>Stationarity</td>\n",
       "      <td>ADF</td>\n",
       "      <td>Transformed</td>\n",
       "      <td>Critical Value 1%</td>\n",
       "      <td>{'alpha': 0.05}</td>\n",
       "      <td>-3.67906</td>\n",
       "    </tr>\n",
       "    <tr>\n",
       "      <th>16</th>\n",
       "      <td>Stationarity</td>\n",
       "      <td>ADF</td>\n",
       "      <td>Transformed</td>\n",
       "      <td>Critical Value 5%</td>\n",
       "      <td>{'alpha': 0.05}</td>\n",
       "      <td>-2.967882</td>\n",
       "    </tr>\n",
       "    <tr>\n",
       "      <th>17</th>\n",
       "      <td>Stationarity</td>\n",
       "      <td>ADF</td>\n",
       "      <td>Transformed</td>\n",
       "      <td>Critical Value 10%</td>\n",
       "      <td>{'alpha': 0.05}</td>\n",
       "      <td>-2.623158</td>\n",
       "    </tr>\n",
       "    <tr>\n",
       "      <th>18</th>\n",
       "      <td>Stationarity</td>\n",
       "      <td>KPSS</td>\n",
       "      <td>Transformed</td>\n",
       "      <td>Trend Stationarity</td>\n",
       "      <td>{'alpha': 0.05}</td>\n",
       "      <td>True</td>\n",
       "    </tr>\n",
       "    <tr>\n",
       "      <th>19</th>\n",
       "      <td>Stationarity</td>\n",
       "      <td>KPSS</td>\n",
       "      <td>Transformed</td>\n",
       "      <td>p-value</td>\n",
       "      <td>{'alpha': 0.05}</td>\n",
       "      <td>0.065343</td>\n",
       "    </tr>\n",
       "    <tr>\n",
       "      <th>20</th>\n",
       "      <td>Stationarity</td>\n",
       "      <td>KPSS</td>\n",
       "      <td>Transformed</td>\n",
       "      <td>Test Statistic</td>\n",
       "      <td>{'alpha': 0.05}</td>\n",
       "      <td>0.137715</td>\n",
       "    </tr>\n",
       "    <tr>\n",
       "      <th>21</th>\n",
       "      <td>Stationarity</td>\n",
       "      <td>KPSS</td>\n",
       "      <td>Transformed</td>\n",
       "      <td>Critical Value 10%</td>\n",
       "      <td>{'alpha': 0.05}</td>\n",
       "      <td>0.119</td>\n",
       "    </tr>\n",
       "    <tr>\n",
       "      <th>22</th>\n",
       "      <td>Stationarity</td>\n",
       "      <td>KPSS</td>\n",
       "      <td>Transformed</td>\n",
       "      <td>Critical Value 5%</td>\n",
       "      <td>{'alpha': 0.05}</td>\n",
       "      <td>0.146</td>\n",
       "    </tr>\n",
       "    <tr>\n",
       "      <th>23</th>\n",
       "      <td>Stationarity</td>\n",
       "      <td>KPSS</td>\n",
       "      <td>Transformed</td>\n",
       "      <td>Critical Value 2.5%</td>\n",
       "      <td>{'alpha': 0.05}</td>\n",
       "      <td>0.176</td>\n",
       "    </tr>\n",
       "    <tr>\n",
       "      <th>24</th>\n",
       "      <td>Stationarity</td>\n",
       "      <td>KPSS</td>\n",
       "      <td>Transformed</td>\n",
       "      <td>Critical Value 1%</td>\n",
       "      <td>{'alpha': 0.05}</td>\n",
       "      <td>0.216</td>\n",
       "    </tr>\n",
       "    <tr>\n",
       "      <th>25</th>\n",
       "      <td>Normality</td>\n",
       "      <td>Shapiro</td>\n",
       "      <td>Transformed</td>\n",
       "      <td>Normality</td>\n",
       "      <td>{'alpha': 0.05}</td>\n",
       "      <td>True</td>\n",
       "    </tr>\n",
       "    <tr>\n",
       "      <th>26</th>\n",
       "      <td>Normality</td>\n",
       "      <td>Shapiro</td>\n",
       "      <td>Transformed</td>\n",
       "      <td>p-value</td>\n",
       "      <td>{'alpha': 0.05}</td>\n",
       "      <td>0.370054</td>\n",
       "    </tr>\n",
       "  </tbody>\n",
       "</table>\n",
       "</div>"
      ],
      "text/plain": [
       "            Test   Test Name         Data             Property  \\\n",
       "0        Summary  Statistics  Transformed               Length   \n",
       "1        Summary  Statistics  Transformed     # Missing Values   \n",
       "2        Summary  Statistics  Transformed                 Mean   \n",
       "3        Summary  Statistics  Transformed               Median   \n",
       "4        Summary  Statistics  Transformed   Standard Deviation   \n",
       "5        Summary  Statistics  Transformed             Variance   \n",
       "6        Summary  Statistics  Transformed             Kurtosis   \n",
       "7        Summary  Statistics  Transformed             Skewness   \n",
       "8        Summary  Statistics  Transformed    # Distinct Values   \n",
       "9    White Noise   Ljung-Box  Transformed       Test Statictic   \n",
       "10   White Noise   Ljung-Box  Transformed              p-value   \n",
       "11   White Noise   Ljung-Box  Transformed          White Noise   \n",
       "12  Stationarity         ADF  Transformed         Stationarity   \n",
       "13  Stationarity         ADF  Transformed              p-value   \n",
       "14  Stationarity         ADF  Transformed       Test Statistic   \n",
       "15  Stationarity         ADF  Transformed    Critical Value 1%   \n",
       "16  Stationarity         ADF  Transformed    Critical Value 5%   \n",
       "17  Stationarity         ADF  Transformed   Critical Value 10%   \n",
       "18  Stationarity        KPSS  Transformed   Trend Stationarity   \n",
       "19  Stationarity        KPSS  Transformed              p-value   \n",
       "20  Stationarity        KPSS  Transformed       Test Statistic   \n",
       "21  Stationarity        KPSS  Transformed   Critical Value 10%   \n",
       "22  Stationarity        KPSS  Transformed    Critical Value 5%   \n",
       "23  Stationarity        KPSS  Transformed  Critical Value 2.5%   \n",
       "24  Stationarity        KPSS  Transformed    Critical Value 1%   \n",
       "25     Normality     Shapiro  Transformed            Normality   \n",
       "26     Normality     Shapiro  Transformed              p-value   \n",
       "\n",
       "                     Setting      Value  \n",
       "0                                  32.0  \n",
       "1                                   0.0  \n",
       "2                              1.614285  \n",
       "3                              1.612033  \n",
       "4                              0.038716  \n",
       "5                              0.001499  \n",
       "6                              -0.99917  \n",
       "7                              0.017002  \n",
       "8                                  32.0  \n",
       "9   {'alpha': 0.05, 'K': 24}  56.271255  \n",
       "10  {'alpha': 0.05, 'K': 24}    0.00021  \n",
       "11  {'alpha': 0.05, 'K': 24}        0.0  \n",
       "12           {'alpha': 0.05}      False  \n",
       "13           {'alpha': 0.05}   0.318072  \n",
       "14           {'alpha': 0.05}  -1.930022  \n",
       "15           {'alpha': 0.05}   -3.67906  \n",
       "16           {'alpha': 0.05}  -2.967882  \n",
       "17           {'alpha': 0.05}  -2.623158  \n",
       "18           {'alpha': 0.05}       True  \n",
       "19           {'alpha': 0.05}   0.065343  \n",
       "20           {'alpha': 0.05}   0.137715  \n",
       "21           {'alpha': 0.05}      0.119  \n",
       "22           {'alpha': 0.05}      0.146  \n",
       "23           {'alpha': 0.05}      0.176  \n",
       "24           {'alpha': 0.05}      0.216  \n",
       "25           {'alpha': 0.05}       True  \n",
       "26           {'alpha': 0.05}   0.370054  "
      ]
     },
     "execution_count": 13,
     "metadata": {},
     "output_type": "execute_result"
    }
   ],
   "source": [
    "check_stats()"
   ]
  },
  {
   "cell_type": "markdown",
   "metadata": {},
   "source": [
    "### model comparisons"
   ]
  },
  {
   "cell_type": "code",
   "execution_count": 14,
   "metadata": {},
   "outputs": [
    {
     "data": {
      "text/html": [],
      "text/plain": [
       "<IPython.core.display.HTML object>"
      ]
     },
     "metadata": {},
     "output_type": "display_data"
    },
    {
     "data": {
      "text/html": [
       "<style type=\"text/css\">\n",
       "#T_3e759 th {\n",
       "  text-align: left;\n",
       "}\n",
       "#T_3e759_row0_col0, #T_3e759_row0_col7, #T_3e759_row1_col0, #T_3e759_row1_col1, #T_3e759_row1_col2, #T_3e759_row1_col3, #T_3e759_row1_col4, #T_3e759_row1_col5, #T_3e759_row1_col6, #T_3e759_row2_col0, #T_3e759_row2_col1, #T_3e759_row2_col2, #T_3e759_row2_col3, #T_3e759_row2_col4, #T_3e759_row2_col5, #T_3e759_row2_col6, #T_3e759_row2_col7, #T_3e759_row3_col0, #T_3e759_row3_col1, #T_3e759_row3_col2, #T_3e759_row3_col3, #T_3e759_row3_col4, #T_3e759_row3_col5, #T_3e759_row3_col6, #T_3e759_row3_col7, #T_3e759_row4_col0, #T_3e759_row4_col1, #T_3e759_row4_col2, #T_3e759_row4_col3, #T_3e759_row4_col4, #T_3e759_row4_col5, #T_3e759_row4_col6, #T_3e759_row4_col7, #T_3e759_row5_col0, #T_3e759_row5_col1, #T_3e759_row5_col2, #T_3e759_row5_col3, #T_3e759_row5_col4, #T_3e759_row5_col5, #T_3e759_row5_col6, #T_3e759_row5_col7, #T_3e759_row6_col0, #T_3e759_row6_col1, #T_3e759_row6_col2, #T_3e759_row6_col3, #T_3e759_row6_col4, #T_3e759_row6_col5, #T_3e759_row6_col6, #T_3e759_row6_col7, #T_3e759_row7_col0, #T_3e759_row7_col1, #T_3e759_row7_col2, #T_3e759_row7_col3, #T_3e759_row7_col4, #T_3e759_row7_col5, #T_3e759_row7_col6, #T_3e759_row7_col7, #T_3e759_row8_col0, #T_3e759_row8_col1, #T_3e759_row8_col2, #T_3e759_row8_col3, #T_3e759_row8_col4, #T_3e759_row8_col5, #T_3e759_row8_col6, #T_3e759_row8_col7, #T_3e759_row9_col0, #T_3e759_row9_col1, #T_3e759_row9_col2, #T_3e759_row9_col3, #T_3e759_row9_col4, #T_3e759_row9_col5, #T_3e759_row9_col6, #T_3e759_row9_col7, #T_3e759_row10_col0, #T_3e759_row10_col1, #T_3e759_row10_col2, #T_3e759_row10_col3, #T_3e759_row10_col4, #T_3e759_row10_col5, #T_3e759_row10_col6, #T_3e759_row10_col7, #T_3e759_row11_col0, #T_3e759_row11_col1, #T_3e759_row11_col2, #T_3e759_row11_col3, #T_3e759_row11_col4, #T_3e759_row11_col5, #T_3e759_row11_col6, #T_3e759_row11_col7, #T_3e759_row12_col0, #T_3e759_row12_col1, #T_3e759_row12_col2, #T_3e759_row12_col3, #T_3e759_row12_col4, #T_3e759_row12_col5, #T_3e759_row12_col6, #T_3e759_row12_col7, #T_3e759_row13_col0, #T_3e759_row13_col1, #T_3e759_row13_col2, #T_3e759_row13_col3, #T_3e759_row13_col4, #T_3e759_row13_col5, #T_3e759_row13_col6, #T_3e759_row13_col7, #T_3e759_row14_col0, #T_3e759_row14_col1, #T_3e759_row14_col2, #T_3e759_row14_col3, #T_3e759_row14_col4, #T_3e759_row14_col5, #T_3e759_row14_col6, #T_3e759_row14_col7, #T_3e759_row15_col0, #T_3e759_row15_col1, #T_3e759_row15_col2, #T_3e759_row15_col3, #T_3e759_row15_col4, #T_3e759_row15_col5, #T_3e759_row15_col6, #T_3e759_row15_col7 {\n",
       "  text-align: left;\n",
       "}\n",
       "#T_3e759_row0_col1, #T_3e759_row0_col2, #T_3e759_row0_col3, #T_3e759_row0_col4, #T_3e759_row0_col5, #T_3e759_row0_col6, #T_3e759_row1_col7 {\n",
       "  text-align: left;\n",
       "  background-color: yellow;\n",
       "}\n",
       "#T_3e759_row0_col8, #T_3e759_row1_col8, #T_3e759_row2_col8, #T_3e759_row3_col8, #T_3e759_row4_col8, #T_3e759_row5_col8, #T_3e759_row6_col8, #T_3e759_row8_col8, #T_3e759_row9_col8, #T_3e759_row10_col8, #T_3e759_row11_col8, #T_3e759_row13_col8, #T_3e759_row14_col8, #T_3e759_row15_col8 {\n",
       "  text-align: left;\n",
       "  background-color: lightgrey;\n",
       "}\n",
       "#T_3e759_row7_col8, #T_3e759_row12_col8 {\n",
       "  text-align: left;\n",
       "  background-color: yellow;\n",
       "  background-color: lightgrey;\n",
       "}\n",
       "</style>\n",
       "<table id=\"T_3e759\">\n",
       "  <thead>\n",
       "    <tr>\n",
       "      <th class=\"blank level0\" >&nbsp;</th>\n",
       "      <th id=\"T_3e759_level0_col0\" class=\"col_heading level0 col0\" >Model</th>\n",
       "      <th id=\"T_3e759_level0_col1\" class=\"col_heading level0 col1\" >MASE</th>\n",
       "      <th id=\"T_3e759_level0_col2\" class=\"col_heading level0 col2\" >RMSSE</th>\n",
       "      <th id=\"T_3e759_level0_col3\" class=\"col_heading level0 col3\" >MAE</th>\n",
       "      <th id=\"T_3e759_level0_col4\" class=\"col_heading level0 col4\" >RMSE</th>\n",
       "      <th id=\"T_3e759_level0_col5\" class=\"col_heading level0 col5\" >MAPE</th>\n",
       "      <th id=\"T_3e759_level0_col6\" class=\"col_heading level0 col6\" >SMAPE</th>\n",
       "      <th id=\"T_3e759_level0_col7\" class=\"col_heading level0 col7\" >R2</th>\n",
       "      <th id=\"T_3e759_level0_col8\" class=\"col_heading level0 col8\" >TT (Sec)</th>\n",
       "    </tr>\n",
       "  </thead>\n",
       "  <tbody>\n",
       "    <tr>\n",
       "      <th id=\"T_3e759_level0_row0\" class=\"row_heading level0 row0\" >arima</th>\n",
       "      <td id=\"T_3e759_row0_col0\" class=\"data row0 col0\" >ARIMA</td>\n",
       "      <td id=\"T_3e759_row0_col1\" class=\"data row0 col1\" >0.1804</td>\n",
       "      <td id=\"T_3e759_row0_col2\" class=\"data row0 col2\" >0.2315</td>\n",
       "      <td id=\"T_3e759_row0_col3\" class=\"data row0 col3\" >0.2355</td>\n",
       "      <td id=\"T_3e759_row0_col4\" class=\"data row0 col4\" >0.3439</td>\n",
       "      <td id=\"T_3e759_row0_col5\" class=\"data row0 col5\" >0.0185</td>\n",
       "      <td id=\"T_3e759_row0_col6\" class=\"data row0 col6\" >0.0194</td>\n",
       "      <td id=\"T_3e759_row0_col7\" class=\"data row0 col7\" >0.7702</td>\n",
       "      <td id=\"T_3e759_row0_col8\" class=\"data row0 col8\" >1.0200</td>\n",
       "    </tr>\n",
       "    <tr>\n",
       "      <th id=\"T_3e759_level0_row1\" class=\"row_heading level0 row1\" >huber_cds_dt</th>\n",
       "      <td id=\"T_3e759_row1_col0\" class=\"data row1 col0\" >Huber w/ Cond. Deseasonalize & Detrending</td>\n",
       "      <td id=\"T_3e759_row1_col1\" class=\"data row1 col1\" >0.2472</td>\n",
       "      <td id=\"T_3e759_row1_col2\" class=\"data row1 col2\" >0.2632</td>\n",
       "      <td id=\"T_3e759_row1_col3\" class=\"data row1 col3\" >0.3458</td>\n",
       "      <td id=\"T_3e759_row1_col4\" class=\"data row1 col4\" >0.4108</td>\n",
       "      <td id=\"T_3e759_row1_col5\" class=\"data row1 col5\" >0.0254</td>\n",
       "      <td id=\"T_3e759_row1_col6\" class=\"data row1 col6\" >0.0259</td>\n",
       "      <td id=\"T_3e759_row1_col7\" class=\"data row1 col7\" >0.8086</td>\n",
       "      <td id=\"T_3e759_row1_col8\" class=\"data row1 col8\" >0.1400</td>\n",
       "    </tr>\n",
       "    <tr>\n",
       "      <th id=\"T_3e759_level0_row2\" class=\"row_heading level0 row2\" >ridge_cds_dt</th>\n",
       "      <td id=\"T_3e759_row2_col0\" class=\"data row2 col0\" >Ridge w/ Cond. Deseasonalize & Detrending</td>\n",
       "      <td id=\"T_3e759_row2_col1\" class=\"data row2 col1\" >0.7257</td>\n",
       "      <td id=\"T_3e759_row2_col2\" class=\"data row2 col2\" >0.7930</td>\n",
       "      <td id=\"T_3e759_row2_col3\" class=\"data row2 col3\" >1.0661</td>\n",
       "      <td id=\"T_3e759_row2_col4\" class=\"data row2 col4\" >1.2829</td>\n",
       "      <td id=\"T_3e759_row2_col5\" class=\"data row2 col5\" >0.0729</td>\n",
       "      <td id=\"T_3e759_row2_col6\" class=\"data row2 col6\" >0.0751</td>\n",
       "      <td id=\"T_3e759_row2_col7\" class=\"data row2 col7\" >-0.1569</td>\n",
       "      <td id=\"T_3e759_row2_col8\" class=\"data row2 col8\" >0.0800</td>\n",
       "    </tr>\n",
       "    <tr>\n",
       "      <th id=\"T_3e759_level0_row3\" class=\"row_heading level0 row3\" >br_cds_dt</th>\n",
       "      <td id=\"T_3e759_row3_col0\" class=\"data row3 col0\" >Bayesian Ridge w/ Cond. Deseasonalize & Detrending</td>\n",
       "      <td id=\"T_3e759_row3_col1\" class=\"data row3 col1\" >0.7467</td>\n",
       "      <td id=\"T_3e759_row3_col2\" class=\"data row3 col2\" >0.8064</td>\n",
       "      <td id=\"T_3e759_row3_col3\" class=\"data row3 col3\" >1.1255</td>\n",
       "      <td id=\"T_3e759_row3_col4\" class=\"data row3 col4\" >1.3429</td>\n",
       "      <td id=\"T_3e759_row3_col5\" class=\"data row3 col5\" >0.0758</td>\n",
       "      <td id=\"T_3e759_row3_col6\" class=\"data row3 col6\" >0.0816</td>\n",
       "      <td id=\"T_3e759_row3_col7\" class=\"data row3 col7\" >-0.6745</td>\n",
       "      <td id=\"T_3e759_row3_col8\" class=\"data row3 col8\" >0.0500</td>\n",
       "    </tr>\n",
       "    <tr>\n",
       "      <th id=\"T_3e759_level0_row4\" class=\"row_heading level0 row4\" >en_cds_dt</th>\n",
       "      <td id=\"T_3e759_row4_col0\" class=\"data row4 col0\" >Elastic Net w/ Cond. Deseasonalize & Detrending</td>\n",
       "      <td id=\"T_3e759_row4_col1\" class=\"data row4 col1\" >1.0026</td>\n",
       "      <td id=\"T_3e759_row4_col2\" class=\"data row4 col2\" >1.0978</td>\n",
       "      <td id=\"T_3e759_row4_col3\" class=\"data row4 col3\" >1.3922</td>\n",
       "      <td id=\"T_3e759_row4_col4\" class=\"data row4 col4\" >1.7105</td>\n",
       "      <td id=\"T_3e759_row4_col5\" class=\"data row4 col5\" >0.0957</td>\n",
       "      <td id=\"T_3e759_row4_col6\" class=\"data row4 col6\" >0.1012</td>\n",
       "      <td id=\"T_3e759_row4_col7\" class=\"data row4 col7\" >-0.7922</td>\n",
       "      <td id=\"T_3e759_row4_col8\" class=\"data row4 col8\" >0.0767</td>\n",
       "    </tr>\n",
       "    <tr>\n",
       "      <th id=\"T_3e759_level0_row5\" class=\"row_heading level0 row5\" >omp_cds_dt</th>\n",
       "      <td id=\"T_3e759_row5_col0\" class=\"data row5 col0\" >Orthogonal Matching Pursuit w/ Cond. Deseasonalize & Detrending</td>\n",
       "      <td id=\"T_3e759_row5_col1\" class=\"data row5 col1\" >1.1378</td>\n",
       "      <td id=\"T_3e759_row5_col2\" class=\"data row5 col2\" >1.2643</td>\n",
       "      <td id=\"T_3e759_row5_col3\" class=\"data row5 col3\" >1.5851</td>\n",
       "      <td id=\"T_3e759_row5_col4\" class=\"data row5 col4\" >1.9728</td>\n",
       "      <td id=\"T_3e759_row5_col5\" class=\"data row5 col5\" >0.1071</td>\n",
       "      <td id=\"T_3e759_row5_col6\" class=\"data row5 col6\" >0.1158</td>\n",
       "      <td id=\"T_3e759_row5_col7\" class=\"data row5 col7\" >-1.2908</td>\n",
       "      <td id=\"T_3e759_row5_col8\" class=\"data row5 col8\" >0.0500</td>\n",
       "    </tr>\n",
       "    <tr>\n",
       "      <th id=\"T_3e759_level0_row6\" class=\"row_heading level0 row6\" >lasso_cds_dt</th>\n",
       "      <td id=\"T_3e759_row6_col0\" class=\"data row6 col0\" >Lasso w/ Cond. Deseasonalize & Detrending</td>\n",
       "      <td id=\"T_3e759_row6_col1\" class=\"data row6 col1\" >1.1475</td>\n",
       "      <td id=\"T_3e759_row6_col2\" class=\"data row6 col2\" >1.1949</td>\n",
       "      <td id=\"T_3e759_row6_col3\" class=\"data row6 col3\" >1.6463</td>\n",
       "      <td id=\"T_3e759_row6_col4\" class=\"data row6 col4\" >1.8929</td>\n",
       "      <td id=\"T_3e759_row6_col5\" class=\"data row6 col5\" >0.1135</td>\n",
       "      <td id=\"T_3e759_row6_col6\" class=\"data row6 col6\" >0.1213</td>\n",
       "      <td id=\"T_3e759_row6_col7\" class=\"data row6 col7\" >-1.3098</td>\n",
       "      <td id=\"T_3e759_row6_col8\" class=\"data row6 col8\" >0.0767</td>\n",
       "    </tr>\n",
       "    <tr>\n",
       "      <th id=\"T_3e759_level0_row7\" class=\"row_heading level0 row7\" >llar_cds_dt</th>\n",
       "      <td id=\"T_3e759_row7_col0\" class=\"data row7 col0\" >Lasso Least Angular Regressor w/ Cond. Deseasonalize & Detrending</td>\n",
       "      <td id=\"T_3e759_row7_col1\" class=\"data row7 col1\" >1.1480</td>\n",
       "      <td id=\"T_3e759_row7_col2\" class=\"data row7 col2\" >1.1952</td>\n",
       "      <td id=\"T_3e759_row7_col3\" class=\"data row7 col3\" >1.6470</td>\n",
       "      <td id=\"T_3e759_row7_col4\" class=\"data row7 col4\" >1.8934</td>\n",
       "      <td id=\"T_3e759_row7_col5\" class=\"data row7 col5\" >0.1135</td>\n",
       "      <td id=\"T_3e759_row7_col6\" class=\"data row7 col6\" >0.1214</td>\n",
       "      <td id=\"T_3e759_row7_col7\" class=\"data row7 col7\" >-1.3103</td>\n",
       "      <td id=\"T_3e759_row7_col8\" class=\"data row7 col8\" >0.0467</td>\n",
       "    </tr>\n",
       "    <tr>\n",
       "      <th id=\"T_3e759_level0_row8\" class=\"row_heading level0 row8\" >knn_cds_dt</th>\n",
       "      <td id=\"T_3e759_row8_col0\" class=\"data row8 col0\" >K Neighbors w/ Cond. Deseasonalize & Detrending</td>\n",
       "      <td id=\"T_3e759_row8_col1\" class=\"data row8 col1\" >1.1535</td>\n",
       "      <td id=\"T_3e759_row8_col2\" class=\"data row8 col2\" >1.2388</td>\n",
       "      <td id=\"T_3e759_row8_col3\" class=\"data row8 col3\" >1.6166</td>\n",
       "      <td id=\"T_3e759_row8_col4\" class=\"data row8 col4\" >1.9433</td>\n",
       "      <td id=\"T_3e759_row8_col5\" class=\"data row8 col5\" >0.1094</td>\n",
       "      <td id=\"T_3e759_row8_col6\" class=\"data row8 col6\" >0.1191</td>\n",
       "      <td id=\"T_3e759_row8_col7\" class=\"data row8 col7\" >-1.2674</td>\n",
       "      <td id=\"T_3e759_row8_col8\" class=\"data row8 col8\" >0.0767</td>\n",
       "    </tr>\n",
       "    <tr>\n",
       "      <th id=\"T_3e759_level0_row9\" class=\"row_heading level0 row9\" >et_cds_dt</th>\n",
       "      <td id=\"T_3e759_row9_col0\" class=\"data row9 col0\" >Extra Trees w/ Cond. Deseasonalize & Detrending</td>\n",
       "      <td id=\"T_3e759_row9_col1\" class=\"data row9 col1\" >1.2120</td>\n",
       "      <td id=\"T_3e759_row9_col2\" class=\"data row9 col2\" >1.2962</td>\n",
       "      <td id=\"T_3e759_row9_col3\" class=\"data row9 col3\" >1.6689</td>\n",
       "      <td id=\"T_3e759_row9_col4\" class=\"data row9 col4\" >1.9992</td>\n",
       "      <td id=\"T_3e759_row9_col5\" class=\"data row9 col5\" >0.1140</td>\n",
       "      <td id=\"T_3e759_row9_col6\" class=\"data row9 col6\" >0.1229</td>\n",
       "      <td id=\"T_3e759_row9_col7\" class=\"data row9 col7\" >-1.3331</td>\n",
       "      <td id=\"T_3e759_row9_col8\" class=\"data row9 col8\" >0.0900</td>\n",
       "    </tr>\n",
       "    <tr>\n",
       "      <th id=\"T_3e759_level0_row10\" class=\"row_heading level0 row10\" >lightgbm_cds_dt</th>\n",
       "      <td id=\"T_3e759_row10_col0\" class=\"data row10 col0\" >Light Gradient Boosting w/ Cond. Deseasonalize & Detrending</td>\n",
       "      <td id=\"T_3e759_row10_col1\" class=\"data row10 col1\" >1.2283</td>\n",
       "      <td id=\"T_3e759_row10_col2\" class=\"data row10 col2\" >1.3280</td>\n",
       "      <td id=\"T_3e759_row10_col3\" class=\"data row10 col3\" >1.7089</td>\n",
       "      <td id=\"T_3e759_row10_col4\" class=\"data row10 col4\" >2.0726</td>\n",
       "      <td id=\"T_3e759_row10_col5\" class=\"data row10 col5\" >0.1156</td>\n",
       "      <td id=\"T_3e759_row10_col6\" class=\"data row10 col6\" >0.1258</td>\n",
       "      <td id=\"T_3e759_row10_col7\" class=\"data row10 col7\" >-1.5271</td>\n",
       "      <td id=\"T_3e759_row10_col8\" class=\"data row10 col8\" >0.0600</td>\n",
       "    </tr>\n",
       "    <tr>\n",
       "      <th id=\"T_3e759_level0_row11\" class=\"row_heading level0 row11\" >rf_cds_dt</th>\n",
       "      <td id=\"T_3e759_row11_col0\" class=\"data row11 col0\" >Random Forest w/ Cond. Deseasonalize & Detrending</td>\n",
       "      <td id=\"T_3e759_row11_col1\" class=\"data row11 col1\" >1.2645</td>\n",
       "      <td id=\"T_3e759_row11_col2\" class=\"data row11 col2\" >1.3355</td>\n",
       "      <td id=\"T_3e759_row11_col3\" class=\"data row11 col3\" >1.7468</td>\n",
       "      <td id=\"T_3e759_row11_col4\" class=\"data row11 col4\" >2.0677</td>\n",
       "      <td id=\"T_3e759_row11_col5\" class=\"data row11 col5\" >0.1201</td>\n",
       "      <td id=\"T_3e759_row11_col6\" class=\"data row11 col6\" >0.1296</td>\n",
       "      <td id=\"T_3e759_row11_col7\" class=\"data row11 col7\" >-1.4962</td>\n",
       "      <td id=\"T_3e759_row11_col8\" class=\"data row11 col8\" >0.1000</td>\n",
       "    </tr>\n",
       "    <tr>\n",
       "      <th id=\"T_3e759_level0_row12\" class=\"row_heading level0 row12\" >dt_cds_dt</th>\n",
       "      <td id=\"T_3e759_row12_col0\" class=\"data row12 col0\" >Decision Tree w/ Cond. Deseasonalize & Detrending</td>\n",
       "      <td id=\"T_3e759_row12_col1\" class=\"data row12 col1\" >1.2688</td>\n",
       "      <td id=\"T_3e759_row12_col2\" class=\"data row12 col2\" >1.4079</td>\n",
       "      <td id=\"T_3e759_row12_col3\" class=\"data row12 col3\" >1.7187</td>\n",
       "      <td id=\"T_3e759_row12_col4\" class=\"data row12 col4\" >2.1338</td>\n",
       "      <td id=\"T_3e759_row12_col5\" class=\"data row12 col5\" >0.1194</td>\n",
       "      <td id=\"T_3e759_row12_col6\" class=\"data row12 col6\" >0.1270</td>\n",
       "      <td id=\"T_3e759_row12_col7\" class=\"data row12 col7\" >-1.7296</td>\n",
       "      <td id=\"T_3e759_row12_col8\" class=\"data row12 col8\" >0.0467</td>\n",
       "    </tr>\n",
       "    <tr>\n",
       "      <th id=\"T_3e759_level0_row13\" class=\"row_heading level0 row13\" >ada_cds_dt</th>\n",
       "      <td id=\"T_3e759_row13_col0\" class=\"data row13 col0\" >AdaBoost w/ Cond. Deseasonalize & Detrending</td>\n",
       "      <td id=\"T_3e759_row13_col1\" class=\"data row13 col1\" >1.2823</td>\n",
       "      <td id=\"T_3e759_row13_col2\" class=\"data row13 col2\" >1.4130</td>\n",
       "      <td id=\"T_3e759_row13_col3\" class=\"data row13 col3\" >1.7673</td>\n",
       "      <td id=\"T_3e759_row13_col4\" class=\"data row13 col4\" >2.1946</td>\n",
       "      <td id=\"T_3e759_row13_col5\" class=\"data row13 col5\" >0.1225</td>\n",
       "      <td id=\"T_3e759_row13_col6\" class=\"data row13 col6\" >0.1309</td>\n",
       "      <td id=\"T_3e759_row13_col7\" class=\"data row13 col7\" >-1.8351</td>\n",
       "      <td id=\"T_3e759_row13_col8\" class=\"data row13 col8\" >0.0633</td>\n",
       "    </tr>\n",
       "    <tr>\n",
       "      <th id=\"T_3e759_level0_row14\" class=\"row_heading level0 row14\" >gbr_cds_dt</th>\n",
       "      <td id=\"T_3e759_row14_col0\" class=\"data row14 col0\" >Gradient Boosting w/ Cond. Deseasonalize & Detrending</td>\n",
       "      <td id=\"T_3e759_row14_col1\" class=\"data row14 col1\" >1.3551</td>\n",
       "      <td id=\"T_3e759_row14_col2\" class=\"data row14 col2\" >1.4991</td>\n",
       "      <td id=\"T_3e759_row14_col3\" class=\"data row14 col3\" >1.8739</td>\n",
       "      <td id=\"T_3e759_row14_col4\" class=\"data row14 col4\" >2.3123</td>\n",
       "      <td id=\"T_3e759_row14_col5\" class=\"data row14 col5\" >0.1301</td>\n",
       "      <td id=\"T_3e759_row14_col6\" class=\"data row14 col6\" >0.1403</td>\n",
       "      <td id=\"T_3e759_row14_col7\" class=\"data row14 col7\" >-2.1545</td>\n",
       "      <td id=\"T_3e759_row14_col8\" class=\"data row14 col8\" >0.0533</td>\n",
       "    </tr>\n",
       "    <tr>\n",
       "      <th id=\"T_3e759_level0_row15\" class=\"row_heading level0 row15\" >croston</th>\n",
       "      <td id=\"T_3e759_row15_col0\" class=\"data row15 col0\" >Croston</td>\n",
       "      <td id=\"T_3e759_row15_col1\" class=\"data row15 col1\" >1.5130</td>\n",
       "      <td id=\"T_3e759_row15_col2\" class=\"data row15 col2\" >1.5397</td>\n",
       "      <td id=\"T_3e759_row15_col3\" class=\"data row15 col3\" >2.0536</td>\n",
       "      <td id=\"T_3e759_row15_col4\" class=\"data row15 col4\" >2.3690</td>\n",
       "      <td id=\"T_3e759_row15_col5\" class=\"data row15 col5\" >0.1555</td>\n",
       "      <td id=\"T_3e759_row15_col6\" class=\"data row15 col6\" >0.1400</td>\n",
       "      <td id=\"T_3e759_row15_col7\" class=\"data row15 col7\" >-2.9516</td>\n",
       "      <td id=\"T_3e759_row15_col8\" class=\"data row15 col8\" >0.3300</td>\n",
       "    </tr>\n",
       "  </tbody>\n",
       "</table>\n"
      ],
      "text/plain": [
       "<pandas.io.formats.style.Styler at 0x110454850>"
      ]
     },
     "metadata": {},
     "output_type": "display_data"
    },
    {
     "data": {
      "text/html": [],
      "text/plain": [
       "<IPython.core.display.HTML object>"
      ]
     },
     "metadata": {},
     "output_type": "display_data"
    }
   ],
   "source": [
    "best_model = compare_models()"
   ]
  },
  {
   "cell_type": "markdown",
   "metadata": {},
   "source": [
    "diagnostics plot"
   ]
  },
  {
   "cell_type": "code",
   "execution_count": 17,
   "metadata": {},
   "outputs": [
    {
     "data": {
      "application/vnd.plotly.v1+json": {
       "config": {
        "plotlyServerURL": "https://plot.ly"
       },
       "data": [
        {
         "line": {
          "color": "rgb(31, 119, 180)",
          "width": 2
         },
         "marker": {
          "color": "rgb(31, 119, 180)",
          "size": 5
         },
         "mode": "lines+markers",
         "name": "Unemployment_Rate (transformed)",
         "showlegend": false,
         "type": "scattergl",
         "x": [
          "2009-01-01T00:00:00",
          "2009-07-01T00:00:00",
          "2010-01-01T00:00:00",
          "2010-07-01T00:00:00",
          "2011-01-01T00:00:00",
          "2011-07-01T00:00:00",
          "2012-01-01T00:00:00",
          "2012-07-01T00:00:00",
          "2013-01-01T00:00:00",
          "2013-07-01T00:00:00",
          "2014-01-01T00:00:00",
          "2014-07-01T00:00:00",
          "2015-01-01T00:00:00",
          "2015-07-01T00:00:00",
          "2016-01-01T00:00:00",
          "2016-07-01T00:00:00",
          "2017-01-01T00:00:00",
          "2017-07-01T00:00:00",
          "2018-01-01T00:00:00",
          "2018-07-01T00:00:00",
          "2019-01-01T00:00:00",
          "2019-07-01T00:00:00",
          "2020-01-01T00:00:00",
          "2020-07-01T00:00:00",
          "2021-01-01T00:00:00",
          "2021-07-01T00:00:00",
          "2022-01-01T00:00:00",
          "2022-07-01T00:00:00",
          "2023-01-01T00:00:00",
          "2023-07-01T00:00:00",
          "2024-01-01T00:00:00",
          "2024-07-01T00:00:00"
         ],
         "xaxis": "x",
         "y": [
          1.6885678954680108,
          1.6729282019899376,
          1.6467713167797504,
          1.6510692790352277,
          1.6676147867229032,
          1.6651257579617986,
          1.6149056870630771,
          1.6209378557712526,
          1.5913564424660396,
          1.6482580115507686,
          1.5703720982474083,
          1.652959941904709,
          1.6103260424805557,
          1.6590567215497225,
          1.5964676383887835,
          1.6119998474542536,
          1.5483458446500575,
          1.6275152586465154,
          1.5707778818377889,
          1.6114681267366366,
          1.554646206902456,
          1.5997764341456557,
          1.5607680411889402,
          1.648523312633392,
          1.6120656513330638,
          1.6308546553450733,
          1.5808842529805684,
          1.625271488220946,
          1.5618235652909247,
          1.6117975027616849,
          1.565082543593561,
          1.5788084432028562
         ],
         "yaxis": "y"
        },
        {
         "hoverinfo": "text",
         "hovertext": [
          "Freq: 0.0312<br>Ampl: -22.9693<br>Time period: 32.0",
          "Freq: 0.0625<br>Ampl: -23.9416<br>Time period: 16.0",
          "Freq: 0.0938<br>Ampl: -26.2856<br>Time period: 10.6667",
          "Freq: 0.125<br>Ampl: -34.4043<br>Time period: 8.0",
          "Freq: 0.1562<br>Ampl: -27.9433<br>Time period: 6.4",
          "Freq: 0.1875<br>Ampl: -26.6634<br>Time period: 5.3333",
          "Freq: 0.2188<br>Ampl: -29.5849<br>Time period: 4.5714",
          "Freq: 0.25<br>Ampl: -37.4174<br>Time period: 4.0",
          "Freq: 0.2812<br>Ampl: -40.6339<br>Time period: 3.5556",
          "Freq: 0.3125<br>Ampl: -34.7702<br>Time period: 3.2",
          "Freq: 0.3438<br>Ampl: -32.6057<br>Time period: 2.9091",
          "Freq: 0.375<br>Ampl: -36.2901<br>Time period: 2.6667",
          "Freq: 0.4062<br>Ampl: -41.5713<br>Time period: 2.4615",
          "Freq: 0.4375<br>Ampl: -32.3677<br>Time period: 2.2857",
          "Freq: 0.4688<br>Ampl: -19.7492<br>Time period: 2.1333",
          "Freq: 0.5<br>Ampl: -19.2687<br>Time period: 2.0"
         ],
         "line": {
          "color": "#1f77b4",
          "width": 2
         },
         "marker": {
          "size": 5
         },
         "mode": "lines+markers",
         "name": "Unemployment_Rate (transformed)",
         "showlegend": false,
         "type": "scattergl",
         "x": [
          0.03125,
          0.0625,
          0.09375,
          0.125,
          0.15625,
          0.1875,
          0.21875,
          0.25,
          0.28125,
          0.3125,
          0.34375,
          0.375,
          0.40625,
          0.4375,
          0.46875,
          0.5
         ],
         "xaxis": "x2",
         "y": [
          -22.96933585177685,
          -23.941566784019464,
          -26.285613180062427,
          -34.40428913531738,
          -27.943317065102264,
          -26.663414922043547,
          -29.58489693601298,
          -37.417369099739844,
          -40.633940330790885,
          -34.77024197624412,
          -32.60566684213719,
          -36.290089462768634,
          -41.57130413868886,
          -32.36772994066508,
          -19.749228487088306,
          -19.268654725924925
         ],
         "yaxis": "y2"
        },
        {
         "alignmentgroup": "True",
         "bingroup": "x",
         "hovertemplate": "variable=Unemployment_Rate (transformed)<br>value=%{x}<br>count=%{y}<extra></extra>",
         "legendgroup": "Unemployment_Rate (transformed)",
         "marker": {
          "color": "#1f77b4",
          "pattern": {
           "shape": ""
          }
         },
         "name": "Unemployment_Rate (transformed)",
         "offsetgroup": "Unemployment_Rate (transformed)",
         "orientation": "v",
         "showlegend": false,
         "type": "histogram",
         "x": [
          1.6885678954680108,
          1.6729282019899376,
          1.6467713167797504,
          1.6510692790352277,
          1.6676147867229032,
          1.6651257579617986,
          1.6149056870630771,
          1.6209378557712526,
          1.5913564424660396,
          1.6482580115507686,
          1.5703720982474083,
          1.652959941904709,
          1.6103260424805557,
          1.6590567215497225,
          1.5964676383887835,
          1.6119998474542536,
          1.5483458446500575,
          1.6275152586465154,
          1.5707778818377889,
          1.6114681267366366,
          1.554646206902456,
          1.5997764341456557,
          1.5607680411889402,
          1.648523312633392,
          1.6120656513330638,
          1.6308546553450733,
          1.5808842529805684,
          1.625271488220946,
          1.5618235652909247,
          1.6117975027616849,
          1.565082543593561,
          1.5788084432028562
         ],
         "xaxis": "x3",
         "yaxis": "y3"
        },
        {
         "marker": {
          "color": "#1f77b4"
         },
         "mode": "markers",
         "name": "Unemployment_Rate (transformed)",
         "showlegend": false,
         "type": "scattergl",
         "x": [
          -1.876358561894595,
          -1.5497059007365892,
          -1.335177736118937,
          -1.168948844531482,
          -1.0299567622253682,
          -0.9084578685373851,
          -0.7990827621351786,
          -0.6985257103450601,
          -0.6045853465832371,
          -0.5157047936930385,
          -0.43072729929545756,
          -0.3487556955170447,
          -0.2690661378543142,
          -0.1910520061461741,
          -0.11418529432142838,
          -0.037988351230282213,
          0.037988351230282213,
          0.11418529432142824,
          0.19105200614617424,
          0.2690661378543142,
          0.3487556955170447,
          0.43072729929545744,
          0.5157047936930386,
          0.6045853465832371,
          0.6985257103450601,
          0.7990827621351786,
          0.9084578685373853,
          1.0299567622253682,
          1.168948844531482,
          1.3351777361189363,
          1.5497059007365892,
          1.8763585618945953
         ],
         "xaxis": "x4",
         "y": [
          1.5483458446500575,
          1.554646206902456,
          1.5607680411889402,
          1.5618235652909247,
          1.565082543593561,
          1.5703720982474083,
          1.5707778818377889,
          1.5788084432028562,
          1.5808842529805684,
          1.5913564424660396,
          1.5964676383887835,
          1.5997764341456557,
          1.6103260424805557,
          1.6114681267366366,
          1.6117975027616849,
          1.6119998474542536,
          1.6120656513330638,
          1.6149056870630771,
          1.6209378557712526,
          1.625271488220946,
          1.6275152586465154,
          1.6308546553450733,
          1.6467713167797504,
          1.6482580115507686,
          1.648523312633392,
          1.6510692790352277,
          1.652959941904709,
          1.6590567215497225,
          1.6651257579617986,
          1.6676147867229032,
          1.6729282019899376,
          1.6885678954680108
         ],
         "yaxis": "y4"
        },
        {
         "line": {
          "color": "#3f3f3f"
         },
         "mode": "lines",
         "name": "Unemployment_Rate (transformed)",
         "showlegend": false,
         "type": "scattergl",
         "x": [
          -1.876358561894595,
          -1.5497059007365892,
          -1.335177736118937,
          -1.168948844531482,
          -1.0299567622253682,
          -0.9084578685373851,
          -0.7990827621351786,
          -0.6985257103450601,
          -0.6045853465832371,
          -0.5157047936930385,
          -0.43072729929545756,
          -0.3487556955170447,
          -0.2690661378543142,
          -0.1910520061461741,
          -0.11418529432142838,
          -0.037988351230282213,
          0.037988351230282213,
          0.11418529432142824,
          0.19105200614617424,
          0.2690661378543142,
          0.3487556955170447,
          0.43072729929545744,
          0.5157047936930386,
          0.6045853465832371,
          0.6985257103450601,
          0.7990827621351786,
          0.9084578685373853,
          1.0299567622253682,
          1.168948844531482,
          1.3351777361189363,
          1.5497059007365892,
          1.8763585618945953
         ],
         "xaxis": "x4",
         "y": [
          1.5427841708326826,
          1.5552316877092016,
          1.563406557431984,
          1.56974092166482,
          1.5750373924912768,
          1.5796672630219442,
          1.5838351411527578,
          1.5876669960495562,
          1.5912467135977504,
          1.5946336205899452,
          1.5978717965530258,
          1.6009954292147344,
          1.6040321015944194,
          1.6070049297281366,
          1.6099340339616337,
          1.6128376158020628,
          1.6157328050919573,
          1.6186363869323863,
          1.6215654911658834,
          1.6245383192996006,
          1.6275749916792857,
          1.6306986243409942,
          1.6339368003040748,
          1.6373237072962696,
          1.6409034248444638,
          1.6447352797412622,
          1.6489031578720759,
          1.6535330284027432,
          1.6588294992292,
          1.665163863462036,
          1.6733387331848184,
          1.6857862500613376
         ],
         "yaxis": "y4"
        },
        {
         "line": {
          "color": "#3f3f3f"
         },
         "mode": "lines",
         "name": "ACF",
         "showlegend": false,
         "type": "scattergl",
         "x": [
          0,
          0
         ],
         "xaxis": "x5",
         "y": [
          0,
          1
         ],
         "yaxis": "y5"
        },
        {
         "line": {
          "color": "#3f3f3f"
         },
         "mode": "lines",
         "name": "ACF",
         "showlegend": false,
         "type": "scattergl",
         "x": [
          1,
          1
         ],
         "xaxis": "x5",
         "y": [
          0,
          0.1322982715436004
         ],
         "yaxis": "y5"
        },
        {
         "line": {
          "color": "#3f3f3f"
         },
         "mode": "lines",
         "name": "ACF",
         "showlegend": false,
         "type": "scattergl",
         "x": [
          2,
          2
         ],
         "xaxis": "x5",
         "y": [
          0,
          0.5938394747266168
         ],
         "yaxis": "y5"
        },
        {
         "line": {
          "color": "#3f3f3f"
         },
         "mode": "lines",
         "name": "ACF",
         "showlegend": false,
         "type": "scattergl",
         "x": [
          3,
          3
         ],
         "xaxis": "x5",
         "y": [
          0,
          -0.07865528009394915
         ],
         "yaxis": "y5"
        },
        {
         "line": {
          "color": "#3f3f3f"
         },
         "mode": "lines",
         "name": "ACF",
         "showlegend": false,
         "type": "scattergl",
         "x": [
          4,
          4
         ],
         "xaxis": "x5",
         "y": [
          0,
          0.457103674513355
         ],
         "yaxis": "y5"
        },
        {
         "line": {
          "color": "#3f3f3f"
         },
         "mode": "lines",
         "name": "ACF",
         "showlegend": false,
         "type": "scattergl",
         "x": [
          5,
          5
         ],
         "xaxis": "x5",
         "y": [
          0,
          -0.14806602197297264
         ],
         "yaxis": "y5"
        },
        {
         "line": {
          "color": "#3f3f3f"
         },
         "mode": "lines",
         "name": "ACF",
         "showlegend": false,
         "type": "scattergl",
         "x": [
          6,
          6
         ],
         "xaxis": "x5",
         "y": [
          0,
          0.29804079874090206
         ],
         "yaxis": "y5"
        },
        {
         "line": {
          "color": "#3f3f3f"
         },
         "mode": "lines",
         "name": "ACF",
         "showlegend": false,
         "type": "scattergl",
         "x": [
          7,
          7
         ],
         "xaxis": "x5",
         "y": [
          0,
          -0.22815681930206866
         ],
         "yaxis": "y5"
        },
        {
         "line": {
          "color": "#3f3f3f"
         },
         "mode": "lines",
         "name": "ACF",
         "showlegend": false,
         "type": "scattergl",
         "x": [
          8,
          8
         ],
         "xaxis": "x5",
         "y": [
          0,
          0.2780458280930493
         ],
         "yaxis": "y5"
        },
        {
         "line": {
          "color": "#3f3f3f"
         },
         "mode": "lines",
         "name": "ACF",
         "showlegend": false,
         "type": "scattergl",
         "x": [
          9,
          9
         ],
         "xaxis": "x5",
         "y": [
          0,
          -0.08416250917098642
         ],
         "yaxis": "y5"
        },
        {
         "line": {
          "color": "#3f3f3f"
         },
         "mode": "lines",
         "name": "ACF",
         "showlegend": false,
         "type": "scattergl",
         "x": [
          10,
          10
         ],
         "xaxis": "x5",
         "y": [
          0,
          0.2646512006515984
         ],
         "yaxis": "y5"
        },
        {
         "line": {
          "color": "#3f3f3f"
         },
         "mode": "lines",
         "name": "ACF",
         "showlegend": false,
         "type": "scattergl",
         "x": [
          11,
          11
         ],
         "xaxis": "x5",
         "y": [
          0,
          -0.06928799897317897
         ],
         "yaxis": "y5"
        },
        {
         "line": {
          "color": "#3f3f3f"
         },
         "mode": "lines",
         "name": "ACF",
         "showlegend": false,
         "type": "scattergl",
         "x": [
          12,
          12
         ],
         "xaxis": "x5",
         "y": [
          0,
          0.22199391651145187
         ],
         "yaxis": "y5"
        },
        {
         "line": {
          "color": "#3f3f3f"
         },
         "mode": "lines",
         "name": "ACF",
         "showlegend": false,
         "type": "scattergl",
         "x": [
          13,
          13
         ],
         "xaxis": "x5",
         "y": [
          0,
          -0.1243653458834435
         ],
         "yaxis": "y5"
        },
        {
         "line": {
          "color": "#3f3f3f"
         },
         "mode": "lines",
         "name": "ACF",
         "showlegend": false,
         "type": "scattergl",
         "x": [
          14,
          14
         ],
         "xaxis": "x5",
         "y": [
          0,
          0.03783584956067796
         ],
         "yaxis": "y5"
        },
        {
         "line": {
          "color": "#3f3f3f"
         },
         "mode": "lines",
         "name": "ACF",
         "showlegend": false,
         "type": "scattergl",
         "x": [
          15,
          15
         ],
         "xaxis": "x5",
         "y": [
          0,
          -0.24814698691955692
         ],
         "yaxis": "y5"
        },
        {
         "line": {
          "color": "#3f3f3f"
         },
         "mode": "lines",
         "name": "ACF",
         "showlegend": false,
         "type": "scattergl",
         "x": [
          16,
          16
         ],
         "xaxis": "x5",
         "y": [
          0,
          -0.12489320894049433
         ],
         "yaxis": "y5"
        },
        {
         "line": {
          "color": "#3f3f3f"
         },
         "mode": "lines",
         "name": "ACF",
         "showlegend": false,
         "type": "scattergl",
         "x": [
          17,
          17
         ],
         "xaxis": "x5",
         "y": [
          0,
          -0.2782408601069974
         ],
         "yaxis": "y5"
        },
        {
         "line": {
          "color": "#3f3f3f"
         },
         "mode": "lines",
         "name": "ACF",
         "showlegend": false,
         "type": "scattergl",
         "x": [
          18,
          18
         ],
         "xaxis": "x5",
         "y": [
          0,
          -0.10587362764346021
         ],
         "yaxis": "y5"
        },
        {
         "line": {
          "color": "#3f3f3f"
         },
         "mode": "lines",
         "name": "ACF",
         "showlegend": false,
         "type": "scattergl",
         "x": [
          19,
          19
         ],
         "xaxis": "x5",
         "y": [
          0,
          -0.17932827782188804
         ],
         "yaxis": "y5"
        },
        {
         "line": {
          "color": "#3f3f3f"
         },
         "mode": "lines",
         "name": "ACF",
         "showlegend": false,
         "type": "scattergl",
         "x": [
          20,
          20
         ],
         "xaxis": "x5",
         "y": [
          0,
          -0.0662145919334676
         ],
         "yaxis": "y5"
        },
        {
         "line": {
          "color": "#3f3f3f"
         },
         "mode": "lines",
         "name": "ACF",
         "showlegend": false,
         "type": "scattergl",
         "x": [
          21,
          21
         ],
         "xaxis": "x5",
         "y": [
          0,
          -0.09466603004617366
         ],
         "yaxis": "y5"
        },
        {
         "line": {
          "color": "#3f3f3f"
         },
         "mode": "lines",
         "name": "ACF",
         "showlegend": false,
         "type": "scattergl",
         "x": [
          22,
          22
         ],
         "xaxis": "x5",
         "y": [
          0,
          -0.05980799375015427
         ],
         "yaxis": "y5"
        },
        {
         "line": {
          "color": "#3f3f3f"
         },
         "mode": "lines",
         "name": "ACF",
         "showlegend": false,
         "type": "scattergl",
         "x": [
          23,
          23
         ],
         "xaxis": "x5",
         "y": [
          0,
          0.002713163406076174
         ],
         "yaxis": "y5"
        },
        {
         "line": {
          "color": "#3f3f3f"
         },
         "mode": "lines",
         "name": "ACF",
         "showlegend": false,
         "type": "scattergl",
         "x": [
          24,
          24
         ],
         "xaxis": "x5",
         "y": [
          0,
          -0.06595925274322106
         ],
         "yaxis": "y5"
        },
        {
         "line": {
          "color": "#3f3f3f"
         },
         "mode": "lines",
         "name": "ACF",
         "showlegend": false,
         "type": "scattergl",
         "x": [
          25,
          25
         ],
         "xaxis": "x5",
         "y": [
          0,
          -0.10667678941462423
         ],
         "yaxis": "y5"
        },
        {
         "line": {
          "color": "#3f3f3f"
         },
         "mode": "lines",
         "name": "ACF",
         "showlegend": false,
         "type": "scattergl",
         "x": [
          26,
          26
         ],
         "xaxis": "x5",
         "y": [
          0,
          -0.17346230067731563
         ],
         "yaxis": "y5"
        },
        {
         "line": {
          "color": "#3f3f3f"
         },
         "mode": "lines",
         "name": "ACF",
         "showlegend": false,
         "type": "scattergl",
         "x": [
          27,
          27
         ],
         "xaxis": "x5",
         "y": [
          0,
          -0.13005124445887678
         ],
         "yaxis": "y5"
        },
        {
         "line": {
          "color": "#3f3f3f"
         },
         "mode": "lines",
         "name": "ACF",
         "showlegend": false,
         "type": "scattergl",
         "x": [
          28,
          28
         ],
         "xaxis": "x5",
         "y": [
          0,
          -0.14948860781917492
         ],
         "yaxis": "y5"
        },
        {
         "line": {
          "color": "#3f3f3f"
         },
         "mode": "lines",
         "name": "ACF",
         "showlegend": false,
         "type": "scattergl",
         "x": [
          29,
          29
         ],
         "xaxis": "x5",
         "y": [
          0,
          -0.09087530653402033
         ],
         "yaxis": "y5"
        },
        {
         "line": {
          "color": "#3f3f3f"
         },
         "mode": "lines",
         "name": "ACF",
         "showlegend": false,
         "type": "scattergl",
         "x": [
          30,
          30
         ],
         "xaxis": "x5",
         "y": [
          0,
          -0.12342934181239436
         ],
         "yaxis": "y5"
        },
        {
         "line": {
          "color": "#3f3f3f"
         },
         "mode": "lines",
         "name": "ACF",
         "showlegend": false,
         "type": "scattergl",
         "x": [
          31,
          31
         ],
         "xaxis": "x5",
         "y": [
          0,
          -0.0567137817289088
         ],
         "yaxis": "y5"
        },
        {
         "marker": {
          "color": "#1f77b4",
          "size": 6
         },
         "mode": "markers",
         "name": "ACF",
         "showlegend": false,
         "type": "scattergl",
         "x": [
          0,
          1,
          2,
          3,
          4,
          5,
          6,
          7,
          8,
          9,
          10,
          11,
          12,
          13,
          14,
          15,
          16,
          17,
          18,
          19,
          20,
          21,
          22,
          23,
          24,
          25,
          26,
          27,
          28,
          29,
          30,
          31
         ],
         "xaxis": "x5",
         "y": [
          1,
          0.1322982715436004,
          0.5938394747266168,
          -0.07865528009394915,
          0.457103674513355,
          -0.14806602197297264,
          0.29804079874090206,
          -0.22815681930206866,
          0.2780458280930493,
          -0.08416250917098642,
          0.2646512006515984,
          -0.06928799897317897,
          0.22199391651145187,
          -0.1243653458834435,
          0.03783584956067796,
          -0.24814698691955692,
          -0.12489320894049433,
          -0.2782408601069974,
          -0.10587362764346021,
          -0.17932827782188804,
          -0.0662145919334676,
          -0.09466603004617366,
          -0.05980799375015427,
          0.002713163406076174,
          -0.06595925274322106,
          -0.10667678941462423,
          -0.17346230067731563,
          -0.13005124445887678,
          -0.14948860781917492,
          -0.09087530653402033,
          -0.12342934181239436,
          -0.0567137817289088
         ],
         "yaxis": "y5"
        },
        {
         "line": {
          "color": "rgba(255,255,255,0)"
         },
         "mode": "lines",
         "name": "UC",
         "showlegend": false,
         "type": "scatter",
         "x": [
          0,
          1,
          2,
          3,
          4,
          5,
          6,
          7,
          8,
          9,
          10,
          11,
          12,
          13,
          14,
          15,
          16,
          17,
          18,
          19,
          20,
          21,
          22,
          23,
          24,
          25,
          26,
          27,
          28,
          29,
          30,
          31
         ],
         "xaxis": "x5",
         "y": [
          0,
          0.3464759560874195,
          0.35248810451832024,
          0.4570720883391305,
          0.4586940753438925,
          0.5104564722822713,
          0.5155865206245196,
          0.5358697188103116,
          0.5474070057782134,
          0.5641061554104125,
          0.5656115266784203,
          0.5802865215082337,
          0.5812788342939457,
          0.5913688258917981,
          0.5945002235981162,
          0.5947892221154023,
          0.6070900226562441,
          0.6101666273065486,
          0.6252125127176378,
          0.6273610779141348,
          0.6334847477885761,
          0.6343150437723675,
          0.6360087967829998,
          0.6366835907973025,
          0.6366849787477944,
          0.6375047516388777,
          0.6396440658042667,
          0.6452663597918975,
          0.6484052864204221,
          0.6525294594794888,
          0.6540469750505383,
          0.6568372608237388
         ],
         "yaxis": "y5"
        },
        {
         "fill": "tonexty",
         "fillcolor": "rgba(32, 146, 230,0.3)",
         "line": {
          "color": "rgba(255,255,255,0)"
         },
         "mode": "lines",
         "name": "LC",
         "showlegend": false,
         "type": "scatter",
         "x": [
          0,
          1,
          2,
          3,
          4,
          5,
          6,
          7,
          8,
          9,
          10,
          11,
          12,
          13,
          14,
          15,
          16,
          17,
          18,
          19,
          20,
          21,
          22,
          23,
          24,
          25,
          26,
          27,
          28,
          29,
          30,
          31
         ],
         "xaxis": "x5",
         "y": [
          0,
          -0.3464759560874195,
          -0.35248810451832024,
          -0.4570720883391304,
          -0.4586940753438925,
          -0.5104564722822713,
          -0.5155865206245196,
          -0.5358697188103116,
          -0.5474070057782136,
          -0.5641061554104125,
          -0.5656115266784203,
          -0.5802865215082337,
          -0.5812788342939457,
          -0.5913688258917981,
          -0.5945002235981162,
          -0.5947892221154023,
          -0.6070900226562441,
          -0.6101666273065485,
          -0.6252125127176378,
          -0.6273610779141348,
          -0.6334847477885761,
          -0.6343150437723675,
          -0.6360087967829998,
          -0.6366835907973025,
          -0.6366849787477944,
          -0.6375047516388777,
          -0.6396440658042667,
          -0.6452663597918975,
          -0.6484052864204221,
          -0.6525294594794888,
          -0.6540469750505383,
          -0.6568372608237388
         ],
         "yaxis": "y5"
        },
        {
         "line": {
          "color": "#3f3f3f"
         },
         "mode": "lines",
         "name": "PACF",
         "showlegend": false,
         "type": "scattergl",
         "x": [
          0,
          0
         ],
         "xaxis": "x6",
         "y": [
          0,
          1
         ],
         "yaxis": "y6"
        },
        {
         "line": {
          "color": "#3f3f3f"
         },
         "mode": "lines",
         "name": "PACF",
         "showlegend": false,
         "type": "scattergl",
         "x": [
          1,
          1
         ],
         "xaxis": "x6",
         "y": [
          0,
          0.13656595772242622
         ],
         "yaxis": "y6"
        },
        {
         "line": {
          "color": "#3f3f3f"
         },
         "mode": "lines",
         "name": "PACF",
         "showlegend": false,
         "type": "scattergl",
         "x": [
          2,
          2
         ],
         "xaxis": "x6",
         "y": [
          0,
          0.626462195567164
         ],
         "yaxis": "y6"
        },
        {
         "line": {
          "color": "#3f3f3f"
         },
         "mode": "lines",
         "name": "PACF",
         "showlegend": false,
         "type": "scattergl",
         "x": [
          3,
          3
         ],
         "xaxis": "x6",
         "y": [
          0,
          -0.3432629480857941
         ],
         "yaxis": "y6"
        },
        {
         "line": {
          "color": "#3f3f3f"
         },
         "mode": "lines",
         "name": "PACF",
         "showlegend": false,
         "type": "scattergl",
         "x": [
          4,
          4
         ],
         "xaxis": "x6",
         "y": [
          0,
          0.35071428167283997
         ],
         "yaxis": "y6"
        },
        {
         "line": {
          "color": "#3f3f3f"
         },
         "mode": "lines",
         "name": "PACF",
         "showlegend": false,
         "type": "scattergl",
         "x": [
          5,
          5
         ],
         "xaxis": "x6",
         "y": [
          0,
          -0.24374684450460046
         ],
         "yaxis": "y6"
        },
        {
         "line": {
          "color": "#3f3f3f"
         },
         "mode": "lines",
         "name": "PACF",
         "showlegend": false,
         "type": "scattergl",
         "x": [
          6,
          6
         ],
         "xaxis": "x6",
         "y": [
          0,
          0.021255449082020123
         ],
         "yaxis": "y6"
        },
        {
         "line": {
          "color": "#3f3f3f"
         },
         "mode": "lines",
         "name": "PACF",
         "showlegend": false,
         "type": "scattergl",
         "x": [
          7,
          7
         ],
         "xaxis": "x6",
         "y": [
          0,
          -0.10841376801775625
         ],
         "yaxis": "y6"
        },
        {
         "line": {
          "color": "#3f3f3f"
         },
         "mode": "lines",
         "name": "PACF",
         "showlegend": false,
         "type": "scattergl",
         "x": [
          8,
          8
         ],
         "xaxis": "x6",
         "y": [
          0,
          0.23286911645818312
         ],
         "yaxis": "y6"
        },
        {
         "line": {
          "color": "#3f3f3f"
         },
         "mode": "lines",
         "name": "PACF",
         "showlegend": false,
         "type": "scattergl",
         "x": [
          9,
          9
         ],
         "xaxis": "x6",
         "y": [
          0,
          0.24401278347269167
         ],
         "yaxis": "y6"
        },
        {
         "line": {
          "color": "#3f3f3f"
         },
         "mode": "lines",
         "name": "PACF",
         "showlegend": false,
         "type": "scattergl",
         "x": [
          10,
          10
         ],
         "xaxis": "x6",
         "y": [
          0,
          -0.1955502446917657
         ],
         "yaxis": "y6"
        },
        {
         "line": {
          "color": "#3f3f3f"
         },
         "mode": "lines",
         "name": "PACF",
         "showlegend": false,
         "type": "scattergl",
         "x": [
          11,
          11
         ],
         "xaxis": "x6",
         "y": [
          0,
          0.22165721747984482
         ],
         "yaxis": "y6"
        },
        {
         "line": {
          "color": "#3f3f3f"
         },
         "mode": "lines",
         "name": "PACF",
         "showlegend": false,
         "type": "scattergl",
         "x": [
          12,
          12
         ],
         "xaxis": "x6",
         "y": [
          0,
          -0.15691326333003308
         ],
         "yaxis": "y6"
        },
        {
         "line": {
          "color": "#3f3f3f"
         },
         "mode": "lines",
         "name": "PACF",
         "showlegend": false,
         "type": "scattergl",
         "x": [
          13,
          13
         ],
         "xaxis": "x6",
         "y": [
          0,
          -0.316783587545133
         ],
         "yaxis": "y6"
        },
        {
         "line": {
          "color": "#3f3f3f"
         },
         "mode": "lines",
         "name": "PACF",
         "showlegend": false,
         "type": "scattergl",
         "x": [
          14,
          14
         ],
         "xaxis": "x6",
         "y": [
          0,
          -0.364502314050441
         ],
         "yaxis": "y6"
        },
        {
         "line": {
          "color": "#3f3f3f"
         },
         "mode": "lines",
         "name": "PACF",
         "showlegend": false,
         "type": "scattergl",
         "x": [
          15,
          15
         ],
         "xaxis": "x6",
         "y": [
          0,
          -0.29625473174749956
         ],
         "yaxis": "y6"
        },
        {
         "marker": {
          "color": "#1f77b4",
          "size": 6
         },
         "mode": "markers",
         "name": "PACF",
         "showlegend": false,
         "type": "scattergl",
         "x": [
          0,
          1,
          2,
          3,
          4,
          5,
          6,
          7,
          8,
          9,
          10,
          11,
          12,
          13,
          14,
          15
         ],
         "xaxis": "x6",
         "y": [
          1,
          0.13656595772242622,
          0.626462195567164,
          -0.3432629480857941,
          0.35071428167283997,
          -0.24374684450460046,
          0.021255449082020123,
          -0.10841376801775625,
          0.23286911645818312,
          0.24401278347269167,
          -0.1955502446917657,
          0.22165721747984482,
          -0.15691326333003308,
          -0.316783587545133,
          -0.364502314050441,
          -0.29625473174749956
         ],
         "yaxis": "y6"
        },
        {
         "line": {
          "color": "rgba(255,255,255,0)"
         },
         "mode": "lines",
         "name": "UC",
         "showlegend": false,
         "type": "scatter",
         "x": [
          0,
          1,
          2,
          3,
          4,
          5,
          6,
          7,
          8,
          9,
          10,
          11,
          12,
          13,
          14,
          15
         ],
         "xaxis": "x6",
         "y": [
          0,
          0.34647595608741955,
          0.34647595608741943,
          0.3464759560874195,
          0.3464759560874195,
          0.3464759560874195,
          0.34647595608741943,
          0.3464759560874195,
          0.34647595608741955,
          0.3464759560874195,
          0.3464759560874195,
          0.34647595608741955,
          0.3464759560874195,
          0.3464759560874195,
          0.3464759560874195,
          0.3464759560874195
         ],
         "yaxis": "y6"
        },
        {
         "fill": "tonexty",
         "fillcolor": "rgba(32, 146, 230,0.3)",
         "line": {
          "color": "rgba(255,255,255,0)"
         },
         "mode": "lines",
         "name": "LC",
         "showlegend": false,
         "type": "scatter",
         "x": [
          0,
          1,
          2,
          3,
          4,
          5,
          6,
          7,
          8,
          9,
          10,
          11,
          12,
          13,
          14,
          15
         ],
         "xaxis": "x6",
         "y": [
          0,
          -0.3464759560874195,
          -0.3464759560874195,
          -0.3464759560874195,
          -0.3464759560874195,
          -0.34647595608741943,
          -0.34647595608741955,
          -0.3464759560874195,
          -0.3464759560874195,
          -0.3464759560874195,
          -0.34647595608741943,
          -0.3464759560874195,
          -0.34647595608741943,
          -0.34647595608741955,
          -0.34647595608741943,
          -0.3464759560874195
         ],
         "yaxis": "y6"
        }
       ],
       "layout": {
        "annotations": [
         {
          "font": {
           "size": 16
          },
          "showarrow": false,
          "text": "Unemployment_Rate (transformed)",
          "x": 0.225,
          "xanchor": "center",
          "xref": "paper",
          "y": 1,
          "yanchor": "bottom",
          "yref": "paper"
         },
         {
          "font": {
           "size": 16
          },
          "showarrow": false,
          "text": "Periodogram",
          "x": 0.775,
          "xanchor": "center",
          "xref": "paper",
          "y": 1,
          "yanchor": "bottom",
          "yref": "paper"
         },
         {
          "font": {
           "size": 16
          },
          "showarrow": false,
          "text": "Histogram",
          "x": 0.225,
          "xanchor": "center",
          "xref": "paper",
          "y": 0.6111111111111112,
          "yanchor": "bottom",
          "yref": "paper"
         },
         {
          "font": {
           "size": 16
          },
          "showarrow": false,
          "text": "Q-Q Plot",
          "x": 0.775,
          "xanchor": "center",
          "xref": "paper",
          "y": 0.6111111111111112,
          "yanchor": "bottom",
          "yref": "paper"
         },
         {
          "font": {
           "size": 16
          },
          "showarrow": false,
          "text": "ACF",
          "x": 0.225,
          "xanchor": "center",
          "xref": "paper",
          "y": 0.22222222222222227,
          "yanchor": "bottom",
          "yref": "paper"
         },
         {
          "font": {
           "size": 16
          },
          "showarrow": false,
          "text": "PACF",
          "x": 0.775,
          "xanchor": "center",
          "xref": "paper",
          "y": 0.22222222222222227,
          "yanchor": "bottom",
          "yref": "paper"
         }
        ],
        "autosize": false,
        "height": 800,
        "showlegend": false,
        "template": {
         "data": {
          "bar": [
           {
            "error_x": {
             "color": "rgb(51,51,51)"
            },
            "error_y": {
             "color": "rgb(51,51,51)"
            },
            "marker": {
             "line": {
              "color": "rgb(237,237,237)",
              "width": 0.5
             },
             "pattern": {
              "fillmode": "overlay",
              "size": 10,
              "solidity": 0.2
             }
            },
            "type": "bar"
           }
          ],
          "barpolar": [
           {
            "marker": {
             "line": {
              "color": "rgb(237,237,237)",
              "width": 0.5
             },
             "pattern": {
              "fillmode": "overlay",
              "size": 10,
              "solidity": 0.2
             }
            },
            "type": "barpolar"
           }
          ],
          "carpet": [
           {
            "aaxis": {
             "endlinecolor": "rgb(51,51,51)",
             "gridcolor": "white",
             "linecolor": "white",
             "minorgridcolor": "white",
             "startlinecolor": "rgb(51,51,51)"
            },
            "baxis": {
             "endlinecolor": "rgb(51,51,51)",
             "gridcolor": "white",
             "linecolor": "white",
             "minorgridcolor": "white",
             "startlinecolor": "rgb(51,51,51)"
            },
            "type": "carpet"
           }
          ],
          "choropleth": [
           {
            "colorbar": {
             "outlinewidth": 0,
             "tickcolor": "rgb(237,237,237)",
             "ticklen": 6,
             "ticks": "inside"
            },
            "type": "choropleth"
           }
          ],
          "contour": [
           {
            "colorbar": {
             "outlinewidth": 0,
             "tickcolor": "rgb(237,237,237)",
             "ticklen": 6,
             "ticks": "inside"
            },
            "colorscale": [
             [
              0,
              "rgb(20,44,66)"
             ],
             [
              1,
              "rgb(90,179,244)"
             ]
            ],
            "type": "contour"
           }
          ],
          "contourcarpet": [
           {
            "colorbar": {
             "outlinewidth": 0,
             "tickcolor": "rgb(237,237,237)",
             "ticklen": 6,
             "ticks": "inside"
            },
            "type": "contourcarpet"
           }
          ],
          "heatmap": [
           {
            "colorbar": {
             "outlinewidth": 0,
             "tickcolor": "rgb(237,237,237)",
             "ticklen": 6,
             "ticks": "inside"
            },
            "colorscale": [
             [
              0,
              "rgb(20,44,66)"
             ],
             [
              1,
              "rgb(90,179,244)"
             ]
            ],
            "type": "heatmap"
           }
          ],
          "heatmapgl": [
           {
            "colorbar": {
             "outlinewidth": 0,
             "tickcolor": "rgb(237,237,237)",
             "ticklen": 6,
             "ticks": "inside"
            },
            "colorscale": [
             [
              0,
              "rgb(20,44,66)"
             ],
             [
              1,
              "rgb(90,179,244)"
             ]
            ],
            "type": "heatmapgl"
           }
          ],
          "histogram": [
           {
            "marker": {
             "pattern": {
              "fillmode": "overlay",
              "size": 10,
              "solidity": 0.2
             }
            },
            "type": "histogram"
           }
          ],
          "histogram2d": [
           {
            "colorbar": {
             "outlinewidth": 0,
             "tickcolor": "rgb(237,237,237)",
             "ticklen": 6,
             "ticks": "inside"
            },
            "colorscale": [
             [
              0,
              "rgb(20,44,66)"
             ],
             [
              1,
              "rgb(90,179,244)"
             ]
            ],
            "type": "histogram2d"
           }
          ],
          "histogram2dcontour": [
           {
            "colorbar": {
             "outlinewidth": 0,
             "tickcolor": "rgb(237,237,237)",
             "ticklen": 6,
             "ticks": "inside"
            },
            "colorscale": [
             [
              0,
              "rgb(20,44,66)"
             ],
             [
              1,
              "rgb(90,179,244)"
             ]
            ],
            "type": "histogram2dcontour"
           }
          ],
          "mesh3d": [
           {
            "colorbar": {
             "outlinewidth": 0,
             "tickcolor": "rgb(237,237,237)",
             "ticklen": 6,
             "ticks": "inside"
            },
            "type": "mesh3d"
           }
          ],
          "parcoords": [
           {
            "line": {
             "colorbar": {
              "outlinewidth": 0,
              "tickcolor": "rgb(237,237,237)",
              "ticklen": 6,
              "ticks": "inside"
             }
            },
            "type": "parcoords"
           }
          ],
          "pie": [
           {
            "automargin": true,
            "type": "pie"
           }
          ],
          "scatter": [
           {
            "fillpattern": {
             "fillmode": "overlay",
             "size": 10,
             "solidity": 0.2
            },
            "type": "scatter"
           }
          ],
          "scatter3d": [
           {
            "line": {
             "colorbar": {
              "outlinewidth": 0,
              "tickcolor": "rgb(237,237,237)",
              "ticklen": 6,
              "ticks": "inside"
             }
            },
            "marker": {
             "colorbar": {
              "outlinewidth": 0,
              "tickcolor": "rgb(237,237,237)",
              "ticklen": 6,
              "ticks": "inside"
             }
            },
            "type": "scatter3d"
           }
          ],
          "scattercarpet": [
           {
            "marker": {
             "colorbar": {
              "outlinewidth": 0,
              "tickcolor": "rgb(237,237,237)",
              "ticklen": 6,
              "ticks": "inside"
             }
            },
            "type": "scattercarpet"
           }
          ],
          "scattergeo": [
           {
            "marker": {
             "colorbar": {
              "outlinewidth": 0,
              "tickcolor": "rgb(237,237,237)",
              "ticklen": 6,
              "ticks": "inside"
             }
            },
            "type": "scattergeo"
           }
          ],
          "scattergl": [
           {
            "marker": {
             "colorbar": {
              "outlinewidth": 0,
              "tickcolor": "rgb(237,237,237)",
              "ticklen": 6,
              "ticks": "inside"
             }
            },
            "type": "scattergl"
           }
          ],
          "scattermapbox": [
           {
            "marker": {
             "colorbar": {
              "outlinewidth": 0,
              "tickcolor": "rgb(237,237,237)",
              "ticklen": 6,
              "ticks": "inside"
             }
            },
            "type": "scattermapbox"
           }
          ],
          "scatterpolar": [
           {
            "marker": {
             "colorbar": {
              "outlinewidth": 0,
              "tickcolor": "rgb(237,237,237)",
              "ticklen": 6,
              "ticks": "inside"
             }
            },
            "type": "scatterpolar"
           }
          ],
          "scatterpolargl": [
           {
            "marker": {
             "colorbar": {
              "outlinewidth": 0,
              "tickcolor": "rgb(237,237,237)",
              "ticklen": 6,
              "ticks": "inside"
             }
            },
            "type": "scatterpolargl"
           }
          ],
          "scatterternary": [
           {
            "marker": {
             "colorbar": {
              "outlinewidth": 0,
              "tickcolor": "rgb(237,237,237)",
              "ticklen": 6,
              "ticks": "inside"
             }
            },
            "type": "scatterternary"
           }
          ],
          "surface": [
           {
            "colorbar": {
             "outlinewidth": 0,
             "tickcolor": "rgb(237,237,237)",
             "ticklen": 6,
             "ticks": "inside"
            },
            "colorscale": [
             [
              0,
              "rgb(20,44,66)"
             ],
             [
              1,
              "rgb(90,179,244)"
             ]
            ],
            "type": "surface"
           }
          ],
          "table": [
           {
            "cells": {
             "fill": {
              "color": "rgb(237,237,237)"
             },
             "line": {
              "color": "white"
             }
            },
            "header": {
             "fill": {
              "color": "rgb(217,217,217)"
             },
             "line": {
              "color": "white"
             }
            },
            "type": "table"
           }
          ]
         },
         "layout": {
          "annotationdefaults": {
           "arrowhead": 0,
           "arrowwidth": 1
          },
          "autotypenumbers": "strict",
          "coloraxis": {
           "colorbar": {
            "outlinewidth": 0,
            "tickcolor": "rgb(237,237,237)",
            "ticklen": 6,
            "ticks": "inside"
           }
          },
          "colorscale": {
           "sequential": [
            [
             0,
             "rgb(20,44,66)"
            ],
            [
             1,
             "rgb(90,179,244)"
            ]
           ],
           "sequentialminus": [
            [
             0,
             "rgb(20,44,66)"
            ],
            [
             1,
             "rgb(90,179,244)"
            ]
           ]
          },
          "colorway": [
           "#F8766D",
           "#A3A500",
           "#00BF7D",
           "#00B0F6",
           "#E76BF3"
          ],
          "font": {
           "color": "rgb(51,51,51)"
          },
          "geo": {
           "bgcolor": "white",
           "lakecolor": "white",
           "landcolor": "rgb(237,237,237)",
           "showlakes": true,
           "showland": true,
           "subunitcolor": "white"
          },
          "hoverlabel": {
           "align": "left"
          },
          "hovermode": "closest",
          "paper_bgcolor": "white",
          "plot_bgcolor": "rgb(237,237,237)",
          "polar": {
           "angularaxis": {
            "gridcolor": "white",
            "linecolor": "white",
            "showgrid": true,
            "tickcolor": "rgb(51,51,51)",
            "ticks": "outside"
           },
           "bgcolor": "rgb(237,237,237)",
           "radialaxis": {
            "gridcolor": "white",
            "linecolor": "white",
            "showgrid": true,
            "tickcolor": "rgb(51,51,51)",
            "ticks": "outside"
           }
          },
          "scene": {
           "xaxis": {
            "backgroundcolor": "rgb(237,237,237)",
            "gridcolor": "white",
            "gridwidth": 2,
            "linecolor": "white",
            "showbackground": true,
            "showgrid": true,
            "tickcolor": "rgb(51,51,51)",
            "ticks": "outside",
            "zerolinecolor": "white"
           },
           "yaxis": {
            "backgroundcolor": "rgb(237,237,237)",
            "gridcolor": "white",
            "gridwidth": 2,
            "linecolor": "white",
            "showbackground": true,
            "showgrid": true,
            "tickcolor": "rgb(51,51,51)",
            "ticks": "outside",
            "zerolinecolor": "white"
           },
           "zaxis": {
            "backgroundcolor": "rgb(237,237,237)",
            "gridcolor": "white",
            "gridwidth": 2,
            "linecolor": "white",
            "showbackground": true,
            "showgrid": true,
            "tickcolor": "rgb(51,51,51)",
            "ticks": "outside",
            "zerolinecolor": "white"
           }
          },
          "shapedefaults": {
           "fillcolor": "black",
           "line": {
            "width": 0
           },
           "opacity": 0.3
          },
          "ternary": {
           "aaxis": {
            "gridcolor": "white",
            "linecolor": "white",
            "showgrid": true,
            "tickcolor": "rgb(51,51,51)",
            "ticks": "outside"
           },
           "baxis": {
            "gridcolor": "white",
            "linecolor": "white",
            "showgrid": true,
            "tickcolor": "rgb(51,51,51)",
            "ticks": "outside"
           },
           "bgcolor": "rgb(237,237,237)",
           "caxis": {
            "gridcolor": "white",
            "linecolor": "white",
            "showgrid": true,
            "tickcolor": "rgb(51,51,51)",
            "ticks": "outside"
           }
          },
          "xaxis": {
           "automargin": true,
           "gridcolor": "white",
           "linecolor": "white",
           "showgrid": true,
           "tickcolor": "rgb(51,51,51)",
           "ticks": "outside",
           "title": {
            "standoff": 15
           },
           "zerolinecolor": "white"
          },
          "yaxis": {
           "automargin": true,
           "gridcolor": "white",
           "linecolor": "white",
           "showgrid": true,
           "tickcolor": "rgb(51,51,51)",
           "ticks": "outside",
           "title": {
            "standoff": 15
           },
           "zerolinecolor": "white"
          }
         }
        },
        "title": {
         "text": "Diagnostics | Unemployment_Rate"
        },
        "width": 1000,
        "xaxis": {
         "anchor": "y",
         "domain": [
          0,
          0.45
         ]
        },
        "xaxis2": {
         "anchor": "y2",
         "domain": [
          0.55,
          1
         ],
         "range": [
          0,
          0.5
         ]
        },
        "xaxis3": {
         "anchor": "y3",
         "domain": [
          0,
          0.45
         ],
         "title": {
          "text": "Range of Values"
         }
        },
        "xaxis4": {
         "anchor": "y4",
         "domain": [
          0.55,
          1
         ],
         "title": {
          "text": "Theoretical Quantities"
         }
        },
        "xaxis5": {
         "anchor": "y5",
         "domain": [
          0,
          0.45
         ],
         "range": [
          -1,
          33
         ]
        },
        "xaxis6": {
         "anchor": "y6",
         "domain": [
          0.55,
          1
         ],
         "range": [
          -1,
          17
         ]
        },
        "yaxis": {
         "anchor": "x",
         "domain": [
          0.7777777777777779,
          1
         ]
        },
        "yaxis2": {
         "anchor": "x2",
         "domain": [
          0.7777777777777779,
          1
         ]
        },
        "yaxis3": {
         "anchor": "x3",
         "domain": [
          0.38888888888888895,
          0.6111111111111112
         ],
         "title": {
          "text": "PDF"
         }
        },
        "yaxis4": {
         "anchor": "x4",
         "domain": [
          0.38888888888888895,
          0.6111111111111112
         ],
         "title": {
          "text": "Sample Quantities"
         }
        },
        "yaxis5": {
         "anchor": "x5",
         "domain": [
          0,
          0.22222222222222227
         ],
         "range": [
          -1.1,
          1.1
         ],
         "zerolinecolor": "#000000"
        },
        "yaxis6": {
         "anchor": "x6",
         "domain": [
          0,
          0.22222222222222227
         ],
         "range": [
          -1.1,
          1.1
         ],
         "zerolinecolor": "#000000"
        }
       }
      }
     },
     "metadata": {},
     "output_type": "display_data"
    }
   ],
   "source": [
    "exp.plot_model(plot=\"diagnostics\", fig_kwargs={\"height\": 800, \"width\": 1000})"
   ]
  },
  {
   "cell_type": "markdown",
   "metadata": {},
   "source": [
    "difference plot"
   ]
  },
  {
   "cell_type": "code",
   "execution_count": 18,
   "metadata": {},
   "outputs": [
    {
     "data": {
      "application/vnd.plotly.v1+json": {
       "config": {
        "plotlyServerURL": "https://plot.ly"
       },
       "data": [
        {
         "line": {
          "color": "rgb(31, 119, 180)",
          "width": 2
         },
         "marker": {
          "color": "rgb(31, 119, 180)",
          "size": 5
         },
         "mode": "lines+markers",
         "name": "Actual",
         "showlegend": false,
         "type": "scattergl",
         "x": [
          "2009-01-01T00:00:00",
          "2009-07-01T00:00:00",
          "2010-01-01T00:00:00",
          "2010-07-01T00:00:00",
          "2011-01-01T00:00:00",
          "2011-07-01T00:00:00",
          "2012-01-01T00:00:00",
          "2012-07-01T00:00:00",
          "2013-01-01T00:00:00",
          "2013-07-01T00:00:00",
          "2014-01-01T00:00:00",
          "2014-07-01T00:00:00",
          "2015-01-01T00:00:00",
          "2015-07-01T00:00:00",
          "2016-01-01T00:00:00",
          "2016-07-01T00:00:00",
          "2017-01-01T00:00:00",
          "2017-07-01T00:00:00",
          "2018-01-01T00:00:00",
          "2018-07-01T00:00:00",
          "2019-01-01T00:00:00",
          "2019-07-01T00:00:00",
          "2020-01-01T00:00:00",
          "2020-07-01T00:00:00",
          "2021-01-01T00:00:00",
          "2021-07-01T00:00:00",
          "2022-01-01T00:00:00",
          "2022-07-01T00:00:00",
          "2023-01-01T00:00:00",
          "2023-07-01T00:00:00",
          "2024-01-01T00:00:00",
          "2024-07-01T00:00:00"
         ],
         "xaxis": "x",
         "y": [
          1.6885678954680108,
          1.6729282019899376,
          1.6467713167797504,
          1.6510692790352277,
          1.6676147867229032,
          1.6651257579617986,
          1.6149056870630771,
          1.6209378557712526,
          1.5913564424660396,
          1.6482580115507686,
          1.5703720982474083,
          1.652959941904709,
          1.6103260424805557,
          1.6590567215497225,
          1.5964676383887835,
          1.6119998474542536,
          1.5483458446500575,
          1.6275152586465154,
          1.5707778818377889,
          1.6114681267366366,
          1.554646206902456,
          1.5997764341456557,
          1.5607680411889402,
          1.648523312633392,
          1.6120656513330638,
          1.6308546553450733,
          1.5808842529805684,
          1.625271488220946,
          1.5618235652909247,
          1.6117975027616849,
          1.565082543593561,
          1.5788084432028562
         ],
         "yaxis": "y"
        },
        {
         "line": {
          "color": "#3f3f3f"
         },
         "mode": "lines",
         "name": "Actual",
         "showlegend": false,
         "type": "scattergl",
         "x": [
          0,
          0
         ],
         "xaxis": "x2",
         "y": [
          0,
          1
         ],
         "yaxis": "y2"
        },
        {
         "line": {
          "color": "#3f3f3f"
         },
         "mode": "lines",
         "name": "Actual",
         "showlegend": false,
         "type": "scattergl",
         "x": [
          1,
          1
         ],
         "xaxis": "x2",
         "y": [
          0,
          0.1322982715436004
         ],
         "yaxis": "y2"
        },
        {
         "line": {
          "color": "#3f3f3f"
         },
         "mode": "lines",
         "name": "Actual",
         "showlegend": false,
         "type": "scattergl",
         "x": [
          2,
          2
         ],
         "xaxis": "x2",
         "y": [
          0,
          0.5938394747266168
         ],
         "yaxis": "y2"
        },
        {
         "line": {
          "color": "#3f3f3f"
         },
         "mode": "lines",
         "name": "Actual",
         "showlegend": false,
         "type": "scattergl",
         "x": [
          3,
          3
         ],
         "xaxis": "x2",
         "y": [
          0,
          -0.07865528009394915
         ],
         "yaxis": "y2"
        },
        {
         "line": {
          "color": "#3f3f3f"
         },
         "mode": "lines",
         "name": "Actual",
         "showlegend": false,
         "type": "scattergl",
         "x": [
          4,
          4
         ],
         "xaxis": "x2",
         "y": [
          0,
          0.457103674513355
         ],
         "yaxis": "y2"
        },
        {
         "line": {
          "color": "#3f3f3f"
         },
         "mode": "lines",
         "name": "Actual",
         "showlegend": false,
         "type": "scattergl",
         "x": [
          5,
          5
         ],
         "xaxis": "x2",
         "y": [
          0,
          -0.14806602197297264
         ],
         "yaxis": "y2"
        },
        {
         "line": {
          "color": "#3f3f3f"
         },
         "mode": "lines",
         "name": "Actual",
         "showlegend": false,
         "type": "scattergl",
         "x": [
          6,
          6
         ],
         "xaxis": "x2",
         "y": [
          0,
          0.29804079874090206
         ],
         "yaxis": "y2"
        },
        {
         "line": {
          "color": "#3f3f3f"
         },
         "mode": "lines",
         "name": "Actual",
         "showlegend": false,
         "type": "scattergl",
         "x": [
          7,
          7
         ],
         "xaxis": "x2",
         "y": [
          0,
          -0.22815681930206866
         ],
         "yaxis": "y2"
        },
        {
         "line": {
          "color": "#3f3f3f"
         },
         "mode": "lines",
         "name": "Actual",
         "showlegend": false,
         "type": "scattergl",
         "x": [
          8,
          8
         ],
         "xaxis": "x2",
         "y": [
          0,
          0.2780458280930493
         ],
         "yaxis": "y2"
        },
        {
         "line": {
          "color": "#3f3f3f"
         },
         "mode": "lines",
         "name": "Actual",
         "showlegend": false,
         "type": "scattergl",
         "x": [
          9,
          9
         ],
         "xaxis": "x2",
         "y": [
          0,
          -0.08416250917098642
         ],
         "yaxis": "y2"
        },
        {
         "line": {
          "color": "#3f3f3f"
         },
         "mode": "lines",
         "name": "Actual",
         "showlegend": false,
         "type": "scattergl",
         "x": [
          10,
          10
         ],
         "xaxis": "x2",
         "y": [
          0,
          0.2646512006515984
         ],
         "yaxis": "y2"
        },
        {
         "line": {
          "color": "#3f3f3f"
         },
         "mode": "lines",
         "name": "Actual",
         "showlegend": false,
         "type": "scattergl",
         "x": [
          11,
          11
         ],
         "xaxis": "x2",
         "y": [
          0,
          -0.06928799897317897
         ],
         "yaxis": "y2"
        },
        {
         "line": {
          "color": "#3f3f3f"
         },
         "mode": "lines",
         "name": "Actual",
         "showlegend": false,
         "type": "scattergl",
         "x": [
          12,
          12
         ],
         "xaxis": "x2",
         "y": [
          0,
          0.22199391651145187
         ],
         "yaxis": "y2"
        },
        {
         "line": {
          "color": "#3f3f3f"
         },
         "mode": "lines",
         "name": "Actual",
         "showlegend": false,
         "type": "scattergl",
         "x": [
          13,
          13
         ],
         "xaxis": "x2",
         "y": [
          0,
          -0.1243653458834435
         ],
         "yaxis": "y2"
        },
        {
         "line": {
          "color": "#3f3f3f"
         },
         "mode": "lines",
         "name": "Actual",
         "showlegend": false,
         "type": "scattergl",
         "x": [
          14,
          14
         ],
         "xaxis": "x2",
         "y": [
          0,
          0.03783584956067796
         ],
         "yaxis": "y2"
        },
        {
         "line": {
          "color": "#3f3f3f"
         },
         "mode": "lines",
         "name": "Actual",
         "showlegend": false,
         "type": "scattergl",
         "x": [
          15,
          15
         ],
         "xaxis": "x2",
         "y": [
          0,
          -0.24814698691955692
         ],
         "yaxis": "y2"
        },
        {
         "line": {
          "color": "#3f3f3f"
         },
         "mode": "lines",
         "name": "Actual",
         "showlegend": false,
         "type": "scattergl",
         "x": [
          16,
          16
         ],
         "xaxis": "x2",
         "y": [
          0,
          -0.12489320894049433
         ],
         "yaxis": "y2"
        },
        {
         "line": {
          "color": "#3f3f3f"
         },
         "mode": "lines",
         "name": "Actual",
         "showlegend": false,
         "type": "scattergl",
         "x": [
          17,
          17
         ],
         "xaxis": "x2",
         "y": [
          0,
          -0.2782408601069974
         ],
         "yaxis": "y2"
        },
        {
         "line": {
          "color": "#3f3f3f"
         },
         "mode": "lines",
         "name": "Actual",
         "showlegend": false,
         "type": "scattergl",
         "x": [
          18,
          18
         ],
         "xaxis": "x2",
         "y": [
          0,
          -0.10587362764346021
         ],
         "yaxis": "y2"
        },
        {
         "line": {
          "color": "#3f3f3f"
         },
         "mode": "lines",
         "name": "Actual",
         "showlegend": false,
         "type": "scattergl",
         "x": [
          19,
          19
         ],
         "xaxis": "x2",
         "y": [
          0,
          -0.17932827782188804
         ],
         "yaxis": "y2"
        },
        {
         "line": {
          "color": "#3f3f3f"
         },
         "mode": "lines",
         "name": "Actual",
         "showlegend": false,
         "type": "scattergl",
         "x": [
          20,
          20
         ],
         "xaxis": "x2",
         "y": [
          0,
          -0.0662145919334676
         ],
         "yaxis": "y2"
        },
        {
         "line": {
          "color": "#3f3f3f"
         },
         "mode": "lines",
         "name": "Actual",
         "showlegend": false,
         "type": "scattergl",
         "x": [
          21,
          21
         ],
         "xaxis": "x2",
         "y": [
          0,
          -0.09466603004617366
         ],
         "yaxis": "y2"
        },
        {
         "line": {
          "color": "#3f3f3f"
         },
         "mode": "lines",
         "name": "Actual",
         "showlegend": false,
         "type": "scattergl",
         "x": [
          22,
          22
         ],
         "xaxis": "x2",
         "y": [
          0,
          -0.05980799375015427
         ],
         "yaxis": "y2"
        },
        {
         "line": {
          "color": "#3f3f3f"
         },
         "mode": "lines",
         "name": "Actual",
         "showlegend": false,
         "type": "scattergl",
         "x": [
          23,
          23
         ],
         "xaxis": "x2",
         "y": [
          0,
          0.002713163406076174
         ],
         "yaxis": "y2"
        },
        {
         "line": {
          "color": "#3f3f3f"
         },
         "mode": "lines",
         "name": "Actual",
         "showlegend": false,
         "type": "scattergl",
         "x": [
          24,
          24
         ],
         "xaxis": "x2",
         "y": [
          0,
          -0.06595925274322106
         ],
         "yaxis": "y2"
        },
        {
         "line": {
          "color": "#3f3f3f"
         },
         "mode": "lines",
         "name": "Actual",
         "showlegend": false,
         "type": "scattergl",
         "x": [
          25,
          25
         ],
         "xaxis": "x2",
         "y": [
          0,
          -0.10667678941462423
         ],
         "yaxis": "y2"
        },
        {
         "line": {
          "color": "#3f3f3f"
         },
         "mode": "lines",
         "name": "Actual",
         "showlegend": false,
         "type": "scattergl",
         "x": [
          26,
          26
         ],
         "xaxis": "x2",
         "y": [
          0,
          -0.17346230067731563
         ],
         "yaxis": "y2"
        },
        {
         "line": {
          "color": "#3f3f3f"
         },
         "mode": "lines",
         "name": "Actual",
         "showlegend": false,
         "type": "scattergl",
         "x": [
          27,
          27
         ],
         "xaxis": "x2",
         "y": [
          0,
          -0.13005124445887678
         ],
         "yaxis": "y2"
        },
        {
         "line": {
          "color": "#3f3f3f"
         },
         "mode": "lines",
         "name": "Actual",
         "showlegend": false,
         "type": "scattergl",
         "x": [
          28,
          28
         ],
         "xaxis": "x2",
         "y": [
          0,
          -0.14948860781917492
         ],
         "yaxis": "y2"
        },
        {
         "line": {
          "color": "#3f3f3f"
         },
         "mode": "lines",
         "name": "Actual",
         "showlegend": false,
         "type": "scattergl",
         "x": [
          29,
          29
         ],
         "xaxis": "x2",
         "y": [
          0,
          -0.09087530653402033
         ],
         "yaxis": "y2"
        },
        {
         "line": {
          "color": "#3f3f3f"
         },
         "mode": "lines",
         "name": "Actual",
         "showlegend": false,
         "type": "scattergl",
         "x": [
          30,
          30
         ],
         "xaxis": "x2",
         "y": [
          0,
          -0.12342934181239436
         ],
         "yaxis": "y2"
        },
        {
         "line": {
          "color": "#3f3f3f"
         },
         "mode": "lines",
         "name": "Actual",
         "showlegend": false,
         "type": "scattergl",
         "x": [
          31,
          31
         ],
         "xaxis": "x2",
         "y": [
          0,
          -0.0567137817289088
         ],
         "yaxis": "y2"
        },
        {
         "marker": {
          "color": "#1f77b4",
          "size": 6
         },
         "mode": "markers",
         "name": "Actual",
         "showlegend": false,
         "type": "scattergl",
         "x": [
          0,
          1,
          2,
          3,
          4,
          5,
          6,
          7,
          8,
          9,
          10,
          11,
          12,
          13,
          14,
          15,
          16,
          17,
          18,
          19,
          20,
          21,
          22,
          23,
          24,
          25,
          26,
          27,
          28,
          29,
          30,
          31
         ],
         "xaxis": "x2",
         "y": [
          1,
          0.1322982715436004,
          0.5938394747266168,
          -0.07865528009394915,
          0.457103674513355,
          -0.14806602197297264,
          0.29804079874090206,
          -0.22815681930206866,
          0.2780458280930493,
          -0.08416250917098642,
          0.2646512006515984,
          -0.06928799897317897,
          0.22199391651145187,
          -0.1243653458834435,
          0.03783584956067796,
          -0.24814698691955692,
          -0.12489320894049433,
          -0.2782408601069974,
          -0.10587362764346021,
          -0.17932827782188804,
          -0.0662145919334676,
          -0.09466603004617366,
          -0.05980799375015427,
          0.002713163406076174,
          -0.06595925274322106,
          -0.10667678941462423,
          -0.17346230067731563,
          -0.13005124445887678,
          -0.14948860781917492,
          -0.09087530653402033,
          -0.12342934181239436,
          -0.0567137817289088
         ],
         "yaxis": "y2"
        },
        {
         "line": {
          "color": "rgba(255,255,255,0)"
         },
         "mode": "lines",
         "name": "UC",
         "showlegend": false,
         "type": "scatter",
         "x": [
          0,
          1,
          2,
          3,
          4,
          5,
          6,
          7,
          8,
          9,
          10,
          11,
          12,
          13,
          14,
          15,
          16,
          17,
          18,
          19,
          20,
          21,
          22,
          23,
          24,
          25,
          26,
          27,
          28,
          29,
          30,
          31
         ],
         "xaxis": "x2",
         "y": [
          0,
          0.3464759560874195,
          0.35248810451832024,
          0.4570720883391305,
          0.4586940753438925,
          0.5104564722822713,
          0.5155865206245196,
          0.5358697188103116,
          0.5474070057782134,
          0.5641061554104125,
          0.5656115266784203,
          0.5802865215082337,
          0.5812788342939457,
          0.5913688258917981,
          0.5945002235981162,
          0.5947892221154023,
          0.6070900226562441,
          0.6101666273065486,
          0.6252125127176378,
          0.6273610779141348,
          0.6334847477885761,
          0.6343150437723675,
          0.6360087967829998,
          0.6366835907973025,
          0.6366849787477944,
          0.6375047516388777,
          0.6396440658042667,
          0.6452663597918975,
          0.6484052864204221,
          0.6525294594794888,
          0.6540469750505383,
          0.6568372608237388
         ],
         "yaxis": "y2"
        },
        {
         "fill": "tonexty",
         "fillcolor": "rgba(32, 146, 230,0.3)",
         "line": {
          "color": "rgba(255,255,255,0)"
         },
         "mode": "lines",
         "name": "LC",
         "showlegend": false,
         "type": "scatter",
         "x": [
          0,
          1,
          2,
          3,
          4,
          5,
          6,
          7,
          8,
          9,
          10,
          11,
          12,
          13,
          14,
          15,
          16,
          17,
          18,
          19,
          20,
          21,
          22,
          23,
          24,
          25,
          26,
          27,
          28,
          29,
          30,
          31
         ],
         "xaxis": "x2",
         "y": [
          0,
          -0.3464759560874195,
          -0.35248810451832024,
          -0.4570720883391304,
          -0.4586940753438925,
          -0.5104564722822713,
          -0.5155865206245196,
          -0.5358697188103116,
          -0.5474070057782136,
          -0.5641061554104125,
          -0.5656115266784203,
          -0.5802865215082337,
          -0.5812788342939457,
          -0.5913688258917981,
          -0.5945002235981162,
          -0.5947892221154023,
          -0.6070900226562441,
          -0.6101666273065485,
          -0.6252125127176378,
          -0.6273610779141348,
          -0.6334847477885761,
          -0.6343150437723675,
          -0.6360087967829998,
          -0.6366835907973025,
          -0.6366849787477944,
          -0.6375047516388777,
          -0.6396440658042667,
          -0.6452663597918975,
          -0.6484052864204221,
          -0.6525294594794888,
          -0.6540469750505383,
          -0.6568372608237388
         ],
         "yaxis": "y2"
        },
        {
         "line": {
          "color": "#3f3f3f"
         },
         "mode": "lines",
         "name": "Actual",
         "showlegend": false,
         "type": "scattergl",
         "x": [
          0,
          0
         ],
         "xaxis": "x3",
         "y": [
          0,
          1
         ],
         "yaxis": "y3"
        },
        {
         "line": {
          "color": "#3f3f3f"
         },
         "mode": "lines",
         "name": "Actual",
         "showlegend": false,
         "type": "scattergl",
         "x": [
          1,
          1
         ],
         "xaxis": "x3",
         "y": [
          0,
          0.13656595772242622
         ],
         "yaxis": "y3"
        },
        {
         "line": {
          "color": "#3f3f3f"
         },
         "mode": "lines",
         "name": "Actual",
         "showlegend": false,
         "type": "scattergl",
         "x": [
          2,
          2
         ],
         "xaxis": "x3",
         "y": [
          0,
          0.626462195567164
         ],
         "yaxis": "y3"
        },
        {
         "line": {
          "color": "#3f3f3f"
         },
         "mode": "lines",
         "name": "Actual",
         "showlegend": false,
         "type": "scattergl",
         "x": [
          3,
          3
         ],
         "xaxis": "x3",
         "y": [
          0,
          -0.3432629480857941
         ],
         "yaxis": "y3"
        },
        {
         "line": {
          "color": "#3f3f3f"
         },
         "mode": "lines",
         "name": "Actual",
         "showlegend": false,
         "type": "scattergl",
         "x": [
          4,
          4
         ],
         "xaxis": "x3",
         "y": [
          0,
          0.35071428167283997
         ],
         "yaxis": "y3"
        },
        {
         "line": {
          "color": "#3f3f3f"
         },
         "mode": "lines",
         "name": "Actual",
         "showlegend": false,
         "type": "scattergl",
         "x": [
          5,
          5
         ],
         "xaxis": "x3",
         "y": [
          0,
          -0.24374684450460046
         ],
         "yaxis": "y3"
        },
        {
         "line": {
          "color": "#3f3f3f"
         },
         "mode": "lines",
         "name": "Actual",
         "showlegend": false,
         "type": "scattergl",
         "x": [
          6,
          6
         ],
         "xaxis": "x3",
         "y": [
          0,
          0.021255449082020123
         ],
         "yaxis": "y3"
        },
        {
         "line": {
          "color": "#3f3f3f"
         },
         "mode": "lines",
         "name": "Actual",
         "showlegend": false,
         "type": "scattergl",
         "x": [
          7,
          7
         ],
         "xaxis": "x3",
         "y": [
          0,
          -0.10841376801775625
         ],
         "yaxis": "y3"
        },
        {
         "line": {
          "color": "#3f3f3f"
         },
         "mode": "lines",
         "name": "Actual",
         "showlegend": false,
         "type": "scattergl",
         "x": [
          8,
          8
         ],
         "xaxis": "x3",
         "y": [
          0,
          0.23286911645818312
         ],
         "yaxis": "y3"
        },
        {
         "line": {
          "color": "#3f3f3f"
         },
         "mode": "lines",
         "name": "Actual",
         "showlegend": false,
         "type": "scattergl",
         "x": [
          9,
          9
         ],
         "xaxis": "x3",
         "y": [
          0,
          0.24401278347269167
         ],
         "yaxis": "y3"
        },
        {
         "line": {
          "color": "#3f3f3f"
         },
         "mode": "lines",
         "name": "Actual",
         "showlegend": false,
         "type": "scattergl",
         "x": [
          10,
          10
         ],
         "xaxis": "x3",
         "y": [
          0,
          -0.1955502446917657
         ],
         "yaxis": "y3"
        },
        {
         "line": {
          "color": "#3f3f3f"
         },
         "mode": "lines",
         "name": "Actual",
         "showlegend": false,
         "type": "scattergl",
         "x": [
          11,
          11
         ],
         "xaxis": "x3",
         "y": [
          0,
          0.22165721747984482
         ],
         "yaxis": "y3"
        },
        {
         "line": {
          "color": "#3f3f3f"
         },
         "mode": "lines",
         "name": "Actual",
         "showlegend": false,
         "type": "scattergl",
         "x": [
          12,
          12
         ],
         "xaxis": "x3",
         "y": [
          0,
          -0.15691326333003308
         ],
         "yaxis": "y3"
        },
        {
         "line": {
          "color": "#3f3f3f"
         },
         "mode": "lines",
         "name": "Actual",
         "showlegend": false,
         "type": "scattergl",
         "x": [
          13,
          13
         ],
         "xaxis": "x3",
         "y": [
          0,
          -0.316783587545133
         ],
         "yaxis": "y3"
        },
        {
         "line": {
          "color": "#3f3f3f"
         },
         "mode": "lines",
         "name": "Actual",
         "showlegend": false,
         "type": "scattergl",
         "x": [
          14,
          14
         ],
         "xaxis": "x3",
         "y": [
          0,
          -0.364502314050441
         ],
         "yaxis": "y3"
        },
        {
         "line": {
          "color": "#3f3f3f"
         },
         "mode": "lines",
         "name": "Actual",
         "showlegend": false,
         "type": "scattergl",
         "x": [
          15,
          15
         ],
         "xaxis": "x3",
         "y": [
          0,
          -0.29625473174749956
         ],
         "yaxis": "y3"
        },
        {
         "marker": {
          "color": "#1f77b4",
          "size": 6
         },
         "mode": "markers",
         "name": "Actual",
         "showlegend": false,
         "type": "scattergl",
         "x": [
          0,
          1,
          2,
          3,
          4,
          5,
          6,
          7,
          8,
          9,
          10,
          11,
          12,
          13,
          14,
          15
         ],
         "xaxis": "x3",
         "y": [
          1,
          0.13656595772242622,
          0.626462195567164,
          -0.3432629480857941,
          0.35071428167283997,
          -0.24374684450460046,
          0.021255449082020123,
          -0.10841376801775625,
          0.23286911645818312,
          0.24401278347269167,
          -0.1955502446917657,
          0.22165721747984482,
          -0.15691326333003308,
          -0.316783587545133,
          -0.364502314050441,
          -0.29625473174749956
         ],
         "yaxis": "y3"
        },
        {
         "line": {
          "color": "rgba(255,255,255,0)"
         },
         "mode": "lines",
         "name": "UC",
         "showlegend": false,
         "type": "scatter",
         "x": [
          0,
          1,
          2,
          3,
          4,
          5,
          6,
          7,
          8,
          9,
          10,
          11,
          12,
          13,
          14,
          15
         ],
         "xaxis": "x3",
         "y": [
          0,
          0.34647595608741955,
          0.34647595608741943,
          0.3464759560874195,
          0.3464759560874195,
          0.3464759560874195,
          0.34647595608741943,
          0.3464759560874195,
          0.34647595608741955,
          0.3464759560874195,
          0.3464759560874195,
          0.34647595608741955,
          0.3464759560874195,
          0.3464759560874195,
          0.3464759560874195,
          0.3464759560874195
         ],
         "yaxis": "y3"
        },
        {
         "fill": "tonexty",
         "fillcolor": "rgba(32, 146, 230,0.3)",
         "line": {
          "color": "rgba(255,255,255,0)"
         },
         "mode": "lines",
         "name": "LC",
         "showlegend": false,
         "type": "scatter",
         "x": [
          0,
          1,
          2,
          3,
          4,
          5,
          6,
          7,
          8,
          9,
          10,
          11,
          12,
          13,
          14,
          15
         ],
         "xaxis": "x3",
         "y": [
          0,
          -0.3464759560874195,
          -0.3464759560874195,
          -0.3464759560874195,
          -0.3464759560874195,
          -0.34647595608741943,
          -0.34647595608741955,
          -0.3464759560874195,
          -0.3464759560874195,
          -0.3464759560874195,
          -0.34647595608741943,
          -0.3464759560874195,
          -0.34647595608741943,
          -0.34647595608741955,
          -0.34647595608741943,
          -0.3464759560874195
         ],
         "yaxis": "y3"
        },
        {
         "hoverinfo": "text",
         "hovertext": [
          "Freq: 0.0312<br>Ampl: -22.9693<br>Time period: 32.0",
          "Freq: 0.0625<br>Ampl: -23.9416<br>Time period: 16.0",
          "Freq: 0.0938<br>Ampl: -26.2856<br>Time period: 10.6667",
          "Freq: 0.125<br>Ampl: -34.4043<br>Time period: 8.0",
          "Freq: 0.1562<br>Ampl: -27.9433<br>Time period: 6.4",
          "Freq: 0.1875<br>Ampl: -26.6634<br>Time period: 5.3333",
          "Freq: 0.2188<br>Ampl: -29.5849<br>Time period: 4.5714",
          "Freq: 0.25<br>Ampl: -37.4174<br>Time period: 4.0",
          "Freq: 0.2812<br>Ampl: -40.6339<br>Time period: 3.5556",
          "Freq: 0.3125<br>Ampl: -34.7702<br>Time period: 3.2",
          "Freq: 0.3438<br>Ampl: -32.6057<br>Time period: 2.9091",
          "Freq: 0.375<br>Ampl: -36.2901<br>Time period: 2.6667",
          "Freq: 0.4062<br>Ampl: -41.5713<br>Time period: 2.4615",
          "Freq: 0.4375<br>Ampl: -32.3677<br>Time period: 2.2857",
          "Freq: 0.4688<br>Ampl: -19.7492<br>Time period: 2.1333",
          "Freq: 0.5<br>Ampl: -19.2687<br>Time period: 2.0"
         ],
         "line": {
          "color": "#1f77b4",
          "width": 2
         },
         "marker": {
          "size": 5
         },
         "mode": "lines+markers",
         "name": "Actual",
         "showlegend": false,
         "type": "scattergl",
         "x": [
          0.03125,
          0.0625,
          0.09375,
          0.125,
          0.15625,
          0.1875,
          0.21875,
          0.25,
          0.28125,
          0.3125,
          0.34375,
          0.375,
          0.40625,
          0.4375,
          0.46875,
          0.5
         ],
         "xaxis": "x4",
         "y": [
          -22.96933585177685,
          -23.941566784019464,
          -26.285613180062427,
          -34.40428913531738,
          -27.943317065102264,
          -26.663414922043547,
          -29.58489693601298,
          -37.417369099739844,
          -40.633940330790885,
          -34.77024197624412,
          -32.60566684213719,
          -36.290089462768634,
          -41.57130413868886,
          -32.36772994066508,
          -19.749228487088306,
          -19.268654725924925
         ],
         "yaxis": "y4"
        },
        {
         "line": {
          "color": "rgb(31, 119, 180)",
          "width": 2
         },
         "marker": {
          "color": "rgb(31, 119, 180)",
          "size": 5
         },
         "mode": "lines+markers",
         "name": "Lags=[1]",
         "showlegend": false,
         "type": "scattergl",
         "x": [
          "2009-07-01T00:00:00",
          "2010-01-01T00:00:00",
          "2010-07-01T00:00:00",
          "2011-01-01T00:00:00",
          "2011-07-01T00:00:00",
          "2012-01-01T00:00:00",
          "2012-07-01T00:00:00",
          "2013-01-01T00:00:00",
          "2013-07-01T00:00:00",
          "2014-01-01T00:00:00",
          "2014-07-01T00:00:00",
          "2015-01-01T00:00:00",
          "2015-07-01T00:00:00",
          "2016-01-01T00:00:00",
          "2016-07-01T00:00:00",
          "2017-01-01T00:00:00",
          "2017-07-01T00:00:00",
          "2018-01-01T00:00:00",
          "2018-07-01T00:00:00",
          "2019-01-01T00:00:00",
          "2019-07-01T00:00:00",
          "2020-01-01T00:00:00",
          "2020-07-01T00:00:00",
          "2021-01-01T00:00:00",
          "2021-07-01T00:00:00",
          "2022-01-01T00:00:00",
          "2022-07-01T00:00:00",
          "2023-01-01T00:00:00",
          "2023-07-01T00:00:00",
          "2024-01-01T00:00:00",
          "2024-07-01T00:00:00"
         ],
         "xaxis": "x5",
         "y": [
          -0.015639693478073147,
          -0.02615688521018722,
          0.0042979622554772945,
          0.016545507687675487,
          -0.0024890287611045725,
          -0.05022007089872149,
          0.006032168708175467,
          -0.029581413305213022,
          0.05690156908472899,
          -0.07788591330336025,
          0.08258784365730065,
          -0.0426338994241533,
          0.04873067906916684,
          -0.06258908316093903,
          0.015532209065470148,
          -0.06365400280419609,
          0.07916941399645783,
          -0.05673737680872648,
          0.04069024489884776,
          -0.05682191983418061,
          0.045130227243199705,
          -0.03900839295671554,
          0.08775527144445183,
          -0.03645766130032824,
          0.018789004012009558,
          -0.049970402364504896,
          0.044387235240377576,
          -0.06344792293002133,
          0.04997393747076018,
          -0.04671495916812396,
          0.013725899609295267
         ],
         "yaxis": "y5"
        },
        {
         "line": {
          "color": "#3f3f3f"
         },
         "mode": "lines",
         "name": "Lags=[1]",
         "showlegend": false,
         "type": "scattergl",
         "x": [
          0,
          0
         ],
         "xaxis": "x6",
         "y": [
          0,
          1
         ],
         "yaxis": "y6"
        },
        {
         "line": {
          "color": "#3f3f3f"
         },
         "mode": "lines",
         "name": "Lags=[1]",
         "showlegend": false,
         "type": "scattergl",
         "x": [
          1,
          1
         ],
         "xaxis": "x6",
         "y": [
          0,
          -0.8368353676416156
         ],
         "yaxis": "y6"
        },
        {
         "line": {
          "color": "#3f3f3f"
         },
         "mode": "lines",
         "name": "Lags=[1]",
         "showlegend": false,
         "type": "scattergl",
         "x": [
          2,
          2
         ],
         "xaxis": "x6",
         "y": [
          0,
          0.7641722167469235
         ],
         "yaxis": "y6"
        },
        {
         "line": {
          "color": "#3f3f3f"
         },
         "mode": "lines",
         "name": "Lags=[1]",
         "showlegend": false,
         "type": "scattergl",
         "x": [
          3,
          3
         ],
         "xaxis": "x6",
         "y": [
          0,
          -0.7974227814212242
         ],
         "yaxis": "y6"
        },
        {
         "line": {
          "color": "#3f3f3f"
         },
         "mode": "lines",
         "name": "Lags=[1]",
         "showlegend": false,
         "type": "scattergl",
         "x": [
          4,
          4
         ],
         "xaxis": "x6",
         "y": [
          0,
          0.732741861250159
         ],
         "yaxis": "y6"
        },
        {
         "line": {
          "color": "#3f3f3f"
         },
         "mode": "lines",
         "name": "Lags=[1]",
         "showlegend": false,
         "type": "scattergl",
         "x": [
          5,
          5
         ],
         "xaxis": "x6",
         "y": [
          0,
          -0.6886866267083198
         ],
         "yaxis": "y6"
        },
        {
         "line": {
          "color": "#3f3f3f"
         },
         "mode": "lines",
         "name": "Lags=[1]",
         "showlegend": false,
         "type": "scattergl",
         "x": [
          6,
          6
         ],
         "xaxis": "x6",
         "y": [
          0,
          0.6895599925494428
         ],
         "yaxis": "y6"
        },
        {
         "line": {
          "color": "#3f3f3f"
         },
         "mode": "lines",
         "name": "Lags=[1]",
         "showlegend": false,
         "type": "scattergl",
         "x": [
          7,
          7
         ],
         "xaxis": "x6",
         "y": [
          0,
          -0.6697129009940975
         ],
         "yaxis": "y6"
        },
        {
         "line": {
          "color": "#3f3f3f"
         },
         "mode": "lines",
         "name": "Lags=[1]",
         "showlegend": false,
         "type": "scattergl",
         "x": [
          8,
          8
         ],
         "xaxis": "x6",
         "y": [
          0,
          0.5981091692709284
         ],
         "yaxis": "y6"
        },
        {
         "line": {
          "color": "#3f3f3f"
         },
         "mode": "lines",
         "name": "Lags=[1]",
         "showlegend": false,
         "type": "scattergl",
         "x": [
          9,
          9
         ],
         "xaxis": "x6",
         "y": [
          0,
          -0.5553236923221291
         ],
         "yaxis": "y6"
        },
        {
         "line": {
          "color": "#3f3f3f"
         },
         "mode": "lines",
         "name": "Lags=[1]",
         "showlegend": false,
         "type": "scattergl",
         "x": [
          10,
          10
         ],
         "xaxis": "x6",
         "y": [
          0,
          0.5290825540494118
         ],
         "yaxis": "y6"
        },
        {
         "line": {
          "color": "#3f3f3f"
         },
         "mode": "lines",
         "name": "Lags=[1]",
         "showlegend": false,
         "type": "scattergl",
         "x": [
          11,
          11
         ],
         "xaxis": "x6",
         "y": [
          0,
          -0.5073111072082178
         ],
         "yaxis": "y6"
        },
        {
         "line": {
          "color": "#3f3f3f"
         },
         "mode": "lines",
         "name": "Lags=[1]",
         "showlegend": false,
         "type": "scattergl",
         "x": [
          12,
          12
         ],
         "xaxis": "x6",
         "y": [
          0,
          0.4718104514034117
         ],
         "yaxis": "y6"
        },
        {
         "line": {
          "color": "#3f3f3f"
         },
         "mode": "lines",
         "name": "Lags=[1]",
         "showlegend": false,
         "type": "scattergl",
         "x": [
          13,
          13
         ],
         "xaxis": "x6",
         "y": [
          0,
          -0.3970152952891348
         ],
         "yaxis": "y6"
        },
        {
         "line": {
          "color": "#3f3f3f"
         },
         "mode": "lines",
         "name": "Lags=[1]",
         "showlegend": false,
         "type": "scattergl",
         "x": [
          14,
          14
         ],
         "xaxis": "x6",
         "y": [
          0,
          0.37322620986463206
         ],
         "yaxis": "y6"
        },
        {
         "line": {
          "color": "#3f3f3f"
         },
         "mode": "lines",
         "name": "Lags=[1]",
         "showlegend": false,
         "type": "scattergl",
         "x": [
          15,
          15
         ],
         "xaxis": "x6",
         "y": [
          0,
          -0.3183702106819323
         ],
         "yaxis": "y6"
        },
        {
         "line": {
          "color": "#3f3f3f"
         },
         "mode": "lines",
         "name": "Lags=[1]",
         "showlegend": false,
         "type": "scattergl",
         "x": [
          16,
          16
         ],
         "xaxis": "x6",
         "y": [
          0,
          0.27035873102931707
         ],
         "yaxis": "y6"
        },
        {
         "line": {
          "color": "#3f3f3f"
         },
         "mode": "lines",
         "name": "Lags=[1]",
         "showlegend": false,
         "type": "scattergl",
         "x": [
          17,
          17
         ],
         "xaxis": "x6",
         "y": [
          0,
          -0.2979293235135993
         ],
         "yaxis": "y6"
        },
        {
         "line": {
          "color": "#3f3f3f"
         },
         "mode": "lines",
         "name": "Lags=[1]",
         "showlegend": false,
         "type": "scattergl",
         "x": [
          18,
          18
         ],
         "xaxis": "x6",
         "y": [
          0,
          0.2442312627347893
         ],
         "yaxis": "y6"
        },
        {
         "line": {
          "color": "#3f3f3f"
         },
         "mode": "lines",
         "name": "Lags=[1]",
         "showlegend": false,
         "type": "scattergl",
         "x": [
          19,
          19
         ],
         "xaxis": "x6",
         "y": [
          0,
          -0.18595608064910135
         ],
         "yaxis": "y6"
        },
        {
         "line": {
          "color": "#3f3f3f"
         },
         "mode": "lines",
         "name": "Lags=[1]",
         "showlegend": false,
         "type": "scattergl",
         "x": [
          20,
          20
         ],
         "xaxis": "x6",
         "y": [
          0,
          0.1688886688554825
         ],
         "yaxis": "y6"
        },
        {
         "line": {
          "color": "#3f3f3f"
         },
         "mode": "lines",
         "name": "Lags=[1]",
         "showlegend": false,
         "type": "scattergl",
         "x": [
          21,
          21
         ],
         "xaxis": "x6",
         "y": [
          0,
          -0.1305435803875239
         ],
         "yaxis": "y6"
        },
        {
         "line": {
          "color": "#3f3f3f"
         },
         "mode": "lines",
         "name": "Lags=[1]",
         "showlegend": false,
         "type": "scattergl",
         "x": [
          22,
          22
         ],
         "xaxis": "x6",
         "y": [
          0,
          0.06001271325696397
         ],
         "yaxis": "y6"
        },
        {
         "line": {
          "color": "#3f3f3f"
         },
         "mode": "lines",
         "name": "Lags=[1]",
         "showlegend": false,
         "type": "scattergl",
         "x": [
          23,
          23
         ],
         "xaxis": "x6",
         "y": [
          0,
          -0.03990506794567079
         ],
         "yaxis": "y6"
        },
        {
         "line": {
          "color": "#3f3f3f"
         },
         "mode": "lines",
         "name": "Lags=[1]",
         "showlegend": false,
         "type": "scattergl",
         "x": [
          24,
          24
         ],
         "xaxis": "x6",
         "y": [
          0,
          0.029795745809454176
         ],
         "yaxis": "y6"
        },
        {
         "line": {
          "color": "#3f3f3f"
         },
         "mode": "lines",
         "name": "Lags=[1]",
         "showlegend": false,
         "type": "scattergl",
         "x": [
          25,
          25
         ],
         "xaxis": "x6",
         "y": [
          0,
          -0.010456467344039511
         ],
         "yaxis": "y6"
        },
        {
         "line": {
          "color": "#3f3f3f"
         },
         "mode": "lines",
         "name": "Lags=[1]",
         "showlegend": false,
         "type": "scattergl",
         "x": [
          26,
          26
         ],
         "xaxis": "x6",
         "y": [
          0,
          0.0047013808093393245
         ],
         "yaxis": "y6"
        },
        {
         "line": {
          "color": "#3f3f3f"
         },
         "mode": "lines",
         "name": "Lags=[1]",
         "showlegend": false,
         "type": "scattergl",
         "x": [
          27,
          27
         ],
         "xaxis": "x6",
         "y": [
          0,
          -0.006493287685509189
         ],
         "yaxis": "y6"
        },
        {
         "line": {
          "color": "#3f3f3f"
         },
         "mode": "lines",
         "name": "Lags=[1]",
         "showlegend": false,
         "type": "scattergl",
         "x": [
          28,
          28
         ],
         "xaxis": "x6",
         "y": [
          0,
          0.006319426948508392
         ],
         "yaxis": "y6"
        },
        {
         "line": {
          "color": "#3f3f3f"
         },
         "mode": "lines",
         "name": "Lags=[1]",
         "showlegend": false,
         "type": "scattergl",
         "x": [
          29,
          29
         ],
         "xaxis": "x6",
         "y": [
          0,
          0.0017947254063854258
         ],
         "yaxis": "y6"
        },
        {
         "line": {
          "color": "#3f3f3f"
         },
         "mode": "lines",
         "name": "Lags=[1]",
         "showlegend": false,
         "type": "scattergl",
         "x": [
          30,
          30
         ],
         "xaxis": "x6",
         "y": [
          0,
          -0.0028433201930344026
         ],
         "yaxis": "y6"
        },
        {
         "marker": {
          "color": "#1f77b4",
          "size": 6
         },
         "mode": "markers",
         "name": "Lags=[1]",
         "showlegend": false,
         "type": "scattergl",
         "x": [
          0,
          1,
          2,
          3,
          4,
          5,
          6,
          7,
          8,
          9,
          10,
          11,
          12,
          13,
          14,
          15,
          16,
          17,
          18,
          19,
          20,
          21,
          22,
          23,
          24,
          25,
          26,
          27,
          28,
          29,
          30
         ],
         "xaxis": "x6",
         "y": [
          1,
          -0.8368353676416156,
          0.7641722167469235,
          -0.7974227814212242,
          0.732741861250159,
          -0.6886866267083198,
          0.6895599925494428,
          -0.6697129009940975,
          0.5981091692709284,
          -0.5553236923221291,
          0.5290825540494118,
          -0.5073111072082178,
          0.4718104514034117,
          -0.3970152952891348,
          0.37322620986463206,
          -0.3183702106819323,
          0.27035873102931707,
          -0.2979293235135993,
          0.2442312627347893,
          -0.18595608064910135,
          0.1688886688554825,
          -0.1305435803875239,
          0.06001271325696397,
          -0.03990506794567079,
          0.029795745809454176,
          -0.010456467344039511,
          0.0047013808093393245,
          -0.006493287685509189,
          0.006319426948508392,
          0.0017947254063854258,
          -0.0028433201930344026
         ],
         "yaxis": "y6"
        },
        {
         "line": {
          "color": "rgba(255,255,255,0)"
         },
         "mode": "lines",
         "name": "UC",
         "showlegend": false,
         "type": "scatter",
         "x": [
          0,
          1,
          2,
          3,
          4,
          5,
          6,
          7,
          8,
          9,
          10,
          11,
          12,
          13,
          14,
          15,
          16,
          17,
          18,
          19,
          20,
          21,
          22,
          23,
          24,
          25,
          26,
          27,
          28,
          29,
          30
         ],
         "xaxis": "x6",
         "y": [
          0,
          0.3520199234049176,
          0.545413592330727,
          0.6649827999067806,
          0.7744655446894932,
          0.8560739994486428,
          0.9221760532113844,
          0.9839984640781786,
          1.0389471864515234,
          1.0807732334494484,
          1.1155714031087585,
          1.146244255190978,
          1.173737666240935,
          1.19700863781835,
          1.2132163374162626,
          1.2273617637984655,
          1.2375530130902077,
          1.2448504929759872,
          1.2536551137782692,
          1.2595373335651348,
          1.2629348289065205,
          1.26573042334957,
          1.2673977410468324,
          1.2677498262424232,
          1.2679054695240817,
          1.267992233865514,
          1.2680029191486792,
          1.2680050792032613,
          1.2680091996288811,
          1.2680131023436432,
          1.2680134171233413
         ],
         "yaxis": "y6"
        },
        {
         "fill": "tonexty",
         "fillcolor": "rgba(32, 146, 230,0.3)",
         "line": {
          "color": "rgba(255,255,255,0)"
         },
         "mode": "lines",
         "name": "LC",
         "showlegend": false,
         "type": "scatter",
         "x": [
          0,
          1,
          2,
          3,
          4,
          5,
          6,
          7,
          8,
          9,
          10,
          11,
          12,
          13,
          14,
          15,
          16,
          17,
          18,
          19,
          20,
          21,
          22,
          23,
          24,
          25,
          26,
          27,
          28,
          29,
          30
         ],
         "xaxis": "x6",
         "y": [
          0,
          -0.3520199234049177,
          -0.5454135923307268,
          -0.6649827999067806,
          -0.7744655446894934,
          -0.8560739994486428,
          -0.9221760532113844,
          -0.9839984640781786,
          -1.0389471864515234,
          -1.0807732334494484,
          -1.1155714031087585,
          -1.146244255190978,
          -1.173737666240935,
          -1.19700863781835,
          -1.2132163374162626,
          -1.2273617637984655,
          -1.2375530130902075,
          -1.2448504929759872,
          -1.2536551137782692,
          -1.2595373335651348,
          -1.2629348289065205,
          -1.26573042334957,
          -1.2673977410468324,
          -1.2677498262424232,
          -1.2679054695240817,
          -1.267992233865514,
          -1.2680029191486792,
          -1.2680050792032613,
          -1.2680091996288811,
          -1.2680131023436432,
          -1.2680134171233413
         ],
         "yaxis": "y6"
        },
        {
         "line": {
          "color": "#3f3f3f"
         },
         "mode": "lines",
         "name": "Lags=[1]",
         "showlegend": false,
         "type": "scattergl",
         "x": [
          0,
          0
         ],
         "xaxis": "x7",
         "y": [
          0,
          1
         ],
         "yaxis": "y7"
        },
        {
         "line": {
          "color": "#3f3f3f"
         },
         "mode": "lines",
         "name": "Lags=[1]",
         "showlegend": false,
         "type": "scattergl",
         "x": [
          1,
          1
         ],
         "xaxis": "x7",
         "y": [
          0,
          -0.8647298798963358
         ],
         "yaxis": "y7"
        },
        {
         "line": {
          "color": "#3f3f3f"
         },
         "mode": "lines",
         "name": "Lags=[1]",
         "showlegend": false,
         "type": "scattergl",
         "x": [
          2,
          2
         ],
         "xaxis": "x7",
         "y": [
          0,
          0.27400638834995994
         ],
         "yaxis": "y7"
        },
        {
         "line": {
          "color": "#3f3f3f"
         },
         "mode": "lines",
         "name": "Lags=[1]",
         "showlegend": false,
         "type": "scattergl",
         "x": [
          3,
          3
         ],
         "xaxis": "x7",
         "y": [
          0,
          -0.5704813430079502
         ],
         "yaxis": "y7"
        },
        {
         "line": {
          "color": "#3f3f3f"
         },
         "mode": "lines",
         "name": "Lags=[1]",
         "showlegend": false,
         "type": "scattergl",
         "x": [
          4,
          4
         ],
         "xaxis": "x7",
         "y": [
          0,
          0.0029661826774016165
         ],
         "yaxis": "y7"
        },
        {
         "line": {
          "color": "#3f3f3f"
         },
         "mode": "lines",
         "name": "Lags=[1]",
         "showlegend": false,
         "type": "scattergl",
         "x": [
          5,
          5
         ],
         "xaxis": "x7",
         "y": [
          0,
          -0.2066869713827015
         ],
         "yaxis": "y7"
        },
        {
         "line": {
          "color": "#3f3f3f"
         },
         "mode": "lines",
         "name": "Lags=[1]",
         "showlegend": false,
         "type": "scattergl",
         "x": [
          6,
          6
         ],
         "xaxis": "x7",
         "y": [
          0,
          0.1312502513250336
         ],
         "yaxis": "y7"
        },
        {
         "line": {
          "color": "#3f3f3f"
         },
         "mode": "lines",
         "name": "Lags=[1]",
         "showlegend": false,
         "type": "scattergl",
         "x": [
          7,
          7
         ],
         "xaxis": "x7",
         "y": [
          0,
          -0.2804264805668387
         ],
         "yaxis": "y7"
        },
        {
         "line": {
          "color": "#3f3f3f"
         },
         "mode": "lines",
         "name": "Lags=[1]",
         "showlegend": false,
         "type": "scattergl",
         "x": [
          8,
          8
         ],
         "xaxis": "x7",
         "y": [
          0,
          -0.20551988913887467
         ],
         "yaxis": "y7"
        },
        {
         "line": {
          "color": "#3f3f3f"
         },
         "mode": "lines",
         "name": "Lags=[1]",
         "showlegend": false,
         "type": "scattergl",
         "x": [
          9,
          9
         ],
         "xaxis": "x7",
         "y": [
          0,
          0.10363794847085211
         ],
         "yaxis": "y7"
        },
        {
         "line": {
          "color": "#3f3f3f"
         },
         "mode": "lines",
         "name": "Lags=[1]",
         "showlegend": false,
         "type": "scattergl",
         "x": [
          10,
          10
         ],
         "xaxis": "x7",
         "y": [
          0,
          -0.29342709460879907
         ],
         "yaxis": "y7"
        },
        {
         "line": {
          "color": "#3f3f3f"
         },
         "mode": "lines",
         "name": "Lags=[1]",
         "showlegend": false,
         "type": "scattergl",
         "x": [
          11,
          11
         ],
         "xaxis": "x7",
         "y": [
          0,
          -0.21210259008585874
         ],
         "yaxis": "y7"
        },
        {
         "line": {
          "color": "#3f3f3f"
         },
         "mode": "lines",
         "name": "Lags=[1]",
         "showlegend": false,
         "type": "scattergl",
         "x": [
          12,
          12
         ],
         "xaxis": "x7",
         "y": [
          0,
          -0.17185888088301324
         ],
         "yaxis": "y7"
        },
        {
         "line": {
          "color": "#3f3f3f"
         },
         "mode": "lines",
         "name": "Lags=[1]",
         "showlegend": false,
         "type": "scattergl",
         "x": [
          13,
          13
         ],
         "xaxis": "x7",
         "y": [
          0,
          0.5234939416239834
         ],
         "yaxis": "y7"
        },
        {
         "line": {
          "color": "#3f3f3f"
         },
         "mode": "lines",
         "name": "Lags=[1]",
         "showlegend": false,
         "type": "scattergl",
         "x": [
          14,
          14
         ],
         "xaxis": "x7",
         "y": [
          0,
          -0.41337459440076
         ],
         "yaxis": "y7"
        },
        {
         "marker": {
          "color": "#1f77b4",
          "size": 6
         },
         "mode": "markers",
         "name": "Lags=[1]",
         "showlegend": false,
         "type": "scattergl",
         "x": [
          0,
          1,
          2,
          3,
          4,
          5,
          6,
          7,
          8,
          9,
          10,
          11,
          12,
          13,
          14
         ],
         "xaxis": "x7",
         "y": [
          1,
          -0.8647298798963358,
          0.27400638834995994,
          -0.5704813430079502,
          0.0029661826774016165,
          -0.2066869713827015,
          0.1312502513250336,
          -0.2804264805668387,
          -0.20551988913887467,
          0.10363794847085211,
          -0.29342709460879907,
          -0.21210259008585874,
          -0.17185888088301324,
          0.5234939416239834,
          -0.41337459440076
         ],
         "yaxis": "y7"
        },
        {
         "line": {
          "color": "rgba(255,255,255,0)"
         },
         "mode": "lines",
         "name": "UC",
         "showlegend": false,
         "type": "scatter",
         "x": [
          0,
          1,
          2,
          3,
          4,
          5,
          6,
          7,
          8,
          9,
          10,
          11,
          12,
          13,
          14
         ],
         "xaxis": "x7",
         "y": [
          0,
          0.3520199234049176,
          0.3520199234049176,
          0.3520199234049176,
          0.3520199234049176,
          0.3520199234049176,
          0.3520199234049176,
          0.3520199234049176,
          0.3520199234049176,
          0.3520199234049176,
          0.3520199234049176,
          0.3520199234049176,
          0.3520199234049176,
          0.3520199234049176,
          0.3520199234049176
         ],
         "yaxis": "y7"
        },
        {
         "fill": "tonexty",
         "fillcolor": "rgba(32, 146, 230,0.3)",
         "line": {
          "color": "rgba(255,255,255,0)"
         },
         "mode": "lines",
         "name": "LC",
         "showlegend": false,
         "type": "scatter",
         "x": [
          0,
          1,
          2,
          3,
          4,
          5,
          6,
          7,
          8,
          9,
          10,
          11,
          12,
          13,
          14
         ],
         "xaxis": "x7",
         "y": [
          0,
          -0.3520199234049176,
          -0.3520199234049176,
          -0.3520199234049176,
          -0.3520199234049176,
          -0.3520199234049176,
          -0.3520199234049176,
          -0.3520199234049176,
          -0.3520199234049176,
          -0.3520199234049176,
          -0.35201992340491756,
          -0.3520199234049176,
          -0.3520199234049176,
          -0.3520199234049176,
          -0.35201992340491756
         ],
         "yaxis": "y7"
        },
        {
         "hoverinfo": "text",
         "hovertext": [
          "Freq: 0.0323<br>Ampl: -41.5024<br>Time period: 31.0",
          "Freq: 0.0645<br>Ampl: -33.7052<br>Time period: 15.5",
          "Freq: 0.0968<br>Ampl: -33.0137<br>Time period: 10.3333",
          "Freq: 0.129<br>Ampl: -34.7555<br>Time period: 7.75",
          "Freq: 0.1613<br>Ampl: -27.1419<br>Time period: 6.2",
          "Freq: 0.1935<br>Ampl: -25.9737<br>Time period: 5.1667",
          "Freq: 0.2258<br>Ampl: -29.5681<br>Time period: 4.4286",
          "Freq: 0.2581<br>Ampl: -35.7237<br>Time period: 3.875",
          "Freq: 0.2903<br>Ampl: -35.4152<br>Time period: 3.4444",
          "Freq: 0.3226<br>Ampl: -28.4678<br>Time period: 3.1",
          "Freq: 0.3548<br>Ampl: -28.6786<br>Time period: 2.8182",
          "Freq: 0.3871<br>Ampl: -32.6918<br>Time period: 2.5833",
          "Freq: 0.4194<br>Ampl: -41.2969<br>Time period: 2.3846",
          "Freq: 0.4516<br>Ampl: -18.7087<br>Time period: 2.2143",
          "Freq: 0.4839<br>Ampl: -11.2091<br>Time period: 2.0667"
         ],
         "line": {
          "color": "#1f77b4",
          "width": 2
         },
         "marker": {
          "size": 5
         },
         "mode": "lines+markers",
         "name": "Lags=[1]",
         "showlegend": false,
         "type": "scattergl",
         "x": [
          0.03225806451612903,
          0.06451612903225806,
          0.0967741935483871,
          0.12903225806451613,
          0.16129032258064516,
          0.1935483870967742,
          0.22580645161290322,
          0.25806451612903225,
          0.29032258064516125,
          0.3225806451612903,
          0.3548387096774194,
          0.3870967741935484,
          0.4193548387096774,
          0.45161290322580644,
          0.4838709677419355
         ],
         "xaxis": "x8",
         "y": [
          -41.50239151170156,
          -33.70518098830359,
          -33.01369484590251,
          -34.755534081763024,
          -27.14194781394489,
          -25.973652103047424,
          -29.568078617291256,
          -35.72372745598438,
          -35.415169800193375,
          -28.46781087665939,
          -28.678614637510744,
          -32.69181875759101,
          -41.2969006456335,
          -18.708670007006745,
          -11.209080128187052
         ],
         "yaxis": "y8"
        },
        {
         "line": {
          "color": "rgb(31, 119, 180)",
          "width": 2
         },
         "marker": {
          "color": "rgb(31, 119, 180)",
          "size": 5
         },
         "mode": "lines+markers",
         "name": "Lags=[1, 2]",
         "showlegend": false,
         "type": "scattergl",
         "x": [
          "2010-07-01T00:00:00",
          "2011-01-01T00:00:00",
          "2011-07-01T00:00:00",
          "2012-01-01T00:00:00",
          "2012-07-01T00:00:00",
          "2013-01-01T00:00:00",
          "2013-07-01T00:00:00",
          "2014-01-01T00:00:00",
          "2014-07-01T00:00:00",
          "2015-01-01T00:00:00",
          "2015-07-01T00:00:00",
          "2016-01-01T00:00:00",
          "2016-07-01T00:00:00",
          "2017-01-01T00:00:00",
          "2017-07-01T00:00:00",
          "2018-01-01T00:00:00",
          "2018-07-01T00:00:00",
          "2019-01-01T00:00:00",
          "2019-07-01T00:00:00",
          "2020-01-01T00:00:00",
          "2020-07-01T00:00:00",
          "2021-01-01T00:00:00",
          "2021-07-01T00:00:00",
          "2022-01-01T00:00:00",
          "2022-07-01T00:00:00",
          "2023-01-01T00:00:00",
          "2023-07-01T00:00:00",
          "2024-01-01T00:00:00",
          "2024-07-01T00:00:00"
         ],
         "xaxis": "x9",
         "y": [
          0.01993765573355044,
          0.04270239289786271,
          -0.006786991016581867,
          -0.06676557858639698,
          0.00852119746928004,
          0.02063865759350847,
          0.05086940037655352,
          -0.04830449999814723,
          0.025686274572571666,
          0.035252013879206956,
          -0.033857164588133815,
          -0.01995518373678573,
          -0.03319847000369669,
          -0.0010649196432570562,
          0.06363720493098768,
          0.006916625995469605,
          -0.038479169097610066,
          -0.00008454302545413128,
          0.004439982344351945,
          0.01781352687746507,
          0.04262504420125213,
          0.002550731656387306,
          -0.06896626743244227,
          -0.013512741064176659,
          0.025598231228368018,
          -0.013477520565516432,
          0.005586702230382601,
          0.016732963761897368,
          -0.03624803786146491
         ],
         "yaxis": "y9"
        },
        {
         "line": {
          "color": "#3f3f3f"
         },
         "mode": "lines",
         "name": "Lags=[1, 2]",
         "showlegend": false,
         "type": "scattergl",
         "x": [
          0,
          0
         ],
         "xaxis": "x10",
         "y": [
          0,
          1
         ],
         "yaxis": "y10"
        },
        {
         "line": {
          "color": "#3f3f3f"
         },
         "mode": "lines",
         "name": "Lags=[1, 2]",
         "showlegend": false,
         "type": "scattergl",
         "x": [
          1,
          1
         ],
         "xaxis": "x10",
         "y": [
          0,
          -0.01306154393213987
         ],
         "yaxis": "y10"
        },
        {
         "line": {
          "color": "#3f3f3f"
         },
         "mode": "lines",
         "name": "Lags=[1, 2]",
         "showlegend": false,
         "type": "scattergl",
         "x": [
          2,
          2
         ],
         "xaxis": "x10",
         "y": [
          0,
          -0.47590862863845573
         ],
         "yaxis": "y10"
        },
        {
         "line": {
          "color": "#3f3f3f"
         },
         "mode": "lines",
         "name": "Lags=[1, 2]",
         "showlegend": false,
         "type": "scattergl",
         "x": [
          3,
          3
         ],
         "xaxis": "x10",
         "y": [
          0,
          -0.1467975854615285
         ],
         "yaxis": "y10"
        },
        {
         "line": {
          "color": "#3f3f3f"
         },
         "mode": "lines",
         "name": "Lags=[1, 2]",
         "showlegend": false,
         "type": "scattergl",
         "x": [
          4,
          4
         ],
         "xaxis": "x10",
         "y": [
          0,
          -0.002042438043293527
         ],
         "yaxis": "y10"
        },
        {
         "line": {
          "color": "#3f3f3f"
         },
         "mode": "lines",
         "name": "Lags=[1, 2]",
         "showlegend": false,
         "type": "scattergl",
         "x": [
          5,
          5
         ],
         "xaxis": "x10",
         "y": [
          0,
          0.14569761781151802
         ],
         "yaxis": "y10"
        },
        {
         "line": {
          "color": "#3f3f3f"
         },
         "mode": "lines",
         "name": "Lags=[1, 2]",
         "showlegend": false,
         "type": "scattergl",
         "x": [
          6,
          6
         ],
         "xaxis": "x10",
         "y": [
          0,
          0.161456933695757
         ],
         "yaxis": "y10"
        },
        {
         "line": {
          "color": "#3f3f3f"
         },
         "mode": "lines",
         "name": "Lags=[1, 2]",
         "showlegend": false,
         "type": "scattergl",
         "x": [
          7,
          7
         ],
         "xaxis": "x10",
         "y": [
          0,
          -0.09028806476086704
         ],
         "yaxis": "y10"
        },
        {
         "line": {
          "color": "#3f3f3f"
         },
         "mode": "lines",
         "name": "Lags=[1, 2]",
         "showlegend": false,
         "type": "scattergl",
         "x": [
          8,
          8
         ],
         "xaxis": "x10",
         "y": [
          0,
          -0.10830250169558882
         ],
         "yaxis": "y10"
        },
        {
         "line": {
          "color": "#3f3f3f"
         },
         "mode": "lines",
         "name": "Lags=[1, 2]",
         "showlegend": false,
         "type": "scattergl",
         "x": [
          9,
          9
         ],
         "xaxis": "x10",
         "y": [
          0,
          0.09663031704467116
         ],
         "yaxis": "y10"
        },
        {
         "line": {
          "color": "#3f3f3f"
         },
         "mode": "lines",
         "name": "Lags=[1, 2]",
         "showlegend": false,
         "type": "scattergl",
         "x": [
          10,
          10
         ],
         "xaxis": "x10",
         "y": [
          0,
          0.0071019228670844295
         ],
         "yaxis": "y10"
        },
        {
         "line": {
          "color": "#3f3f3f"
         },
         "mode": "lines",
         "name": "Lags=[1, 2]",
         "showlegend": false,
         "type": "scattergl",
         "x": [
          11,
          11
         ],
         "xaxis": "x10",
         "y": [
          0,
          -0.15059785101808942
         ],
         "yaxis": "y10"
        },
        {
         "line": {
          "color": "#3f3f3f"
         },
         "mode": "lines",
         "name": "Lags=[1, 2]",
         "showlegend": false,
         "type": "scattergl",
         "x": [
          12,
          12
         ],
         "xaxis": "x10",
         "y": [
          0,
          0.07081882006723887
         ],
         "yaxis": "y10"
        },
        {
         "line": {
          "color": "#3f3f3f"
         },
         "mode": "lines",
         "name": "Lags=[1, 2]",
         "showlegend": false,
         "type": "scattergl",
         "x": [
          13,
          13
         ],
         "xaxis": "x10",
         "y": [
          0,
          0.09332820051861204
         ],
         "yaxis": "y10"
        },
        {
         "line": {
          "color": "#3f3f3f"
         },
         "mode": "lines",
         "name": "Lags=[1, 2]",
         "showlegend": false,
         "type": "scattergl",
         "x": [
          14,
          14
         ],
         "xaxis": "x10",
         "y": [
          0,
          -0.03439018189398151
         ],
         "yaxis": "y10"
        },
        {
         "line": {
          "color": "#3f3f3f"
         },
         "mode": "lines",
         "name": "Lags=[1, 2]",
         "showlegend": false,
         "type": "scattergl",
         "x": [
          15,
          15
         ],
         "xaxis": "x10",
         "y": [
          0,
          0.09715835815707884
         ],
         "yaxis": "y10"
        },
        {
         "line": {
          "color": "#3f3f3f"
         },
         "mode": "lines",
         "name": "Lags=[1, 2]",
         "showlegend": false,
         "type": "scattergl",
         "x": [
          16,
          16
         ],
         "xaxis": "x10",
         "y": [
          0,
          -0.11144883329898397
         ],
         "yaxis": "y10"
        },
        {
         "line": {
          "color": "#3f3f3f"
         },
         "mode": "lines",
         "name": "Lags=[1, 2]",
         "showlegend": false,
         "type": "scattergl",
         "x": [
          17,
          17
         ],
         "xaxis": "x10",
         "y": [
          0,
          -0.191605062828974
         ],
         "yaxis": "y10"
        },
        {
         "line": {
          "color": "#3f3f3f"
         },
         "mode": "lines",
         "name": "Lags=[1, 2]",
         "showlegend": false,
         "type": "scattergl",
         "x": [
          18,
          18
         ],
         "xaxis": "x10",
         "y": [
          0,
          0.10770634763012489
         ],
         "yaxis": "y10"
        },
        {
         "line": {
          "color": "#3f3f3f"
         },
         "mode": "lines",
         "name": "Lags=[1, 2]",
         "showlegend": false,
         "type": "scattergl",
         "x": [
          19,
          19
         ],
         "xaxis": "x10",
         "y": [
          0,
          0.1682257526951493
         ],
         "yaxis": "y10"
        },
        {
         "line": {
          "color": "#3f3f3f"
         },
         "mode": "lines",
         "name": "Lags=[1, 2]",
         "showlegend": false,
         "type": "scattergl",
         "x": [
          20,
          20
         ],
         "xaxis": "x10",
         "y": [
          0,
          0.025522487040778884
         ],
         "yaxis": "y10"
        },
        {
         "line": {
          "color": "#3f3f3f"
         },
         "mode": "lines",
         "name": "Lags=[1, 2]",
         "showlegend": false,
         "type": "scattergl",
         "x": [
          21,
          21
         ],
         "xaxis": "x10",
         "y": [
          0,
          -0.0593657683600102
         ],
         "yaxis": "y10"
        },
        {
         "line": {
          "color": "#3f3f3f"
         },
         "mode": "lines",
         "name": "Lags=[1, 2]",
         "showlegend": false,
         "type": "scattergl",
         "x": [
          22,
          22
         ],
         "xaxis": "x10",
         "y": [
          0,
          -0.08393146412525962
         ],
         "yaxis": "y10"
        },
        {
         "line": {
          "color": "#3f3f3f"
         },
         "mode": "lines",
         "name": "Lags=[1, 2]",
         "showlegend": false,
         "type": "scattergl",
         "x": [
          23,
          23
         ],
         "xaxis": "x10",
         "y": [
          0,
          -0.00200102741771268
         ],
         "yaxis": "y10"
        },
        {
         "line": {
          "color": "#3f3f3f"
         },
         "mode": "lines",
         "name": "Lags=[1, 2]",
         "showlegend": false,
         "type": "scattergl",
         "x": [
          24,
          24
         ],
         "xaxis": "x10",
         "y": [
          0,
          -0.04798381573843133
         ],
         "yaxis": "y10"
        },
        {
         "line": {
          "color": "#3f3f3f"
         },
         "mode": "lines",
         "name": "Lags=[1, 2]",
         "showlegend": false,
         "type": "scattergl",
         "x": [
          25,
          25
         ],
         "xaxis": "x10",
         "y": [
          0,
          0.07189157695287701
         ],
         "yaxis": "y10"
        },
        {
         "line": {
          "color": "#3f3f3f"
         },
         "mode": "lines",
         "name": "Lags=[1, 2]",
         "showlegend": false,
         "type": "scattergl",
         "x": [
          26,
          26
         ],
         "xaxis": "x10",
         "y": [
          0,
          0.03328408467782544
         ],
         "yaxis": "y10"
        },
        {
         "line": {
          "color": "#3f3f3f"
         },
         "mode": "lines",
         "name": "Lags=[1, 2]",
         "showlegend": false,
         "type": "scattergl",
         "x": [
          27,
          27
         ],
         "xaxis": "x10",
         "y": [
          0,
          -0.03855221450524151
         ],
         "yaxis": "y10"
        },
        {
         "line": {
          "color": "#3f3f3f"
         },
         "mode": "lines",
         "name": "Lags=[1, 2]",
         "showlegend": false,
         "type": "scattergl",
         "x": [
          28,
          28
         ],
         "xaxis": "x10",
         "y": [
          0,
          -0.022545437440158335
         ],
         "yaxis": "y10"
        },
        {
         "marker": {
          "color": "#1f77b4",
          "size": 6
         },
         "mode": "markers",
         "name": "Lags=[1, 2]",
         "showlegend": false,
         "type": "scattergl",
         "x": [
          0,
          1,
          2,
          3,
          4,
          5,
          6,
          7,
          8,
          9,
          10,
          11,
          12,
          13,
          14,
          15,
          16,
          17,
          18,
          19,
          20,
          21,
          22,
          23,
          24,
          25,
          26,
          27,
          28
         ],
         "xaxis": "x10",
         "y": [
          1,
          -0.01306154393213987,
          -0.47590862863845573,
          -0.1467975854615285,
          -0.002042438043293527,
          0.14569761781151802,
          0.161456933695757,
          -0.09028806476086704,
          -0.10830250169558882,
          0.09663031704467116,
          0.0071019228670844295,
          -0.15059785101808942,
          0.07081882006723887,
          0.09332820051861204,
          -0.03439018189398151,
          0.09715835815707884,
          -0.11144883329898397,
          -0.191605062828974,
          0.10770634763012489,
          0.1682257526951493,
          0.025522487040778884,
          -0.0593657683600102,
          -0.08393146412525962,
          -0.00200102741771268,
          -0.04798381573843133,
          0.07189157695287701,
          0.03328408467782544,
          -0.03855221450524151,
          -0.022545437440158335
         ],
         "yaxis": "y10"
        },
        {
         "line": {
          "color": "rgba(255,255,255,0)"
         },
         "mode": "lines",
         "name": "UC",
         "showlegend": false,
         "type": "scatter",
         "x": [
          0,
          1,
          2,
          3,
          4,
          5,
          6,
          7,
          8,
          9,
          10,
          11,
          12,
          13,
          14,
          15,
          16,
          17,
          18,
          19,
          20,
          21,
          22,
          23,
          24,
          25,
          26,
          27,
          28
         ],
         "xaxis": "x10",
         "y": [
          0,
          0.3639561749240074,
          0.3640182619820612,
          0.43876260432171305,
          0.44522095785999416,
          0.44522219899710513,
          0.4514937963078799,
          0.4590783013127436,
          0.4614244944320151,
          0.46477954050384274,
          0.46743316806671875,
          0.4674474610840703,
          0.47383079703657,
          0.47523080707381193,
          0.4776524731471538,
          0.4779803464601915,
          0.4805892909908769,
          0.4840007210513987,
          0.4939462261693286,
          0.49704749827962147,
          0.5045331089072944,
          0.5047041029218265,
          0.5056282393938717,
          0.5074703938824343,
          0.5074714390672824,
          0.5080720859115946,
          0.5094178040223947,
          0.5097057921333908,
          0.5100919037009342
         ],
         "yaxis": "y10"
        },
        {
         "fill": "tonexty",
         "fillcolor": "rgba(32, 146, 230,0.3)",
         "line": {
          "color": "rgba(255,255,255,0)"
         },
         "mode": "lines",
         "name": "LC",
         "showlegend": false,
         "type": "scatter",
         "x": [
          0,
          1,
          2,
          3,
          4,
          5,
          6,
          7,
          8,
          9,
          10,
          11,
          12,
          13,
          14,
          15,
          16,
          17,
          18,
          19,
          20,
          21,
          22,
          23,
          24,
          25,
          26,
          27,
          28
         ],
         "xaxis": "x10",
         "y": [
          0,
          -0.3639561749240074,
          -0.3640182619820612,
          -0.43876260432171305,
          -0.44522095785999416,
          -0.4452221989971052,
          -0.4514937963078798,
          -0.4590783013127435,
          -0.4614244944320151,
          -0.4647795405038428,
          -0.46743316806671875,
          -0.4674474610840703,
          -0.47383079703657,
          -0.4752308070738118,
          -0.4776524731471538,
          -0.4779803464601915,
          -0.48058929099087694,
          -0.48400072105139863,
          -0.49394622616932854,
          -0.49704749827962136,
          -0.5045331089072944,
          -0.5047041029218265,
          -0.5056282393938717,
          -0.5074703938824343,
          -0.5074714390672824,
          -0.5080720859115946,
          -0.5094178040223947,
          -0.5097057921333908,
          -0.5100919037009342
         ],
         "yaxis": "y10"
        },
        {
         "line": {
          "color": "#3f3f3f"
         },
         "mode": "lines",
         "name": "Lags=[1, 2]",
         "showlegend": false,
         "type": "scattergl",
         "x": [
          0,
          0
         ],
         "xaxis": "x11",
         "y": [
          0,
          1
         ],
         "yaxis": "y11"
        },
        {
         "line": {
          "color": "#3f3f3f"
         },
         "mode": "lines",
         "name": "Lags=[1, 2]",
         "showlegend": false,
         "type": "scattergl",
         "x": [
          1,
          1
         ],
         "xaxis": "x11",
         "y": [
          0,
          -0.013528027644001966
         ],
         "yaxis": "y11"
        },
        {
         "line": {
          "color": "#3f3f3f"
         },
         "mode": "lines",
         "name": "Lags=[1, 2]",
         "showlegend": false,
         "type": "scattergl",
         "x": [
          2,
          2
         ],
         "xaxis": "x11",
         "y": [
          0,
          -0.5114377241362821
         ],
         "yaxis": "y11"
        },
        {
         "line": {
          "color": "#3f3f3f"
         },
         "mode": "lines",
         "name": "Lags=[1, 2]",
         "showlegend": false,
         "type": "scattergl",
         "x": [
          3,
          3
         ],
         "xaxis": "x11",
         "y": [
          0,
          -0.2453027364611045
         ],
         "yaxis": "y11"
        },
        {
         "line": {
          "color": "#3f3f3f"
         },
         "mode": "lines",
         "name": "Lags=[1, 2]",
         "showlegend": false,
         "type": "scattergl",
         "x": [
          4,
          4
         ],
         "xaxis": "x11",
         "y": [
          0,
          -0.42308796257736314
         ],
         "yaxis": "y11"
        },
        {
         "line": {
          "color": "#3f3f3f"
         },
         "mode": "lines",
         "name": "Lags=[1, 2]",
         "showlegend": false,
         "type": "scattergl",
         "x": [
          5,
          5
         ],
         "xaxis": "x11",
         "y": [
          0,
          -0.18878824748486217
         ],
         "yaxis": "y11"
        },
        {
         "line": {
          "color": "#3f3f3f"
         },
         "mode": "lines",
         "name": "Lags=[1, 2]",
         "showlegend": false,
         "type": "scattergl",
         "x": [
          6,
          6
         ],
         "xaxis": "x11",
         "y": [
          0,
          -0.10227998747063924
         ],
         "yaxis": "y11"
        },
        {
         "line": {
          "color": "#3f3f3f"
         },
         "mode": "lines",
         "name": "Lags=[1, 2]",
         "showlegend": false,
         "type": "scattergl",
         "x": [
          7,
          7
         ],
         "xaxis": "x11",
         "y": [
          0,
          -0.19587917460535828
         ],
         "yaxis": "y11"
        },
        {
         "line": {
          "color": "#3f3f3f"
         },
         "mode": "lines",
         "name": "Lags=[1, 2]",
         "showlegend": false,
         "type": "scattergl",
         "x": [
          8,
          8
         ],
         "xaxis": "x11",
         "y": [
          0,
          -0.11987096552365199
         ],
         "yaxis": "y11"
        },
        {
         "line": {
          "color": "#3f3f3f"
         },
         "mode": "lines",
         "name": "Lags=[1, 2]",
         "showlegend": false,
         "type": "scattergl",
         "x": [
          9,
          9
         ],
         "xaxis": "x11",
         "y": [
          0,
          0.12055550602096896
         ],
         "yaxis": "y11"
        },
        {
         "line": {
          "color": "#3f3f3f"
         },
         "mode": "lines",
         "name": "Lags=[1, 2]",
         "showlegend": false,
         "type": "scattergl",
         "x": [
          10,
          10
         ],
         "xaxis": "x11",
         "y": [
          0,
          0.008446466791739174
         ],
         "yaxis": "y11"
        },
        {
         "line": {
          "color": "#3f3f3f"
         },
         "mode": "lines",
         "name": "Lags=[1, 2]",
         "showlegend": false,
         "type": "scattergl",
         "x": [
          11,
          11
         ],
         "xaxis": "x11",
         "y": [
          0,
          -0.24695361395212
         ],
         "yaxis": "y11"
        },
        {
         "line": {
          "color": "#3f3f3f"
         },
         "mode": "lines",
         "name": "Lags=[1, 2]",
         "showlegend": false,
         "type": "scattergl",
         "x": [
          12,
          12
         ],
         "xaxis": "x11",
         "y": [
          0,
          0.03955636304448439
         ],
         "yaxis": "y11"
        },
        {
         "line": {
          "color": "#3f3f3f"
         },
         "mode": "lines",
         "name": "Lags=[1, 2]",
         "showlegend": false,
         "type": "scattergl",
         "x": [
          13,
          13
         ],
         "xaxis": "x11",
         "y": [
          0,
          -0.037443588402512024
         ],
         "yaxis": "y11"
        },
        {
         "marker": {
          "color": "#1f77b4",
          "size": 6
         },
         "mode": "markers",
         "name": "Lags=[1, 2]",
         "showlegend": false,
         "type": "scattergl",
         "x": [
          0,
          1,
          2,
          3,
          4,
          5,
          6,
          7,
          8,
          9,
          10,
          11,
          12,
          13
         ],
         "xaxis": "x11",
         "y": [
          1,
          -0.013528027644001966,
          -0.5114377241362821,
          -0.2453027364611045,
          -0.42308796257736314,
          -0.18878824748486217,
          -0.10227998747063924,
          -0.19587917460535828,
          -0.11987096552365199,
          0.12055550602096896,
          0.008446466791739174,
          -0.24695361395212,
          0.03955636304448439,
          -0.037443588402512024
         ],
         "yaxis": "y11"
        },
        {
         "line": {
          "color": "rgba(255,255,255,0)"
         },
         "mode": "lines",
         "name": "UC",
         "showlegend": false,
         "type": "scatter",
         "x": [
          0,
          1,
          2,
          3,
          4,
          5,
          6,
          7,
          8,
          9,
          10,
          11,
          12,
          13
         ],
         "xaxis": "x11",
         "y": [
          0,
          0.3639561749240074,
          0.3639561749240074,
          0.3639561749240074,
          0.3639561749240074,
          0.3639561749240074,
          0.36395617492400745,
          0.3639561749240074,
          0.3639561749240074,
          0.36395617492400734,
          0.3639561749240074,
          0.3639561749240074,
          0.3639561749240074,
          0.36395617492400745
         ],
         "yaxis": "y11"
        },
        {
         "fill": "tonexty",
         "fillcolor": "rgba(32, 146, 230,0.3)",
         "line": {
          "color": "rgba(255,255,255,0)"
         },
         "mode": "lines",
         "name": "LC",
         "showlegend": false,
         "type": "scatter",
         "x": [
          0,
          1,
          2,
          3,
          4,
          5,
          6,
          7,
          8,
          9,
          10,
          11,
          12,
          13
         ],
         "xaxis": "x11",
         "y": [
          0,
          -0.3639561749240074,
          -0.36395617492400734,
          -0.3639561749240074,
          -0.36395617492400745,
          -0.3639561749240074,
          -0.36395617492400734,
          -0.36395617492400734,
          -0.3639561749240074,
          -0.3639561749240074,
          -0.3639561749240074,
          -0.36395617492400745,
          -0.3639561749240074,
          -0.36395617492400734
         ],
         "yaxis": "y11"
        },
        {
         "hoverinfo": "text",
         "hovertext": [
          "Freq: 0.0345<br>Ampl: -40.5129<br>Time period: 29.0",
          "Freq: 0.069<br>Ampl: -32.8278<br>Time period: 14.5",
          "Freq: 0.1034<br>Ampl: -35.083<br>Time period: 9.6667",
          "Freq: 0.1379<br>Ampl: -26.3297<br>Time period: 7.25",
          "Freq: 0.1724<br>Ampl: -21.2271<br>Time period: 5.8",
          "Freq: 0.2069<br>Ampl: -21.3992<br>Time period: 4.8333",
          "Freq: 0.2414<br>Ampl: -27.026<br>Time period: 4.1429",
          "Freq: 0.2759<br>Ampl: -30.3862<br>Time period: 3.625",
          "Freq: 0.3103<br>Ampl: -25.8882<br>Time period: 3.2222",
          "Freq: 0.3448<br>Ampl: -23.5993<br>Time period: 2.9",
          "Freq: 0.3793<br>Ampl: -27.9646<br>Time period: 2.6364",
          "Freq: 0.4138<br>Ampl: -34.4616<br>Time period: 2.4167",
          "Freq: 0.4483<br>Ampl: -52.2043<br>Time period: 2.2308",
          "Freq: 0.4828<br>Ampl: -44.9739<br>Time period: 2.0714"
         ],
         "line": {
          "color": "#1f77b4",
          "width": 2
         },
         "marker": {
          "size": 5
         },
         "mode": "lines+markers",
         "name": "Lags=[1, 2]",
         "showlegend": true,
         "type": "scattergl",
         "x": [
          0.034482758620689655,
          0.06896551724137931,
          0.10344827586206896,
          0.13793103448275862,
          0.1724137931034483,
          0.20689655172413793,
          0.24137931034482757,
          0.27586206896551724,
          0.3103448275862069,
          0.3448275862068966,
          0.3793103448275862,
          0.41379310344827586,
          0.4482758620689655,
          0.48275862068965514
         ],
         "xaxis": "x12",
         "y": [
          -40.512912939581305,
          -32.82784615855932,
          -35.08303751412144,
          -26.329659522834007,
          -21.22713298709629,
          -21.399216106441635,
          -27.02601952532415,
          -30.38623455085733,
          -25.88824568566259,
          -23.599299919118177,
          -27.96455726493448,
          -34.461637993452065,
          -52.204287653961956,
          -44.97388449641461
         ],
         "yaxis": "y12"
        }
       ],
       "layout": {
        "annotations": [
         {
          "font": {
           "size": 16
          },
          "showarrow": false,
          "text": "Unemployment_Rate (transformed)",
          "x": 0.10375,
          "xanchor": "center",
          "xref": "paper",
          "y": 1,
          "yanchor": "bottom",
          "yref": "paper"
         },
         {
          "font": {
           "size": 16
          },
          "showarrow": false,
          "text": "ACF",
          "x": 0.36124999999999996,
          "xanchor": "center",
          "xref": "paper",
          "y": 1,
          "yanchor": "bottom",
          "yref": "paper"
         },
         {
          "font": {
           "size": 16
          },
          "showarrow": false,
          "text": "PACF",
          "x": 0.61875,
          "xanchor": "center",
          "xref": "paper",
          "y": 1,
          "yanchor": "bottom",
          "yref": "paper"
         },
         {
          "font": {
           "size": 16
          },
          "showarrow": false,
          "text": "Periodogram",
          "x": 0.87625,
          "xanchor": "center",
          "xref": "paper",
          "y": 1,
          "yanchor": "bottom",
          "yref": "paper"
         },
         {
          "font": {
           "size": 16
          },
          "showarrow": false,
          "text": "Actual",
          "textangle": 90,
          "x": 0.98,
          "xanchor": "left",
          "xref": "paper",
          "y": 0.8666666666666667,
          "yanchor": "middle",
          "yref": "paper"
         },
         {
          "font": {
           "size": 16
          },
          "showarrow": false,
          "text": "Lags=[1]",
          "textangle": 90,
          "x": 0.98,
          "xanchor": "left",
          "xref": "paper",
          "y": 0.5,
          "yanchor": "middle",
          "yref": "paper"
         },
         {
          "font": {
           "size": 16
          },
          "showarrow": false,
          "text": "Lags=[1, 2]",
          "textangle": 90,
          "x": 0.98,
          "xanchor": "left",
          "xref": "paper",
          "y": 0.13333333333333333,
          "yanchor": "middle",
          "yref": "paper"
         }
        ],
        "autosize": false,
        "height": 800,
        "showlegend": false,
        "template": {
         "data": {
          "bar": [
           {
            "error_x": {
             "color": "rgb(51,51,51)"
            },
            "error_y": {
             "color": "rgb(51,51,51)"
            },
            "marker": {
             "line": {
              "color": "rgb(237,237,237)",
              "width": 0.5
             },
             "pattern": {
              "fillmode": "overlay",
              "size": 10,
              "solidity": 0.2
             }
            },
            "type": "bar"
           }
          ],
          "barpolar": [
           {
            "marker": {
             "line": {
              "color": "rgb(237,237,237)",
              "width": 0.5
             },
             "pattern": {
              "fillmode": "overlay",
              "size": 10,
              "solidity": 0.2
             }
            },
            "type": "barpolar"
           }
          ],
          "carpet": [
           {
            "aaxis": {
             "endlinecolor": "rgb(51,51,51)",
             "gridcolor": "white",
             "linecolor": "white",
             "minorgridcolor": "white",
             "startlinecolor": "rgb(51,51,51)"
            },
            "baxis": {
             "endlinecolor": "rgb(51,51,51)",
             "gridcolor": "white",
             "linecolor": "white",
             "minorgridcolor": "white",
             "startlinecolor": "rgb(51,51,51)"
            },
            "type": "carpet"
           }
          ],
          "choropleth": [
           {
            "colorbar": {
             "outlinewidth": 0,
             "tickcolor": "rgb(237,237,237)",
             "ticklen": 6,
             "ticks": "inside"
            },
            "type": "choropleth"
           }
          ],
          "contour": [
           {
            "colorbar": {
             "outlinewidth": 0,
             "tickcolor": "rgb(237,237,237)",
             "ticklen": 6,
             "ticks": "inside"
            },
            "colorscale": [
             [
              0,
              "rgb(20,44,66)"
             ],
             [
              1,
              "rgb(90,179,244)"
             ]
            ],
            "type": "contour"
           }
          ],
          "contourcarpet": [
           {
            "colorbar": {
             "outlinewidth": 0,
             "tickcolor": "rgb(237,237,237)",
             "ticklen": 6,
             "ticks": "inside"
            },
            "type": "contourcarpet"
           }
          ],
          "heatmap": [
           {
            "colorbar": {
             "outlinewidth": 0,
             "tickcolor": "rgb(237,237,237)",
             "ticklen": 6,
             "ticks": "inside"
            },
            "colorscale": [
             [
              0,
              "rgb(20,44,66)"
             ],
             [
              1,
              "rgb(90,179,244)"
             ]
            ],
            "type": "heatmap"
           }
          ],
          "heatmapgl": [
           {
            "colorbar": {
             "outlinewidth": 0,
             "tickcolor": "rgb(237,237,237)",
             "ticklen": 6,
             "ticks": "inside"
            },
            "colorscale": [
             [
              0,
              "rgb(20,44,66)"
             ],
             [
              1,
              "rgb(90,179,244)"
             ]
            ],
            "type": "heatmapgl"
           }
          ],
          "histogram": [
           {
            "marker": {
             "pattern": {
              "fillmode": "overlay",
              "size": 10,
              "solidity": 0.2
             }
            },
            "type": "histogram"
           }
          ],
          "histogram2d": [
           {
            "colorbar": {
             "outlinewidth": 0,
             "tickcolor": "rgb(237,237,237)",
             "ticklen": 6,
             "ticks": "inside"
            },
            "colorscale": [
             [
              0,
              "rgb(20,44,66)"
             ],
             [
              1,
              "rgb(90,179,244)"
             ]
            ],
            "type": "histogram2d"
           }
          ],
          "histogram2dcontour": [
           {
            "colorbar": {
             "outlinewidth": 0,
             "tickcolor": "rgb(237,237,237)",
             "ticklen": 6,
             "ticks": "inside"
            },
            "colorscale": [
             [
              0,
              "rgb(20,44,66)"
             ],
             [
              1,
              "rgb(90,179,244)"
             ]
            ],
            "type": "histogram2dcontour"
           }
          ],
          "mesh3d": [
           {
            "colorbar": {
             "outlinewidth": 0,
             "tickcolor": "rgb(237,237,237)",
             "ticklen": 6,
             "ticks": "inside"
            },
            "type": "mesh3d"
           }
          ],
          "parcoords": [
           {
            "line": {
             "colorbar": {
              "outlinewidth": 0,
              "tickcolor": "rgb(237,237,237)",
              "ticklen": 6,
              "ticks": "inside"
             }
            },
            "type": "parcoords"
           }
          ],
          "pie": [
           {
            "automargin": true,
            "type": "pie"
           }
          ],
          "scatter": [
           {
            "fillpattern": {
             "fillmode": "overlay",
             "size": 10,
             "solidity": 0.2
            },
            "type": "scatter"
           }
          ],
          "scatter3d": [
           {
            "line": {
             "colorbar": {
              "outlinewidth": 0,
              "tickcolor": "rgb(237,237,237)",
              "ticklen": 6,
              "ticks": "inside"
             }
            },
            "marker": {
             "colorbar": {
              "outlinewidth": 0,
              "tickcolor": "rgb(237,237,237)",
              "ticklen": 6,
              "ticks": "inside"
             }
            },
            "type": "scatter3d"
           }
          ],
          "scattercarpet": [
           {
            "marker": {
             "colorbar": {
              "outlinewidth": 0,
              "tickcolor": "rgb(237,237,237)",
              "ticklen": 6,
              "ticks": "inside"
             }
            },
            "type": "scattercarpet"
           }
          ],
          "scattergeo": [
           {
            "marker": {
             "colorbar": {
              "outlinewidth": 0,
              "tickcolor": "rgb(237,237,237)",
              "ticklen": 6,
              "ticks": "inside"
             }
            },
            "type": "scattergeo"
           }
          ],
          "scattergl": [
           {
            "marker": {
             "colorbar": {
              "outlinewidth": 0,
              "tickcolor": "rgb(237,237,237)",
              "ticklen": 6,
              "ticks": "inside"
             }
            },
            "type": "scattergl"
           }
          ],
          "scattermapbox": [
           {
            "marker": {
             "colorbar": {
              "outlinewidth": 0,
              "tickcolor": "rgb(237,237,237)",
              "ticklen": 6,
              "ticks": "inside"
             }
            },
            "type": "scattermapbox"
           }
          ],
          "scatterpolar": [
           {
            "marker": {
             "colorbar": {
              "outlinewidth": 0,
              "tickcolor": "rgb(237,237,237)",
              "ticklen": 6,
              "ticks": "inside"
             }
            },
            "type": "scatterpolar"
           }
          ],
          "scatterpolargl": [
           {
            "marker": {
             "colorbar": {
              "outlinewidth": 0,
              "tickcolor": "rgb(237,237,237)",
              "ticklen": 6,
              "ticks": "inside"
             }
            },
            "type": "scatterpolargl"
           }
          ],
          "scatterternary": [
           {
            "marker": {
             "colorbar": {
              "outlinewidth": 0,
              "tickcolor": "rgb(237,237,237)",
              "ticklen": 6,
              "ticks": "inside"
             }
            },
            "type": "scatterternary"
           }
          ],
          "surface": [
           {
            "colorbar": {
             "outlinewidth": 0,
             "tickcolor": "rgb(237,237,237)",
             "ticklen": 6,
             "ticks": "inside"
            },
            "colorscale": [
             [
              0,
              "rgb(20,44,66)"
             ],
             [
              1,
              "rgb(90,179,244)"
             ]
            ],
            "type": "surface"
           }
          ],
          "table": [
           {
            "cells": {
             "fill": {
              "color": "rgb(237,237,237)"
             },
             "line": {
              "color": "white"
             }
            },
            "header": {
             "fill": {
              "color": "rgb(217,217,217)"
             },
             "line": {
              "color": "white"
             }
            },
            "type": "table"
           }
          ]
         },
         "layout": {
          "annotationdefaults": {
           "arrowhead": 0,
           "arrowwidth": 1
          },
          "autotypenumbers": "strict",
          "coloraxis": {
           "colorbar": {
            "outlinewidth": 0,
            "tickcolor": "rgb(237,237,237)",
            "ticklen": 6,
            "ticks": "inside"
           }
          },
          "colorscale": {
           "sequential": [
            [
             0,
             "rgb(20,44,66)"
            ],
            [
             1,
             "rgb(90,179,244)"
            ]
           ],
           "sequentialminus": [
            [
             0,
             "rgb(20,44,66)"
            ],
            [
             1,
             "rgb(90,179,244)"
            ]
           ]
          },
          "colorway": [
           "#F8766D",
           "#A3A500",
           "#00BF7D",
           "#00B0F6",
           "#E76BF3"
          ],
          "font": {
           "color": "rgb(51,51,51)"
          },
          "geo": {
           "bgcolor": "white",
           "lakecolor": "white",
           "landcolor": "rgb(237,237,237)",
           "showlakes": true,
           "showland": true,
           "subunitcolor": "white"
          },
          "hoverlabel": {
           "align": "left"
          },
          "hovermode": "closest",
          "paper_bgcolor": "white",
          "plot_bgcolor": "rgb(237,237,237)",
          "polar": {
           "angularaxis": {
            "gridcolor": "white",
            "linecolor": "white",
            "showgrid": true,
            "tickcolor": "rgb(51,51,51)",
            "ticks": "outside"
           },
           "bgcolor": "rgb(237,237,237)",
           "radialaxis": {
            "gridcolor": "white",
            "linecolor": "white",
            "showgrid": true,
            "tickcolor": "rgb(51,51,51)",
            "ticks": "outside"
           }
          },
          "scene": {
           "xaxis": {
            "backgroundcolor": "rgb(237,237,237)",
            "gridcolor": "white",
            "gridwidth": 2,
            "linecolor": "white",
            "showbackground": true,
            "showgrid": true,
            "tickcolor": "rgb(51,51,51)",
            "ticks": "outside",
            "zerolinecolor": "white"
           },
           "yaxis": {
            "backgroundcolor": "rgb(237,237,237)",
            "gridcolor": "white",
            "gridwidth": 2,
            "linecolor": "white",
            "showbackground": true,
            "showgrid": true,
            "tickcolor": "rgb(51,51,51)",
            "ticks": "outside",
            "zerolinecolor": "white"
           },
           "zaxis": {
            "backgroundcolor": "rgb(237,237,237)",
            "gridcolor": "white",
            "gridwidth": 2,
            "linecolor": "white",
            "showbackground": true,
            "showgrid": true,
            "tickcolor": "rgb(51,51,51)",
            "ticks": "outside",
            "zerolinecolor": "white"
           }
          },
          "shapedefaults": {
           "fillcolor": "black",
           "line": {
            "width": 0
           },
           "opacity": 0.3
          },
          "ternary": {
           "aaxis": {
            "gridcolor": "white",
            "linecolor": "white",
            "showgrid": true,
            "tickcolor": "rgb(51,51,51)",
            "ticks": "outside"
           },
           "baxis": {
            "gridcolor": "white",
            "linecolor": "white",
            "showgrid": true,
            "tickcolor": "rgb(51,51,51)",
            "ticks": "outside"
           },
           "bgcolor": "rgb(237,237,237)",
           "caxis": {
            "gridcolor": "white",
            "linecolor": "white",
            "showgrid": true,
            "tickcolor": "rgb(51,51,51)",
            "ticks": "outside"
           }
          },
          "xaxis": {
           "automargin": true,
           "gridcolor": "white",
           "linecolor": "white",
           "showgrid": true,
           "tickcolor": "rgb(51,51,51)",
           "ticks": "outside",
           "title": {
            "standoff": 15
           },
           "zerolinecolor": "white"
          },
          "yaxis": {
           "automargin": true,
           "gridcolor": "white",
           "linecolor": "white",
           "showgrid": true,
           "tickcolor": "rgb(51,51,51)",
           "ticks": "outside",
           "title": {
            "standoff": 15
           },
           "zerolinecolor": "white"
          }
         }
        },
        "title": {
         "text": "Difference Plot | Unemployment_Rate"
        },
        "width": 1500,
        "xaxis": {
         "anchor": "y",
         "domain": [
          0,
          0.2075
         ],
         "matches": "x9",
         "showticklabels": false
        },
        "xaxis10": {
         "anchor": "y10",
         "domain": [
          0.2575,
          0.46499999999999997
         ],
         "range": [
          -1,
          30
         ]
        },
        "xaxis11": {
         "anchor": "y11",
         "domain": [
          0.515,
          0.7225
         ],
         "range": [
          -1,
          15
         ]
        },
        "xaxis12": {
         "anchor": "y12",
         "domain": [
          0.7725,
          0.98
         ],
         "range": [
          0,
          0.5
         ]
        },
        "xaxis2": {
         "anchor": "y2",
         "domain": [
          0.2575,
          0.46499999999999997
         ],
         "matches": "x10",
         "range": [
          -1,
          33
         ],
         "showticklabels": false
        },
        "xaxis3": {
         "anchor": "y3",
         "domain": [
          0.515,
          0.7225
         ],
         "matches": "x11",
         "range": [
          -1,
          17
         ],
         "showticklabels": false
        },
        "xaxis4": {
         "anchor": "y4",
         "domain": [
          0.7725,
          0.98
         ],
         "matches": "x12",
         "range": [
          0,
          0.5
         ],
         "showticklabels": false
        },
        "xaxis5": {
         "anchor": "y5",
         "domain": [
          0,
          0.2075
         ],
         "matches": "x9",
         "showticklabels": false
        },
        "xaxis6": {
         "anchor": "y6",
         "domain": [
          0.2575,
          0.46499999999999997
         ],
         "matches": "x10",
         "range": [
          -1,
          32
         ],
         "showticklabels": false
        },
        "xaxis7": {
         "anchor": "y7",
         "domain": [
          0.515,
          0.7225
         ],
         "matches": "x11",
         "range": [
          -1,
          16
         ],
         "showticklabels": false
        },
        "xaxis8": {
         "anchor": "y8",
         "domain": [
          0.7725,
          0.98
         ],
         "matches": "x12",
         "range": [
          0,
          0.5
         ],
         "showticklabels": false
        },
        "xaxis9": {
         "anchor": "y9",
         "domain": [
          0,
          0.2075
         ]
        },
        "yaxis": {
         "anchor": "x",
         "domain": [
          0.7333333333333333,
          1
         ]
        },
        "yaxis10": {
         "anchor": "x10",
         "domain": [
          0,
          0.26666666666666666
         ],
         "range": [
          -1.1,
          1.1
         ],
         "zerolinecolor": "#000000"
        },
        "yaxis11": {
         "anchor": "x11",
         "domain": [
          0,
          0.26666666666666666
         ],
         "range": [
          -1.1,
          1.1
         ],
         "zerolinecolor": "#000000"
        },
        "yaxis12": {
         "anchor": "x12",
         "domain": [
          0,
          0.26666666666666666
         ]
        },
        "yaxis2": {
         "anchor": "x2",
         "domain": [
          0.7333333333333333,
          1
         ],
         "range": [
          -1.1,
          1.1
         ],
         "zerolinecolor": "#000000"
        },
        "yaxis3": {
         "anchor": "x3",
         "domain": [
          0.7333333333333333,
          1
         ],
         "range": [
          -1.1,
          1.1
         ],
         "zerolinecolor": "#000000"
        },
        "yaxis4": {
         "anchor": "x4",
         "domain": [
          0.7333333333333333,
          1
         ]
        },
        "yaxis5": {
         "anchor": "x5",
         "domain": [
          0.36666666666666664,
          0.6333333333333333
         ]
        },
        "yaxis6": {
         "anchor": "x6",
         "domain": [
          0.36666666666666664,
          0.6333333333333333
         ],
         "range": [
          -1.1,
          1.1
         ],
         "zerolinecolor": "#000000"
        },
        "yaxis7": {
         "anchor": "x7",
         "domain": [
          0.36666666666666664,
          0.6333333333333333
         ],
         "range": [
          -1.1,
          1.1
         ],
         "zerolinecolor": "#000000"
        },
        "yaxis8": {
         "anchor": "x8",
         "domain": [
          0.36666666666666664,
          0.6333333333333333
         ]
        },
        "yaxis9": {
         "anchor": "x9",
         "domain": [
          0,
          0.26666666666666666
         ]
        }
       }
      }
     },
     "metadata": {},
     "output_type": "display_data"
    }
   ],
   "source": [
    "exp.plot_model(\n",
    "    plot=\"diff\",\n",
    "    data_kwargs={\"lags_list\": [[1], [1, 2]], \"acf\": True, \"pacf\": True, \"periodogram\": True},\n",
    "    fig_kwargs={\"height\": 800, \"width\": 1500}\n",
    ")"
   ]
  },
  {
   "cell_type": "markdown",
   "metadata": {},
   "source": [
    "STL decomposition"
   ]
  },
  {
   "cell_type": "code",
   "execution_count": 19,
   "metadata": {},
   "outputs": [
    {
     "data": {
      "application/vnd.plotly.v1+json": {
       "config": {
        "plotlyServerURL": "https://plot.ly"
       },
       "data": [
        {
         "line": {
          "color": "rgb(31, 119, 180)",
          "width": 2
         },
         "marker": {
          "size": 2
         },
         "mode": "lines+markers",
         "name": "Actual",
         "type": "scattergl",
         "x": [
          "2009-01-01T00:00:00",
          "2009-07-01T00:00:00",
          "2010-01-01T00:00:00",
          "2010-07-01T00:00:00",
          "2011-01-01T00:00:00",
          "2011-07-01T00:00:00",
          "2012-01-01T00:00:00",
          "2012-07-01T00:00:00",
          "2013-01-01T00:00:00",
          "2013-07-01T00:00:00",
          "2014-01-01T00:00:00",
          "2014-07-01T00:00:00",
          "2015-01-01T00:00:00",
          "2015-07-01T00:00:00",
          "2016-01-01T00:00:00",
          "2016-07-01T00:00:00",
          "2017-01-01T00:00:00",
          "2017-07-01T00:00:00",
          "2018-01-01T00:00:00",
          "2018-07-01T00:00:00",
          "2019-01-01T00:00:00",
          "2019-07-01T00:00:00",
          "2020-01-01T00:00:00",
          "2020-07-01T00:00:00",
          "2021-01-01T00:00:00",
          "2021-07-01T00:00:00",
          "2022-01-01T00:00:00",
          "2022-07-01T00:00:00",
          "2023-01-01T00:00:00",
          "2023-07-01T00:00:00",
          "2024-01-01T00:00:00",
          "2024-07-01T00:00:00"
         ],
         "xaxis": "x",
         "y": [
          1.6885678954680108,
          1.6729282019899376,
          1.6467713167797504,
          1.6510692790352277,
          1.6676147867229032,
          1.6651257579617986,
          1.6149056870630771,
          1.6209378557712526,
          1.5913564424660396,
          1.6482580115507686,
          1.5703720982474083,
          1.652959941904709,
          1.6103260424805557,
          1.6590567215497225,
          1.5964676383887835,
          1.6119998474542536,
          1.5483458446500575,
          1.6275152586465154,
          1.5707778818377889,
          1.6114681267366366,
          1.554646206902456,
          1.5997764341456557,
          1.5607680411889402,
          1.648523312633392,
          1.6120656513330638,
          1.6308546553450733,
          1.5808842529805684,
          1.625271488220946,
          1.5618235652909247,
          1.6117975027616849,
          1.565082543593561,
          1.5788084432028562
         ],
         "yaxis": "y"
        },
        {
         "line": {
          "color": "rgb(255, 127, 14)",
          "width": 2
         },
         "marker": {
          "size": 2
         },
         "mode": "lines+markers",
         "name": "Seasonal",
         "type": "scattergl",
         "x": [
          "2009-01-01T00:00:00",
          "2009-07-01T00:00:00",
          "2010-01-01T00:00:00",
          "2010-07-01T00:00:00",
          "2011-01-01T00:00:00",
          "2011-07-01T00:00:00",
          "2012-01-01T00:00:00",
          "2012-07-01T00:00:00",
          "2013-01-01T00:00:00",
          "2013-07-01T00:00:00",
          "2014-01-01T00:00:00",
          "2014-07-01T00:00:00",
          "2015-01-01T00:00:00",
          "2015-07-01T00:00:00",
          "2016-01-01T00:00:00",
          "2016-07-01T00:00:00",
          "2017-01-01T00:00:00",
          "2017-07-01T00:00:00",
          "2018-01-01T00:00:00",
          "2018-07-01T00:00:00",
          "2019-01-01T00:00:00",
          "2019-07-01T00:00:00",
          "2020-01-01T00:00:00",
          "2020-07-01T00:00:00",
          "2021-01-01T00:00:00",
          "2021-07-01T00:00:00",
          "2022-01-01T00:00:00",
          "2022-07-01T00:00:00",
          "2023-01-01T00:00:00",
          "2023-07-01T00:00:00",
          "2024-01-01T00:00:00",
          "2024-07-01T00:00:00"
         ],
         "xaxis": "x2",
         "y": [
          0.004833653285878882,
          -0.0021653093171160004,
          -0.0006339180904212948,
          0.0036931982675118065,
          -0.006840844592416889,
          0.009835580004802858,
          -0.012974422362736639,
          0.01745127335309685,
          -0.021924702654360768,
          0.02469893335297056,
          -0.026723681478275453,
          0.027966496485977342,
          -0.0280976092854757,
          0.027848425335103837,
          -0.027339600830225713,
          0.026926417884662546,
          -0.026174633696644294,
          0.026377347144575906,
          -0.027282696651726054,
          0.026903105708948563,
          -0.026444477046482145,
          0.02542211618260254,
          -0.02402594817402714,
          0.023567441732889195,
          -0.023935011275642043,
          0.023897705566522456,
          -0.02283306587722955,
          0.0218080188104483,
          -0.020617417723627622,
          0.0195992482362162,
          -0.018559882925087468,
          0.0174387428843349
         ],
         "yaxis": "y2"
        },
        {
         "line": {
          "color": "rgb(44, 160, 44)",
          "width": 2
         },
         "marker": {
          "size": 2
         },
         "mode": "lines+markers",
         "name": "Trend",
         "type": "scattergl",
         "x": [
          "2009-01-01T00:00:00",
          "2009-07-01T00:00:00",
          "2010-01-01T00:00:00",
          "2010-07-01T00:00:00",
          "2011-01-01T00:00:00",
          "2011-07-01T00:00:00",
          "2012-01-01T00:00:00",
          "2012-07-01T00:00:00",
          "2013-01-01T00:00:00",
          "2013-07-01T00:00:00",
          "2014-01-01T00:00:00",
          "2014-07-01T00:00:00",
          "2015-01-01T00:00:00",
          "2015-07-01T00:00:00",
          "2016-01-01T00:00:00",
          "2016-07-01T00:00:00",
          "2017-01-01T00:00:00",
          "2017-07-01T00:00:00",
          "2018-01-01T00:00:00",
          "2018-07-01T00:00:00",
          "2019-01-01T00:00:00",
          "2019-07-01T00:00:00",
          "2020-01-01T00:00:00",
          "2020-07-01T00:00:00",
          "2021-01-01T00:00:00",
          "2021-07-01T00:00:00",
          "2022-01-01T00:00:00",
          "2022-07-01T00:00:00",
          "2023-01-01T00:00:00",
          "2023-07-01T00:00:00",
          "2024-01-01T00:00:00",
          "2024-07-01T00:00:00"
         ],
         "xaxis": "x3",
         "y": [
          1.6853804870266025,
          1.669954318941647,
          1.6553243325001452,
          1.6551375880256212,
          1.6612152003138734,
          1.6529296579200257,
          1.6287437769905624,
          1.6132749920763334,
          1.6134195391426687,
          1.6130396771781965,
          1.6126598955091984,
          1.6208512596461178,
          1.6325126102541296,
          1.6311551279380248,
          1.6148363425910826,
          1.5931419057301084,
          1.5851627503347632,
          1.5926359876325673,
          1.595077731255671,
          1.5874342018218413,
          1.5801567307643412,
          1.5792719981160828,
          1.5933037707295816,
          1.6166193418425219,
          1.6245229021273564,
          1.6143449298243981,
          1.6045721794966914,
          1.5975171902173546,
          1.59125355143029,
          1.5869550215249815,
          1.577431929754322,
          1.5660431279016247
         ],
         "yaxis": "y3"
        },
        {
         "line": {
          "color": "rgb(214, 39, 40)",
          "width": 2
         },
         "marker": {
          "size": 4
         },
         "mode": "markers",
         "name": "Residuals",
         "type": "scattergl",
         "x": [
          "2009-01-01T00:00:00",
          "2009-07-01T00:00:00",
          "2010-01-01T00:00:00",
          "2010-07-01T00:00:00",
          "2011-01-01T00:00:00",
          "2011-07-01T00:00:00",
          "2012-01-01T00:00:00",
          "2012-07-01T00:00:00",
          "2013-01-01T00:00:00",
          "2013-07-01T00:00:00",
          "2014-01-01T00:00:00",
          "2014-07-01T00:00:00",
          "2015-01-01T00:00:00",
          "2015-07-01T00:00:00",
          "2016-01-01T00:00:00",
          "2016-07-01T00:00:00",
          "2017-01-01T00:00:00",
          "2017-07-01T00:00:00",
          "2018-01-01T00:00:00",
          "2018-07-01T00:00:00",
          "2019-01-01T00:00:00",
          "2019-07-01T00:00:00",
          "2020-01-01T00:00:00",
          "2020-07-01T00:00:00",
          "2021-01-01T00:00:00",
          "2021-07-01T00:00:00",
          "2022-01-01T00:00:00",
          "2022-07-01T00:00:00",
          "2023-01-01T00:00:00",
          "2023-07-01T00:00:00",
          "2024-01-01T00:00:00",
          "2024-07-01T00:00:00"
         ],
         "xaxis": "x4",
         "y": [
          -0.0016462448444705124,
          0.0051391923654064975,
          -0.007919097629973448,
          -0.0077615072579053646,
          0.013240431001446673,
          0.0023605200369700707,
          -0.0008636675647486491,
          -0.009788409658177732,
          -0.00013839402226833997,
          0.010519401019601471,
          -0.015564115783514687,
          0.004142185772613827,
          0.0059110415119016935,
          0.00005316827659385126,
          0.008970896627926717,
          -0.008068476160517424,
          -0.010642271988061447,
          0.008501923869372208,
          0.0029828472338440104,
          -0.0028691807941532144,
          0.0009339531845971027,
          -0.004917680153029513,
          -0.0085097813666144,
          0.00833652905798088,
          0.011477760481349408,
          -0.007387980045847176,
          -0.0008548606388933955,
          0.005946279193143056,
          -0.008812568415737632,
          0.005243233000487235,
          0.00621049676432639,
          -0.004673427583103518
         ],
         "yaxis": "y4"
        }
       ],
       "layout": {
        "annotations": [
         {
          "font": {
           "size": 16
          },
          "showarrow": false,
          "text": "Unemployment_Rate (transformed)",
          "x": 0.49,
          "xanchor": "center",
          "xref": "paper",
          "y": 1,
          "yanchor": "bottom",
          "yref": "paper"
         },
         {
          "font": {
           "size": 16
          },
          "showarrow": false,
          "text": "Actual",
          "textangle": 90,
          "x": 0.98,
          "xanchor": "left",
          "xref": "paper",
          "y": 0.903125,
          "yanchor": "middle",
          "yref": "paper"
         },
         {
          "font": {
           "size": 16
          },
          "showarrow": false,
          "text": "Seasonal",
          "textangle": 90,
          "x": 0.98,
          "xanchor": "left",
          "xref": "paper",
          "y": 0.6343749999999999,
          "yanchor": "middle",
          "yref": "paper"
         },
         {
          "font": {
           "size": 16
          },
          "showarrow": false,
          "text": "Trend",
          "textangle": 90,
          "x": 0.98,
          "xanchor": "left",
          "xref": "paper",
          "y": 0.365625,
          "yanchor": "middle",
          "yref": "paper"
         },
         {
          "font": {
           "size": 16
          },
          "showarrow": false,
          "text": "Residual",
          "textangle": 90,
          "x": 0.98,
          "xanchor": "left",
          "xref": "paper",
          "y": 0.096875,
          "yanchor": "middle",
          "yref": "paper"
         }
        ],
        "autosize": false,
        "height": 500,
        "showlegend": false,
        "template": {
         "data": {
          "bar": [
           {
            "error_x": {
             "color": "rgb(51,51,51)"
            },
            "error_y": {
             "color": "rgb(51,51,51)"
            },
            "marker": {
             "line": {
              "color": "rgb(237,237,237)",
              "width": 0.5
             },
             "pattern": {
              "fillmode": "overlay",
              "size": 10,
              "solidity": 0.2
             }
            },
            "type": "bar"
           }
          ],
          "barpolar": [
           {
            "marker": {
             "line": {
              "color": "rgb(237,237,237)",
              "width": 0.5
             },
             "pattern": {
              "fillmode": "overlay",
              "size": 10,
              "solidity": 0.2
             }
            },
            "type": "barpolar"
           }
          ],
          "carpet": [
           {
            "aaxis": {
             "endlinecolor": "rgb(51,51,51)",
             "gridcolor": "white",
             "linecolor": "white",
             "minorgridcolor": "white",
             "startlinecolor": "rgb(51,51,51)"
            },
            "baxis": {
             "endlinecolor": "rgb(51,51,51)",
             "gridcolor": "white",
             "linecolor": "white",
             "minorgridcolor": "white",
             "startlinecolor": "rgb(51,51,51)"
            },
            "type": "carpet"
           }
          ],
          "choropleth": [
           {
            "colorbar": {
             "outlinewidth": 0,
             "tickcolor": "rgb(237,237,237)",
             "ticklen": 6,
             "ticks": "inside"
            },
            "type": "choropleth"
           }
          ],
          "contour": [
           {
            "colorbar": {
             "outlinewidth": 0,
             "tickcolor": "rgb(237,237,237)",
             "ticklen": 6,
             "ticks": "inside"
            },
            "colorscale": [
             [
              0,
              "rgb(20,44,66)"
             ],
             [
              1,
              "rgb(90,179,244)"
             ]
            ],
            "type": "contour"
           }
          ],
          "contourcarpet": [
           {
            "colorbar": {
             "outlinewidth": 0,
             "tickcolor": "rgb(237,237,237)",
             "ticklen": 6,
             "ticks": "inside"
            },
            "type": "contourcarpet"
           }
          ],
          "heatmap": [
           {
            "colorbar": {
             "outlinewidth": 0,
             "tickcolor": "rgb(237,237,237)",
             "ticklen": 6,
             "ticks": "inside"
            },
            "colorscale": [
             [
              0,
              "rgb(20,44,66)"
             ],
             [
              1,
              "rgb(90,179,244)"
             ]
            ],
            "type": "heatmap"
           }
          ],
          "heatmapgl": [
           {
            "colorbar": {
             "outlinewidth": 0,
             "tickcolor": "rgb(237,237,237)",
             "ticklen": 6,
             "ticks": "inside"
            },
            "colorscale": [
             [
              0,
              "rgb(20,44,66)"
             ],
             [
              1,
              "rgb(90,179,244)"
             ]
            ],
            "type": "heatmapgl"
           }
          ],
          "histogram": [
           {
            "marker": {
             "pattern": {
              "fillmode": "overlay",
              "size": 10,
              "solidity": 0.2
             }
            },
            "type": "histogram"
           }
          ],
          "histogram2d": [
           {
            "colorbar": {
             "outlinewidth": 0,
             "tickcolor": "rgb(237,237,237)",
             "ticklen": 6,
             "ticks": "inside"
            },
            "colorscale": [
             [
              0,
              "rgb(20,44,66)"
             ],
             [
              1,
              "rgb(90,179,244)"
             ]
            ],
            "type": "histogram2d"
           }
          ],
          "histogram2dcontour": [
           {
            "colorbar": {
             "outlinewidth": 0,
             "tickcolor": "rgb(237,237,237)",
             "ticklen": 6,
             "ticks": "inside"
            },
            "colorscale": [
             [
              0,
              "rgb(20,44,66)"
             ],
             [
              1,
              "rgb(90,179,244)"
             ]
            ],
            "type": "histogram2dcontour"
           }
          ],
          "mesh3d": [
           {
            "colorbar": {
             "outlinewidth": 0,
             "tickcolor": "rgb(237,237,237)",
             "ticklen": 6,
             "ticks": "inside"
            },
            "type": "mesh3d"
           }
          ],
          "parcoords": [
           {
            "line": {
             "colorbar": {
              "outlinewidth": 0,
              "tickcolor": "rgb(237,237,237)",
              "ticklen": 6,
              "ticks": "inside"
             }
            },
            "type": "parcoords"
           }
          ],
          "pie": [
           {
            "automargin": true,
            "type": "pie"
           }
          ],
          "scatter": [
           {
            "fillpattern": {
             "fillmode": "overlay",
             "size": 10,
             "solidity": 0.2
            },
            "type": "scatter"
           }
          ],
          "scatter3d": [
           {
            "line": {
             "colorbar": {
              "outlinewidth": 0,
              "tickcolor": "rgb(237,237,237)",
              "ticklen": 6,
              "ticks": "inside"
             }
            },
            "marker": {
             "colorbar": {
              "outlinewidth": 0,
              "tickcolor": "rgb(237,237,237)",
              "ticklen": 6,
              "ticks": "inside"
             }
            },
            "type": "scatter3d"
           }
          ],
          "scattercarpet": [
           {
            "marker": {
             "colorbar": {
              "outlinewidth": 0,
              "tickcolor": "rgb(237,237,237)",
              "ticklen": 6,
              "ticks": "inside"
             }
            },
            "type": "scattercarpet"
           }
          ],
          "scattergeo": [
           {
            "marker": {
             "colorbar": {
              "outlinewidth": 0,
              "tickcolor": "rgb(237,237,237)",
              "ticklen": 6,
              "ticks": "inside"
             }
            },
            "type": "scattergeo"
           }
          ],
          "scattergl": [
           {
            "marker": {
             "colorbar": {
              "outlinewidth": 0,
              "tickcolor": "rgb(237,237,237)",
              "ticklen": 6,
              "ticks": "inside"
             }
            },
            "type": "scattergl"
           }
          ],
          "scattermapbox": [
           {
            "marker": {
             "colorbar": {
              "outlinewidth": 0,
              "tickcolor": "rgb(237,237,237)",
              "ticklen": 6,
              "ticks": "inside"
             }
            },
            "type": "scattermapbox"
           }
          ],
          "scatterpolar": [
           {
            "marker": {
             "colorbar": {
              "outlinewidth": 0,
              "tickcolor": "rgb(237,237,237)",
              "ticklen": 6,
              "ticks": "inside"
             }
            },
            "type": "scatterpolar"
           }
          ],
          "scatterpolargl": [
           {
            "marker": {
             "colorbar": {
              "outlinewidth": 0,
              "tickcolor": "rgb(237,237,237)",
              "ticklen": 6,
              "ticks": "inside"
             }
            },
            "type": "scatterpolargl"
           }
          ],
          "scatterternary": [
           {
            "marker": {
             "colorbar": {
              "outlinewidth": 0,
              "tickcolor": "rgb(237,237,237)",
              "ticklen": 6,
              "ticks": "inside"
             }
            },
            "type": "scatterternary"
           }
          ],
          "surface": [
           {
            "colorbar": {
             "outlinewidth": 0,
             "tickcolor": "rgb(237,237,237)",
             "ticklen": 6,
             "ticks": "inside"
            },
            "colorscale": [
             [
              0,
              "rgb(20,44,66)"
             ],
             [
              1,
              "rgb(90,179,244)"
             ]
            ],
            "type": "surface"
           }
          ],
          "table": [
           {
            "cells": {
             "fill": {
              "color": "rgb(237,237,237)"
             },
             "line": {
              "color": "white"
             }
            },
            "header": {
             "fill": {
              "color": "rgb(217,217,217)"
             },
             "line": {
              "color": "white"
             }
            },
            "type": "table"
           }
          ]
         },
         "layout": {
          "annotationdefaults": {
           "arrowhead": 0,
           "arrowwidth": 1
          },
          "autotypenumbers": "strict",
          "coloraxis": {
           "colorbar": {
            "outlinewidth": 0,
            "tickcolor": "rgb(237,237,237)",
            "ticklen": 6,
            "ticks": "inside"
           }
          },
          "colorscale": {
           "sequential": [
            [
             0,
             "rgb(20,44,66)"
            ],
            [
             1,
             "rgb(90,179,244)"
            ]
           ],
           "sequentialminus": [
            [
             0,
             "rgb(20,44,66)"
            ],
            [
             1,
             "rgb(90,179,244)"
            ]
           ]
          },
          "colorway": [
           "#F8766D",
           "#A3A500",
           "#00BF7D",
           "#00B0F6",
           "#E76BF3"
          ],
          "font": {
           "color": "rgb(51,51,51)"
          },
          "geo": {
           "bgcolor": "white",
           "lakecolor": "white",
           "landcolor": "rgb(237,237,237)",
           "showlakes": true,
           "showland": true,
           "subunitcolor": "white"
          },
          "hoverlabel": {
           "align": "left"
          },
          "hovermode": "closest",
          "paper_bgcolor": "white",
          "plot_bgcolor": "rgb(237,237,237)",
          "polar": {
           "angularaxis": {
            "gridcolor": "white",
            "linecolor": "white",
            "showgrid": true,
            "tickcolor": "rgb(51,51,51)",
            "ticks": "outside"
           },
           "bgcolor": "rgb(237,237,237)",
           "radialaxis": {
            "gridcolor": "white",
            "linecolor": "white",
            "showgrid": true,
            "tickcolor": "rgb(51,51,51)",
            "ticks": "outside"
           }
          },
          "scene": {
           "xaxis": {
            "backgroundcolor": "rgb(237,237,237)",
            "gridcolor": "white",
            "gridwidth": 2,
            "linecolor": "white",
            "showbackground": true,
            "showgrid": true,
            "tickcolor": "rgb(51,51,51)",
            "ticks": "outside",
            "zerolinecolor": "white"
           },
           "yaxis": {
            "backgroundcolor": "rgb(237,237,237)",
            "gridcolor": "white",
            "gridwidth": 2,
            "linecolor": "white",
            "showbackground": true,
            "showgrid": true,
            "tickcolor": "rgb(51,51,51)",
            "ticks": "outside",
            "zerolinecolor": "white"
           },
           "zaxis": {
            "backgroundcolor": "rgb(237,237,237)",
            "gridcolor": "white",
            "gridwidth": 2,
            "linecolor": "white",
            "showbackground": true,
            "showgrid": true,
            "tickcolor": "rgb(51,51,51)",
            "ticks": "outside",
            "zerolinecolor": "white"
           }
          },
          "shapedefaults": {
           "fillcolor": "black",
           "line": {
            "width": 0
           },
           "opacity": 0.3
          },
          "ternary": {
           "aaxis": {
            "gridcolor": "white",
            "linecolor": "white",
            "showgrid": true,
            "tickcolor": "rgb(51,51,51)",
            "ticks": "outside"
           },
           "baxis": {
            "gridcolor": "white",
            "linecolor": "white",
            "showgrid": true,
            "tickcolor": "rgb(51,51,51)",
            "ticks": "outside"
           },
           "bgcolor": "rgb(237,237,237)",
           "caxis": {
            "gridcolor": "white",
            "linecolor": "white",
            "showgrid": true,
            "tickcolor": "rgb(51,51,51)",
            "ticks": "outside"
           }
          },
          "xaxis": {
           "automargin": true,
           "gridcolor": "white",
           "linecolor": "white",
           "showgrid": true,
           "tickcolor": "rgb(51,51,51)",
           "ticks": "outside",
           "title": {
            "standoff": 15
           },
           "zerolinecolor": "white"
          },
          "yaxis": {
           "automargin": true,
           "gridcolor": "white",
           "linecolor": "white",
           "showgrid": true,
           "tickcolor": "rgb(51,51,51)",
           "ticks": "outside",
           "title": {
            "standoff": 15
           },
           "zerolinecolor": "white"
          }
         }
        },
        "title": {
         "text": "STL Decomposition | Unemployment_Rate<br>Seasonal Period = 2"
        },
        "xaxis": {
         "anchor": "y",
         "domain": [
          0,
          0.98
         ],
         "matches": "x4",
         "showticklabels": false
        },
        "xaxis2": {
         "anchor": "y2",
         "domain": [
          0,
          0.98
         ],
         "matches": "x4",
         "showticklabels": false
        },
        "xaxis3": {
         "anchor": "y3",
         "domain": [
          0,
          0.98
         ],
         "matches": "x4",
         "showticklabels": false
        },
        "xaxis4": {
         "anchor": "y4",
         "domain": [
          0,
          0.98
         ]
        },
        "yaxis": {
         "anchor": "x",
         "domain": [
          0.80625,
          1
         ]
        },
        "yaxis2": {
         "anchor": "x2",
         "domain": [
          0.5375,
          0.73125
         ]
        },
        "yaxis3": {
         "anchor": "x3",
         "domain": [
          0.26875,
          0.4625
         ]
        },
        "yaxis4": {
         "anchor": "x4",
         "domain": [
          0,
          0.19375
         ]
        }
       }
      }
     },
     "metadata": {},
     "output_type": "display_data"
    }
   ],
   "source": [
    "exp.plot_model(plot=\"decomp_stl\", fig_kwargs={\"height\": 500})"
   ]
  },
  {
   "cell_type": "markdown",
   "metadata": {},
   "source": [
    "### fine tuning"
   ]
  },
  {
   "cell_type": "markdown",
   "metadata": {},
   "source": [
    "arima"
   ]
  },
  {
   "cell_type": "code",
   "execution_count": 20,
   "metadata": {},
   "outputs": [
    {
     "data": {
      "text/html": [],
      "text/plain": [
       "<IPython.core.display.HTML object>"
      ]
     },
     "metadata": {},
     "output_type": "display_data"
    },
    {
     "data": {
      "text/html": [
       "<style type=\"text/css\">\n",
       "#T_1d3d0_row3_col0, #T_1d3d0_row3_col1, #T_1d3d0_row3_col2, #T_1d3d0_row3_col3, #T_1d3d0_row3_col4, #T_1d3d0_row3_col5, #T_1d3d0_row3_col6, #T_1d3d0_row3_col7 {\n",
       "  background: yellow;\n",
       "}\n",
       "</style>\n",
       "<table id=\"T_1d3d0\">\n",
       "  <thead>\n",
       "    <tr>\n",
       "      <th class=\"blank level0\" >&nbsp;</th>\n",
       "      <th id=\"T_1d3d0_level0_col0\" class=\"col_heading level0 col0\" >cutoff</th>\n",
       "      <th id=\"T_1d3d0_level0_col1\" class=\"col_heading level0 col1\" >MASE</th>\n",
       "      <th id=\"T_1d3d0_level0_col2\" class=\"col_heading level0 col2\" >RMSSE</th>\n",
       "      <th id=\"T_1d3d0_level0_col3\" class=\"col_heading level0 col3\" >MAE</th>\n",
       "      <th id=\"T_1d3d0_level0_col4\" class=\"col_heading level0 col4\" >RMSE</th>\n",
       "      <th id=\"T_1d3d0_level0_col5\" class=\"col_heading level0 col5\" >MAPE</th>\n",
       "      <th id=\"T_1d3d0_level0_col6\" class=\"col_heading level0 col6\" >SMAPE</th>\n",
       "      <th id=\"T_1d3d0_level0_col7\" class=\"col_heading level0 col7\" >R2</th>\n",
       "    </tr>\n",
       "  </thead>\n",
       "  <tbody>\n",
       "    <tr>\n",
       "      <th id=\"T_1d3d0_level0_row0\" class=\"row_heading level0 row0\" >0</th>\n",
       "      <td id=\"T_1d3d0_row0_col0\" class=\"data row0 col0\" >2012Q3</td>\n",
       "      <td id=\"T_1d3d0_row0_col1\" class=\"data row0 col1\" >0.0738</td>\n",
       "      <td id=\"T_1d3d0_row0_col2\" class=\"data row0 col2\" >0.0902</td>\n",
       "      <td id=\"T_1d3d0_row0_col3\" class=\"data row0 col3\" >0.1219</td>\n",
       "      <td id=\"T_1d3d0_row0_col4\" class=\"data row0 col4\" >0.1614</td>\n",
       "      <td id=\"T_1d3d0_row0_col5\" class=\"data row0 col5\" >0.0083</td>\n",
       "      <td id=\"T_1d3d0_row0_col6\" class=\"data row0 col6\" >0.0083</td>\n",
       "      <td id=\"T_1d3d0_row0_col7\" class=\"data row0 col7\" >0.9878</td>\n",
       "    </tr>\n",
       "    <tr>\n",
       "      <th id=\"T_1d3d0_level0_row1\" class=\"row_heading level0 row1\" >1</th>\n",
       "      <td id=\"T_1d3d0_row1_col0\" class=\"data row1 col0\" >2015Q3</td>\n",
       "      <td id=\"T_1d3d0_row1_col1\" class=\"data row1 col1\" >0.4555</td>\n",
       "      <td id=\"T_1d3d0_row1_col2\" class=\"data row1 col2\" >0.5928</td>\n",
       "      <td id=\"T_1d3d0_row1_col3\" class=\"data row1 col3\" >0.5705</td>\n",
       "      <td id=\"T_1d3d0_row1_col4\" class=\"data row1 col4\" >0.8545</td>\n",
       "      <td id=\"T_1d3d0_row1_col5\" class=\"data row1 col5\" >0.0461</td>\n",
       "      <td id=\"T_1d3d0_row1_col6\" class=\"data row1 col6\" >0.0488</td>\n",
       "      <td id=\"T_1d3d0_row1_col7\" class=\"data row1 col7\" >0.3229</td>\n",
       "    </tr>\n",
       "    <tr>\n",
       "      <th id=\"T_1d3d0_level0_row2\" class=\"row_heading level0 row2\" >2</th>\n",
       "      <td id=\"T_1d3d0_row2_col0\" class=\"data row2 col0\" >2018Q3</td>\n",
       "      <td id=\"T_1d3d0_row2_col1\" class=\"data row2 col1\" >0.0117</td>\n",
       "      <td id=\"T_1d3d0_row2_col2\" class=\"data row2 col2\" >0.0114</td>\n",
       "      <td id=\"T_1d3d0_row2_col3\" class=\"data row2 col3\" >0.0141</td>\n",
       "      <td id=\"T_1d3d0_row2_col4\" class=\"data row2 col4\" >0.0159</td>\n",
       "      <td id=\"T_1d3d0_row2_col5\" class=\"data row2 col5\" >0.0011</td>\n",
       "      <td id=\"T_1d3d0_row2_col6\" class=\"data row2 col6\" >0.0011</td>\n",
       "      <td id=\"T_1d3d0_row2_col7\" class=\"data row2 col7\" >0.9999</td>\n",
       "    </tr>\n",
       "    <tr>\n",
       "      <th id=\"T_1d3d0_level0_row3\" class=\"row_heading level0 row3\" >Mean</th>\n",
       "      <td id=\"T_1d3d0_row3_col0\" class=\"data row3 col0\" >NaT</td>\n",
       "      <td id=\"T_1d3d0_row3_col1\" class=\"data row3 col1\" >0.1804</td>\n",
       "      <td id=\"T_1d3d0_row3_col2\" class=\"data row3 col2\" >0.2315</td>\n",
       "      <td id=\"T_1d3d0_row3_col3\" class=\"data row3 col3\" >0.2355</td>\n",
       "      <td id=\"T_1d3d0_row3_col4\" class=\"data row3 col4\" >0.3439</td>\n",
       "      <td id=\"T_1d3d0_row3_col5\" class=\"data row3 col5\" >0.0185</td>\n",
       "      <td id=\"T_1d3d0_row3_col6\" class=\"data row3 col6\" >0.0194</td>\n",
       "      <td id=\"T_1d3d0_row3_col7\" class=\"data row3 col7\" >0.7702</td>\n",
       "    </tr>\n",
       "    <tr>\n",
       "      <th id=\"T_1d3d0_level0_row4\" class=\"row_heading level0 row4\" >SD</th>\n",
       "      <td id=\"T_1d3d0_row4_col0\" class=\"data row4 col0\" >NaT</td>\n",
       "      <td id=\"T_1d3d0_row4_col1\" class=\"data row4 col1\" >0.1962</td>\n",
       "      <td id=\"T_1d3d0_row4_col2\" class=\"data row4 col2\" >0.2575</td>\n",
       "      <td id=\"T_1d3d0_row4_col3\" class=\"data row4 col3\" >0.2409</td>\n",
       "      <td id=\"T_1d3d0_row4_col4\" class=\"data row4 col4\" >0.3659</td>\n",
       "      <td id=\"T_1d3d0_row4_col5\" class=\"data row4 col5\" >0.0197</td>\n",
       "      <td id=\"T_1d3d0_row4_col6\" class=\"data row4 col6\" >0.0210</td>\n",
       "      <td id=\"T_1d3d0_row4_col7\" class=\"data row4 col7\" >0.3163</td>\n",
       "    </tr>\n",
       "  </tbody>\n",
       "</table>\n"
      ],
      "text/plain": [
       "<pandas.io.formats.style.Styler at 0x285fc1490>"
      ]
     },
     "metadata": {},
     "output_type": "display_data"
    },
    {
     "data": {
      "text/html": [],
      "text/plain": [
       "<IPython.core.display.HTML object>"
      ]
     },
     "metadata": {},
     "output_type": "display_data"
    },
    {
     "data": {
      "text/html": [
       "<style type=\"text/css\">\n",
       "</style>\n",
       "<table id=\"T_9eef3\">\n",
       "  <thead>\n",
       "    <tr>\n",
       "      <th class=\"blank level0\" >&nbsp;</th>\n",
       "      <th id=\"T_9eef3_level0_col0\" class=\"col_heading level0 col0\" >Model</th>\n",
       "      <th id=\"T_9eef3_level0_col1\" class=\"col_heading level0 col1\" >MASE</th>\n",
       "      <th id=\"T_9eef3_level0_col2\" class=\"col_heading level0 col2\" >RMSSE</th>\n",
       "      <th id=\"T_9eef3_level0_col3\" class=\"col_heading level0 col3\" >MAE</th>\n",
       "      <th id=\"T_9eef3_level0_col4\" class=\"col_heading level0 col4\" >RMSE</th>\n",
       "      <th id=\"T_9eef3_level0_col5\" class=\"col_heading level0 col5\" >MAPE</th>\n",
       "      <th id=\"T_9eef3_level0_col6\" class=\"col_heading level0 col6\" >SMAPE</th>\n",
       "      <th id=\"T_9eef3_level0_col7\" class=\"col_heading level0 col7\" >R2</th>\n",
       "    </tr>\n",
       "  </thead>\n",
       "  <tbody>\n",
       "    <tr>\n",
       "      <th id=\"T_9eef3_level0_row0\" class=\"row_heading level0 row0\" >0</th>\n",
       "      <td id=\"T_9eef3_row0_col0\" class=\"data row0 col0\" >ARIMA</td>\n",
       "      <td id=\"T_9eef3_row0_col1\" class=\"data row0 col1\" >0.0342</td>\n",
       "      <td id=\"T_9eef3_row0_col2\" class=\"data row0 col2\" >0.0355</td>\n",
       "      <td id=\"T_9eef3_row0_col3\" class=\"data row0 col3\" >0.0398</td>\n",
       "      <td id=\"T_9eef3_row0_col4\" class=\"data row0 col4\" >0.0484</td>\n",
       "      <td id=\"T_9eef3_row0_col5\" class=\"data row0 col5\" >0.0032</td>\n",
       "      <td id=\"T_9eef3_row0_col6\" class=\"data row0 col6\" >0.0032</td>\n",
       "      <td id=\"T_9eef3_row0_col7\" class=\"data row0 col7\" >0.9973</td>\n",
       "    </tr>\n",
       "  </tbody>\n",
       "</table>\n"
      ],
      "text/plain": [
       "<pandas.io.formats.style.Styler at 0x11047c040>"
      ]
     },
     "metadata": {},
     "output_type": "display_data"
    },
    {
     "data": {
      "application/vnd.plotly.v1+json": {
       "config": {
        "plotlyServerURL": "https://plot.ly"
       },
       "data": [
        {
         "line": {
          "color": "#1f77b4"
         },
         "marker": {
          "size": 5
         },
         "mode": "lines+markers",
         "name": "Forecast | ARIMA",
         "showlegend": true,
         "type": "scatter",
         "x": [
          "2022-01-01T00:00:00",
          "2022-07-01T00:00:00",
          "2023-01-01T00:00:00",
          "2023-07-01T00:00:00",
          "2024-01-01T00:00:00",
          "2024-07-01T00:00:00"
         ],
         "y": [
          12.9925,
          14.7654,
          12.3376,
          14.1863,
          12.4486,
          12.9156
         ]
        },
        {
         "line": {
          "width": 0
         },
         "marker": {
          "color": "#68BBE3"
         },
         "mode": "lines",
         "name": "Lower Interval",
         "showlegend": false,
         "type": "scatter",
         "x": [
          "2022-01-01T00:00:00",
          "2022-07-01T00:00:00",
          "2023-01-01T00:00:00",
          "2023-07-01T00:00:00",
          "2024-01-01T00:00:00",
          "2024-07-01T00:00:00"
         ],
         "y": [
          12.9413,
          14.7124,
          12.2662,
          14.1121,
          12.3609,
          12.827
         ]
        },
        {
         "fill": "tonexty",
         "fillcolor": "rgba(104,187,227,0.5)",
         "line": {
          "width": 0
         },
         "marker": {
          "color": "#68BBE3"
         },
         "mode": "lines",
         "name": "Prediction Interval | ARIMA",
         "showlegend": true,
         "type": "scatter",
         "x": [
          "2022-01-01T00:00:00",
          "2022-07-01T00:00:00",
          "2023-01-01T00:00:00",
          "2023-07-01T00:00:00",
          "2024-01-01T00:00:00",
          "2024-07-01T00:00:00"
         ],
         "y": [
          13.0438,
          14.8185,
          12.4091,
          14.2606,
          12.5364,
          13.0043
         ]
        },
        {
         "marker": {
          "color": "#3f3f3f",
          "size": 5
         },
         "mode": "lines+markers",
         "name": "Original",
         "showlegend": true,
         "type": "scatter",
         "x": [
          "2009-01-01T00:00:00",
          "2009-07-01T00:00:00",
          "2010-01-01T00:00:00",
          "2010-07-01T00:00:00",
          "2011-01-01T00:00:00",
          "2011-07-01T00:00:00",
          "2012-01-01T00:00:00",
          "2012-07-01T00:00:00",
          "2013-01-01T00:00:00",
          "2013-07-01T00:00:00",
          "2014-01-01T00:00:00",
          "2014-07-01T00:00:00",
          "2015-01-01T00:00:00",
          "2015-07-01T00:00:00",
          "2016-01-01T00:00:00",
          "2016-07-01T00:00:00",
          "2017-01-01T00:00:00",
          "2017-07-01T00:00:00",
          "2018-01-01T00:00:00",
          "2018-07-01T00:00:00",
          "2019-01-01T00:00:00",
          "2019-07-01T00:00:00",
          "2020-01-01T00:00:00",
          "2020-07-01T00:00:00",
          "2021-01-01T00:00:00",
          "2021-07-01T00:00:00",
          "2022-01-01T00:00:00",
          "2022-07-01T00:00:00",
          "2023-01-01T00:00:00",
          "2023-07-01T00:00:00",
          "2024-01-01T00:00:00",
          "2024-07-01T00:00:00"
         ],
         "y": [
          18.040630030101887,
          17.14238687901972,
          15.775726707916432,
          15.989462347425771,
          16.851591124698285,
          16.717763415603496,
          14.310062356756935,
          14.5723059746109,
          13.3476811958149,
          15.849200216451232,
          12.565402640695696,
          16.084781044581263,
          14.11539724268468,
          16.397679501557164,
          13.548613123951707,
          14.186108713893296,
          11.812189996775132,
          14.866057832702904,
          12.5799081053059,
          14.163591538115917,
          12.020975928692252,
          13.680974319783642,
          12.22887496390804,
          15.862362395833156,
          14.188898876104474,
          15.018407075494991,
          12.948944225299863,
          14.764916741760771,
          12.265233452406,
          14.177533914667926,
          12.378460471546267,
          12.871909126092456
         ]
        }
       ],
       "layout": {
        "showlegend": true,
        "template": {
         "data": {
          "bar": [
           {
            "error_x": {
             "color": "rgb(51,51,51)"
            },
            "error_y": {
             "color": "rgb(51,51,51)"
            },
            "marker": {
             "line": {
              "color": "rgb(237,237,237)",
              "width": 0.5
             },
             "pattern": {
              "fillmode": "overlay",
              "size": 10,
              "solidity": 0.2
             }
            },
            "type": "bar"
           }
          ],
          "barpolar": [
           {
            "marker": {
             "line": {
              "color": "rgb(237,237,237)",
              "width": 0.5
             },
             "pattern": {
              "fillmode": "overlay",
              "size": 10,
              "solidity": 0.2
             }
            },
            "type": "barpolar"
           }
          ],
          "carpet": [
           {
            "aaxis": {
             "endlinecolor": "rgb(51,51,51)",
             "gridcolor": "white",
             "linecolor": "white",
             "minorgridcolor": "white",
             "startlinecolor": "rgb(51,51,51)"
            },
            "baxis": {
             "endlinecolor": "rgb(51,51,51)",
             "gridcolor": "white",
             "linecolor": "white",
             "minorgridcolor": "white",
             "startlinecolor": "rgb(51,51,51)"
            },
            "type": "carpet"
           }
          ],
          "choropleth": [
           {
            "colorbar": {
             "outlinewidth": 0,
             "tickcolor": "rgb(237,237,237)",
             "ticklen": 6,
             "ticks": "inside"
            },
            "type": "choropleth"
           }
          ],
          "contour": [
           {
            "colorbar": {
             "outlinewidth": 0,
             "tickcolor": "rgb(237,237,237)",
             "ticklen": 6,
             "ticks": "inside"
            },
            "colorscale": [
             [
              0,
              "rgb(20,44,66)"
             ],
             [
              1,
              "rgb(90,179,244)"
             ]
            ],
            "type": "contour"
           }
          ],
          "contourcarpet": [
           {
            "colorbar": {
             "outlinewidth": 0,
             "tickcolor": "rgb(237,237,237)",
             "ticklen": 6,
             "ticks": "inside"
            },
            "type": "contourcarpet"
           }
          ],
          "heatmap": [
           {
            "colorbar": {
             "outlinewidth": 0,
             "tickcolor": "rgb(237,237,237)",
             "ticklen": 6,
             "ticks": "inside"
            },
            "colorscale": [
             [
              0,
              "rgb(20,44,66)"
             ],
             [
              1,
              "rgb(90,179,244)"
             ]
            ],
            "type": "heatmap"
           }
          ],
          "heatmapgl": [
           {
            "colorbar": {
             "outlinewidth": 0,
             "tickcolor": "rgb(237,237,237)",
             "ticklen": 6,
             "ticks": "inside"
            },
            "colorscale": [
             [
              0,
              "rgb(20,44,66)"
             ],
             [
              1,
              "rgb(90,179,244)"
             ]
            ],
            "type": "heatmapgl"
           }
          ],
          "histogram": [
           {
            "marker": {
             "pattern": {
              "fillmode": "overlay",
              "size": 10,
              "solidity": 0.2
             }
            },
            "type": "histogram"
           }
          ],
          "histogram2d": [
           {
            "colorbar": {
             "outlinewidth": 0,
             "tickcolor": "rgb(237,237,237)",
             "ticklen": 6,
             "ticks": "inside"
            },
            "colorscale": [
             [
              0,
              "rgb(20,44,66)"
             ],
             [
              1,
              "rgb(90,179,244)"
             ]
            ],
            "type": "histogram2d"
           }
          ],
          "histogram2dcontour": [
           {
            "colorbar": {
             "outlinewidth": 0,
             "tickcolor": "rgb(237,237,237)",
             "ticklen": 6,
             "ticks": "inside"
            },
            "colorscale": [
             [
              0,
              "rgb(20,44,66)"
             ],
             [
              1,
              "rgb(90,179,244)"
             ]
            ],
            "type": "histogram2dcontour"
           }
          ],
          "mesh3d": [
           {
            "colorbar": {
             "outlinewidth": 0,
             "tickcolor": "rgb(237,237,237)",
             "ticklen": 6,
             "ticks": "inside"
            },
            "type": "mesh3d"
           }
          ],
          "parcoords": [
           {
            "line": {
             "colorbar": {
              "outlinewidth": 0,
              "tickcolor": "rgb(237,237,237)",
              "ticklen": 6,
              "ticks": "inside"
             }
            },
            "type": "parcoords"
           }
          ],
          "pie": [
           {
            "automargin": true,
            "type": "pie"
           }
          ],
          "scatter": [
           {
            "fillpattern": {
             "fillmode": "overlay",
             "size": 10,
             "solidity": 0.2
            },
            "type": "scatter"
           }
          ],
          "scatter3d": [
           {
            "line": {
             "colorbar": {
              "outlinewidth": 0,
              "tickcolor": "rgb(237,237,237)",
              "ticklen": 6,
              "ticks": "inside"
             }
            },
            "marker": {
             "colorbar": {
              "outlinewidth": 0,
              "tickcolor": "rgb(237,237,237)",
              "ticklen": 6,
              "ticks": "inside"
             }
            },
            "type": "scatter3d"
           }
          ],
          "scattercarpet": [
           {
            "marker": {
             "colorbar": {
              "outlinewidth": 0,
              "tickcolor": "rgb(237,237,237)",
              "ticklen": 6,
              "ticks": "inside"
             }
            },
            "type": "scattercarpet"
           }
          ],
          "scattergeo": [
           {
            "marker": {
             "colorbar": {
              "outlinewidth": 0,
              "tickcolor": "rgb(237,237,237)",
              "ticklen": 6,
              "ticks": "inside"
             }
            },
            "type": "scattergeo"
           }
          ],
          "scattergl": [
           {
            "marker": {
             "colorbar": {
              "outlinewidth": 0,
              "tickcolor": "rgb(237,237,237)",
              "ticklen": 6,
              "ticks": "inside"
             }
            },
            "type": "scattergl"
           }
          ],
          "scattermapbox": [
           {
            "marker": {
             "colorbar": {
              "outlinewidth": 0,
              "tickcolor": "rgb(237,237,237)",
              "ticklen": 6,
              "ticks": "inside"
             }
            },
            "type": "scattermapbox"
           }
          ],
          "scatterpolar": [
           {
            "marker": {
             "colorbar": {
              "outlinewidth": 0,
              "tickcolor": "rgb(237,237,237)",
              "ticklen": 6,
              "ticks": "inside"
             }
            },
            "type": "scatterpolar"
           }
          ],
          "scatterpolargl": [
           {
            "marker": {
             "colorbar": {
              "outlinewidth": 0,
              "tickcolor": "rgb(237,237,237)",
              "ticklen": 6,
              "ticks": "inside"
             }
            },
            "type": "scatterpolargl"
           }
          ],
          "scatterternary": [
           {
            "marker": {
             "colorbar": {
              "outlinewidth": 0,
              "tickcolor": "rgb(237,237,237)",
              "ticklen": 6,
              "ticks": "inside"
             }
            },
            "type": "scatterternary"
           }
          ],
          "surface": [
           {
            "colorbar": {
             "outlinewidth": 0,
             "tickcolor": "rgb(237,237,237)",
             "ticklen": 6,
             "ticks": "inside"
            },
            "colorscale": [
             [
              0,
              "rgb(20,44,66)"
             ],
             [
              1,
              "rgb(90,179,244)"
             ]
            ],
            "type": "surface"
           }
          ],
          "table": [
           {
            "cells": {
             "fill": {
              "color": "rgb(237,237,237)"
             },
             "line": {
              "color": "white"
             }
            },
            "header": {
             "fill": {
              "color": "rgb(217,217,217)"
             },
             "line": {
              "color": "white"
             }
            },
            "type": "table"
           }
          ]
         },
         "layout": {
          "annotationdefaults": {
           "arrowhead": 0,
           "arrowwidth": 1
          },
          "autotypenumbers": "strict",
          "coloraxis": {
           "colorbar": {
            "outlinewidth": 0,
            "tickcolor": "rgb(237,237,237)",
            "ticklen": 6,
            "ticks": "inside"
           }
          },
          "colorscale": {
           "sequential": [
            [
             0,
             "rgb(20,44,66)"
            ],
            [
             1,
             "rgb(90,179,244)"
            ]
           ],
           "sequentialminus": [
            [
             0,
             "rgb(20,44,66)"
            ],
            [
             1,
             "rgb(90,179,244)"
            ]
           ]
          },
          "colorway": [
           "#F8766D",
           "#A3A500",
           "#00BF7D",
           "#00B0F6",
           "#E76BF3"
          ],
          "font": {
           "color": "rgb(51,51,51)"
          },
          "geo": {
           "bgcolor": "white",
           "lakecolor": "white",
           "landcolor": "rgb(237,237,237)",
           "showlakes": true,
           "showland": true,
           "subunitcolor": "white"
          },
          "hoverlabel": {
           "align": "left"
          },
          "hovermode": "closest",
          "paper_bgcolor": "white",
          "plot_bgcolor": "rgb(237,237,237)",
          "polar": {
           "angularaxis": {
            "gridcolor": "white",
            "linecolor": "white",
            "showgrid": true,
            "tickcolor": "rgb(51,51,51)",
            "ticks": "outside"
           },
           "bgcolor": "rgb(237,237,237)",
           "radialaxis": {
            "gridcolor": "white",
            "linecolor": "white",
            "showgrid": true,
            "tickcolor": "rgb(51,51,51)",
            "ticks": "outside"
           }
          },
          "scene": {
           "xaxis": {
            "backgroundcolor": "rgb(237,237,237)",
            "gridcolor": "white",
            "gridwidth": 2,
            "linecolor": "white",
            "showbackground": true,
            "showgrid": true,
            "tickcolor": "rgb(51,51,51)",
            "ticks": "outside",
            "zerolinecolor": "white"
           },
           "yaxis": {
            "backgroundcolor": "rgb(237,237,237)",
            "gridcolor": "white",
            "gridwidth": 2,
            "linecolor": "white",
            "showbackground": true,
            "showgrid": true,
            "tickcolor": "rgb(51,51,51)",
            "ticks": "outside",
            "zerolinecolor": "white"
           },
           "zaxis": {
            "backgroundcolor": "rgb(237,237,237)",
            "gridcolor": "white",
            "gridwidth": 2,
            "linecolor": "white",
            "showbackground": true,
            "showgrid": true,
            "tickcolor": "rgb(51,51,51)",
            "ticks": "outside",
            "zerolinecolor": "white"
           }
          },
          "shapedefaults": {
           "fillcolor": "black",
           "line": {
            "width": 0
           },
           "opacity": 0.3
          },
          "ternary": {
           "aaxis": {
            "gridcolor": "white",
            "linecolor": "white",
            "showgrid": true,
            "tickcolor": "rgb(51,51,51)",
            "ticks": "outside"
           },
           "baxis": {
            "gridcolor": "white",
            "linecolor": "white",
            "showgrid": true,
            "tickcolor": "rgb(51,51,51)",
            "ticks": "outside"
           },
           "bgcolor": "rgb(237,237,237)",
           "caxis": {
            "gridcolor": "white",
            "linecolor": "white",
            "showgrid": true,
            "tickcolor": "rgb(51,51,51)",
            "ticks": "outside"
           }
          },
          "xaxis": {
           "automargin": true,
           "gridcolor": "white",
           "linecolor": "white",
           "showgrid": true,
           "tickcolor": "rgb(51,51,51)",
           "ticks": "outside",
           "title": {
            "standoff": 15
           },
           "zerolinecolor": "white"
          },
          "yaxis": {
           "automargin": true,
           "gridcolor": "white",
           "linecolor": "white",
           "showgrid": true,
           "tickcolor": "rgb(51,51,51)",
           "ticks": "outside",
           "title": {
            "standoff": 15
           },
           "zerolinecolor": "white"
          }
         }
        },
        "title": {
         "text": "Actual vs. 'Out-of-Sample' Forecast | Unemployment_Rate"
        },
        "xaxis": {
         "title": {
          "text": "Time"
         }
        },
        "yaxis": {
         "title": {
          "text": "Values"
         }
        }
       }
      }
     },
     "metadata": {},
     "output_type": "display_data"
    }
   ],
   "source": [
    "arima = exp.create_model('arima')\n",
    "y_predict_arima = exp.predict_model(arima)\n",
    "exp.plot_model(estimator=arima)"
   ]
  },
  {
   "cell_type": "code",
   "execution_count": 22,
   "metadata": {},
   "outputs": [
    {
     "data": {
      "text/html": [],
      "text/plain": [
       "<IPython.core.display.HTML object>"
      ]
     },
     "metadata": {},
     "output_type": "display_data"
    },
    {
     "data": {
      "text/html": [
       "<style type=\"text/css\">\n",
       "#T_9eb85_row3_col0, #T_9eb85_row3_col1, #T_9eb85_row3_col2, #T_9eb85_row3_col3, #T_9eb85_row3_col4, #T_9eb85_row3_col5, #T_9eb85_row3_col6, #T_9eb85_row3_col7 {\n",
       "  background: yellow;\n",
       "}\n",
       "</style>\n",
       "<table id=\"T_9eb85\">\n",
       "  <thead>\n",
       "    <tr>\n",
       "      <th class=\"blank level0\" >&nbsp;</th>\n",
       "      <th id=\"T_9eb85_level0_col0\" class=\"col_heading level0 col0\" >cutoff</th>\n",
       "      <th id=\"T_9eb85_level0_col1\" class=\"col_heading level0 col1\" >MASE</th>\n",
       "      <th id=\"T_9eb85_level0_col2\" class=\"col_heading level0 col2\" >RMSSE</th>\n",
       "      <th id=\"T_9eb85_level0_col3\" class=\"col_heading level0 col3\" >MAE</th>\n",
       "      <th id=\"T_9eb85_level0_col4\" class=\"col_heading level0 col4\" >RMSE</th>\n",
       "      <th id=\"T_9eb85_level0_col5\" class=\"col_heading level0 col5\" >MAPE</th>\n",
       "      <th id=\"T_9eb85_level0_col6\" class=\"col_heading level0 col6\" >SMAPE</th>\n",
       "      <th id=\"T_9eb85_level0_col7\" class=\"col_heading level0 col7\" >R2</th>\n",
       "    </tr>\n",
       "  </thead>\n",
       "  <tbody>\n",
       "    <tr>\n",
       "      <th id=\"T_9eb85_level0_row0\" class=\"row_heading level0 row0\" >0</th>\n",
       "      <td id=\"T_9eb85_row0_col0\" class=\"data row0 col0\" >2012Q3</td>\n",
       "      <td id=\"T_9eb85_row0_col1\" class=\"data row0 col1\" >0.0750</td>\n",
       "      <td id=\"T_9eb85_row0_col2\" class=\"data row0 col2\" >0.0805</td>\n",
       "      <td id=\"T_9eb85_row0_col3\" class=\"data row0 col3\" >0.1238</td>\n",
       "      <td id=\"T_9eb85_row0_col4\" class=\"data row0 col4\" >0.1441</td>\n",
       "      <td id=\"T_9eb85_row0_col5\" class=\"data row0 col5\" >0.0089</td>\n",
       "      <td id=\"T_9eb85_row0_col6\" class=\"data row0 col6\" >0.0089</td>\n",
       "      <td id=\"T_9eb85_row0_col7\" class=\"data row0 col7\" >0.9903</td>\n",
       "    </tr>\n",
       "    <tr>\n",
       "      <th id=\"T_9eb85_level0_row1\" class=\"row_heading level0 row1\" >1</th>\n",
       "      <td id=\"T_9eb85_row1_col0\" class=\"data row1 col0\" >2015Q3</td>\n",
       "      <td id=\"T_9eb85_row1_col1\" class=\"data row1 col1\" >0.1742</td>\n",
       "      <td id=\"T_9eb85_row1_col2\" class=\"data row1 col2\" >0.2678</td>\n",
       "      <td id=\"T_9eb85_row1_col3\" class=\"data row1 col3\" >0.2182</td>\n",
       "      <td id=\"T_9eb85_row1_col4\" class=\"data row1 col4\" >0.3860</td>\n",
       "      <td id=\"T_9eb85_row1_col5\" class=\"data row1 col5\" >0.0179</td>\n",
       "      <td id=\"T_9eb85_row1_col6\" class=\"data row1 col6\" >0.0185</td>\n",
       "      <td id=\"T_9eb85_row1_col7\" class=\"data row1 col7\" >0.8619</td>\n",
       "    </tr>\n",
       "    <tr>\n",
       "      <th id=\"T_9eb85_level0_row2\" class=\"row_heading level0 row2\" >2</th>\n",
       "      <td id=\"T_9eb85_row2_col0\" class=\"data row2 col0\" >2018Q3</td>\n",
       "      <td id=\"T_9eb85_row2_col1\" class=\"data row2 col1\" >0.0103</td>\n",
       "      <td id=\"T_9eb85_row2_col2\" class=\"data row2 col2\" >0.0120</td>\n",
       "      <td id=\"T_9eb85_row2_col3\" class=\"data row2 col3\" >0.0124</td>\n",
       "      <td id=\"T_9eb85_row2_col4\" class=\"data row2 col4\" >0.0167</td>\n",
       "      <td id=\"T_9eb85_row2_col5\" class=\"data row2 col5\" >0.0010</td>\n",
       "      <td id=\"T_9eb85_row2_col6\" class=\"data row2 col6\" >0.0010</td>\n",
       "      <td id=\"T_9eb85_row2_col7\" class=\"data row2 col7\" >0.9999</td>\n",
       "    </tr>\n",
       "    <tr>\n",
       "      <th id=\"T_9eb85_level0_row3\" class=\"row_heading level0 row3\" >Mean</th>\n",
       "      <td id=\"T_9eb85_row3_col0\" class=\"data row3 col0\" >NaT</td>\n",
       "      <td id=\"T_9eb85_row3_col1\" class=\"data row3 col1\" >0.0865</td>\n",
       "      <td id=\"T_9eb85_row3_col2\" class=\"data row3 col2\" >0.1201</td>\n",
       "      <td id=\"T_9eb85_row3_col3\" class=\"data row3 col3\" >0.1181</td>\n",
       "      <td id=\"T_9eb85_row3_col4\" class=\"data row3 col4\" >0.1822</td>\n",
       "      <td id=\"T_9eb85_row3_col5\" class=\"data row3 col5\" >0.0093</td>\n",
       "      <td id=\"T_9eb85_row3_col6\" class=\"data row3 col6\" >0.0094</td>\n",
       "      <td id=\"T_9eb85_row3_col7\" class=\"data row3 col7\" >0.9507</td>\n",
       "    </tr>\n",
       "    <tr>\n",
       "      <th id=\"T_9eb85_level0_row4\" class=\"row_heading level0 row4\" >SD</th>\n",
       "      <td id=\"T_9eb85_row4_col0\" class=\"data row4 col0\" >NaT</td>\n",
       "      <td id=\"T_9eb85_row4_col1\" class=\"data row4 col1\" >0.0674</td>\n",
       "      <td id=\"T_9eb85_row4_col2\" class=\"data row4 col2\" >0.1081</td>\n",
       "      <td id=\"T_9eb85_row4_col3\" class=\"data row4 col3\" >0.0841</td>\n",
       "      <td id=\"T_9eb85_row4_col4\" class=\"data row4 col4\" >0.1532</td>\n",
       "      <td id=\"T_9eb85_row4_col5\" class=\"data row4 col5\" >0.0069</td>\n",
       "      <td id=\"T_9eb85_row4_col6\" class=\"data row4 col6\" >0.0072</td>\n",
       "      <td id=\"T_9eb85_row4_col7\" class=\"data row4 col7\" >0.0629</td>\n",
       "    </tr>\n",
       "  </tbody>\n",
       "</table>\n"
      ],
      "text/plain": [
       "<pandas.io.formats.style.Styler at 0x11257b970>"
      ]
     },
     "metadata": {},
     "output_type": "display_data"
    },
    {
     "data": {
      "text/html": [],
      "text/plain": [
       "<IPython.core.display.HTML object>"
      ]
     },
     "metadata": {},
     "output_type": "display_data"
    },
    {
     "name": "stdout",
     "output_type": "stream",
     "text": [
      "Fitting 3 folds for each of 20 candidates, totalling 60 fits\n"
     ]
    },
    {
     "name": "stderr",
     "output_type": "stream",
     "text": [
      "[Parallel(n_jobs=-1)]: Using backend LokyBackend with 8 concurrent workers.\n",
      "[Parallel(n_jobs=-1)]: Done  34 tasks      | elapsed:    2.2s\n",
      "[Parallel(n_jobs=-1)]: Done  60 out of  60 | elapsed:    2.7s finished\n"
     ]
    }
   ],
   "source": [
    "tuned_arima = tune_model(arima, n_iter=20, optimize='MASE')"
   ]
  },
  {
   "cell_type": "code",
   "execution_count": 31,
   "metadata": {},
   "outputs": [
    {
     "data": {
      "application/vnd.plotly.v1+json": {
       "config": {
        "plotlyServerURL": "https://plot.ly"
       },
       "data": [
        {
         "line": {
          "color": "#1f77b4"
         },
         "marker": {
          "size": 5
         },
         "mode": "lines+markers",
         "name": "Forecast | ARIMA",
         "showlegend": true,
         "type": "scatter",
         "x": [
          "2022-01-01T00:00:00",
          "2022-07-01T00:00:00",
          "2023-01-01T00:00:00",
          "2023-07-01T00:00:00",
          "2024-01-01T00:00:00",
          "2024-07-01T00:00:00"
         ],
         "y": [
          12.9565,
          14.7581,
          12.2899,
          14.1693,
          12.3944,
          12.8834
         ]
        },
        {
         "line": {
          "width": 0
         },
         "marker": {
          "color": "#68BBE3"
         },
         "mode": "lines",
         "name": "Lower Interval",
         "showlegend": false,
         "type": "scatter",
         "x": [
          "2022-01-01T00:00:00",
          "2022-07-01T00:00:00",
          "2023-01-01T00:00:00",
          "2023-07-01T00:00:00",
          "2024-01-01T00:00:00",
          "2024-07-01T00:00:00"
         ],
         "y": [
          12.9041,
          14.6813,
          12.2004,
          14.062,
          12.2787,
          12.7553
         ]
        },
        {
         "fill": "tonexty",
         "fillcolor": "rgba(104,187,227,0.5)",
         "line": {
          "width": 0
         },
         "marker": {
          "color": "#68BBE3"
         },
         "mode": "lines",
         "name": "Prediction Interval | ARIMA",
         "showlegend": true,
         "type": "scatter",
         "x": [
          "2022-01-01T00:00:00",
          "2022-07-01T00:00:00",
          "2023-01-01T00:00:00",
          "2023-07-01T00:00:00",
          "2024-01-01T00:00:00",
          "2024-07-01T00:00:00"
         ],
         "y": [
          13.009,
          14.8349,
          12.3795,
          14.2769,
          12.5104,
          13.0118
         ]
        },
        {
         "marker": {
          "color": "#3f3f3f",
          "size": 5
         },
         "mode": "lines+markers",
         "name": "Original",
         "showlegend": true,
         "type": "scatter",
         "x": [
          "2009-01-01T00:00:00",
          "2009-07-01T00:00:00",
          "2010-01-01T00:00:00",
          "2010-07-01T00:00:00",
          "2011-01-01T00:00:00",
          "2011-07-01T00:00:00",
          "2012-01-01T00:00:00",
          "2012-07-01T00:00:00",
          "2013-01-01T00:00:00",
          "2013-07-01T00:00:00",
          "2014-01-01T00:00:00",
          "2014-07-01T00:00:00",
          "2015-01-01T00:00:00",
          "2015-07-01T00:00:00",
          "2016-01-01T00:00:00",
          "2016-07-01T00:00:00",
          "2017-01-01T00:00:00",
          "2017-07-01T00:00:00",
          "2018-01-01T00:00:00",
          "2018-07-01T00:00:00",
          "2019-01-01T00:00:00",
          "2019-07-01T00:00:00",
          "2020-01-01T00:00:00",
          "2020-07-01T00:00:00",
          "2021-01-01T00:00:00",
          "2021-07-01T00:00:00",
          "2022-01-01T00:00:00",
          "2022-07-01T00:00:00",
          "2023-01-01T00:00:00",
          "2023-07-01T00:00:00",
          "2024-01-01T00:00:00",
          "2024-07-01T00:00:00"
         ],
         "y": [
          18.040630030101887,
          17.14238687901972,
          15.775726707916432,
          15.989462347425771,
          16.851591124698285,
          16.717763415603496,
          14.310062356756935,
          14.5723059746109,
          13.3476811958149,
          15.849200216451232,
          12.565402640695696,
          16.084781044581263,
          14.11539724268468,
          16.397679501557164,
          13.548613123951707,
          14.186108713893296,
          11.812189996775132,
          14.866057832702904,
          12.5799081053059,
          14.163591538115917,
          12.020975928692252,
          13.680974319783642,
          12.22887496390804,
          15.862362395833156,
          14.188898876104474,
          15.018407075494991,
          12.948944225299863,
          14.764916741760771,
          12.265233452406,
          14.177533914667926,
          12.378460471546267,
          12.871909126092456
         ]
        }
       ],
       "layout": {
        "showlegend": true,
        "template": {
         "data": {
          "bar": [
           {
            "error_x": {
             "color": "rgb(51,51,51)"
            },
            "error_y": {
             "color": "rgb(51,51,51)"
            },
            "marker": {
             "line": {
              "color": "rgb(237,237,237)",
              "width": 0.5
             },
             "pattern": {
              "fillmode": "overlay",
              "size": 10,
              "solidity": 0.2
             }
            },
            "type": "bar"
           }
          ],
          "barpolar": [
           {
            "marker": {
             "line": {
              "color": "rgb(237,237,237)",
              "width": 0.5
             },
             "pattern": {
              "fillmode": "overlay",
              "size": 10,
              "solidity": 0.2
             }
            },
            "type": "barpolar"
           }
          ],
          "carpet": [
           {
            "aaxis": {
             "endlinecolor": "rgb(51,51,51)",
             "gridcolor": "white",
             "linecolor": "white",
             "minorgridcolor": "white",
             "startlinecolor": "rgb(51,51,51)"
            },
            "baxis": {
             "endlinecolor": "rgb(51,51,51)",
             "gridcolor": "white",
             "linecolor": "white",
             "minorgridcolor": "white",
             "startlinecolor": "rgb(51,51,51)"
            },
            "type": "carpet"
           }
          ],
          "choropleth": [
           {
            "colorbar": {
             "outlinewidth": 0,
             "tickcolor": "rgb(237,237,237)",
             "ticklen": 6,
             "ticks": "inside"
            },
            "type": "choropleth"
           }
          ],
          "contour": [
           {
            "colorbar": {
             "outlinewidth": 0,
             "tickcolor": "rgb(237,237,237)",
             "ticklen": 6,
             "ticks": "inside"
            },
            "colorscale": [
             [
              0,
              "rgb(20,44,66)"
             ],
             [
              1,
              "rgb(90,179,244)"
             ]
            ],
            "type": "contour"
           }
          ],
          "contourcarpet": [
           {
            "colorbar": {
             "outlinewidth": 0,
             "tickcolor": "rgb(237,237,237)",
             "ticklen": 6,
             "ticks": "inside"
            },
            "type": "contourcarpet"
           }
          ],
          "heatmap": [
           {
            "colorbar": {
             "outlinewidth": 0,
             "tickcolor": "rgb(237,237,237)",
             "ticklen": 6,
             "ticks": "inside"
            },
            "colorscale": [
             [
              0,
              "rgb(20,44,66)"
             ],
             [
              1,
              "rgb(90,179,244)"
             ]
            ],
            "type": "heatmap"
           }
          ],
          "heatmapgl": [
           {
            "colorbar": {
             "outlinewidth": 0,
             "tickcolor": "rgb(237,237,237)",
             "ticklen": 6,
             "ticks": "inside"
            },
            "colorscale": [
             [
              0,
              "rgb(20,44,66)"
             ],
             [
              1,
              "rgb(90,179,244)"
             ]
            ],
            "type": "heatmapgl"
           }
          ],
          "histogram": [
           {
            "marker": {
             "pattern": {
              "fillmode": "overlay",
              "size": 10,
              "solidity": 0.2
             }
            },
            "type": "histogram"
           }
          ],
          "histogram2d": [
           {
            "colorbar": {
             "outlinewidth": 0,
             "tickcolor": "rgb(237,237,237)",
             "ticklen": 6,
             "ticks": "inside"
            },
            "colorscale": [
             [
              0,
              "rgb(20,44,66)"
             ],
             [
              1,
              "rgb(90,179,244)"
             ]
            ],
            "type": "histogram2d"
           }
          ],
          "histogram2dcontour": [
           {
            "colorbar": {
             "outlinewidth": 0,
             "tickcolor": "rgb(237,237,237)",
             "ticklen": 6,
             "ticks": "inside"
            },
            "colorscale": [
             [
              0,
              "rgb(20,44,66)"
             ],
             [
              1,
              "rgb(90,179,244)"
             ]
            ],
            "type": "histogram2dcontour"
           }
          ],
          "mesh3d": [
           {
            "colorbar": {
             "outlinewidth": 0,
             "tickcolor": "rgb(237,237,237)",
             "ticklen": 6,
             "ticks": "inside"
            },
            "type": "mesh3d"
           }
          ],
          "parcoords": [
           {
            "line": {
             "colorbar": {
              "outlinewidth": 0,
              "tickcolor": "rgb(237,237,237)",
              "ticklen": 6,
              "ticks": "inside"
             }
            },
            "type": "parcoords"
           }
          ],
          "pie": [
           {
            "automargin": true,
            "type": "pie"
           }
          ],
          "scatter": [
           {
            "fillpattern": {
             "fillmode": "overlay",
             "size": 10,
             "solidity": 0.2
            },
            "type": "scatter"
           }
          ],
          "scatter3d": [
           {
            "line": {
             "colorbar": {
              "outlinewidth": 0,
              "tickcolor": "rgb(237,237,237)",
              "ticklen": 6,
              "ticks": "inside"
             }
            },
            "marker": {
             "colorbar": {
              "outlinewidth": 0,
              "tickcolor": "rgb(237,237,237)",
              "ticklen": 6,
              "ticks": "inside"
             }
            },
            "type": "scatter3d"
           }
          ],
          "scattercarpet": [
           {
            "marker": {
             "colorbar": {
              "outlinewidth": 0,
              "tickcolor": "rgb(237,237,237)",
              "ticklen": 6,
              "ticks": "inside"
             }
            },
            "type": "scattercarpet"
           }
          ],
          "scattergeo": [
           {
            "marker": {
             "colorbar": {
              "outlinewidth": 0,
              "tickcolor": "rgb(237,237,237)",
              "ticklen": 6,
              "ticks": "inside"
             }
            },
            "type": "scattergeo"
           }
          ],
          "scattergl": [
           {
            "marker": {
             "colorbar": {
              "outlinewidth": 0,
              "tickcolor": "rgb(237,237,237)",
              "ticklen": 6,
              "ticks": "inside"
             }
            },
            "type": "scattergl"
           }
          ],
          "scattermapbox": [
           {
            "marker": {
             "colorbar": {
              "outlinewidth": 0,
              "tickcolor": "rgb(237,237,237)",
              "ticklen": 6,
              "ticks": "inside"
             }
            },
            "type": "scattermapbox"
           }
          ],
          "scatterpolar": [
           {
            "marker": {
             "colorbar": {
              "outlinewidth": 0,
              "tickcolor": "rgb(237,237,237)",
              "ticklen": 6,
              "ticks": "inside"
             }
            },
            "type": "scatterpolar"
           }
          ],
          "scatterpolargl": [
           {
            "marker": {
             "colorbar": {
              "outlinewidth": 0,
              "tickcolor": "rgb(237,237,237)",
              "ticklen": 6,
              "ticks": "inside"
             }
            },
            "type": "scatterpolargl"
           }
          ],
          "scatterternary": [
           {
            "marker": {
             "colorbar": {
              "outlinewidth": 0,
              "tickcolor": "rgb(237,237,237)",
              "ticklen": 6,
              "ticks": "inside"
             }
            },
            "type": "scatterternary"
           }
          ],
          "surface": [
           {
            "colorbar": {
             "outlinewidth": 0,
             "tickcolor": "rgb(237,237,237)",
             "ticklen": 6,
             "ticks": "inside"
            },
            "colorscale": [
             [
              0,
              "rgb(20,44,66)"
             ],
             [
              1,
              "rgb(90,179,244)"
             ]
            ],
            "type": "surface"
           }
          ],
          "table": [
           {
            "cells": {
             "fill": {
              "color": "rgb(237,237,237)"
             },
             "line": {
              "color": "white"
             }
            },
            "header": {
             "fill": {
              "color": "rgb(217,217,217)"
             },
             "line": {
              "color": "white"
             }
            },
            "type": "table"
           }
          ]
         },
         "layout": {
          "annotationdefaults": {
           "arrowhead": 0,
           "arrowwidth": 1
          },
          "autotypenumbers": "strict",
          "coloraxis": {
           "colorbar": {
            "outlinewidth": 0,
            "tickcolor": "rgb(237,237,237)",
            "ticklen": 6,
            "ticks": "inside"
           }
          },
          "colorscale": {
           "sequential": [
            [
             0,
             "rgb(20,44,66)"
            ],
            [
             1,
             "rgb(90,179,244)"
            ]
           ],
           "sequentialminus": [
            [
             0,
             "rgb(20,44,66)"
            ],
            [
             1,
             "rgb(90,179,244)"
            ]
           ]
          },
          "colorway": [
           "#F8766D",
           "#A3A500",
           "#00BF7D",
           "#00B0F6",
           "#E76BF3"
          ],
          "font": {
           "color": "rgb(51,51,51)"
          },
          "geo": {
           "bgcolor": "white",
           "lakecolor": "white",
           "landcolor": "rgb(237,237,237)",
           "showlakes": true,
           "showland": true,
           "subunitcolor": "white"
          },
          "hoverlabel": {
           "align": "left"
          },
          "hovermode": "closest",
          "paper_bgcolor": "white",
          "plot_bgcolor": "rgb(237,237,237)",
          "polar": {
           "angularaxis": {
            "gridcolor": "white",
            "linecolor": "white",
            "showgrid": true,
            "tickcolor": "rgb(51,51,51)",
            "ticks": "outside"
           },
           "bgcolor": "rgb(237,237,237)",
           "radialaxis": {
            "gridcolor": "white",
            "linecolor": "white",
            "showgrid": true,
            "tickcolor": "rgb(51,51,51)",
            "ticks": "outside"
           }
          },
          "scene": {
           "xaxis": {
            "backgroundcolor": "rgb(237,237,237)",
            "gridcolor": "white",
            "gridwidth": 2,
            "linecolor": "white",
            "showbackground": true,
            "showgrid": true,
            "tickcolor": "rgb(51,51,51)",
            "ticks": "outside",
            "zerolinecolor": "white"
           },
           "yaxis": {
            "backgroundcolor": "rgb(237,237,237)",
            "gridcolor": "white",
            "gridwidth": 2,
            "linecolor": "white",
            "showbackground": true,
            "showgrid": true,
            "tickcolor": "rgb(51,51,51)",
            "ticks": "outside",
            "zerolinecolor": "white"
           },
           "zaxis": {
            "backgroundcolor": "rgb(237,237,237)",
            "gridcolor": "white",
            "gridwidth": 2,
            "linecolor": "white",
            "showbackground": true,
            "showgrid": true,
            "tickcolor": "rgb(51,51,51)",
            "ticks": "outside",
            "zerolinecolor": "white"
           }
          },
          "shapedefaults": {
           "fillcolor": "black",
           "line": {
            "width": 0
           },
           "opacity": 0.3
          },
          "ternary": {
           "aaxis": {
            "gridcolor": "white",
            "linecolor": "white",
            "showgrid": true,
            "tickcolor": "rgb(51,51,51)",
            "ticks": "outside"
           },
           "baxis": {
            "gridcolor": "white",
            "linecolor": "white",
            "showgrid": true,
            "tickcolor": "rgb(51,51,51)",
            "ticks": "outside"
           },
           "bgcolor": "rgb(237,237,237)",
           "caxis": {
            "gridcolor": "white",
            "linecolor": "white",
            "showgrid": true,
            "tickcolor": "rgb(51,51,51)",
            "ticks": "outside"
           }
          },
          "xaxis": {
           "automargin": true,
           "gridcolor": "white",
           "linecolor": "white",
           "showgrid": true,
           "tickcolor": "rgb(51,51,51)",
           "ticks": "outside",
           "title": {
            "standoff": 15
           },
           "zerolinecolor": "white"
          },
          "yaxis": {
           "automargin": true,
           "gridcolor": "white",
           "linecolor": "white",
           "showgrid": true,
           "tickcolor": "rgb(51,51,51)",
           "ticks": "outside",
           "title": {
            "standoff": 15
           },
           "zerolinecolor": "white"
          }
         }
        },
        "title": {
         "text": "Actual vs. 'Out-of-Sample' Forecast | Unemployment_Rate"
        },
        "xaxis": {
         "title": {
          "text": "Time"
         }
        },
        "yaxis": {
         "title": {
          "text": "Values"
         }
        }
       }
      }
     },
     "metadata": {},
     "output_type": "display_data"
    }
   ],
   "source": [
    "exp.plot_model(estimator=tuned_arima)"
   ]
  },
  {
   "cell_type": "code",
   "execution_count": 23,
   "metadata": {},
   "outputs": [
    {
     "name": "stdout",
     "output_type": "stream",
     "text": [
      "{'concentrate_scale': False, 'enforce_invertibility': True, 'enforce_stationarity': True, 'hamilton_representation': False, 'maxiter': 50, 'measurement_error': False, 'method': 'lbfgs', 'mle_regression': True, 'order': (1, 0, 0), 'out_of_sample_size': 0, 'scoring': 'mse', 'scoring_args': None, 'seasonal_order': (0, 1, 0, 2), 'simple_differencing': False, 'start_params': None, 'suppress_warnings': False, 'time_varying_regression': False, 'trend': None, 'with_intercept': True}\n",
      "{'concentrate_scale': False, 'enforce_invertibility': True, 'enforce_stationarity': True, 'hamilton_representation': False, 'maxiter': 50, 'measurement_error': False, 'method': 'lbfgs', 'mle_regression': True, 'order': (0, 1, 0), 'out_of_sample_size': 0, 'scoring': 'mse', 'scoring_args': None, 'seasonal_order': (0, 0, 0, 2), 'simple_differencing': False, 'start_params': None, 'suppress_warnings': False, 'time_varying_regression': False, 'trend': None, 'with_intercept': False}\n"
     ]
    }
   ],
   "source": [
    "print(arima.get_params())\n",
    "print(tuned_arima.get_params())"
   ]
  },
  {
   "cell_type": "markdown",
   "metadata": {},
   "source": [
    "huber regression"
   ]
  },
  {
   "cell_type": "code",
   "execution_count": 24,
   "metadata": {},
   "outputs": [
    {
     "data": {
      "text/html": [],
      "text/plain": [
       "<IPython.core.display.HTML object>"
      ]
     },
     "metadata": {},
     "output_type": "display_data"
    },
    {
     "data": {
      "text/html": [
       "<style type=\"text/css\">\n",
       "#T_08a5b_row3_col0, #T_08a5b_row3_col1, #T_08a5b_row3_col2, #T_08a5b_row3_col3, #T_08a5b_row3_col4, #T_08a5b_row3_col5, #T_08a5b_row3_col6, #T_08a5b_row3_col7 {\n",
       "  background: yellow;\n",
       "}\n",
       "</style>\n",
       "<table id=\"T_08a5b\">\n",
       "  <thead>\n",
       "    <tr>\n",
       "      <th class=\"blank level0\" >&nbsp;</th>\n",
       "      <th id=\"T_08a5b_level0_col0\" class=\"col_heading level0 col0\" >cutoff</th>\n",
       "      <th id=\"T_08a5b_level0_col1\" class=\"col_heading level0 col1\" >MASE</th>\n",
       "      <th id=\"T_08a5b_level0_col2\" class=\"col_heading level0 col2\" >RMSSE</th>\n",
       "      <th id=\"T_08a5b_level0_col3\" class=\"col_heading level0 col3\" >MAE</th>\n",
       "      <th id=\"T_08a5b_level0_col4\" class=\"col_heading level0 col4\" >RMSE</th>\n",
       "      <th id=\"T_08a5b_level0_col5\" class=\"col_heading level0 col5\" >MAPE</th>\n",
       "      <th id=\"T_08a5b_level0_col6\" class=\"col_heading level0 col6\" >SMAPE</th>\n",
       "      <th id=\"T_08a5b_level0_col7\" class=\"col_heading level0 col7\" >R2</th>\n",
       "    </tr>\n",
       "  </thead>\n",
       "  <tbody>\n",
       "    <tr>\n",
       "      <th id=\"T_08a5b_level0_row0\" class=\"row_heading level0 row0\" >0</th>\n",
       "      <td id=\"T_08a5b_row0_col0\" class=\"data row0 col0\" >2012Q3</td>\n",
       "      <td id=\"T_08a5b_row0_col1\" class=\"data row0 col1\" >0.2744</td>\n",
       "      <td id=\"T_08a5b_row0_col2\" class=\"data row0 col2\" >0.2748</td>\n",
       "      <td id=\"T_08a5b_row0_col3\" class=\"data row0 col3\" >0.4531</td>\n",
       "      <td id=\"T_08a5b_row0_col4\" class=\"data row0 col4\" >0.4917</td>\n",
       "      <td id=\"T_08a5b_row0_col5\" class=\"data row0 col5\" >0.0306</td>\n",
       "      <td id=\"T_08a5b_row0_col6\" class=\"data row0 col6\" >0.0303</td>\n",
       "      <td id=\"T_08a5b_row0_col7\" class=\"data row0 col7\" >0.8870</td>\n",
       "    </tr>\n",
       "    <tr>\n",
       "      <th id=\"T_08a5b_level0_row1\" class=\"row_heading level0 row1\" >1</th>\n",
       "      <td id=\"T_08a5b_row1_col0\" class=\"data row1 col0\" >2015Q3</td>\n",
       "      <td id=\"T_08a5b_row1_col1\" class=\"data row1 col1\" >0.4477</td>\n",
       "      <td id=\"T_08a5b_row1_col2\" class=\"data row1 col2\" >0.4890</td>\n",
       "      <td id=\"T_08a5b_row1_col3\" class=\"data row1 col3\" >0.5607</td>\n",
       "      <td id=\"T_08a5b_row1_col4\" class=\"data row1 col4\" >0.7049</td>\n",
       "      <td id=\"T_08a5b_row1_col5\" class=\"data row1 col5\" >0.0439</td>\n",
       "      <td id=\"T_08a5b_row1_col6\" class=\"data row1 col6\" >0.0456</td>\n",
       "      <td id=\"T_08a5b_row1_col7\" class=\"data row1 col7\" >0.5393</td>\n",
       "    </tr>\n",
       "    <tr>\n",
       "      <th id=\"T_08a5b_level0_row2\" class=\"row_heading level0 row2\" >2</th>\n",
       "      <td id=\"T_08a5b_row2_col0\" class=\"data row2 col0\" >2018Q3</td>\n",
       "      <td id=\"T_08a5b_row2_col1\" class=\"data row2 col1\" >0.0194</td>\n",
       "      <td id=\"T_08a5b_row2_col2\" class=\"data row2 col2\" >0.0258</td>\n",
       "      <td id=\"T_08a5b_row2_col3\" class=\"data row2 col3\" >0.0234</td>\n",
       "      <td id=\"T_08a5b_row2_col4\" class=\"data row2 col4\" >0.0358</td>\n",
       "      <td id=\"T_08a5b_row2_col5\" class=\"data row2 col5\" >0.0017</td>\n",
       "      <td id=\"T_08a5b_row2_col6\" class=\"data row2 col6\" >0.0017</td>\n",
       "      <td id=\"T_08a5b_row2_col7\" class=\"data row2 col7\" >0.9993</td>\n",
       "    </tr>\n",
       "    <tr>\n",
       "      <th id=\"T_08a5b_level0_row3\" class=\"row_heading level0 row3\" >Mean</th>\n",
       "      <td id=\"T_08a5b_row3_col0\" class=\"data row3 col0\" >NaT</td>\n",
       "      <td id=\"T_08a5b_row3_col1\" class=\"data row3 col1\" >0.2472</td>\n",
       "      <td id=\"T_08a5b_row3_col2\" class=\"data row3 col2\" >0.2632</td>\n",
       "      <td id=\"T_08a5b_row3_col3\" class=\"data row3 col3\" >0.3458</td>\n",
       "      <td id=\"T_08a5b_row3_col4\" class=\"data row3 col4\" >0.4108</td>\n",
       "      <td id=\"T_08a5b_row3_col5\" class=\"data row3 col5\" >0.0254</td>\n",
       "      <td id=\"T_08a5b_row3_col6\" class=\"data row3 col6\" >0.0259</td>\n",
       "      <td id=\"T_08a5b_row3_col7\" class=\"data row3 col7\" >0.8086</td>\n",
       "    </tr>\n",
       "    <tr>\n",
       "      <th id=\"T_08a5b_level0_row4\" class=\"row_heading level0 row4\" >SD</th>\n",
       "      <td id=\"T_08a5b_row4_col0\" class=\"data row4 col0\" >NaT</td>\n",
       "      <td id=\"T_08a5b_row4_col1\" class=\"data row4 col1\" >0.1759</td>\n",
       "      <td id=\"T_08a5b_row4_col2\" class=\"data row4 col2\" >0.1893</td>\n",
       "      <td id=\"T_08a5b_row4_col3\" class=\"data row4 col3\" >0.2321</td>\n",
       "      <td id=\"T_08a5b_row4_col4\" class=\"data row4 col4\" >0.2791</td>\n",
       "      <td id=\"T_08a5b_row4_col5\" class=\"data row4 col5\" >0.0176</td>\n",
       "      <td id=\"T_08a5b_row4_col6\" class=\"data row4 col6\" >0.0182</td>\n",
       "      <td id=\"T_08a5b_row4_col7\" class=\"data row4 col7\" >0.1958</td>\n",
       "    </tr>\n",
       "  </tbody>\n",
       "</table>\n"
      ],
      "text/plain": [
       "<pandas.io.formats.style.Styler at 0x1114c9850>"
      ]
     },
     "metadata": {},
     "output_type": "display_data"
    },
    {
     "data": {
      "text/html": [],
      "text/plain": [
       "<IPython.core.display.HTML object>"
      ]
     },
     "metadata": {},
     "output_type": "display_data"
    },
    {
     "data": {
      "text/html": [
       "<style type=\"text/css\">\n",
       "</style>\n",
       "<table id=\"T_b4e7a\">\n",
       "  <thead>\n",
       "    <tr>\n",
       "      <th class=\"blank level0\" >&nbsp;</th>\n",
       "      <th id=\"T_b4e7a_level0_col0\" class=\"col_heading level0 col0\" >Model</th>\n",
       "      <th id=\"T_b4e7a_level0_col1\" class=\"col_heading level0 col1\" >MASE</th>\n",
       "      <th id=\"T_b4e7a_level0_col2\" class=\"col_heading level0 col2\" >RMSSE</th>\n",
       "      <th id=\"T_b4e7a_level0_col3\" class=\"col_heading level0 col3\" >MAE</th>\n",
       "      <th id=\"T_b4e7a_level0_col4\" class=\"col_heading level0 col4\" >RMSE</th>\n",
       "      <th id=\"T_b4e7a_level0_col5\" class=\"col_heading level0 col5\" >MAPE</th>\n",
       "      <th id=\"T_b4e7a_level0_col6\" class=\"col_heading level0 col6\" >SMAPE</th>\n",
       "      <th id=\"T_b4e7a_level0_col7\" class=\"col_heading level0 col7\" >R2</th>\n",
       "    </tr>\n",
       "  </thead>\n",
       "  <tbody>\n",
       "    <tr>\n",
       "      <th id=\"T_b4e7a_level0_row0\" class=\"row_heading level0 row0\" >0</th>\n",
       "      <td id=\"T_b4e7a_row0_col0\" class=\"data row0 col0\" >HuberRegressor</td>\n",
       "      <td id=\"T_b4e7a_row0_col1\" class=\"data row0 col1\" >0.0491</td>\n",
       "      <td id=\"T_b4e7a_row0_col2\" class=\"data row0 col2\" >0.0471</td>\n",
       "      <td id=\"T_b4e7a_row0_col3\" class=\"data row0 col3\" >0.0571</td>\n",
       "      <td id=\"T_b4e7a_row0_col4\" class=\"data row0 col4\" >0.0642</td>\n",
       "      <td id=\"T_b4e7a_row0_col5\" class=\"data row0 col5\" >0.0045</td>\n",
       "      <td id=\"T_b4e7a_row0_col6\" class=\"data row0 col6\" >0.0045</td>\n",
       "      <td id=\"T_b4e7a_row0_col7\" class=\"data row0 col7\" >0.9952</td>\n",
       "    </tr>\n",
       "  </tbody>\n",
       "</table>\n"
      ],
      "text/plain": [
       "<pandas.io.formats.style.Styler at 0x110454880>"
      ]
     },
     "metadata": {},
     "output_type": "display_data"
    },
    {
     "data": {
      "application/vnd.plotly.v1+json": {
       "config": {
        "plotlyServerURL": "https://plot.ly"
       },
       "data": [
        {
         "line": {
          "color": "rgb(31, 119, 180)",
          "width": 2
         },
         "marker": {
          "color": "rgb(31, 119, 180)",
          "size": 5
         },
         "mode": "lines+markers",
         "name": "Unemployment_Rate",
         "type": "scattergl",
         "x": [
          "2009-01-01T00:00:00",
          "2009-07-01T00:00:00",
          "2010-01-01T00:00:00",
          "2010-07-01T00:00:00",
          "2011-01-01T00:00:00",
          "2011-07-01T00:00:00",
          "2012-01-01T00:00:00",
          "2012-07-01T00:00:00",
          "2013-01-01T00:00:00",
          "2013-07-01T00:00:00",
          "2014-01-01T00:00:00",
          "2014-07-01T00:00:00",
          "2015-01-01T00:00:00",
          "2015-07-01T00:00:00",
          "2016-01-01T00:00:00",
          "2016-07-01T00:00:00",
          "2017-01-01T00:00:00",
          "2017-07-01T00:00:00",
          "2018-01-01T00:00:00",
          "2018-07-01T00:00:00",
          "2019-01-01T00:00:00",
          "2019-07-01T00:00:00",
          "2020-01-01T00:00:00",
          "2020-07-01T00:00:00",
          "2021-01-01T00:00:00",
          "2021-07-01T00:00:00",
          "2022-01-01T00:00:00",
          "2022-07-01T00:00:00",
          "2023-01-01T00:00:00",
          "2023-07-01T00:00:00",
          "2024-01-01T00:00:00",
          "2024-07-01T00:00:00"
         ],
         "xaxis": "x",
         "y": [
          18.040630030101887,
          17.14238687901972,
          15.775726707916432,
          15.989462347425771,
          16.851591124698285,
          16.717763415603496,
          14.310062356756935,
          14.5723059746109,
          13.3476811958149,
          15.849200216451232,
          12.565402640695696,
          16.084781044581263,
          14.11539724268468,
          16.397679501557164,
          13.548613123951707,
          14.186108713893296,
          11.812189996775132,
          14.866057832702904,
          12.5799081053059,
          14.163591538115917,
          12.020975928692252,
          13.680974319783642,
          12.22887496390804,
          15.862362395833156,
          14.188898876104474,
          15.018407075494991,
          12.948944225299863,
          14.764916741760771,
          12.265233452406,
          14.177533914667926,
          12.378460471546267,
          12.871909126092456
         ],
         "yaxis": "y"
        },
        {
         "line": {
          "color": "rgb(255, 127, 14)",
          "width": 2
         },
         "marker": {
          "color": "rgb(255, 127, 14)",
          "size": 5
         },
         "mode": "lines+markers",
         "name": "HuberRegressor",
         "type": "scattergl",
         "x": [
          "2009-01-01T00:00:00",
          "2009-07-01T00:00:00",
          "2010-01-01T00:00:00",
          "2010-07-01T00:00:00",
          "2011-01-01T00:00:00",
          "2011-07-01T00:00:00",
          "2012-01-01T00:00:00",
          "2012-07-01T00:00:00",
          "2013-01-01T00:00:00",
          "2013-07-01T00:00:00",
          "2014-01-01T00:00:00",
          "2014-07-01T00:00:00",
          "2015-01-01T00:00:00",
          "2015-07-01T00:00:00",
          "2016-01-01T00:00:00",
          "2016-07-01T00:00:00",
          "2017-01-01T00:00:00",
          "2017-07-01T00:00:00",
          "2018-01-01T00:00:00",
          "2018-07-01T00:00:00",
          "2019-01-01T00:00:00",
          "2019-07-01T00:00:00",
          "2020-01-01T00:00:00",
          "2020-07-01T00:00:00",
          "2021-01-01T00:00:00",
          "2021-07-01T00:00:00",
          "2022-01-01T00:00:00",
          "2022-07-01T00:00:00",
          "2023-01-01T00:00:00",
          "2023-07-01T00:00:00",
          "2024-01-01T00:00:00",
          "2024-07-01T00:00:00"
         ],
         "xaxis": "x",
         "y": [
          null,
          null,
          null,
          null,
          null,
          null,
          null,
          null,
          null,
          null,
          null,
          null,
          null,
          null,
          null,
          null,
          null,
          null,
          null,
          null,
          null,
          null,
          null,
          null,
          null,
          null,
          12.9964,
          14.7799,
          12.3545,
          14.2064,
          12.4715,
          12.9411
         ],
         "yaxis": "y"
        }
       ],
       "layout": {
        "showlegend": true,
        "template": {
         "data": {
          "bar": [
           {
            "error_x": {
             "color": "rgb(51,51,51)"
            },
            "error_y": {
             "color": "rgb(51,51,51)"
            },
            "marker": {
             "line": {
              "color": "rgb(237,237,237)",
              "width": 0.5
             },
             "pattern": {
              "fillmode": "overlay",
              "size": 10,
              "solidity": 0.2
             }
            },
            "type": "bar"
           }
          ],
          "barpolar": [
           {
            "marker": {
             "line": {
              "color": "rgb(237,237,237)",
              "width": 0.5
             },
             "pattern": {
              "fillmode": "overlay",
              "size": 10,
              "solidity": 0.2
             }
            },
            "type": "barpolar"
           }
          ],
          "carpet": [
           {
            "aaxis": {
             "endlinecolor": "rgb(51,51,51)",
             "gridcolor": "white",
             "linecolor": "white",
             "minorgridcolor": "white",
             "startlinecolor": "rgb(51,51,51)"
            },
            "baxis": {
             "endlinecolor": "rgb(51,51,51)",
             "gridcolor": "white",
             "linecolor": "white",
             "minorgridcolor": "white",
             "startlinecolor": "rgb(51,51,51)"
            },
            "type": "carpet"
           }
          ],
          "choropleth": [
           {
            "colorbar": {
             "outlinewidth": 0,
             "tickcolor": "rgb(237,237,237)",
             "ticklen": 6,
             "ticks": "inside"
            },
            "type": "choropleth"
           }
          ],
          "contour": [
           {
            "colorbar": {
             "outlinewidth": 0,
             "tickcolor": "rgb(237,237,237)",
             "ticklen": 6,
             "ticks": "inside"
            },
            "colorscale": [
             [
              0,
              "rgb(20,44,66)"
             ],
             [
              1,
              "rgb(90,179,244)"
             ]
            ],
            "type": "contour"
           }
          ],
          "contourcarpet": [
           {
            "colorbar": {
             "outlinewidth": 0,
             "tickcolor": "rgb(237,237,237)",
             "ticklen": 6,
             "ticks": "inside"
            },
            "type": "contourcarpet"
           }
          ],
          "heatmap": [
           {
            "colorbar": {
             "outlinewidth": 0,
             "tickcolor": "rgb(237,237,237)",
             "ticklen": 6,
             "ticks": "inside"
            },
            "colorscale": [
             [
              0,
              "rgb(20,44,66)"
             ],
             [
              1,
              "rgb(90,179,244)"
             ]
            ],
            "type": "heatmap"
           }
          ],
          "heatmapgl": [
           {
            "colorbar": {
             "outlinewidth": 0,
             "tickcolor": "rgb(237,237,237)",
             "ticklen": 6,
             "ticks": "inside"
            },
            "colorscale": [
             [
              0,
              "rgb(20,44,66)"
             ],
             [
              1,
              "rgb(90,179,244)"
             ]
            ],
            "type": "heatmapgl"
           }
          ],
          "histogram": [
           {
            "marker": {
             "pattern": {
              "fillmode": "overlay",
              "size": 10,
              "solidity": 0.2
             }
            },
            "type": "histogram"
           }
          ],
          "histogram2d": [
           {
            "colorbar": {
             "outlinewidth": 0,
             "tickcolor": "rgb(237,237,237)",
             "ticklen": 6,
             "ticks": "inside"
            },
            "colorscale": [
             [
              0,
              "rgb(20,44,66)"
             ],
             [
              1,
              "rgb(90,179,244)"
             ]
            ],
            "type": "histogram2d"
           }
          ],
          "histogram2dcontour": [
           {
            "colorbar": {
             "outlinewidth": 0,
             "tickcolor": "rgb(237,237,237)",
             "ticklen": 6,
             "ticks": "inside"
            },
            "colorscale": [
             [
              0,
              "rgb(20,44,66)"
             ],
             [
              1,
              "rgb(90,179,244)"
             ]
            ],
            "type": "histogram2dcontour"
           }
          ],
          "mesh3d": [
           {
            "colorbar": {
             "outlinewidth": 0,
             "tickcolor": "rgb(237,237,237)",
             "ticklen": 6,
             "ticks": "inside"
            },
            "type": "mesh3d"
           }
          ],
          "parcoords": [
           {
            "line": {
             "colorbar": {
              "outlinewidth": 0,
              "tickcolor": "rgb(237,237,237)",
              "ticklen": 6,
              "ticks": "inside"
             }
            },
            "type": "parcoords"
           }
          ],
          "pie": [
           {
            "automargin": true,
            "type": "pie"
           }
          ],
          "scatter": [
           {
            "fillpattern": {
             "fillmode": "overlay",
             "size": 10,
             "solidity": 0.2
            },
            "type": "scatter"
           }
          ],
          "scatter3d": [
           {
            "line": {
             "colorbar": {
              "outlinewidth": 0,
              "tickcolor": "rgb(237,237,237)",
              "ticklen": 6,
              "ticks": "inside"
             }
            },
            "marker": {
             "colorbar": {
              "outlinewidth": 0,
              "tickcolor": "rgb(237,237,237)",
              "ticklen": 6,
              "ticks": "inside"
             }
            },
            "type": "scatter3d"
           }
          ],
          "scattercarpet": [
           {
            "marker": {
             "colorbar": {
              "outlinewidth": 0,
              "tickcolor": "rgb(237,237,237)",
              "ticklen": 6,
              "ticks": "inside"
             }
            },
            "type": "scattercarpet"
           }
          ],
          "scattergeo": [
           {
            "marker": {
             "colorbar": {
              "outlinewidth": 0,
              "tickcolor": "rgb(237,237,237)",
              "ticklen": 6,
              "ticks": "inside"
             }
            },
            "type": "scattergeo"
           }
          ],
          "scattergl": [
           {
            "marker": {
             "colorbar": {
              "outlinewidth": 0,
              "tickcolor": "rgb(237,237,237)",
              "ticklen": 6,
              "ticks": "inside"
             }
            },
            "type": "scattergl"
           }
          ],
          "scattermapbox": [
           {
            "marker": {
             "colorbar": {
              "outlinewidth": 0,
              "tickcolor": "rgb(237,237,237)",
              "ticklen": 6,
              "ticks": "inside"
             }
            },
            "type": "scattermapbox"
           }
          ],
          "scatterpolar": [
           {
            "marker": {
             "colorbar": {
              "outlinewidth": 0,
              "tickcolor": "rgb(237,237,237)",
              "ticklen": 6,
              "ticks": "inside"
             }
            },
            "type": "scatterpolar"
           }
          ],
          "scatterpolargl": [
           {
            "marker": {
             "colorbar": {
              "outlinewidth": 0,
              "tickcolor": "rgb(237,237,237)",
              "ticklen": 6,
              "ticks": "inside"
             }
            },
            "type": "scatterpolargl"
           }
          ],
          "scatterternary": [
           {
            "marker": {
             "colorbar": {
              "outlinewidth": 0,
              "tickcolor": "rgb(237,237,237)",
              "ticklen": 6,
              "ticks": "inside"
             }
            },
            "type": "scatterternary"
           }
          ],
          "surface": [
           {
            "colorbar": {
             "outlinewidth": 0,
             "tickcolor": "rgb(237,237,237)",
             "ticklen": 6,
             "ticks": "inside"
            },
            "colorscale": [
             [
              0,
              "rgb(20,44,66)"
             ],
             [
              1,
              "rgb(90,179,244)"
             ]
            ],
            "type": "surface"
           }
          ],
          "table": [
           {
            "cells": {
             "fill": {
              "color": "rgb(237,237,237)"
             },
             "line": {
              "color": "white"
             }
            },
            "header": {
             "fill": {
              "color": "rgb(217,217,217)"
             },
             "line": {
              "color": "white"
             }
            },
            "type": "table"
           }
          ]
         },
         "layout": {
          "annotationdefaults": {
           "arrowhead": 0,
           "arrowwidth": 1
          },
          "autotypenumbers": "strict",
          "coloraxis": {
           "colorbar": {
            "outlinewidth": 0,
            "tickcolor": "rgb(237,237,237)",
            "ticklen": 6,
            "ticks": "inside"
           }
          },
          "colorscale": {
           "sequential": [
            [
             0,
             "rgb(20,44,66)"
            ],
            [
             1,
             "rgb(90,179,244)"
            ]
           ],
           "sequentialminus": [
            [
             0,
             "rgb(20,44,66)"
            ],
            [
             1,
             "rgb(90,179,244)"
            ]
           ]
          },
          "colorway": [
           "#F8766D",
           "#A3A500",
           "#00BF7D",
           "#00B0F6",
           "#E76BF3"
          ],
          "font": {
           "color": "rgb(51,51,51)"
          },
          "geo": {
           "bgcolor": "white",
           "lakecolor": "white",
           "landcolor": "rgb(237,237,237)",
           "showlakes": true,
           "showland": true,
           "subunitcolor": "white"
          },
          "hoverlabel": {
           "align": "left"
          },
          "hovermode": "closest",
          "paper_bgcolor": "white",
          "plot_bgcolor": "rgb(237,237,237)",
          "polar": {
           "angularaxis": {
            "gridcolor": "white",
            "linecolor": "white",
            "showgrid": true,
            "tickcolor": "rgb(51,51,51)",
            "ticks": "outside"
           },
           "bgcolor": "rgb(237,237,237)",
           "radialaxis": {
            "gridcolor": "white",
            "linecolor": "white",
            "showgrid": true,
            "tickcolor": "rgb(51,51,51)",
            "ticks": "outside"
           }
          },
          "scene": {
           "xaxis": {
            "backgroundcolor": "rgb(237,237,237)",
            "gridcolor": "white",
            "gridwidth": 2,
            "linecolor": "white",
            "showbackground": true,
            "showgrid": true,
            "tickcolor": "rgb(51,51,51)",
            "ticks": "outside",
            "zerolinecolor": "white"
           },
           "yaxis": {
            "backgroundcolor": "rgb(237,237,237)",
            "gridcolor": "white",
            "gridwidth": 2,
            "linecolor": "white",
            "showbackground": true,
            "showgrid": true,
            "tickcolor": "rgb(51,51,51)",
            "ticks": "outside",
            "zerolinecolor": "white"
           },
           "zaxis": {
            "backgroundcolor": "rgb(237,237,237)",
            "gridcolor": "white",
            "gridwidth": 2,
            "linecolor": "white",
            "showbackground": true,
            "showgrid": true,
            "tickcolor": "rgb(51,51,51)",
            "ticks": "outside",
            "zerolinecolor": "white"
           }
          },
          "shapedefaults": {
           "fillcolor": "black",
           "line": {
            "width": 0
           },
           "opacity": 0.3
          },
          "ternary": {
           "aaxis": {
            "gridcolor": "white",
            "linecolor": "white",
            "showgrid": true,
            "tickcolor": "rgb(51,51,51)",
            "ticks": "outside"
           },
           "baxis": {
            "gridcolor": "white",
            "linecolor": "white",
            "showgrid": true,
            "tickcolor": "rgb(51,51,51)",
            "ticks": "outside"
           },
           "bgcolor": "rgb(237,237,237)",
           "caxis": {
            "gridcolor": "white",
            "linecolor": "white",
            "showgrid": true,
            "tickcolor": "rgb(51,51,51)",
            "ticks": "outside"
           }
          },
          "xaxis": {
           "automargin": true,
           "gridcolor": "white",
           "linecolor": "white",
           "showgrid": true,
           "tickcolor": "rgb(51,51,51)",
           "ticks": "outside",
           "title": {
            "standoff": 15
           },
           "zerolinecolor": "white"
          },
          "yaxis": {
           "automargin": true,
           "gridcolor": "white",
           "linecolor": "white",
           "showgrid": true,
           "tickcolor": "rgb(51,51,51)",
           "ticks": "outside",
           "title": {
            "standoff": 15
           },
           "zerolinecolor": "white"
          }
         }
        },
        "title": {
         "text": "Actual vs. Forecast (Out-of-Sample)"
        },
        "xaxis": {
         "anchor": "y",
         "domain": [
          0,
          1
         ]
        },
        "yaxis": {
         "anchor": "x",
         "domain": [
          0,
          1
         ]
        }
       }
      }
     },
     "metadata": {},
     "output_type": "display_data"
    }
   ],
   "source": [
    "huber = exp.create_model('huber_cds_dt')\n",
    "y_predict_huber = exp.predict_model(huber)\n",
    "exp.plot_model(estimator=huber)"
   ]
  },
  {
   "cell_type": "code",
   "execution_count": null,
   "metadata": {},
   "outputs": [
    {
     "data": {
      "text/html": [],
      "text/plain": [
       "<IPython.core.display.HTML object>"
      ]
     },
     "metadata": {},
     "output_type": "display_data"
    },
    {
     "data": {
      "text/html": [
       "<style type=\"text/css\">\n",
       "#T_d2183_row2_col0, #T_d2183_row2_col1, #T_d2183_row2_col2, #T_d2183_row2_col3, #T_d2183_row2_col4, #T_d2183_row2_col5, #T_d2183_row2_col6, #T_d2183_row2_col7 {\n",
       "  background: yellow;\n",
       "}\n",
       "</style>\n",
       "<table id=\"T_d2183\">\n",
       "  <thead>\n",
       "    <tr>\n",
       "      <th class=\"blank level0\" >&nbsp;</th>\n",
       "      <th id=\"T_d2183_level0_col0\" class=\"col_heading level0 col0\" >cutoff</th>\n",
       "      <th id=\"T_d2183_level0_col1\" class=\"col_heading level0 col1\" >MASE</th>\n",
       "      <th id=\"T_d2183_level0_col2\" class=\"col_heading level0 col2\" >RMSSE</th>\n",
       "      <th id=\"T_d2183_level0_col3\" class=\"col_heading level0 col3\" >MAE</th>\n",
       "      <th id=\"T_d2183_level0_col4\" class=\"col_heading level0 col4\" >RMSE</th>\n",
       "      <th id=\"T_d2183_level0_col5\" class=\"col_heading level0 col5\" >MAPE</th>\n",
       "      <th id=\"T_d2183_level0_col6\" class=\"col_heading level0 col6\" >SMAPE</th>\n",
       "      <th id=\"T_d2183_level0_col7\" class=\"col_heading level0 col7\" >R2</th>\n",
       "    </tr>\n",
       "  </thead>\n",
       "  <tbody>\n",
       "    <tr>\n",
       "      <th id=\"T_d2183_level0_row0\" class=\"row_heading level0 row0\" >0</th>\n",
       "      <td id=\"T_d2183_row0_col0\" class=\"data row0 col0\" >2015Q3</td>\n",
       "      <td id=\"T_d2183_row0_col1\" class=\"data row0 col1\" >0.6467</td>\n",
       "      <td id=\"T_d2183_row0_col2\" class=\"data row0 col2\" >0.6595</td>\n",
       "      <td id=\"T_d2183_row0_col3\" class=\"data row0 col3\" >0.8099</td>\n",
       "      <td id=\"T_d2183_row0_col4\" class=\"data row0 col4\" >0.9507</td>\n",
       "      <td id=\"T_d2183_row0_col5\" class=\"data row0 col5\" >0.0592</td>\n",
       "      <td id=\"T_d2183_row0_col6\" class=\"data row0 col6\" >0.0605</td>\n",
       "      <td id=\"T_d2183_row0_col7\" class=\"data row0 col7\" >0.1620</td>\n",
       "    </tr>\n",
       "    <tr>\n",
       "      <th id=\"T_d2183_level0_row1\" class=\"row_heading level0 row1\" >1</th>\n",
       "      <td id=\"T_d2183_row1_col0\" class=\"data row1 col0\" >2018Q3</td>\n",
       "      <td id=\"T_d2183_row1_col1\" class=\"data row1 col1\" >0.0491</td>\n",
       "      <td id=\"T_d2183_row1_col2\" class=\"data row1 col2\" >0.0558</td>\n",
       "      <td id=\"T_d2183_row1_col3\" class=\"data row1 col3\" >0.0592</td>\n",
       "      <td id=\"T_d2183_row1_col4\" class=\"data row1 col4\" >0.0775</td>\n",
       "      <td id=\"T_d2183_row1_col5\" class=\"data row1 col5\" >0.0041</td>\n",
       "      <td id=\"T_d2183_row1_col6\" class=\"data row1 col6\" >0.0041</td>\n",
       "      <td id=\"T_d2183_row1_col7\" class=\"data row1 col7\" >0.9969</td>\n",
       "    </tr>\n",
       "    <tr>\n",
       "      <th id=\"T_d2183_level0_row2\" class=\"row_heading level0 row2\" >Mean</th>\n",
       "      <td id=\"T_d2183_row2_col0\" class=\"data row2 col0\" >NaT</td>\n",
       "      <td id=\"T_d2183_row2_col1\" class=\"data row2 col1\" >0.3479</td>\n",
       "      <td id=\"T_d2183_row2_col2\" class=\"data row2 col2\" >0.3577</td>\n",
       "      <td id=\"T_d2183_row2_col3\" class=\"data row2 col3\" >0.4346</td>\n",
       "      <td id=\"T_d2183_row2_col4\" class=\"data row2 col4\" >0.5141</td>\n",
       "      <td id=\"T_d2183_row2_col5\" class=\"data row2 col5\" >0.0316</td>\n",
       "      <td id=\"T_d2183_row2_col6\" class=\"data row2 col6\" >0.0323</td>\n",
       "      <td id=\"T_d2183_row2_col7\" class=\"data row2 col7\" >0.5794</td>\n",
       "    </tr>\n",
       "    <tr>\n",
       "      <th id=\"T_d2183_level0_row3\" class=\"row_heading level0 row3\" >SD</th>\n",
       "      <td id=\"T_d2183_row3_col0\" class=\"data row3 col0\" >NaT</td>\n",
       "      <td id=\"T_d2183_row3_col1\" class=\"data row3 col1\" >0.2988</td>\n",
       "      <td id=\"T_d2183_row3_col2\" class=\"data row3 col2\" >0.3019</td>\n",
       "      <td id=\"T_d2183_row3_col3\" class=\"data row3 col3\" >0.3753</td>\n",
       "      <td id=\"T_d2183_row3_col4\" class=\"data row3 col4\" >0.4366</td>\n",
       "      <td id=\"T_d2183_row3_col5\" class=\"data row3 col5\" >0.0276</td>\n",
       "      <td id=\"T_d2183_row3_col6\" class=\"data row3 col6\" >0.0282</td>\n",
       "      <td id=\"T_d2183_row3_col7\" class=\"data row3 col7\" >0.4174</td>\n",
       "    </tr>\n",
       "  </tbody>\n",
       "</table>\n"
      ],
      "text/plain": [
       "<pandas.io.formats.style.Styler at 0x11046b8e0>"
      ]
     },
     "metadata": {},
     "output_type": "display_data"
    },
    {
     "data": {
      "text/html": [],
      "text/plain": [
       "<IPython.core.display.HTML object>"
      ]
     },
     "metadata": {},
     "output_type": "display_data"
    },
    {
     "name": "stdout",
     "output_type": "stream",
     "text": [
      "Fitting 2 folds for each of 20 candidates, totalling 40 fits\n"
     ]
    },
    {
     "name": "stderr",
     "output_type": "stream",
     "text": [
      "[Parallel(n_jobs=-1)]: Using backend LokyBackend with 8 concurrent workers.\n",
      "[Parallel(n_jobs=-1)]: Done  40 out of  40 | elapsed:    4.4s finished\n"
     ]
    }
   ],
   "source": [
    "tuned_huber = tune_model(huber, n_iter=20, optimize='MASE', fold=2) # three folds was too much for this dataset"
   ]
  },
  {
   "cell_type": "code",
   "execution_count": 32,
   "metadata": {},
   "outputs": [
    {
     "data": {
      "application/vnd.plotly.v1+json": {
       "config": {
        "plotlyServerURL": "https://plot.ly"
       },
       "data": [
        {
         "line": {
          "color": "rgb(31, 119, 180)",
          "width": 2
         },
         "marker": {
          "color": "rgb(31, 119, 180)",
          "size": 5
         },
         "mode": "lines+markers",
         "name": "Unemployment_Rate",
         "type": "scattergl",
         "x": [
          "2009-01-01T00:00:00",
          "2009-07-01T00:00:00",
          "2010-01-01T00:00:00",
          "2010-07-01T00:00:00",
          "2011-01-01T00:00:00",
          "2011-07-01T00:00:00",
          "2012-01-01T00:00:00",
          "2012-07-01T00:00:00",
          "2013-01-01T00:00:00",
          "2013-07-01T00:00:00",
          "2014-01-01T00:00:00",
          "2014-07-01T00:00:00",
          "2015-01-01T00:00:00",
          "2015-07-01T00:00:00",
          "2016-01-01T00:00:00",
          "2016-07-01T00:00:00",
          "2017-01-01T00:00:00",
          "2017-07-01T00:00:00",
          "2018-01-01T00:00:00",
          "2018-07-01T00:00:00",
          "2019-01-01T00:00:00",
          "2019-07-01T00:00:00",
          "2020-01-01T00:00:00",
          "2020-07-01T00:00:00",
          "2021-01-01T00:00:00",
          "2021-07-01T00:00:00",
          "2022-01-01T00:00:00",
          "2022-07-01T00:00:00",
          "2023-01-01T00:00:00",
          "2023-07-01T00:00:00",
          "2024-01-01T00:00:00",
          "2024-07-01T00:00:00"
         ],
         "xaxis": "x",
         "y": [
          18.040630030101887,
          17.14238687901972,
          15.775726707916432,
          15.989462347425771,
          16.851591124698285,
          16.717763415603496,
          14.310062356756935,
          14.5723059746109,
          13.3476811958149,
          15.849200216451232,
          12.565402640695696,
          16.084781044581263,
          14.11539724268468,
          16.397679501557164,
          13.548613123951707,
          14.186108713893296,
          11.812189996775132,
          14.866057832702904,
          12.5799081053059,
          14.163591538115917,
          12.020975928692252,
          13.680974319783642,
          12.22887496390804,
          15.862362395833156,
          14.188898876104474,
          15.018407075494991,
          12.948944225299863,
          14.764916741760771,
          12.265233452406,
          14.177533914667926,
          12.378460471546267,
          12.871909126092456
         ],
         "yaxis": "y"
        },
        {
         "line": {
          "color": "rgb(255, 127, 14)",
          "width": 2
         },
         "marker": {
          "color": "rgb(255, 127, 14)",
          "size": 5
         },
         "mode": "lines+markers",
         "name": "HuberRegressor",
         "type": "scattergl",
         "x": [
          "2009-01-01T00:00:00",
          "2009-07-01T00:00:00",
          "2010-01-01T00:00:00",
          "2010-07-01T00:00:00",
          "2011-01-01T00:00:00",
          "2011-07-01T00:00:00",
          "2012-01-01T00:00:00",
          "2012-07-01T00:00:00",
          "2013-01-01T00:00:00",
          "2013-07-01T00:00:00",
          "2014-01-01T00:00:00",
          "2014-07-01T00:00:00",
          "2015-01-01T00:00:00",
          "2015-07-01T00:00:00",
          "2016-01-01T00:00:00",
          "2016-07-01T00:00:00",
          "2017-01-01T00:00:00",
          "2017-07-01T00:00:00",
          "2018-01-01T00:00:00",
          "2018-07-01T00:00:00",
          "2019-01-01T00:00:00",
          "2019-07-01T00:00:00",
          "2020-01-01T00:00:00",
          "2020-07-01T00:00:00",
          "2021-01-01T00:00:00",
          "2021-07-01T00:00:00",
          "2022-01-01T00:00:00",
          "2022-07-01T00:00:00",
          "2023-01-01T00:00:00",
          "2023-07-01T00:00:00",
          "2024-01-01T00:00:00",
          "2024-07-01T00:00:00"
         ],
         "xaxis": "x",
         "y": [
          null,
          null,
          null,
          null,
          null,
          null,
          null,
          null,
          null,
          null,
          null,
          null,
          null,
          null,
          null,
          null,
          null,
          null,
          null,
          null,
          null,
          null,
          null,
          null,
          null,
          null,
          12.9964,
          14.7799,
          12.3545,
          14.2064,
          12.4715,
          12.9411
         ],
         "yaxis": "y"
        }
       ],
       "layout": {
        "showlegend": true,
        "template": {
         "data": {
          "bar": [
           {
            "error_x": {
             "color": "rgb(51,51,51)"
            },
            "error_y": {
             "color": "rgb(51,51,51)"
            },
            "marker": {
             "line": {
              "color": "rgb(237,237,237)",
              "width": 0.5
             },
             "pattern": {
              "fillmode": "overlay",
              "size": 10,
              "solidity": 0.2
             }
            },
            "type": "bar"
           }
          ],
          "barpolar": [
           {
            "marker": {
             "line": {
              "color": "rgb(237,237,237)",
              "width": 0.5
             },
             "pattern": {
              "fillmode": "overlay",
              "size": 10,
              "solidity": 0.2
             }
            },
            "type": "barpolar"
           }
          ],
          "carpet": [
           {
            "aaxis": {
             "endlinecolor": "rgb(51,51,51)",
             "gridcolor": "white",
             "linecolor": "white",
             "minorgridcolor": "white",
             "startlinecolor": "rgb(51,51,51)"
            },
            "baxis": {
             "endlinecolor": "rgb(51,51,51)",
             "gridcolor": "white",
             "linecolor": "white",
             "minorgridcolor": "white",
             "startlinecolor": "rgb(51,51,51)"
            },
            "type": "carpet"
           }
          ],
          "choropleth": [
           {
            "colorbar": {
             "outlinewidth": 0,
             "tickcolor": "rgb(237,237,237)",
             "ticklen": 6,
             "ticks": "inside"
            },
            "type": "choropleth"
           }
          ],
          "contour": [
           {
            "colorbar": {
             "outlinewidth": 0,
             "tickcolor": "rgb(237,237,237)",
             "ticklen": 6,
             "ticks": "inside"
            },
            "colorscale": [
             [
              0,
              "rgb(20,44,66)"
             ],
             [
              1,
              "rgb(90,179,244)"
             ]
            ],
            "type": "contour"
           }
          ],
          "contourcarpet": [
           {
            "colorbar": {
             "outlinewidth": 0,
             "tickcolor": "rgb(237,237,237)",
             "ticklen": 6,
             "ticks": "inside"
            },
            "type": "contourcarpet"
           }
          ],
          "heatmap": [
           {
            "colorbar": {
             "outlinewidth": 0,
             "tickcolor": "rgb(237,237,237)",
             "ticklen": 6,
             "ticks": "inside"
            },
            "colorscale": [
             [
              0,
              "rgb(20,44,66)"
             ],
             [
              1,
              "rgb(90,179,244)"
             ]
            ],
            "type": "heatmap"
           }
          ],
          "heatmapgl": [
           {
            "colorbar": {
             "outlinewidth": 0,
             "tickcolor": "rgb(237,237,237)",
             "ticklen": 6,
             "ticks": "inside"
            },
            "colorscale": [
             [
              0,
              "rgb(20,44,66)"
             ],
             [
              1,
              "rgb(90,179,244)"
             ]
            ],
            "type": "heatmapgl"
           }
          ],
          "histogram": [
           {
            "marker": {
             "pattern": {
              "fillmode": "overlay",
              "size": 10,
              "solidity": 0.2
             }
            },
            "type": "histogram"
           }
          ],
          "histogram2d": [
           {
            "colorbar": {
             "outlinewidth": 0,
             "tickcolor": "rgb(237,237,237)",
             "ticklen": 6,
             "ticks": "inside"
            },
            "colorscale": [
             [
              0,
              "rgb(20,44,66)"
             ],
             [
              1,
              "rgb(90,179,244)"
             ]
            ],
            "type": "histogram2d"
           }
          ],
          "histogram2dcontour": [
           {
            "colorbar": {
             "outlinewidth": 0,
             "tickcolor": "rgb(237,237,237)",
             "ticklen": 6,
             "ticks": "inside"
            },
            "colorscale": [
             [
              0,
              "rgb(20,44,66)"
             ],
             [
              1,
              "rgb(90,179,244)"
             ]
            ],
            "type": "histogram2dcontour"
           }
          ],
          "mesh3d": [
           {
            "colorbar": {
             "outlinewidth": 0,
             "tickcolor": "rgb(237,237,237)",
             "ticklen": 6,
             "ticks": "inside"
            },
            "type": "mesh3d"
           }
          ],
          "parcoords": [
           {
            "line": {
             "colorbar": {
              "outlinewidth": 0,
              "tickcolor": "rgb(237,237,237)",
              "ticklen": 6,
              "ticks": "inside"
             }
            },
            "type": "parcoords"
           }
          ],
          "pie": [
           {
            "automargin": true,
            "type": "pie"
           }
          ],
          "scatter": [
           {
            "fillpattern": {
             "fillmode": "overlay",
             "size": 10,
             "solidity": 0.2
            },
            "type": "scatter"
           }
          ],
          "scatter3d": [
           {
            "line": {
             "colorbar": {
              "outlinewidth": 0,
              "tickcolor": "rgb(237,237,237)",
              "ticklen": 6,
              "ticks": "inside"
             }
            },
            "marker": {
             "colorbar": {
              "outlinewidth": 0,
              "tickcolor": "rgb(237,237,237)",
              "ticklen": 6,
              "ticks": "inside"
             }
            },
            "type": "scatter3d"
           }
          ],
          "scattercarpet": [
           {
            "marker": {
             "colorbar": {
              "outlinewidth": 0,
              "tickcolor": "rgb(237,237,237)",
              "ticklen": 6,
              "ticks": "inside"
             }
            },
            "type": "scattercarpet"
           }
          ],
          "scattergeo": [
           {
            "marker": {
             "colorbar": {
              "outlinewidth": 0,
              "tickcolor": "rgb(237,237,237)",
              "ticklen": 6,
              "ticks": "inside"
             }
            },
            "type": "scattergeo"
           }
          ],
          "scattergl": [
           {
            "marker": {
             "colorbar": {
              "outlinewidth": 0,
              "tickcolor": "rgb(237,237,237)",
              "ticklen": 6,
              "ticks": "inside"
             }
            },
            "type": "scattergl"
           }
          ],
          "scattermapbox": [
           {
            "marker": {
             "colorbar": {
              "outlinewidth": 0,
              "tickcolor": "rgb(237,237,237)",
              "ticklen": 6,
              "ticks": "inside"
             }
            },
            "type": "scattermapbox"
           }
          ],
          "scatterpolar": [
           {
            "marker": {
             "colorbar": {
              "outlinewidth": 0,
              "tickcolor": "rgb(237,237,237)",
              "ticklen": 6,
              "ticks": "inside"
             }
            },
            "type": "scatterpolar"
           }
          ],
          "scatterpolargl": [
           {
            "marker": {
             "colorbar": {
              "outlinewidth": 0,
              "tickcolor": "rgb(237,237,237)",
              "ticklen": 6,
              "ticks": "inside"
             }
            },
            "type": "scatterpolargl"
           }
          ],
          "scatterternary": [
           {
            "marker": {
             "colorbar": {
              "outlinewidth": 0,
              "tickcolor": "rgb(237,237,237)",
              "ticklen": 6,
              "ticks": "inside"
             }
            },
            "type": "scatterternary"
           }
          ],
          "surface": [
           {
            "colorbar": {
             "outlinewidth": 0,
             "tickcolor": "rgb(237,237,237)",
             "ticklen": 6,
             "ticks": "inside"
            },
            "colorscale": [
             [
              0,
              "rgb(20,44,66)"
             ],
             [
              1,
              "rgb(90,179,244)"
             ]
            ],
            "type": "surface"
           }
          ],
          "table": [
           {
            "cells": {
             "fill": {
              "color": "rgb(237,237,237)"
             },
             "line": {
              "color": "white"
             }
            },
            "header": {
             "fill": {
              "color": "rgb(217,217,217)"
             },
             "line": {
              "color": "white"
             }
            },
            "type": "table"
           }
          ]
         },
         "layout": {
          "annotationdefaults": {
           "arrowhead": 0,
           "arrowwidth": 1
          },
          "autotypenumbers": "strict",
          "coloraxis": {
           "colorbar": {
            "outlinewidth": 0,
            "tickcolor": "rgb(237,237,237)",
            "ticklen": 6,
            "ticks": "inside"
           }
          },
          "colorscale": {
           "sequential": [
            [
             0,
             "rgb(20,44,66)"
            ],
            [
             1,
             "rgb(90,179,244)"
            ]
           ],
           "sequentialminus": [
            [
             0,
             "rgb(20,44,66)"
            ],
            [
             1,
             "rgb(90,179,244)"
            ]
           ]
          },
          "colorway": [
           "#F8766D",
           "#A3A500",
           "#00BF7D",
           "#00B0F6",
           "#E76BF3"
          ],
          "font": {
           "color": "rgb(51,51,51)"
          },
          "geo": {
           "bgcolor": "white",
           "lakecolor": "white",
           "landcolor": "rgb(237,237,237)",
           "showlakes": true,
           "showland": true,
           "subunitcolor": "white"
          },
          "hoverlabel": {
           "align": "left"
          },
          "hovermode": "closest",
          "paper_bgcolor": "white",
          "plot_bgcolor": "rgb(237,237,237)",
          "polar": {
           "angularaxis": {
            "gridcolor": "white",
            "linecolor": "white",
            "showgrid": true,
            "tickcolor": "rgb(51,51,51)",
            "ticks": "outside"
           },
           "bgcolor": "rgb(237,237,237)",
           "radialaxis": {
            "gridcolor": "white",
            "linecolor": "white",
            "showgrid": true,
            "tickcolor": "rgb(51,51,51)",
            "ticks": "outside"
           }
          },
          "scene": {
           "xaxis": {
            "backgroundcolor": "rgb(237,237,237)",
            "gridcolor": "white",
            "gridwidth": 2,
            "linecolor": "white",
            "showbackground": true,
            "showgrid": true,
            "tickcolor": "rgb(51,51,51)",
            "ticks": "outside",
            "zerolinecolor": "white"
           },
           "yaxis": {
            "backgroundcolor": "rgb(237,237,237)",
            "gridcolor": "white",
            "gridwidth": 2,
            "linecolor": "white",
            "showbackground": true,
            "showgrid": true,
            "tickcolor": "rgb(51,51,51)",
            "ticks": "outside",
            "zerolinecolor": "white"
           },
           "zaxis": {
            "backgroundcolor": "rgb(237,237,237)",
            "gridcolor": "white",
            "gridwidth": 2,
            "linecolor": "white",
            "showbackground": true,
            "showgrid": true,
            "tickcolor": "rgb(51,51,51)",
            "ticks": "outside",
            "zerolinecolor": "white"
           }
          },
          "shapedefaults": {
           "fillcolor": "black",
           "line": {
            "width": 0
           },
           "opacity": 0.3
          },
          "ternary": {
           "aaxis": {
            "gridcolor": "white",
            "linecolor": "white",
            "showgrid": true,
            "tickcolor": "rgb(51,51,51)",
            "ticks": "outside"
           },
           "baxis": {
            "gridcolor": "white",
            "linecolor": "white",
            "showgrid": true,
            "tickcolor": "rgb(51,51,51)",
            "ticks": "outside"
           },
           "bgcolor": "rgb(237,237,237)",
           "caxis": {
            "gridcolor": "white",
            "linecolor": "white",
            "showgrid": true,
            "tickcolor": "rgb(51,51,51)",
            "ticks": "outside"
           }
          },
          "xaxis": {
           "automargin": true,
           "gridcolor": "white",
           "linecolor": "white",
           "showgrid": true,
           "tickcolor": "rgb(51,51,51)",
           "ticks": "outside",
           "title": {
            "standoff": 15
           },
           "zerolinecolor": "white"
          },
          "yaxis": {
           "automargin": true,
           "gridcolor": "white",
           "linecolor": "white",
           "showgrid": true,
           "tickcolor": "rgb(51,51,51)",
           "ticks": "outside",
           "title": {
            "standoff": 15
           },
           "zerolinecolor": "white"
          }
         }
        },
        "title": {
         "text": "Actual vs. Forecast (Out-of-Sample)"
        },
        "xaxis": {
         "anchor": "y",
         "domain": [
          0,
          1
         ]
        },
        "yaxis": {
         "anchor": "x",
         "domain": [
          0,
          1
         ]
        }
       }
      }
     },
     "metadata": {},
     "output_type": "display_data"
    }
   ],
   "source": [
    "exp.plot_model(estimator=tuned_huber)"
   ]
  },
  {
   "cell_type": "code",
   "execution_count": 28,
   "metadata": {},
   "outputs": [
    {
     "name": "stdout",
     "output_type": "stream",
     "text": [
      "{'degree': 1, 'deseasonal_model': 'additive', 'fe_target_rr': [WindowSummarizer(lag_feature={'lag': [2, 1]}, n_jobs=1)], 'regressor': HuberRegressor(), 'sp': 2, 'window_length': 2, 'regressor__alpha': 0.0001, 'regressor__epsilon': 1.35, 'regressor__fit_intercept': True, 'regressor__max_iter': 100, 'regressor__tol': 1e-05, 'regressor__warm_start': False}\n",
      "{'degree': 1, 'deseasonal_model': 'additive', 'fe_target_rr': [WindowSummarizer(lag_feature={'lag': [2, 1]}, n_jobs=1)], 'regressor': HuberRegressor(), 'sp': 2, 'window_length': 2, 'regressor__alpha': 0.0001, 'regressor__epsilon': 1.35, 'regressor__fit_intercept': True, 'regressor__max_iter': 100, 'regressor__tol': 1e-05, 'regressor__warm_start': False}\n"
     ]
    }
   ],
   "source": [
    "print(huber.get_params())\n",
    "print(tuned_huber.get_params())"
   ]
  },
  {
   "cell_type": "markdown",
   "metadata": {},
   "source": [
    "comparisons"
   ]
  },
  {
   "cell_type": "code",
   "execution_count": 30,
   "metadata": {},
   "outputs": [
    {
     "data": {
      "text/html": [],
      "text/plain": [
       "<IPython.core.display.HTML object>"
      ]
     },
     "metadata": {},
     "output_type": "display_data"
    },
    {
     "data": {
      "text/html": [
       "<style type=\"text/css\">\n",
       "#T_e8bb2 th {\n",
       "  text-align: left;\n",
       "}\n",
       "#T_e8bb2_row0_col0, #T_e8bb2_row1_col0, #T_e8bb2_row1_col1, #T_e8bb2_row1_col2, #T_e8bb2_row1_col3, #T_e8bb2_row1_col4, #T_e8bb2_row1_col5, #T_e8bb2_row1_col6, #T_e8bb2_row1_col7, #T_e8bb2_row2_col0, #T_e8bb2_row2_col1, #T_e8bb2_row2_col2, #T_e8bb2_row2_col3, #T_e8bb2_row2_col4, #T_e8bb2_row2_col5, #T_e8bb2_row2_col6, #T_e8bb2_row2_col7, #T_e8bb2_row3_col0, #T_e8bb2_row3_col1, #T_e8bb2_row3_col2, #T_e8bb2_row3_col3, #T_e8bb2_row3_col4, #T_e8bb2_row3_col5, #T_e8bb2_row3_col6, #T_e8bb2_row3_col7 {\n",
       "  text-align: left;\n",
       "}\n",
       "#T_e8bb2_row0_col1, #T_e8bb2_row0_col2, #T_e8bb2_row0_col3, #T_e8bb2_row0_col4, #T_e8bb2_row0_col5, #T_e8bb2_row0_col6, #T_e8bb2_row0_col7 {\n",
       "  text-align: left;\n",
       "  background-color: yellow;\n",
       "}\n",
       "#T_e8bb2_row0_col8 {\n",
       "  text-align: left;\n",
       "  background-color: yellow;\n",
       "  background-color: lightgrey;\n",
       "}\n",
       "#T_e8bb2_row1_col8, #T_e8bb2_row2_col8, #T_e8bb2_row3_col8 {\n",
       "  text-align: left;\n",
       "  background-color: lightgrey;\n",
       "}\n",
       "</style>\n",
       "<table id=\"T_e8bb2\">\n",
       "  <thead>\n",
       "    <tr>\n",
       "      <th class=\"blank level0\" >&nbsp;</th>\n",
       "      <th id=\"T_e8bb2_level0_col0\" class=\"col_heading level0 col0\" >Model</th>\n",
       "      <th id=\"T_e8bb2_level0_col1\" class=\"col_heading level0 col1\" >MASE</th>\n",
       "      <th id=\"T_e8bb2_level0_col2\" class=\"col_heading level0 col2\" >RMSSE</th>\n",
       "      <th id=\"T_e8bb2_level0_col3\" class=\"col_heading level0 col3\" >MAE</th>\n",
       "      <th id=\"T_e8bb2_level0_col4\" class=\"col_heading level0 col4\" >RMSE</th>\n",
       "      <th id=\"T_e8bb2_level0_col5\" class=\"col_heading level0 col5\" >MAPE</th>\n",
       "      <th id=\"T_e8bb2_level0_col6\" class=\"col_heading level0 col6\" >SMAPE</th>\n",
       "      <th id=\"T_e8bb2_level0_col7\" class=\"col_heading level0 col7\" >R2</th>\n",
       "      <th id=\"T_e8bb2_level0_col8\" class=\"col_heading level0 col8\" >TT (Sec)</th>\n",
       "    </tr>\n",
       "  </thead>\n",
       "  <tbody>\n",
       "    <tr>\n",
       "      <th id=\"T_e8bb2_level0_row0\" class=\"row_heading level0 row0\" >1</th>\n",
       "      <td id=\"T_e8bb2_row0_col0\" class=\"data row0 col0\" >ARIMA</td>\n",
       "      <td id=\"T_e8bb2_row0_col1\" class=\"data row0 col1\" >0.0865</td>\n",
       "      <td id=\"T_e8bb2_row0_col2\" class=\"data row0 col2\" >0.1201</td>\n",
       "      <td id=\"T_e8bb2_row0_col3\" class=\"data row0 col3\" >0.1181</td>\n",
       "      <td id=\"T_e8bb2_row0_col4\" class=\"data row0 col4\" >0.1822</td>\n",
       "      <td id=\"T_e8bb2_row0_col5\" class=\"data row0 col5\" >0.0093</td>\n",
       "      <td id=\"T_e8bb2_row0_col6\" class=\"data row0 col6\" >0.0094</td>\n",
       "      <td id=\"T_e8bb2_row0_col7\" class=\"data row0 col7\" >0.9507</td>\n",
       "      <td id=\"T_e8bb2_row0_col8\" class=\"data row0 col8\" >0.0333</td>\n",
       "    </tr>\n",
       "    <tr>\n",
       "      <th id=\"T_e8bb2_level0_row1\" class=\"row_heading level0 row1\" >0</th>\n",
       "      <td id=\"T_e8bb2_row1_col0\" class=\"data row1 col0\" >ARIMA</td>\n",
       "      <td id=\"T_e8bb2_row1_col1\" class=\"data row1 col1\" >0.1804</td>\n",
       "      <td id=\"T_e8bb2_row1_col2\" class=\"data row1 col2\" >0.2315</td>\n",
       "      <td id=\"T_e8bb2_row1_col3\" class=\"data row1 col3\" >0.2355</td>\n",
       "      <td id=\"T_e8bb2_row1_col4\" class=\"data row1 col4\" >0.3439</td>\n",
       "      <td id=\"T_e8bb2_row1_col5\" class=\"data row1 col5\" >0.0185</td>\n",
       "      <td id=\"T_e8bb2_row1_col6\" class=\"data row1 col6\" >0.0194</td>\n",
       "      <td id=\"T_e8bb2_row1_col7\" class=\"data row1 col7\" >0.7702</td>\n",
       "      <td id=\"T_e8bb2_row1_col8\" class=\"data row1 col8\" >0.0433</td>\n",
       "    </tr>\n",
       "    <tr>\n",
       "      <th id=\"T_e8bb2_level0_row2\" class=\"row_heading level0 row2\" >2</th>\n",
       "      <td id=\"T_e8bb2_row2_col0\" class=\"data row2 col0\" >HuberRegressor</td>\n",
       "      <td id=\"T_e8bb2_row2_col1\" class=\"data row2 col1\" >0.2472</td>\n",
       "      <td id=\"T_e8bb2_row2_col2\" class=\"data row2 col2\" >0.2632</td>\n",
       "      <td id=\"T_e8bb2_row2_col3\" class=\"data row2 col3\" >0.3458</td>\n",
       "      <td id=\"T_e8bb2_row2_col4\" class=\"data row2 col4\" >0.4108</td>\n",
       "      <td id=\"T_e8bb2_row2_col5\" class=\"data row2 col5\" >0.0254</td>\n",
       "      <td id=\"T_e8bb2_row2_col6\" class=\"data row2 col6\" >0.0259</td>\n",
       "      <td id=\"T_e8bb2_row2_col7\" class=\"data row2 col7\" >0.8086</td>\n",
       "      <td id=\"T_e8bb2_row2_col8\" class=\"data row2 col8\" >0.0800</td>\n",
       "    </tr>\n",
       "    <tr>\n",
       "      <th id=\"T_e8bb2_level0_row3\" class=\"row_heading level0 row3\" >3</th>\n",
       "      <td id=\"T_e8bb2_row3_col0\" class=\"data row3 col0\" >HuberRegressor</td>\n",
       "      <td id=\"T_e8bb2_row3_col1\" class=\"data row3 col1\" >0.2472</td>\n",
       "      <td id=\"T_e8bb2_row3_col2\" class=\"data row3 col2\" >0.2632</td>\n",
       "      <td id=\"T_e8bb2_row3_col3\" class=\"data row3 col3\" >0.3458</td>\n",
       "      <td id=\"T_e8bb2_row3_col4\" class=\"data row3 col4\" >0.4108</td>\n",
       "      <td id=\"T_e8bb2_row3_col5\" class=\"data row3 col5\" >0.0254</td>\n",
       "      <td id=\"T_e8bb2_row3_col6\" class=\"data row3 col6\" >0.0259</td>\n",
       "      <td id=\"T_e8bb2_row3_col7\" class=\"data row3 col7\" >0.8086</td>\n",
       "      <td id=\"T_e8bb2_row3_col8\" class=\"data row3 col8\" >0.0567</td>\n",
       "    </tr>\n",
       "  </tbody>\n",
       "</table>\n"
      ],
      "text/plain": [
       "<pandas.io.formats.style.Styler at 0x11053e940>"
      ]
     },
     "metadata": {},
     "output_type": "display_data"
    },
    {
     "data": {
      "text/html": [],
      "text/plain": [
       "<IPython.core.display.HTML object>"
      ]
     },
     "metadata": {},
     "output_type": "display_data"
    },
    {
     "data": {
      "text/html": [
       "<style>#sk-ce316943-a2bf-44ac-bd6d-70a30d367a6f {color: black;background-color: white;}#sk-ce316943-a2bf-44ac-bd6d-70a30d367a6f pre{padding: 0;}#sk-ce316943-a2bf-44ac-bd6d-70a30d367a6f div.sk-toggleable {background-color: white;}#sk-ce316943-a2bf-44ac-bd6d-70a30d367a6f label.sk-toggleable__label {cursor: pointer;display: block;width: 100%;margin-bottom: 0;padding: 0.3em;box-sizing: border-box;text-align: center;}#sk-ce316943-a2bf-44ac-bd6d-70a30d367a6f label.sk-toggleable__label-arrow:before {content: \"▸\";float: left;margin-right: 0.25em;color: #696969;}#sk-ce316943-a2bf-44ac-bd6d-70a30d367a6f label.sk-toggleable__label-arrow:hover:before {color: black;}#sk-ce316943-a2bf-44ac-bd6d-70a30d367a6f div.sk-estimator:hover label.sk-toggleable__label-arrow:before {color: black;}#sk-ce316943-a2bf-44ac-bd6d-70a30d367a6f div.sk-toggleable__content {max-height: 0;max-width: 0;overflow: hidden;text-align: left;background-color: #f0f8ff;}#sk-ce316943-a2bf-44ac-bd6d-70a30d367a6f div.sk-toggleable__content pre {margin: 0.2em;color: black;border-radius: 0.25em;background-color: #f0f8ff;}#sk-ce316943-a2bf-44ac-bd6d-70a30d367a6f input.sk-toggleable__control:checked~div.sk-toggleable__content {max-height: 200px;max-width: 100%;overflow: auto;}#sk-ce316943-a2bf-44ac-bd6d-70a30d367a6f input.sk-toggleable__control:checked~label.sk-toggleable__label-arrow:before {content: \"▾\";}#sk-ce316943-a2bf-44ac-bd6d-70a30d367a6f div.sk-estimator input.sk-toggleable__control:checked~label.sk-toggleable__label {background-color: #d4ebff;}#sk-ce316943-a2bf-44ac-bd6d-70a30d367a6f div.sk-label input.sk-toggleable__control:checked~label.sk-toggleable__label {background-color: #d4ebff;}#sk-ce316943-a2bf-44ac-bd6d-70a30d367a6f input.sk-hidden--visually {border: 0;clip: rect(1px 1px 1px 1px);clip: rect(1px, 1px, 1px, 1px);height: 1px;margin: -1px;overflow: hidden;padding: 0;position: absolute;width: 1px;}#sk-ce316943-a2bf-44ac-bd6d-70a30d367a6f div.sk-estimator {font-family: monospace;background-color: #f0f8ff;border: 1px dotted black;border-radius: 0.25em;box-sizing: border-box;margin-bottom: 0.5em;}#sk-ce316943-a2bf-44ac-bd6d-70a30d367a6f div.sk-estimator:hover {background-color: #d4ebff;}#sk-ce316943-a2bf-44ac-bd6d-70a30d367a6f div.sk-parallel-item::after {content: \"\";width: 100%;border-bottom: 1px solid gray;flex-grow: 1;}#sk-ce316943-a2bf-44ac-bd6d-70a30d367a6f div.sk-label:hover label.sk-toggleable__label {background-color: #d4ebff;}#sk-ce316943-a2bf-44ac-bd6d-70a30d367a6f div.sk-serial::before {content: \"\";position: absolute;border-left: 1px solid gray;box-sizing: border-box;top: 2em;bottom: 0;left: 50%;}#sk-ce316943-a2bf-44ac-bd6d-70a30d367a6f div.sk-serial {display: flex;flex-direction: column;align-items: center;background-color: white;padding-right: 0.2em;padding-left: 0.2em;}#sk-ce316943-a2bf-44ac-bd6d-70a30d367a6f div.sk-item {z-index: 1;}#sk-ce316943-a2bf-44ac-bd6d-70a30d367a6f div.sk-parallel {display: flex;align-items: stretch;justify-content: center;background-color: white;}#sk-ce316943-a2bf-44ac-bd6d-70a30d367a6f div.sk-parallel::before {content: \"\";position: absolute;border-left: 1px solid gray;box-sizing: border-box;top: 2em;bottom: 0;left: 50%;}#sk-ce316943-a2bf-44ac-bd6d-70a30d367a6f div.sk-parallel-item {display: flex;flex-direction: column;position: relative;background-color: white;}#sk-ce316943-a2bf-44ac-bd6d-70a30d367a6f div.sk-parallel-item:first-child::after {align-self: flex-end;width: 50%;}#sk-ce316943-a2bf-44ac-bd6d-70a30d367a6f div.sk-parallel-item:last-child::after {align-self: flex-start;width: 50%;}#sk-ce316943-a2bf-44ac-bd6d-70a30d367a6f div.sk-parallel-item:only-child::after {width: 0;}#sk-ce316943-a2bf-44ac-bd6d-70a30d367a6f div.sk-dashed-wrapped {border: 1px dashed gray;margin: 0 0.4em 0.5em 0.4em;box-sizing: border-box;padding-bottom: 0.4em;background-color: white;position: relative;}#sk-ce316943-a2bf-44ac-bd6d-70a30d367a6f div.sk-label label {font-family: monospace;font-weight: bold;background-color: white;display: inline-block;line-height: 1.2em;}#sk-ce316943-a2bf-44ac-bd6d-70a30d367a6f div.sk-label-container {position: relative;z-index: 2;text-align: center;}#sk-ce316943-a2bf-44ac-bd6d-70a30d367a6f div.sk-container {/* jupyter's `normalize.less` sets `[hidden] { display: none; }` but bootstrap.min.css set `[hidden] { display: none !important; }` so we also need the `!important` here to be able to override the default hidden behavior on the sphinx rendered scikit-learn.org. See: https://github.com/scikit-learn/scikit-learn/issues/21755 */display: inline-block !important;position: relative;}#sk-ce316943-a2bf-44ac-bd6d-70a30d367a6f div.sk-text-repr-fallback {display: none;}</style><div id='sk-ce316943-a2bf-44ac-bd6d-70a30d367a6f' class=\"sk-top-container\"><div class=\"sk-text-repr-fallback\"><pre>ARIMA(order=(0, 1, 0), seasonal_order=(0, 0, 0, 2), with_intercept=False)</pre><b>Please rerun this cell to show the HTML repr or trust the notebook.</b></div><div class=\"sk-container\" hidden><div class='sk-item'><div class=\"sk-estimator sk-toggleable\"><input class=\"sk-toggleable__control sk-hidden--visually\" id=UUID('0032883f-2f49-4ba7-8d9e-e8f7acb8e5e1') type=\"checkbox\" checked><label for=UUID('0032883f-2f49-4ba7-8d9e-e8f7acb8e5e1') class='sk-toggleable__label sk-toggleable__label-arrow'>ARIMA</label><div class=\"sk-toggleable__content\"><pre>ARIMA(order=(0, 1, 0), seasonal_order=(0, 0, 0, 2), with_intercept=False)</pre></div></div></div></div></div>"
      ],
      "text/plain": [
       "ARIMA(order=(0, 1, 0), seasonal_order=(0, 0, 0, 2), with_intercept=False)"
      ]
     },
     "execution_count": 30,
     "metadata": {},
     "output_type": "execute_result"
    }
   ],
   "source": [
    "exp.compare_models(include=[arima, tuned_arima, huber, tuned_huber], sort='MASE')"
   ]
  },
  {
   "cell_type": "code",
   "execution_count": 33,
   "metadata": {},
   "outputs": [
    {
     "data": {
      "application/vnd.plotly.v1+json": {
       "config": {
        "plotlyServerURL": "https://plot.ly"
       },
       "data": [
        {
         "line": {
          "color": "rgb(31, 119, 180)",
          "width": 2
         },
         "marker": {
          "color": "rgb(31, 119, 180)",
          "size": 5
         },
         "mode": "lines+markers",
         "name": "Unemployment_Rate",
         "type": "scattergl",
         "x": [
          "2009-01-01T00:00:00",
          "2009-07-01T00:00:00",
          "2010-01-01T00:00:00",
          "2010-07-01T00:00:00",
          "2011-01-01T00:00:00",
          "2011-07-01T00:00:00",
          "2012-01-01T00:00:00",
          "2012-07-01T00:00:00",
          "2013-01-01T00:00:00",
          "2013-07-01T00:00:00",
          "2014-01-01T00:00:00",
          "2014-07-01T00:00:00",
          "2015-01-01T00:00:00",
          "2015-07-01T00:00:00",
          "2016-01-01T00:00:00",
          "2016-07-01T00:00:00",
          "2017-01-01T00:00:00",
          "2017-07-01T00:00:00",
          "2018-01-01T00:00:00",
          "2018-07-01T00:00:00",
          "2019-01-01T00:00:00",
          "2019-07-01T00:00:00",
          "2020-01-01T00:00:00",
          "2020-07-01T00:00:00",
          "2021-01-01T00:00:00",
          "2021-07-01T00:00:00",
          "2022-01-01T00:00:00",
          "2022-07-01T00:00:00",
          "2023-01-01T00:00:00",
          "2023-07-01T00:00:00",
          "2024-01-01T00:00:00",
          "2024-07-01T00:00:00"
         ],
         "xaxis": "x",
         "y": [
          18.040630030101887,
          17.14238687901972,
          15.775726707916432,
          15.989462347425771,
          16.851591124698285,
          16.717763415603496,
          14.310062356756935,
          14.5723059746109,
          13.3476811958149,
          15.849200216451232,
          12.565402640695696,
          16.084781044581263,
          14.11539724268468,
          16.397679501557164,
          13.548613123951707,
          14.186108713893296,
          11.812189996775132,
          14.866057832702904,
          12.5799081053059,
          14.163591538115917,
          12.020975928692252,
          13.680974319783642,
          12.22887496390804,
          15.862362395833156,
          14.188898876104474,
          15.018407075494991,
          12.948944225299863,
          14.764916741760771,
          12.265233452406,
          14.177533914667926,
          12.378460471546267,
          12.871909126092456
         ],
         "yaxis": "y"
        },
        {
         "line": {
          "color": "rgb(255, 127, 14)",
          "width": 2
         },
         "marker": {
          "color": "rgb(255, 127, 14)",
          "size": 5
         },
         "mode": "lines+markers",
         "name": "arima",
         "type": "scattergl",
         "x": [
          "2009-01-01T00:00:00",
          "2009-07-01T00:00:00",
          "2010-01-01T00:00:00",
          "2010-07-01T00:00:00",
          "2011-01-01T00:00:00",
          "2011-07-01T00:00:00",
          "2012-01-01T00:00:00",
          "2012-07-01T00:00:00",
          "2013-01-01T00:00:00",
          "2013-07-01T00:00:00",
          "2014-01-01T00:00:00",
          "2014-07-01T00:00:00",
          "2015-01-01T00:00:00",
          "2015-07-01T00:00:00",
          "2016-01-01T00:00:00",
          "2016-07-01T00:00:00",
          "2017-01-01T00:00:00",
          "2017-07-01T00:00:00",
          "2018-01-01T00:00:00",
          "2018-07-01T00:00:00",
          "2019-01-01T00:00:00",
          "2019-07-01T00:00:00",
          "2020-01-01T00:00:00",
          "2020-07-01T00:00:00",
          "2021-01-01T00:00:00",
          "2021-07-01T00:00:00",
          "2022-01-01T00:00:00",
          "2022-07-01T00:00:00",
          "2023-01-01T00:00:00",
          "2023-07-01T00:00:00",
          "2024-01-01T00:00:00",
          "2024-07-01T00:00:00"
         ],
         "xaxis": "x",
         "y": [
          null,
          null,
          null,
          null,
          null,
          null,
          null,
          null,
          null,
          null,
          null,
          null,
          null,
          null,
          null,
          null,
          null,
          null,
          null,
          null,
          null,
          null,
          null,
          null,
          null,
          null,
          12.9925,
          14.7654,
          12.3376,
          14.1863,
          12.4486,
          12.9156
         ],
         "yaxis": "y"
        },
        {
         "line": {
          "color": "rgb(44, 160, 44)",
          "width": 2
         },
         "marker": {
          "color": "rgb(44, 160, 44)",
          "size": 5
         },
         "mode": "lines+markers",
         "name": "tuned_arima",
         "type": "scattergl",
         "x": [
          "2009-01-01T00:00:00",
          "2009-07-01T00:00:00",
          "2010-01-01T00:00:00",
          "2010-07-01T00:00:00",
          "2011-01-01T00:00:00",
          "2011-07-01T00:00:00",
          "2012-01-01T00:00:00",
          "2012-07-01T00:00:00",
          "2013-01-01T00:00:00",
          "2013-07-01T00:00:00",
          "2014-01-01T00:00:00",
          "2014-07-01T00:00:00",
          "2015-01-01T00:00:00",
          "2015-07-01T00:00:00",
          "2016-01-01T00:00:00",
          "2016-07-01T00:00:00",
          "2017-01-01T00:00:00",
          "2017-07-01T00:00:00",
          "2018-01-01T00:00:00",
          "2018-07-01T00:00:00",
          "2019-01-01T00:00:00",
          "2019-07-01T00:00:00",
          "2020-01-01T00:00:00",
          "2020-07-01T00:00:00",
          "2021-01-01T00:00:00",
          "2021-07-01T00:00:00",
          "2022-01-01T00:00:00",
          "2022-07-01T00:00:00",
          "2023-01-01T00:00:00",
          "2023-07-01T00:00:00",
          "2024-01-01T00:00:00",
          "2024-07-01T00:00:00"
         ],
         "xaxis": "x",
         "y": [
          null,
          null,
          null,
          null,
          null,
          null,
          null,
          null,
          null,
          null,
          null,
          null,
          null,
          null,
          null,
          null,
          null,
          null,
          null,
          null,
          null,
          null,
          null,
          null,
          null,
          null,
          12.9565,
          14.7581,
          12.2899,
          14.1693,
          12.3944,
          12.8834
         ],
         "yaxis": "y"
        },
        {
         "line": {
          "color": "rgb(214, 39, 40)",
          "width": 2
         },
         "marker": {
          "color": "rgb(214, 39, 40)",
          "size": 5
         },
         "mode": "lines+markers",
         "name": "huber",
         "type": "scattergl",
         "x": [
          "2009-01-01T00:00:00",
          "2009-07-01T00:00:00",
          "2010-01-01T00:00:00",
          "2010-07-01T00:00:00",
          "2011-01-01T00:00:00",
          "2011-07-01T00:00:00",
          "2012-01-01T00:00:00",
          "2012-07-01T00:00:00",
          "2013-01-01T00:00:00",
          "2013-07-01T00:00:00",
          "2014-01-01T00:00:00",
          "2014-07-01T00:00:00",
          "2015-01-01T00:00:00",
          "2015-07-01T00:00:00",
          "2016-01-01T00:00:00",
          "2016-07-01T00:00:00",
          "2017-01-01T00:00:00",
          "2017-07-01T00:00:00",
          "2018-01-01T00:00:00",
          "2018-07-01T00:00:00",
          "2019-01-01T00:00:00",
          "2019-07-01T00:00:00",
          "2020-01-01T00:00:00",
          "2020-07-01T00:00:00",
          "2021-01-01T00:00:00",
          "2021-07-01T00:00:00",
          "2022-01-01T00:00:00",
          "2022-07-01T00:00:00",
          "2023-01-01T00:00:00",
          "2023-07-01T00:00:00",
          "2024-01-01T00:00:00",
          "2024-07-01T00:00:00"
         ],
         "xaxis": "x",
         "y": [
          null,
          null,
          null,
          null,
          null,
          null,
          null,
          null,
          null,
          null,
          null,
          null,
          null,
          null,
          null,
          null,
          null,
          null,
          null,
          null,
          null,
          null,
          null,
          null,
          null,
          null,
          12.9964,
          14.7799,
          12.3545,
          14.2064,
          12.4715,
          12.9411
         ],
         "yaxis": "y"
        },
        {
         "line": {
          "color": "rgb(148, 103, 189)",
          "width": 2
         },
         "marker": {
          "color": "rgb(148, 103, 189)",
          "size": 5
         },
         "mode": "lines+markers",
         "name": "tuned_huber",
         "type": "scattergl",
         "x": [
          "2009-01-01T00:00:00",
          "2009-07-01T00:00:00",
          "2010-01-01T00:00:00",
          "2010-07-01T00:00:00",
          "2011-01-01T00:00:00",
          "2011-07-01T00:00:00",
          "2012-01-01T00:00:00",
          "2012-07-01T00:00:00",
          "2013-01-01T00:00:00",
          "2013-07-01T00:00:00",
          "2014-01-01T00:00:00",
          "2014-07-01T00:00:00",
          "2015-01-01T00:00:00",
          "2015-07-01T00:00:00",
          "2016-01-01T00:00:00",
          "2016-07-01T00:00:00",
          "2017-01-01T00:00:00",
          "2017-07-01T00:00:00",
          "2018-01-01T00:00:00",
          "2018-07-01T00:00:00",
          "2019-01-01T00:00:00",
          "2019-07-01T00:00:00",
          "2020-01-01T00:00:00",
          "2020-07-01T00:00:00",
          "2021-01-01T00:00:00",
          "2021-07-01T00:00:00",
          "2022-01-01T00:00:00",
          "2022-07-01T00:00:00",
          "2023-01-01T00:00:00",
          "2023-07-01T00:00:00",
          "2024-01-01T00:00:00",
          "2024-07-01T00:00:00"
         ],
         "xaxis": "x",
         "y": [
          null,
          null,
          null,
          null,
          null,
          null,
          null,
          null,
          null,
          null,
          null,
          null,
          null,
          null,
          null,
          null,
          null,
          null,
          null,
          null,
          null,
          null,
          null,
          null,
          null,
          null,
          12.9964,
          14.7799,
          12.3545,
          14.2064,
          12.4715,
          12.9411
         ],
         "yaxis": "y"
        }
       ],
       "layout": {
        "showlegend": true,
        "template": {
         "data": {
          "bar": [
           {
            "error_x": {
             "color": "rgb(51,51,51)"
            },
            "error_y": {
             "color": "rgb(51,51,51)"
            },
            "marker": {
             "line": {
              "color": "rgb(237,237,237)",
              "width": 0.5
             },
             "pattern": {
              "fillmode": "overlay",
              "size": 10,
              "solidity": 0.2
             }
            },
            "type": "bar"
           }
          ],
          "barpolar": [
           {
            "marker": {
             "line": {
              "color": "rgb(237,237,237)",
              "width": 0.5
             },
             "pattern": {
              "fillmode": "overlay",
              "size": 10,
              "solidity": 0.2
             }
            },
            "type": "barpolar"
           }
          ],
          "carpet": [
           {
            "aaxis": {
             "endlinecolor": "rgb(51,51,51)",
             "gridcolor": "white",
             "linecolor": "white",
             "minorgridcolor": "white",
             "startlinecolor": "rgb(51,51,51)"
            },
            "baxis": {
             "endlinecolor": "rgb(51,51,51)",
             "gridcolor": "white",
             "linecolor": "white",
             "minorgridcolor": "white",
             "startlinecolor": "rgb(51,51,51)"
            },
            "type": "carpet"
           }
          ],
          "choropleth": [
           {
            "colorbar": {
             "outlinewidth": 0,
             "tickcolor": "rgb(237,237,237)",
             "ticklen": 6,
             "ticks": "inside"
            },
            "type": "choropleth"
           }
          ],
          "contour": [
           {
            "colorbar": {
             "outlinewidth": 0,
             "tickcolor": "rgb(237,237,237)",
             "ticklen": 6,
             "ticks": "inside"
            },
            "colorscale": [
             [
              0,
              "rgb(20,44,66)"
             ],
             [
              1,
              "rgb(90,179,244)"
             ]
            ],
            "type": "contour"
           }
          ],
          "contourcarpet": [
           {
            "colorbar": {
             "outlinewidth": 0,
             "tickcolor": "rgb(237,237,237)",
             "ticklen": 6,
             "ticks": "inside"
            },
            "type": "contourcarpet"
           }
          ],
          "heatmap": [
           {
            "colorbar": {
             "outlinewidth": 0,
             "tickcolor": "rgb(237,237,237)",
             "ticklen": 6,
             "ticks": "inside"
            },
            "colorscale": [
             [
              0,
              "rgb(20,44,66)"
             ],
             [
              1,
              "rgb(90,179,244)"
             ]
            ],
            "type": "heatmap"
           }
          ],
          "heatmapgl": [
           {
            "colorbar": {
             "outlinewidth": 0,
             "tickcolor": "rgb(237,237,237)",
             "ticklen": 6,
             "ticks": "inside"
            },
            "colorscale": [
             [
              0,
              "rgb(20,44,66)"
             ],
             [
              1,
              "rgb(90,179,244)"
             ]
            ],
            "type": "heatmapgl"
           }
          ],
          "histogram": [
           {
            "marker": {
             "pattern": {
              "fillmode": "overlay",
              "size": 10,
              "solidity": 0.2
             }
            },
            "type": "histogram"
           }
          ],
          "histogram2d": [
           {
            "colorbar": {
             "outlinewidth": 0,
             "tickcolor": "rgb(237,237,237)",
             "ticklen": 6,
             "ticks": "inside"
            },
            "colorscale": [
             [
              0,
              "rgb(20,44,66)"
             ],
             [
              1,
              "rgb(90,179,244)"
             ]
            ],
            "type": "histogram2d"
           }
          ],
          "histogram2dcontour": [
           {
            "colorbar": {
             "outlinewidth": 0,
             "tickcolor": "rgb(237,237,237)",
             "ticklen": 6,
             "ticks": "inside"
            },
            "colorscale": [
             [
              0,
              "rgb(20,44,66)"
             ],
             [
              1,
              "rgb(90,179,244)"
             ]
            ],
            "type": "histogram2dcontour"
           }
          ],
          "mesh3d": [
           {
            "colorbar": {
             "outlinewidth": 0,
             "tickcolor": "rgb(237,237,237)",
             "ticklen": 6,
             "ticks": "inside"
            },
            "type": "mesh3d"
           }
          ],
          "parcoords": [
           {
            "line": {
             "colorbar": {
              "outlinewidth": 0,
              "tickcolor": "rgb(237,237,237)",
              "ticklen": 6,
              "ticks": "inside"
             }
            },
            "type": "parcoords"
           }
          ],
          "pie": [
           {
            "automargin": true,
            "type": "pie"
           }
          ],
          "scatter": [
           {
            "fillpattern": {
             "fillmode": "overlay",
             "size": 10,
             "solidity": 0.2
            },
            "type": "scatter"
           }
          ],
          "scatter3d": [
           {
            "line": {
             "colorbar": {
              "outlinewidth": 0,
              "tickcolor": "rgb(237,237,237)",
              "ticklen": 6,
              "ticks": "inside"
             }
            },
            "marker": {
             "colorbar": {
              "outlinewidth": 0,
              "tickcolor": "rgb(237,237,237)",
              "ticklen": 6,
              "ticks": "inside"
             }
            },
            "type": "scatter3d"
           }
          ],
          "scattercarpet": [
           {
            "marker": {
             "colorbar": {
              "outlinewidth": 0,
              "tickcolor": "rgb(237,237,237)",
              "ticklen": 6,
              "ticks": "inside"
             }
            },
            "type": "scattercarpet"
           }
          ],
          "scattergeo": [
           {
            "marker": {
             "colorbar": {
              "outlinewidth": 0,
              "tickcolor": "rgb(237,237,237)",
              "ticklen": 6,
              "ticks": "inside"
             }
            },
            "type": "scattergeo"
           }
          ],
          "scattergl": [
           {
            "marker": {
             "colorbar": {
              "outlinewidth": 0,
              "tickcolor": "rgb(237,237,237)",
              "ticklen": 6,
              "ticks": "inside"
             }
            },
            "type": "scattergl"
           }
          ],
          "scattermapbox": [
           {
            "marker": {
             "colorbar": {
              "outlinewidth": 0,
              "tickcolor": "rgb(237,237,237)",
              "ticklen": 6,
              "ticks": "inside"
             }
            },
            "type": "scattermapbox"
           }
          ],
          "scatterpolar": [
           {
            "marker": {
             "colorbar": {
              "outlinewidth": 0,
              "tickcolor": "rgb(237,237,237)",
              "ticklen": 6,
              "ticks": "inside"
             }
            },
            "type": "scatterpolar"
           }
          ],
          "scatterpolargl": [
           {
            "marker": {
             "colorbar": {
              "outlinewidth": 0,
              "tickcolor": "rgb(237,237,237)",
              "ticklen": 6,
              "ticks": "inside"
             }
            },
            "type": "scatterpolargl"
           }
          ],
          "scatterternary": [
           {
            "marker": {
             "colorbar": {
              "outlinewidth": 0,
              "tickcolor": "rgb(237,237,237)",
              "ticklen": 6,
              "ticks": "inside"
             }
            },
            "type": "scatterternary"
           }
          ],
          "surface": [
           {
            "colorbar": {
             "outlinewidth": 0,
             "tickcolor": "rgb(237,237,237)",
             "ticklen": 6,
             "ticks": "inside"
            },
            "colorscale": [
             [
              0,
              "rgb(20,44,66)"
             ],
             [
              1,
              "rgb(90,179,244)"
             ]
            ],
            "type": "surface"
           }
          ],
          "table": [
           {
            "cells": {
             "fill": {
              "color": "rgb(237,237,237)"
             },
             "line": {
              "color": "white"
             }
            },
            "header": {
             "fill": {
              "color": "rgb(217,217,217)"
             },
             "line": {
              "color": "white"
             }
            },
            "type": "table"
           }
          ]
         },
         "layout": {
          "annotationdefaults": {
           "arrowhead": 0,
           "arrowwidth": 1
          },
          "autotypenumbers": "strict",
          "coloraxis": {
           "colorbar": {
            "outlinewidth": 0,
            "tickcolor": "rgb(237,237,237)",
            "ticklen": 6,
            "ticks": "inside"
           }
          },
          "colorscale": {
           "sequential": [
            [
             0,
             "rgb(20,44,66)"
            ],
            [
             1,
             "rgb(90,179,244)"
            ]
           ],
           "sequentialminus": [
            [
             0,
             "rgb(20,44,66)"
            ],
            [
             1,
             "rgb(90,179,244)"
            ]
           ]
          },
          "colorway": [
           "#F8766D",
           "#A3A500",
           "#00BF7D",
           "#00B0F6",
           "#E76BF3"
          ],
          "font": {
           "color": "rgb(51,51,51)"
          },
          "geo": {
           "bgcolor": "white",
           "lakecolor": "white",
           "landcolor": "rgb(237,237,237)",
           "showlakes": true,
           "showland": true,
           "subunitcolor": "white"
          },
          "hoverlabel": {
           "align": "left"
          },
          "hovermode": "closest",
          "paper_bgcolor": "white",
          "plot_bgcolor": "rgb(237,237,237)",
          "polar": {
           "angularaxis": {
            "gridcolor": "white",
            "linecolor": "white",
            "showgrid": true,
            "tickcolor": "rgb(51,51,51)",
            "ticks": "outside"
           },
           "bgcolor": "rgb(237,237,237)",
           "radialaxis": {
            "gridcolor": "white",
            "linecolor": "white",
            "showgrid": true,
            "tickcolor": "rgb(51,51,51)",
            "ticks": "outside"
           }
          },
          "scene": {
           "xaxis": {
            "backgroundcolor": "rgb(237,237,237)",
            "gridcolor": "white",
            "gridwidth": 2,
            "linecolor": "white",
            "showbackground": true,
            "showgrid": true,
            "tickcolor": "rgb(51,51,51)",
            "ticks": "outside",
            "zerolinecolor": "white"
           },
           "yaxis": {
            "backgroundcolor": "rgb(237,237,237)",
            "gridcolor": "white",
            "gridwidth": 2,
            "linecolor": "white",
            "showbackground": true,
            "showgrid": true,
            "tickcolor": "rgb(51,51,51)",
            "ticks": "outside",
            "zerolinecolor": "white"
           },
           "zaxis": {
            "backgroundcolor": "rgb(237,237,237)",
            "gridcolor": "white",
            "gridwidth": 2,
            "linecolor": "white",
            "showbackground": true,
            "showgrid": true,
            "tickcolor": "rgb(51,51,51)",
            "ticks": "outside",
            "zerolinecolor": "white"
           }
          },
          "shapedefaults": {
           "fillcolor": "black",
           "line": {
            "width": 0
           },
           "opacity": 0.3
          },
          "ternary": {
           "aaxis": {
            "gridcolor": "white",
            "linecolor": "white",
            "showgrid": true,
            "tickcolor": "rgb(51,51,51)",
            "ticks": "outside"
           },
           "baxis": {
            "gridcolor": "white",
            "linecolor": "white",
            "showgrid": true,
            "tickcolor": "rgb(51,51,51)",
            "ticks": "outside"
           },
           "bgcolor": "rgb(237,237,237)",
           "caxis": {
            "gridcolor": "white",
            "linecolor": "white",
            "showgrid": true,
            "tickcolor": "rgb(51,51,51)",
            "ticks": "outside"
           }
          },
          "xaxis": {
           "automargin": true,
           "gridcolor": "white",
           "linecolor": "white",
           "showgrid": true,
           "tickcolor": "rgb(51,51,51)",
           "ticks": "outside",
           "title": {
            "standoff": 15
           },
           "zerolinecolor": "white"
          },
          "yaxis": {
           "automargin": true,
           "gridcolor": "white",
           "linecolor": "white",
           "showgrid": true,
           "tickcolor": "rgb(51,51,51)",
           "ticks": "outside",
           "title": {
            "standoff": 15
           },
           "zerolinecolor": "white"
          }
         }
        },
        "title": {
         "text": "Actual vs. Forecast (Out-of-Sample)"
        },
        "xaxis": {
         "anchor": "y",
         "domain": [
          0,
          1
         ]
        },
        "yaxis": {
         "anchor": "x",
         "domain": [
          0,
          1
         ]
        }
       }
      }
     },
     "metadata": {},
     "output_type": "display_data"
    }
   ],
   "source": [
    "exp.plot_model([arima, tuned_arima, huber, tuned_huber], data_kwargs={\"labels\": [\"arima\", \"tuned_arima\", \"huber\", \"tuned_huber\"]})"
   ]
  },
  {
   "cell_type": "code",
   "execution_count": null,
   "metadata": {},
   "outputs": [],
   "source": []
  }
 ],
 "metadata": {
  "kernelspec": {
   "display_name": "Thesis (.venv)",
   "language": "python",
   "name": ".venv"
  },
  "language_info": {
   "codemirror_mode": {
    "name": "ipython",
    "version": 3
   },
   "file_extension": ".py",
   "mimetype": "text/x-python",
   "name": "python",
   "nbconvert_exporter": "python",
   "pygments_lexer": "ipython3",
   "version": "3.9.6"
  }
 },
 "nbformat": 4,
 "nbformat_minor": 2
}
