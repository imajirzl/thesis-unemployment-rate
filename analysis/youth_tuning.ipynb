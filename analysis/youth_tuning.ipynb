{
 "cells": [
  {
   "cell_type": "markdown",
   "metadata": {},
   "source": [
    "# Forecasting Indonesia's Youth Unemployment Rate\n",
    "with feature engineering and optimised setup"
   ]
  },
  {
   "cell_type": "markdown",
   "metadata": {},
   "source": [
    "### importing libraries and data"
   ]
  },
  {
   "cell_type": "code",
   "execution_count": 289,
   "metadata": {},
   "outputs": [],
   "source": [
    "import pandas as pd\n",
    "import seaborn as sns\n",
    "import matplotlib.pyplot as plt"
   ]
  },
  {
   "cell_type": "code",
   "execution_count": 290,
   "metadata": {},
   "outputs": [],
   "source": [
    "df = pd.read_csv('../data_ind_youth.csv')"
   ]
  },
  {
   "cell_type": "code",
   "execution_count": 291,
   "metadata": {},
   "outputs": [],
   "source": [
    "# converting to datetime format\n",
    "df['year_month'] = pd.to_datetime(df['year_month'], format='%Y-%m')\n",
    "# sorting order chronologically\n",
    "df = df.sort_values('year_month').reset_index(drop=True)"
   ]
  },
  {
   "cell_type": "code",
   "execution_count": 292,
   "metadata": {},
   "outputs": [],
   "source": [
    "df_forecast = df.copy()\n",
    "# setting the time period as index\n",
    "df_forecast.set_index('year_month', inplace=True)\n",
    "\n",
    "df_forecast.index = pd.to_datetime(df_forecast.index)\n",
    "df_forecast.index = pd.period_range(start=df_forecast.index[0], periods=len(df_forecast), freq='2Q')"
   ]
  },
  {
   "cell_type": "markdown",
   "metadata": {},
   "source": [
    "### feature engineering and setup"
   ]
  },
  {
   "cell_type": "code",
   "execution_count": 293,
   "metadata": {},
   "outputs": [],
   "source": [
    "from pycaret.time_series import *\n",
    "import numpy as np"
   ]
  },
  {
   "cell_type": "code",
   "execution_count": 294,
   "metadata": {},
   "outputs": [],
   "source": [
    "# feature engineering\n",
    "# lag 1 = unemployment rate of the previous period\n",
    "df_forecast['lag_1'] = df_forecast['Unemployment_Rate'].shift(1)\n",
    "# lag 2 = unemployment rate of two periods ago\n",
    "df_forecast['lag_2'] = df_forecast['Unemployment_Rate'].shift(2)\n",
    "# average unemployment rate of the previous 3 periods - smooths short-term fluctuations\n",
    "df_forecast['rolling_mean_3'] = df_forecast['Unemployment_Rate'].rolling(window=3, closed='left').mean()\n",
    "#df_forecast['rolling_std_3'] = df_forecast['Unemployment_Rate'].rolling(window=3, closed='left').std()\n",
    "\n",
    "df_forecast['quarter'] = df_forecast.index.quarter\n",
    "# drop dows with missing values caused by shifting and rolling mean\n",
    "df_forecast.dropna(inplace=True)"
   ]
  },
  {
   "cell_type": "code",
   "execution_count": 295,
   "metadata": {},
   "outputs": [
    {
     "data": {
      "text/html": [
       "<div>\n",
       "<style scoped>\n",
       "    .dataframe tbody tr th:only-of-type {\n",
       "        vertical-align: middle;\n",
       "    }\n",
       "\n",
       "    .dataframe tbody tr th {\n",
       "        vertical-align: top;\n",
       "    }\n",
       "\n",
       "    .dataframe thead th {\n",
       "        text-align: right;\n",
       "    }\n",
       "</style>\n",
       "<table border=\"1\" class=\"dataframe\">\n",
       "  <thead>\n",
       "    <tr style=\"text-align: right;\">\n",
       "      <th></th>\n",
       "      <th>Unemployment_Rate</th>\n",
       "      <th>lag_1</th>\n",
       "      <th>lag_2</th>\n",
       "      <th>rolling_mean_3</th>\n",
       "      <th>quarter</th>\n",
       "    </tr>\n",
       "  </thead>\n",
       "  <tbody>\n",
       "    <tr>\n",
       "      <th>2009Q3</th>\n",
       "      <td>17.142387</td>\n",
       "      <td>18.040630</td>\n",
       "      <td>18.374399</td>\n",
       "      <td>17.879705</td>\n",
       "      <td>3</td>\n",
       "    </tr>\n",
       "    <tr>\n",
       "      <th>2010Q1</th>\n",
       "      <td>15.775727</td>\n",
       "      <td>17.142387</td>\n",
       "      <td>18.040630</td>\n",
       "      <td>17.852472</td>\n",
       "      <td>1</td>\n",
       "    </tr>\n",
       "    <tr>\n",
       "      <th>2010Q3</th>\n",
       "      <td>15.989462</td>\n",
       "      <td>15.775727</td>\n",
       "      <td>17.142387</td>\n",
       "      <td>16.986248</td>\n",
       "      <td>3</td>\n",
       "    </tr>\n",
       "    <tr>\n",
       "      <th>2011Q1</th>\n",
       "      <td>16.851591</td>\n",
       "      <td>15.989462</td>\n",
       "      <td>15.775727</td>\n",
       "      <td>16.302525</td>\n",
       "      <td>1</td>\n",
       "    </tr>\n",
       "    <tr>\n",
       "      <th>2011Q3</th>\n",
       "      <td>16.717763</td>\n",
       "      <td>16.851591</td>\n",
       "      <td>15.989462</td>\n",
       "      <td>16.205593</td>\n",
       "      <td>3</td>\n",
       "    </tr>\n",
       "  </tbody>\n",
       "</table>\n",
       "</div>"
      ],
      "text/plain": [
       "        Unemployment_Rate      lag_1      lag_2  rolling_mean_3  quarter\n",
       "2009Q3          17.142387  18.040630  18.374399       17.879705        3\n",
       "2010Q1          15.775727  17.142387  18.040630       17.852472        1\n",
       "2010Q3          15.989462  15.775727  17.142387       16.986248        3\n",
       "2011Q1          16.851591  15.989462  15.775727       16.302525        1\n",
       "2011Q3          16.717763  16.851591  15.989462       16.205593        3"
      ]
     },
     "execution_count": 295,
     "metadata": {},
     "output_type": "execute_result"
    }
   ],
   "source": [
    "df_forecast.head()"
   ]
  },
  {
   "cell_type": "code",
   "execution_count": 296,
   "metadata": {},
   "outputs": [
    {
     "data": {
      "text/html": [
       "<style type=\"text/css\">\n",
       "#T_72b6d_row25_col1 {\n",
       "  background-color: lightgreen;\n",
       "}\n",
       "</style>\n",
       "<table id=\"T_72b6d\">\n",
       "  <thead>\n",
       "    <tr>\n",
       "      <th class=\"blank level0\" >&nbsp;</th>\n",
       "      <th id=\"T_72b6d_level0_col0\" class=\"col_heading level0 col0\" >Description</th>\n",
       "      <th id=\"T_72b6d_level0_col1\" class=\"col_heading level0 col1\" >Value</th>\n",
       "    </tr>\n",
       "  </thead>\n",
       "  <tbody>\n",
       "    <tr>\n",
       "      <th id=\"T_72b6d_level0_row0\" class=\"row_heading level0 row0\" >0</th>\n",
       "      <td id=\"T_72b6d_row0_col0\" class=\"data row0 col0\" >session_id</td>\n",
       "      <td id=\"T_72b6d_row0_col1\" class=\"data row0 col1\" >123</td>\n",
       "    </tr>\n",
       "    <tr>\n",
       "      <th id=\"T_72b6d_level0_row1\" class=\"row_heading level0 row1\" >1</th>\n",
       "      <td id=\"T_72b6d_row1_col0\" class=\"data row1 col0\" >Target</td>\n",
       "      <td id=\"T_72b6d_row1_col1\" class=\"data row1 col1\" >Unemployment_Rate</td>\n",
       "    </tr>\n",
       "    <tr>\n",
       "      <th id=\"T_72b6d_level0_row2\" class=\"row_heading level0 row2\" >2</th>\n",
       "      <td id=\"T_72b6d_row2_col0\" class=\"data row2 col0\" >Approach</td>\n",
       "      <td id=\"T_72b6d_row2_col1\" class=\"data row2 col1\" >Univariate</td>\n",
       "    </tr>\n",
       "    <tr>\n",
       "      <th id=\"T_72b6d_level0_row3\" class=\"row_heading level0 row3\" >3</th>\n",
       "      <td id=\"T_72b6d_row3_col0\" class=\"data row3 col0\" >Exogenous Variables</td>\n",
       "      <td id=\"T_72b6d_row3_col1\" class=\"data row3 col1\" >Present</td>\n",
       "    </tr>\n",
       "    <tr>\n",
       "      <th id=\"T_72b6d_level0_row4\" class=\"row_heading level0 row4\" >4</th>\n",
       "      <td id=\"T_72b6d_row4_col0\" class=\"data row4 col0\" >Original data shape</td>\n",
       "      <td id=\"T_72b6d_row4_col1\" class=\"data row4 col1\" >(31, 5)</td>\n",
       "    </tr>\n",
       "    <tr>\n",
       "      <th id=\"T_72b6d_level0_row5\" class=\"row_heading level0 row5\" >5</th>\n",
       "      <td id=\"T_72b6d_row5_col0\" class=\"data row5 col0\" >Transformed data shape</td>\n",
       "      <td id=\"T_72b6d_row5_col1\" class=\"data row5 col1\" >(31, 5)</td>\n",
       "    </tr>\n",
       "    <tr>\n",
       "      <th id=\"T_72b6d_level0_row6\" class=\"row_heading level0 row6\" >6</th>\n",
       "      <td id=\"T_72b6d_row6_col0\" class=\"data row6 col0\" >Transformed train set shape</td>\n",
       "      <td id=\"T_72b6d_row6_col1\" class=\"data row6 col1\" >(25, 5)</td>\n",
       "    </tr>\n",
       "    <tr>\n",
       "      <th id=\"T_72b6d_level0_row7\" class=\"row_heading level0 row7\" >7</th>\n",
       "      <td id=\"T_72b6d_row7_col0\" class=\"data row7 col0\" >Transformed test set shape</td>\n",
       "      <td id=\"T_72b6d_row7_col1\" class=\"data row7 col1\" >(6, 5)</td>\n",
       "    </tr>\n",
       "    <tr>\n",
       "      <th id=\"T_72b6d_level0_row8\" class=\"row_heading level0 row8\" >8</th>\n",
       "      <td id=\"T_72b6d_row8_col0\" class=\"data row8 col0\" >Rows with missing values</td>\n",
       "      <td id=\"T_72b6d_row8_col1\" class=\"data row8 col1\" >0.0%</td>\n",
       "    </tr>\n",
       "    <tr>\n",
       "      <th id=\"T_72b6d_level0_row9\" class=\"row_heading level0 row9\" >9</th>\n",
       "      <td id=\"T_72b6d_row9_col0\" class=\"data row9 col0\" >Fold Generator</td>\n",
       "      <td id=\"T_72b6d_row9_col1\" class=\"data row9 col1\" >ExpandingWindowSplitter</td>\n",
       "    </tr>\n",
       "    <tr>\n",
       "      <th id=\"T_72b6d_level0_row10\" class=\"row_heading level0 row10\" >10</th>\n",
       "      <td id=\"T_72b6d_row10_col0\" class=\"data row10 col0\" >Fold Number</td>\n",
       "      <td id=\"T_72b6d_row10_col1\" class=\"data row10 col1\" >3</td>\n",
       "    </tr>\n",
       "    <tr>\n",
       "      <th id=\"T_72b6d_level0_row11\" class=\"row_heading level0 row11\" >11</th>\n",
       "      <td id=\"T_72b6d_row11_col0\" class=\"data row11 col0\" >Enforce Prediction Interval</td>\n",
       "      <td id=\"T_72b6d_row11_col1\" class=\"data row11 col1\" >False</td>\n",
       "    </tr>\n",
       "    <tr>\n",
       "      <th id=\"T_72b6d_level0_row12\" class=\"row_heading level0 row12\" >12</th>\n",
       "      <td id=\"T_72b6d_row12_col0\" class=\"data row12 col0\" >Splits used for hyperparameters</td>\n",
       "      <td id=\"T_72b6d_row12_col1\" class=\"data row12 col1\" >all</td>\n",
       "    </tr>\n",
       "    <tr>\n",
       "      <th id=\"T_72b6d_level0_row13\" class=\"row_heading level0 row13\" >13</th>\n",
       "      <td id=\"T_72b6d_row13_col0\" class=\"data row13 col0\" >User Defined Seasonal Period(s)</td>\n",
       "      <td id=\"T_72b6d_row13_col1\" class=\"data row13 col1\" >[2, 4]</td>\n",
       "    </tr>\n",
       "    <tr>\n",
       "      <th id=\"T_72b6d_level0_row14\" class=\"row_heading level0 row14\" >14</th>\n",
       "      <td id=\"T_72b6d_row14_col0\" class=\"data row14 col0\" >Ignore Seasonality Test</td>\n",
       "      <td id=\"T_72b6d_row14_col1\" class=\"data row14 col1\" >False</td>\n",
       "    </tr>\n",
       "    <tr>\n",
       "      <th id=\"T_72b6d_level0_row15\" class=\"row_heading level0 row15\" >15</th>\n",
       "      <td id=\"T_72b6d_row15_col0\" class=\"data row15 col0\" >Seasonality Detection Algo</td>\n",
       "      <td id=\"T_72b6d_row15_col1\" class=\"data row15 col1\" >user_defined</td>\n",
       "    </tr>\n",
       "    <tr>\n",
       "      <th id=\"T_72b6d_level0_row16\" class=\"row_heading level0 row16\" >16</th>\n",
       "      <td id=\"T_72b6d_row16_col0\" class=\"data row16 col0\" >Max Period to Consider</td>\n",
       "      <td id=\"T_72b6d_row16_col1\" class=\"data row16 col1\" >60</td>\n",
       "    </tr>\n",
       "    <tr>\n",
       "      <th id=\"T_72b6d_level0_row17\" class=\"row_heading level0 row17\" >17</th>\n",
       "      <td id=\"T_72b6d_row17_col0\" class=\"data row17 col0\" >Seasonal Period(s) Tested</td>\n",
       "      <td id=\"T_72b6d_row17_col1\" class=\"data row17 col1\" >[2, 4]</td>\n",
       "    </tr>\n",
       "    <tr>\n",
       "      <th id=\"T_72b6d_level0_row18\" class=\"row_heading level0 row18\" >18</th>\n",
       "      <td id=\"T_72b6d_row18_col0\" class=\"data row18 col0\" >Significant Seasonal Period(s)</td>\n",
       "      <td id=\"T_72b6d_row18_col1\" class=\"data row18 col1\" >[2, 4]</td>\n",
       "    </tr>\n",
       "    <tr>\n",
       "      <th id=\"T_72b6d_level0_row19\" class=\"row_heading level0 row19\" >19</th>\n",
       "      <td id=\"T_72b6d_row19_col0\" class=\"data row19 col0\" >Significant Seasonal Period(s) without Harmonics</td>\n",
       "      <td id=\"T_72b6d_row19_col1\" class=\"data row19 col1\" >[4]</td>\n",
       "    </tr>\n",
       "    <tr>\n",
       "      <th id=\"T_72b6d_level0_row20\" class=\"row_heading level0 row20\" >20</th>\n",
       "      <td id=\"T_72b6d_row20_col0\" class=\"data row20 col0\" >Remove Harmonics</td>\n",
       "      <td id=\"T_72b6d_row20_col1\" class=\"data row20 col1\" >False</td>\n",
       "    </tr>\n",
       "    <tr>\n",
       "      <th id=\"T_72b6d_level0_row21\" class=\"row_heading level0 row21\" >21</th>\n",
       "      <td id=\"T_72b6d_row21_col0\" class=\"data row21 col0\" >Harmonics Order Method</td>\n",
       "      <td id=\"T_72b6d_row21_col1\" class=\"data row21 col1\" >harmonic_max</td>\n",
       "    </tr>\n",
       "    <tr>\n",
       "      <th id=\"T_72b6d_level0_row22\" class=\"row_heading level0 row22\" >22</th>\n",
       "      <td id=\"T_72b6d_row22_col0\" class=\"data row22 col0\" >Num Seasonalities to Use</td>\n",
       "      <td id=\"T_72b6d_row22_col1\" class=\"data row22 col1\" >1</td>\n",
       "    </tr>\n",
       "    <tr>\n",
       "      <th id=\"T_72b6d_level0_row23\" class=\"row_heading level0 row23\" >23</th>\n",
       "      <td id=\"T_72b6d_row23_col0\" class=\"data row23 col0\" >All Seasonalities to Use</td>\n",
       "      <td id=\"T_72b6d_row23_col1\" class=\"data row23 col1\" >[2]</td>\n",
       "    </tr>\n",
       "    <tr>\n",
       "      <th id=\"T_72b6d_level0_row24\" class=\"row_heading level0 row24\" >24</th>\n",
       "      <td id=\"T_72b6d_row24_col0\" class=\"data row24 col0\" >Primary Seasonality</td>\n",
       "      <td id=\"T_72b6d_row24_col1\" class=\"data row24 col1\" >2</td>\n",
       "    </tr>\n",
       "    <tr>\n",
       "      <th id=\"T_72b6d_level0_row25\" class=\"row_heading level0 row25\" >25</th>\n",
       "      <td id=\"T_72b6d_row25_col0\" class=\"data row25 col0\" >Seasonality Present</td>\n",
       "      <td id=\"T_72b6d_row25_col1\" class=\"data row25 col1\" >True</td>\n",
       "    </tr>\n",
       "    <tr>\n",
       "      <th id=\"T_72b6d_level0_row26\" class=\"row_heading level0 row26\" >26</th>\n",
       "      <td id=\"T_72b6d_row26_col0\" class=\"data row26 col0\" >Seasonality Type</td>\n",
       "      <td id=\"T_72b6d_row26_col1\" class=\"data row26 col1\" >mul</td>\n",
       "    </tr>\n",
       "    <tr>\n",
       "      <th id=\"T_72b6d_level0_row27\" class=\"row_heading level0 row27\" >27</th>\n",
       "      <td id=\"T_72b6d_row27_col0\" class=\"data row27 col0\" >Target Strictly Positive</td>\n",
       "      <td id=\"T_72b6d_row27_col1\" class=\"data row27 col1\" >True</td>\n",
       "    </tr>\n",
       "    <tr>\n",
       "      <th id=\"T_72b6d_level0_row28\" class=\"row_heading level0 row28\" >28</th>\n",
       "      <td id=\"T_72b6d_row28_col0\" class=\"data row28 col0\" >Target White Noise</td>\n",
       "      <td id=\"T_72b6d_row28_col1\" class=\"data row28 col1\" >No</td>\n",
       "    </tr>\n",
       "    <tr>\n",
       "      <th id=\"T_72b6d_level0_row29\" class=\"row_heading level0 row29\" >29</th>\n",
       "      <td id=\"T_72b6d_row29_col0\" class=\"data row29 col0\" >Recommended d</td>\n",
       "      <td id=\"T_72b6d_row29_col1\" class=\"data row29 col1\" >1</td>\n",
       "    </tr>\n",
       "    <tr>\n",
       "      <th id=\"T_72b6d_level0_row30\" class=\"row_heading level0 row30\" >30</th>\n",
       "      <td id=\"T_72b6d_row30_col0\" class=\"data row30 col0\" >Recommended Seasonal D</td>\n",
       "      <td id=\"T_72b6d_row30_col1\" class=\"data row30 col1\" >2</td>\n",
       "    </tr>\n",
       "    <tr>\n",
       "      <th id=\"T_72b6d_level0_row31\" class=\"row_heading level0 row31\" >31</th>\n",
       "      <td id=\"T_72b6d_row31_col0\" class=\"data row31 col0\" >Preprocess</td>\n",
       "      <td id=\"T_72b6d_row31_col1\" class=\"data row31 col1\" >False</td>\n",
       "    </tr>\n",
       "    <tr>\n",
       "      <th id=\"T_72b6d_level0_row32\" class=\"row_heading level0 row32\" >32</th>\n",
       "      <td id=\"T_72b6d_row32_col0\" class=\"data row32 col0\" >CPU Jobs</td>\n",
       "      <td id=\"T_72b6d_row32_col1\" class=\"data row32 col1\" >-1</td>\n",
       "    </tr>\n",
       "    <tr>\n",
       "      <th id=\"T_72b6d_level0_row33\" class=\"row_heading level0 row33\" >33</th>\n",
       "      <td id=\"T_72b6d_row33_col0\" class=\"data row33 col0\" >Use GPU</td>\n",
       "      <td id=\"T_72b6d_row33_col1\" class=\"data row33 col1\" >False</td>\n",
       "    </tr>\n",
       "    <tr>\n",
       "      <th id=\"T_72b6d_level0_row34\" class=\"row_heading level0 row34\" >34</th>\n",
       "      <td id=\"T_72b6d_row34_col0\" class=\"data row34 col0\" >Log Experiment</td>\n",
       "      <td id=\"T_72b6d_row34_col1\" class=\"data row34 col1\" >False</td>\n",
       "    </tr>\n",
       "    <tr>\n",
       "      <th id=\"T_72b6d_level0_row35\" class=\"row_heading level0 row35\" >35</th>\n",
       "      <td id=\"T_72b6d_row35_col0\" class=\"data row35 col0\" >Experiment Name</td>\n",
       "      <td id=\"T_72b6d_row35_col1\" class=\"data row35 col1\" >ts-default-name</td>\n",
       "    </tr>\n",
       "    <tr>\n",
       "      <th id=\"T_72b6d_level0_row36\" class=\"row_heading level0 row36\" >36</th>\n",
       "      <td id=\"T_72b6d_row36_col0\" class=\"data row36 col0\" >USI</td>\n",
       "      <td id=\"T_72b6d_row36_col1\" class=\"data row36 col1\" >ad54</td>\n",
       "    </tr>\n",
       "  </tbody>\n",
       "</table>\n"
      ],
      "text/plain": [
       "<pandas.io.formats.style.Styler at 0x16d2915e0>"
      ]
     },
     "metadata": {},
     "output_type": "display_data"
    }
   ],
   "source": [
    "# setup\n",
    "# differences = box-cox transformation, explicitly specifying seasonal periods\n",
    "exp = setup(\n",
    "    data=df_forecast,\n",
    "    target='Unemployment_Rate',\n",
    "    fh=6,\n",
    "    session_id=123,\n",
    "    #transform_target='box-cox',\n",
    "    seasonal_period=[2, 4]\n",
    ")"
   ]
  },
  {
   "cell_type": "markdown",
   "metadata": {},
   "source": [
    "### statistics"
   ]
  },
  {
   "cell_type": "code",
   "execution_count": 297,
   "metadata": {},
   "outputs": [
    {
     "data": {
      "text/html": [
       "<div>\n",
       "<style scoped>\n",
       "    .dataframe tbody tr th:only-of-type {\n",
       "        vertical-align: middle;\n",
       "    }\n",
       "\n",
       "    .dataframe tbody tr th {\n",
       "        vertical-align: top;\n",
       "    }\n",
       "\n",
       "    .dataframe thead th {\n",
       "        text-align: right;\n",
       "    }\n",
       "</style>\n",
       "<table border=\"1\" class=\"dataframe\">\n",
       "  <thead>\n",
       "    <tr style=\"text-align: right;\">\n",
       "      <th></th>\n",
       "      <th>Test</th>\n",
       "      <th>Test Name</th>\n",
       "      <th>Data</th>\n",
       "      <th>Property</th>\n",
       "      <th>Setting</th>\n",
       "      <th>Value</th>\n",
       "    </tr>\n",
       "  </thead>\n",
       "  <tbody>\n",
       "    <tr>\n",
       "      <th>0</th>\n",
       "      <td>Summary</td>\n",
       "      <td>Statistics</td>\n",
       "      <td>Transformed</td>\n",
       "      <td>Length</td>\n",
       "      <td></td>\n",
       "      <td>31.0</td>\n",
       "    </tr>\n",
       "    <tr>\n",
       "      <th>1</th>\n",
       "      <td>Summary</td>\n",
       "      <td>Statistics</td>\n",
       "      <td>Transformed</td>\n",
       "      <td># Missing Values</td>\n",
       "      <td></td>\n",
       "      <td>0.0</td>\n",
       "    </tr>\n",
       "    <tr>\n",
       "      <th>2</th>\n",
       "      <td>Summary</td>\n",
       "      <td>Statistics</td>\n",
       "      <td>Transformed</td>\n",
       "      <td>Mean</td>\n",
       "      <td></td>\n",
       "      <td>14.299465</td>\n",
       "    </tr>\n",
       "    <tr>\n",
       "      <th>3</th>\n",
       "      <td>Summary</td>\n",
       "      <td>Statistics</td>\n",
       "      <td>Transformed</td>\n",
       "      <td>Median</td>\n",
       "      <td></td>\n",
       "      <td>14.186109</td>\n",
       "    </tr>\n",
       "    <tr>\n",
       "      <th>4</th>\n",
       "      <td>Summary</td>\n",
       "      <td>Statistics</td>\n",
       "      <td>Transformed</td>\n",
       "      <td>Standard Deviation</td>\n",
       "      <td></td>\n",
       "      <td>1.57381</td>\n",
       "    </tr>\n",
       "    <tr>\n",
       "      <th>5</th>\n",
       "      <td>Summary</td>\n",
       "      <td>Statistics</td>\n",
       "      <td>Transformed</td>\n",
       "      <td>Variance</td>\n",
       "      <td></td>\n",
       "      <td>2.476878</td>\n",
       "    </tr>\n",
       "    <tr>\n",
       "      <th>6</th>\n",
       "      <td>Summary</td>\n",
       "      <td>Statistics</td>\n",
       "      <td>Transformed</td>\n",
       "      <td>Kurtosis</td>\n",
       "      <td></td>\n",
       "      <td>-1.08518</td>\n",
       "    </tr>\n",
       "    <tr>\n",
       "      <th>7</th>\n",
       "      <td>Summary</td>\n",
       "      <td>Statistics</td>\n",
       "      <td>Transformed</td>\n",
       "      <td>Skewness</td>\n",
       "      <td></td>\n",
       "      <td>0.147363</td>\n",
       "    </tr>\n",
       "    <tr>\n",
       "      <th>8</th>\n",
       "      <td>Summary</td>\n",
       "      <td>Statistics</td>\n",
       "      <td>Transformed</td>\n",
       "      <td># Distinct Values</td>\n",
       "      <td></td>\n",
       "      <td>31.0</td>\n",
       "    </tr>\n",
       "    <tr>\n",
       "      <th>9</th>\n",
       "      <td>White Noise</td>\n",
       "      <td>Ljung-Box</td>\n",
       "      <td>Transformed</td>\n",
       "      <td>Test Statictic</td>\n",
       "      <td>{'alpha': 0.05, 'K': 24}</td>\n",
       "      <td>68.079361</td>\n",
       "    </tr>\n",
       "    <tr>\n",
       "      <th>10</th>\n",
       "      <td>White Noise</td>\n",
       "      <td>Ljung-Box</td>\n",
       "      <td>Transformed</td>\n",
       "      <td>p-value</td>\n",
       "      <td>{'alpha': 0.05, 'K': 24}</td>\n",
       "      <td>0.000004</td>\n",
       "    </tr>\n",
       "    <tr>\n",
       "      <th>11</th>\n",
       "      <td>White Noise</td>\n",
       "      <td>Ljung-Box</td>\n",
       "      <td>Transformed</td>\n",
       "      <td>White Noise</td>\n",
       "      <td>{'alpha': 0.05, 'K': 24}</td>\n",
       "      <td>0.0</td>\n",
       "    </tr>\n",
       "    <tr>\n",
       "      <th>12</th>\n",
       "      <td>Stationarity</td>\n",
       "      <td>ADF</td>\n",
       "      <td>Transformed</td>\n",
       "      <td>Stationarity</td>\n",
       "      <td>{'alpha': 0.05}</td>\n",
       "      <td>False</td>\n",
       "    </tr>\n",
       "    <tr>\n",
       "      <th>13</th>\n",
       "      <td>Stationarity</td>\n",
       "      <td>ADF</td>\n",
       "      <td>Transformed</td>\n",
       "      <td>p-value</td>\n",
       "      <td>{'alpha': 0.05}</td>\n",
       "      <td>0.297107</td>\n",
       "    </tr>\n",
       "    <tr>\n",
       "      <th>14</th>\n",
       "      <td>Stationarity</td>\n",
       "      <td>ADF</td>\n",
       "      <td>Transformed</td>\n",
       "      <td>Test Statistic</td>\n",
       "      <td>{'alpha': 0.05}</td>\n",
       "      <td>-1.976196</td>\n",
       "    </tr>\n",
       "    <tr>\n",
       "      <th>15</th>\n",
       "      <td>Stationarity</td>\n",
       "      <td>ADF</td>\n",
       "      <td>Transformed</td>\n",
       "      <td>Critical Value 1%</td>\n",
       "      <td>{'alpha': 0.05}</td>\n",
       "      <td>-3.688926</td>\n",
       "    </tr>\n",
       "    <tr>\n",
       "      <th>16</th>\n",
       "      <td>Stationarity</td>\n",
       "      <td>ADF</td>\n",
       "      <td>Transformed</td>\n",
       "      <td>Critical Value 5%</td>\n",
       "      <td>{'alpha': 0.05}</td>\n",
       "      <td>-2.971989</td>\n",
       "    </tr>\n",
       "    <tr>\n",
       "      <th>17</th>\n",
       "      <td>Stationarity</td>\n",
       "      <td>ADF</td>\n",
       "      <td>Transformed</td>\n",
       "      <td>Critical Value 10%</td>\n",
       "      <td>{'alpha': 0.05}</td>\n",
       "      <td>-2.625296</td>\n",
       "    </tr>\n",
       "    <tr>\n",
       "      <th>18</th>\n",
       "      <td>Stationarity</td>\n",
       "      <td>KPSS</td>\n",
       "      <td>Transformed</td>\n",
       "      <td>Trend Stationarity</td>\n",
       "      <td>{'alpha': 0.05}</td>\n",
       "      <td>True</td>\n",
       "    </tr>\n",
       "    <tr>\n",
       "      <th>19</th>\n",
       "      <td>Stationarity</td>\n",
       "      <td>KPSS</td>\n",
       "      <td>Transformed</td>\n",
       "      <td>p-value</td>\n",
       "      <td>{'alpha': 0.05}</td>\n",
       "      <td>0.092408</td>\n",
       "    </tr>\n",
       "    <tr>\n",
       "      <th>20</th>\n",
       "      <td>Stationarity</td>\n",
       "      <td>KPSS</td>\n",
       "      <td>Transformed</td>\n",
       "      <td>Test Statistic</td>\n",
       "      <td>{'alpha': 0.05}</td>\n",
       "      <td>0.1231</td>\n",
       "    </tr>\n",
       "    <tr>\n",
       "      <th>21</th>\n",
       "      <td>Stationarity</td>\n",
       "      <td>KPSS</td>\n",
       "      <td>Transformed</td>\n",
       "      <td>Critical Value 10%</td>\n",
       "      <td>{'alpha': 0.05}</td>\n",
       "      <td>0.119</td>\n",
       "    </tr>\n",
       "    <tr>\n",
       "      <th>22</th>\n",
       "      <td>Stationarity</td>\n",
       "      <td>KPSS</td>\n",
       "      <td>Transformed</td>\n",
       "      <td>Critical Value 5%</td>\n",
       "      <td>{'alpha': 0.05}</td>\n",
       "      <td>0.146</td>\n",
       "    </tr>\n",
       "    <tr>\n",
       "      <th>23</th>\n",
       "      <td>Stationarity</td>\n",
       "      <td>KPSS</td>\n",
       "      <td>Transformed</td>\n",
       "      <td>Critical Value 2.5%</td>\n",
       "      <td>{'alpha': 0.05}</td>\n",
       "      <td>0.176</td>\n",
       "    </tr>\n",
       "    <tr>\n",
       "      <th>24</th>\n",
       "      <td>Stationarity</td>\n",
       "      <td>KPSS</td>\n",
       "      <td>Transformed</td>\n",
       "      <td>Critical Value 1%</td>\n",
       "      <td>{'alpha': 0.05}</td>\n",
       "      <td>0.216</td>\n",
       "    </tr>\n",
       "    <tr>\n",
       "      <th>25</th>\n",
       "      <td>Normality</td>\n",
       "      <td>Shapiro</td>\n",
       "      <td>Transformed</td>\n",
       "      <td>Normality</td>\n",
       "      <td>{'alpha': 0.05}</td>\n",
       "      <td>True</td>\n",
       "    </tr>\n",
       "    <tr>\n",
       "      <th>26</th>\n",
       "      <td>Normality</td>\n",
       "      <td>Shapiro</td>\n",
       "      <td>Transformed</td>\n",
       "      <td>p-value</td>\n",
       "      <td>{'alpha': 0.05}</td>\n",
       "      <td>0.186699</td>\n",
       "    </tr>\n",
       "  </tbody>\n",
       "</table>\n",
       "</div>"
      ],
      "text/plain": [
       "            Test   Test Name         Data             Property  \\\n",
       "0        Summary  Statistics  Transformed               Length   \n",
       "1        Summary  Statistics  Transformed     # Missing Values   \n",
       "2        Summary  Statistics  Transformed                 Mean   \n",
       "3        Summary  Statistics  Transformed               Median   \n",
       "4        Summary  Statistics  Transformed   Standard Deviation   \n",
       "5        Summary  Statistics  Transformed             Variance   \n",
       "6        Summary  Statistics  Transformed             Kurtosis   \n",
       "7        Summary  Statistics  Transformed             Skewness   \n",
       "8        Summary  Statistics  Transformed    # Distinct Values   \n",
       "9    White Noise   Ljung-Box  Transformed       Test Statictic   \n",
       "10   White Noise   Ljung-Box  Transformed              p-value   \n",
       "11   White Noise   Ljung-Box  Transformed          White Noise   \n",
       "12  Stationarity         ADF  Transformed         Stationarity   \n",
       "13  Stationarity         ADF  Transformed              p-value   \n",
       "14  Stationarity         ADF  Transformed       Test Statistic   \n",
       "15  Stationarity         ADF  Transformed    Critical Value 1%   \n",
       "16  Stationarity         ADF  Transformed    Critical Value 5%   \n",
       "17  Stationarity         ADF  Transformed   Critical Value 10%   \n",
       "18  Stationarity        KPSS  Transformed   Trend Stationarity   \n",
       "19  Stationarity        KPSS  Transformed              p-value   \n",
       "20  Stationarity        KPSS  Transformed       Test Statistic   \n",
       "21  Stationarity        KPSS  Transformed   Critical Value 10%   \n",
       "22  Stationarity        KPSS  Transformed    Critical Value 5%   \n",
       "23  Stationarity        KPSS  Transformed  Critical Value 2.5%   \n",
       "24  Stationarity        KPSS  Transformed    Critical Value 1%   \n",
       "25     Normality     Shapiro  Transformed            Normality   \n",
       "26     Normality     Shapiro  Transformed              p-value   \n",
       "\n",
       "                     Setting      Value  \n",
       "0                                  31.0  \n",
       "1                                   0.0  \n",
       "2                             14.299465  \n",
       "3                             14.186109  \n",
       "4                               1.57381  \n",
       "5                              2.476878  \n",
       "6                              -1.08518  \n",
       "7                              0.147363  \n",
       "8                                  31.0  \n",
       "9   {'alpha': 0.05, 'K': 24}  68.079361  \n",
       "10  {'alpha': 0.05, 'K': 24}   0.000004  \n",
       "11  {'alpha': 0.05, 'K': 24}        0.0  \n",
       "12           {'alpha': 0.05}      False  \n",
       "13           {'alpha': 0.05}   0.297107  \n",
       "14           {'alpha': 0.05}  -1.976196  \n",
       "15           {'alpha': 0.05}  -3.688926  \n",
       "16           {'alpha': 0.05}  -2.971989  \n",
       "17           {'alpha': 0.05}  -2.625296  \n",
       "18           {'alpha': 0.05}       True  \n",
       "19           {'alpha': 0.05}   0.092408  \n",
       "20           {'alpha': 0.05}     0.1231  \n",
       "21           {'alpha': 0.05}      0.119  \n",
       "22           {'alpha': 0.05}      0.146  \n",
       "23           {'alpha': 0.05}      0.176  \n",
       "24           {'alpha': 0.05}      0.216  \n",
       "25           {'alpha': 0.05}       True  \n",
       "26           {'alpha': 0.05}   0.186699  "
      ]
     },
     "execution_count": 297,
     "metadata": {},
     "output_type": "execute_result"
    }
   ],
   "source": [
    "check_stats()"
   ]
  },
  {
   "cell_type": "markdown",
   "metadata": {},
   "source": [
    "### model comparisons"
   ]
  },
  {
   "cell_type": "code",
   "execution_count": 314,
   "metadata": {},
   "outputs": [],
   "source": [
    "incl_models = pycaret_time_series_models = [\n",
    "    'gbr_cds_dt',       \n",
    "    'ada_cds_dt',       \n",
    "    'rf_cds_dt',        \n",
    "    'knn_cds_dt',       \n",
    "    #'theta',           \n",
    "    'dt_cds_dt',        \n",
    "    #'exp_smooth',       \n",
    "    #'ets',              \n",
    "    #'lr_cds_dt',        \n",
    "    'omp_cds_dt',       \n",
    "    'ridge_cds_dt',     \n",
    "    'huber_cds_dt',     \n",
    "    'br_cds_dt',        \n",
    "    'en_cds_dt',        \n",
    "    'lasso_cds_dt',     \n",
    "    'llar_cds_dt',      \n",
    "    'lightgbm_cds_dt',  \n",
    "    'et_cds_dt',        \n",
    "    'arima',            \n",
    "    #'polytrend',        \n",
    "    'croston',          \n",
    "    #'naive',            \n",
    "    #'grand_means'       \n",
    "]"
   ]
  },
  {
   "cell_type": "code",
   "execution_count": 315,
   "metadata": {},
   "outputs": [
    {
     "data": {
      "text/html": [],
      "text/plain": [
       "<IPython.core.display.HTML object>"
      ]
     },
     "metadata": {},
     "output_type": "display_data"
    },
    {
     "data": {
      "text/html": [
       "<style type=\"text/css\">\n",
       "#T_4f680 th {\n",
       "  text-align: left;\n",
       "}\n",
       "#T_4f680_row0_col0, #T_4f680_row1_col0, #T_4f680_row1_col1, #T_4f680_row1_col2, #T_4f680_row1_col3, #T_4f680_row1_col4, #T_4f680_row1_col5, #T_4f680_row1_col6, #T_4f680_row1_col7, #T_4f680_row2_col0, #T_4f680_row2_col1, #T_4f680_row2_col2, #T_4f680_row2_col3, #T_4f680_row2_col4, #T_4f680_row2_col5, #T_4f680_row2_col6, #T_4f680_row2_col7, #T_4f680_row3_col0, #T_4f680_row3_col1, #T_4f680_row3_col2, #T_4f680_row3_col3, #T_4f680_row3_col4, #T_4f680_row3_col5, #T_4f680_row3_col6, #T_4f680_row3_col7, #T_4f680_row4_col0, #T_4f680_row4_col1, #T_4f680_row4_col2, #T_4f680_row4_col3, #T_4f680_row4_col4, #T_4f680_row4_col5, #T_4f680_row4_col6, #T_4f680_row4_col7, #T_4f680_row5_col0, #T_4f680_row5_col1, #T_4f680_row5_col2, #T_4f680_row5_col3, #T_4f680_row5_col4, #T_4f680_row5_col5, #T_4f680_row5_col6, #T_4f680_row5_col7, #T_4f680_row6_col0, #T_4f680_row6_col1, #T_4f680_row6_col2, #T_4f680_row6_col3, #T_4f680_row6_col4, #T_4f680_row6_col5, #T_4f680_row6_col6, #T_4f680_row6_col7, #T_4f680_row7_col0, #T_4f680_row7_col1, #T_4f680_row7_col2, #T_4f680_row7_col3, #T_4f680_row7_col4, #T_4f680_row7_col5, #T_4f680_row7_col6, #T_4f680_row7_col7, #T_4f680_row8_col0, #T_4f680_row8_col1, #T_4f680_row8_col2, #T_4f680_row8_col3, #T_4f680_row8_col4, #T_4f680_row8_col5, #T_4f680_row8_col6, #T_4f680_row8_col7, #T_4f680_row9_col0, #T_4f680_row9_col1, #T_4f680_row9_col2, #T_4f680_row9_col3, #T_4f680_row9_col4, #T_4f680_row9_col5, #T_4f680_row9_col6, #T_4f680_row9_col7, #T_4f680_row10_col0, #T_4f680_row10_col1, #T_4f680_row10_col2, #T_4f680_row10_col3, #T_4f680_row10_col4, #T_4f680_row10_col5, #T_4f680_row10_col6, #T_4f680_row10_col7, #T_4f680_row11_col0, #T_4f680_row11_col1, #T_4f680_row11_col2, #T_4f680_row11_col3, #T_4f680_row11_col4, #T_4f680_row11_col5, #T_4f680_row11_col6, #T_4f680_row11_col7, #T_4f680_row12_col0, #T_4f680_row12_col1, #T_4f680_row12_col2, #T_4f680_row12_col3, #T_4f680_row12_col4, #T_4f680_row12_col5, #T_4f680_row12_col6, #T_4f680_row12_col7, #T_4f680_row13_col0, #T_4f680_row13_col1, #T_4f680_row13_col2, #T_4f680_row13_col3, #T_4f680_row13_col4, #T_4f680_row13_col5, #T_4f680_row13_col6, #T_4f680_row13_col7, #T_4f680_row14_col0, #T_4f680_row14_col1, #T_4f680_row14_col2, #T_4f680_row14_col3, #T_4f680_row14_col4, #T_4f680_row14_col5, #T_4f680_row14_col6, #T_4f680_row14_col7, #T_4f680_row15_col0, #T_4f680_row15_col1, #T_4f680_row15_col2, #T_4f680_row15_col3, #T_4f680_row15_col4, #T_4f680_row15_col5, #T_4f680_row15_col6, #T_4f680_row15_col7 {\n",
       "  text-align: left;\n",
       "}\n",
       "#T_4f680_row0_col1, #T_4f680_row0_col2, #T_4f680_row0_col3, #T_4f680_row0_col4, #T_4f680_row0_col5, #T_4f680_row0_col6, #T_4f680_row0_col7 {\n",
       "  text-align: left;\n",
       "  background-color: yellow;\n",
       "}\n",
       "#T_4f680_row0_col8, #T_4f680_row1_col8, #T_4f680_row2_col8, #T_4f680_row3_col8, #T_4f680_row4_col8, #T_4f680_row5_col8, #T_4f680_row6_col8, #T_4f680_row7_col8, #T_4f680_row8_col8, #T_4f680_row9_col8, #T_4f680_row10_col8, #T_4f680_row11_col8, #T_4f680_row12_col8, #T_4f680_row13_col8, #T_4f680_row15_col8 {\n",
       "  text-align: left;\n",
       "  background-color: lightgrey;\n",
       "}\n",
       "#T_4f680_row14_col8 {\n",
       "  text-align: left;\n",
       "  background-color: yellow;\n",
       "  background-color: lightgrey;\n",
       "}\n",
       "</style>\n",
       "<table id=\"T_4f680\">\n",
       "  <thead>\n",
       "    <tr>\n",
       "      <th class=\"blank level0\" >&nbsp;</th>\n",
       "      <th id=\"T_4f680_level0_col0\" class=\"col_heading level0 col0\" >Model</th>\n",
       "      <th id=\"T_4f680_level0_col1\" class=\"col_heading level0 col1\" >MASE</th>\n",
       "      <th id=\"T_4f680_level0_col2\" class=\"col_heading level0 col2\" >RMSSE</th>\n",
       "      <th id=\"T_4f680_level0_col3\" class=\"col_heading level0 col3\" >MAE</th>\n",
       "      <th id=\"T_4f680_level0_col4\" class=\"col_heading level0 col4\" >RMSE</th>\n",
       "      <th id=\"T_4f680_level0_col5\" class=\"col_heading level0 col5\" >MAPE</th>\n",
       "      <th id=\"T_4f680_level0_col6\" class=\"col_heading level0 col6\" >SMAPE</th>\n",
       "      <th id=\"T_4f680_level0_col7\" class=\"col_heading level0 col7\" >R2</th>\n",
       "      <th id=\"T_4f680_level0_col8\" class=\"col_heading level0 col8\" >TT (Sec)</th>\n",
       "    </tr>\n",
       "  </thead>\n",
       "  <tbody>\n",
       "    <tr>\n",
       "      <th id=\"T_4f680_level0_row0\" class=\"row_heading level0 row0\" >et_cds_dt</th>\n",
       "      <td id=\"T_4f680_row0_col0\" class=\"data row0 col0\" >Extra Trees w/ Cond. Deseasonalize & Detrending</td>\n",
       "      <td id=\"T_4f680_row0_col1\" class=\"data row0 col1\" >0.8726</td>\n",
       "      <td id=\"T_4f680_row0_col2\" class=\"data row0 col2\" >0.9339</td>\n",
       "      <td id=\"T_4f680_row0_col3\" class=\"data row0 col3\" >1.1416</td>\n",
       "      <td id=\"T_4f680_row0_col4\" class=\"data row0 col4\" >1.3724</td>\n",
       "      <td id=\"T_4f680_row0_col5\" class=\"data row0 col5\" >0.0780</td>\n",
       "      <td id=\"T_4f680_row0_col6\" class=\"data row0 col6\" >0.0817</td>\n",
       "      <td id=\"T_4f680_row0_col7\" class=\"data row0 col7\" >-0.2018</td>\n",
       "      <td id=\"T_4f680_row0_col8\" class=\"data row0 col8\" >0.0833</td>\n",
       "    </tr>\n",
       "    <tr>\n",
       "      <th id=\"T_4f680_level0_row1\" class=\"row_heading level0 row1\" >omp_cds_dt</th>\n",
       "      <td id=\"T_4f680_row1_col0\" class=\"data row1 col0\" >Orthogonal Matching Pursuit w/ Cond. Deseasonalize & Detrending</td>\n",
       "      <td id=\"T_4f680_row1_col1\" class=\"data row1 col1\" >0.8839</td>\n",
       "      <td id=\"T_4f680_row1_col2\" class=\"data row1 col2\" >0.9887</td>\n",
       "      <td id=\"T_4f680_row1_col3\" class=\"data row1 col3\" >1.1541</td>\n",
       "      <td id=\"T_4f680_row1_col4\" class=\"data row1 col4\" >1.4532</td>\n",
       "      <td id=\"T_4f680_row1_col5\" class=\"data row1 col5\" >0.0791</td>\n",
       "      <td id=\"T_4f680_row1_col6\" class=\"data row1 col6\" >0.0822</td>\n",
       "      <td id=\"T_4f680_row1_col7\" class=\"data row1 col7\" >-0.2562</td>\n",
       "      <td id=\"T_4f680_row1_col8\" class=\"data row1 col8\" >0.0400</td>\n",
       "    </tr>\n",
       "    <tr>\n",
       "      <th id=\"T_4f680_level0_row2\" class=\"row_heading level0 row2\" >ridge_cds_dt</th>\n",
       "      <td id=\"T_4f680_row2_col0\" class=\"data row2 col0\" >Ridge w/ Cond. Deseasonalize & Detrending</td>\n",
       "      <td id=\"T_4f680_row2_col1\" class=\"data row2 col1\" >0.8945</td>\n",
       "      <td id=\"T_4f680_row2_col2\" class=\"data row2 col2\" >0.9805</td>\n",
       "      <td id=\"T_4f680_row2_col3\" class=\"data row2 col3\" >1.1792</td>\n",
       "      <td id=\"T_4f680_row2_col4\" class=\"data row2 col4\" >1.4487</td>\n",
       "      <td id=\"T_4f680_row2_col5\" class=\"data row2 col5\" >0.0824</td>\n",
       "      <td id=\"T_4f680_row2_col6\" class=\"data row2 col6\" >0.0835</td>\n",
       "      <td id=\"T_4f680_row2_col7\" class=\"data row2 col7\" >-0.2570</td>\n",
       "      <td id=\"T_4f680_row2_col8\" class=\"data row2 col8\" >0.0433</td>\n",
       "    </tr>\n",
       "    <tr>\n",
       "      <th id=\"T_4f680_level0_row3\" class=\"row_heading level0 row3\" >en_cds_dt</th>\n",
       "      <td id=\"T_4f680_row3_col0\" class=\"data row3 col0\" >Elastic Net w/ Cond. Deseasonalize & Detrending</td>\n",
       "      <td id=\"T_4f680_row3_col1\" class=\"data row3 col1\" >0.9207</td>\n",
       "      <td id=\"T_4f680_row3_col2\" class=\"data row3 col2\" >1.0103</td>\n",
       "      <td id=\"T_4f680_row3_col3\" class=\"data row3 col3\" >1.2113</td>\n",
       "      <td id=\"T_4f680_row3_col4\" class=\"data row3 col4\" >1.4836</td>\n",
       "      <td id=\"T_4f680_row3_col5\" class=\"data row3 col5\" >0.0827</td>\n",
       "      <td id=\"T_4f680_row3_col6\" class=\"data row3 col6\" >0.0869</td>\n",
       "      <td id=\"T_4f680_row3_col7\" class=\"data row3 col7\" >-0.3235</td>\n",
       "      <td id=\"T_4f680_row3_col8\" class=\"data row3 col8\" >0.0900</td>\n",
       "    </tr>\n",
       "    <tr>\n",
       "      <th id=\"T_4f680_level0_row4\" class=\"row_heading level0 row4\" >lasso_cds_dt</th>\n",
       "      <td id=\"T_4f680_row4_col0\" class=\"data row4 col0\" >Lasso w/ Cond. Deseasonalize & Detrending</td>\n",
       "      <td id=\"T_4f680_row4_col1\" class=\"data row4 col1\" >0.9207</td>\n",
       "      <td id=\"T_4f680_row4_col2\" class=\"data row4 col2\" >1.0103</td>\n",
       "      <td id=\"T_4f680_row4_col3\" class=\"data row4 col3\" >1.2113</td>\n",
       "      <td id=\"T_4f680_row4_col4\" class=\"data row4 col4\" >1.4836</td>\n",
       "      <td id=\"T_4f680_row4_col5\" class=\"data row4 col5\" >0.0827</td>\n",
       "      <td id=\"T_4f680_row4_col6\" class=\"data row4 col6\" >0.0869</td>\n",
       "      <td id=\"T_4f680_row4_col7\" class=\"data row4 col7\" >-0.3235</td>\n",
       "      <td id=\"T_4f680_row4_col8\" class=\"data row4 col8\" >0.0433</td>\n",
       "    </tr>\n",
       "    <tr>\n",
       "      <th id=\"T_4f680_level0_row5\" class=\"row_heading level0 row5\" >llar_cds_dt</th>\n",
       "      <td id=\"T_4f680_row5_col0\" class=\"data row5 col0\" >Lasso Least Angular Regressor w/ Cond. Deseasonalize & Detrending</td>\n",
       "      <td id=\"T_4f680_row5_col1\" class=\"data row5 col1\" >0.9207</td>\n",
       "      <td id=\"T_4f680_row5_col2\" class=\"data row5 col2\" >1.0103</td>\n",
       "      <td id=\"T_4f680_row5_col3\" class=\"data row5 col3\" >1.2113</td>\n",
       "      <td id=\"T_4f680_row5_col4\" class=\"data row5 col4\" >1.4836</td>\n",
       "      <td id=\"T_4f680_row5_col5\" class=\"data row5 col5\" >0.0827</td>\n",
       "      <td id=\"T_4f680_row5_col6\" class=\"data row5 col6\" >0.0869</td>\n",
       "      <td id=\"T_4f680_row5_col7\" class=\"data row5 col7\" >-0.3235</td>\n",
       "      <td id=\"T_4f680_row5_col8\" class=\"data row5 col8\" >0.0400</td>\n",
       "    </tr>\n",
       "    <tr>\n",
       "      <th id=\"T_4f680_level0_row6\" class=\"row_heading level0 row6\" >lightgbm_cds_dt</th>\n",
       "      <td id=\"T_4f680_row6_col0\" class=\"data row6 col0\" >Light Gradient Boosting w/ Cond. Deseasonalize & Detrending</td>\n",
       "      <td id=\"T_4f680_row6_col1\" class=\"data row6 col1\" >0.9207</td>\n",
       "      <td id=\"T_4f680_row6_col2\" class=\"data row6 col2\" >1.0103</td>\n",
       "      <td id=\"T_4f680_row6_col3\" class=\"data row6 col3\" >1.2113</td>\n",
       "      <td id=\"T_4f680_row6_col4\" class=\"data row6 col4\" >1.4836</td>\n",
       "      <td id=\"T_4f680_row6_col5\" class=\"data row6 col5\" >0.0827</td>\n",
       "      <td id=\"T_4f680_row6_col6\" class=\"data row6 col6\" >0.0869</td>\n",
       "      <td id=\"T_4f680_row6_col7\" class=\"data row6 col7\" >-0.3235</td>\n",
       "      <td id=\"T_4f680_row6_col8\" class=\"data row6 col8\" >0.0500</td>\n",
       "    </tr>\n",
       "    <tr>\n",
       "      <th id=\"T_4f680_level0_row7\" class=\"row_heading level0 row7\" >dt_cds_dt</th>\n",
       "      <td id=\"T_4f680_row7_col0\" class=\"data row7 col0\" >Decision Tree w/ Cond. Deseasonalize & Detrending</td>\n",
       "      <td id=\"T_4f680_row7_col1\" class=\"data row7 col1\" >0.9411</td>\n",
       "      <td id=\"T_4f680_row7_col2\" class=\"data row7 col2\" >1.0412</td>\n",
       "      <td id=\"T_4f680_row7_col3\" class=\"data row7 col3\" >1.2028</td>\n",
       "      <td id=\"T_4f680_row7_col4\" class=\"data row7 col4\" >1.5100</td>\n",
       "      <td id=\"T_4f680_row7_col5\" class=\"data row7 col5\" >0.0822</td>\n",
       "      <td id=\"T_4f680_row7_col6\" class=\"data row7 col6\" >0.0848</td>\n",
       "      <td id=\"T_4f680_row7_col7\" class=\"data row7 col7\" >-0.3459</td>\n",
       "      <td id=\"T_4f680_row7_col8\" class=\"data row7 col8\" >0.0433</td>\n",
       "    </tr>\n",
       "    <tr>\n",
       "      <th id=\"T_4f680_level0_row8\" class=\"row_heading level0 row8\" >rf_cds_dt</th>\n",
       "      <td id=\"T_4f680_row8_col0\" class=\"data row8 col0\" >Random Forest w/ Cond. Deseasonalize & Detrending</td>\n",
       "      <td id=\"T_4f680_row8_col1\" class=\"data row8 col1\" >0.9533</td>\n",
       "      <td id=\"T_4f680_row8_col2\" class=\"data row8 col2\" >1.0171</td>\n",
       "      <td id=\"T_4f680_row8_col3\" class=\"data row8 col3\" >1.2440</td>\n",
       "      <td id=\"T_4f680_row8_col4\" class=\"data row8 col4\" >1.4882</td>\n",
       "      <td id=\"T_4f680_row8_col5\" class=\"data row8 col5\" >0.0852</td>\n",
       "      <td id=\"T_4f680_row8_col6\" class=\"data row8 col6\" >0.0896</td>\n",
       "      <td id=\"T_4f680_row8_col7\" class=\"data row8 col7\" >-0.3517</td>\n",
       "      <td id=\"T_4f680_row8_col8\" class=\"data row8 col8\" >0.1267</td>\n",
       "    </tr>\n",
       "    <tr>\n",
       "      <th id=\"T_4f680_level0_row9\" class=\"row_heading level0 row9\" >knn_cds_dt</th>\n",
       "      <td id=\"T_4f680_row9_col0\" class=\"data row9 col0\" >K Neighbors w/ Cond. Deseasonalize & Detrending</td>\n",
       "      <td id=\"T_4f680_row9_col1\" class=\"data row9 col1\" >0.9810</td>\n",
       "      <td id=\"T_4f680_row9_col2\" class=\"data row9 col2\" >1.0219</td>\n",
       "      <td id=\"T_4f680_row9_col3\" class=\"data row9 col3\" >1.2801</td>\n",
       "      <td id=\"T_4f680_row9_col4\" class=\"data row9 col4\" >1.4987</td>\n",
       "      <td id=\"T_4f680_row9_col5\" class=\"data row9 col5\" >0.0880</td>\n",
       "      <td id=\"T_4f680_row9_col6\" class=\"data row9 col6\" >0.0925</td>\n",
       "      <td id=\"T_4f680_row9_col7\" class=\"data row9 col7\" >-0.3618</td>\n",
       "      <td id=\"T_4f680_row9_col8\" class=\"data row9 col8\" >0.0733</td>\n",
       "    </tr>\n",
       "    <tr>\n",
       "      <th id=\"T_4f680_level0_row10\" class=\"row_heading level0 row10\" >br_cds_dt</th>\n",
       "      <td id=\"T_4f680_row10_col0\" class=\"data row10 col0\" >Bayesian Ridge w/ Cond. Deseasonalize & Detrending</td>\n",
       "      <td id=\"T_4f680_row10_col1\" class=\"data row10 col1\" >0.9907</td>\n",
       "      <td id=\"T_4f680_row10_col2\" class=\"data row10 col2\" >1.0623</td>\n",
       "      <td id=\"T_4f680_row10_col3\" class=\"data row10 col3\" >1.3184</td>\n",
       "      <td id=\"T_4f680_row10_col4\" class=\"data row10 col4\" >1.5710</td>\n",
       "      <td id=\"T_4f680_row10_col5\" class=\"data row10 col5\" >0.0923</td>\n",
       "      <td id=\"T_4f680_row10_col6\" class=\"data row10 col6\" >0.0927</td>\n",
       "      <td id=\"T_4f680_row10_col7\" class=\"data row10 col7\" >-0.5031</td>\n",
       "      <td id=\"T_4f680_row10_col8\" class=\"data row10 col8\" >0.0433</td>\n",
       "    </tr>\n",
       "    <tr>\n",
       "      <th id=\"T_4f680_level0_row11\" class=\"row_heading level0 row11\" >gbr_cds_dt</th>\n",
       "      <td id=\"T_4f680_row11_col0\" class=\"data row11 col0\" >Gradient Boosting w/ Cond. Deseasonalize & Detrending</td>\n",
       "      <td id=\"T_4f680_row11_col1\" class=\"data row11 col1\" >1.0411</td>\n",
       "      <td id=\"T_4f680_row11_col2\" class=\"data row11 col2\" >1.1095</td>\n",
       "      <td id=\"T_4f680_row11_col3\" class=\"data row11 col3\" >1.3442</td>\n",
       "      <td id=\"T_4f680_row11_col4\" class=\"data row11 col4\" >1.6120</td>\n",
       "      <td id=\"T_4f680_row11_col5\" class=\"data row11 col5\" >0.0926</td>\n",
       "      <td id=\"T_4f680_row11_col6\" class=\"data row11 col6\" >0.0963</td>\n",
       "      <td id=\"T_4f680_row11_col7\" class=\"data row11 col7\" >-0.5256</td>\n",
       "      <td id=\"T_4f680_row11_col8\" class=\"data row11 col8\" >0.0700</td>\n",
       "    </tr>\n",
       "    <tr>\n",
       "      <th id=\"T_4f680_level0_row12\" class=\"row_heading level0 row12\" >ada_cds_dt</th>\n",
       "      <td id=\"T_4f680_row12_col0\" class=\"data row12 col0\" >AdaBoost w/ Cond. Deseasonalize & Detrending</td>\n",
       "      <td id=\"T_4f680_row12_col1\" class=\"data row12 col1\" >1.0415</td>\n",
       "      <td id=\"T_4f680_row12_col2\" class=\"data row12 col2\" >1.0984</td>\n",
       "      <td id=\"T_4f680_row12_col3\" class=\"data row12 col3\" >1.3299</td>\n",
       "      <td id=\"T_4f680_row12_col4\" class=\"data row12 col4\" >1.5862</td>\n",
       "      <td id=\"T_4f680_row12_col5\" class=\"data row12 col5\" >0.0933</td>\n",
       "      <td id=\"T_4f680_row12_col6\" class=\"data row12 col6\" >0.0940</td>\n",
       "      <td id=\"T_4f680_row12_col7\" class=\"data row12 col7\" >-0.4947</td>\n",
       "      <td id=\"T_4f680_row12_col8\" class=\"data row12 col8\" >0.0533</td>\n",
       "    </tr>\n",
       "    <tr>\n",
       "      <th id=\"T_4f680_level0_row13\" class=\"row_heading level0 row13\" >arima</th>\n",
       "      <td id=\"T_4f680_row13_col0\" class=\"data row13 col0\" >ARIMA</td>\n",
       "      <td id=\"T_4f680_row13_col1\" class=\"data row13 col1\" >1.1356</td>\n",
       "      <td id=\"T_4f680_row13_col2\" class=\"data row13 col2\" >1.3067</td>\n",
       "      <td id=\"T_4f680_row13_col3\" class=\"data row13 col3\" >1.4905</td>\n",
       "      <td id=\"T_4f680_row13_col4\" class=\"data row13 col4\" >1.9620</td>\n",
       "      <td id=\"T_4f680_row13_col5\" class=\"data row13 col5\" >0.1029</td>\n",
       "      <td id=\"T_4f680_row13_col6\" class=\"data row13 col6\" >0.1133</td>\n",
       "      <td id=\"T_4f680_row13_col7\" class=\"data row13 col7\" >-1.4251</td>\n",
       "      <td id=\"T_4f680_row13_col8\" class=\"data row13 col8\" >0.0500</td>\n",
       "    </tr>\n",
       "    <tr>\n",
       "      <th id=\"T_4f680_level0_row14\" class=\"row_heading level0 row14\" >croston</th>\n",
       "      <td id=\"T_4f680_row14_col0\" class=\"data row14 col0\" >Croston</td>\n",
       "      <td id=\"T_4f680_row14_col1\" class=\"data row14 col1\" >1.3830</td>\n",
       "      <td id=\"T_4f680_row14_col2\" class=\"data row14 col2\" >1.4493</td>\n",
       "      <td id=\"T_4f680_row14_col3\" class=\"data row14 col3\" >1.7338</td>\n",
       "      <td id=\"T_4f680_row14_col4\" class=\"data row14 col4\" >2.0847</td>\n",
       "      <td id=\"T_4f680_row14_col5\" class=\"data row14 col5\" >0.1324</td>\n",
       "      <td id=\"T_4f680_row14_col6\" class=\"data row14 col6\" >0.1205</td>\n",
       "      <td id=\"T_4f680_row14_col7\" class=\"data row14 col7\" >-2.0071</td>\n",
       "      <td id=\"T_4f680_row14_col8\" class=\"data row14 col8\" >0.0100</td>\n",
       "    </tr>\n",
       "    <tr>\n",
       "      <th id=\"T_4f680_level0_row15\" class=\"row_heading level0 row15\" >huber_cds_dt</th>\n",
       "      <td id=\"T_4f680_row15_col0\" class=\"data row15 col0\" >Huber w/ Cond. Deseasonalize & Detrending</td>\n",
       "      <td id=\"T_4f680_row15_col1\" class=\"data row15 col1\" >1.7964</td>\n",
       "      <td id=\"T_4f680_row15_col2\" class=\"data row15 col2\" >2.3043</td>\n",
       "      <td id=\"T_4f680_row15_col3\" class=\"data row15 col3\" >2.2243</td>\n",
       "      <td id=\"T_4f680_row15_col4\" class=\"data row15 col4\" >3.2259</td>\n",
       "      <td id=\"T_4f680_row15_col5\" class=\"data row15 col5\" >0.1553</td>\n",
       "      <td id=\"T_4f680_row15_col6\" class=\"data row15 col6\" >0.1402</td>\n",
       "      <td id=\"T_4f680_row15_col7\" class=\"data row15 col7\" >-12.4106</td>\n",
       "      <td id=\"T_4f680_row15_col8\" class=\"data row15 col8\" >0.0433</td>\n",
       "    </tr>\n",
       "  </tbody>\n",
       "</table>\n"
      ],
      "text/plain": [
       "<pandas.io.formats.style.Styler at 0x16d2e25b0>"
      ]
     },
     "metadata": {},
     "output_type": "display_data"
    },
    {
     "data": {
      "text/html": [],
      "text/plain": [
       "<IPython.core.display.HTML object>"
      ]
     },
     "metadata": {},
     "output_type": "display_data"
    }
   ],
   "source": [
    "best_model = compare_models(include=incl_models)"
   ]
  },
  {
   "cell_type": "markdown",
   "metadata": {},
   "source": [
    "diagnostics plot"
   ]
  },
  {
   "cell_type": "code",
   "execution_count": 258,
   "metadata": {},
   "outputs": [
    {
     "data": {
      "application/vnd.plotly.v1+json": {
       "config": {
        "plotlyServerURL": "https://plot.ly"
       },
       "data": [
        {
         "line": {
          "color": "rgb(31, 119, 180)",
          "width": 2
         },
         "marker": {
          "color": "rgb(31, 119, 180)",
          "size": 5
         },
         "mode": "lines+markers",
         "name": "Unemployment_Rate (transformed)",
         "showlegend": false,
         "type": "scattergl",
         "x": [
          "2009-01-01T00:00:00",
          "2009-07-01T00:00:00",
          "2010-01-01T00:00:00",
          "2010-07-01T00:00:00",
          "2011-01-01T00:00:00",
          "2011-07-01T00:00:00",
          "2012-01-01T00:00:00",
          "2012-07-01T00:00:00",
          "2013-01-01T00:00:00",
          "2013-07-01T00:00:00",
          "2014-01-01T00:00:00",
          "2014-07-01T00:00:00",
          "2015-01-01T00:00:00",
          "2015-07-01T00:00:00",
          "2016-01-01T00:00:00",
          "2016-07-01T00:00:00",
          "2017-01-01T00:00:00",
          "2017-07-01T00:00:00",
          "2018-01-01T00:00:00",
          "2018-07-01T00:00:00",
          "2019-01-01T00:00:00",
          "2019-07-01T00:00:00",
          "2020-01-01T00:00:00",
          "2020-07-01T00:00:00",
          "2021-01-01T00:00:00",
          "2021-07-01T00:00:00",
          "2022-01-01T00:00:00",
          "2022-07-01T00:00:00",
          "2023-01-01T00:00:00",
          "2023-07-01T00:00:00",
          "2024-01-01T00:00:00",
          "2024-07-01T00:00:00"
         ],
         "xaxis": "x",
         "y": [
          18.040630030101887,
          17.14238687901972,
          15.775726707916432,
          15.989462347425771,
          16.851591124698285,
          16.717763415603496,
          14.310062356756935,
          14.5723059746109,
          13.3476811958149,
          15.849200216451232,
          12.565402640695696,
          16.084781044581263,
          14.11539724268468,
          16.397679501557164,
          13.548613123951707,
          14.186108713893296,
          11.812189996775132,
          14.866057832702904,
          12.5799081053059,
          14.163591538115917,
          12.020975928692252,
          13.680974319783642,
          12.22887496390804,
          15.862362395833156,
          14.188898876104474,
          15.018407075494991,
          12.948944225299863,
          14.764916741760771,
          12.265233452406,
          14.177533914667926,
          12.378460471546267,
          12.871909126092456
         ],
         "yaxis": "y"
        },
        {
         "hoverinfo": "text",
         "hovertext": [
          "Freq: 0.0312<br>Ampl: 9.7442<br>Time period: 32.0",
          "Freq: 0.0625<br>Ampl: 8.5179<br>Time period: 16.0",
          "Freq: 0.0938<br>Ampl: 6.2312<br>Time period: 10.6667",
          "Freq: 0.125<br>Ampl: -1.852<br>Time period: 8.0",
          "Freq: 0.1562<br>Ampl: 4.2809<br>Time period: 6.4",
          "Freq: 0.1875<br>Ampl: 5.4629<br>Time period: 5.3333",
          "Freq: 0.2188<br>Ampl: 2.7361<br>Time period: 4.5714",
          "Freq: 0.25<br>Ampl: -4.3849<br>Time period: 4.0",
          "Freq: 0.2812<br>Ampl: -6.1274<br>Time period: 3.5556",
          "Freq: 0.3125<br>Ampl: -3.3678<br>Time period: 3.2",
          "Freq: 0.3438<br>Ampl: -1.1127<br>Time period: 2.9091",
          "Freq: 0.375<br>Ampl: -5.407<br>Time period: 2.6667",
          "Freq: 0.4062<br>Ampl: -11.1707<br>Time period: 2.4615",
          "Freq: 0.4375<br>Ampl: -0.705<br>Time period: 2.2857",
          "Freq: 0.4688<br>Ampl: 12.4125<br>Time period: 2.1333",
          "Freq: 0.5<br>Ampl: 12.9884<br>Time period: 2.0"
         ],
         "line": {
          "color": "#1f77b4",
          "width": 2
         },
         "marker": {
          "size": 5
         },
         "mode": "lines+markers",
         "name": "Unemployment_Rate (transformed)",
         "showlegend": false,
         "type": "scattergl",
         "x": [
          0.03125,
          0.0625,
          0.09375,
          0.125,
          0.15625,
          0.1875,
          0.21875,
          0.25,
          0.28125,
          0.3125,
          0.34375,
          0.375,
          0.40625,
          0.4375,
          0.46875,
          0.5
         ],
         "xaxis": "x2",
         "y": [
          9.744208576875046,
          8.517933127601001,
          6.231202975380831,
          -1.8519855708885455,
          4.2809188915150145,
          5.462901852689884,
          2.736055662069244,
          -4.384856824259694,
          -6.127423064528897,
          -3.3678229604482124,
          -1.1127040292803818,
          -5.406976463419415,
          -11.170677943421193,
          -0.7049810418348095,
          12.412527196038772,
          12.988363245141375
         ],
         "yaxis": "y2"
        },
        {
         "alignmentgroup": "True",
         "bingroup": "x",
         "hovertemplate": "variable=Unemployment_Rate (transformed)<br>value=%{x}<br>count=%{y}<extra></extra>",
         "legendgroup": "Unemployment_Rate (transformed)",
         "marker": {
          "color": "#1f77b4",
          "pattern": {
           "shape": ""
          }
         },
         "name": "Unemployment_Rate (transformed)",
         "offsetgroup": "Unemployment_Rate (transformed)",
         "orientation": "v",
         "showlegend": false,
         "type": "histogram",
         "x": [
          18.040630030101887,
          17.14238687901972,
          15.775726707916432,
          15.989462347425771,
          16.851591124698285,
          16.717763415603496,
          14.310062356756935,
          14.5723059746109,
          13.3476811958149,
          15.849200216451232,
          12.565402640695696,
          16.084781044581263,
          14.11539724268468,
          16.397679501557164,
          13.548613123951707,
          14.186108713893296,
          11.812189996775132,
          14.866057832702904,
          12.5799081053059,
          14.163591538115917,
          12.020975928692252,
          13.680974319783642,
          12.22887496390804,
          15.862362395833156,
          14.188898876104474,
          15.018407075494991,
          12.948944225299863,
          14.764916741760771,
          12.265233452406,
          14.177533914667926,
          12.378460471546267,
          12.871909126092456
         ],
         "xaxis": "x3",
         "yaxis": "y3"
        },
        {
         "marker": {
          "color": "#1f77b4"
         },
         "mode": "markers",
         "name": "Unemployment_Rate (transformed)",
         "showlegend": false,
         "type": "scattergl",
         "x": [
          -1.876358561894595,
          -1.5497059007365892,
          -1.335177736118937,
          -1.168948844531482,
          -1.0299567622253682,
          -0.9084578685373851,
          -0.7990827621351786,
          -0.6985257103450601,
          -0.6045853465832371,
          -0.5157047936930385,
          -0.43072729929545756,
          -0.3487556955170447,
          -0.2690661378543142,
          -0.1910520061461741,
          -0.11418529432142838,
          -0.037988351230282213,
          0.037988351230282213,
          0.11418529432142824,
          0.19105200614617424,
          0.2690661378543142,
          0.3487556955170447,
          0.43072729929545744,
          0.5157047936930386,
          0.6045853465832371,
          0.6985257103450601,
          0.7990827621351786,
          0.9084578685373853,
          1.0299567622253682,
          1.168948844531482,
          1.3351777361189363,
          1.5497059007365892,
          1.8763585618945953
         ],
         "xaxis": "x4",
         "y": [
          11.812189996775132,
          12.020975928692252,
          12.22887496390804,
          12.265233452406,
          12.378460471546267,
          12.565402640695696,
          12.5799081053059,
          12.871909126092456,
          12.948944225299863,
          13.3476811958149,
          13.548613123951707,
          13.680974319783642,
          14.11539724268468,
          14.163591538115917,
          14.177533914667926,
          14.186108713893296,
          14.188898876104474,
          14.310062356756935,
          14.5723059746109,
          14.764916741760771,
          14.866057832702904,
          15.018407075494991,
          15.775726707916432,
          15.849200216451232,
          15.862362395833156,
          15.989462347425771,
          16.084781044581263,
          16.397679501557164,
          16.717763415603496,
          16.851591124698285,
          17.14238687901972,
          18.040630030101887
         ],
         "yaxis": "y4"
        },
        {
         "line": {
          "color": "#3f3f3f"
         },
         "mode": "lines",
         "name": "Unemployment_Rate (transformed)",
         "showlegend": false,
         "type": "scattergl",
         "x": [
          -1.876358561894595,
          -1.5497059007365892,
          -1.335177736118937,
          -1.168948844531482,
          -1.0299567622253682,
          -0.9084578685373851,
          -0.7990827621351786,
          -0.6985257103450601,
          -0.6045853465832371,
          -0.5157047936930385,
          -0.43072729929545756,
          -0.3487556955170447,
          -0.2690661378543142,
          -0.1910520061461741,
          -0.11418529432142838,
          -0.037988351230282213,
          0.037988351230282213,
          0.11418529432142824,
          0.19105200614617424,
          0.2690661378543142,
          0.3487556955170447,
          0.43072729929545744,
          0.5157047936930386,
          0.6045853465832371,
          0.6985257103450601,
          0.7990827621351786,
          0.9084578685373853,
          1.0299567622253682,
          1.168948844531482,
          1.3351777361189363,
          1.5497059007365892,
          1.8763585618945953
         ],
         "xaxis": "x4",
         "y": [
          11.307169862557245,
          11.848447246424355,
          12.203929559957038,
          12.479377919210002,
          12.709693724451533,
          12.91102257046503,
          13.092261784141408,
          13.258889105435498,
          13.41455229261501,
          13.561831157494051,
          13.702642488073892,
          13.838472929764702,
          13.970521923764311,
          14.09979466553824,
          14.22716608365395,
          14.353427666427637,
          14.479324301088182,
          14.605585883861869,
          14.732957301977578,
          14.862230043751508,
          14.994279037751117,
          15.130109479441927,
          15.270920810021767,
          15.418199674900809,
          15.57386286208032,
          15.74049018337441,
          15.921729397050788,
          16.123058243064285,
          16.353374048305817,
          16.62882240755878,
          16.984304721091462,
          17.525582104958573
         ],
         "yaxis": "y4"
        },
        {
         "line": {
          "color": "#3f3f3f"
         },
         "mode": "lines",
         "name": "ACF",
         "showlegend": false,
         "type": "scattergl",
         "x": [
          0,
          0
         ],
         "xaxis": "x5",
         "y": [
          0,
          1
         ],
         "yaxis": "y5"
        },
        {
         "line": {
          "color": "#3f3f3f"
         },
         "mode": "lines",
         "name": "ACF",
         "showlegend": false,
         "type": "scattergl",
         "x": [
          1,
          1
         ],
         "xaxis": "x5",
         "y": [
          0,
          0.18504117161847267
         ],
         "yaxis": "y5"
        },
        {
         "line": {
          "color": "#3f3f3f"
         },
         "mode": "lines",
         "name": "ACF",
         "showlegend": false,
         "type": "scattergl",
         "x": [
          2,
          2
         ],
         "xaxis": "x5",
         "y": [
          0,
          0.5684081260029388
         ],
         "yaxis": "y5"
        },
        {
         "line": {
          "color": "#3f3f3f"
         },
         "mode": "lines",
         "name": "ACF",
         "showlegend": false,
         "type": "scattergl",
         "x": [
          3,
          3
         ],
         "xaxis": "x5",
         "y": [
          0,
          -0.03720895127913193
         ],
         "yaxis": "y5"
        },
        {
         "line": {
          "color": "#3f3f3f"
         },
         "mode": "lines",
         "name": "ACF",
         "showlegend": false,
         "type": "scattergl",
         "x": [
          4,
          4
         ],
         "xaxis": "x5",
         "y": [
          0,
          0.4579087681615409
         ],
         "yaxis": "y5"
        },
        {
         "line": {
          "color": "#3f3f3f"
         },
         "mode": "lines",
         "name": "ACF",
         "showlegend": false,
         "type": "scattergl",
         "x": [
          5,
          5
         ],
         "xaxis": "x5",
         "y": [
          0,
          -0.10816644742244212
         ],
         "yaxis": "y5"
        },
        {
         "line": {
          "color": "#3f3f3f"
         },
         "mode": "lines",
         "name": "ACF",
         "showlegend": false,
         "type": "scattergl",
         "x": [
          6,
          6
         ],
         "xaxis": "x5",
         "y": [
          0,
          0.2588867444234534
         ],
         "yaxis": "y5"
        },
        {
         "line": {
          "color": "#3f3f3f"
         },
         "mode": "lines",
         "name": "ACF",
         "showlegend": false,
         "type": "scattergl",
         "x": [
          7,
          7
         ],
         "xaxis": "x5",
         "y": [
          0,
          -0.19491234199784738
         ],
         "yaxis": "y5"
        },
        {
         "line": {
          "color": "#3f3f3f"
         },
         "mode": "lines",
         "name": "ACF",
         "showlegend": false,
         "type": "scattergl",
         "x": [
          8,
          8
         ],
         "xaxis": "x5",
         "y": [
          0,
          0.2535857170705135
         ],
         "yaxis": "y5"
        },
        {
         "line": {
          "color": "#3f3f3f"
         },
         "mode": "lines",
         "name": "ACF",
         "showlegend": false,
         "type": "scattergl",
         "x": [
          9,
          9
         ],
         "xaxis": "x5",
         "y": [
          0,
          -0.05055967766636824
         ],
         "yaxis": "y5"
        },
        {
         "line": {
          "color": "#3f3f3f"
         },
         "mode": "lines",
         "name": "ACF",
         "showlegend": false,
         "type": "scattergl",
         "x": [
          10,
          10
         ],
         "xaxis": "x5",
         "y": [
          0,
          0.23498559920588827
         ],
         "yaxis": "y5"
        },
        {
         "line": {
          "color": "#3f3f3f"
         },
         "mode": "lines",
         "name": "ACF",
         "showlegend": false,
         "type": "scattergl",
         "x": [
          11,
          11
         ],
         "xaxis": "x5",
         "y": [
          0,
          -0.04639128266361697
         ],
         "yaxis": "y5"
        },
        {
         "line": {
          "color": "#3f3f3f"
         },
         "mode": "lines",
         "name": "ACF",
         "showlegend": false,
         "type": "scattergl",
         "x": [
          12,
          12
         ],
         "xaxis": "x5",
         "y": [
          0,
          0.2010699779535431
         ],
         "yaxis": "y5"
        },
        {
         "line": {
          "color": "#3f3f3f"
         },
         "mode": "lines",
         "name": "ACF",
         "showlegend": false,
         "type": "scattergl",
         "x": [
          13,
          13
         ],
         "xaxis": "x5",
         "y": [
          0,
          -0.100501465137221
         ],
         "yaxis": "y5"
        },
        {
         "line": {
          "color": "#3f3f3f"
         },
         "mode": "lines",
         "name": "ACF",
         "showlegend": false,
         "type": "scattergl",
         "x": [
          14,
          14
         ],
         "xaxis": "x5",
         "y": [
          0,
          0.022560997969307592
         ],
         "yaxis": "y5"
        },
        {
         "line": {
          "color": "#3f3f3f"
         },
         "mode": "lines",
         "name": "ACF",
         "showlegend": false,
         "type": "scattergl",
         "x": [
          15,
          15
         ],
         "xaxis": "x5",
         "y": [
          0,
          -0.24702257291990617
         ],
         "yaxis": "y5"
        },
        {
         "line": {
          "color": "#3f3f3f"
         },
         "mode": "lines",
         "name": "ACF",
         "showlegend": false,
         "type": "scattergl",
         "x": [
          16,
          16
         ],
         "xaxis": "x5",
         "y": [
          0,
          -0.1305690223663461
         ],
         "yaxis": "y5"
        },
        {
         "line": {
          "color": "#3f3f3f"
         },
         "mode": "lines",
         "name": "ACF",
         "showlegend": false,
         "type": "scattergl",
         "x": [
          17,
          17
         ],
         "xaxis": "x5",
         "y": [
          0,
          -0.2743779649116532
         ],
         "yaxis": "y5"
        },
        {
         "line": {
          "color": "#3f3f3f"
         },
         "mode": "lines",
         "name": "ACF",
         "showlegend": false,
         "type": "scattergl",
         "x": [
          18,
          18
         ],
         "xaxis": "x5",
         "y": [
          0,
          -0.11876125952088701
         ],
         "yaxis": "y5"
        },
        {
         "line": {
          "color": "#3f3f3f"
         },
         "mode": "lines",
         "name": "ACF",
         "showlegend": false,
         "type": "scattergl",
         "x": [
          19,
          19
         ],
         "xaxis": "x5",
         "y": [
          0,
          -0.17219204340793387
         ],
         "yaxis": "y5"
        },
        {
         "line": {
          "color": "#3f3f3f"
         },
         "mode": "lines",
         "name": "ACF",
         "showlegend": false,
         "type": "scattergl",
         "x": [
          20,
          20
         ],
         "xaxis": "x5",
         "y": [
          0,
          -0.08184388714355935
         ],
         "yaxis": "y5"
        },
        {
         "line": {
          "color": "#3f3f3f"
         },
         "mode": "lines",
         "name": "ACF",
         "showlegend": false,
         "type": "scattergl",
         "x": [
          21,
          21
         ],
         "xaxis": "x5",
         "y": [
          0,
          -0.10368334516476857
         ],
         "yaxis": "y5"
        },
        {
         "line": {
          "color": "#3f3f3f"
         },
         "mode": "lines",
         "name": "ACF",
         "showlegend": false,
         "type": "scattergl",
         "x": [
          22,
          22
         ],
         "xaxis": "x5",
         "y": [
          0,
          -0.0678701512453525
         ],
         "yaxis": "y5"
        },
        {
         "line": {
          "color": "#3f3f3f"
         },
         "mode": "lines",
         "name": "ACF",
         "showlegend": false,
         "type": "scattergl",
         "x": [
          23,
          23
         ],
         "xaxis": "x5",
         "y": [
          0,
          0.004402587126721464
         ],
         "yaxis": "y5"
        },
        {
         "line": {
          "color": "#3f3f3f"
         },
         "mode": "lines",
         "name": "ACF",
         "showlegend": false,
         "type": "scattergl",
         "x": [
          24,
          24
         ],
         "xaxis": "x5",
         "y": [
          0,
          -0.0733178577919012
         ],
         "yaxis": "y5"
        },
        {
         "line": {
          "color": "#3f3f3f"
         },
         "mode": "lines",
         "name": "ACF",
         "showlegend": false,
         "type": "scattergl",
         "x": [
          25,
          25
         ],
         "xaxis": "x5",
         "y": [
          0,
          -0.11194332193181453
         ],
         "yaxis": "y5"
        },
        {
         "line": {
          "color": "#3f3f3f"
         },
         "mode": "lines",
         "name": "ACF",
         "showlegend": false,
         "type": "scattergl",
         "x": [
          26,
          26
         ],
         "xaxis": "x5",
         "y": [
          0,
          -0.1842055665954159
         ],
         "yaxis": "y5"
        },
        {
         "line": {
          "color": "#3f3f3f"
         },
         "mode": "lines",
         "name": "ACF",
         "showlegend": false,
         "type": "scattergl",
         "x": [
          27,
          27
         ],
         "xaxis": "x5",
         "y": [
          0,
          -0.1353484889569037
         ],
         "yaxis": "y5"
        },
        {
         "line": {
          "color": "#3f3f3f"
         },
         "mode": "lines",
         "name": "ACF",
         "showlegend": false,
         "type": "scattergl",
         "x": [
          28,
          28
         ],
         "xaxis": "x5",
         "y": [
          0,
          -0.15531952382687916
         ],
         "yaxis": "y5"
        },
        {
         "line": {
          "color": "#3f3f3f"
         },
         "mode": "lines",
         "name": "ACF",
         "showlegend": false,
         "type": "scattergl",
         "x": [
          29,
          29
         ],
         "xaxis": "x5",
         "y": [
          0,
          -0.09697204097743256
         ],
         "yaxis": "y5"
        },
        {
         "line": {
          "color": "#3f3f3f"
         },
         "mode": "lines",
         "name": "ACF",
         "showlegend": false,
         "type": "scattergl",
         "x": [
          30,
          30
         ],
         "xaxis": "x5",
         "y": [
          0,
          -0.13197654281135723
         ],
         "yaxis": "y5"
        },
        {
         "line": {
          "color": "#3f3f3f"
         },
         "mode": "lines",
         "name": "ACF",
         "showlegend": false,
         "type": "scattergl",
         "x": [
          31,
          31
         ],
         "xaxis": "x5",
         "y": [
          0,
          -0.06370593379364091
         ],
         "yaxis": "y5"
        },
        {
         "marker": {
          "color": "#1f77b4",
          "size": 6
         },
         "mode": "markers",
         "name": "ACF",
         "showlegend": false,
         "type": "scattergl",
         "x": [
          0,
          1,
          2,
          3,
          4,
          5,
          6,
          7,
          8,
          9,
          10,
          11,
          12,
          13,
          14,
          15,
          16,
          17,
          18,
          19,
          20,
          21,
          22,
          23,
          24,
          25,
          26,
          27,
          28,
          29,
          30,
          31
         ],
         "xaxis": "x5",
         "y": [
          1,
          0.18504117161847267,
          0.5684081260029388,
          -0.03720895127913193,
          0.4579087681615409,
          -0.10816644742244212,
          0.2588867444234534,
          -0.19491234199784738,
          0.2535857170705135,
          -0.05055967766636824,
          0.23498559920588827,
          -0.04639128266361697,
          0.2010699779535431,
          -0.100501465137221,
          0.022560997969307592,
          -0.24702257291990617,
          -0.1305690223663461,
          -0.2743779649116532,
          -0.11876125952088701,
          -0.17219204340793387,
          -0.08184388714355935,
          -0.10368334516476857,
          -0.0678701512453525,
          0.004402587126721464,
          -0.0733178577919012,
          -0.11194332193181453,
          -0.1842055665954159,
          -0.1353484889569037,
          -0.15531952382687916,
          -0.09697204097743256,
          -0.13197654281135723,
          -0.06370593379364091
         ],
         "yaxis": "y5"
        },
        {
         "line": {
          "color": "rgba(255,255,255,0)"
         },
         "mode": "lines",
         "name": "UC",
         "showlegend": false,
         "type": "scatter",
         "x": [
          0,
          1,
          2,
          3,
          4,
          5,
          6,
          7,
          8,
          9,
          10,
          11,
          12,
          13,
          14,
          15,
          16,
          17,
          18,
          19,
          20,
          21,
          22,
          23,
          24,
          25,
          26,
          27,
          28,
          29,
          30,
          31
         ],
         "xaxis": "x5",
         "y": [
          0,
          0.34647595608741943,
          0.358142941422787,
          0.45369251248866715,
          0.45405870058361397,
          0.5064698678610634,
          0.5092354947326059,
          0.5247973543091141,
          0.5334168388860943,
          0.5476976894059101,
          0.5482576944231373,
          0.5602177342141859,
          0.5606787156821266,
          0.5692690937034475,
          0.5713950933066256,
          0.5715020198866709,
          0.5841788755967269,
          0.5876717602504784,
          0.602854000630473,
          0.6056560483238919,
          0.6115046820856171,
          0.6128182505416861,
          0.6149205192698841,
          0.6158191218149665,
          0.6158229002122475,
          0.6168698862238531,
          0.619303732304282,
          0.6258464766980343,
          0.629350533410773,
          0.6339353993358039,
          0.6357136197454283,
          0.6389942631241528
         ],
         "yaxis": "y5"
        },
        {
         "fill": "tonexty",
         "fillcolor": "rgba(32, 146, 230,0.3)",
         "line": {
          "color": "rgba(255,255,255,0)"
         },
         "mode": "lines",
         "name": "LC",
         "showlegend": false,
         "type": "scatter",
         "x": [
          0,
          1,
          2,
          3,
          4,
          5,
          6,
          7,
          8,
          9,
          10,
          11,
          12,
          13,
          14,
          15,
          16,
          17,
          18,
          19,
          20,
          21,
          22,
          23,
          24,
          25,
          26,
          27,
          28,
          29,
          30,
          31
         ],
         "xaxis": "x5",
         "y": [
          0,
          -0.3464759560874195,
          -0.358142941422787,
          -0.45369251248866715,
          -0.4540587005836139,
          -0.5064698678610634,
          -0.5092354947326059,
          -0.5247973543091141,
          -0.5334168388860943,
          -0.5476976894059101,
          -0.5482576944231373,
          -0.5602177342141859,
          -0.5606787156821266,
          -0.5692690937034475,
          -0.5713950933066256,
          -0.5715020198866709,
          -0.584178875596727,
          -0.5876717602504784,
          -0.602854000630473,
          -0.605656048323892,
          -0.6115046820856171,
          -0.6128182505416864,
          -0.6149205192698841,
          -0.6158191218149665,
          -0.6158229002122477,
          -0.6168698862238531,
          -0.619303732304282,
          -0.6258464766980343,
          -0.629350533410773,
          -0.6339353993358039,
          -0.6357136197454283,
          -0.6389942631241528
         ],
         "yaxis": "y5"
        },
        {
         "line": {
          "color": "#3f3f3f"
         },
         "mode": "lines",
         "name": "PACF",
         "showlegend": false,
         "type": "scattergl",
         "x": [
          0,
          0
         ],
         "xaxis": "x6",
         "y": [
          0,
          1
         ],
         "yaxis": "y6"
        },
        {
         "line": {
          "color": "#3f3f3f"
         },
         "mode": "lines",
         "name": "PACF",
         "showlegend": false,
         "type": "scattergl",
         "x": [
          1,
          1
         ],
         "xaxis": "x6",
         "y": [
          0,
          0.1910102416706814
         ],
         "yaxis": "y6"
        },
        {
         "line": {
          "color": "#3f3f3f"
         },
         "mode": "lines",
         "name": "PACF",
         "showlegend": false,
         "type": "scattergl",
         "x": [
          2,
          2
         ],
         "xaxis": "x6",
         "y": [
          0,
          0.5913940487218643
         ],
         "yaxis": "y6"
        },
        {
         "line": {
          "color": "#3f3f3f"
         },
         "mode": "lines",
         "name": "PACF",
         "showlegend": false,
         "type": "scattergl",
         "x": [
          3,
          3
         ],
         "xaxis": "x6",
         "y": [
          0,
          -0.3213597390794648
         ],
         "yaxis": "y6"
        },
        {
         "line": {
          "color": "#3f3f3f"
         },
         "mode": "lines",
         "name": "PACF",
         "showlegend": false,
         "type": "scattergl",
         "x": [
          4,
          4
         ],
         "xaxis": "x6",
         "y": [
          0,
          0.39504169226887115
         ],
         "yaxis": "y6"
        },
        {
         "line": {
          "color": "#3f3f3f"
         },
         "mode": "lines",
         "name": "PACF",
         "showlegend": false,
         "type": "scattergl",
         "x": [
          5,
          5
         ],
         "xaxis": "x6",
         "y": [
          0,
          -0.28688502466774213
         ],
         "yaxis": "y6"
        },
        {
         "line": {
          "color": "#3f3f3f"
         },
         "mode": "lines",
         "name": "PACF",
         "showlegend": false,
         "type": "scattergl",
         "x": [
          6,
          6
         ],
         "xaxis": "x6",
         "y": [
          0,
          -0.03171533172915288
         ],
         "yaxis": "y6"
        },
        {
         "line": {
          "color": "#3f3f3f"
         },
         "mode": "lines",
         "name": "PACF",
         "showlegend": false,
         "type": "scattergl",
         "x": [
          7,
          7
         ],
         "xaxis": "x6",
         "y": [
          0,
          -0.02315550198384104
         ],
         "yaxis": "y6"
        },
        {
         "line": {
          "color": "#3f3f3f"
         },
         "mode": "lines",
         "name": "PACF",
         "showlegend": false,
         "type": "scattergl",
         "x": [
          8,
          8
         ],
         "xaxis": "x6",
         "y": [
          0,
          0.18031050054525985
         ],
         "yaxis": "y6"
        },
        {
         "line": {
          "color": "#3f3f3f"
         },
         "mode": "lines",
         "name": "PACF",
         "showlegend": false,
         "type": "scattergl",
         "x": [
          9,
          9
         ],
         "xaxis": "x6",
         "y": [
          0,
          0.24979310856976253
         ],
         "yaxis": "y6"
        },
        {
         "line": {
          "color": "#3f3f3f"
         },
         "mode": "lines",
         "name": "PACF",
         "showlegend": false,
         "type": "scattergl",
         "x": [
          10,
          10
         ],
         "xaxis": "x6",
         "y": [
          0,
          -0.16729839342012565
         ],
         "yaxis": "y6"
        },
        {
         "line": {
          "color": "#3f3f3f"
         },
         "mode": "lines",
         "name": "PACF",
         "showlegend": false,
         "type": "scattergl",
         "x": [
          11,
          11
         ],
         "xaxis": "x6",
         "y": [
          0,
          0.19027675911003683
         ],
         "yaxis": "y6"
        },
        {
         "line": {
          "color": "#3f3f3f"
         },
         "mode": "lines",
         "name": "PACF",
         "showlegend": false,
         "type": "scattergl",
         "x": [
          12,
          12
         ],
         "xaxis": "x6",
         "y": [
          0,
          -0.12662797207612775
         ],
         "yaxis": "y6"
        },
        {
         "line": {
          "color": "#3f3f3f"
         },
         "mode": "lines",
         "name": "PACF",
         "showlegend": false,
         "type": "scattergl",
         "x": [
          13,
          13
         ],
         "xaxis": "x6",
         "y": [
          0,
          -0.3865401152903154
         ],
         "yaxis": "y6"
        },
        {
         "line": {
          "color": "#3f3f3f"
         },
         "mode": "lines",
         "name": "PACF",
         "showlegend": false,
         "type": "scattergl",
         "x": [
          14,
          14
         ],
         "xaxis": "x6",
         "y": [
          0,
          -0.2242351851755471
         ],
         "yaxis": "y6"
        },
        {
         "line": {
          "color": "#3f3f3f"
         },
         "mode": "lines",
         "name": "PACF",
         "showlegend": false,
         "type": "scattergl",
         "x": [
          15,
          15
         ],
         "xaxis": "x6",
         "y": [
          0,
          -0.4617219043259692
         ],
         "yaxis": "y6"
        },
        {
         "marker": {
          "color": "#1f77b4",
          "size": 6
         },
         "mode": "markers",
         "name": "PACF",
         "showlegend": false,
         "type": "scattergl",
         "x": [
          0,
          1,
          2,
          3,
          4,
          5,
          6,
          7,
          8,
          9,
          10,
          11,
          12,
          13,
          14,
          15
         ],
         "xaxis": "x6",
         "y": [
          1,
          0.1910102416706814,
          0.5913940487218643,
          -0.3213597390794648,
          0.39504169226887115,
          -0.28688502466774213,
          -0.03171533172915288,
          -0.02315550198384104,
          0.18031050054525985,
          0.24979310856976253,
          -0.16729839342012565,
          0.19027675911003683,
          -0.12662797207612775,
          -0.3865401152903154,
          -0.2242351851755471,
          -0.4617219043259692
         ],
         "yaxis": "y6"
        },
        {
         "line": {
          "color": "rgba(255,255,255,0)"
         },
         "mode": "lines",
         "name": "UC",
         "showlegend": false,
         "type": "scatter",
         "x": [
          0,
          1,
          2,
          3,
          4,
          5,
          6,
          7,
          8,
          9,
          10,
          11,
          12,
          13,
          14,
          15
         ],
         "xaxis": "x6",
         "y": [
          0,
          0.34647595608741955,
          0.34647595608741955,
          0.3464759560874195,
          0.3464759560874195,
          0.3464759560874195,
          0.3464759560874195,
          0.3464759560874195,
          0.34647595608741943,
          0.34647595608741943,
          0.3464759560874195,
          0.34647595608741943,
          0.3464759560874195,
          0.3464759560874195,
          0.3464759560874195,
          0.3464759560874195
         ],
         "yaxis": "y6"
        },
        {
         "fill": "tonexty",
         "fillcolor": "rgba(32, 146, 230,0.3)",
         "line": {
          "color": "rgba(255,255,255,0)"
         },
         "mode": "lines",
         "name": "LC",
         "showlegend": false,
         "type": "scatter",
         "x": [
          0,
          1,
          2,
          3,
          4,
          5,
          6,
          7,
          8,
          9,
          10,
          11,
          12,
          13,
          14,
          15
         ],
         "xaxis": "x6",
         "y": [
          0,
          -0.3464759560874195,
          -0.3464759560874195,
          -0.34647595608741943,
          -0.3464759560874195,
          -0.34647595608741955,
          -0.3464759560874195,
          -0.3464759560874195,
          -0.3464759560874195,
          -0.3464759560874195,
          -0.34647595608741943,
          -0.3464759560874195,
          -0.3464759560874195,
          -0.34647595608741955,
          -0.34647595608741955,
          -0.3464759560874195
         ],
         "yaxis": "y6"
        }
       ],
       "layout": {
        "annotations": [
         {
          "font": {
           "size": 16
          },
          "showarrow": false,
          "text": "Unemployment_Rate (transformed)",
          "x": 0.225,
          "xanchor": "center",
          "xref": "paper",
          "y": 1,
          "yanchor": "bottom",
          "yref": "paper"
         },
         {
          "font": {
           "size": 16
          },
          "showarrow": false,
          "text": "Periodogram",
          "x": 0.775,
          "xanchor": "center",
          "xref": "paper",
          "y": 1,
          "yanchor": "bottom",
          "yref": "paper"
         },
         {
          "font": {
           "size": 16
          },
          "showarrow": false,
          "text": "Histogram",
          "x": 0.225,
          "xanchor": "center",
          "xref": "paper",
          "y": 0.6111111111111112,
          "yanchor": "bottom",
          "yref": "paper"
         },
         {
          "font": {
           "size": 16
          },
          "showarrow": false,
          "text": "Q-Q Plot",
          "x": 0.775,
          "xanchor": "center",
          "xref": "paper",
          "y": 0.6111111111111112,
          "yanchor": "bottom",
          "yref": "paper"
         },
         {
          "font": {
           "size": 16
          },
          "showarrow": false,
          "text": "ACF",
          "x": 0.225,
          "xanchor": "center",
          "xref": "paper",
          "y": 0.22222222222222227,
          "yanchor": "bottom",
          "yref": "paper"
         },
         {
          "font": {
           "size": 16
          },
          "showarrow": false,
          "text": "PACF",
          "x": 0.775,
          "xanchor": "center",
          "xref": "paper",
          "y": 0.22222222222222227,
          "yanchor": "bottom",
          "yref": "paper"
         }
        ],
        "autosize": false,
        "height": 800,
        "showlegend": false,
        "template": {
         "data": {
          "bar": [
           {
            "error_x": {
             "color": "rgb(51,51,51)"
            },
            "error_y": {
             "color": "rgb(51,51,51)"
            },
            "marker": {
             "line": {
              "color": "rgb(237,237,237)",
              "width": 0.5
             },
             "pattern": {
              "fillmode": "overlay",
              "size": 10,
              "solidity": 0.2
             }
            },
            "type": "bar"
           }
          ],
          "barpolar": [
           {
            "marker": {
             "line": {
              "color": "rgb(237,237,237)",
              "width": 0.5
             },
             "pattern": {
              "fillmode": "overlay",
              "size": 10,
              "solidity": 0.2
             }
            },
            "type": "barpolar"
           }
          ],
          "carpet": [
           {
            "aaxis": {
             "endlinecolor": "rgb(51,51,51)",
             "gridcolor": "white",
             "linecolor": "white",
             "minorgridcolor": "white",
             "startlinecolor": "rgb(51,51,51)"
            },
            "baxis": {
             "endlinecolor": "rgb(51,51,51)",
             "gridcolor": "white",
             "linecolor": "white",
             "minorgridcolor": "white",
             "startlinecolor": "rgb(51,51,51)"
            },
            "type": "carpet"
           }
          ],
          "choropleth": [
           {
            "colorbar": {
             "outlinewidth": 0,
             "tickcolor": "rgb(237,237,237)",
             "ticklen": 6,
             "ticks": "inside"
            },
            "type": "choropleth"
           }
          ],
          "contour": [
           {
            "colorbar": {
             "outlinewidth": 0,
             "tickcolor": "rgb(237,237,237)",
             "ticklen": 6,
             "ticks": "inside"
            },
            "colorscale": [
             [
              0,
              "rgb(20,44,66)"
             ],
             [
              1,
              "rgb(90,179,244)"
             ]
            ],
            "type": "contour"
           }
          ],
          "contourcarpet": [
           {
            "colorbar": {
             "outlinewidth": 0,
             "tickcolor": "rgb(237,237,237)",
             "ticklen": 6,
             "ticks": "inside"
            },
            "type": "contourcarpet"
           }
          ],
          "heatmap": [
           {
            "colorbar": {
             "outlinewidth": 0,
             "tickcolor": "rgb(237,237,237)",
             "ticklen": 6,
             "ticks": "inside"
            },
            "colorscale": [
             [
              0,
              "rgb(20,44,66)"
             ],
             [
              1,
              "rgb(90,179,244)"
             ]
            ],
            "type": "heatmap"
           }
          ],
          "heatmapgl": [
           {
            "colorbar": {
             "outlinewidth": 0,
             "tickcolor": "rgb(237,237,237)",
             "ticklen": 6,
             "ticks": "inside"
            },
            "colorscale": [
             [
              0,
              "rgb(20,44,66)"
             ],
             [
              1,
              "rgb(90,179,244)"
             ]
            ],
            "type": "heatmapgl"
           }
          ],
          "histogram": [
           {
            "marker": {
             "pattern": {
              "fillmode": "overlay",
              "size": 10,
              "solidity": 0.2
             }
            },
            "type": "histogram"
           }
          ],
          "histogram2d": [
           {
            "colorbar": {
             "outlinewidth": 0,
             "tickcolor": "rgb(237,237,237)",
             "ticklen": 6,
             "ticks": "inside"
            },
            "colorscale": [
             [
              0,
              "rgb(20,44,66)"
             ],
             [
              1,
              "rgb(90,179,244)"
             ]
            ],
            "type": "histogram2d"
           }
          ],
          "histogram2dcontour": [
           {
            "colorbar": {
             "outlinewidth": 0,
             "tickcolor": "rgb(237,237,237)",
             "ticklen": 6,
             "ticks": "inside"
            },
            "colorscale": [
             [
              0,
              "rgb(20,44,66)"
             ],
             [
              1,
              "rgb(90,179,244)"
             ]
            ],
            "type": "histogram2dcontour"
           }
          ],
          "mesh3d": [
           {
            "colorbar": {
             "outlinewidth": 0,
             "tickcolor": "rgb(237,237,237)",
             "ticklen": 6,
             "ticks": "inside"
            },
            "type": "mesh3d"
           }
          ],
          "parcoords": [
           {
            "line": {
             "colorbar": {
              "outlinewidth": 0,
              "tickcolor": "rgb(237,237,237)",
              "ticklen": 6,
              "ticks": "inside"
             }
            },
            "type": "parcoords"
           }
          ],
          "pie": [
           {
            "automargin": true,
            "type": "pie"
           }
          ],
          "scatter": [
           {
            "fillpattern": {
             "fillmode": "overlay",
             "size": 10,
             "solidity": 0.2
            },
            "type": "scatter"
           }
          ],
          "scatter3d": [
           {
            "line": {
             "colorbar": {
              "outlinewidth": 0,
              "tickcolor": "rgb(237,237,237)",
              "ticklen": 6,
              "ticks": "inside"
             }
            },
            "marker": {
             "colorbar": {
              "outlinewidth": 0,
              "tickcolor": "rgb(237,237,237)",
              "ticklen": 6,
              "ticks": "inside"
             }
            },
            "type": "scatter3d"
           }
          ],
          "scattercarpet": [
           {
            "marker": {
             "colorbar": {
              "outlinewidth": 0,
              "tickcolor": "rgb(237,237,237)",
              "ticklen": 6,
              "ticks": "inside"
             }
            },
            "type": "scattercarpet"
           }
          ],
          "scattergeo": [
           {
            "marker": {
             "colorbar": {
              "outlinewidth": 0,
              "tickcolor": "rgb(237,237,237)",
              "ticklen": 6,
              "ticks": "inside"
             }
            },
            "type": "scattergeo"
           }
          ],
          "scattergl": [
           {
            "marker": {
             "colorbar": {
              "outlinewidth": 0,
              "tickcolor": "rgb(237,237,237)",
              "ticklen": 6,
              "ticks": "inside"
             }
            },
            "type": "scattergl"
           }
          ],
          "scattermapbox": [
           {
            "marker": {
             "colorbar": {
              "outlinewidth": 0,
              "tickcolor": "rgb(237,237,237)",
              "ticklen": 6,
              "ticks": "inside"
             }
            },
            "type": "scattermapbox"
           }
          ],
          "scatterpolar": [
           {
            "marker": {
             "colorbar": {
              "outlinewidth": 0,
              "tickcolor": "rgb(237,237,237)",
              "ticklen": 6,
              "ticks": "inside"
             }
            },
            "type": "scatterpolar"
           }
          ],
          "scatterpolargl": [
           {
            "marker": {
             "colorbar": {
              "outlinewidth": 0,
              "tickcolor": "rgb(237,237,237)",
              "ticklen": 6,
              "ticks": "inside"
             }
            },
            "type": "scatterpolargl"
           }
          ],
          "scatterternary": [
           {
            "marker": {
             "colorbar": {
              "outlinewidth": 0,
              "tickcolor": "rgb(237,237,237)",
              "ticklen": 6,
              "ticks": "inside"
             }
            },
            "type": "scatterternary"
           }
          ],
          "surface": [
           {
            "colorbar": {
             "outlinewidth": 0,
             "tickcolor": "rgb(237,237,237)",
             "ticklen": 6,
             "ticks": "inside"
            },
            "colorscale": [
             [
              0,
              "rgb(20,44,66)"
             ],
             [
              1,
              "rgb(90,179,244)"
             ]
            ],
            "type": "surface"
           }
          ],
          "table": [
           {
            "cells": {
             "fill": {
              "color": "rgb(237,237,237)"
             },
             "line": {
              "color": "white"
             }
            },
            "header": {
             "fill": {
              "color": "rgb(217,217,217)"
             },
             "line": {
              "color": "white"
             }
            },
            "type": "table"
           }
          ]
         },
         "layout": {
          "annotationdefaults": {
           "arrowhead": 0,
           "arrowwidth": 1
          },
          "autotypenumbers": "strict",
          "coloraxis": {
           "colorbar": {
            "outlinewidth": 0,
            "tickcolor": "rgb(237,237,237)",
            "ticklen": 6,
            "ticks": "inside"
           }
          },
          "colorscale": {
           "sequential": [
            [
             0,
             "rgb(20,44,66)"
            ],
            [
             1,
             "rgb(90,179,244)"
            ]
           ],
           "sequentialminus": [
            [
             0,
             "rgb(20,44,66)"
            ],
            [
             1,
             "rgb(90,179,244)"
            ]
           ]
          },
          "colorway": [
           "#F8766D",
           "#A3A500",
           "#00BF7D",
           "#00B0F6",
           "#E76BF3"
          ],
          "font": {
           "color": "rgb(51,51,51)"
          },
          "geo": {
           "bgcolor": "white",
           "lakecolor": "white",
           "landcolor": "rgb(237,237,237)",
           "showlakes": true,
           "showland": true,
           "subunitcolor": "white"
          },
          "hoverlabel": {
           "align": "left"
          },
          "hovermode": "closest",
          "paper_bgcolor": "white",
          "plot_bgcolor": "rgb(237,237,237)",
          "polar": {
           "angularaxis": {
            "gridcolor": "white",
            "linecolor": "white",
            "showgrid": true,
            "tickcolor": "rgb(51,51,51)",
            "ticks": "outside"
           },
           "bgcolor": "rgb(237,237,237)",
           "radialaxis": {
            "gridcolor": "white",
            "linecolor": "white",
            "showgrid": true,
            "tickcolor": "rgb(51,51,51)",
            "ticks": "outside"
           }
          },
          "scene": {
           "xaxis": {
            "backgroundcolor": "rgb(237,237,237)",
            "gridcolor": "white",
            "gridwidth": 2,
            "linecolor": "white",
            "showbackground": true,
            "showgrid": true,
            "tickcolor": "rgb(51,51,51)",
            "ticks": "outside",
            "zerolinecolor": "white"
           },
           "yaxis": {
            "backgroundcolor": "rgb(237,237,237)",
            "gridcolor": "white",
            "gridwidth": 2,
            "linecolor": "white",
            "showbackground": true,
            "showgrid": true,
            "tickcolor": "rgb(51,51,51)",
            "ticks": "outside",
            "zerolinecolor": "white"
           },
           "zaxis": {
            "backgroundcolor": "rgb(237,237,237)",
            "gridcolor": "white",
            "gridwidth": 2,
            "linecolor": "white",
            "showbackground": true,
            "showgrid": true,
            "tickcolor": "rgb(51,51,51)",
            "ticks": "outside",
            "zerolinecolor": "white"
           }
          },
          "shapedefaults": {
           "fillcolor": "black",
           "line": {
            "width": 0
           },
           "opacity": 0.3
          },
          "ternary": {
           "aaxis": {
            "gridcolor": "white",
            "linecolor": "white",
            "showgrid": true,
            "tickcolor": "rgb(51,51,51)",
            "ticks": "outside"
           },
           "baxis": {
            "gridcolor": "white",
            "linecolor": "white",
            "showgrid": true,
            "tickcolor": "rgb(51,51,51)",
            "ticks": "outside"
           },
           "bgcolor": "rgb(237,237,237)",
           "caxis": {
            "gridcolor": "white",
            "linecolor": "white",
            "showgrid": true,
            "tickcolor": "rgb(51,51,51)",
            "ticks": "outside"
           }
          },
          "xaxis": {
           "automargin": true,
           "gridcolor": "white",
           "linecolor": "white",
           "showgrid": true,
           "tickcolor": "rgb(51,51,51)",
           "ticks": "outside",
           "title": {
            "standoff": 15
           },
           "zerolinecolor": "white"
          },
          "yaxis": {
           "automargin": true,
           "gridcolor": "white",
           "linecolor": "white",
           "showgrid": true,
           "tickcolor": "rgb(51,51,51)",
           "ticks": "outside",
           "title": {
            "standoff": 15
           },
           "zerolinecolor": "white"
          }
         }
        },
        "title": {
         "text": "Diagnostics | Unemployment_Rate"
        },
        "width": 1000,
        "xaxis": {
         "anchor": "y",
         "domain": [
          0,
          0.45
         ]
        },
        "xaxis2": {
         "anchor": "y2",
         "domain": [
          0.55,
          1
         ],
         "range": [
          0,
          0.5
         ]
        },
        "xaxis3": {
         "anchor": "y3",
         "domain": [
          0,
          0.45
         ],
         "title": {
          "text": "Range of Values"
         }
        },
        "xaxis4": {
         "anchor": "y4",
         "domain": [
          0.55,
          1
         ],
         "title": {
          "text": "Theoretical Quantities"
         }
        },
        "xaxis5": {
         "anchor": "y5",
         "domain": [
          0,
          0.45
         ],
         "range": [
          -1,
          33
         ]
        },
        "xaxis6": {
         "anchor": "y6",
         "domain": [
          0.55,
          1
         ],
         "range": [
          -1,
          17
         ]
        },
        "yaxis": {
         "anchor": "x",
         "domain": [
          0.7777777777777779,
          1
         ]
        },
        "yaxis2": {
         "anchor": "x2",
         "domain": [
          0.7777777777777779,
          1
         ]
        },
        "yaxis3": {
         "anchor": "x3",
         "domain": [
          0.38888888888888895,
          0.6111111111111112
         ],
         "title": {
          "text": "PDF"
         }
        },
        "yaxis4": {
         "anchor": "x4",
         "domain": [
          0.38888888888888895,
          0.6111111111111112
         ],
         "title": {
          "text": "Sample Quantities"
         }
        },
        "yaxis5": {
         "anchor": "x5",
         "domain": [
          0,
          0.22222222222222227
         ],
         "range": [
          -1.1,
          1.1
         ],
         "zerolinecolor": "#000000"
        },
        "yaxis6": {
         "anchor": "x6",
         "domain": [
          0,
          0.22222222222222227
         ],
         "range": [
          -1.1,
          1.1
         ],
         "zerolinecolor": "#000000"
        }
       }
      }
     },
     "metadata": {},
     "output_type": "display_data"
    }
   ],
   "source": [
    "exp.plot_model(plot=\"diagnostics\", fig_kwargs={\"height\": 800, \"width\": 1000})"
   ]
  },
  {
   "cell_type": "markdown",
   "metadata": {},
   "source": [
    "difference plot"
   ]
  },
  {
   "cell_type": "code",
   "execution_count": 259,
   "metadata": {},
   "outputs": [
    {
     "data": {
      "application/vnd.plotly.v1+json": {
       "config": {
        "plotlyServerURL": "https://plot.ly"
       },
       "data": [
        {
         "line": {
          "color": "rgb(31, 119, 180)",
          "width": 2
         },
         "marker": {
          "color": "rgb(31, 119, 180)",
          "size": 5
         },
         "mode": "lines+markers",
         "name": "Actual",
         "showlegend": false,
         "type": "scattergl",
         "x": [
          "2009-01-01T00:00:00",
          "2009-07-01T00:00:00",
          "2010-01-01T00:00:00",
          "2010-07-01T00:00:00",
          "2011-01-01T00:00:00",
          "2011-07-01T00:00:00",
          "2012-01-01T00:00:00",
          "2012-07-01T00:00:00",
          "2013-01-01T00:00:00",
          "2013-07-01T00:00:00",
          "2014-01-01T00:00:00",
          "2014-07-01T00:00:00",
          "2015-01-01T00:00:00",
          "2015-07-01T00:00:00",
          "2016-01-01T00:00:00",
          "2016-07-01T00:00:00",
          "2017-01-01T00:00:00",
          "2017-07-01T00:00:00",
          "2018-01-01T00:00:00",
          "2018-07-01T00:00:00",
          "2019-01-01T00:00:00",
          "2019-07-01T00:00:00",
          "2020-01-01T00:00:00",
          "2020-07-01T00:00:00",
          "2021-01-01T00:00:00",
          "2021-07-01T00:00:00",
          "2022-01-01T00:00:00",
          "2022-07-01T00:00:00",
          "2023-01-01T00:00:00",
          "2023-07-01T00:00:00",
          "2024-01-01T00:00:00",
          "2024-07-01T00:00:00"
         ],
         "xaxis": "x",
         "y": [
          18.040630030101887,
          17.14238687901972,
          15.775726707916432,
          15.989462347425771,
          16.851591124698285,
          16.717763415603496,
          14.310062356756935,
          14.5723059746109,
          13.3476811958149,
          15.849200216451232,
          12.565402640695696,
          16.084781044581263,
          14.11539724268468,
          16.397679501557164,
          13.548613123951707,
          14.186108713893296,
          11.812189996775132,
          14.866057832702904,
          12.5799081053059,
          14.163591538115917,
          12.020975928692252,
          13.680974319783642,
          12.22887496390804,
          15.862362395833156,
          14.188898876104474,
          15.018407075494991,
          12.948944225299863,
          14.764916741760771,
          12.265233452406,
          14.177533914667926,
          12.378460471546267,
          12.871909126092456
         ],
         "yaxis": "y"
        },
        {
         "line": {
          "color": "#3f3f3f"
         },
         "mode": "lines",
         "name": "Actual",
         "showlegend": false,
         "type": "scattergl",
         "x": [
          0,
          0
         ],
         "xaxis": "x2",
         "y": [
          0,
          1
         ],
         "yaxis": "y2"
        },
        {
         "line": {
          "color": "#3f3f3f"
         },
         "mode": "lines",
         "name": "Actual",
         "showlegend": false,
         "type": "scattergl",
         "x": [
          1,
          1
         ],
         "xaxis": "x2",
         "y": [
          0,
          0.18504117161847267
         ],
         "yaxis": "y2"
        },
        {
         "line": {
          "color": "#3f3f3f"
         },
         "mode": "lines",
         "name": "Actual",
         "showlegend": false,
         "type": "scattergl",
         "x": [
          2,
          2
         ],
         "xaxis": "x2",
         "y": [
          0,
          0.5684081260029388
         ],
         "yaxis": "y2"
        },
        {
         "line": {
          "color": "#3f3f3f"
         },
         "mode": "lines",
         "name": "Actual",
         "showlegend": false,
         "type": "scattergl",
         "x": [
          3,
          3
         ],
         "xaxis": "x2",
         "y": [
          0,
          -0.03720895127913193
         ],
         "yaxis": "y2"
        },
        {
         "line": {
          "color": "#3f3f3f"
         },
         "mode": "lines",
         "name": "Actual",
         "showlegend": false,
         "type": "scattergl",
         "x": [
          4,
          4
         ],
         "xaxis": "x2",
         "y": [
          0,
          0.4579087681615409
         ],
         "yaxis": "y2"
        },
        {
         "line": {
          "color": "#3f3f3f"
         },
         "mode": "lines",
         "name": "Actual",
         "showlegend": false,
         "type": "scattergl",
         "x": [
          5,
          5
         ],
         "xaxis": "x2",
         "y": [
          0,
          -0.10816644742244212
         ],
         "yaxis": "y2"
        },
        {
         "line": {
          "color": "#3f3f3f"
         },
         "mode": "lines",
         "name": "Actual",
         "showlegend": false,
         "type": "scattergl",
         "x": [
          6,
          6
         ],
         "xaxis": "x2",
         "y": [
          0,
          0.2588867444234534
         ],
         "yaxis": "y2"
        },
        {
         "line": {
          "color": "#3f3f3f"
         },
         "mode": "lines",
         "name": "Actual",
         "showlegend": false,
         "type": "scattergl",
         "x": [
          7,
          7
         ],
         "xaxis": "x2",
         "y": [
          0,
          -0.19491234199784738
         ],
         "yaxis": "y2"
        },
        {
         "line": {
          "color": "#3f3f3f"
         },
         "mode": "lines",
         "name": "Actual",
         "showlegend": false,
         "type": "scattergl",
         "x": [
          8,
          8
         ],
         "xaxis": "x2",
         "y": [
          0,
          0.2535857170705135
         ],
         "yaxis": "y2"
        },
        {
         "line": {
          "color": "#3f3f3f"
         },
         "mode": "lines",
         "name": "Actual",
         "showlegend": false,
         "type": "scattergl",
         "x": [
          9,
          9
         ],
         "xaxis": "x2",
         "y": [
          0,
          -0.05055967766636824
         ],
         "yaxis": "y2"
        },
        {
         "line": {
          "color": "#3f3f3f"
         },
         "mode": "lines",
         "name": "Actual",
         "showlegend": false,
         "type": "scattergl",
         "x": [
          10,
          10
         ],
         "xaxis": "x2",
         "y": [
          0,
          0.23498559920588827
         ],
         "yaxis": "y2"
        },
        {
         "line": {
          "color": "#3f3f3f"
         },
         "mode": "lines",
         "name": "Actual",
         "showlegend": false,
         "type": "scattergl",
         "x": [
          11,
          11
         ],
         "xaxis": "x2",
         "y": [
          0,
          -0.04639128266361697
         ],
         "yaxis": "y2"
        },
        {
         "line": {
          "color": "#3f3f3f"
         },
         "mode": "lines",
         "name": "Actual",
         "showlegend": false,
         "type": "scattergl",
         "x": [
          12,
          12
         ],
         "xaxis": "x2",
         "y": [
          0,
          0.2010699779535431
         ],
         "yaxis": "y2"
        },
        {
         "line": {
          "color": "#3f3f3f"
         },
         "mode": "lines",
         "name": "Actual",
         "showlegend": false,
         "type": "scattergl",
         "x": [
          13,
          13
         ],
         "xaxis": "x2",
         "y": [
          0,
          -0.100501465137221
         ],
         "yaxis": "y2"
        },
        {
         "line": {
          "color": "#3f3f3f"
         },
         "mode": "lines",
         "name": "Actual",
         "showlegend": false,
         "type": "scattergl",
         "x": [
          14,
          14
         ],
         "xaxis": "x2",
         "y": [
          0,
          0.022560997969307592
         ],
         "yaxis": "y2"
        },
        {
         "line": {
          "color": "#3f3f3f"
         },
         "mode": "lines",
         "name": "Actual",
         "showlegend": false,
         "type": "scattergl",
         "x": [
          15,
          15
         ],
         "xaxis": "x2",
         "y": [
          0,
          -0.24702257291990617
         ],
         "yaxis": "y2"
        },
        {
         "line": {
          "color": "#3f3f3f"
         },
         "mode": "lines",
         "name": "Actual",
         "showlegend": false,
         "type": "scattergl",
         "x": [
          16,
          16
         ],
         "xaxis": "x2",
         "y": [
          0,
          -0.1305690223663461
         ],
         "yaxis": "y2"
        },
        {
         "line": {
          "color": "#3f3f3f"
         },
         "mode": "lines",
         "name": "Actual",
         "showlegend": false,
         "type": "scattergl",
         "x": [
          17,
          17
         ],
         "xaxis": "x2",
         "y": [
          0,
          -0.2743779649116532
         ],
         "yaxis": "y2"
        },
        {
         "line": {
          "color": "#3f3f3f"
         },
         "mode": "lines",
         "name": "Actual",
         "showlegend": false,
         "type": "scattergl",
         "x": [
          18,
          18
         ],
         "xaxis": "x2",
         "y": [
          0,
          -0.11876125952088701
         ],
         "yaxis": "y2"
        },
        {
         "line": {
          "color": "#3f3f3f"
         },
         "mode": "lines",
         "name": "Actual",
         "showlegend": false,
         "type": "scattergl",
         "x": [
          19,
          19
         ],
         "xaxis": "x2",
         "y": [
          0,
          -0.17219204340793387
         ],
         "yaxis": "y2"
        },
        {
         "line": {
          "color": "#3f3f3f"
         },
         "mode": "lines",
         "name": "Actual",
         "showlegend": false,
         "type": "scattergl",
         "x": [
          20,
          20
         ],
         "xaxis": "x2",
         "y": [
          0,
          -0.08184388714355935
         ],
         "yaxis": "y2"
        },
        {
         "line": {
          "color": "#3f3f3f"
         },
         "mode": "lines",
         "name": "Actual",
         "showlegend": false,
         "type": "scattergl",
         "x": [
          21,
          21
         ],
         "xaxis": "x2",
         "y": [
          0,
          -0.10368334516476857
         ],
         "yaxis": "y2"
        },
        {
         "line": {
          "color": "#3f3f3f"
         },
         "mode": "lines",
         "name": "Actual",
         "showlegend": false,
         "type": "scattergl",
         "x": [
          22,
          22
         ],
         "xaxis": "x2",
         "y": [
          0,
          -0.0678701512453525
         ],
         "yaxis": "y2"
        },
        {
         "line": {
          "color": "#3f3f3f"
         },
         "mode": "lines",
         "name": "Actual",
         "showlegend": false,
         "type": "scattergl",
         "x": [
          23,
          23
         ],
         "xaxis": "x2",
         "y": [
          0,
          0.004402587126721464
         ],
         "yaxis": "y2"
        },
        {
         "line": {
          "color": "#3f3f3f"
         },
         "mode": "lines",
         "name": "Actual",
         "showlegend": false,
         "type": "scattergl",
         "x": [
          24,
          24
         ],
         "xaxis": "x2",
         "y": [
          0,
          -0.0733178577919012
         ],
         "yaxis": "y2"
        },
        {
         "line": {
          "color": "#3f3f3f"
         },
         "mode": "lines",
         "name": "Actual",
         "showlegend": false,
         "type": "scattergl",
         "x": [
          25,
          25
         ],
         "xaxis": "x2",
         "y": [
          0,
          -0.11194332193181453
         ],
         "yaxis": "y2"
        },
        {
         "line": {
          "color": "#3f3f3f"
         },
         "mode": "lines",
         "name": "Actual",
         "showlegend": false,
         "type": "scattergl",
         "x": [
          26,
          26
         ],
         "xaxis": "x2",
         "y": [
          0,
          -0.1842055665954159
         ],
         "yaxis": "y2"
        },
        {
         "line": {
          "color": "#3f3f3f"
         },
         "mode": "lines",
         "name": "Actual",
         "showlegend": false,
         "type": "scattergl",
         "x": [
          27,
          27
         ],
         "xaxis": "x2",
         "y": [
          0,
          -0.1353484889569037
         ],
         "yaxis": "y2"
        },
        {
         "line": {
          "color": "#3f3f3f"
         },
         "mode": "lines",
         "name": "Actual",
         "showlegend": false,
         "type": "scattergl",
         "x": [
          28,
          28
         ],
         "xaxis": "x2",
         "y": [
          0,
          -0.15531952382687916
         ],
         "yaxis": "y2"
        },
        {
         "line": {
          "color": "#3f3f3f"
         },
         "mode": "lines",
         "name": "Actual",
         "showlegend": false,
         "type": "scattergl",
         "x": [
          29,
          29
         ],
         "xaxis": "x2",
         "y": [
          0,
          -0.09697204097743256
         ],
         "yaxis": "y2"
        },
        {
         "line": {
          "color": "#3f3f3f"
         },
         "mode": "lines",
         "name": "Actual",
         "showlegend": false,
         "type": "scattergl",
         "x": [
          30,
          30
         ],
         "xaxis": "x2",
         "y": [
          0,
          -0.13197654281135723
         ],
         "yaxis": "y2"
        },
        {
         "line": {
          "color": "#3f3f3f"
         },
         "mode": "lines",
         "name": "Actual",
         "showlegend": false,
         "type": "scattergl",
         "x": [
          31,
          31
         ],
         "xaxis": "x2",
         "y": [
          0,
          -0.06370593379364091
         ],
         "yaxis": "y2"
        },
        {
         "marker": {
          "color": "#1f77b4",
          "size": 6
         },
         "mode": "markers",
         "name": "Actual",
         "showlegend": false,
         "type": "scattergl",
         "x": [
          0,
          1,
          2,
          3,
          4,
          5,
          6,
          7,
          8,
          9,
          10,
          11,
          12,
          13,
          14,
          15,
          16,
          17,
          18,
          19,
          20,
          21,
          22,
          23,
          24,
          25,
          26,
          27,
          28,
          29,
          30,
          31
         ],
         "xaxis": "x2",
         "y": [
          1,
          0.18504117161847267,
          0.5684081260029388,
          -0.03720895127913193,
          0.4579087681615409,
          -0.10816644742244212,
          0.2588867444234534,
          -0.19491234199784738,
          0.2535857170705135,
          -0.05055967766636824,
          0.23498559920588827,
          -0.04639128266361697,
          0.2010699779535431,
          -0.100501465137221,
          0.022560997969307592,
          -0.24702257291990617,
          -0.1305690223663461,
          -0.2743779649116532,
          -0.11876125952088701,
          -0.17219204340793387,
          -0.08184388714355935,
          -0.10368334516476857,
          -0.0678701512453525,
          0.004402587126721464,
          -0.0733178577919012,
          -0.11194332193181453,
          -0.1842055665954159,
          -0.1353484889569037,
          -0.15531952382687916,
          -0.09697204097743256,
          -0.13197654281135723,
          -0.06370593379364091
         ],
         "yaxis": "y2"
        },
        {
         "line": {
          "color": "rgba(255,255,255,0)"
         },
         "mode": "lines",
         "name": "UC",
         "showlegend": false,
         "type": "scatter",
         "x": [
          0,
          1,
          2,
          3,
          4,
          5,
          6,
          7,
          8,
          9,
          10,
          11,
          12,
          13,
          14,
          15,
          16,
          17,
          18,
          19,
          20,
          21,
          22,
          23,
          24,
          25,
          26,
          27,
          28,
          29,
          30,
          31
         ],
         "xaxis": "x2",
         "y": [
          0,
          0.34647595608741943,
          0.358142941422787,
          0.45369251248866715,
          0.45405870058361397,
          0.5064698678610634,
          0.5092354947326059,
          0.5247973543091141,
          0.5334168388860943,
          0.5476976894059101,
          0.5482576944231373,
          0.5602177342141859,
          0.5606787156821266,
          0.5692690937034475,
          0.5713950933066256,
          0.5715020198866709,
          0.5841788755967269,
          0.5876717602504784,
          0.602854000630473,
          0.6056560483238919,
          0.6115046820856171,
          0.6128182505416861,
          0.6149205192698841,
          0.6158191218149665,
          0.6158229002122475,
          0.6168698862238531,
          0.619303732304282,
          0.6258464766980343,
          0.629350533410773,
          0.6339353993358039,
          0.6357136197454283,
          0.6389942631241528
         ],
         "yaxis": "y2"
        },
        {
         "fill": "tonexty",
         "fillcolor": "rgba(32, 146, 230,0.3)",
         "line": {
          "color": "rgba(255,255,255,0)"
         },
         "mode": "lines",
         "name": "LC",
         "showlegend": false,
         "type": "scatter",
         "x": [
          0,
          1,
          2,
          3,
          4,
          5,
          6,
          7,
          8,
          9,
          10,
          11,
          12,
          13,
          14,
          15,
          16,
          17,
          18,
          19,
          20,
          21,
          22,
          23,
          24,
          25,
          26,
          27,
          28,
          29,
          30,
          31
         ],
         "xaxis": "x2",
         "y": [
          0,
          -0.3464759560874195,
          -0.358142941422787,
          -0.45369251248866715,
          -0.4540587005836139,
          -0.5064698678610634,
          -0.5092354947326059,
          -0.5247973543091141,
          -0.5334168388860943,
          -0.5476976894059101,
          -0.5482576944231373,
          -0.5602177342141859,
          -0.5606787156821266,
          -0.5692690937034475,
          -0.5713950933066256,
          -0.5715020198866709,
          -0.584178875596727,
          -0.5876717602504784,
          -0.602854000630473,
          -0.605656048323892,
          -0.6115046820856171,
          -0.6128182505416864,
          -0.6149205192698841,
          -0.6158191218149665,
          -0.6158229002122477,
          -0.6168698862238531,
          -0.619303732304282,
          -0.6258464766980343,
          -0.629350533410773,
          -0.6339353993358039,
          -0.6357136197454283,
          -0.6389942631241528
         ],
         "yaxis": "y2"
        },
        {
         "line": {
          "color": "#3f3f3f"
         },
         "mode": "lines",
         "name": "Actual",
         "showlegend": false,
         "type": "scattergl",
         "x": [
          0,
          0
         ],
         "xaxis": "x3",
         "y": [
          0,
          1
         ],
         "yaxis": "y3"
        },
        {
         "line": {
          "color": "#3f3f3f"
         },
         "mode": "lines",
         "name": "Actual",
         "showlegend": false,
         "type": "scattergl",
         "x": [
          1,
          1
         ],
         "xaxis": "x3",
         "y": [
          0,
          0.1910102416706814
         ],
         "yaxis": "y3"
        },
        {
         "line": {
          "color": "#3f3f3f"
         },
         "mode": "lines",
         "name": "Actual",
         "showlegend": false,
         "type": "scattergl",
         "x": [
          2,
          2
         ],
         "xaxis": "x3",
         "y": [
          0,
          0.5913940487218643
         ],
         "yaxis": "y3"
        },
        {
         "line": {
          "color": "#3f3f3f"
         },
         "mode": "lines",
         "name": "Actual",
         "showlegend": false,
         "type": "scattergl",
         "x": [
          3,
          3
         ],
         "xaxis": "x3",
         "y": [
          0,
          -0.3213597390794648
         ],
         "yaxis": "y3"
        },
        {
         "line": {
          "color": "#3f3f3f"
         },
         "mode": "lines",
         "name": "Actual",
         "showlegend": false,
         "type": "scattergl",
         "x": [
          4,
          4
         ],
         "xaxis": "x3",
         "y": [
          0,
          0.39504169226887115
         ],
         "yaxis": "y3"
        },
        {
         "line": {
          "color": "#3f3f3f"
         },
         "mode": "lines",
         "name": "Actual",
         "showlegend": false,
         "type": "scattergl",
         "x": [
          5,
          5
         ],
         "xaxis": "x3",
         "y": [
          0,
          -0.28688502466774213
         ],
         "yaxis": "y3"
        },
        {
         "line": {
          "color": "#3f3f3f"
         },
         "mode": "lines",
         "name": "Actual",
         "showlegend": false,
         "type": "scattergl",
         "x": [
          6,
          6
         ],
         "xaxis": "x3",
         "y": [
          0,
          -0.03171533172915288
         ],
         "yaxis": "y3"
        },
        {
         "line": {
          "color": "#3f3f3f"
         },
         "mode": "lines",
         "name": "Actual",
         "showlegend": false,
         "type": "scattergl",
         "x": [
          7,
          7
         ],
         "xaxis": "x3",
         "y": [
          0,
          -0.02315550198384104
         ],
         "yaxis": "y3"
        },
        {
         "line": {
          "color": "#3f3f3f"
         },
         "mode": "lines",
         "name": "Actual",
         "showlegend": false,
         "type": "scattergl",
         "x": [
          8,
          8
         ],
         "xaxis": "x3",
         "y": [
          0,
          0.18031050054525985
         ],
         "yaxis": "y3"
        },
        {
         "line": {
          "color": "#3f3f3f"
         },
         "mode": "lines",
         "name": "Actual",
         "showlegend": false,
         "type": "scattergl",
         "x": [
          9,
          9
         ],
         "xaxis": "x3",
         "y": [
          0,
          0.24979310856976253
         ],
         "yaxis": "y3"
        },
        {
         "line": {
          "color": "#3f3f3f"
         },
         "mode": "lines",
         "name": "Actual",
         "showlegend": false,
         "type": "scattergl",
         "x": [
          10,
          10
         ],
         "xaxis": "x3",
         "y": [
          0,
          -0.16729839342012565
         ],
         "yaxis": "y3"
        },
        {
         "line": {
          "color": "#3f3f3f"
         },
         "mode": "lines",
         "name": "Actual",
         "showlegend": false,
         "type": "scattergl",
         "x": [
          11,
          11
         ],
         "xaxis": "x3",
         "y": [
          0,
          0.19027675911003683
         ],
         "yaxis": "y3"
        },
        {
         "line": {
          "color": "#3f3f3f"
         },
         "mode": "lines",
         "name": "Actual",
         "showlegend": false,
         "type": "scattergl",
         "x": [
          12,
          12
         ],
         "xaxis": "x3",
         "y": [
          0,
          -0.12662797207612775
         ],
         "yaxis": "y3"
        },
        {
         "line": {
          "color": "#3f3f3f"
         },
         "mode": "lines",
         "name": "Actual",
         "showlegend": false,
         "type": "scattergl",
         "x": [
          13,
          13
         ],
         "xaxis": "x3",
         "y": [
          0,
          -0.3865401152903154
         ],
         "yaxis": "y3"
        },
        {
         "line": {
          "color": "#3f3f3f"
         },
         "mode": "lines",
         "name": "Actual",
         "showlegend": false,
         "type": "scattergl",
         "x": [
          14,
          14
         ],
         "xaxis": "x3",
         "y": [
          0,
          -0.2242351851755471
         ],
         "yaxis": "y3"
        },
        {
         "line": {
          "color": "#3f3f3f"
         },
         "mode": "lines",
         "name": "Actual",
         "showlegend": false,
         "type": "scattergl",
         "x": [
          15,
          15
         ],
         "xaxis": "x3",
         "y": [
          0,
          -0.4617219043259692
         ],
         "yaxis": "y3"
        },
        {
         "marker": {
          "color": "#1f77b4",
          "size": 6
         },
         "mode": "markers",
         "name": "Actual",
         "showlegend": false,
         "type": "scattergl",
         "x": [
          0,
          1,
          2,
          3,
          4,
          5,
          6,
          7,
          8,
          9,
          10,
          11,
          12,
          13,
          14,
          15
         ],
         "xaxis": "x3",
         "y": [
          1,
          0.1910102416706814,
          0.5913940487218643,
          -0.3213597390794648,
          0.39504169226887115,
          -0.28688502466774213,
          -0.03171533172915288,
          -0.02315550198384104,
          0.18031050054525985,
          0.24979310856976253,
          -0.16729839342012565,
          0.19027675911003683,
          -0.12662797207612775,
          -0.3865401152903154,
          -0.2242351851755471,
          -0.4617219043259692
         ],
         "yaxis": "y3"
        },
        {
         "line": {
          "color": "rgba(255,255,255,0)"
         },
         "mode": "lines",
         "name": "UC",
         "showlegend": false,
         "type": "scatter",
         "x": [
          0,
          1,
          2,
          3,
          4,
          5,
          6,
          7,
          8,
          9,
          10,
          11,
          12,
          13,
          14,
          15
         ],
         "xaxis": "x3",
         "y": [
          0,
          0.34647595608741955,
          0.34647595608741955,
          0.3464759560874195,
          0.3464759560874195,
          0.3464759560874195,
          0.3464759560874195,
          0.3464759560874195,
          0.34647595608741943,
          0.34647595608741943,
          0.3464759560874195,
          0.34647595608741943,
          0.3464759560874195,
          0.3464759560874195,
          0.3464759560874195,
          0.3464759560874195
         ],
         "yaxis": "y3"
        },
        {
         "fill": "tonexty",
         "fillcolor": "rgba(32, 146, 230,0.3)",
         "line": {
          "color": "rgba(255,255,255,0)"
         },
         "mode": "lines",
         "name": "LC",
         "showlegend": false,
         "type": "scatter",
         "x": [
          0,
          1,
          2,
          3,
          4,
          5,
          6,
          7,
          8,
          9,
          10,
          11,
          12,
          13,
          14,
          15
         ],
         "xaxis": "x3",
         "y": [
          0,
          -0.3464759560874195,
          -0.3464759560874195,
          -0.34647595608741943,
          -0.3464759560874195,
          -0.34647595608741955,
          -0.3464759560874195,
          -0.3464759560874195,
          -0.3464759560874195,
          -0.3464759560874195,
          -0.34647595608741943,
          -0.3464759560874195,
          -0.3464759560874195,
          -0.34647595608741955,
          -0.34647595608741955,
          -0.3464759560874195
         ],
         "yaxis": "y3"
        },
        {
         "hoverinfo": "text",
         "hovertext": [
          "Freq: 0.0312<br>Ampl: 9.7442<br>Time period: 32.0",
          "Freq: 0.0625<br>Ampl: 8.5179<br>Time period: 16.0",
          "Freq: 0.0938<br>Ampl: 6.2312<br>Time period: 10.6667",
          "Freq: 0.125<br>Ampl: -1.852<br>Time period: 8.0",
          "Freq: 0.1562<br>Ampl: 4.2809<br>Time period: 6.4",
          "Freq: 0.1875<br>Ampl: 5.4629<br>Time period: 5.3333",
          "Freq: 0.2188<br>Ampl: 2.7361<br>Time period: 4.5714",
          "Freq: 0.25<br>Ampl: -4.3849<br>Time period: 4.0",
          "Freq: 0.2812<br>Ampl: -6.1274<br>Time period: 3.5556",
          "Freq: 0.3125<br>Ampl: -3.3678<br>Time period: 3.2",
          "Freq: 0.3438<br>Ampl: -1.1127<br>Time period: 2.9091",
          "Freq: 0.375<br>Ampl: -5.407<br>Time period: 2.6667",
          "Freq: 0.4062<br>Ampl: -11.1707<br>Time period: 2.4615",
          "Freq: 0.4375<br>Ampl: -0.705<br>Time period: 2.2857",
          "Freq: 0.4688<br>Ampl: 12.4125<br>Time period: 2.1333",
          "Freq: 0.5<br>Ampl: 12.9884<br>Time period: 2.0"
         ],
         "line": {
          "color": "#1f77b4",
          "width": 2
         },
         "marker": {
          "size": 5
         },
         "mode": "lines+markers",
         "name": "Actual",
         "showlegend": false,
         "type": "scattergl",
         "x": [
          0.03125,
          0.0625,
          0.09375,
          0.125,
          0.15625,
          0.1875,
          0.21875,
          0.25,
          0.28125,
          0.3125,
          0.34375,
          0.375,
          0.40625,
          0.4375,
          0.46875,
          0.5
         ],
         "xaxis": "x4",
         "y": [
          9.744208576875046,
          8.517933127601001,
          6.231202975380831,
          -1.8519855708885455,
          4.2809188915150145,
          5.462901852689884,
          2.736055662069244,
          -4.384856824259694,
          -6.127423064528897,
          -3.3678229604482124,
          -1.1127040292803818,
          -5.406976463419415,
          -11.170677943421193,
          -0.7049810418348095,
          12.412527196038772,
          12.988363245141375
         ],
         "yaxis": "y4"
        },
        {
         "line": {
          "color": "rgb(31, 119, 180)",
          "width": 2
         },
         "marker": {
          "color": "rgb(31, 119, 180)",
          "size": 5
         },
         "mode": "lines+markers",
         "name": "Lags=[1]",
         "showlegend": false,
         "type": "scattergl",
         "x": [
          "2009-07-01T00:00:00",
          "2010-01-01T00:00:00",
          "2010-07-01T00:00:00",
          "2011-01-01T00:00:00",
          "2011-07-01T00:00:00",
          "2012-01-01T00:00:00",
          "2012-07-01T00:00:00",
          "2013-01-01T00:00:00",
          "2013-07-01T00:00:00",
          "2014-01-01T00:00:00",
          "2014-07-01T00:00:00",
          "2015-01-01T00:00:00",
          "2015-07-01T00:00:00",
          "2016-01-01T00:00:00",
          "2016-07-01T00:00:00",
          "2017-01-01T00:00:00",
          "2017-07-01T00:00:00",
          "2018-01-01T00:00:00",
          "2018-07-01T00:00:00",
          "2019-01-01T00:00:00",
          "2019-07-01T00:00:00",
          "2020-01-01T00:00:00",
          "2020-07-01T00:00:00",
          "2021-01-01T00:00:00",
          "2021-07-01T00:00:00",
          "2022-01-01T00:00:00",
          "2022-07-01T00:00:00",
          "2023-01-01T00:00:00",
          "2023-07-01T00:00:00",
          "2024-01-01T00:00:00",
          "2024-07-01T00:00:00"
         ],
         "xaxis": "x5",
         "y": [
          -0.8982431510821662,
          -1.3666601711032893,
          0.2137356395093395,
          0.8621287772725132,
          -0.13382770909478836,
          -2.407701058846561,
          0.2622436178539651,
          -1.2246247787960005,
          2.501519020636332,
          -3.2837975757555355,
          3.5193784038855664,
          -1.9693838018965835,
          2.2822822588724847,
          -2.849066377605457,
          0.6374955899415884,
          -2.3739187171181637,
          3.053867835927772,
          -2.286149727397003,
          1.583683432810016,
          -2.1426156094236646,
          1.6599983910913902,
          -1.4520993558756015,
          3.633487431925115,
          -1.6734635197286813,
          0.8295081993905171,
          -2.069462850195128,
          1.8159725164609082,
          -2.4996832893547722,
          1.9123004622619266,
          -1.7990734431216584,
          0.4934486545461887
         ],
         "yaxis": "y5"
        },
        {
         "line": {
          "color": "#3f3f3f"
         },
         "mode": "lines",
         "name": "Lags=[1]",
         "showlegend": false,
         "type": "scattergl",
         "x": [
          0,
          0
         ],
         "xaxis": "x6",
         "y": [
          0,
          1
         ],
         "yaxis": "y6"
        },
        {
         "line": {
          "color": "#3f3f3f"
         },
         "mode": "lines",
         "name": "Lags=[1]",
         "showlegend": false,
         "type": "scattergl",
         "x": [
          1,
          1
         ],
         "xaxis": "x6",
         "y": [
          0,
          -0.8169939999775115
         ],
         "yaxis": "y6"
        },
        {
         "line": {
          "color": "#3f3f3f"
         },
         "mode": "lines",
         "name": "Lags=[1]",
         "showlegend": false,
         "type": "scattergl",
         "x": [
          2,
          2
         ],
         "xaxis": "x6",
         "y": [
          0,
          0.7435657083332261
         ],
         "yaxis": "y6"
        },
        {
         "line": {
          "color": "#3f3f3f"
         },
         "mode": "lines",
         "name": "Lags=[1]",
         "showlegend": false,
         "type": "scattergl",
         "x": [
          3,
          3
         ],
         "xaxis": "x6",
         "y": [
          0,
          -0.797510174922055
         ],
         "yaxis": "y6"
        },
        {
         "line": {
          "color": "#3f3f3f"
         },
         "mode": "lines",
         "name": "Lags=[1]",
         "showlegend": false,
         "type": "scattergl",
         "x": [
          4,
          4
         ],
         "xaxis": "x6",
         "y": [
          0,
          0.7373525622346784
         ],
         "yaxis": "y6"
        },
        {
         "line": {
          "color": "#3f3f3f"
         },
         "mode": "lines",
         "name": "Lags=[1]",
         "showlegend": false,
         "type": "scattergl",
         "x": [
          5,
          5
         ],
         "xaxis": "x6",
         "y": [
          0,
          -0.670788721607502
         ],
         "yaxis": "y6"
        },
        {
         "line": {
          "color": "#3f3f3f"
         },
         "mode": "lines",
         "name": "Lags=[1]",
         "showlegend": false,
         "type": "scattergl",
         "x": [
          6,
          6
         ],
         "xaxis": "x6",
         "y": [
          0,
          0.6622844650432103
         ],
         "yaxis": "y6"
        },
        {
         "line": {
          "color": "#3f3f3f"
         },
         "mode": "lines",
         "name": "Lags=[1]",
         "showlegend": false,
         "type": "scattergl",
         "x": [
          7,
          7
         ],
         "xaxis": "x6",
         "y": [
          0,
          -0.6447228435869825
         ],
         "yaxis": "y6"
        },
        {
         "line": {
          "color": "#3f3f3f"
         },
         "mode": "lines",
         "name": "Lags=[1]",
         "showlegend": false,
         "type": "scattergl",
         "x": [
          8,
          8
         ],
         "xaxis": "x6",
         "y": [
          0,
          0.5783380628603797
         ],
         "yaxis": "y6"
        },
        {
         "line": {
          "color": "#3f3f3f"
         },
         "mode": "lines",
         "name": "Lags=[1]",
         "showlegend": false,
         "type": "scattergl",
         "x": [
          9,
          9
         ],
         "xaxis": "x6",
         "y": [
          0,
          -0.530983892226858
         ],
         "yaxis": "y6"
        },
        {
         "line": {
          "color": "#3f3f3f"
         },
         "mode": "lines",
         "name": "Lags=[1]",
         "showlegend": false,
         "type": "scattergl",
         "x": [
          10,
          10
         ],
         "xaxis": "x6",
         "y": [
          0,
          0.5035434760331271
         ],
         "yaxis": "y6"
        },
        {
         "line": {
          "color": "#3f3f3f"
         },
         "mode": "lines",
         "name": "Lags=[1]",
         "showlegend": false,
         "type": "scattergl",
         "x": [
          11,
          11
         ],
         "xaxis": "x6",
         "y": [
          0,
          -0.49490203957078266
         ],
         "yaxis": "y6"
        },
        {
         "line": {
          "color": "#3f3f3f"
         },
         "mode": "lines",
         "name": "Lags=[1]",
         "showlegend": false,
         "type": "scattergl",
         "x": [
          12,
          12
         ],
         "xaxis": "x6",
         "y": [
          0,
          0.4601571766439282
         ],
         "yaxis": "y6"
        },
        {
         "line": {
          "color": "#3f3f3f"
         },
         "mode": "lines",
         "name": "Lags=[1]",
         "showlegend": false,
         "type": "scattergl",
         "x": [
          13,
          13
         ],
         "xaxis": "x6",
         "y": [
          0,
          -0.3865468549059542
         ],
         "yaxis": "y6"
        },
        {
         "line": {
          "color": "#3f3f3f"
         },
         "mode": "lines",
         "name": "Lags=[1]",
         "showlegend": false,
         "type": "scattergl",
         "x": [
          14,
          14
         ],
         "xaxis": "x6",
         "y": [
          0,
          0.3799317312425493
         ],
         "yaxis": "y6"
        },
        {
         "line": {
          "color": "#3f3f3f"
         },
         "mode": "lines",
         "name": "Lags=[1]",
         "showlegend": false,
         "type": "scattergl",
         "x": [
          15,
          15
         ],
         "xaxis": "x6",
         "y": [
          0,
          -0.3292506013363858
         ],
         "yaxis": "y6"
        },
        {
         "line": {
          "color": "#3f3f3f"
         },
         "mode": "lines",
         "name": "Lags=[1]",
         "showlegend": false,
         "type": "scattergl",
         "x": [
          16,
          16
         ],
         "xaxis": "x6",
         "y": [
          0,
          0.27666131972481833
         ],
         "yaxis": "y6"
        },
        {
         "line": {
          "color": "#3f3f3f"
         },
         "mode": "lines",
         "name": "Lags=[1]",
         "showlegend": false,
         "type": "scattergl",
         "x": [
          17,
          17
         ],
         "xaxis": "x6",
         "y": [
          0,
          -0.3079217800217225
         ],
         "yaxis": "y6"
        },
        {
         "line": {
          "color": "#3f3f3f"
         },
         "mode": "lines",
         "name": "Lags=[1]",
         "showlegend": false,
         "type": "scattergl",
         "x": [
          18,
          18
         ],
         "xaxis": "x6",
         "y": [
          0,
          0.2459185464645906
         ],
         "yaxis": "y6"
        },
        {
         "line": {
          "color": "#3f3f3f"
         },
         "mode": "lines",
         "name": "Lags=[1]",
         "showlegend": false,
         "type": "scattergl",
         "x": [
          19,
          19
         ],
         "xaxis": "x6",
         "y": [
          0,
          -0.1768812673466515
         ],
         "yaxis": "y6"
        },
        {
         "line": {
          "color": "#3f3f3f"
         },
         "mode": "lines",
         "name": "Lags=[1]",
         "showlegend": false,
         "type": "scattergl",
         "x": [
          20,
          20
         ],
         "xaxis": "x6",
         "y": [
          0,
          0.16388765280463793
         ],
         "yaxis": "y6"
        },
        {
         "line": {
          "color": "#3f3f3f"
         },
         "mode": "lines",
         "name": "Lags=[1]",
         "showlegend": false,
         "type": "scattergl",
         "x": [
          21,
          21
         ],
         "xaxis": "x6",
         "y": [
          0,
          -0.1363019607695384
         ],
         "yaxis": "y6"
        },
        {
         "line": {
          "color": "#3f3f3f"
         },
         "mode": "lines",
         "name": "Lags=[1]",
         "showlegend": false,
         "type": "scattergl",
         "x": [
          22,
          22
         ],
         "xaxis": "x6",
         "y": [
          0,
          0.05616140335992208
         ],
         "yaxis": "y6"
        },
        {
         "line": {
          "color": "#3f3f3f"
         },
         "mode": "lines",
         "name": "Lags=[1]",
         "showlegend": false,
         "type": "scattergl",
         "x": [
          23,
          23
         ],
         "xaxis": "x6",
         "y": [
          0,
          -0.038726222959122904
         ],
         "yaxis": "y6"
        },
        {
         "line": {
          "color": "#3f3f3f"
         },
         "mode": "lines",
         "name": "Lags=[1]",
         "showlegend": false,
         "type": "scattergl",
         "x": [
          24,
          24
         ],
         "xaxis": "x6",
         "y": [
          0,
          0.030892239295898738
         ],
         "yaxis": "y6"
        },
        {
         "line": {
          "color": "#3f3f3f"
         },
         "mode": "lines",
         "name": "Lags=[1]",
         "showlegend": false,
         "type": "scattergl",
         "x": [
          25,
          25
         ],
         "xaxis": "x6",
         "y": [
          0,
          -0.010005225989647008
         ],
         "yaxis": "y6"
        },
        {
         "line": {
          "color": "#3f3f3f"
         },
         "mode": "lines",
         "name": "Lags=[1]",
         "showlegend": false,
         "type": "scattergl",
         "x": [
          26,
          26
         ],
         "xaxis": "x6",
         "y": [
          0,
          0.0038025388670531756
         ],
         "yaxis": "y6"
        },
        {
         "line": {
          "color": "#3f3f3f"
         },
         "mode": "lines",
         "name": "Lags=[1]",
         "showlegend": false,
         "type": "scattergl",
         "x": [
          27,
          27
         ],
         "xaxis": "x6",
         "y": [
          0,
          -0.005755151868657276
         ],
         "yaxis": "y6"
        },
        {
         "line": {
          "color": "#3f3f3f"
         },
         "mode": "lines",
         "name": "Lags=[1]",
         "showlegend": false,
         "type": "scattergl",
         "x": [
          28,
          28
         ],
         "xaxis": "x6",
         "y": [
          0,
          0.0054327028325322655
         ],
         "yaxis": "y6"
        },
        {
         "line": {
          "color": "#3f3f3f"
         },
         "mode": "lines",
         "name": "Lags=[1]",
         "showlegend": false,
         "type": "scattergl",
         "x": [
          29,
          29
         ],
         "xaxis": "x6",
         "y": [
          0,
          0.003168819515422835
         ],
         "yaxis": "y6"
        },
        {
         "line": {
          "color": "#3f3f3f"
         },
         "mode": "lines",
         "name": "Lags=[1]",
         "showlegend": false,
         "type": "scattergl",
         "x": [
          30,
          30
         ],
         "xaxis": "x6",
         "y": [
          0,
          -0.00380766816660337
         ],
         "yaxis": "y6"
        },
        {
         "marker": {
          "color": "#1f77b4",
          "size": 6
         },
         "mode": "markers",
         "name": "Lags=[1]",
         "showlegend": false,
         "type": "scattergl",
         "x": [
          0,
          1,
          2,
          3,
          4,
          5,
          6,
          7,
          8,
          9,
          10,
          11,
          12,
          13,
          14,
          15,
          16,
          17,
          18,
          19,
          20,
          21,
          22,
          23,
          24,
          25,
          26,
          27,
          28,
          29,
          30
         ],
         "xaxis": "x6",
         "y": [
          1,
          -0.8169939999775115,
          0.7435657083332261,
          -0.797510174922055,
          0.7373525622346784,
          -0.670788721607502,
          0.6622844650432103,
          -0.6447228435869825,
          0.5783380628603797,
          -0.530983892226858,
          0.5035434760331271,
          -0.49490203957078266,
          0.4601571766439282,
          -0.3865468549059542,
          0.3799317312425493,
          -0.3292506013363858,
          0.27666131972481833,
          -0.3079217800217225,
          0.2459185464645906,
          -0.1768812673466515,
          0.16388765280463793,
          -0.1363019607695384,
          0.05616140335992208,
          -0.038726222959122904,
          0.030892239295898738,
          -0.010005225989647008,
          0.0038025388670531756,
          -0.005755151868657276,
          0.0054327028325322655,
          0.003168819515422835,
          -0.00380766816660337
         ],
         "yaxis": "y6"
        },
        {
         "line": {
          "color": "rgba(255,255,255,0)"
         },
         "mode": "lines",
         "name": "UC",
         "showlegend": false,
         "type": "scatter",
         "x": [
          0,
          1,
          2,
          3,
          4,
          5,
          6,
          7,
          8,
          9,
          10,
          11,
          12,
          13,
          14,
          15,
          16,
          17,
          18,
          19,
          20,
          21,
          22,
          23,
          24,
          25,
          26,
          27,
          28,
          29,
          30
         ],
         "xaxis": "x6",
         "y": [
          0,
          0.3520199234049176,
          0.537906530761032,
          0.652969755718424,
          0.7641981436056828,
          0.8477879977746113,
          0.9111861402613854,
          0.9690026874915153,
          1.0207759852522966,
          1.0606029204183312,
          1.0930482224463671,
          1.1214253175439417,
          1.1481710407145576,
          1.170800876057896,
          1.1865099980520362,
          1.2014910086592712,
          1.2126201172481403,
          1.2204168502975703,
          1.230006531577518,
          1.2360842139124237,
          1.2392167793384545,
          1.2418997121641469,
          1.2437520849858452,
          1.244066296224239,
          1.244215670280618,
          1.2443107134729108,
          1.2443206826133288,
          1.244322122569392,
          1.2443254210555579,
          1.2443283602742532,
          1.2443293602611798
         ],
         "yaxis": "y6"
        },
        {
         "fill": "tonexty",
         "fillcolor": "rgba(32, 146, 230,0.3)",
         "line": {
          "color": "rgba(255,255,255,0)"
         },
         "mode": "lines",
         "name": "LC",
         "showlegend": false,
         "type": "scatter",
         "x": [
          0,
          1,
          2,
          3,
          4,
          5,
          6,
          7,
          8,
          9,
          10,
          11,
          12,
          13,
          14,
          15,
          16,
          17,
          18,
          19,
          20,
          21,
          22,
          23,
          24,
          25,
          26,
          27,
          28,
          29,
          30
         ],
         "xaxis": "x6",
         "y": [
          0,
          -0.3520199234049177,
          -0.537906530761032,
          -0.652969755718424,
          -0.7641981436056827,
          -0.8477879977746113,
          -0.9111861402613854,
          -0.9690026874915152,
          -1.0207759852522964,
          -1.0606029204183312,
          -1.0930482224463671,
          -1.1214253175439417,
          -1.1481710407145576,
          -1.1708008760578963,
          -1.1865099980520362,
          -1.2014910086592712,
          -1.2126201172481403,
          -1.2204168502975703,
          -1.230006531577518,
          -1.2360842139124237,
          -1.2392167793384545,
          -1.2418997121641469,
          -1.2437520849858452,
          -1.244066296224239,
          -1.244215670280618,
          -1.2443107134729108,
          -1.2443206826133288,
          -1.244322122569392,
          -1.2443254210555579,
          -1.2443283602742532,
          -1.2443293602611798
         ],
         "yaxis": "y6"
        },
        {
         "line": {
          "color": "#3f3f3f"
         },
         "mode": "lines",
         "name": "Lags=[1]",
         "showlegend": false,
         "type": "scattergl",
         "x": [
          0,
          0
         ],
         "xaxis": "x7",
         "y": [
          0,
          1
         ],
         "yaxis": "y7"
        },
        {
         "line": {
          "color": "#3f3f3f"
         },
         "mode": "lines",
         "name": "Lags=[1]",
         "showlegend": false,
         "type": "scattergl",
         "x": [
          1,
          1
         ],
         "xaxis": "x7",
         "y": [
          0,
          -0.8442271333100952
         ],
         "yaxis": "y7"
        },
        {
         "line": {
          "color": "#3f3f3f"
         },
         "mode": "lines",
         "name": "Lags=[1]",
         "showlegend": false,
         "type": "scattergl",
         "x": [
          2,
          2
         ],
         "xaxis": "x7",
         "y": [
          0,
          0.28587612402764767
         ],
         "yaxis": "y7"
        },
        {
         "line": {
          "color": "#3f3f3f"
         },
         "mode": "lines",
         "name": "Lags=[1]",
         "showlegend": false,
         "type": "scattergl",
         "x": [
          3,
          3
         ],
         "xaxis": "x7",
         "y": [
          0,
          -0.6156662942768486
         ],
         "yaxis": "y7"
        },
        {
         "line": {
          "color": "#3f3f3f"
         },
         "mode": "lines",
         "name": "Lags=[1]",
         "showlegend": false,
         "type": "scattergl",
         "x": [
          4,
          4
         ],
         "xaxis": "x7",
         "y": [
          0,
          0.10812146901558418
         ],
         "yaxis": "y7"
        },
        {
         "line": {
          "color": "#3f3f3f"
         },
         "mode": "lines",
         "name": "Lags=[1]",
         "showlegend": false,
         "type": "scattergl",
         "x": [
          5,
          5
         ],
         "xaxis": "x7",
         "y": [
          0,
          -0.11099149230573592
         ],
         "yaxis": "y7"
        },
        {
         "line": {
          "color": "#3f3f3f"
         },
         "mode": "lines",
         "name": "Lags=[1]",
         "showlegend": false,
         "type": "scattergl",
         "x": [
          6,
          6
         ],
         "xaxis": "x7",
         "y": [
          0,
          0.015084544985977808
         ],
         "yaxis": "y7"
        },
        {
         "line": {
          "color": "#3f3f3f"
         },
         "mode": "lines",
         "name": "Lags=[1]",
         "showlegend": false,
         "type": "scattergl",
         "x": [
          7,
          7
         ],
         "xaxis": "x7",
         "y": [
          0,
          -0.1227164061133343
         ],
         "yaxis": "y7"
        },
        {
         "line": {
          "color": "#3f3f3f"
         },
         "mode": "lines",
         "name": "Lags=[1]",
         "showlegend": false,
         "type": "scattergl",
         "x": [
          8,
          8
         ],
         "xaxis": "x7",
         "y": [
          0,
          -0.1319626516145828
         ],
         "yaxis": "y7"
        },
        {
         "line": {
          "color": "#3f3f3f"
         },
         "mode": "lines",
         "name": "Lags=[1]",
         "showlegend": false,
         "type": "scattergl",
         "x": [
          9,
          9
         ],
         "xaxis": "x7",
         "y": [
          0,
          0.15184947701434068
         ],
         "yaxis": "y7"
        },
        {
         "line": {
          "color": "#3f3f3f"
         },
         "mode": "lines",
         "name": "Lags=[1]",
         "showlegend": false,
         "type": "scattergl",
         "x": [
          10,
          10
         ],
         "xaxis": "x7",
         "y": [
          0,
          -0.25102214231101655
         ],
         "yaxis": "y7"
        },
        {
         "line": {
          "color": "#3f3f3f"
         },
         "mode": "lines",
         "name": "Lags=[1]",
         "showlegend": false,
         "type": "scattergl",
         "x": [
          11,
          11
         ],
         "xaxis": "x7",
         "y": [
          0,
          -0.19105333243195116
         ],
         "yaxis": "y7"
        },
        {
         "line": {
          "color": "#3f3f3f"
         },
         "mode": "lines",
         "name": "Lags=[1]",
         "showlegend": false,
         "type": "scattergl",
         "x": [
          12,
          12
         ],
         "xaxis": "x7",
         "y": [
          0,
          0.09858240838585171
         ],
         "yaxis": "y7"
        },
        {
         "line": {
          "color": "#3f3f3f"
         },
         "mode": "lines",
         "name": "Lags=[1]",
         "showlegend": false,
         "type": "scattergl",
         "x": [
          13,
          13
         ],
         "xaxis": "x7",
         "y": [
          0,
          0.2450345243743035
         ],
         "yaxis": "y7"
        },
        {
         "line": {
          "color": "#3f3f3f"
         },
         "mode": "lines",
         "name": "Lags=[1]",
         "showlegend": false,
         "type": "scattergl",
         "x": [
          14,
          14
         ],
         "xaxis": "x7",
         "y": [
          0,
          0.011387833075090309
         ],
         "yaxis": "y7"
        },
        {
         "marker": {
          "color": "#1f77b4",
          "size": 6
         },
         "mode": "markers",
         "name": "Lags=[1]",
         "showlegend": false,
         "type": "scattergl",
         "x": [
          0,
          1,
          2,
          3,
          4,
          5,
          6,
          7,
          8,
          9,
          10,
          11,
          12,
          13,
          14
         ],
         "xaxis": "x7",
         "y": [
          1,
          -0.8442271333100952,
          0.28587612402764767,
          -0.6156662942768486,
          0.10812146901558418,
          -0.11099149230573592,
          0.015084544985977808,
          -0.1227164061133343,
          -0.1319626516145828,
          0.15184947701434068,
          -0.25102214231101655,
          -0.19105333243195116,
          0.09858240838585171,
          0.2450345243743035,
          0.011387833075090309
         ],
         "yaxis": "y7"
        },
        {
         "line": {
          "color": "rgba(255,255,255,0)"
         },
         "mode": "lines",
         "name": "UC",
         "showlegend": false,
         "type": "scatter",
         "x": [
          0,
          1,
          2,
          3,
          4,
          5,
          6,
          7,
          8,
          9,
          10,
          11,
          12,
          13,
          14
         ],
         "xaxis": "x7",
         "y": [
          0,
          0.3520199234049176,
          0.35201992340491756,
          0.3520199234049176,
          0.3520199234049176,
          0.3520199234049176,
          0.3520199234049176,
          0.3520199234049176,
          0.3520199234049176,
          0.3520199234049176,
          0.3520199234049176,
          0.3520199234049176,
          0.3520199234049176,
          0.3520199234049176,
          0.3520199234049176
         ],
         "yaxis": "y7"
        },
        {
         "fill": "tonexty",
         "fillcolor": "rgba(32, 146, 230,0.3)",
         "line": {
          "color": "rgba(255,255,255,0)"
         },
         "mode": "lines",
         "name": "LC",
         "showlegend": false,
         "type": "scatter",
         "x": [
          0,
          1,
          2,
          3,
          4,
          5,
          6,
          7,
          8,
          9,
          10,
          11,
          12,
          13,
          14
         ],
         "xaxis": "x7",
         "y": [
          0,
          -0.3520199234049175,
          -0.3520199234049176,
          -0.3520199234049176,
          -0.3520199234049176,
          -0.3520199234049176,
          -0.3520199234049176,
          -0.3520199234049176,
          -0.3520199234049176,
          -0.3520199234049176,
          -0.35201992340491756,
          -0.35201992340491756,
          -0.3520199234049176,
          -0.3520199234049176,
          -0.3520199234049176
         ],
         "yaxis": "y7"
        },
        {
         "hoverinfo": "text",
         "hovertext": [
          "Freq: 0.0323<br>Ampl: -8.9926<br>Time period: 31.0",
          "Freq: 0.0645<br>Ampl: -1.4046<br>Time period: 15.5",
          "Freq: 0.0968<br>Ampl: -0.4381<br>Time period: 10.3333",
          "Freq: 0.129<br>Ampl: -2.4271<br>Time period: 7.75",
          "Freq: 0.1613<br>Ampl: 5.0142<br>Time period: 6.2",
          "Freq: 0.1935<br>Ampl: 6.2128<br>Time period: 5.1667",
          "Freq: 0.2258<br>Ampl: 2.8023<br>Time period: 4.4286",
          "Freq: 0.2581<br>Ampl: -1.9005<br>Time period: 3.875",
          "Freq: 0.2903<br>Ampl: -2.5058<br>Time period: 3.4444",
          "Freq: 0.3226<br>Ampl: 2.9359<br>Time period: 3.1",
          "Freq: 0.3548<br>Ampl: 2.7646<br>Time period: 2.8182",
          "Freq: 0.3871<br>Ampl: -2.673<br>Time period: 2.5833",
          "Freq: 0.4194<br>Ampl: -12.4671<br>Time period: 2.3846",
          "Freq: 0.4516<br>Ampl: 13.2735<br>Time period: 2.2143",
          "Freq: 0.4839<br>Ampl: 21.0216<br>Time period: 2.0667"
         ],
         "line": {
          "color": "#1f77b4",
          "width": 2
         },
         "marker": {
          "size": 5
         },
         "mode": "lines+markers",
         "name": "Lags=[1]",
         "showlegend": false,
         "type": "scattergl",
         "x": [
          0.03225806451612903,
          0.06451612903225806,
          0.0967741935483871,
          0.12903225806451613,
          0.16129032258064516,
          0.1935483870967742,
          0.22580645161290322,
          0.25806451612903225,
          0.29032258064516125,
          0.3225806451612903,
          0.3548387096774194,
          0.3870967741935484,
          0.4193548387096774,
          0.45161290322580644,
          0.4838709677419355
         ],
         "xaxis": "x8",
         "y": [
          -8.992629373519385,
          -1.4045770779918354,
          -0.4380530174923035,
          -2.427064573295926,
          5.014153349178343,
          6.212792857050786,
          2.802270084927383,
          -1.9005144490838222,
          -2.505764999326562,
          2.935856219974009,
          2.7645823986346247,
          -2.6730446303960855,
          -12.467116495525092,
          13.273548078110933,
          21.021604413733442
         ],
         "yaxis": "y8"
        },
        {
         "line": {
          "color": "rgb(31, 119, 180)",
          "width": 2
         },
         "marker": {
          "color": "rgb(31, 119, 180)",
          "size": 5
         },
         "mode": "lines+markers",
         "name": "Lags=[1, 2]",
         "showlegend": false,
         "type": "scattergl",
         "x": [
          "2010-07-01T00:00:00",
          "2011-01-01T00:00:00",
          "2011-07-01T00:00:00",
          "2012-01-01T00:00:00",
          "2012-07-01T00:00:00",
          "2013-01-01T00:00:00",
          "2013-07-01T00:00:00",
          "2014-01-01T00:00:00",
          "2014-07-01T00:00:00",
          "2015-01-01T00:00:00",
          "2015-07-01T00:00:00",
          "2016-01-01T00:00:00",
          "2016-07-01T00:00:00",
          "2017-01-01T00:00:00",
          "2017-07-01T00:00:00",
          "2018-01-01T00:00:00",
          "2018-07-01T00:00:00",
          "2019-01-01T00:00:00",
          "2019-07-01T00:00:00",
          "2020-01-01T00:00:00",
          "2020-07-01T00:00:00",
          "2021-01-01T00:00:00",
          "2021-07-01T00:00:00",
          "2022-01-01T00:00:00",
          "2022-07-01T00:00:00",
          "2023-01-01T00:00:00",
          "2023-07-01T00:00:00",
          "2024-01-01T00:00:00",
          "2024-07-01T00:00:00"
         ],
         "xaxis": "x9",
         "y": [
          1.1119787905915057,
          2.2287889483758025,
          -0.34756334860412785,
          -3.269829836119074,
          0.39607132694875347,
          1.1830762800505603,
          2.2392754027823667,
          -2.059172796959535,
          1.0178593832492346,
          1.314413773858952,
          -1.2370961450130817,
          -0.8796825757088733,
          -1.6447866689308963,
          0.47514766048729307,
          2.4163722459861834,
          0.08776898972116065,
          -1.4701844031177558,
          0.14353411797333848,
          0.07631495828137425,
          0.6905162535480631,
          1.9734890408337247,
          -0.2213641638530799,
          -2.803979232534598,
          -0.39599933046644686,
          0.9864643170703911,
          -0.43022043915964403,
          0.09632794580101844,
          0.7006098462331138,
          -1.418851807715738
         ],
         "yaxis": "y9"
        },
        {
         "line": {
          "color": "#3f3f3f"
         },
         "mode": "lines",
         "name": "Lags=[1, 2]",
         "showlegend": false,
         "type": "scattergl",
         "x": [
          0,
          0
         ],
         "xaxis": "x10",
         "y": [
          0,
          1
         ],
         "yaxis": "y10"
        },
        {
         "line": {
          "color": "#3f3f3f"
         },
         "mode": "lines",
         "name": "Lags=[1, 2]",
         "showlegend": false,
         "type": "scattergl",
         "x": [
          1,
          1
         ],
         "xaxis": "x10",
         "y": [
          0,
          0.022290430941902317
         ],
         "yaxis": "y10"
        },
        {
         "line": {
          "color": "#3f3f3f"
         },
         "mode": "lines",
         "name": "Lags=[1, 2]",
         "showlegend": false,
         "type": "scattergl",
         "x": [
          2,
          2
         ],
         "xaxis": "x10",
         "y": [
          0,
          -0.505091670915485
         ],
         "yaxis": "y10"
        },
        {
         "line": {
          "color": "#3f3f3f"
         },
         "mode": "lines",
         "name": "Lags=[1, 2]",
         "showlegend": false,
         "type": "scattergl",
         "x": [
          3,
          3
         ],
         "xaxis": "x10",
         "y": [
          0,
          -0.20084900643311557
         ],
         "yaxis": "y10"
        },
        {
         "line": {
          "color": "#3f3f3f"
         },
         "mode": "lines",
         "name": "Lags=[1, 2]",
         "showlegend": false,
         "type": "scattergl",
         "x": [
          4,
          4
         ],
         "xaxis": "x10",
         "y": [
          0,
          0.0874354289051945
         ],
         "yaxis": "y10"
        },
        {
         "line": {
          "color": "#3f3f3f"
         },
         "mode": "lines",
         "name": "Lags=[1, 2]",
         "showlegend": false,
         "type": "scattergl",
         "x": [
          5,
          5
         ],
         "xaxis": "x10",
         "y": [
          0,
          0.14881220292148337
         ],
         "yaxis": "y10"
        },
        {
         "line": {
          "color": "#3f3f3f"
         },
         "mode": "lines",
         "name": "Lags=[1, 2]",
         "showlegend": false,
         "type": "scattergl",
         "x": [
          6,
          6
         ],
         "xaxis": "x10",
         "y": [
          0,
          0.06877733149334724
         ],
         "yaxis": "y10"
        },
        {
         "line": {
          "color": "#3f3f3f"
         },
         "mode": "lines",
         "name": "Lags=[1, 2]",
         "showlegend": false,
         "type": "scattergl",
         "x": [
          7,
          7
         ],
         "xaxis": "x10",
         "y": [
          0,
          -0.05475237897278297
         ],
         "yaxis": "y10"
        },
        {
         "line": {
          "color": "#3f3f3f"
         },
         "mode": "lines",
         "name": "Lags=[1, 2]",
         "showlegend": false,
         "type": "scattergl",
         "x": [
          8,
          8
         ],
         "xaxis": "x10",
         "y": [
          0,
          -0.05989470286341517
         ],
         "yaxis": "y10"
        },
        {
         "line": {
          "color": "#3f3f3f"
         },
         "mode": "lines",
         "name": "Lags=[1, 2]",
         "showlegend": false,
         "type": "scattergl",
         "x": [
          9,
          9
         ],
         "xaxis": "x10",
         "y": [
          0,
          0.1032337909801949
         ],
         "yaxis": "y10"
        },
        {
         "line": {
          "color": "#3f3f3f"
         },
         "mode": "lines",
         "name": "Lags=[1, 2]",
         "showlegend": false,
         "type": "scattergl",
         "x": [
          10,
          10
         ],
         "xaxis": "x10",
         "y": [
          0,
          -0.023853077472266917
         ],
         "yaxis": "y10"
        },
        {
         "line": {
          "color": "#3f3f3f"
         },
         "mode": "lines",
         "name": "Lags=[1, 2]",
         "showlegend": false,
         "type": "scattergl",
         "x": [
          11,
          11
         ],
         "xaxis": "x10",
         "y": [
          0,
          -0.15584299331740012
         ],
         "yaxis": "y10"
        },
        {
         "line": {
          "color": "#3f3f3f"
         },
         "mode": "lines",
         "name": "Lags=[1, 2]",
         "showlegend": false,
         "type": "scattergl",
         "x": [
          12,
          12
         ],
         "xaxis": "x10",
         "y": [
          0,
          0.04202964673792981
         ],
         "yaxis": "y10"
        },
        {
         "line": {
          "color": "#3f3f3f"
         },
         "mode": "lines",
         "name": "Lags=[1, 2]",
         "showlegend": false,
         "type": "scattergl",
         "x": [
          13,
          13
         ],
         "xaxis": "x10",
         "y": [
          0,
          0.10411240647792092
         ],
         "yaxis": "y10"
        },
        {
         "line": {
          "color": "#3f3f3f"
         },
         "mode": "lines",
         "name": "Lags=[1, 2]",
         "showlegend": false,
         "type": "scattergl",
         "x": [
          14,
          14
         ],
         "xaxis": "x10",
         "y": [
          0,
          0.01802903742043715
         ],
         "yaxis": "y10"
        },
        {
         "line": {
          "color": "#3f3f3f"
         },
         "mode": "lines",
         "name": "Lags=[1, 2]",
         "showlegend": false,
         "type": "scattergl",
         "x": [
          15,
          15
         ],
         "xaxis": "x10",
         "y": [
          0,
          0.06649833273295531
         ],
         "yaxis": "y10"
        },
        {
         "line": {
          "color": "#3f3f3f"
         },
         "mode": "lines",
         "name": "Lags=[1, 2]",
         "showlegend": false,
         "type": "scattergl",
         "x": [
          16,
          16
         ],
         "xaxis": "x10",
         "y": [
          0,
          -0.10719190474778122
         ],
         "yaxis": "y10"
        },
        {
         "line": {
          "color": "#3f3f3f"
         },
         "mode": "lines",
         "name": "Lags=[1, 2]",
         "showlegend": false,
         "type": "scattergl",
         "x": [
          17,
          17
         ],
         "xaxis": "x10",
         "y": [
          0,
          -0.21086389286089854
         ],
         "yaxis": "y10"
        },
        {
         "line": {
          "color": "#3f3f3f"
         },
         "mode": "lines",
         "name": "Lags=[1, 2]",
         "showlegend": false,
         "type": "scattergl",
         "x": [
          18,
          18
         ],
         "xaxis": "x10",
         "y": [
          0,
          0.09848497839207747
         ],
         "yaxis": "y10"
        },
        {
         "line": {
          "color": "#3f3f3f"
         },
         "mode": "lines",
         "name": "Lags=[1, 2]",
         "showlegend": false,
         "type": "scattergl",
         "x": [
          19,
          19
         ],
         "xaxis": "x10",
         "y": [
          0,
          0.21722248171824343
         ],
         "yaxis": "y10"
        },
        {
         "line": {
          "color": "#3f3f3f"
         },
         "mode": "lines",
         "name": "Lags=[1, 2]",
         "showlegend": false,
         "type": "scattergl",
         "x": [
          20,
          20
         ],
         "xaxis": "x10",
         "y": [
          0,
          0.019323805135786642
         ],
         "yaxis": "y10"
        },
        {
         "line": {
          "color": "#3f3f3f"
         },
         "mode": "lines",
         "name": "Lags=[1, 2]",
         "showlegend": false,
         "type": "scattergl",
         "x": [
          21,
          21
         ],
         "xaxis": "x10",
         "y": [
          0,
          -0.08465771911918281
         ],
         "yaxis": "y10"
        },
        {
         "line": {
          "color": "#3f3f3f"
         },
         "mode": "lines",
         "name": "Lags=[1, 2]",
         "showlegend": false,
         "type": "scattergl",
         "x": [
          22,
          22
         ],
         "xaxis": "x10",
         "y": [
          0,
          -0.0875588963367455
         ],
         "yaxis": "y10"
        },
        {
         "line": {
          "color": "#3f3f3f"
         },
         "mode": "lines",
         "name": "Lags=[1, 2]",
         "showlegend": false,
         "type": "scattergl",
         "x": [
          23,
          23
         ],
         "xaxis": "x10",
         "y": [
          0,
          0.002843875228534209
         ],
         "yaxis": "y10"
        },
        {
         "line": {
          "color": "#3f3f3f"
         },
         "mode": "lines",
         "name": "Lags=[1, 2]",
         "showlegend": false,
         "type": "scattergl",
         "x": [
          24,
          24
         ],
         "xaxis": "x10",
         "y": [
          0,
          -0.04578829062409081
         ],
         "yaxis": "y10"
        },
        {
         "line": {
          "color": "#3f3f3f"
         },
         "mode": "lines",
         "name": "Lags=[1, 2]",
         "showlegend": false,
         "type": "scattergl",
         "x": [
          25,
          25
         ],
         "xaxis": "x10",
         "y": [
          0,
          0.06974461760459118
         ],
         "yaxis": "y10"
        },
        {
         "line": {
          "color": "#3f3f3f"
         },
         "mode": "lines",
         "name": "Lags=[1, 2]",
         "showlegend": false,
         "type": "scattergl",
         "x": [
          26,
          26
         ],
         "xaxis": "x10",
         "y": [
          0,
          0.03481137161446244
         ],
         "yaxis": "y10"
        },
        {
         "line": {
          "color": "#3f3f3f"
         },
         "mode": "lines",
         "name": "Lags=[1, 2]",
         "showlegend": false,
         "type": "scattergl",
         "x": [
          27,
          27
         ],
         "xaxis": "x10",
         "y": [
          0,
          -0.04117115071434987
         ],
         "yaxis": "y10"
        },
        {
         "line": {
          "color": "#3f3f3f"
         },
         "mode": "lines",
         "name": "Lags=[1, 2]",
         "showlegend": false,
         "type": "scattergl",
         "x": [
          28,
          28
         ],
         "xaxis": "x10",
         "y": [
          0,
          -0.026134053927546436
         ],
         "yaxis": "y10"
        },
        {
         "marker": {
          "color": "#1f77b4",
          "size": 6
         },
         "mode": "markers",
         "name": "Lags=[1, 2]",
         "showlegend": false,
         "type": "scattergl",
         "x": [
          0,
          1,
          2,
          3,
          4,
          5,
          6,
          7,
          8,
          9,
          10,
          11,
          12,
          13,
          14,
          15,
          16,
          17,
          18,
          19,
          20,
          21,
          22,
          23,
          24,
          25,
          26,
          27,
          28
         ],
         "xaxis": "x10",
         "y": [
          1,
          0.022290430941902317,
          -0.505091670915485,
          -0.20084900643311557,
          0.0874354289051945,
          0.14881220292148337,
          0.06877733149334724,
          -0.05475237897278297,
          -0.05989470286341517,
          0.1032337909801949,
          -0.023853077472266917,
          -0.15584299331740012,
          0.04202964673792981,
          0.10411240647792092,
          0.01802903742043715,
          0.06649833273295531,
          -0.10719190474778122,
          -0.21086389286089854,
          0.09848497839207747,
          0.21722248171824343,
          0.019323805135786642,
          -0.08465771911918281,
          -0.0875588963367455,
          0.002843875228534209,
          -0.04578829062409081,
          0.06974461760459118,
          0.03481137161446244,
          -0.04117115071434987,
          -0.026134053927546436
         ],
         "yaxis": "y10"
        },
        {
         "line": {
          "color": "rgba(255,255,255,0)"
         },
         "mode": "lines",
         "name": "UC",
         "showlegend": false,
         "type": "scatter",
         "x": [
          0,
          1,
          2,
          3,
          4,
          5,
          6,
          7,
          8,
          9,
          10,
          11,
          12,
          13,
          14,
          15,
          16,
          17,
          18,
          19,
          20,
          21,
          22,
          23,
          24,
          25,
          26,
          27,
          28
         ],
         "xaxis": "x10",
         "y": [
          0,
          0.3639561749240074,
          0.3641369664911528,
          0.4474187909264915,
          0.45920677642576035,
          0.4614067917100787,
          0.46772115764585515,
          0.46905892678679756,
          0.46990476123799485,
          0.4709149408653339,
          0.4739032373996515,
          0.4740622474196404,
          0.48080072348778796,
          0.4812871585986402,
          0.48426128267458346,
          0.4843501871559152,
          0.4855580539544836,
          0.48868259267671765,
          0.5005899846228574,
          0.5031500256874955,
          0.5154228806563753,
          0.5155188382534444,
          0.5173571244915485,
          0.5193163604663766,
          0.5193184234054107,
          0.5198529260725644,
          0.5210909307006774,
          0.5213988937605133,
          0.521829355793059
         ],
         "yaxis": "y10"
        },
        {
         "fill": "tonexty",
         "fillcolor": "rgba(32, 146, 230,0.3)",
         "line": {
          "color": "rgba(255,255,255,0)"
         },
         "mode": "lines",
         "name": "LC",
         "showlegend": false,
         "type": "scatter",
         "x": [
          0,
          1,
          2,
          3,
          4,
          5,
          6,
          7,
          8,
          9,
          10,
          11,
          12,
          13,
          14,
          15,
          16,
          17,
          18,
          19,
          20,
          21,
          22,
          23,
          24,
          25,
          26,
          27,
          28
         ],
         "xaxis": "x10",
         "y": [
          0,
          -0.3639561749240074,
          -0.3641369664911528,
          -0.4474187909264915,
          -0.45920677642576035,
          -0.4614067917100787,
          -0.46772115764585515,
          -0.4690589267867976,
          -0.46990476123799496,
          -0.470914940865334,
          -0.4739032373996515,
          -0.4740622474196404,
          -0.4808007234877879,
          -0.48128715859864024,
          -0.48426128267458346,
          -0.48435018715591516,
          -0.48555805395448354,
          -0.48868259267671765,
          -0.5005899846228574,
          -0.5031500256874955,
          -0.5154228806563753,
          -0.5155188382534444,
          -0.5173571244915485,
          -0.5193163604663766,
          -0.5193184234054107,
          -0.5198529260725644,
          -0.5210909307006774,
          -0.5213988937605133,
          -0.521829355793059
         ],
         "yaxis": "y10"
        },
        {
         "line": {
          "color": "#3f3f3f"
         },
         "mode": "lines",
         "name": "Lags=[1, 2]",
         "showlegend": false,
         "type": "scattergl",
         "x": [
          0,
          0
         ],
         "xaxis": "x11",
         "y": [
          0,
          1
         ],
         "yaxis": "y11"
        },
        {
         "line": {
          "color": "#3f3f3f"
         },
         "mode": "lines",
         "name": "Lags=[1, 2]",
         "showlegend": false,
         "type": "scattergl",
         "x": [
          1,
          1
         ],
         "xaxis": "x11",
         "y": [
          0,
          0.02308651776125599
         ],
         "yaxis": "y11"
        },
        {
         "line": {
          "color": "#3f3f3f"
         },
         "mode": "lines",
         "name": "Lags=[1, 2]",
         "showlegend": false,
         "type": "scattergl",
         "x": [
          2,
          2
         ],
         "xaxis": "x11",
         "y": [
          0,
          -0.5433284432246567
         ],
         "yaxis": "y11"
        },
        {
         "line": {
          "color": "#3f3f3f"
         },
         "mode": "lines",
         "name": "Lags=[1, 2]",
         "showlegend": false,
         "type": "scattergl",
         "x": [
          3,
          3
         ],
         "xaxis": "x11",
         "y": [
          0,
          -0.27277930293346264
         ],
         "yaxis": "y11"
        },
        {
         "line": {
          "color": "#3f3f3f"
         },
         "mode": "lines",
         "name": "Lags=[1, 2]",
         "showlegend": false,
         "type": "scattergl",
         "x": [
          4,
          4
         ],
         "xaxis": "x11",
         "y": [
          0,
          -0.3174580684528028
         ],
         "yaxis": "y11"
        },
        {
         "line": {
          "color": "#3f3f3f"
         },
         "mode": "lines",
         "name": "Lags=[1, 2]",
         "showlegend": false,
         "type": "scattergl",
         "x": [
          5,
          5
         ],
         "xaxis": "x11",
         "y": [
          0,
          -0.20044257269684063
         ],
         "yaxis": "y11"
        },
        {
         "line": {
          "color": "#3f3f3f"
         },
         "mode": "lines",
         "name": "Lags=[1, 2]",
         "showlegend": false,
         "type": "scattergl",
         "x": [
          6,
          6
         ],
         "xaxis": "x11",
         "y": [
          0,
          -0.13929461828135925
         ],
         "yaxis": "y11"
        },
        {
         "line": {
          "color": "#3f3f3f"
         },
         "mode": "lines",
         "name": "Lags=[1, 2]",
         "showlegend": false,
         "type": "scattergl",
         "x": [
          7,
          7
         ],
         "xaxis": "x11",
         "y": [
          0,
          -0.1410983061962092
         ],
         "yaxis": "y11"
        },
        {
         "line": {
          "color": "#3f3f3f"
         },
         "mode": "lines",
         "name": "Lags=[1, 2]",
         "showlegend": false,
         "type": "scattergl",
         "x": [
          8,
          8
         ],
         "xaxis": "x11",
         "y": [
          0,
          -0.08646948540516824
         ],
         "yaxis": "y11"
        },
        {
         "line": {
          "color": "#3f3f3f"
         },
         "mode": "lines",
         "name": "Lags=[1, 2]",
         "showlegend": false,
         "type": "scattergl",
         "x": [
          9,
          9
         ],
         "xaxis": "x11",
         "y": [
          0,
          0.21045830766162085
         ],
         "yaxis": "y11"
        },
        {
         "line": {
          "color": "#3f3f3f"
         },
         "mode": "lines",
         "name": "Lags=[1, 2]",
         "showlegend": false,
         "type": "scattergl",
         "x": [
          10,
          10
         ],
         "xaxis": "x11",
         "y": [
          0,
          -0.009867018679024035
         ],
         "yaxis": "y11"
        },
        {
         "line": {
          "color": "#3f3f3f"
         },
         "mode": "lines",
         "name": "Lags=[1, 2]",
         "showlegend": false,
         "type": "scattergl",
         "x": [
          11,
          11
         ],
         "xaxis": "x11",
         "y": [
          0,
          -0.12880054849994824
         ],
         "yaxis": "y11"
        },
        {
         "line": {
          "color": "#3f3f3f"
         },
         "mode": "lines",
         "name": "Lags=[1, 2]",
         "showlegend": false,
         "type": "scattergl",
         "x": [
          12,
          12
         ],
         "xaxis": "x11",
         "y": [
          0,
          0.040785303923110444
         ],
         "yaxis": "y11"
        },
        {
         "line": {
          "color": "#3f3f3f"
         },
         "mode": "lines",
         "name": "Lags=[1, 2]",
         "showlegend": false,
         "type": "scattergl",
         "x": [
          13,
          13
         ],
         "xaxis": "x11",
         "y": [
          0,
          -0.07099166415321448
         ],
         "yaxis": "y11"
        },
        {
         "marker": {
          "color": "#1f77b4",
          "size": 6
         },
         "mode": "markers",
         "name": "Lags=[1, 2]",
         "showlegend": false,
         "type": "scattergl",
         "x": [
          0,
          1,
          2,
          3,
          4,
          5,
          6,
          7,
          8,
          9,
          10,
          11,
          12,
          13
         ],
         "xaxis": "x11",
         "y": [
          1,
          0.02308651776125599,
          -0.5433284432246567,
          -0.27277930293346264,
          -0.3174580684528028,
          -0.20044257269684063,
          -0.13929461828135925,
          -0.1410983061962092,
          -0.08646948540516824,
          0.21045830766162085,
          -0.009867018679024035,
          -0.12880054849994824,
          0.040785303923110444,
          -0.07099166415321448
         ],
         "yaxis": "y11"
        },
        {
         "line": {
          "color": "rgba(255,255,255,0)"
         },
         "mode": "lines",
         "name": "UC",
         "showlegend": false,
         "type": "scatter",
         "x": [
          0,
          1,
          2,
          3,
          4,
          5,
          6,
          7,
          8,
          9,
          10,
          11,
          12,
          13
         ],
         "xaxis": "x11",
         "y": [
          0,
          0.3639561749240074,
          0.3639561749240074,
          0.3639561749240074,
          0.3639561749240074,
          0.3639561749240074,
          0.3639561749240074,
          0.3639561749240074,
          0.3639561749240074,
          0.36395617492400734,
          0.3639561749240074,
          0.3639561749240074,
          0.36395617492400745,
          0.36395617492400734
         ],
         "yaxis": "y11"
        },
        {
         "fill": "tonexty",
         "fillcolor": "rgba(32, 146, 230,0.3)",
         "line": {
          "color": "rgba(255,255,255,0)"
         },
         "mode": "lines",
         "name": "LC",
         "showlegend": false,
         "type": "scatter",
         "x": [
          0,
          1,
          2,
          3,
          4,
          5,
          6,
          7,
          8,
          9,
          10,
          11,
          12,
          13
         ],
         "xaxis": "x11",
         "y": [
          0,
          -0.3639561749240074,
          -0.36395617492400734,
          -0.36395617492400745,
          -0.36395617492400745,
          -0.36395617492400745,
          -0.36395617492400745,
          -0.36395617492400734,
          -0.3639561749240074,
          -0.3639561749240074,
          -0.3639561749240074,
          -0.36395617492400734,
          -0.36395617492400734,
          -0.36395617492400745
         ],
         "yaxis": "y11"
        },
        {
         "hoverinfo": "text",
         "hovertext": [
          "Freq: 0.0345<br>Ampl: -8.8074<br>Time period: 29.0",
          "Freq: 0.069<br>Ampl: -0.3361<br>Time period: 14.5",
          "Freq: 0.1034<br>Ampl: -2.4903<br>Time period: 9.6667",
          "Freq: 0.1379<br>Ampl: 5.8948<br>Time period: 7.25",
          "Freq: 0.1724<br>Ampl: 10.9085<br>Time period: 5.8",
          "Freq: 0.2069<br>Ampl: 10.8735<br>Time period: 4.8333",
          "Freq: 0.2414<br>Ampl: 5.5906<br>Time period: 4.1429",
          "Freq: 0.2759<br>Ampl: 3.7315<br>Time period: 3.625",
          "Freq: 0.3103<br>Ampl: 5.6164<br>Time period: 3.2222",
          "Freq: 0.3448<br>Ampl: 7.875<br>Time period: 2.9",
          "Freq: 0.3793<br>Ampl: 2.9454<br>Time period: 2.6364",
          "Freq: 0.4138<br>Ampl: -4.0977<br>Time period: 2.4167",
          "Freq: 0.4483<br>Ampl: -6.5271<br>Time period: 2.2308",
          "Freq: 0.4828<br>Ampl: -9.3991<br>Time period: 2.0714"
         ],
         "line": {
          "color": "#1f77b4",
          "width": 2
         },
         "marker": {
          "size": 5
         },
         "mode": "lines+markers",
         "name": "Lags=[1, 2]",
         "showlegend": true,
         "type": "scattergl",
         "x": [
          0.034482758620689655,
          0.06896551724137931,
          0.10344827586206896,
          0.13793103448275862,
          0.1724137931034483,
          0.20689655172413793,
          0.24137931034482757,
          0.27586206896551724,
          0.3103448275862069,
          0.3448275862068966,
          0.3793103448275862,
          0.41379310344827586,
          0.4482758620689655,
          0.48275862068965514
         ],
         "xaxis": "x12",
         "y": [
          -8.807388896065529,
          -0.33612871065231276,
          -2.490339803398327,
          5.894803839862939,
          10.908457321795918,
          10.873459427337636,
          5.5906017708352245,
          3.731462113953097,
          5.616415634327547,
          7.875026770672609,
          2.945392610787752,
          -4.097690234108662,
          -6.527119020842365,
          -9.399093397349024
         ],
         "yaxis": "y12"
        }
       ],
       "layout": {
        "annotations": [
         {
          "font": {
           "size": 16
          },
          "showarrow": false,
          "text": "Unemployment_Rate (transformed)",
          "x": 0.10375,
          "xanchor": "center",
          "xref": "paper",
          "y": 1,
          "yanchor": "bottom",
          "yref": "paper"
         },
         {
          "font": {
           "size": 16
          },
          "showarrow": false,
          "text": "ACF",
          "x": 0.36124999999999996,
          "xanchor": "center",
          "xref": "paper",
          "y": 1,
          "yanchor": "bottom",
          "yref": "paper"
         },
         {
          "font": {
           "size": 16
          },
          "showarrow": false,
          "text": "PACF",
          "x": 0.61875,
          "xanchor": "center",
          "xref": "paper",
          "y": 1,
          "yanchor": "bottom",
          "yref": "paper"
         },
         {
          "font": {
           "size": 16
          },
          "showarrow": false,
          "text": "Periodogram",
          "x": 0.87625,
          "xanchor": "center",
          "xref": "paper",
          "y": 1,
          "yanchor": "bottom",
          "yref": "paper"
         },
         {
          "font": {
           "size": 16
          },
          "showarrow": false,
          "text": "Actual",
          "textangle": 90,
          "x": 0.98,
          "xanchor": "left",
          "xref": "paper",
          "y": 0.8666666666666667,
          "yanchor": "middle",
          "yref": "paper"
         },
         {
          "font": {
           "size": 16
          },
          "showarrow": false,
          "text": "Lags=[1]",
          "textangle": 90,
          "x": 0.98,
          "xanchor": "left",
          "xref": "paper",
          "y": 0.5,
          "yanchor": "middle",
          "yref": "paper"
         },
         {
          "font": {
           "size": 16
          },
          "showarrow": false,
          "text": "Lags=[1, 2]",
          "textangle": 90,
          "x": 0.98,
          "xanchor": "left",
          "xref": "paper",
          "y": 0.13333333333333333,
          "yanchor": "middle",
          "yref": "paper"
         }
        ],
        "autosize": false,
        "height": 800,
        "showlegend": false,
        "template": {
         "data": {
          "bar": [
           {
            "error_x": {
             "color": "rgb(51,51,51)"
            },
            "error_y": {
             "color": "rgb(51,51,51)"
            },
            "marker": {
             "line": {
              "color": "rgb(237,237,237)",
              "width": 0.5
             },
             "pattern": {
              "fillmode": "overlay",
              "size": 10,
              "solidity": 0.2
             }
            },
            "type": "bar"
           }
          ],
          "barpolar": [
           {
            "marker": {
             "line": {
              "color": "rgb(237,237,237)",
              "width": 0.5
             },
             "pattern": {
              "fillmode": "overlay",
              "size": 10,
              "solidity": 0.2
             }
            },
            "type": "barpolar"
           }
          ],
          "carpet": [
           {
            "aaxis": {
             "endlinecolor": "rgb(51,51,51)",
             "gridcolor": "white",
             "linecolor": "white",
             "minorgridcolor": "white",
             "startlinecolor": "rgb(51,51,51)"
            },
            "baxis": {
             "endlinecolor": "rgb(51,51,51)",
             "gridcolor": "white",
             "linecolor": "white",
             "minorgridcolor": "white",
             "startlinecolor": "rgb(51,51,51)"
            },
            "type": "carpet"
           }
          ],
          "choropleth": [
           {
            "colorbar": {
             "outlinewidth": 0,
             "tickcolor": "rgb(237,237,237)",
             "ticklen": 6,
             "ticks": "inside"
            },
            "type": "choropleth"
           }
          ],
          "contour": [
           {
            "colorbar": {
             "outlinewidth": 0,
             "tickcolor": "rgb(237,237,237)",
             "ticklen": 6,
             "ticks": "inside"
            },
            "colorscale": [
             [
              0,
              "rgb(20,44,66)"
             ],
             [
              1,
              "rgb(90,179,244)"
             ]
            ],
            "type": "contour"
           }
          ],
          "contourcarpet": [
           {
            "colorbar": {
             "outlinewidth": 0,
             "tickcolor": "rgb(237,237,237)",
             "ticklen": 6,
             "ticks": "inside"
            },
            "type": "contourcarpet"
           }
          ],
          "heatmap": [
           {
            "colorbar": {
             "outlinewidth": 0,
             "tickcolor": "rgb(237,237,237)",
             "ticklen": 6,
             "ticks": "inside"
            },
            "colorscale": [
             [
              0,
              "rgb(20,44,66)"
             ],
             [
              1,
              "rgb(90,179,244)"
             ]
            ],
            "type": "heatmap"
           }
          ],
          "heatmapgl": [
           {
            "colorbar": {
             "outlinewidth": 0,
             "tickcolor": "rgb(237,237,237)",
             "ticklen": 6,
             "ticks": "inside"
            },
            "colorscale": [
             [
              0,
              "rgb(20,44,66)"
             ],
             [
              1,
              "rgb(90,179,244)"
             ]
            ],
            "type": "heatmapgl"
           }
          ],
          "histogram": [
           {
            "marker": {
             "pattern": {
              "fillmode": "overlay",
              "size": 10,
              "solidity": 0.2
             }
            },
            "type": "histogram"
           }
          ],
          "histogram2d": [
           {
            "colorbar": {
             "outlinewidth": 0,
             "tickcolor": "rgb(237,237,237)",
             "ticklen": 6,
             "ticks": "inside"
            },
            "colorscale": [
             [
              0,
              "rgb(20,44,66)"
             ],
             [
              1,
              "rgb(90,179,244)"
             ]
            ],
            "type": "histogram2d"
           }
          ],
          "histogram2dcontour": [
           {
            "colorbar": {
             "outlinewidth": 0,
             "tickcolor": "rgb(237,237,237)",
             "ticklen": 6,
             "ticks": "inside"
            },
            "colorscale": [
             [
              0,
              "rgb(20,44,66)"
             ],
             [
              1,
              "rgb(90,179,244)"
             ]
            ],
            "type": "histogram2dcontour"
           }
          ],
          "mesh3d": [
           {
            "colorbar": {
             "outlinewidth": 0,
             "tickcolor": "rgb(237,237,237)",
             "ticklen": 6,
             "ticks": "inside"
            },
            "type": "mesh3d"
           }
          ],
          "parcoords": [
           {
            "line": {
             "colorbar": {
              "outlinewidth": 0,
              "tickcolor": "rgb(237,237,237)",
              "ticklen": 6,
              "ticks": "inside"
             }
            },
            "type": "parcoords"
           }
          ],
          "pie": [
           {
            "automargin": true,
            "type": "pie"
           }
          ],
          "scatter": [
           {
            "fillpattern": {
             "fillmode": "overlay",
             "size": 10,
             "solidity": 0.2
            },
            "type": "scatter"
           }
          ],
          "scatter3d": [
           {
            "line": {
             "colorbar": {
              "outlinewidth": 0,
              "tickcolor": "rgb(237,237,237)",
              "ticklen": 6,
              "ticks": "inside"
             }
            },
            "marker": {
             "colorbar": {
              "outlinewidth": 0,
              "tickcolor": "rgb(237,237,237)",
              "ticklen": 6,
              "ticks": "inside"
             }
            },
            "type": "scatter3d"
           }
          ],
          "scattercarpet": [
           {
            "marker": {
             "colorbar": {
              "outlinewidth": 0,
              "tickcolor": "rgb(237,237,237)",
              "ticklen": 6,
              "ticks": "inside"
             }
            },
            "type": "scattercarpet"
           }
          ],
          "scattergeo": [
           {
            "marker": {
             "colorbar": {
              "outlinewidth": 0,
              "tickcolor": "rgb(237,237,237)",
              "ticklen": 6,
              "ticks": "inside"
             }
            },
            "type": "scattergeo"
           }
          ],
          "scattergl": [
           {
            "marker": {
             "colorbar": {
              "outlinewidth": 0,
              "tickcolor": "rgb(237,237,237)",
              "ticklen": 6,
              "ticks": "inside"
             }
            },
            "type": "scattergl"
           }
          ],
          "scattermapbox": [
           {
            "marker": {
             "colorbar": {
              "outlinewidth": 0,
              "tickcolor": "rgb(237,237,237)",
              "ticklen": 6,
              "ticks": "inside"
             }
            },
            "type": "scattermapbox"
           }
          ],
          "scatterpolar": [
           {
            "marker": {
             "colorbar": {
              "outlinewidth": 0,
              "tickcolor": "rgb(237,237,237)",
              "ticklen": 6,
              "ticks": "inside"
             }
            },
            "type": "scatterpolar"
           }
          ],
          "scatterpolargl": [
           {
            "marker": {
             "colorbar": {
              "outlinewidth": 0,
              "tickcolor": "rgb(237,237,237)",
              "ticklen": 6,
              "ticks": "inside"
             }
            },
            "type": "scatterpolargl"
           }
          ],
          "scatterternary": [
           {
            "marker": {
             "colorbar": {
              "outlinewidth": 0,
              "tickcolor": "rgb(237,237,237)",
              "ticklen": 6,
              "ticks": "inside"
             }
            },
            "type": "scatterternary"
           }
          ],
          "surface": [
           {
            "colorbar": {
             "outlinewidth": 0,
             "tickcolor": "rgb(237,237,237)",
             "ticklen": 6,
             "ticks": "inside"
            },
            "colorscale": [
             [
              0,
              "rgb(20,44,66)"
             ],
             [
              1,
              "rgb(90,179,244)"
             ]
            ],
            "type": "surface"
           }
          ],
          "table": [
           {
            "cells": {
             "fill": {
              "color": "rgb(237,237,237)"
             },
             "line": {
              "color": "white"
             }
            },
            "header": {
             "fill": {
              "color": "rgb(217,217,217)"
             },
             "line": {
              "color": "white"
             }
            },
            "type": "table"
           }
          ]
         },
         "layout": {
          "annotationdefaults": {
           "arrowhead": 0,
           "arrowwidth": 1
          },
          "autotypenumbers": "strict",
          "coloraxis": {
           "colorbar": {
            "outlinewidth": 0,
            "tickcolor": "rgb(237,237,237)",
            "ticklen": 6,
            "ticks": "inside"
           }
          },
          "colorscale": {
           "sequential": [
            [
             0,
             "rgb(20,44,66)"
            ],
            [
             1,
             "rgb(90,179,244)"
            ]
           ],
           "sequentialminus": [
            [
             0,
             "rgb(20,44,66)"
            ],
            [
             1,
             "rgb(90,179,244)"
            ]
           ]
          },
          "colorway": [
           "#F8766D",
           "#A3A500",
           "#00BF7D",
           "#00B0F6",
           "#E76BF3"
          ],
          "font": {
           "color": "rgb(51,51,51)"
          },
          "geo": {
           "bgcolor": "white",
           "lakecolor": "white",
           "landcolor": "rgb(237,237,237)",
           "showlakes": true,
           "showland": true,
           "subunitcolor": "white"
          },
          "hoverlabel": {
           "align": "left"
          },
          "hovermode": "closest",
          "paper_bgcolor": "white",
          "plot_bgcolor": "rgb(237,237,237)",
          "polar": {
           "angularaxis": {
            "gridcolor": "white",
            "linecolor": "white",
            "showgrid": true,
            "tickcolor": "rgb(51,51,51)",
            "ticks": "outside"
           },
           "bgcolor": "rgb(237,237,237)",
           "radialaxis": {
            "gridcolor": "white",
            "linecolor": "white",
            "showgrid": true,
            "tickcolor": "rgb(51,51,51)",
            "ticks": "outside"
           }
          },
          "scene": {
           "xaxis": {
            "backgroundcolor": "rgb(237,237,237)",
            "gridcolor": "white",
            "gridwidth": 2,
            "linecolor": "white",
            "showbackground": true,
            "showgrid": true,
            "tickcolor": "rgb(51,51,51)",
            "ticks": "outside",
            "zerolinecolor": "white"
           },
           "yaxis": {
            "backgroundcolor": "rgb(237,237,237)",
            "gridcolor": "white",
            "gridwidth": 2,
            "linecolor": "white",
            "showbackground": true,
            "showgrid": true,
            "tickcolor": "rgb(51,51,51)",
            "ticks": "outside",
            "zerolinecolor": "white"
           },
           "zaxis": {
            "backgroundcolor": "rgb(237,237,237)",
            "gridcolor": "white",
            "gridwidth": 2,
            "linecolor": "white",
            "showbackground": true,
            "showgrid": true,
            "tickcolor": "rgb(51,51,51)",
            "ticks": "outside",
            "zerolinecolor": "white"
           }
          },
          "shapedefaults": {
           "fillcolor": "black",
           "line": {
            "width": 0
           },
           "opacity": 0.3
          },
          "ternary": {
           "aaxis": {
            "gridcolor": "white",
            "linecolor": "white",
            "showgrid": true,
            "tickcolor": "rgb(51,51,51)",
            "ticks": "outside"
           },
           "baxis": {
            "gridcolor": "white",
            "linecolor": "white",
            "showgrid": true,
            "tickcolor": "rgb(51,51,51)",
            "ticks": "outside"
           },
           "bgcolor": "rgb(237,237,237)",
           "caxis": {
            "gridcolor": "white",
            "linecolor": "white",
            "showgrid": true,
            "tickcolor": "rgb(51,51,51)",
            "ticks": "outside"
           }
          },
          "xaxis": {
           "automargin": true,
           "gridcolor": "white",
           "linecolor": "white",
           "showgrid": true,
           "tickcolor": "rgb(51,51,51)",
           "ticks": "outside",
           "title": {
            "standoff": 15
           },
           "zerolinecolor": "white"
          },
          "yaxis": {
           "automargin": true,
           "gridcolor": "white",
           "linecolor": "white",
           "showgrid": true,
           "tickcolor": "rgb(51,51,51)",
           "ticks": "outside",
           "title": {
            "standoff": 15
           },
           "zerolinecolor": "white"
          }
         }
        },
        "title": {
         "text": "Difference Plot | Unemployment_Rate"
        },
        "width": 1500,
        "xaxis": {
         "anchor": "y",
         "domain": [
          0,
          0.2075
         ],
         "matches": "x9",
         "showticklabels": false
        },
        "xaxis10": {
         "anchor": "y10",
         "domain": [
          0.2575,
          0.46499999999999997
         ],
         "range": [
          -1,
          30
         ]
        },
        "xaxis11": {
         "anchor": "y11",
         "domain": [
          0.515,
          0.7225
         ],
         "range": [
          -1,
          15
         ]
        },
        "xaxis12": {
         "anchor": "y12",
         "domain": [
          0.7725,
          0.98
         ],
         "range": [
          0,
          0.5
         ]
        },
        "xaxis2": {
         "anchor": "y2",
         "domain": [
          0.2575,
          0.46499999999999997
         ],
         "matches": "x10",
         "range": [
          -1,
          33
         ],
         "showticklabels": false
        },
        "xaxis3": {
         "anchor": "y3",
         "domain": [
          0.515,
          0.7225
         ],
         "matches": "x11",
         "range": [
          -1,
          17
         ],
         "showticklabels": false
        },
        "xaxis4": {
         "anchor": "y4",
         "domain": [
          0.7725,
          0.98
         ],
         "matches": "x12",
         "range": [
          0,
          0.5
         ],
         "showticklabels": false
        },
        "xaxis5": {
         "anchor": "y5",
         "domain": [
          0,
          0.2075
         ],
         "matches": "x9",
         "showticklabels": false
        },
        "xaxis6": {
         "anchor": "y6",
         "domain": [
          0.2575,
          0.46499999999999997
         ],
         "matches": "x10",
         "range": [
          -1,
          32
         ],
         "showticklabels": false
        },
        "xaxis7": {
         "anchor": "y7",
         "domain": [
          0.515,
          0.7225
         ],
         "matches": "x11",
         "range": [
          -1,
          16
         ],
         "showticklabels": false
        },
        "xaxis8": {
         "anchor": "y8",
         "domain": [
          0.7725,
          0.98
         ],
         "matches": "x12",
         "range": [
          0,
          0.5
         ],
         "showticklabels": false
        },
        "xaxis9": {
         "anchor": "y9",
         "domain": [
          0,
          0.2075
         ]
        },
        "yaxis": {
         "anchor": "x",
         "domain": [
          0.7333333333333333,
          1
         ]
        },
        "yaxis10": {
         "anchor": "x10",
         "domain": [
          0,
          0.26666666666666666
         ],
         "range": [
          -1.1,
          1.1
         ],
         "zerolinecolor": "#000000"
        },
        "yaxis11": {
         "anchor": "x11",
         "domain": [
          0,
          0.26666666666666666
         ],
         "range": [
          -1.1,
          1.1
         ],
         "zerolinecolor": "#000000"
        },
        "yaxis12": {
         "anchor": "x12",
         "domain": [
          0,
          0.26666666666666666
         ]
        },
        "yaxis2": {
         "anchor": "x2",
         "domain": [
          0.7333333333333333,
          1
         ],
         "range": [
          -1.1,
          1.1
         ],
         "zerolinecolor": "#000000"
        },
        "yaxis3": {
         "anchor": "x3",
         "domain": [
          0.7333333333333333,
          1
         ],
         "range": [
          -1.1,
          1.1
         ],
         "zerolinecolor": "#000000"
        },
        "yaxis4": {
         "anchor": "x4",
         "domain": [
          0.7333333333333333,
          1
         ]
        },
        "yaxis5": {
         "anchor": "x5",
         "domain": [
          0.36666666666666664,
          0.6333333333333333
         ]
        },
        "yaxis6": {
         "anchor": "x6",
         "domain": [
          0.36666666666666664,
          0.6333333333333333
         ],
         "range": [
          -1.1,
          1.1
         ],
         "zerolinecolor": "#000000"
        },
        "yaxis7": {
         "anchor": "x7",
         "domain": [
          0.36666666666666664,
          0.6333333333333333
         ],
         "range": [
          -1.1,
          1.1
         ],
         "zerolinecolor": "#000000"
        },
        "yaxis8": {
         "anchor": "x8",
         "domain": [
          0.36666666666666664,
          0.6333333333333333
         ]
        },
        "yaxis9": {
         "anchor": "x9",
         "domain": [
          0,
          0.26666666666666666
         ]
        }
       }
      }
     },
     "metadata": {},
     "output_type": "display_data"
    }
   ],
   "source": [
    "exp.plot_model(\n",
    "    plot=\"diff\",\n",
    "    data_kwargs={\"lags_list\": [[1], [1, 2]], \"acf\": True, \"pacf\": True, \"periodogram\": True},\n",
    "    fig_kwargs={\"height\": 800, \"width\": 1500}\n",
    ")"
   ]
  },
  {
   "cell_type": "markdown",
   "metadata": {},
   "source": [
    "STL decomposition"
   ]
  },
  {
   "cell_type": "code",
   "execution_count": 260,
   "metadata": {},
   "outputs": [
    {
     "data": {
      "application/vnd.plotly.v1+json": {
       "config": {
        "plotlyServerURL": "https://plot.ly"
       },
       "data": [
        {
         "line": {
          "color": "rgb(31, 119, 180)",
          "width": 2
         },
         "marker": {
          "size": 2
         },
         "mode": "lines+markers",
         "name": "Actual",
         "type": "scattergl",
         "x": [
          "2009-01-01T00:00:00",
          "2009-07-01T00:00:00",
          "2010-01-01T00:00:00",
          "2010-07-01T00:00:00",
          "2011-01-01T00:00:00",
          "2011-07-01T00:00:00",
          "2012-01-01T00:00:00",
          "2012-07-01T00:00:00",
          "2013-01-01T00:00:00",
          "2013-07-01T00:00:00",
          "2014-01-01T00:00:00",
          "2014-07-01T00:00:00",
          "2015-01-01T00:00:00",
          "2015-07-01T00:00:00",
          "2016-01-01T00:00:00",
          "2016-07-01T00:00:00",
          "2017-01-01T00:00:00",
          "2017-07-01T00:00:00",
          "2018-01-01T00:00:00",
          "2018-07-01T00:00:00",
          "2019-01-01T00:00:00",
          "2019-07-01T00:00:00",
          "2020-01-01T00:00:00",
          "2020-07-01T00:00:00",
          "2021-01-01T00:00:00",
          "2021-07-01T00:00:00",
          "2022-01-01T00:00:00",
          "2022-07-01T00:00:00",
          "2023-01-01T00:00:00",
          "2023-07-01T00:00:00",
          "2024-01-01T00:00:00",
          "2024-07-01T00:00:00"
         ],
         "xaxis": "x",
         "y": [
          18.040630030101887,
          17.14238687901972,
          15.775726707916432,
          15.989462347425771,
          16.851591124698285,
          16.717763415603496,
          14.310062356756935,
          14.5723059746109,
          13.3476811958149,
          15.849200216451232,
          12.565402640695696,
          16.084781044581263,
          14.11539724268468,
          16.397679501557164,
          13.548613123951707,
          14.186108713893296,
          11.812189996775132,
          14.866057832702904,
          12.5799081053059,
          14.163591538115917,
          12.020975928692252,
          13.680974319783642,
          12.22887496390804,
          15.862362395833156,
          14.188898876104474,
          15.018407075494991,
          12.948944225299863,
          14.764916741760771,
          12.265233452406,
          14.177533914667926,
          12.378460471546267,
          12.871909126092456
         ],
         "yaxis": "y"
        },
        {
         "line": {
          "color": "rgb(255, 127, 14)",
          "width": 2
         },
         "marker": {
          "size": 2
         },
         "mode": "lines+markers",
         "name": "Seasonal",
         "type": "scattergl",
         "x": [
          "2009-01-01T00:00:00",
          "2009-07-01T00:00:00",
          "2010-01-01T00:00:00",
          "2010-07-01T00:00:00",
          "2011-01-01T00:00:00",
          "2011-07-01T00:00:00",
          "2012-01-01T00:00:00",
          "2012-07-01T00:00:00",
          "2013-01-01T00:00:00",
          "2013-07-01T00:00:00",
          "2014-01-01T00:00:00",
          "2014-07-01T00:00:00",
          "2015-01-01T00:00:00",
          "2015-07-01T00:00:00",
          "2016-01-01T00:00:00",
          "2016-07-01T00:00:00",
          "2017-01-01T00:00:00",
          "2017-07-01T00:00:00",
          "2018-01-01T00:00:00",
          "2018-07-01T00:00:00",
          "2019-01-01T00:00:00",
          "2019-07-01T00:00:00",
          "2020-01-01T00:00:00",
          "2020-07-01T00:00:00",
          "2021-01-01T00:00:00",
          "2021-07-01T00:00:00",
          "2022-01-01T00:00:00",
          "2022-07-01T00:00:00",
          "2023-01-01T00:00:00",
          "2023-07-01T00:00:00",
          "2024-01-01T00:00:00",
          "2024-07-01T00:00:00"
         ],
         "xaxis": "x2",
         "y": [
          0.21248138295127625,
          -0.09437112005455617,
          -0.028804257454513205,
          0.16345484635358773,
          -0.30179296837443786,
          0.43012366296523463,
          -0.5659888586683529,
          0.7617287887794738,
          -0.9562338124654516,
          1.0819332413824114,
          -1.1742979419170483,
          1.2242646366773962,
          -1.2188700305151101,
          1.1929684363653161,
          -1.1510013299478583,
          1.1106000181627447,
          -1.0529795691755923,
          1.034438657106958,
          -1.056714256282998,
          1.0416219386138124,
          -1.0346684114271367,
          1.0095643459057149,
          -0.9666700898385681,
          0.9579710460654364,
          -0.9806637412734638,
          0.9789072008892606,
          -0.9251224099141935,
          0.874676346386869,
          -0.8175185259181111,
          0.7655157464338627,
          -0.7124933566974759,
          0.6552596691290734
         ],
         "yaxis": "y2"
        },
        {
         "line": {
          "color": "rgb(44, 160, 44)",
          "width": 2
         },
         "marker": {
          "size": 2
         },
         "mode": "lines+markers",
         "name": "Trend",
         "type": "scattergl",
         "x": [
          "2009-01-01T00:00:00",
          "2009-07-01T00:00:00",
          "2010-01-01T00:00:00",
          "2010-07-01T00:00:00",
          "2011-01-01T00:00:00",
          "2011-07-01T00:00:00",
          "2012-01-01T00:00:00",
          "2012-07-01T00:00:00",
          "2013-01-01T00:00:00",
          "2013-07-01T00:00:00",
          "2014-01-01T00:00:00",
          "2014-07-01T00:00:00",
          "2015-01-01T00:00:00",
          "2015-07-01T00:00:00",
          "2016-01-01T00:00:00",
          "2016-07-01T00:00:00",
          "2017-01-01T00:00:00",
          "2017-07-01T00:00:00",
          "2018-01-01T00:00:00",
          "2018-07-01T00:00:00",
          "2019-01-01T00:00:00",
          "2019-07-01T00:00:00",
          "2020-01-01T00:00:00",
          "2020-07-01T00:00:00",
          "2021-01-01T00:00:00",
          "2021-07-01T00:00:00",
          "2022-01-01T00:00:00",
          "2022-07-01T00:00:00",
          "2023-01-01T00:00:00",
          "2023-07-01T00:00:00",
          "2024-01-01T00:00:00",
          "2024-07-01T00:00:00"
         ],
         "xaxis": "x3",
         "y": [
          17.879589606581806,
          17.02516887347522,
          16.220741586661234,
          16.19990042203267,
          16.525470503903104,
          16.13135881816829,
          14.975147439226088,
          14.256881413920471,
          14.29532974242765,
          14.340401368039707,
          14.35480500722651,
          14.67525490433262,
          15.161534112813126,
          15.097189897974378,
          14.379230365937364,
          13.480284950770194,
          13.202096558958065,
          13.49908484895761,
          13.545101501662895,
          13.25033047882389,
          12.964623619207412,
          12.931485700101451,
          13.534740335165877,
          14.491052005239393,
          14.770092445790985,
          14.315683446942565,
          13.926062629242583,
          13.65441725114777,
          13.408216778146476,
          13.225821697653267,
          12.846262747929488,
          12.397087078387283
         ],
         "yaxis": "y3"
        },
        {
         "line": {
          "color": "rgb(214, 39, 40)",
          "width": 2
         },
         "marker": {
          "size": 4
         },
         "mode": "markers",
         "name": "Residuals",
         "type": "scattergl",
         "x": [
          "2009-01-01T00:00:00",
          "2009-07-01T00:00:00",
          "2010-01-01T00:00:00",
          "2010-07-01T00:00:00",
          "2011-01-01T00:00:00",
          "2011-07-01T00:00:00",
          "2012-01-01T00:00:00",
          "2012-07-01T00:00:00",
          "2013-01-01T00:00:00",
          "2013-07-01T00:00:00",
          "2014-01-01T00:00:00",
          "2014-07-01T00:00:00",
          "2015-01-01T00:00:00",
          "2015-07-01T00:00:00",
          "2016-01-01T00:00:00",
          "2016-07-01T00:00:00",
          "2017-01-01T00:00:00",
          "2017-07-01T00:00:00",
          "2018-01-01T00:00:00",
          "2018-07-01T00:00:00",
          "2019-01-01T00:00:00",
          "2019-07-01T00:00:00",
          "2020-01-01T00:00:00",
          "2020-07-01T00:00:00",
          "2021-01-01T00:00:00",
          "2021-07-01T00:00:00",
          "2022-01-01T00:00:00",
          "2022-07-01T00:00:00",
          "2023-01-01T00:00:00",
          "2023-07-01T00:00:00",
          "2024-01-01T00:00:00",
          "2024-07-01T00:00:00"
         ],
         "xaxis": "x4",
         "y": [
          -0.051440959431193534,
          0.2115891255990583,
          -0.4162106212902881,
          -0.3738929209604862,
          0.6279135891696193,
          0.15628093446997227,
          -0.09909622380079952,
          -0.44630422808904413,
          0.008585265852701696,
          0.4268656070291126,
          -0.6151044246137651,
          0.1852615035712457,
          0.1727331603866631,
          0.10752116721747029,
          0.32038408796220175,
          -0.40477625503964276,
          -0.3369269930073404,
          0.3325343266383367,
          0.09152085992600334,
          -0.12836087932178586,
          0.09102072091197755,
          -0.2600757262235227,
          -0.33919528141926847,
          0.41333934452832644,
          0.3994701715869535,
          -0.27618357233683355,
          -0.05199599402852684,
          0.23582314422613315,
          -0.32546479982236676,
          0.18619647058079636,
          0.24469108031425435,
          -0.1804376214239003
         ],
         "yaxis": "y4"
        }
       ],
       "layout": {
        "annotations": [
         {
          "font": {
           "size": 16
          },
          "showarrow": false,
          "text": "Unemployment_Rate (transformed)",
          "x": 0.49,
          "xanchor": "center",
          "xref": "paper",
          "y": 1,
          "yanchor": "bottom",
          "yref": "paper"
         },
         {
          "font": {
           "size": 16
          },
          "showarrow": false,
          "text": "Actual",
          "textangle": 90,
          "x": 0.98,
          "xanchor": "left",
          "xref": "paper",
          "y": 0.903125,
          "yanchor": "middle",
          "yref": "paper"
         },
         {
          "font": {
           "size": 16
          },
          "showarrow": false,
          "text": "Seasonal",
          "textangle": 90,
          "x": 0.98,
          "xanchor": "left",
          "xref": "paper",
          "y": 0.6343749999999999,
          "yanchor": "middle",
          "yref": "paper"
         },
         {
          "font": {
           "size": 16
          },
          "showarrow": false,
          "text": "Trend",
          "textangle": 90,
          "x": 0.98,
          "xanchor": "left",
          "xref": "paper",
          "y": 0.365625,
          "yanchor": "middle",
          "yref": "paper"
         },
         {
          "font": {
           "size": 16
          },
          "showarrow": false,
          "text": "Residual",
          "textangle": 90,
          "x": 0.98,
          "xanchor": "left",
          "xref": "paper",
          "y": 0.096875,
          "yanchor": "middle",
          "yref": "paper"
         }
        ],
        "autosize": false,
        "height": 500,
        "showlegend": false,
        "template": {
         "data": {
          "bar": [
           {
            "error_x": {
             "color": "rgb(51,51,51)"
            },
            "error_y": {
             "color": "rgb(51,51,51)"
            },
            "marker": {
             "line": {
              "color": "rgb(237,237,237)",
              "width": 0.5
             },
             "pattern": {
              "fillmode": "overlay",
              "size": 10,
              "solidity": 0.2
             }
            },
            "type": "bar"
           }
          ],
          "barpolar": [
           {
            "marker": {
             "line": {
              "color": "rgb(237,237,237)",
              "width": 0.5
             },
             "pattern": {
              "fillmode": "overlay",
              "size": 10,
              "solidity": 0.2
             }
            },
            "type": "barpolar"
           }
          ],
          "carpet": [
           {
            "aaxis": {
             "endlinecolor": "rgb(51,51,51)",
             "gridcolor": "white",
             "linecolor": "white",
             "minorgridcolor": "white",
             "startlinecolor": "rgb(51,51,51)"
            },
            "baxis": {
             "endlinecolor": "rgb(51,51,51)",
             "gridcolor": "white",
             "linecolor": "white",
             "minorgridcolor": "white",
             "startlinecolor": "rgb(51,51,51)"
            },
            "type": "carpet"
           }
          ],
          "choropleth": [
           {
            "colorbar": {
             "outlinewidth": 0,
             "tickcolor": "rgb(237,237,237)",
             "ticklen": 6,
             "ticks": "inside"
            },
            "type": "choropleth"
           }
          ],
          "contour": [
           {
            "colorbar": {
             "outlinewidth": 0,
             "tickcolor": "rgb(237,237,237)",
             "ticklen": 6,
             "ticks": "inside"
            },
            "colorscale": [
             [
              0,
              "rgb(20,44,66)"
             ],
             [
              1,
              "rgb(90,179,244)"
             ]
            ],
            "type": "contour"
           }
          ],
          "contourcarpet": [
           {
            "colorbar": {
             "outlinewidth": 0,
             "tickcolor": "rgb(237,237,237)",
             "ticklen": 6,
             "ticks": "inside"
            },
            "type": "contourcarpet"
           }
          ],
          "heatmap": [
           {
            "colorbar": {
             "outlinewidth": 0,
             "tickcolor": "rgb(237,237,237)",
             "ticklen": 6,
             "ticks": "inside"
            },
            "colorscale": [
             [
              0,
              "rgb(20,44,66)"
             ],
             [
              1,
              "rgb(90,179,244)"
             ]
            ],
            "type": "heatmap"
           }
          ],
          "heatmapgl": [
           {
            "colorbar": {
             "outlinewidth": 0,
             "tickcolor": "rgb(237,237,237)",
             "ticklen": 6,
             "ticks": "inside"
            },
            "colorscale": [
             [
              0,
              "rgb(20,44,66)"
             ],
             [
              1,
              "rgb(90,179,244)"
             ]
            ],
            "type": "heatmapgl"
           }
          ],
          "histogram": [
           {
            "marker": {
             "pattern": {
              "fillmode": "overlay",
              "size": 10,
              "solidity": 0.2
             }
            },
            "type": "histogram"
           }
          ],
          "histogram2d": [
           {
            "colorbar": {
             "outlinewidth": 0,
             "tickcolor": "rgb(237,237,237)",
             "ticklen": 6,
             "ticks": "inside"
            },
            "colorscale": [
             [
              0,
              "rgb(20,44,66)"
             ],
             [
              1,
              "rgb(90,179,244)"
             ]
            ],
            "type": "histogram2d"
           }
          ],
          "histogram2dcontour": [
           {
            "colorbar": {
             "outlinewidth": 0,
             "tickcolor": "rgb(237,237,237)",
             "ticklen": 6,
             "ticks": "inside"
            },
            "colorscale": [
             [
              0,
              "rgb(20,44,66)"
             ],
             [
              1,
              "rgb(90,179,244)"
             ]
            ],
            "type": "histogram2dcontour"
           }
          ],
          "mesh3d": [
           {
            "colorbar": {
             "outlinewidth": 0,
             "tickcolor": "rgb(237,237,237)",
             "ticklen": 6,
             "ticks": "inside"
            },
            "type": "mesh3d"
           }
          ],
          "parcoords": [
           {
            "line": {
             "colorbar": {
              "outlinewidth": 0,
              "tickcolor": "rgb(237,237,237)",
              "ticklen": 6,
              "ticks": "inside"
             }
            },
            "type": "parcoords"
           }
          ],
          "pie": [
           {
            "automargin": true,
            "type": "pie"
           }
          ],
          "scatter": [
           {
            "fillpattern": {
             "fillmode": "overlay",
             "size": 10,
             "solidity": 0.2
            },
            "type": "scatter"
           }
          ],
          "scatter3d": [
           {
            "line": {
             "colorbar": {
              "outlinewidth": 0,
              "tickcolor": "rgb(237,237,237)",
              "ticklen": 6,
              "ticks": "inside"
             }
            },
            "marker": {
             "colorbar": {
              "outlinewidth": 0,
              "tickcolor": "rgb(237,237,237)",
              "ticklen": 6,
              "ticks": "inside"
             }
            },
            "type": "scatter3d"
           }
          ],
          "scattercarpet": [
           {
            "marker": {
             "colorbar": {
              "outlinewidth": 0,
              "tickcolor": "rgb(237,237,237)",
              "ticklen": 6,
              "ticks": "inside"
             }
            },
            "type": "scattercarpet"
           }
          ],
          "scattergeo": [
           {
            "marker": {
             "colorbar": {
              "outlinewidth": 0,
              "tickcolor": "rgb(237,237,237)",
              "ticklen": 6,
              "ticks": "inside"
             }
            },
            "type": "scattergeo"
           }
          ],
          "scattergl": [
           {
            "marker": {
             "colorbar": {
              "outlinewidth": 0,
              "tickcolor": "rgb(237,237,237)",
              "ticklen": 6,
              "ticks": "inside"
             }
            },
            "type": "scattergl"
           }
          ],
          "scattermapbox": [
           {
            "marker": {
             "colorbar": {
              "outlinewidth": 0,
              "tickcolor": "rgb(237,237,237)",
              "ticklen": 6,
              "ticks": "inside"
             }
            },
            "type": "scattermapbox"
           }
          ],
          "scatterpolar": [
           {
            "marker": {
             "colorbar": {
              "outlinewidth": 0,
              "tickcolor": "rgb(237,237,237)",
              "ticklen": 6,
              "ticks": "inside"
             }
            },
            "type": "scatterpolar"
           }
          ],
          "scatterpolargl": [
           {
            "marker": {
             "colorbar": {
              "outlinewidth": 0,
              "tickcolor": "rgb(237,237,237)",
              "ticklen": 6,
              "ticks": "inside"
             }
            },
            "type": "scatterpolargl"
           }
          ],
          "scatterternary": [
           {
            "marker": {
             "colorbar": {
              "outlinewidth": 0,
              "tickcolor": "rgb(237,237,237)",
              "ticklen": 6,
              "ticks": "inside"
             }
            },
            "type": "scatterternary"
           }
          ],
          "surface": [
           {
            "colorbar": {
             "outlinewidth": 0,
             "tickcolor": "rgb(237,237,237)",
             "ticklen": 6,
             "ticks": "inside"
            },
            "colorscale": [
             [
              0,
              "rgb(20,44,66)"
             ],
             [
              1,
              "rgb(90,179,244)"
             ]
            ],
            "type": "surface"
           }
          ],
          "table": [
           {
            "cells": {
             "fill": {
              "color": "rgb(237,237,237)"
             },
             "line": {
              "color": "white"
             }
            },
            "header": {
             "fill": {
              "color": "rgb(217,217,217)"
             },
             "line": {
              "color": "white"
             }
            },
            "type": "table"
           }
          ]
         },
         "layout": {
          "annotationdefaults": {
           "arrowhead": 0,
           "arrowwidth": 1
          },
          "autotypenumbers": "strict",
          "coloraxis": {
           "colorbar": {
            "outlinewidth": 0,
            "tickcolor": "rgb(237,237,237)",
            "ticklen": 6,
            "ticks": "inside"
           }
          },
          "colorscale": {
           "sequential": [
            [
             0,
             "rgb(20,44,66)"
            ],
            [
             1,
             "rgb(90,179,244)"
            ]
           ],
           "sequentialminus": [
            [
             0,
             "rgb(20,44,66)"
            ],
            [
             1,
             "rgb(90,179,244)"
            ]
           ]
          },
          "colorway": [
           "#F8766D",
           "#A3A500",
           "#00BF7D",
           "#00B0F6",
           "#E76BF3"
          ],
          "font": {
           "color": "rgb(51,51,51)"
          },
          "geo": {
           "bgcolor": "white",
           "lakecolor": "white",
           "landcolor": "rgb(237,237,237)",
           "showlakes": true,
           "showland": true,
           "subunitcolor": "white"
          },
          "hoverlabel": {
           "align": "left"
          },
          "hovermode": "closest",
          "paper_bgcolor": "white",
          "plot_bgcolor": "rgb(237,237,237)",
          "polar": {
           "angularaxis": {
            "gridcolor": "white",
            "linecolor": "white",
            "showgrid": true,
            "tickcolor": "rgb(51,51,51)",
            "ticks": "outside"
           },
           "bgcolor": "rgb(237,237,237)",
           "radialaxis": {
            "gridcolor": "white",
            "linecolor": "white",
            "showgrid": true,
            "tickcolor": "rgb(51,51,51)",
            "ticks": "outside"
           }
          },
          "scene": {
           "xaxis": {
            "backgroundcolor": "rgb(237,237,237)",
            "gridcolor": "white",
            "gridwidth": 2,
            "linecolor": "white",
            "showbackground": true,
            "showgrid": true,
            "tickcolor": "rgb(51,51,51)",
            "ticks": "outside",
            "zerolinecolor": "white"
           },
           "yaxis": {
            "backgroundcolor": "rgb(237,237,237)",
            "gridcolor": "white",
            "gridwidth": 2,
            "linecolor": "white",
            "showbackground": true,
            "showgrid": true,
            "tickcolor": "rgb(51,51,51)",
            "ticks": "outside",
            "zerolinecolor": "white"
           },
           "zaxis": {
            "backgroundcolor": "rgb(237,237,237)",
            "gridcolor": "white",
            "gridwidth": 2,
            "linecolor": "white",
            "showbackground": true,
            "showgrid": true,
            "tickcolor": "rgb(51,51,51)",
            "ticks": "outside",
            "zerolinecolor": "white"
           }
          },
          "shapedefaults": {
           "fillcolor": "black",
           "line": {
            "width": 0
           },
           "opacity": 0.3
          },
          "ternary": {
           "aaxis": {
            "gridcolor": "white",
            "linecolor": "white",
            "showgrid": true,
            "tickcolor": "rgb(51,51,51)",
            "ticks": "outside"
           },
           "baxis": {
            "gridcolor": "white",
            "linecolor": "white",
            "showgrid": true,
            "tickcolor": "rgb(51,51,51)",
            "ticks": "outside"
           },
           "bgcolor": "rgb(237,237,237)",
           "caxis": {
            "gridcolor": "white",
            "linecolor": "white",
            "showgrid": true,
            "tickcolor": "rgb(51,51,51)",
            "ticks": "outside"
           }
          },
          "xaxis": {
           "automargin": true,
           "gridcolor": "white",
           "linecolor": "white",
           "showgrid": true,
           "tickcolor": "rgb(51,51,51)",
           "ticks": "outside",
           "title": {
            "standoff": 15
           },
           "zerolinecolor": "white"
          },
          "yaxis": {
           "automargin": true,
           "gridcolor": "white",
           "linecolor": "white",
           "showgrid": true,
           "tickcolor": "rgb(51,51,51)",
           "ticks": "outside",
           "title": {
            "standoff": 15
           },
           "zerolinecolor": "white"
          }
         }
        },
        "title": {
         "text": "STL Decomposition | Unemployment_Rate<br>Seasonal Period = 2"
        },
        "xaxis": {
         "anchor": "y",
         "domain": [
          0,
          0.98
         ],
         "matches": "x4",
         "showticklabels": false
        },
        "xaxis2": {
         "anchor": "y2",
         "domain": [
          0,
          0.98
         ],
         "matches": "x4",
         "showticklabels": false
        },
        "xaxis3": {
         "anchor": "y3",
         "domain": [
          0,
          0.98
         ],
         "matches": "x4",
         "showticklabels": false
        },
        "xaxis4": {
         "anchor": "y4",
         "domain": [
          0,
          0.98
         ]
        },
        "yaxis": {
         "anchor": "x",
         "domain": [
          0.80625,
          1
         ]
        },
        "yaxis2": {
         "anchor": "x2",
         "domain": [
          0.5375,
          0.73125
         ]
        },
        "yaxis3": {
         "anchor": "x3",
         "domain": [
          0.26875,
          0.4625
         ]
        },
        "yaxis4": {
         "anchor": "x4",
         "domain": [
          0,
          0.19375
         ]
        }
       }
      }
     },
     "metadata": {},
     "output_type": "display_data"
    }
   ],
   "source": [
    "exp.plot_model(plot=\"decomp_stl\", fig_kwargs={\"height\": 500})"
   ]
  },
  {
   "cell_type": "markdown",
   "metadata": {},
   "source": [
    "### fine tuning"
   ]
  },
  {
   "cell_type": "markdown",
   "metadata": {},
   "source": [
    "arima"
   ]
  },
  {
   "cell_type": "code",
   "execution_count": 261,
   "metadata": {},
   "outputs": [
    {
     "data": {
      "text/html": [],
      "text/plain": [
       "<IPython.core.display.HTML object>"
      ]
     },
     "metadata": {},
     "output_type": "display_data"
    },
    {
     "data": {
      "text/html": [
       "<style type=\"text/css\">\n",
       "#T_b2285_row3_col0, #T_b2285_row3_col1, #T_b2285_row3_col2, #T_b2285_row3_col3, #T_b2285_row3_col4, #T_b2285_row3_col5, #T_b2285_row3_col6, #T_b2285_row3_col7 {\n",
       "  background: yellow;\n",
       "}\n",
       "</style>\n",
       "<table id=\"T_b2285\">\n",
       "  <thead>\n",
       "    <tr>\n",
       "      <th class=\"blank level0\" >&nbsp;</th>\n",
       "      <th id=\"T_b2285_level0_col0\" class=\"col_heading level0 col0\" >cutoff</th>\n",
       "      <th id=\"T_b2285_level0_col1\" class=\"col_heading level0 col1\" >MASE</th>\n",
       "      <th id=\"T_b2285_level0_col2\" class=\"col_heading level0 col2\" >RMSSE</th>\n",
       "      <th id=\"T_b2285_level0_col3\" class=\"col_heading level0 col3\" >MAE</th>\n",
       "      <th id=\"T_b2285_level0_col4\" class=\"col_heading level0 col4\" >RMSE</th>\n",
       "      <th id=\"T_b2285_level0_col5\" class=\"col_heading level0 col5\" >MAPE</th>\n",
       "      <th id=\"T_b2285_level0_col6\" class=\"col_heading level0 col6\" >SMAPE</th>\n",
       "      <th id=\"T_b2285_level0_col7\" class=\"col_heading level0 col7\" >R2</th>\n",
       "    </tr>\n",
       "  </thead>\n",
       "  <tbody>\n",
       "    <tr>\n",
       "      <th id=\"T_b2285_level0_row0\" class=\"row_heading level0 row0\" >0</th>\n",
       "      <td id=\"T_b2285_row0_col0\" class=\"data row0 col0\" >2012Q3</td>\n",
       "      <td id=\"T_b2285_row0_col1\" class=\"data row0 col1\" >0.9470</td>\n",
       "      <td id=\"T_b2285_row0_col2\" class=\"data row0 col2\" >1.1278</td>\n",
       "      <td id=\"T_b2285_row0_col3\" class=\"data row0 col3\" >1.5639</td>\n",
       "      <td id=\"T_b2285_row0_col4\" class=\"data row0 col4\" >2.0180</td>\n",
       "      <td id=\"T_b2285_row0_col5\" class=\"data row0 col5\" >0.1045</td>\n",
       "      <td id=\"T_b2285_row0_col6\" class=\"data row0 col6\" >0.1092</td>\n",
       "      <td id=\"T_b2285_row0_col7\" class=\"data row0 col7\" >-0.9025</td>\n",
       "    </tr>\n",
       "    <tr>\n",
       "      <th id=\"T_b2285_level0_row1\" class=\"row_heading level0 row1\" >1</th>\n",
       "      <td id=\"T_b2285_row1_col0\" class=\"data row1 col0\" >2015Q3</td>\n",
       "      <td id=\"T_b2285_row1_col1\" class=\"data row1 col1\" >0.5113</td>\n",
       "      <td id=\"T_b2285_row1_col2\" class=\"data row1 col2\" >0.5118</td>\n",
       "      <td id=\"T_b2285_row1_col3\" class=\"data row1 col3\" >0.6403</td>\n",
       "      <td id=\"T_b2285_row1_col4\" class=\"data row1 col4\" >0.7377</td>\n",
       "      <td id=\"T_b2285_row1_col5\" class=\"data row1 col5\" >0.0461</td>\n",
       "      <td id=\"T_b2285_row1_col6\" class=\"data row1 col6\" >0.0455</td>\n",
       "      <td id=\"T_b2285_row1_col7\" class=\"data row1 col7\" >0.4954</td>\n",
       "    </tr>\n",
       "    <tr>\n",
       "      <th id=\"T_b2285_level0_row2\" class=\"row_heading level0 row2\" >2</th>\n",
       "      <td id=\"T_b2285_row2_col0\" class=\"data row2 col0\" >2018Q3</td>\n",
       "      <td id=\"T_b2285_row2_col1\" class=\"data row2 col1\" >1.3356</td>\n",
       "      <td id=\"T_b2285_row2_col2\" class=\"data row2 col2\" >1.3356</td>\n",
       "      <td id=\"T_b2285_row2_col3\" class=\"data row2 col3\" >1.6097</td>\n",
       "      <td id=\"T_b2285_row2_col4\" class=\"data row2 col4\" >1.8546</td>\n",
       "      <td id=\"T_b2285_row2_col5\" class=\"data row2 col5\" >0.1139</td>\n",
       "      <td id=\"T_b2285_row2_col6\" class=\"data row2 col6\" >0.1230</td>\n",
       "      <td id=\"T_b2285_row2_col7\" class=\"data row2 col7\" >-0.7899</td>\n",
       "    </tr>\n",
       "    <tr>\n",
       "      <th id=\"T_b2285_level0_row3\" class=\"row_heading level0 row3\" >Mean</th>\n",
       "      <td id=\"T_b2285_row3_col0\" class=\"data row3 col0\" >NaT</td>\n",
       "      <td id=\"T_b2285_row3_col1\" class=\"data row3 col1\" >0.9313</td>\n",
       "      <td id=\"T_b2285_row3_col2\" class=\"data row3 col2\" >0.9917</td>\n",
       "      <td id=\"T_b2285_row3_col3\" class=\"data row3 col3\" >1.2713</td>\n",
       "      <td id=\"T_b2285_row3_col4\" class=\"data row3 col4\" >1.5368</td>\n",
       "      <td id=\"T_b2285_row3_col5\" class=\"data row3 col5\" >0.0882</td>\n",
       "      <td id=\"T_b2285_row3_col6\" class=\"data row3 col6\" >0.0926</td>\n",
       "      <td id=\"T_b2285_row3_col7\" class=\"data row3 col7\" >-0.3990</td>\n",
       "    </tr>\n",
       "    <tr>\n",
       "      <th id=\"T_b2285_level0_row4\" class=\"row_heading level0 row4\" >SD</th>\n",
       "      <td id=\"T_b2285_row4_col0\" class=\"data row4 col0\" >NaT</td>\n",
       "      <td id=\"T_b2285_row4_col1\" class=\"data row4 col1\" >0.3367</td>\n",
       "      <td id=\"T_b2285_row4_col2\" class=\"data row4 col2\" >0.3498</td>\n",
       "      <td id=\"T_b2285_row4_col3\" class=\"data row4 col3\" >0.4466</td>\n",
       "      <td id=\"T_b2285_row4_col4\" class=\"data row4 col4\" >0.5690</td>\n",
       "      <td id=\"T_b2285_row4_col5\" class=\"data row4 col5\" >0.0300</td>\n",
       "      <td id=\"T_b2285_row4_col6\" class=\"data row4 col6\" >0.0338</td>\n",
       "      <td id=\"T_b2285_row4_col7\" class=\"data row4 col7\" >0.6341</td>\n",
       "    </tr>\n",
       "  </tbody>\n",
       "</table>\n"
      ],
      "text/plain": [
       "<pandas.io.formats.style.Styler at 0x177469970>"
      ]
     },
     "metadata": {},
     "output_type": "display_data"
    },
    {
     "data": {
      "text/html": [],
      "text/plain": [
       "<IPython.core.display.HTML object>"
      ]
     },
     "metadata": {},
     "output_type": "display_data"
    },
    {
     "data": {
      "text/html": [
       "<style type=\"text/css\">\n",
       "</style>\n",
       "<table id=\"T_6d949\">\n",
       "  <thead>\n",
       "    <tr>\n",
       "      <th class=\"blank level0\" >&nbsp;</th>\n",
       "      <th id=\"T_6d949_level0_col0\" class=\"col_heading level0 col0\" >Model</th>\n",
       "      <th id=\"T_6d949_level0_col1\" class=\"col_heading level0 col1\" >MASE</th>\n",
       "      <th id=\"T_6d949_level0_col2\" class=\"col_heading level0 col2\" >RMSSE</th>\n",
       "      <th id=\"T_6d949_level0_col3\" class=\"col_heading level0 col3\" >MAE</th>\n",
       "      <th id=\"T_6d949_level0_col4\" class=\"col_heading level0 col4\" >RMSE</th>\n",
       "      <th id=\"T_6d949_level0_col5\" class=\"col_heading level0 col5\" >MAPE</th>\n",
       "      <th id=\"T_6d949_level0_col6\" class=\"col_heading level0 col6\" >SMAPE</th>\n",
       "      <th id=\"T_6d949_level0_col7\" class=\"col_heading level0 col7\" >R2</th>\n",
       "    </tr>\n",
       "  </thead>\n",
       "  <tbody>\n",
       "    <tr>\n",
       "      <th id=\"T_6d949_level0_row0\" class=\"row_heading level0 row0\" >0</th>\n",
       "      <td id=\"T_6d949_row0_col0\" class=\"data row0 col0\" >ARIMA</td>\n",
       "      <td id=\"T_6d949_row0_col1\" class=\"data row0 col1\" >0.4072</td>\n",
       "      <td id=\"T_6d949_row0_col2\" class=\"data row0 col2\" >0.4681</td>\n",
       "      <td id=\"T_6d949_row0_col3\" class=\"data row0 col3\" >0.4739</td>\n",
       "      <td id=\"T_6d949_row0_col4\" class=\"data row0 col4\" >0.6382</td>\n",
       "      <td id=\"T_6d949_row0_col5\" class=\"data row0 col5\" >0.0363</td>\n",
       "      <td id=\"T_6d949_row0_col6\" class=\"data row0 col6\" >0.0359</td>\n",
       "      <td id=\"T_6d949_row0_col7\" class=\"data row0 col7\" >0.5224</td>\n",
       "    </tr>\n",
       "  </tbody>\n",
       "</table>\n"
      ],
      "text/plain": [
       "<pandas.io.formats.style.Styler at 0x16ec3d160>"
      ]
     },
     "metadata": {},
     "output_type": "display_data"
    },
    {
     "data": {
      "application/vnd.plotly.v1+json": {
       "config": {
        "plotlyServerURL": "https://plot.ly"
       },
       "data": [
        {
         "line": {
          "color": "#1f77b4"
         },
         "marker": {
          "size": 5
         },
         "mode": "lines+markers",
         "name": "Forecast | ARIMA",
         "showlegend": true,
         "type": "scatter",
         "x": [
          "2022-01-01T00:00:00",
          "2022-07-01T00:00:00",
          "2023-01-01T00:00:00",
          "2023-07-01T00:00:00",
          "2024-01-01T00:00:00",
          "2024-07-01T00:00:00"
         ],
         "y": [
          12.1356,
          14.52,
          12.5027,
          13.9796,
          12.3021,
          14.1451
         ]
        },
        {
         "line": {
          "width": 0
         },
         "marker": {
          "color": "#68BBE3"
         },
         "mode": "lines",
         "name": "Lower Interval",
         "showlegend": false,
         "type": "scatter",
         "x": [
          "2022-01-01T00:00:00",
          "2022-07-01T00:00:00",
          "2023-01-01T00:00:00",
          "2023-07-01T00:00:00",
          "2024-01-01T00:00:00",
          "2024-07-01T00:00:00"
         ],
         "y": [
          10.4866,
          12.8644,
          10.1564,
          11.6284,
          9.4225,
          11.2615
         ]
        },
        {
         "fill": "tonexty",
         "fillcolor": "rgba(104,187,227,0.5)",
         "line": {
          "width": 0
         },
         "marker": {
          "color": "#68BBE3"
         },
         "mode": "lines",
         "name": "Prediction Interval | ARIMA",
         "showlegend": true,
         "type": "scatter",
         "x": [
          "2022-01-01T00:00:00",
          "2022-07-01T00:00:00",
          "2023-01-01T00:00:00",
          "2023-07-01T00:00:00",
          "2024-01-01T00:00:00",
          "2024-07-01T00:00:00"
         ],
         "y": [
          13.7845,
          16.1757,
          14.849,
          16.3307,
          15.1817,
          17.0286
         ]
        },
        {
         "marker": {
          "color": "#3f3f3f",
          "size": 5
         },
         "mode": "lines+markers",
         "name": "Original",
         "showlegend": true,
         "type": "scatter",
         "x": [
          "2009-01-01T00:00:00",
          "2009-07-01T00:00:00",
          "2010-01-01T00:00:00",
          "2010-07-01T00:00:00",
          "2011-01-01T00:00:00",
          "2011-07-01T00:00:00",
          "2012-01-01T00:00:00",
          "2012-07-01T00:00:00",
          "2013-01-01T00:00:00",
          "2013-07-01T00:00:00",
          "2014-01-01T00:00:00",
          "2014-07-01T00:00:00",
          "2015-01-01T00:00:00",
          "2015-07-01T00:00:00",
          "2016-01-01T00:00:00",
          "2016-07-01T00:00:00",
          "2017-01-01T00:00:00",
          "2017-07-01T00:00:00",
          "2018-01-01T00:00:00",
          "2018-07-01T00:00:00",
          "2019-01-01T00:00:00",
          "2019-07-01T00:00:00",
          "2020-01-01T00:00:00",
          "2020-07-01T00:00:00",
          "2021-01-01T00:00:00",
          "2021-07-01T00:00:00",
          "2022-01-01T00:00:00",
          "2022-07-01T00:00:00",
          "2023-01-01T00:00:00",
          "2023-07-01T00:00:00",
          "2024-01-01T00:00:00",
          "2024-07-01T00:00:00"
         ],
         "y": [
          18.040630030101887,
          17.14238687901972,
          15.775726707916432,
          15.989462347425771,
          16.851591124698285,
          16.717763415603496,
          14.310062356756935,
          14.5723059746109,
          13.3476811958149,
          15.849200216451232,
          12.565402640695696,
          16.084781044581263,
          14.11539724268468,
          16.397679501557164,
          13.548613123951707,
          14.186108713893296,
          11.812189996775132,
          14.866057832702904,
          12.5799081053059,
          14.163591538115917,
          12.020975928692252,
          13.680974319783642,
          12.22887496390804,
          15.862362395833156,
          14.188898876104474,
          15.018407075494991,
          12.948944225299863,
          14.764916741760771,
          12.265233452406,
          14.177533914667926,
          12.378460471546267,
          12.871909126092456
         ]
        }
       ],
       "layout": {
        "showlegend": true,
        "template": {
         "data": {
          "bar": [
           {
            "error_x": {
             "color": "rgb(51,51,51)"
            },
            "error_y": {
             "color": "rgb(51,51,51)"
            },
            "marker": {
             "line": {
              "color": "rgb(237,237,237)",
              "width": 0.5
             },
             "pattern": {
              "fillmode": "overlay",
              "size": 10,
              "solidity": 0.2
             }
            },
            "type": "bar"
           }
          ],
          "barpolar": [
           {
            "marker": {
             "line": {
              "color": "rgb(237,237,237)",
              "width": 0.5
             },
             "pattern": {
              "fillmode": "overlay",
              "size": 10,
              "solidity": 0.2
             }
            },
            "type": "barpolar"
           }
          ],
          "carpet": [
           {
            "aaxis": {
             "endlinecolor": "rgb(51,51,51)",
             "gridcolor": "white",
             "linecolor": "white",
             "minorgridcolor": "white",
             "startlinecolor": "rgb(51,51,51)"
            },
            "baxis": {
             "endlinecolor": "rgb(51,51,51)",
             "gridcolor": "white",
             "linecolor": "white",
             "minorgridcolor": "white",
             "startlinecolor": "rgb(51,51,51)"
            },
            "type": "carpet"
           }
          ],
          "choropleth": [
           {
            "colorbar": {
             "outlinewidth": 0,
             "tickcolor": "rgb(237,237,237)",
             "ticklen": 6,
             "ticks": "inside"
            },
            "type": "choropleth"
           }
          ],
          "contour": [
           {
            "colorbar": {
             "outlinewidth": 0,
             "tickcolor": "rgb(237,237,237)",
             "ticklen": 6,
             "ticks": "inside"
            },
            "colorscale": [
             [
              0,
              "rgb(20,44,66)"
             ],
             [
              1,
              "rgb(90,179,244)"
             ]
            ],
            "type": "contour"
           }
          ],
          "contourcarpet": [
           {
            "colorbar": {
             "outlinewidth": 0,
             "tickcolor": "rgb(237,237,237)",
             "ticklen": 6,
             "ticks": "inside"
            },
            "type": "contourcarpet"
           }
          ],
          "heatmap": [
           {
            "colorbar": {
             "outlinewidth": 0,
             "tickcolor": "rgb(237,237,237)",
             "ticklen": 6,
             "ticks": "inside"
            },
            "colorscale": [
             [
              0,
              "rgb(20,44,66)"
             ],
             [
              1,
              "rgb(90,179,244)"
             ]
            ],
            "type": "heatmap"
           }
          ],
          "heatmapgl": [
           {
            "colorbar": {
             "outlinewidth": 0,
             "tickcolor": "rgb(237,237,237)",
             "ticklen": 6,
             "ticks": "inside"
            },
            "colorscale": [
             [
              0,
              "rgb(20,44,66)"
             ],
             [
              1,
              "rgb(90,179,244)"
             ]
            ],
            "type": "heatmapgl"
           }
          ],
          "histogram": [
           {
            "marker": {
             "pattern": {
              "fillmode": "overlay",
              "size": 10,
              "solidity": 0.2
             }
            },
            "type": "histogram"
           }
          ],
          "histogram2d": [
           {
            "colorbar": {
             "outlinewidth": 0,
             "tickcolor": "rgb(237,237,237)",
             "ticklen": 6,
             "ticks": "inside"
            },
            "colorscale": [
             [
              0,
              "rgb(20,44,66)"
             ],
             [
              1,
              "rgb(90,179,244)"
             ]
            ],
            "type": "histogram2d"
           }
          ],
          "histogram2dcontour": [
           {
            "colorbar": {
             "outlinewidth": 0,
             "tickcolor": "rgb(237,237,237)",
             "ticklen": 6,
             "ticks": "inside"
            },
            "colorscale": [
             [
              0,
              "rgb(20,44,66)"
             ],
             [
              1,
              "rgb(90,179,244)"
             ]
            ],
            "type": "histogram2dcontour"
           }
          ],
          "mesh3d": [
           {
            "colorbar": {
             "outlinewidth": 0,
             "tickcolor": "rgb(237,237,237)",
             "ticklen": 6,
             "ticks": "inside"
            },
            "type": "mesh3d"
           }
          ],
          "parcoords": [
           {
            "line": {
             "colorbar": {
              "outlinewidth": 0,
              "tickcolor": "rgb(237,237,237)",
              "ticklen": 6,
              "ticks": "inside"
             }
            },
            "type": "parcoords"
           }
          ],
          "pie": [
           {
            "automargin": true,
            "type": "pie"
           }
          ],
          "scatter": [
           {
            "fillpattern": {
             "fillmode": "overlay",
             "size": 10,
             "solidity": 0.2
            },
            "type": "scatter"
           }
          ],
          "scatter3d": [
           {
            "line": {
             "colorbar": {
              "outlinewidth": 0,
              "tickcolor": "rgb(237,237,237)",
              "ticklen": 6,
              "ticks": "inside"
             }
            },
            "marker": {
             "colorbar": {
              "outlinewidth": 0,
              "tickcolor": "rgb(237,237,237)",
              "ticklen": 6,
              "ticks": "inside"
             }
            },
            "type": "scatter3d"
           }
          ],
          "scattercarpet": [
           {
            "marker": {
             "colorbar": {
              "outlinewidth": 0,
              "tickcolor": "rgb(237,237,237)",
              "ticklen": 6,
              "ticks": "inside"
             }
            },
            "type": "scattercarpet"
           }
          ],
          "scattergeo": [
           {
            "marker": {
             "colorbar": {
              "outlinewidth": 0,
              "tickcolor": "rgb(237,237,237)",
              "ticklen": 6,
              "ticks": "inside"
             }
            },
            "type": "scattergeo"
           }
          ],
          "scattergl": [
           {
            "marker": {
             "colorbar": {
              "outlinewidth": 0,
              "tickcolor": "rgb(237,237,237)",
              "ticklen": 6,
              "ticks": "inside"
             }
            },
            "type": "scattergl"
           }
          ],
          "scattermapbox": [
           {
            "marker": {
             "colorbar": {
              "outlinewidth": 0,
              "tickcolor": "rgb(237,237,237)",
              "ticklen": 6,
              "ticks": "inside"
             }
            },
            "type": "scattermapbox"
           }
          ],
          "scatterpolar": [
           {
            "marker": {
             "colorbar": {
              "outlinewidth": 0,
              "tickcolor": "rgb(237,237,237)",
              "ticklen": 6,
              "ticks": "inside"
             }
            },
            "type": "scatterpolar"
           }
          ],
          "scatterpolargl": [
           {
            "marker": {
             "colorbar": {
              "outlinewidth": 0,
              "tickcolor": "rgb(237,237,237)",
              "ticklen": 6,
              "ticks": "inside"
             }
            },
            "type": "scatterpolargl"
           }
          ],
          "scatterternary": [
           {
            "marker": {
             "colorbar": {
              "outlinewidth": 0,
              "tickcolor": "rgb(237,237,237)",
              "ticklen": 6,
              "ticks": "inside"
             }
            },
            "type": "scatterternary"
           }
          ],
          "surface": [
           {
            "colorbar": {
             "outlinewidth": 0,
             "tickcolor": "rgb(237,237,237)",
             "ticklen": 6,
             "ticks": "inside"
            },
            "colorscale": [
             [
              0,
              "rgb(20,44,66)"
             ],
             [
              1,
              "rgb(90,179,244)"
             ]
            ],
            "type": "surface"
           }
          ],
          "table": [
           {
            "cells": {
             "fill": {
              "color": "rgb(237,237,237)"
             },
             "line": {
              "color": "white"
             }
            },
            "header": {
             "fill": {
              "color": "rgb(217,217,217)"
             },
             "line": {
              "color": "white"
             }
            },
            "type": "table"
           }
          ]
         },
         "layout": {
          "annotationdefaults": {
           "arrowhead": 0,
           "arrowwidth": 1
          },
          "autotypenumbers": "strict",
          "coloraxis": {
           "colorbar": {
            "outlinewidth": 0,
            "tickcolor": "rgb(237,237,237)",
            "ticklen": 6,
            "ticks": "inside"
           }
          },
          "colorscale": {
           "sequential": [
            [
             0,
             "rgb(20,44,66)"
            ],
            [
             1,
             "rgb(90,179,244)"
            ]
           ],
           "sequentialminus": [
            [
             0,
             "rgb(20,44,66)"
            ],
            [
             1,
             "rgb(90,179,244)"
            ]
           ]
          },
          "colorway": [
           "#F8766D",
           "#A3A500",
           "#00BF7D",
           "#00B0F6",
           "#E76BF3"
          ],
          "font": {
           "color": "rgb(51,51,51)"
          },
          "geo": {
           "bgcolor": "white",
           "lakecolor": "white",
           "landcolor": "rgb(237,237,237)",
           "showlakes": true,
           "showland": true,
           "subunitcolor": "white"
          },
          "hoverlabel": {
           "align": "left"
          },
          "hovermode": "closest",
          "paper_bgcolor": "white",
          "plot_bgcolor": "rgb(237,237,237)",
          "polar": {
           "angularaxis": {
            "gridcolor": "white",
            "linecolor": "white",
            "showgrid": true,
            "tickcolor": "rgb(51,51,51)",
            "ticks": "outside"
           },
           "bgcolor": "rgb(237,237,237)",
           "radialaxis": {
            "gridcolor": "white",
            "linecolor": "white",
            "showgrid": true,
            "tickcolor": "rgb(51,51,51)",
            "ticks": "outside"
           }
          },
          "scene": {
           "xaxis": {
            "backgroundcolor": "rgb(237,237,237)",
            "gridcolor": "white",
            "gridwidth": 2,
            "linecolor": "white",
            "showbackground": true,
            "showgrid": true,
            "tickcolor": "rgb(51,51,51)",
            "ticks": "outside",
            "zerolinecolor": "white"
           },
           "yaxis": {
            "backgroundcolor": "rgb(237,237,237)",
            "gridcolor": "white",
            "gridwidth": 2,
            "linecolor": "white",
            "showbackground": true,
            "showgrid": true,
            "tickcolor": "rgb(51,51,51)",
            "ticks": "outside",
            "zerolinecolor": "white"
           },
           "zaxis": {
            "backgroundcolor": "rgb(237,237,237)",
            "gridcolor": "white",
            "gridwidth": 2,
            "linecolor": "white",
            "showbackground": true,
            "showgrid": true,
            "tickcolor": "rgb(51,51,51)",
            "ticks": "outside",
            "zerolinecolor": "white"
           }
          },
          "shapedefaults": {
           "fillcolor": "black",
           "line": {
            "width": 0
           },
           "opacity": 0.3
          },
          "ternary": {
           "aaxis": {
            "gridcolor": "white",
            "linecolor": "white",
            "showgrid": true,
            "tickcolor": "rgb(51,51,51)",
            "ticks": "outside"
           },
           "baxis": {
            "gridcolor": "white",
            "linecolor": "white",
            "showgrid": true,
            "tickcolor": "rgb(51,51,51)",
            "ticks": "outside"
           },
           "bgcolor": "rgb(237,237,237)",
           "caxis": {
            "gridcolor": "white",
            "linecolor": "white",
            "showgrid": true,
            "tickcolor": "rgb(51,51,51)",
            "ticks": "outside"
           }
          },
          "xaxis": {
           "automargin": true,
           "gridcolor": "white",
           "linecolor": "white",
           "showgrid": true,
           "tickcolor": "rgb(51,51,51)",
           "ticks": "outside",
           "title": {
            "standoff": 15
           },
           "zerolinecolor": "white"
          },
          "yaxis": {
           "automargin": true,
           "gridcolor": "white",
           "linecolor": "white",
           "showgrid": true,
           "tickcolor": "rgb(51,51,51)",
           "ticks": "outside",
           "title": {
            "standoff": 15
           },
           "zerolinecolor": "white"
          }
         }
        },
        "title": {
         "text": "Actual vs. 'Out-of-Sample' Forecast | Unemployment_Rate"
        },
        "xaxis": {
         "title": {
          "text": "Time"
         }
        },
        "yaxis": {
         "title": {
          "text": "Values"
         }
        }
       }
      }
     },
     "metadata": {},
     "output_type": "display_data"
    }
   ],
   "source": [
    "arima = exp.create_model('arima')\n",
    "y_predict_arima = exp.predict_model(arima)\n",
    "exp.plot_model(estimator=arima)"
   ]
  },
  {
   "cell_type": "code",
   "execution_count": 262,
   "metadata": {},
   "outputs": [
    {
     "data": {
      "text/html": [],
      "text/plain": [
       "<IPython.core.display.HTML object>"
      ]
     },
     "metadata": {},
     "output_type": "display_data"
    },
    {
     "data": {
      "text/html": [
       "<style type=\"text/css\">\n",
       "#T_e3a60_row3_col0, #T_e3a60_row3_col1, #T_e3a60_row3_col2, #T_e3a60_row3_col3, #T_e3a60_row3_col4, #T_e3a60_row3_col5, #T_e3a60_row3_col6, #T_e3a60_row3_col7 {\n",
       "  background: yellow;\n",
       "}\n",
       "</style>\n",
       "<table id=\"T_e3a60\">\n",
       "  <thead>\n",
       "    <tr>\n",
       "      <th class=\"blank level0\" >&nbsp;</th>\n",
       "      <th id=\"T_e3a60_level0_col0\" class=\"col_heading level0 col0\" >cutoff</th>\n",
       "      <th id=\"T_e3a60_level0_col1\" class=\"col_heading level0 col1\" >MASE</th>\n",
       "      <th id=\"T_e3a60_level0_col2\" class=\"col_heading level0 col2\" >RMSSE</th>\n",
       "      <th id=\"T_e3a60_level0_col3\" class=\"col_heading level0 col3\" >MAE</th>\n",
       "      <th id=\"T_e3a60_level0_col4\" class=\"col_heading level0 col4\" >RMSE</th>\n",
       "      <th id=\"T_e3a60_level0_col5\" class=\"col_heading level0 col5\" >MAPE</th>\n",
       "      <th id=\"T_e3a60_level0_col6\" class=\"col_heading level0 col6\" >SMAPE</th>\n",
       "      <th id=\"T_e3a60_level0_col7\" class=\"col_heading level0 col7\" >R2</th>\n",
       "    </tr>\n",
       "  </thead>\n",
       "  <tbody>\n",
       "    <tr>\n",
       "      <th id=\"T_e3a60_level0_row0\" class=\"row_heading level0 row0\" >0</th>\n",
       "      <td id=\"T_e3a60_row0_col0\" class=\"data row0 col0\" >2012Q3</td>\n",
       "      <td id=\"T_e3a60_row0_col1\" class=\"data row0 col1\" >1.3589</td>\n",
       "      <td id=\"T_e3a60_row0_col2\" class=\"data row0 col2\" >1.3667</td>\n",
       "      <td id=\"T_e3a60_row0_col3\" class=\"data row0 col3\" >2.2442</td>\n",
       "      <td id=\"T_e3a60_row0_col4\" class=\"data row0 col4\" >2.4453</td>\n",
       "      <td id=\"T_e3a60_row0_col5\" class=\"data row0 col5\" >0.1511</td>\n",
       "      <td id=\"T_e3a60_row0_col6\" class=\"data row0 col6\" >0.1551</td>\n",
       "      <td id=\"T_e3a60_row0_col7\" class=\"data row0 col7\" >-1.7936</td>\n",
       "    </tr>\n",
       "    <tr>\n",
       "      <th id=\"T_e3a60_level0_row1\" class=\"row_heading level0 row1\" >1</th>\n",
       "      <td id=\"T_e3a60_row1_col0\" class=\"data row1 col0\" >2015Q3</td>\n",
       "      <td id=\"T_e3a60_row1_col1\" class=\"data row1 col1\" >0.6254</td>\n",
       "      <td id=\"T_e3a60_row1_col2\" class=\"data row1 col2\" >0.6489</td>\n",
       "      <td id=\"T_e3a60_row1_col3\" class=\"data row1 col3\" >0.7832</td>\n",
       "      <td id=\"T_e3a60_row1_col4\" class=\"data row1 col4\" >0.9354</td>\n",
       "      <td id=\"T_e3a60_row1_col5\" class=\"data row1 col5\" >0.0580</td>\n",
       "      <td id=\"T_e3a60_row1_col6\" class=\"data row1 col6\" >0.0566</td>\n",
       "      <td id=\"T_e3a60_row1_col7\" class=\"data row1 col7\" >0.1886</td>\n",
       "    </tr>\n",
       "    <tr>\n",
       "      <th id=\"T_e3a60_level0_row2\" class=\"row_heading level0 row2\" >2</th>\n",
       "      <td id=\"T_e3a60_row2_col0\" class=\"data row2 col0\" >2018Q3</td>\n",
       "      <td id=\"T_e3a60_row2_col1\" class=\"data row2 col1\" >0.6287</td>\n",
       "      <td id=\"T_e3a60_row2_col2\" class=\"data row2 col2\" >0.7452</td>\n",
       "      <td id=\"T_e3a60_row2_col3\" class=\"data row2 col3\" >0.7577</td>\n",
       "      <td id=\"T_e3a60_row2_col4\" class=\"data row2 col4\" >1.0347</td>\n",
       "      <td id=\"T_e3a60_row2_col5\" class=\"data row2 col5\" >0.0518</td>\n",
       "      <td id=\"T_e3a60_row2_col6\" class=\"data row2 col6\" >0.0538</td>\n",
       "      <td id=\"T_e3a60_row2_col7\" class=\"data row2 col7\" >0.4429</td>\n",
       "    </tr>\n",
       "    <tr>\n",
       "      <th id=\"T_e3a60_level0_row3\" class=\"row_heading level0 row3\" >Mean</th>\n",
       "      <td id=\"T_e3a60_row3_col0\" class=\"data row3 col0\" >NaT</td>\n",
       "      <td id=\"T_e3a60_row3_col1\" class=\"data row3 col1\" >0.8710</td>\n",
       "      <td id=\"T_e3a60_row3_col2\" class=\"data row3 col2\" >0.9203</td>\n",
       "      <td id=\"T_e3a60_row3_col3\" class=\"data row3 col3\" >1.2617</td>\n",
       "      <td id=\"T_e3a60_row3_col4\" class=\"data row3 col4\" >1.4718</td>\n",
       "      <td id=\"T_e3a60_row3_col5\" class=\"data row3 col5\" >0.0870</td>\n",
       "      <td id=\"T_e3a60_row3_col6\" class=\"data row3 col6\" >0.0885</td>\n",
       "      <td id=\"T_e3a60_row3_col7\" class=\"data row3 col7\" >-0.3874</td>\n",
       "    </tr>\n",
       "    <tr>\n",
       "      <th id=\"T_e3a60_level0_row4\" class=\"row_heading level0 row4\" >SD</th>\n",
       "      <td id=\"T_e3a60_row4_col0\" class=\"data row4 col0\" >NaT</td>\n",
       "      <td id=\"T_e3a60_row4_col1\" class=\"data row4 col1\" >0.3450</td>\n",
       "      <td id=\"T_e3a60_row4_col2\" class=\"data row4 col2\" >0.3181</td>\n",
       "      <td id=\"T_e3a60_row4_col3\" class=\"data row4 col3\" >0.6948</td>\n",
       "      <td id=\"T_e3a60_row4_col4\" class=\"data row4 col4\" >0.6896</td>\n",
       "      <td id=\"T_e3a60_row4_col5\" class=\"data row4 col5\" >0.0454</td>\n",
       "      <td id=\"T_e3a60_row4_col6\" class=\"data row4 col6\" >0.0471</td>\n",
       "      <td id=\"T_e3a60_row4_col7\" class=\"data row4 col7\" >0.9997</td>\n",
       "    </tr>\n",
       "  </tbody>\n",
       "</table>\n"
      ],
      "text/plain": [
       "<pandas.io.formats.style.Styler at 0x16b4699a0>"
      ]
     },
     "metadata": {},
     "output_type": "display_data"
    },
    {
     "data": {
      "text/html": [],
      "text/plain": [
       "<IPython.core.display.HTML object>"
      ]
     },
     "metadata": {},
     "output_type": "display_data"
    },
    {
     "name": "stdout",
     "output_type": "stream",
     "text": [
      "Fitting 3 folds for each of 20 candidates, totalling 60 fits\n"
     ]
    },
    {
     "name": "stderr",
     "output_type": "stream",
     "text": [
      "[Parallel(n_jobs=-1)]: Using backend LokyBackend with 8 concurrent workers.\n",
      "[Parallel(n_jobs=-1)]: Done  45 out of  60 | elapsed:    0.8s remaining:    0.3s\n",
      "[Parallel(n_jobs=-1)]: Done  60 out of  60 | elapsed:    1.1s finished\n"
     ]
    }
   ],
   "source": [
    "tuned_arima = tune_model(arima, n_iter=20, optimize='MASE')"
   ]
  },
  {
   "cell_type": "code",
   "execution_count": 263,
   "metadata": {},
   "outputs": [
    {
     "data": {
      "application/vnd.plotly.v1+json": {
       "config": {
        "plotlyServerURL": "https://plot.ly"
       },
       "data": [
        {
         "line": {
          "color": "#1f77b4"
         },
         "marker": {
          "size": 5
         },
         "mode": "lines+markers",
         "name": "Forecast | ARIMA",
         "showlegend": true,
         "type": "scatter",
         "x": [
          "2022-01-01T00:00:00",
          "2022-07-01T00:00:00",
          "2023-01-01T00:00:00",
          "2023-07-01T00:00:00",
          "2024-01-01T00:00:00",
          "2024-07-01T00:00:00"
         ],
         "y": [
          13.5415,
          14.7014,
          12.9978,
          14.2598,
          12.464,
          14.1242
         ]
        },
        {
         "line": {
          "width": 0
         },
         "marker": {
          "color": "#68BBE3"
         },
         "mode": "lines",
         "name": "Lower Interval",
         "showlegend": false,
         "type": "scatter",
         "x": [
          "2022-01-01T00:00:00",
          "2022-07-01T00:00:00",
          "2023-01-01T00:00:00",
          "2023-07-01T00:00:00",
          "2024-01-01T00:00:00",
          "2024-07-01T00:00:00"
         ],
         "y": [
          11.8108,
          12.9707,
          11.2671,
          12.5291,
          10.7332,
          12.3935
         ]
        },
        {
         "fill": "tonexty",
         "fillcolor": "rgba(104,187,227,0.5)",
         "line": {
          "width": 0
         },
         "marker": {
          "color": "#68BBE3"
         },
         "mode": "lines",
         "name": "Prediction Interval | ARIMA",
         "showlegend": true,
         "type": "scatter",
         "x": [
          "2022-01-01T00:00:00",
          "2022-07-01T00:00:00",
          "2023-01-01T00:00:00",
          "2023-07-01T00:00:00",
          "2024-01-01T00:00:00",
          "2024-07-01T00:00:00"
         ],
         "y": [
          15.2722,
          16.4321,
          14.7285,
          15.9905,
          14.1947,
          15.855
         ]
        },
        {
         "marker": {
          "color": "#3f3f3f",
          "size": 5
         },
         "mode": "lines+markers",
         "name": "Original",
         "showlegend": true,
         "type": "scatter",
         "x": [
          "2009-01-01T00:00:00",
          "2009-07-01T00:00:00",
          "2010-01-01T00:00:00",
          "2010-07-01T00:00:00",
          "2011-01-01T00:00:00",
          "2011-07-01T00:00:00",
          "2012-01-01T00:00:00",
          "2012-07-01T00:00:00",
          "2013-01-01T00:00:00",
          "2013-07-01T00:00:00",
          "2014-01-01T00:00:00",
          "2014-07-01T00:00:00",
          "2015-01-01T00:00:00",
          "2015-07-01T00:00:00",
          "2016-01-01T00:00:00",
          "2016-07-01T00:00:00",
          "2017-01-01T00:00:00",
          "2017-07-01T00:00:00",
          "2018-01-01T00:00:00",
          "2018-07-01T00:00:00",
          "2019-01-01T00:00:00",
          "2019-07-01T00:00:00",
          "2020-01-01T00:00:00",
          "2020-07-01T00:00:00",
          "2021-01-01T00:00:00",
          "2021-07-01T00:00:00",
          "2022-01-01T00:00:00",
          "2022-07-01T00:00:00",
          "2023-01-01T00:00:00",
          "2023-07-01T00:00:00",
          "2024-01-01T00:00:00",
          "2024-07-01T00:00:00"
         ],
         "y": [
          18.040630030101887,
          17.14238687901972,
          15.775726707916432,
          15.989462347425771,
          16.851591124698285,
          16.717763415603496,
          14.310062356756935,
          14.5723059746109,
          13.3476811958149,
          15.849200216451232,
          12.565402640695696,
          16.084781044581263,
          14.11539724268468,
          16.397679501557164,
          13.548613123951707,
          14.186108713893296,
          11.812189996775132,
          14.866057832702904,
          12.5799081053059,
          14.163591538115917,
          12.020975928692252,
          13.680974319783642,
          12.22887496390804,
          15.862362395833156,
          14.188898876104474,
          15.018407075494991,
          12.948944225299863,
          14.764916741760771,
          12.265233452406,
          14.177533914667926,
          12.378460471546267,
          12.871909126092456
         ]
        }
       ],
       "layout": {
        "showlegend": true,
        "template": {
         "data": {
          "bar": [
           {
            "error_x": {
             "color": "rgb(51,51,51)"
            },
            "error_y": {
             "color": "rgb(51,51,51)"
            },
            "marker": {
             "line": {
              "color": "rgb(237,237,237)",
              "width": 0.5
             },
             "pattern": {
              "fillmode": "overlay",
              "size": 10,
              "solidity": 0.2
             }
            },
            "type": "bar"
           }
          ],
          "barpolar": [
           {
            "marker": {
             "line": {
              "color": "rgb(237,237,237)",
              "width": 0.5
             },
             "pattern": {
              "fillmode": "overlay",
              "size": 10,
              "solidity": 0.2
             }
            },
            "type": "barpolar"
           }
          ],
          "carpet": [
           {
            "aaxis": {
             "endlinecolor": "rgb(51,51,51)",
             "gridcolor": "white",
             "linecolor": "white",
             "minorgridcolor": "white",
             "startlinecolor": "rgb(51,51,51)"
            },
            "baxis": {
             "endlinecolor": "rgb(51,51,51)",
             "gridcolor": "white",
             "linecolor": "white",
             "minorgridcolor": "white",
             "startlinecolor": "rgb(51,51,51)"
            },
            "type": "carpet"
           }
          ],
          "choropleth": [
           {
            "colorbar": {
             "outlinewidth": 0,
             "tickcolor": "rgb(237,237,237)",
             "ticklen": 6,
             "ticks": "inside"
            },
            "type": "choropleth"
           }
          ],
          "contour": [
           {
            "colorbar": {
             "outlinewidth": 0,
             "tickcolor": "rgb(237,237,237)",
             "ticklen": 6,
             "ticks": "inside"
            },
            "colorscale": [
             [
              0,
              "rgb(20,44,66)"
             ],
             [
              1,
              "rgb(90,179,244)"
             ]
            ],
            "type": "contour"
           }
          ],
          "contourcarpet": [
           {
            "colorbar": {
             "outlinewidth": 0,
             "tickcolor": "rgb(237,237,237)",
             "ticklen": 6,
             "ticks": "inside"
            },
            "type": "contourcarpet"
           }
          ],
          "heatmap": [
           {
            "colorbar": {
             "outlinewidth": 0,
             "tickcolor": "rgb(237,237,237)",
             "ticklen": 6,
             "ticks": "inside"
            },
            "colorscale": [
             [
              0,
              "rgb(20,44,66)"
             ],
             [
              1,
              "rgb(90,179,244)"
             ]
            ],
            "type": "heatmap"
           }
          ],
          "heatmapgl": [
           {
            "colorbar": {
             "outlinewidth": 0,
             "tickcolor": "rgb(237,237,237)",
             "ticklen": 6,
             "ticks": "inside"
            },
            "colorscale": [
             [
              0,
              "rgb(20,44,66)"
             ],
             [
              1,
              "rgb(90,179,244)"
             ]
            ],
            "type": "heatmapgl"
           }
          ],
          "histogram": [
           {
            "marker": {
             "pattern": {
              "fillmode": "overlay",
              "size": 10,
              "solidity": 0.2
             }
            },
            "type": "histogram"
           }
          ],
          "histogram2d": [
           {
            "colorbar": {
             "outlinewidth": 0,
             "tickcolor": "rgb(237,237,237)",
             "ticklen": 6,
             "ticks": "inside"
            },
            "colorscale": [
             [
              0,
              "rgb(20,44,66)"
             ],
             [
              1,
              "rgb(90,179,244)"
             ]
            ],
            "type": "histogram2d"
           }
          ],
          "histogram2dcontour": [
           {
            "colorbar": {
             "outlinewidth": 0,
             "tickcolor": "rgb(237,237,237)",
             "ticklen": 6,
             "ticks": "inside"
            },
            "colorscale": [
             [
              0,
              "rgb(20,44,66)"
             ],
             [
              1,
              "rgb(90,179,244)"
             ]
            ],
            "type": "histogram2dcontour"
           }
          ],
          "mesh3d": [
           {
            "colorbar": {
             "outlinewidth": 0,
             "tickcolor": "rgb(237,237,237)",
             "ticklen": 6,
             "ticks": "inside"
            },
            "type": "mesh3d"
           }
          ],
          "parcoords": [
           {
            "line": {
             "colorbar": {
              "outlinewidth": 0,
              "tickcolor": "rgb(237,237,237)",
              "ticklen": 6,
              "ticks": "inside"
             }
            },
            "type": "parcoords"
           }
          ],
          "pie": [
           {
            "automargin": true,
            "type": "pie"
           }
          ],
          "scatter": [
           {
            "fillpattern": {
             "fillmode": "overlay",
             "size": 10,
             "solidity": 0.2
            },
            "type": "scatter"
           }
          ],
          "scatter3d": [
           {
            "line": {
             "colorbar": {
              "outlinewidth": 0,
              "tickcolor": "rgb(237,237,237)",
              "ticklen": 6,
              "ticks": "inside"
             }
            },
            "marker": {
             "colorbar": {
              "outlinewidth": 0,
              "tickcolor": "rgb(237,237,237)",
              "ticklen": 6,
              "ticks": "inside"
             }
            },
            "type": "scatter3d"
           }
          ],
          "scattercarpet": [
           {
            "marker": {
             "colorbar": {
              "outlinewidth": 0,
              "tickcolor": "rgb(237,237,237)",
              "ticklen": 6,
              "ticks": "inside"
             }
            },
            "type": "scattercarpet"
           }
          ],
          "scattergeo": [
           {
            "marker": {
             "colorbar": {
              "outlinewidth": 0,
              "tickcolor": "rgb(237,237,237)",
              "ticklen": 6,
              "ticks": "inside"
             }
            },
            "type": "scattergeo"
           }
          ],
          "scattergl": [
           {
            "marker": {
             "colorbar": {
              "outlinewidth": 0,
              "tickcolor": "rgb(237,237,237)",
              "ticklen": 6,
              "ticks": "inside"
             }
            },
            "type": "scattergl"
           }
          ],
          "scattermapbox": [
           {
            "marker": {
             "colorbar": {
              "outlinewidth": 0,
              "tickcolor": "rgb(237,237,237)",
              "ticklen": 6,
              "ticks": "inside"
             }
            },
            "type": "scattermapbox"
           }
          ],
          "scatterpolar": [
           {
            "marker": {
             "colorbar": {
              "outlinewidth": 0,
              "tickcolor": "rgb(237,237,237)",
              "ticklen": 6,
              "ticks": "inside"
             }
            },
            "type": "scatterpolar"
           }
          ],
          "scatterpolargl": [
           {
            "marker": {
             "colorbar": {
              "outlinewidth": 0,
              "tickcolor": "rgb(237,237,237)",
              "ticklen": 6,
              "ticks": "inside"
             }
            },
            "type": "scatterpolargl"
           }
          ],
          "scatterternary": [
           {
            "marker": {
             "colorbar": {
              "outlinewidth": 0,
              "tickcolor": "rgb(237,237,237)",
              "ticklen": 6,
              "ticks": "inside"
             }
            },
            "type": "scatterternary"
           }
          ],
          "surface": [
           {
            "colorbar": {
             "outlinewidth": 0,
             "tickcolor": "rgb(237,237,237)",
             "ticklen": 6,
             "ticks": "inside"
            },
            "colorscale": [
             [
              0,
              "rgb(20,44,66)"
             ],
             [
              1,
              "rgb(90,179,244)"
             ]
            ],
            "type": "surface"
           }
          ],
          "table": [
           {
            "cells": {
             "fill": {
              "color": "rgb(237,237,237)"
             },
             "line": {
              "color": "white"
             }
            },
            "header": {
             "fill": {
              "color": "rgb(217,217,217)"
             },
             "line": {
              "color": "white"
             }
            },
            "type": "table"
           }
          ]
         },
         "layout": {
          "annotationdefaults": {
           "arrowhead": 0,
           "arrowwidth": 1
          },
          "autotypenumbers": "strict",
          "coloraxis": {
           "colorbar": {
            "outlinewidth": 0,
            "tickcolor": "rgb(237,237,237)",
            "ticklen": 6,
            "ticks": "inside"
           }
          },
          "colorscale": {
           "sequential": [
            [
             0,
             "rgb(20,44,66)"
            ],
            [
             1,
             "rgb(90,179,244)"
            ]
           ],
           "sequentialminus": [
            [
             0,
             "rgb(20,44,66)"
            ],
            [
             1,
             "rgb(90,179,244)"
            ]
           ]
          },
          "colorway": [
           "#F8766D",
           "#A3A500",
           "#00BF7D",
           "#00B0F6",
           "#E76BF3"
          ],
          "font": {
           "color": "rgb(51,51,51)"
          },
          "geo": {
           "bgcolor": "white",
           "lakecolor": "white",
           "landcolor": "rgb(237,237,237)",
           "showlakes": true,
           "showland": true,
           "subunitcolor": "white"
          },
          "hoverlabel": {
           "align": "left"
          },
          "hovermode": "closest",
          "paper_bgcolor": "white",
          "plot_bgcolor": "rgb(237,237,237)",
          "polar": {
           "angularaxis": {
            "gridcolor": "white",
            "linecolor": "white",
            "showgrid": true,
            "tickcolor": "rgb(51,51,51)",
            "ticks": "outside"
           },
           "bgcolor": "rgb(237,237,237)",
           "radialaxis": {
            "gridcolor": "white",
            "linecolor": "white",
            "showgrid": true,
            "tickcolor": "rgb(51,51,51)",
            "ticks": "outside"
           }
          },
          "scene": {
           "xaxis": {
            "backgroundcolor": "rgb(237,237,237)",
            "gridcolor": "white",
            "gridwidth": 2,
            "linecolor": "white",
            "showbackground": true,
            "showgrid": true,
            "tickcolor": "rgb(51,51,51)",
            "ticks": "outside",
            "zerolinecolor": "white"
           },
           "yaxis": {
            "backgroundcolor": "rgb(237,237,237)",
            "gridcolor": "white",
            "gridwidth": 2,
            "linecolor": "white",
            "showbackground": true,
            "showgrid": true,
            "tickcolor": "rgb(51,51,51)",
            "ticks": "outside",
            "zerolinecolor": "white"
           },
           "zaxis": {
            "backgroundcolor": "rgb(237,237,237)",
            "gridcolor": "white",
            "gridwidth": 2,
            "linecolor": "white",
            "showbackground": true,
            "showgrid": true,
            "tickcolor": "rgb(51,51,51)",
            "ticks": "outside",
            "zerolinecolor": "white"
           }
          },
          "shapedefaults": {
           "fillcolor": "black",
           "line": {
            "width": 0
           },
           "opacity": 0.3
          },
          "ternary": {
           "aaxis": {
            "gridcolor": "white",
            "linecolor": "white",
            "showgrid": true,
            "tickcolor": "rgb(51,51,51)",
            "ticks": "outside"
           },
           "baxis": {
            "gridcolor": "white",
            "linecolor": "white",
            "showgrid": true,
            "tickcolor": "rgb(51,51,51)",
            "ticks": "outside"
           },
           "bgcolor": "rgb(237,237,237)",
           "caxis": {
            "gridcolor": "white",
            "linecolor": "white",
            "showgrid": true,
            "tickcolor": "rgb(51,51,51)",
            "ticks": "outside"
           }
          },
          "xaxis": {
           "automargin": true,
           "gridcolor": "white",
           "linecolor": "white",
           "showgrid": true,
           "tickcolor": "rgb(51,51,51)",
           "ticks": "outside",
           "title": {
            "standoff": 15
           },
           "zerolinecolor": "white"
          },
          "yaxis": {
           "automargin": true,
           "gridcolor": "white",
           "linecolor": "white",
           "showgrid": true,
           "tickcolor": "rgb(51,51,51)",
           "ticks": "outside",
           "title": {
            "standoff": 15
           },
           "zerolinecolor": "white"
          }
         }
        },
        "title": {
         "text": "Actual vs. 'Out-of-Sample' Forecast | Unemployment_Rate"
        },
        "xaxis": {
         "title": {
          "text": "Time"
         }
        },
        "yaxis": {
         "title": {
          "text": "Values"
         }
        }
       }
      }
     },
     "metadata": {},
     "output_type": "display_data"
    }
   ],
   "source": [
    "exp.plot_model(estimator=tuned_arima)"
   ]
  },
  {
   "cell_type": "code",
   "execution_count": 264,
   "metadata": {},
   "outputs": [
    {
     "name": "stdout",
     "output_type": "stream",
     "text": [
      "{'concentrate_scale': False, 'enforce_invertibility': True, 'enforce_stationarity': True, 'hamilton_representation': False, 'maxiter': 50, 'measurement_error': False, 'method': 'lbfgs', 'mle_regression': True, 'order': (1, 0, 0), 'out_of_sample_size': 0, 'scoring': 'mse', 'scoring_args': None, 'seasonal_order': (0, 1, 0, 2), 'simple_differencing': False, 'start_params': None, 'suppress_warnings': False, 'time_varying_regression': False, 'trend': None, 'with_intercept': True}\n",
      "{'concentrate_scale': False, 'enforce_invertibility': True, 'enforce_stationarity': True, 'hamilton_representation': False, 'maxiter': 50, 'measurement_error': False, 'method': 'lbfgs', 'mle_regression': True, 'order': (0, 0, 0), 'out_of_sample_size': 0, 'scoring': 'mse', 'scoring_args': None, 'seasonal_order': (0, 0, 0, 2), 'simple_differencing': False, 'start_params': None, 'suppress_warnings': False, 'time_varying_regression': False, 'trend': None, 'with_intercept': False}\n"
     ]
    }
   ],
   "source": [
    "print(arima.get_params())\n",
    "print(tuned_arima.get_params())"
   ]
  },
  {
   "cell_type": "markdown",
   "metadata": {},
   "source": [
    "huber regression"
   ]
  },
  {
   "cell_type": "code",
   "execution_count": 241,
   "metadata": {},
   "outputs": [
    {
     "data": {
      "text/html": [],
      "text/plain": [
       "<IPython.core.display.HTML object>"
      ]
     },
     "metadata": {},
     "output_type": "display_data"
    },
    {
     "data": {
      "text/html": [
       "<style type=\"text/css\">\n",
       "#T_80225_row3_col0, #T_80225_row3_col1, #T_80225_row3_col2, #T_80225_row3_col3, #T_80225_row3_col4, #T_80225_row3_col5, #T_80225_row3_col6, #T_80225_row3_col7 {\n",
       "  background: yellow;\n",
       "}\n",
       "</style>\n",
       "<table id=\"T_80225\">\n",
       "  <thead>\n",
       "    <tr>\n",
       "      <th class=\"blank level0\" >&nbsp;</th>\n",
       "      <th id=\"T_80225_level0_col0\" class=\"col_heading level0 col0\" >cutoff</th>\n",
       "      <th id=\"T_80225_level0_col1\" class=\"col_heading level0 col1\" >MASE</th>\n",
       "      <th id=\"T_80225_level0_col2\" class=\"col_heading level0 col2\" >RMSSE</th>\n",
       "      <th id=\"T_80225_level0_col3\" class=\"col_heading level0 col3\" >MAE</th>\n",
       "      <th id=\"T_80225_level0_col4\" class=\"col_heading level0 col4\" >RMSE</th>\n",
       "      <th id=\"T_80225_level0_col5\" class=\"col_heading level0 col5\" >MAPE</th>\n",
       "      <th id=\"T_80225_level0_col6\" class=\"col_heading level0 col6\" >SMAPE</th>\n",
       "      <th id=\"T_80225_level0_col7\" class=\"col_heading level0 col7\" >R2</th>\n",
       "    </tr>\n",
       "  </thead>\n",
       "  <tbody>\n",
       "    <tr>\n",
       "      <th id=\"T_80225_level0_row0\" class=\"row_heading level0 row0\" >0</th>\n",
       "      <td id=\"T_80225_row0_col0\" class=\"data row0 col0\" >2012Q3</td>\n",
       "      <td id=\"T_80225_row0_col1\" class=\"data row0 col1\" >nan</td>\n",
       "      <td id=\"T_80225_row0_col2\" class=\"data row0 col2\" >nan</td>\n",
       "      <td id=\"T_80225_row0_col3\" class=\"data row0 col3\" >nan</td>\n",
       "      <td id=\"T_80225_row0_col4\" class=\"data row0 col4\" >nan</td>\n",
       "      <td id=\"T_80225_row0_col5\" class=\"data row0 col5\" >nan</td>\n",
       "      <td id=\"T_80225_row0_col6\" class=\"data row0 col6\" >nan</td>\n",
       "      <td id=\"T_80225_row0_col7\" class=\"data row0 col7\" >nan</td>\n",
       "    </tr>\n",
       "    <tr>\n",
       "      <th id=\"T_80225_level0_row1\" class=\"row_heading level0 row1\" >1</th>\n",
       "      <td id=\"T_80225_row1_col0\" class=\"data row1 col0\" >2015Q3</td>\n",
       "      <td id=\"T_80225_row1_col1\" class=\"data row1 col1\" >6.5895</td>\n",
       "      <td id=\"T_80225_row1_col2\" class=\"data row1 col2\" >6.9418</td>\n",
       "      <td id=\"T_80225_row1_col3\" class=\"data row1 col3\" >8.2528</td>\n",
       "      <td id=\"T_80225_row1_col4\" class=\"data row1 col4\" >10.0064</td>\n",
       "      <td id=\"T_80225_row1_col5\" class=\"data row1 col5\" >0.6147</td>\n",
       "      <td id=\"T_80225_row1_col6\" class=\"data row1 col6\" >0.4299</td>\n",
       "      <td id=\"T_80225_row1_col7\" class=\"data row1 col7\" >-91.8437</td>\n",
       "    </tr>\n",
       "    <tr>\n",
       "      <th id=\"T_80225_level0_row2\" class=\"row_heading level0 row2\" >2</th>\n",
       "      <td id=\"T_80225_row2_col0\" class=\"data row2 col0\" >2018Q3</td>\n",
       "      <td id=\"T_80225_row2_col1\" class=\"data row2 col1\" >nan</td>\n",
       "      <td id=\"T_80225_row2_col2\" class=\"data row2 col2\" >nan</td>\n",
       "      <td id=\"T_80225_row2_col3\" class=\"data row2 col3\" >nan</td>\n",
       "      <td id=\"T_80225_row2_col4\" class=\"data row2 col4\" >nan</td>\n",
       "      <td id=\"T_80225_row2_col5\" class=\"data row2 col5\" >nan</td>\n",
       "      <td id=\"T_80225_row2_col6\" class=\"data row2 col6\" >nan</td>\n",
       "      <td id=\"T_80225_row2_col7\" class=\"data row2 col7\" >nan</td>\n",
       "    </tr>\n",
       "    <tr>\n",
       "      <th id=\"T_80225_level0_row3\" class=\"row_heading level0 row3\" >Mean</th>\n",
       "      <td id=\"T_80225_row3_col0\" class=\"data row3 col0\" >NaT</td>\n",
       "      <td id=\"T_80225_row3_col1\" class=\"data row3 col1\" >nan</td>\n",
       "      <td id=\"T_80225_row3_col2\" class=\"data row3 col2\" >nan</td>\n",
       "      <td id=\"T_80225_row3_col3\" class=\"data row3 col3\" >nan</td>\n",
       "      <td id=\"T_80225_row3_col4\" class=\"data row3 col4\" >nan</td>\n",
       "      <td id=\"T_80225_row3_col5\" class=\"data row3 col5\" >nan</td>\n",
       "      <td id=\"T_80225_row3_col6\" class=\"data row3 col6\" >nan</td>\n",
       "      <td id=\"T_80225_row3_col7\" class=\"data row3 col7\" >nan</td>\n",
       "    </tr>\n",
       "    <tr>\n",
       "      <th id=\"T_80225_level0_row4\" class=\"row_heading level0 row4\" >SD</th>\n",
       "      <td id=\"T_80225_row4_col0\" class=\"data row4 col0\" >NaT</td>\n",
       "      <td id=\"T_80225_row4_col1\" class=\"data row4 col1\" >nan</td>\n",
       "      <td id=\"T_80225_row4_col2\" class=\"data row4 col2\" >nan</td>\n",
       "      <td id=\"T_80225_row4_col3\" class=\"data row4 col3\" >nan</td>\n",
       "      <td id=\"T_80225_row4_col4\" class=\"data row4 col4\" >nan</td>\n",
       "      <td id=\"T_80225_row4_col5\" class=\"data row4 col5\" >nan</td>\n",
       "      <td id=\"T_80225_row4_col6\" class=\"data row4 col6\" >nan</td>\n",
       "      <td id=\"T_80225_row4_col7\" class=\"data row4 col7\" >nan</td>\n",
       "    </tr>\n",
       "  </tbody>\n",
       "</table>\n"
      ],
      "text/plain": [
       "<pandas.io.formats.style.Styler at 0x177b34970>"
      ]
     },
     "metadata": {},
     "output_type": "display_data"
    },
    {
     "data": {
      "text/html": [],
      "text/plain": [
       "<IPython.core.display.HTML object>"
      ]
     },
     "metadata": {},
     "output_type": "display_data"
    },
    {
     "data": {
      "text/html": [
       "<style type=\"text/css\">\n",
       "</style>\n",
       "<table id=\"T_ffa99\">\n",
       "  <thead>\n",
       "    <tr>\n",
       "      <th class=\"blank level0\" >&nbsp;</th>\n",
       "      <th id=\"T_ffa99_level0_col0\" class=\"col_heading level0 col0\" >Model</th>\n",
       "      <th id=\"T_ffa99_level0_col1\" class=\"col_heading level0 col1\" >MASE</th>\n",
       "      <th id=\"T_ffa99_level0_col2\" class=\"col_heading level0 col2\" >RMSSE</th>\n",
       "      <th id=\"T_ffa99_level0_col3\" class=\"col_heading level0 col3\" >MAE</th>\n",
       "      <th id=\"T_ffa99_level0_col4\" class=\"col_heading level0 col4\" >RMSE</th>\n",
       "      <th id=\"T_ffa99_level0_col5\" class=\"col_heading level0 col5\" >MAPE</th>\n",
       "      <th id=\"T_ffa99_level0_col6\" class=\"col_heading level0 col6\" >SMAPE</th>\n",
       "      <th id=\"T_ffa99_level0_col7\" class=\"col_heading level0 col7\" >R2</th>\n",
       "    </tr>\n",
       "  </thead>\n",
       "  <tbody>\n",
       "    <tr>\n",
       "      <th id=\"T_ffa99_level0_row0\" class=\"row_heading level0 row0\" >0</th>\n",
       "      <td id=\"T_ffa99_row0_col0\" class=\"data row0 col0\" >HuberRegressor</td>\n",
       "      <td id=\"T_ffa99_row0_col1\" class=\"data row0 col1\" >0</td>\n",
       "      <td id=\"T_ffa99_row0_col2\" class=\"data row0 col2\" >0</td>\n",
       "      <td id=\"T_ffa99_row0_col3\" class=\"data row0 col3\" >0</td>\n",
       "      <td id=\"T_ffa99_row0_col4\" class=\"data row0 col4\" >0</td>\n",
       "      <td id=\"T_ffa99_row0_col5\" class=\"data row0 col5\" >0</td>\n",
       "      <td id=\"T_ffa99_row0_col6\" class=\"data row0 col6\" >0</td>\n",
       "      <td id=\"T_ffa99_row0_col7\" class=\"data row0 col7\" >0</td>\n",
       "    </tr>\n",
       "  </tbody>\n",
       "</table>\n"
      ],
      "text/plain": [
       "<pandas.io.formats.style.Styler at 0x16c765520>"
      ]
     },
     "metadata": {},
     "output_type": "display_data"
    },
    {
     "data": {
      "application/vnd.plotly.v1+json": {
       "config": {
        "plotlyServerURL": "https://plot.ly"
       },
       "data": [
        {
         "line": {
          "color": "rgb(31, 119, 180)",
          "width": 2
         },
         "marker": {
          "color": "rgb(31, 119, 180)",
          "size": 5
         },
         "mode": "lines+markers",
         "name": "Unemployment_Rate",
         "type": "scattergl",
         "x": [
          "2009-01-01T00:00:00",
          "2009-07-01T00:00:00",
          "2010-01-01T00:00:00",
          "2010-07-01T00:00:00",
          "2011-01-01T00:00:00",
          "2011-07-01T00:00:00",
          "2012-01-01T00:00:00",
          "2012-07-01T00:00:00",
          "2013-01-01T00:00:00",
          "2013-07-01T00:00:00",
          "2014-01-01T00:00:00",
          "2014-07-01T00:00:00",
          "2015-01-01T00:00:00",
          "2015-07-01T00:00:00",
          "2016-01-01T00:00:00",
          "2016-07-01T00:00:00",
          "2017-01-01T00:00:00",
          "2017-07-01T00:00:00",
          "2018-01-01T00:00:00",
          "2018-07-01T00:00:00",
          "2019-01-01T00:00:00",
          "2019-07-01T00:00:00",
          "2020-01-01T00:00:00",
          "2020-07-01T00:00:00",
          "2021-01-01T00:00:00",
          "2021-07-01T00:00:00",
          "2022-01-01T00:00:00",
          "2022-07-01T00:00:00",
          "2023-01-01T00:00:00",
          "2023-07-01T00:00:00",
          "2024-01-01T00:00:00",
          "2024-07-01T00:00:00"
         ],
         "xaxis": "x",
         "y": [
          18.040630030101887,
          17.14238687901972,
          15.775726707916432,
          15.989462347425771,
          16.851591124698285,
          16.717763415603496,
          14.310062356756935,
          14.5723059746109,
          13.3476811958149,
          15.849200216451232,
          12.565402640695696,
          16.084781044581263,
          14.11539724268468,
          16.397679501557164,
          13.548613123951707,
          14.186108713893296,
          11.812189996775132,
          14.866057832702904,
          12.5799081053059,
          14.163591538115917,
          12.020975928692252,
          13.680974319783642,
          12.22887496390804,
          15.862362395833156,
          14.188898876104474,
          15.018407075494991,
          12.948944225299863,
          14.764916741760771,
          12.265233452406,
          14.177533914667926,
          12.378460471546267,
          12.871909126092456
         ],
         "yaxis": "y"
        },
        {
         "line": {
          "color": "rgb(255, 127, 14)",
          "width": 2
         },
         "marker": {
          "color": "rgb(255, 127, 14)",
          "size": 5
         },
         "mode": "lines+markers",
         "name": "HuberRegressor",
         "type": "scattergl",
         "x": [
          "2009-01-01T00:00:00",
          "2009-07-01T00:00:00",
          "2010-01-01T00:00:00",
          "2010-07-01T00:00:00",
          "2011-01-01T00:00:00",
          "2011-07-01T00:00:00",
          "2012-01-01T00:00:00",
          "2012-07-01T00:00:00",
          "2013-01-01T00:00:00",
          "2013-07-01T00:00:00",
          "2014-01-01T00:00:00",
          "2014-07-01T00:00:00",
          "2015-01-01T00:00:00",
          "2015-07-01T00:00:00",
          "2016-01-01T00:00:00",
          "2016-07-01T00:00:00",
          "2017-01-01T00:00:00",
          "2017-07-01T00:00:00",
          "2018-01-01T00:00:00",
          "2018-07-01T00:00:00",
          "2019-01-01T00:00:00",
          "2019-07-01T00:00:00",
          "2020-01-01T00:00:00",
          "2020-07-01T00:00:00",
          "2021-01-01T00:00:00",
          "2021-07-01T00:00:00",
          "2022-01-01T00:00:00",
          "2022-07-01T00:00:00",
          "2023-01-01T00:00:00",
          "2023-07-01T00:00:00",
          "2024-01-01T00:00:00",
          "2024-07-01T00:00:00"
         ],
         "xaxis": "x",
         "y": [
          null,
          null,
          null,
          null,
          null,
          null,
          null,
          null,
          null,
          null,
          null,
          null,
          null,
          null,
          null,
          null,
          null,
          null,
          null,
          null,
          null,
          null,
          null,
          null,
          null,
          null,
          12.9454,
          14.4406,
          13.8893,
          6.0486,
          75.2907,
          null
         ],
         "yaxis": "y"
        }
       ],
       "layout": {
        "showlegend": true,
        "template": {
         "data": {
          "bar": [
           {
            "error_x": {
             "color": "rgb(51,51,51)"
            },
            "error_y": {
             "color": "rgb(51,51,51)"
            },
            "marker": {
             "line": {
              "color": "rgb(237,237,237)",
              "width": 0.5
             },
             "pattern": {
              "fillmode": "overlay",
              "size": 10,
              "solidity": 0.2
             }
            },
            "type": "bar"
           }
          ],
          "barpolar": [
           {
            "marker": {
             "line": {
              "color": "rgb(237,237,237)",
              "width": 0.5
             },
             "pattern": {
              "fillmode": "overlay",
              "size": 10,
              "solidity": 0.2
             }
            },
            "type": "barpolar"
           }
          ],
          "carpet": [
           {
            "aaxis": {
             "endlinecolor": "rgb(51,51,51)",
             "gridcolor": "white",
             "linecolor": "white",
             "minorgridcolor": "white",
             "startlinecolor": "rgb(51,51,51)"
            },
            "baxis": {
             "endlinecolor": "rgb(51,51,51)",
             "gridcolor": "white",
             "linecolor": "white",
             "minorgridcolor": "white",
             "startlinecolor": "rgb(51,51,51)"
            },
            "type": "carpet"
           }
          ],
          "choropleth": [
           {
            "colorbar": {
             "outlinewidth": 0,
             "tickcolor": "rgb(237,237,237)",
             "ticklen": 6,
             "ticks": "inside"
            },
            "type": "choropleth"
           }
          ],
          "contour": [
           {
            "colorbar": {
             "outlinewidth": 0,
             "tickcolor": "rgb(237,237,237)",
             "ticklen": 6,
             "ticks": "inside"
            },
            "colorscale": [
             [
              0,
              "rgb(20,44,66)"
             ],
             [
              1,
              "rgb(90,179,244)"
             ]
            ],
            "type": "contour"
           }
          ],
          "contourcarpet": [
           {
            "colorbar": {
             "outlinewidth": 0,
             "tickcolor": "rgb(237,237,237)",
             "ticklen": 6,
             "ticks": "inside"
            },
            "type": "contourcarpet"
           }
          ],
          "heatmap": [
           {
            "colorbar": {
             "outlinewidth": 0,
             "tickcolor": "rgb(237,237,237)",
             "ticklen": 6,
             "ticks": "inside"
            },
            "colorscale": [
             [
              0,
              "rgb(20,44,66)"
             ],
             [
              1,
              "rgb(90,179,244)"
             ]
            ],
            "type": "heatmap"
           }
          ],
          "heatmapgl": [
           {
            "colorbar": {
             "outlinewidth": 0,
             "tickcolor": "rgb(237,237,237)",
             "ticklen": 6,
             "ticks": "inside"
            },
            "colorscale": [
             [
              0,
              "rgb(20,44,66)"
             ],
             [
              1,
              "rgb(90,179,244)"
             ]
            ],
            "type": "heatmapgl"
           }
          ],
          "histogram": [
           {
            "marker": {
             "pattern": {
              "fillmode": "overlay",
              "size": 10,
              "solidity": 0.2
             }
            },
            "type": "histogram"
           }
          ],
          "histogram2d": [
           {
            "colorbar": {
             "outlinewidth": 0,
             "tickcolor": "rgb(237,237,237)",
             "ticklen": 6,
             "ticks": "inside"
            },
            "colorscale": [
             [
              0,
              "rgb(20,44,66)"
             ],
             [
              1,
              "rgb(90,179,244)"
             ]
            ],
            "type": "histogram2d"
           }
          ],
          "histogram2dcontour": [
           {
            "colorbar": {
             "outlinewidth": 0,
             "tickcolor": "rgb(237,237,237)",
             "ticklen": 6,
             "ticks": "inside"
            },
            "colorscale": [
             [
              0,
              "rgb(20,44,66)"
             ],
             [
              1,
              "rgb(90,179,244)"
             ]
            ],
            "type": "histogram2dcontour"
           }
          ],
          "mesh3d": [
           {
            "colorbar": {
             "outlinewidth": 0,
             "tickcolor": "rgb(237,237,237)",
             "ticklen": 6,
             "ticks": "inside"
            },
            "type": "mesh3d"
           }
          ],
          "parcoords": [
           {
            "line": {
             "colorbar": {
              "outlinewidth": 0,
              "tickcolor": "rgb(237,237,237)",
              "ticklen": 6,
              "ticks": "inside"
             }
            },
            "type": "parcoords"
           }
          ],
          "pie": [
           {
            "automargin": true,
            "type": "pie"
           }
          ],
          "scatter": [
           {
            "fillpattern": {
             "fillmode": "overlay",
             "size": 10,
             "solidity": 0.2
            },
            "type": "scatter"
           }
          ],
          "scatter3d": [
           {
            "line": {
             "colorbar": {
              "outlinewidth": 0,
              "tickcolor": "rgb(237,237,237)",
              "ticklen": 6,
              "ticks": "inside"
             }
            },
            "marker": {
             "colorbar": {
              "outlinewidth": 0,
              "tickcolor": "rgb(237,237,237)",
              "ticklen": 6,
              "ticks": "inside"
             }
            },
            "type": "scatter3d"
           }
          ],
          "scattercarpet": [
           {
            "marker": {
             "colorbar": {
              "outlinewidth": 0,
              "tickcolor": "rgb(237,237,237)",
              "ticklen": 6,
              "ticks": "inside"
             }
            },
            "type": "scattercarpet"
           }
          ],
          "scattergeo": [
           {
            "marker": {
             "colorbar": {
              "outlinewidth": 0,
              "tickcolor": "rgb(237,237,237)",
              "ticklen": 6,
              "ticks": "inside"
             }
            },
            "type": "scattergeo"
           }
          ],
          "scattergl": [
           {
            "marker": {
             "colorbar": {
              "outlinewidth": 0,
              "tickcolor": "rgb(237,237,237)",
              "ticklen": 6,
              "ticks": "inside"
             }
            },
            "type": "scattergl"
           }
          ],
          "scattermapbox": [
           {
            "marker": {
             "colorbar": {
              "outlinewidth": 0,
              "tickcolor": "rgb(237,237,237)",
              "ticklen": 6,
              "ticks": "inside"
             }
            },
            "type": "scattermapbox"
           }
          ],
          "scatterpolar": [
           {
            "marker": {
             "colorbar": {
              "outlinewidth": 0,
              "tickcolor": "rgb(237,237,237)",
              "ticklen": 6,
              "ticks": "inside"
             }
            },
            "type": "scatterpolar"
           }
          ],
          "scatterpolargl": [
           {
            "marker": {
             "colorbar": {
              "outlinewidth": 0,
              "tickcolor": "rgb(237,237,237)",
              "ticklen": 6,
              "ticks": "inside"
             }
            },
            "type": "scatterpolargl"
           }
          ],
          "scatterternary": [
           {
            "marker": {
             "colorbar": {
              "outlinewidth": 0,
              "tickcolor": "rgb(237,237,237)",
              "ticklen": 6,
              "ticks": "inside"
             }
            },
            "type": "scatterternary"
           }
          ],
          "surface": [
           {
            "colorbar": {
             "outlinewidth": 0,
             "tickcolor": "rgb(237,237,237)",
             "ticklen": 6,
             "ticks": "inside"
            },
            "colorscale": [
             [
              0,
              "rgb(20,44,66)"
             ],
             [
              1,
              "rgb(90,179,244)"
             ]
            ],
            "type": "surface"
           }
          ],
          "table": [
           {
            "cells": {
             "fill": {
              "color": "rgb(237,237,237)"
             },
             "line": {
              "color": "white"
             }
            },
            "header": {
             "fill": {
              "color": "rgb(217,217,217)"
             },
             "line": {
              "color": "white"
             }
            },
            "type": "table"
           }
          ]
         },
         "layout": {
          "annotationdefaults": {
           "arrowhead": 0,
           "arrowwidth": 1
          },
          "autotypenumbers": "strict",
          "coloraxis": {
           "colorbar": {
            "outlinewidth": 0,
            "tickcolor": "rgb(237,237,237)",
            "ticklen": 6,
            "ticks": "inside"
           }
          },
          "colorscale": {
           "sequential": [
            [
             0,
             "rgb(20,44,66)"
            ],
            [
             1,
             "rgb(90,179,244)"
            ]
           ],
           "sequentialminus": [
            [
             0,
             "rgb(20,44,66)"
            ],
            [
             1,
             "rgb(90,179,244)"
            ]
           ]
          },
          "colorway": [
           "#F8766D",
           "#A3A500",
           "#00BF7D",
           "#00B0F6",
           "#E76BF3"
          ],
          "font": {
           "color": "rgb(51,51,51)"
          },
          "geo": {
           "bgcolor": "white",
           "lakecolor": "white",
           "landcolor": "rgb(237,237,237)",
           "showlakes": true,
           "showland": true,
           "subunitcolor": "white"
          },
          "hoverlabel": {
           "align": "left"
          },
          "hovermode": "closest",
          "paper_bgcolor": "white",
          "plot_bgcolor": "rgb(237,237,237)",
          "polar": {
           "angularaxis": {
            "gridcolor": "white",
            "linecolor": "white",
            "showgrid": true,
            "tickcolor": "rgb(51,51,51)",
            "ticks": "outside"
           },
           "bgcolor": "rgb(237,237,237)",
           "radialaxis": {
            "gridcolor": "white",
            "linecolor": "white",
            "showgrid": true,
            "tickcolor": "rgb(51,51,51)",
            "ticks": "outside"
           }
          },
          "scene": {
           "xaxis": {
            "backgroundcolor": "rgb(237,237,237)",
            "gridcolor": "white",
            "gridwidth": 2,
            "linecolor": "white",
            "showbackground": true,
            "showgrid": true,
            "tickcolor": "rgb(51,51,51)",
            "ticks": "outside",
            "zerolinecolor": "white"
           },
           "yaxis": {
            "backgroundcolor": "rgb(237,237,237)",
            "gridcolor": "white",
            "gridwidth": 2,
            "linecolor": "white",
            "showbackground": true,
            "showgrid": true,
            "tickcolor": "rgb(51,51,51)",
            "ticks": "outside",
            "zerolinecolor": "white"
           },
           "zaxis": {
            "backgroundcolor": "rgb(237,237,237)",
            "gridcolor": "white",
            "gridwidth": 2,
            "linecolor": "white",
            "showbackground": true,
            "showgrid": true,
            "tickcolor": "rgb(51,51,51)",
            "ticks": "outside",
            "zerolinecolor": "white"
           }
          },
          "shapedefaults": {
           "fillcolor": "black",
           "line": {
            "width": 0
           },
           "opacity": 0.3
          },
          "ternary": {
           "aaxis": {
            "gridcolor": "white",
            "linecolor": "white",
            "showgrid": true,
            "tickcolor": "rgb(51,51,51)",
            "ticks": "outside"
           },
           "baxis": {
            "gridcolor": "white",
            "linecolor": "white",
            "showgrid": true,
            "tickcolor": "rgb(51,51,51)",
            "ticks": "outside"
           },
           "bgcolor": "rgb(237,237,237)",
           "caxis": {
            "gridcolor": "white",
            "linecolor": "white",
            "showgrid": true,
            "tickcolor": "rgb(51,51,51)",
            "ticks": "outside"
           }
          },
          "xaxis": {
           "automargin": true,
           "gridcolor": "white",
           "linecolor": "white",
           "showgrid": true,
           "tickcolor": "rgb(51,51,51)",
           "ticks": "outside",
           "title": {
            "standoff": 15
           },
           "zerolinecolor": "white"
          },
          "yaxis": {
           "automargin": true,
           "gridcolor": "white",
           "linecolor": "white",
           "showgrid": true,
           "tickcolor": "rgb(51,51,51)",
           "ticks": "outside",
           "title": {
            "standoff": 15
           },
           "zerolinecolor": "white"
          }
         }
        },
        "title": {
         "text": "Actual vs. Forecast (Out-of-Sample)"
        },
        "xaxis": {
         "anchor": "y",
         "domain": [
          0,
          1
         ]
        },
        "yaxis": {
         "anchor": "x",
         "domain": [
          0,
          1
         ]
        }
       }
      }
     },
     "metadata": {},
     "output_type": "display_data"
    }
   ],
   "source": [
    "huber = exp.create_model('huber_cds_dt')\n",
    "y_predict_huber = exp.predict_model(huber)\n",
    "exp.plot_model(estimator=huber)"
   ]
  },
  {
   "cell_type": "code",
   "execution_count": 242,
   "metadata": {},
   "outputs": [
    {
     "data": {
      "text/html": [],
      "text/plain": [
       "<IPython.core.display.HTML object>"
      ]
     },
     "metadata": {},
     "output_type": "display_data"
    },
    {
     "data": {
      "text/html": [
       "<style type=\"text/css\">\n",
       "#T_0af8b_row2_col0, #T_0af8b_row2_col1, #T_0af8b_row2_col2, #T_0af8b_row2_col3, #T_0af8b_row2_col4, #T_0af8b_row2_col5, #T_0af8b_row2_col6, #T_0af8b_row2_col7 {\n",
       "  background: yellow;\n",
       "}\n",
       "</style>\n",
       "<table id=\"T_0af8b\">\n",
       "  <thead>\n",
       "    <tr>\n",
       "      <th class=\"blank level0\" >&nbsp;</th>\n",
       "      <th id=\"T_0af8b_level0_col0\" class=\"col_heading level0 col0\" >cutoff</th>\n",
       "      <th id=\"T_0af8b_level0_col1\" class=\"col_heading level0 col1\" >MASE</th>\n",
       "      <th id=\"T_0af8b_level0_col2\" class=\"col_heading level0 col2\" >RMSSE</th>\n",
       "      <th id=\"T_0af8b_level0_col3\" class=\"col_heading level0 col3\" >MAE</th>\n",
       "      <th id=\"T_0af8b_level0_col4\" class=\"col_heading level0 col4\" >RMSE</th>\n",
       "      <th id=\"T_0af8b_level0_col5\" class=\"col_heading level0 col5\" >MAPE</th>\n",
       "      <th id=\"T_0af8b_level0_col6\" class=\"col_heading level0 col6\" >SMAPE</th>\n",
       "      <th id=\"T_0af8b_level0_col7\" class=\"col_heading level0 col7\" >R2</th>\n",
       "    </tr>\n",
       "  </thead>\n",
       "  <tbody>\n",
       "    <tr>\n",
       "      <th id=\"T_0af8b_level0_row0\" class=\"row_heading level0 row0\" >0</th>\n",
       "      <td id=\"T_0af8b_row0_col0\" class=\"data row0 col0\" >2015Q3</td>\n",
       "      <td id=\"T_0af8b_row0_col1\" class=\"data row0 col1\" >0.5997</td>\n",
       "      <td id=\"T_0af8b_row0_col2\" class=\"data row0 col2\" >0.5990</td>\n",
       "      <td id=\"T_0af8b_row0_col3\" class=\"data row0 col3\" >0.7511</td>\n",
       "      <td id=\"T_0af8b_row0_col4\" class=\"data row0 col4\" >0.8634</td>\n",
       "      <td id=\"T_0af8b_row0_col5\" class=\"data row0 col5\" >0.0552</td>\n",
       "      <td id=\"T_0af8b_row0_col6\" class=\"data row0 col6\" >0.0560</td>\n",
       "      <td id=\"T_0af8b_row0_col7\" class=\"data row0 col7\" >0.3088</td>\n",
       "    </tr>\n",
       "    <tr>\n",
       "      <th id=\"T_0af8b_level0_row1\" class=\"row_heading level0 row1\" >1</th>\n",
       "      <td id=\"T_0af8b_row1_col0\" class=\"data row1 col0\" >2018Q3</td>\n",
       "      <td id=\"T_0af8b_row1_col1\" class=\"data row1 col1\" >1.0154</td>\n",
       "      <td id=\"T_0af8b_row1_col2\" class=\"data row1 col2\" >1.1492</td>\n",
       "      <td id=\"T_0af8b_row1_col3\" class=\"data row1 col3\" >1.2238</td>\n",
       "      <td id=\"T_0af8b_row1_col4\" class=\"data row1 col4\" >1.5957</td>\n",
       "      <td id=\"T_0af8b_row1_col5\" class=\"data row1 col5\" >0.0830</td>\n",
       "      <td id=\"T_0af8b_row1_col6\" class=\"data row1 col6\" >0.0892</td>\n",
       "      <td id=\"T_0af8b_row1_col7\" class=\"data row1 col7\" >-0.3251</td>\n",
       "    </tr>\n",
       "    <tr>\n",
       "      <th id=\"T_0af8b_level0_row2\" class=\"row_heading level0 row2\" >Mean</th>\n",
       "      <td id=\"T_0af8b_row2_col0\" class=\"data row2 col0\" >NaT</td>\n",
       "      <td id=\"T_0af8b_row2_col1\" class=\"data row2 col1\" >0.8076</td>\n",
       "      <td id=\"T_0af8b_row2_col2\" class=\"data row2 col2\" >0.8741</td>\n",
       "      <td id=\"T_0af8b_row2_col3\" class=\"data row2 col3\" >0.9874</td>\n",
       "      <td id=\"T_0af8b_row2_col4\" class=\"data row2 col4\" >1.2296</td>\n",
       "      <td id=\"T_0af8b_row2_col5\" class=\"data row2 col5\" >0.0691</td>\n",
       "      <td id=\"T_0af8b_row2_col6\" class=\"data row2 col6\" >0.0726</td>\n",
       "      <td id=\"T_0af8b_row2_col7\" class=\"data row2 col7\" >-0.0081</td>\n",
       "    </tr>\n",
       "    <tr>\n",
       "      <th id=\"T_0af8b_level0_row3\" class=\"row_heading level0 row3\" >SD</th>\n",
       "      <td id=\"T_0af8b_row3_col0\" class=\"data row3 col0\" >NaT</td>\n",
       "      <td id=\"T_0af8b_row3_col1\" class=\"data row3 col1\" >0.2079</td>\n",
       "      <td id=\"T_0af8b_row3_col2\" class=\"data row3 col2\" >0.2751</td>\n",
       "      <td id=\"T_0af8b_row3_col3\" class=\"data row3 col3\" >0.2364</td>\n",
       "      <td id=\"T_0af8b_row3_col4\" class=\"data row3 col4\" >0.3662</td>\n",
       "      <td id=\"T_0af8b_row3_col5\" class=\"data row3 col5\" >0.0139</td>\n",
       "      <td id=\"T_0af8b_row3_col6\" class=\"data row3 col6\" >0.0166</td>\n",
       "      <td id=\"T_0af8b_row3_col7\" class=\"data row3 col7\" >0.3169</td>\n",
       "    </tr>\n",
       "  </tbody>\n",
       "</table>\n"
      ],
      "text/plain": [
       "<pandas.io.formats.style.Styler at 0x177aad880>"
      ]
     },
     "metadata": {},
     "output_type": "display_data"
    },
    {
     "data": {
      "text/html": [],
      "text/plain": [
       "<IPython.core.display.HTML object>"
      ]
     },
     "metadata": {},
     "output_type": "display_data"
    },
    {
     "name": "stdout",
     "output_type": "stream",
     "text": [
      "Fitting 2 folds for each of 20 candidates, totalling 40 fits\n"
     ]
    },
    {
     "name": "stderr",
     "output_type": "stream",
     "text": [
      "[Parallel(n_jobs=-1)]: Using backend LokyBackend with 8 concurrent workers.\n",
      "[Parallel(n_jobs=-1)]: Done  40 out of  40 | elapsed:    1.0s finished\n"
     ]
    }
   ],
   "source": [
    "tuned_huber = tune_model(huber, n_iter=20, optimize='MASE', fold=2) # three folds was too much for this dataset"
   ]
  },
  {
   "cell_type": "code",
   "execution_count": 243,
   "metadata": {},
   "outputs": [
    {
     "data": {
      "application/vnd.plotly.v1+json": {
       "config": {
        "plotlyServerURL": "https://plot.ly"
       },
       "data": [
        {
         "line": {
          "color": "rgb(31, 119, 180)",
          "width": 2
         },
         "marker": {
          "color": "rgb(31, 119, 180)",
          "size": 5
         },
         "mode": "lines+markers",
         "name": "Unemployment_Rate",
         "type": "scattergl",
         "x": [
          "2009-01-01T00:00:00",
          "2009-07-01T00:00:00",
          "2010-01-01T00:00:00",
          "2010-07-01T00:00:00",
          "2011-01-01T00:00:00",
          "2011-07-01T00:00:00",
          "2012-01-01T00:00:00",
          "2012-07-01T00:00:00",
          "2013-01-01T00:00:00",
          "2013-07-01T00:00:00",
          "2014-01-01T00:00:00",
          "2014-07-01T00:00:00",
          "2015-01-01T00:00:00",
          "2015-07-01T00:00:00",
          "2016-01-01T00:00:00",
          "2016-07-01T00:00:00",
          "2017-01-01T00:00:00",
          "2017-07-01T00:00:00",
          "2018-01-01T00:00:00",
          "2018-07-01T00:00:00",
          "2019-01-01T00:00:00",
          "2019-07-01T00:00:00",
          "2020-01-01T00:00:00",
          "2020-07-01T00:00:00",
          "2021-01-01T00:00:00",
          "2021-07-01T00:00:00",
          "2022-01-01T00:00:00",
          "2022-07-01T00:00:00",
          "2023-01-01T00:00:00",
          "2023-07-01T00:00:00",
          "2024-01-01T00:00:00",
          "2024-07-01T00:00:00"
         ],
         "xaxis": "x",
         "y": [
          18.040630030101887,
          17.14238687901972,
          15.775726707916432,
          15.989462347425771,
          16.851591124698285,
          16.717763415603496,
          14.310062356756935,
          14.5723059746109,
          13.3476811958149,
          15.849200216451232,
          12.565402640695696,
          16.084781044581263,
          14.11539724268468,
          16.397679501557164,
          13.548613123951707,
          14.186108713893296,
          11.812189996775132,
          14.866057832702904,
          12.5799081053059,
          14.163591538115917,
          12.020975928692252,
          13.680974319783642,
          12.22887496390804,
          15.862362395833156,
          14.188898876104474,
          15.018407075494991,
          12.948944225299863,
          14.764916741760771,
          12.265233452406,
          14.177533914667926,
          12.378460471546267,
          12.871909126092456
         ],
         "yaxis": "y"
        },
        {
         "line": {
          "color": "rgb(255, 127, 14)",
          "width": 2
         },
         "marker": {
          "color": "rgb(255, 127, 14)",
          "size": 5
         },
         "mode": "lines+markers",
         "name": "HuberRegressor",
         "type": "scattergl",
         "x": [
          "2009-01-01T00:00:00",
          "2009-07-01T00:00:00",
          "2010-01-01T00:00:00",
          "2010-07-01T00:00:00",
          "2011-01-01T00:00:00",
          "2011-07-01T00:00:00",
          "2012-01-01T00:00:00",
          "2012-07-01T00:00:00",
          "2013-01-01T00:00:00",
          "2013-07-01T00:00:00",
          "2014-01-01T00:00:00",
          "2014-07-01T00:00:00",
          "2015-01-01T00:00:00",
          "2015-07-01T00:00:00",
          "2016-01-01T00:00:00",
          "2016-07-01T00:00:00",
          "2017-01-01T00:00:00",
          "2017-07-01T00:00:00",
          "2018-01-01T00:00:00",
          "2018-07-01T00:00:00",
          "2019-01-01T00:00:00",
          "2019-07-01T00:00:00",
          "2020-01-01T00:00:00",
          "2020-07-01T00:00:00",
          "2021-01-01T00:00:00",
          "2021-07-01T00:00:00",
          "2022-01-01T00:00:00",
          "2022-07-01T00:00:00",
          "2023-01-01T00:00:00",
          "2023-07-01T00:00:00",
          "2024-01-01T00:00:00",
          "2024-07-01T00:00:00"
         ],
         "xaxis": "x",
         "y": [
          null,
          null,
          null,
          null,
          null,
          null,
          null,
          null,
          null,
          null,
          null,
          null,
          null,
          null,
          null,
          null,
          null,
          null,
          null,
          null,
          null,
          null,
          null,
          null,
          null,
          null,
          12.9454,
          14.4406,
          13.8893,
          6.0486,
          75.2907,
          null
         ],
         "yaxis": "y"
        }
       ],
       "layout": {
        "showlegend": true,
        "template": {
         "data": {
          "bar": [
           {
            "error_x": {
             "color": "rgb(51,51,51)"
            },
            "error_y": {
             "color": "rgb(51,51,51)"
            },
            "marker": {
             "line": {
              "color": "rgb(237,237,237)",
              "width": 0.5
             },
             "pattern": {
              "fillmode": "overlay",
              "size": 10,
              "solidity": 0.2
             }
            },
            "type": "bar"
           }
          ],
          "barpolar": [
           {
            "marker": {
             "line": {
              "color": "rgb(237,237,237)",
              "width": 0.5
             },
             "pattern": {
              "fillmode": "overlay",
              "size": 10,
              "solidity": 0.2
             }
            },
            "type": "barpolar"
           }
          ],
          "carpet": [
           {
            "aaxis": {
             "endlinecolor": "rgb(51,51,51)",
             "gridcolor": "white",
             "linecolor": "white",
             "minorgridcolor": "white",
             "startlinecolor": "rgb(51,51,51)"
            },
            "baxis": {
             "endlinecolor": "rgb(51,51,51)",
             "gridcolor": "white",
             "linecolor": "white",
             "minorgridcolor": "white",
             "startlinecolor": "rgb(51,51,51)"
            },
            "type": "carpet"
           }
          ],
          "choropleth": [
           {
            "colorbar": {
             "outlinewidth": 0,
             "tickcolor": "rgb(237,237,237)",
             "ticklen": 6,
             "ticks": "inside"
            },
            "type": "choropleth"
           }
          ],
          "contour": [
           {
            "colorbar": {
             "outlinewidth": 0,
             "tickcolor": "rgb(237,237,237)",
             "ticklen": 6,
             "ticks": "inside"
            },
            "colorscale": [
             [
              0,
              "rgb(20,44,66)"
             ],
             [
              1,
              "rgb(90,179,244)"
             ]
            ],
            "type": "contour"
           }
          ],
          "contourcarpet": [
           {
            "colorbar": {
             "outlinewidth": 0,
             "tickcolor": "rgb(237,237,237)",
             "ticklen": 6,
             "ticks": "inside"
            },
            "type": "contourcarpet"
           }
          ],
          "heatmap": [
           {
            "colorbar": {
             "outlinewidth": 0,
             "tickcolor": "rgb(237,237,237)",
             "ticklen": 6,
             "ticks": "inside"
            },
            "colorscale": [
             [
              0,
              "rgb(20,44,66)"
             ],
             [
              1,
              "rgb(90,179,244)"
             ]
            ],
            "type": "heatmap"
           }
          ],
          "heatmapgl": [
           {
            "colorbar": {
             "outlinewidth": 0,
             "tickcolor": "rgb(237,237,237)",
             "ticklen": 6,
             "ticks": "inside"
            },
            "colorscale": [
             [
              0,
              "rgb(20,44,66)"
             ],
             [
              1,
              "rgb(90,179,244)"
             ]
            ],
            "type": "heatmapgl"
           }
          ],
          "histogram": [
           {
            "marker": {
             "pattern": {
              "fillmode": "overlay",
              "size": 10,
              "solidity": 0.2
             }
            },
            "type": "histogram"
           }
          ],
          "histogram2d": [
           {
            "colorbar": {
             "outlinewidth": 0,
             "tickcolor": "rgb(237,237,237)",
             "ticklen": 6,
             "ticks": "inside"
            },
            "colorscale": [
             [
              0,
              "rgb(20,44,66)"
             ],
             [
              1,
              "rgb(90,179,244)"
             ]
            ],
            "type": "histogram2d"
           }
          ],
          "histogram2dcontour": [
           {
            "colorbar": {
             "outlinewidth": 0,
             "tickcolor": "rgb(237,237,237)",
             "ticklen": 6,
             "ticks": "inside"
            },
            "colorscale": [
             [
              0,
              "rgb(20,44,66)"
             ],
             [
              1,
              "rgb(90,179,244)"
             ]
            ],
            "type": "histogram2dcontour"
           }
          ],
          "mesh3d": [
           {
            "colorbar": {
             "outlinewidth": 0,
             "tickcolor": "rgb(237,237,237)",
             "ticklen": 6,
             "ticks": "inside"
            },
            "type": "mesh3d"
           }
          ],
          "parcoords": [
           {
            "line": {
             "colorbar": {
              "outlinewidth": 0,
              "tickcolor": "rgb(237,237,237)",
              "ticklen": 6,
              "ticks": "inside"
             }
            },
            "type": "parcoords"
           }
          ],
          "pie": [
           {
            "automargin": true,
            "type": "pie"
           }
          ],
          "scatter": [
           {
            "fillpattern": {
             "fillmode": "overlay",
             "size": 10,
             "solidity": 0.2
            },
            "type": "scatter"
           }
          ],
          "scatter3d": [
           {
            "line": {
             "colorbar": {
              "outlinewidth": 0,
              "tickcolor": "rgb(237,237,237)",
              "ticklen": 6,
              "ticks": "inside"
             }
            },
            "marker": {
             "colorbar": {
              "outlinewidth": 0,
              "tickcolor": "rgb(237,237,237)",
              "ticklen": 6,
              "ticks": "inside"
             }
            },
            "type": "scatter3d"
           }
          ],
          "scattercarpet": [
           {
            "marker": {
             "colorbar": {
              "outlinewidth": 0,
              "tickcolor": "rgb(237,237,237)",
              "ticklen": 6,
              "ticks": "inside"
             }
            },
            "type": "scattercarpet"
           }
          ],
          "scattergeo": [
           {
            "marker": {
             "colorbar": {
              "outlinewidth": 0,
              "tickcolor": "rgb(237,237,237)",
              "ticklen": 6,
              "ticks": "inside"
             }
            },
            "type": "scattergeo"
           }
          ],
          "scattergl": [
           {
            "marker": {
             "colorbar": {
              "outlinewidth": 0,
              "tickcolor": "rgb(237,237,237)",
              "ticklen": 6,
              "ticks": "inside"
             }
            },
            "type": "scattergl"
           }
          ],
          "scattermapbox": [
           {
            "marker": {
             "colorbar": {
              "outlinewidth": 0,
              "tickcolor": "rgb(237,237,237)",
              "ticklen": 6,
              "ticks": "inside"
             }
            },
            "type": "scattermapbox"
           }
          ],
          "scatterpolar": [
           {
            "marker": {
             "colorbar": {
              "outlinewidth": 0,
              "tickcolor": "rgb(237,237,237)",
              "ticklen": 6,
              "ticks": "inside"
             }
            },
            "type": "scatterpolar"
           }
          ],
          "scatterpolargl": [
           {
            "marker": {
             "colorbar": {
              "outlinewidth": 0,
              "tickcolor": "rgb(237,237,237)",
              "ticklen": 6,
              "ticks": "inside"
             }
            },
            "type": "scatterpolargl"
           }
          ],
          "scatterternary": [
           {
            "marker": {
             "colorbar": {
              "outlinewidth": 0,
              "tickcolor": "rgb(237,237,237)",
              "ticklen": 6,
              "ticks": "inside"
             }
            },
            "type": "scatterternary"
           }
          ],
          "surface": [
           {
            "colorbar": {
             "outlinewidth": 0,
             "tickcolor": "rgb(237,237,237)",
             "ticklen": 6,
             "ticks": "inside"
            },
            "colorscale": [
             [
              0,
              "rgb(20,44,66)"
             ],
             [
              1,
              "rgb(90,179,244)"
             ]
            ],
            "type": "surface"
           }
          ],
          "table": [
           {
            "cells": {
             "fill": {
              "color": "rgb(237,237,237)"
             },
             "line": {
              "color": "white"
             }
            },
            "header": {
             "fill": {
              "color": "rgb(217,217,217)"
             },
             "line": {
              "color": "white"
             }
            },
            "type": "table"
           }
          ]
         },
         "layout": {
          "annotationdefaults": {
           "arrowhead": 0,
           "arrowwidth": 1
          },
          "autotypenumbers": "strict",
          "coloraxis": {
           "colorbar": {
            "outlinewidth": 0,
            "tickcolor": "rgb(237,237,237)",
            "ticklen": 6,
            "ticks": "inside"
           }
          },
          "colorscale": {
           "sequential": [
            [
             0,
             "rgb(20,44,66)"
            ],
            [
             1,
             "rgb(90,179,244)"
            ]
           ],
           "sequentialminus": [
            [
             0,
             "rgb(20,44,66)"
            ],
            [
             1,
             "rgb(90,179,244)"
            ]
           ]
          },
          "colorway": [
           "#F8766D",
           "#A3A500",
           "#00BF7D",
           "#00B0F6",
           "#E76BF3"
          ],
          "font": {
           "color": "rgb(51,51,51)"
          },
          "geo": {
           "bgcolor": "white",
           "lakecolor": "white",
           "landcolor": "rgb(237,237,237)",
           "showlakes": true,
           "showland": true,
           "subunitcolor": "white"
          },
          "hoverlabel": {
           "align": "left"
          },
          "hovermode": "closest",
          "paper_bgcolor": "white",
          "plot_bgcolor": "rgb(237,237,237)",
          "polar": {
           "angularaxis": {
            "gridcolor": "white",
            "linecolor": "white",
            "showgrid": true,
            "tickcolor": "rgb(51,51,51)",
            "ticks": "outside"
           },
           "bgcolor": "rgb(237,237,237)",
           "radialaxis": {
            "gridcolor": "white",
            "linecolor": "white",
            "showgrid": true,
            "tickcolor": "rgb(51,51,51)",
            "ticks": "outside"
           }
          },
          "scene": {
           "xaxis": {
            "backgroundcolor": "rgb(237,237,237)",
            "gridcolor": "white",
            "gridwidth": 2,
            "linecolor": "white",
            "showbackground": true,
            "showgrid": true,
            "tickcolor": "rgb(51,51,51)",
            "ticks": "outside",
            "zerolinecolor": "white"
           },
           "yaxis": {
            "backgroundcolor": "rgb(237,237,237)",
            "gridcolor": "white",
            "gridwidth": 2,
            "linecolor": "white",
            "showbackground": true,
            "showgrid": true,
            "tickcolor": "rgb(51,51,51)",
            "ticks": "outside",
            "zerolinecolor": "white"
           },
           "zaxis": {
            "backgroundcolor": "rgb(237,237,237)",
            "gridcolor": "white",
            "gridwidth": 2,
            "linecolor": "white",
            "showbackground": true,
            "showgrid": true,
            "tickcolor": "rgb(51,51,51)",
            "ticks": "outside",
            "zerolinecolor": "white"
           }
          },
          "shapedefaults": {
           "fillcolor": "black",
           "line": {
            "width": 0
           },
           "opacity": 0.3
          },
          "ternary": {
           "aaxis": {
            "gridcolor": "white",
            "linecolor": "white",
            "showgrid": true,
            "tickcolor": "rgb(51,51,51)",
            "ticks": "outside"
           },
           "baxis": {
            "gridcolor": "white",
            "linecolor": "white",
            "showgrid": true,
            "tickcolor": "rgb(51,51,51)",
            "ticks": "outside"
           },
           "bgcolor": "rgb(237,237,237)",
           "caxis": {
            "gridcolor": "white",
            "linecolor": "white",
            "showgrid": true,
            "tickcolor": "rgb(51,51,51)",
            "ticks": "outside"
           }
          },
          "xaxis": {
           "automargin": true,
           "gridcolor": "white",
           "linecolor": "white",
           "showgrid": true,
           "tickcolor": "rgb(51,51,51)",
           "ticks": "outside",
           "title": {
            "standoff": 15
           },
           "zerolinecolor": "white"
          },
          "yaxis": {
           "automargin": true,
           "gridcolor": "white",
           "linecolor": "white",
           "showgrid": true,
           "tickcolor": "rgb(51,51,51)",
           "ticks": "outside",
           "title": {
            "standoff": 15
           },
           "zerolinecolor": "white"
          }
         }
        },
        "title": {
         "text": "Actual vs. Forecast (Out-of-Sample)"
        },
        "xaxis": {
         "anchor": "y",
         "domain": [
          0,
          1
         ]
        },
        "yaxis": {
         "anchor": "x",
         "domain": [
          0,
          1
         ]
        }
       }
      }
     },
     "metadata": {},
     "output_type": "display_data"
    }
   ],
   "source": [
    "exp.plot_model(estimator=tuned_huber)"
   ]
  },
  {
   "cell_type": "code",
   "execution_count": 244,
   "metadata": {},
   "outputs": [
    {
     "name": "stdout",
     "output_type": "stream",
     "text": [
      "{'degree': 1, 'deseasonal_model': 'additive', 'fe_target_rr': [WindowSummarizer(lag_feature={'lag': [2, 1]}, n_jobs=1)], 'regressor': HuberRegressor(), 'sp': 2, 'window_length': 2, 'regressor__alpha': 0.0001, 'regressor__epsilon': 1.35, 'regressor__fit_intercept': True, 'regressor__max_iter': 100, 'regressor__tol': 1e-05, 'regressor__warm_start': False}\n",
      "{'degree': 1, 'deseasonal_model': 'additive', 'fe_target_rr': [WindowSummarizer(lag_feature={'lag': [2, 1]}, n_jobs=1)], 'regressor': HuberRegressor(), 'sp': 2, 'window_length': 2, 'regressor__alpha': 0.0001, 'regressor__epsilon': 1.35, 'regressor__fit_intercept': True, 'regressor__max_iter': 100, 'regressor__tol': 1e-05, 'regressor__warm_start': False}\n"
     ]
    }
   ],
   "source": [
    "print(huber.get_params())\n",
    "print(tuned_huber.get_params())"
   ]
  },
  {
   "cell_type": "markdown",
   "metadata": {},
   "source": [
    "comparisons"
   ]
  },
  {
   "cell_type": "code",
   "execution_count": 245,
   "metadata": {},
   "outputs": [
    {
     "data": {
      "text/html": [],
      "text/plain": [
       "<IPython.core.display.HTML object>"
      ]
     },
     "metadata": {},
     "output_type": "display_data"
    },
    {
     "data": {
      "text/html": [
       "<style type=\"text/css\">\n",
       "#T_2bedb th {\n",
       "  text-align: left;\n",
       "}\n",
       "#T_2bedb_row0_col0, #T_2bedb_row1_col0, #T_2bedb_row1_col1, #T_2bedb_row1_col2, #T_2bedb_row1_col3, #T_2bedb_row1_col4, #T_2bedb_row1_col5, #T_2bedb_row1_col6, #T_2bedb_row1_col7 {\n",
       "  text-align: left;\n",
       "}\n",
       "#T_2bedb_row0_col1, #T_2bedb_row0_col2, #T_2bedb_row0_col3, #T_2bedb_row0_col4, #T_2bedb_row0_col5, #T_2bedb_row0_col6, #T_2bedb_row0_col7 {\n",
       "  text-align: left;\n",
       "  background-color: yellow;\n",
       "}\n",
       "#T_2bedb_row0_col8 {\n",
       "  text-align: left;\n",
       "  background-color: lightgrey;\n",
       "}\n",
       "#T_2bedb_row1_col8 {\n",
       "  text-align: left;\n",
       "  background-color: yellow;\n",
       "  background-color: lightgrey;\n",
       "}\n",
       "</style>\n",
       "<table id=\"T_2bedb\">\n",
       "  <thead>\n",
       "    <tr>\n",
       "      <th class=\"blank level0\" >&nbsp;</th>\n",
       "      <th id=\"T_2bedb_level0_col0\" class=\"col_heading level0 col0\" >Model</th>\n",
       "      <th id=\"T_2bedb_level0_col1\" class=\"col_heading level0 col1\" >MASE</th>\n",
       "      <th id=\"T_2bedb_level0_col2\" class=\"col_heading level0 col2\" >RMSSE</th>\n",
       "      <th id=\"T_2bedb_level0_col3\" class=\"col_heading level0 col3\" >MAE</th>\n",
       "      <th id=\"T_2bedb_level0_col4\" class=\"col_heading level0 col4\" >RMSE</th>\n",
       "      <th id=\"T_2bedb_level0_col5\" class=\"col_heading level0 col5\" >MAPE</th>\n",
       "      <th id=\"T_2bedb_level0_col6\" class=\"col_heading level0 col6\" >SMAPE</th>\n",
       "      <th id=\"T_2bedb_level0_col7\" class=\"col_heading level0 col7\" >R2</th>\n",
       "      <th id=\"T_2bedb_level0_col8\" class=\"col_heading level0 col8\" >TT (Sec)</th>\n",
       "    </tr>\n",
       "  </thead>\n",
       "  <tbody>\n",
       "    <tr>\n",
       "      <th id=\"T_2bedb_level0_row0\" class=\"row_heading level0 row0\" >1</th>\n",
       "      <td id=\"T_2bedb_row0_col0\" class=\"data row0 col0\" >ARIMA</td>\n",
       "      <td id=\"T_2bedb_row0_col1\" class=\"data row0 col1\" >0.9955</td>\n",
       "      <td id=\"T_2bedb_row0_col2\" class=\"data row0 col2\" >1.0279</td>\n",
       "      <td id=\"T_2bedb_row0_col3\" class=\"data row0 col3\" >1.4158</td>\n",
       "      <td id=\"T_2bedb_row0_col4\" class=\"data row0 col4\" >1.6276</td>\n",
       "      <td id=\"T_2bedb_row0_col5\" class=\"data row0 col5\" >0.0999</td>\n",
       "      <td id=\"T_2bedb_row0_col6\" class=\"data row0 col6\" >0.0996</td>\n",
       "      <td id=\"T_2bedb_row0_col7\" class=\"data row0 col7\" >-0.6598</td>\n",
       "      <td id=\"T_2bedb_row0_col8\" class=\"data row0 col8\" >0.0467</td>\n",
       "    </tr>\n",
       "    <tr>\n",
       "      <th id=\"T_2bedb_level0_row1\" class=\"row_heading level0 row1\" >0</th>\n",
       "      <td id=\"T_2bedb_row1_col0\" class=\"data row1 col0\" >ARIMA</td>\n",
       "      <td id=\"T_2bedb_row1_col1\" class=\"data row1 col1\" >1.1441</td>\n",
       "      <td id=\"T_2bedb_row1_col2\" class=\"data row1 col2\" >1.2163</td>\n",
       "      <td id=\"T_2bedb_row1_col3\" class=\"data row1 col3\" >1.5487</td>\n",
       "      <td id=\"T_2bedb_row1_col4\" class=\"data row1 col4\" >1.8764</td>\n",
       "      <td id=\"T_2bedb_row1_col5\" class=\"data row1 col5\" >0.1098</td>\n",
       "      <td id=\"T_2bedb_row1_col6\" class=\"data row1 col6\" >0.1172</td>\n",
       "      <td id=\"T_2bedb_row1_col7\" class=\"data row1 col7\" >-1.0881</td>\n",
       "      <td id=\"T_2bedb_row1_col8\" class=\"data row1 col8\" >0.0433</td>\n",
       "    </tr>\n",
       "  </tbody>\n",
       "</table>\n"
      ],
      "text/plain": [
       "<pandas.io.formats.style.Styler at 0x177d31100>"
      ]
     },
     "metadata": {},
     "output_type": "display_data"
    },
    {
     "data": {
      "text/html": [],
      "text/plain": [
       "<IPython.core.display.HTML object>"
      ]
     },
     "metadata": {},
     "output_type": "display_data"
    },
    {
     "data": {
      "text/html": [
       "<style>#sk-1d577f23-b049-47ff-9b37-1d291e1d86d9 {color: black;background-color: white;}#sk-1d577f23-b049-47ff-9b37-1d291e1d86d9 pre{padding: 0;}#sk-1d577f23-b049-47ff-9b37-1d291e1d86d9 div.sk-toggleable {background-color: white;}#sk-1d577f23-b049-47ff-9b37-1d291e1d86d9 label.sk-toggleable__label {cursor: pointer;display: block;width: 100%;margin-bottom: 0;padding: 0.3em;box-sizing: border-box;text-align: center;}#sk-1d577f23-b049-47ff-9b37-1d291e1d86d9 label.sk-toggleable__label-arrow:before {content: \"▸\";float: left;margin-right: 0.25em;color: #696969;}#sk-1d577f23-b049-47ff-9b37-1d291e1d86d9 label.sk-toggleable__label-arrow:hover:before {color: black;}#sk-1d577f23-b049-47ff-9b37-1d291e1d86d9 div.sk-estimator:hover label.sk-toggleable__label-arrow:before {color: black;}#sk-1d577f23-b049-47ff-9b37-1d291e1d86d9 div.sk-toggleable__content {max-height: 0;max-width: 0;overflow: hidden;text-align: left;background-color: #f0f8ff;}#sk-1d577f23-b049-47ff-9b37-1d291e1d86d9 div.sk-toggleable__content pre {margin: 0.2em;color: black;border-radius: 0.25em;background-color: #f0f8ff;}#sk-1d577f23-b049-47ff-9b37-1d291e1d86d9 input.sk-toggleable__control:checked~div.sk-toggleable__content {max-height: 200px;max-width: 100%;overflow: auto;}#sk-1d577f23-b049-47ff-9b37-1d291e1d86d9 input.sk-toggleable__control:checked~label.sk-toggleable__label-arrow:before {content: \"▾\";}#sk-1d577f23-b049-47ff-9b37-1d291e1d86d9 div.sk-estimator input.sk-toggleable__control:checked~label.sk-toggleable__label {background-color: #d4ebff;}#sk-1d577f23-b049-47ff-9b37-1d291e1d86d9 div.sk-label input.sk-toggleable__control:checked~label.sk-toggleable__label {background-color: #d4ebff;}#sk-1d577f23-b049-47ff-9b37-1d291e1d86d9 input.sk-hidden--visually {border: 0;clip: rect(1px 1px 1px 1px);clip: rect(1px, 1px, 1px, 1px);height: 1px;margin: -1px;overflow: hidden;padding: 0;position: absolute;width: 1px;}#sk-1d577f23-b049-47ff-9b37-1d291e1d86d9 div.sk-estimator {font-family: monospace;background-color: #f0f8ff;border: 1px dotted black;border-radius: 0.25em;box-sizing: border-box;margin-bottom: 0.5em;}#sk-1d577f23-b049-47ff-9b37-1d291e1d86d9 div.sk-estimator:hover {background-color: #d4ebff;}#sk-1d577f23-b049-47ff-9b37-1d291e1d86d9 div.sk-parallel-item::after {content: \"\";width: 100%;border-bottom: 1px solid gray;flex-grow: 1;}#sk-1d577f23-b049-47ff-9b37-1d291e1d86d9 div.sk-label:hover label.sk-toggleable__label {background-color: #d4ebff;}#sk-1d577f23-b049-47ff-9b37-1d291e1d86d9 div.sk-serial::before {content: \"\";position: absolute;border-left: 1px solid gray;box-sizing: border-box;top: 2em;bottom: 0;left: 50%;}#sk-1d577f23-b049-47ff-9b37-1d291e1d86d9 div.sk-serial {display: flex;flex-direction: column;align-items: center;background-color: white;padding-right: 0.2em;padding-left: 0.2em;}#sk-1d577f23-b049-47ff-9b37-1d291e1d86d9 div.sk-item {z-index: 1;}#sk-1d577f23-b049-47ff-9b37-1d291e1d86d9 div.sk-parallel {display: flex;align-items: stretch;justify-content: center;background-color: white;}#sk-1d577f23-b049-47ff-9b37-1d291e1d86d9 div.sk-parallel::before {content: \"\";position: absolute;border-left: 1px solid gray;box-sizing: border-box;top: 2em;bottom: 0;left: 50%;}#sk-1d577f23-b049-47ff-9b37-1d291e1d86d9 div.sk-parallel-item {display: flex;flex-direction: column;position: relative;background-color: white;}#sk-1d577f23-b049-47ff-9b37-1d291e1d86d9 div.sk-parallel-item:first-child::after {align-self: flex-end;width: 50%;}#sk-1d577f23-b049-47ff-9b37-1d291e1d86d9 div.sk-parallel-item:last-child::after {align-self: flex-start;width: 50%;}#sk-1d577f23-b049-47ff-9b37-1d291e1d86d9 div.sk-parallel-item:only-child::after {width: 0;}#sk-1d577f23-b049-47ff-9b37-1d291e1d86d9 div.sk-dashed-wrapped {border: 1px dashed gray;margin: 0 0.4em 0.5em 0.4em;box-sizing: border-box;padding-bottom: 0.4em;background-color: white;position: relative;}#sk-1d577f23-b049-47ff-9b37-1d291e1d86d9 div.sk-label label {font-family: monospace;font-weight: bold;background-color: white;display: inline-block;line-height: 1.2em;}#sk-1d577f23-b049-47ff-9b37-1d291e1d86d9 div.sk-label-container {position: relative;z-index: 2;text-align: center;}#sk-1d577f23-b049-47ff-9b37-1d291e1d86d9 div.sk-container {/* jupyter's `normalize.less` sets `[hidden] { display: none; }` but bootstrap.min.css set `[hidden] { display: none !important; }` so we also need the `!important` here to be able to override the default hidden behavior on the sphinx rendered scikit-learn.org. See: https://github.com/scikit-learn/scikit-learn/issues/21755 */display: inline-block !important;position: relative;}#sk-1d577f23-b049-47ff-9b37-1d291e1d86d9 div.sk-text-repr-fallback {display: none;}</style><div id='sk-1d577f23-b049-47ff-9b37-1d291e1d86d9' class=\"sk-top-container\"><div class=\"sk-text-repr-fallback\"><pre>ARIMA(seasonal_order=(1, 1, 0, 2), with_intercept=False)</pre><b>Please rerun this cell to show the HTML repr or trust the notebook.</b></div><div class=\"sk-container\" hidden><div class='sk-item'><div class=\"sk-estimator sk-toggleable\"><input class=\"sk-toggleable__control sk-hidden--visually\" id=UUID('b806d756-d9fc-499d-bd42-a3a4378fc79b') type=\"checkbox\" checked><label for=UUID('b806d756-d9fc-499d-bd42-a3a4378fc79b') class='sk-toggleable__label sk-toggleable__label-arrow'>ARIMA</label><div class=\"sk-toggleable__content\"><pre>ARIMA(seasonal_order=(1, 1, 0, 2), with_intercept=False)</pre></div></div></div></div></div>"
      ],
      "text/plain": [
       "ARIMA(seasonal_order=(1, 1, 0, 2), with_intercept=False)"
      ]
     },
     "execution_count": 245,
     "metadata": {},
     "output_type": "execute_result"
    }
   ],
   "source": [
    "exp.compare_models(include=[arima, tuned_arima, huber, tuned_huber], sort='MASE')"
   ]
  },
  {
   "cell_type": "code",
   "execution_count": 246,
   "metadata": {},
   "outputs": [
    {
     "data": {
      "application/vnd.plotly.v1+json": {
       "config": {
        "plotlyServerURL": "https://plot.ly"
       },
       "data": [
        {
         "line": {
          "color": "rgb(31, 119, 180)",
          "width": 2
         },
         "marker": {
          "color": "rgb(31, 119, 180)",
          "size": 5
         },
         "mode": "lines+markers",
         "name": "Unemployment_Rate",
         "type": "scattergl",
         "x": [
          "2009-01-01T00:00:00",
          "2009-07-01T00:00:00",
          "2010-01-01T00:00:00",
          "2010-07-01T00:00:00",
          "2011-01-01T00:00:00",
          "2011-07-01T00:00:00",
          "2012-01-01T00:00:00",
          "2012-07-01T00:00:00",
          "2013-01-01T00:00:00",
          "2013-07-01T00:00:00",
          "2014-01-01T00:00:00",
          "2014-07-01T00:00:00",
          "2015-01-01T00:00:00",
          "2015-07-01T00:00:00",
          "2016-01-01T00:00:00",
          "2016-07-01T00:00:00",
          "2017-01-01T00:00:00",
          "2017-07-01T00:00:00",
          "2018-01-01T00:00:00",
          "2018-07-01T00:00:00",
          "2019-01-01T00:00:00",
          "2019-07-01T00:00:00",
          "2020-01-01T00:00:00",
          "2020-07-01T00:00:00",
          "2021-01-01T00:00:00",
          "2021-07-01T00:00:00",
          "2022-01-01T00:00:00",
          "2022-07-01T00:00:00",
          "2023-01-01T00:00:00",
          "2023-07-01T00:00:00",
          "2024-01-01T00:00:00",
          "2024-07-01T00:00:00"
         ],
         "xaxis": "x",
         "y": [
          18.040630030101887,
          17.14238687901972,
          15.775726707916432,
          15.989462347425771,
          16.851591124698285,
          16.717763415603496,
          14.310062356756935,
          14.5723059746109,
          13.3476811958149,
          15.849200216451232,
          12.565402640695696,
          16.084781044581263,
          14.11539724268468,
          16.397679501557164,
          13.548613123951707,
          14.186108713893296,
          11.812189996775132,
          14.866057832702904,
          12.5799081053059,
          14.163591538115917,
          12.020975928692252,
          13.680974319783642,
          12.22887496390804,
          15.862362395833156,
          14.188898876104474,
          15.018407075494991,
          12.948944225299863,
          14.764916741760771,
          12.265233452406,
          14.177533914667926,
          12.378460471546267,
          12.871909126092456
         ],
         "yaxis": "y"
        },
        {
         "line": {
          "color": "rgb(255, 127, 14)",
          "width": 2
         },
         "marker": {
          "color": "rgb(255, 127, 14)",
          "size": 5
         },
         "mode": "lines+markers",
         "name": "arima",
         "type": "scattergl",
         "x": [
          "2009-01-01T00:00:00",
          "2009-07-01T00:00:00",
          "2010-01-01T00:00:00",
          "2010-07-01T00:00:00",
          "2011-01-01T00:00:00",
          "2011-07-01T00:00:00",
          "2012-01-01T00:00:00",
          "2012-07-01T00:00:00",
          "2013-01-01T00:00:00",
          "2013-07-01T00:00:00",
          "2014-01-01T00:00:00",
          "2014-07-01T00:00:00",
          "2015-01-01T00:00:00",
          "2015-07-01T00:00:00",
          "2016-01-01T00:00:00",
          "2016-07-01T00:00:00",
          "2017-01-01T00:00:00",
          "2017-07-01T00:00:00",
          "2018-01-01T00:00:00",
          "2018-07-01T00:00:00",
          "2019-01-01T00:00:00",
          "2019-07-01T00:00:00",
          "2020-01-01T00:00:00",
          "2020-07-01T00:00:00",
          "2021-01-01T00:00:00",
          "2021-07-01T00:00:00",
          "2022-01-01T00:00:00",
          "2022-07-01T00:00:00",
          "2023-01-01T00:00:00",
          "2023-07-01T00:00:00",
          "2024-01-01T00:00:00",
          "2024-07-01T00:00:00"
         ],
         "xaxis": "x",
         "y": [
          null,
          null,
          null,
          null,
          null,
          null,
          null,
          null,
          null,
          null,
          null,
          null,
          null,
          null,
          null,
          null,
          null,
          null,
          null,
          null,
          null,
          null,
          null,
          null,
          null,
          null,
          12.2188,
          14.5252,
          12.567,
          13.9968,
          12.3788,
          14.1619
         ],
         "yaxis": "y"
        },
        {
         "line": {
          "color": "rgb(44, 160, 44)",
          "width": 2
         },
         "marker": {
          "color": "rgb(44, 160, 44)",
          "size": 5
         },
         "mode": "lines+markers",
         "name": "tuned_arima",
         "type": "scattergl",
         "x": [
          "2009-01-01T00:00:00",
          "2009-07-01T00:00:00",
          "2010-01-01T00:00:00",
          "2010-07-01T00:00:00",
          "2011-01-01T00:00:00",
          "2011-07-01T00:00:00",
          "2012-01-01T00:00:00",
          "2012-07-01T00:00:00",
          "2013-01-01T00:00:00",
          "2013-07-01T00:00:00",
          "2014-01-01T00:00:00",
          "2014-07-01T00:00:00",
          "2015-01-01T00:00:00",
          "2015-07-01T00:00:00",
          "2016-01-01T00:00:00",
          "2016-07-01T00:00:00",
          "2017-01-01T00:00:00",
          "2017-07-01T00:00:00",
          "2018-01-01T00:00:00",
          "2018-07-01T00:00:00",
          "2019-01-01T00:00:00",
          "2019-07-01T00:00:00",
          "2020-01-01T00:00:00",
          "2020-07-01T00:00:00",
          "2021-01-01T00:00:00",
          "2021-07-01T00:00:00",
          "2022-01-01T00:00:00",
          "2022-07-01T00:00:00",
          "2023-01-01T00:00:00",
          "2023-07-01T00:00:00",
          "2024-01-01T00:00:00",
          "2024-07-01T00:00:00"
         ],
         "xaxis": "x",
         "y": [
          null,
          null,
          null,
          null,
          null,
          null,
          null,
          null,
          null,
          null,
          null,
          null,
          null,
          null,
          null,
          null,
          null,
          null,
          null,
          null,
          null,
          null,
          null,
          null,
          null,
          null,
          12.606,
          14.8517,
          13.2742,
          14.6472,
          13.4095,
          15.0916
         ],
         "yaxis": "y"
        },
        {
         "line": {
          "color": "rgb(214, 39, 40)",
          "width": 2
         },
         "marker": {
          "color": "rgb(214, 39, 40)",
          "size": 5
         },
         "mode": "lines+markers",
         "name": "huber",
         "type": "scattergl",
         "x": [
          "2009-01-01T00:00:00",
          "2009-07-01T00:00:00",
          "2010-01-01T00:00:00",
          "2010-07-01T00:00:00",
          "2011-01-01T00:00:00",
          "2011-07-01T00:00:00",
          "2012-01-01T00:00:00",
          "2012-07-01T00:00:00",
          "2013-01-01T00:00:00",
          "2013-07-01T00:00:00",
          "2014-01-01T00:00:00",
          "2014-07-01T00:00:00",
          "2015-01-01T00:00:00",
          "2015-07-01T00:00:00",
          "2016-01-01T00:00:00",
          "2016-07-01T00:00:00",
          "2017-01-01T00:00:00",
          "2017-07-01T00:00:00",
          "2018-01-01T00:00:00",
          "2018-07-01T00:00:00",
          "2019-01-01T00:00:00",
          "2019-07-01T00:00:00",
          "2020-01-01T00:00:00",
          "2020-07-01T00:00:00",
          "2021-01-01T00:00:00",
          "2021-07-01T00:00:00",
          "2022-01-01T00:00:00",
          "2022-07-01T00:00:00",
          "2023-01-01T00:00:00",
          "2023-07-01T00:00:00",
          "2024-01-01T00:00:00",
          "2024-07-01T00:00:00"
         ],
         "xaxis": "x",
         "y": [
          null,
          null,
          null,
          null,
          null,
          null,
          null,
          null,
          null,
          null,
          null,
          null,
          null,
          null,
          null,
          null,
          null,
          null,
          null,
          null,
          null,
          null,
          null,
          null,
          null,
          null,
          12.9454,
          14.4406,
          13.8893,
          6.0486,
          75.2907,
          null
         ],
         "yaxis": "y"
        },
        {
         "line": {
          "color": "rgb(148, 103, 189)",
          "width": 2
         },
         "marker": {
          "color": "rgb(148, 103, 189)",
          "size": 5
         },
         "mode": "lines+markers",
         "name": "tuned_huber",
         "type": "scattergl",
         "x": [
          "2009-01-01T00:00:00",
          "2009-07-01T00:00:00",
          "2010-01-01T00:00:00",
          "2010-07-01T00:00:00",
          "2011-01-01T00:00:00",
          "2011-07-01T00:00:00",
          "2012-01-01T00:00:00",
          "2012-07-01T00:00:00",
          "2013-01-01T00:00:00",
          "2013-07-01T00:00:00",
          "2014-01-01T00:00:00",
          "2014-07-01T00:00:00",
          "2015-01-01T00:00:00",
          "2015-07-01T00:00:00",
          "2016-01-01T00:00:00",
          "2016-07-01T00:00:00",
          "2017-01-01T00:00:00",
          "2017-07-01T00:00:00",
          "2018-01-01T00:00:00",
          "2018-07-01T00:00:00",
          "2019-01-01T00:00:00",
          "2019-07-01T00:00:00",
          "2020-01-01T00:00:00",
          "2020-07-01T00:00:00",
          "2021-01-01T00:00:00",
          "2021-07-01T00:00:00",
          "2022-01-01T00:00:00",
          "2022-07-01T00:00:00",
          "2023-01-01T00:00:00",
          "2023-07-01T00:00:00",
          "2024-01-01T00:00:00",
          "2024-07-01T00:00:00"
         ],
         "xaxis": "x",
         "y": [
          null,
          null,
          null,
          null,
          null,
          null,
          null,
          null,
          null,
          null,
          null,
          null,
          null,
          null,
          null,
          null,
          null,
          null,
          null,
          null,
          null,
          null,
          null,
          null,
          null,
          null,
          12.9454,
          14.4406,
          13.8893,
          6.0486,
          75.2907,
          null
         ],
         "yaxis": "y"
        }
       ],
       "layout": {
        "showlegend": true,
        "template": {
         "data": {
          "bar": [
           {
            "error_x": {
             "color": "rgb(51,51,51)"
            },
            "error_y": {
             "color": "rgb(51,51,51)"
            },
            "marker": {
             "line": {
              "color": "rgb(237,237,237)",
              "width": 0.5
             },
             "pattern": {
              "fillmode": "overlay",
              "size": 10,
              "solidity": 0.2
             }
            },
            "type": "bar"
           }
          ],
          "barpolar": [
           {
            "marker": {
             "line": {
              "color": "rgb(237,237,237)",
              "width": 0.5
             },
             "pattern": {
              "fillmode": "overlay",
              "size": 10,
              "solidity": 0.2
             }
            },
            "type": "barpolar"
           }
          ],
          "carpet": [
           {
            "aaxis": {
             "endlinecolor": "rgb(51,51,51)",
             "gridcolor": "white",
             "linecolor": "white",
             "minorgridcolor": "white",
             "startlinecolor": "rgb(51,51,51)"
            },
            "baxis": {
             "endlinecolor": "rgb(51,51,51)",
             "gridcolor": "white",
             "linecolor": "white",
             "minorgridcolor": "white",
             "startlinecolor": "rgb(51,51,51)"
            },
            "type": "carpet"
           }
          ],
          "choropleth": [
           {
            "colorbar": {
             "outlinewidth": 0,
             "tickcolor": "rgb(237,237,237)",
             "ticklen": 6,
             "ticks": "inside"
            },
            "type": "choropleth"
           }
          ],
          "contour": [
           {
            "colorbar": {
             "outlinewidth": 0,
             "tickcolor": "rgb(237,237,237)",
             "ticklen": 6,
             "ticks": "inside"
            },
            "colorscale": [
             [
              0,
              "rgb(20,44,66)"
             ],
             [
              1,
              "rgb(90,179,244)"
             ]
            ],
            "type": "contour"
           }
          ],
          "contourcarpet": [
           {
            "colorbar": {
             "outlinewidth": 0,
             "tickcolor": "rgb(237,237,237)",
             "ticklen": 6,
             "ticks": "inside"
            },
            "type": "contourcarpet"
           }
          ],
          "heatmap": [
           {
            "colorbar": {
             "outlinewidth": 0,
             "tickcolor": "rgb(237,237,237)",
             "ticklen": 6,
             "ticks": "inside"
            },
            "colorscale": [
             [
              0,
              "rgb(20,44,66)"
             ],
             [
              1,
              "rgb(90,179,244)"
             ]
            ],
            "type": "heatmap"
           }
          ],
          "heatmapgl": [
           {
            "colorbar": {
             "outlinewidth": 0,
             "tickcolor": "rgb(237,237,237)",
             "ticklen": 6,
             "ticks": "inside"
            },
            "colorscale": [
             [
              0,
              "rgb(20,44,66)"
             ],
             [
              1,
              "rgb(90,179,244)"
             ]
            ],
            "type": "heatmapgl"
           }
          ],
          "histogram": [
           {
            "marker": {
             "pattern": {
              "fillmode": "overlay",
              "size": 10,
              "solidity": 0.2
             }
            },
            "type": "histogram"
           }
          ],
          "histogram2d": [
           {
            "colorbar": {
             "outlinewidth": 0,
             "tickcolor": "rgb(237,237,237)",
             "ticklen": 6,
             "ticks": "inside"
            },
            "colorscale": [
             [
              0,
              "rgb(20,44,66)"
             ],
             [
              1,
              "rgb(90,179,244)"
             ]
            ],
            "type": "histogram2d"
           }
          ],
          "histogram2dcontour": [
           {
            "colorbar": {
             "outlinewidth": 0,
             "tickcolor": "rgb(237,237,237)",
             "ticklen": 6,
             "ticks": "inside"
            },
            "colorscale": [
             [
              0,
              "rgb(20,44,66)"
             ],
             [
              1,
              "rgb(90,179,244)"
             ]
            ],
            "type": "histogram2dcontour"
           }
          ],
          "mesh3d": [
           {
            "colorbar": {
             "outlinewidth": 0,
             "tickcolor": "rgb(237,237,237)",
             "ticklen": 6,
             "ticks": "inside"
            },
            "type": "mesh3d"
           }
          ],
          "parcoords": [
           {
            "line": {
             "colorbar": {
              "outlinewidth": 0,
              "tickcolor": "rgb(237,237,237)",
              "ticklen": 6,
              "ticks": "inside"
             }
            },
            "type": "parcoords"
           }
          ],
          "pie": [
           {
            "automargin": true,
            "type": "pie"
           }
          ],
          "scatter": [
           {
            "fillpattern": {
             "fillmode": "overlay",
             "size": 10,
             "solidity": 0.2
            },
            "type": "scatter"
           }
          ],
          "scatter3d": [
           {
            "line": {
             "colorbar": {
              "outlinewidth": 0,
              "tickcolor": "rgb(237,237,237)",
              "ticklen": 6,
              "ticks": "inside"
             }
            },
            "marker": {
             "colorbar": {
              "outlinewidth": 0,
              "tickcolor": "rgb(237,237,237)",
              "ticklen": 6,
              "ticks": "inside"
             }
            },
            "type": "scatter3d"
           }
          ],
          "scattercarpet": [
           {
            "marker": {
             "colorbar": {
              "outlinewidth": 0,
              "tickcolor": "rgb(237,237,237)",
              "ticklen": 6,
              "ticks": "inside"
             }
            },
            "type": "scattercarpet"
           }
          ],
          "scattergeo": [
           {
            "marker": {
             "colorbar": {
              "outlinewidth": 0,
              "tickcolor": "rgb(237,237,237)",
              "ticklen": 6,
              "ticks": "inside"
             }
            },
            "type": "scattergeo"
           }
          ],
          "scattergl": [
           {
            "marker": {
             "colorbar": {
              "outlinewidth": 0,
              "tickcolor": "rgb(237,237,237)",
              "ticklen": 6,
              "ticks": "inside"
             }
            },
            "type": "scattergl"
           }
          ],
          "scattermapbox": [
           {
            "marker": {
             "colorbar": {
              "outlinewidth": 0,
              "tickcolor": "rgb(237,237,237)",
              "ticklen": 6,
              "ticks": "inside"
             }
            },
            "type": "scattermapbox"
           }
          ],
          "scatterpolar": [
           {
            "marker": {
             "colorbar": {
              "outlinewidth": 0,
              "tickcolor": "rgb(237,237,237)",
              "ticklen": 6,
              "ticks": "inside"
             }
            },
            "type": "scatterpolar"
           }
          ],
          "scatterpolargl": [
           {
            "marker": {
             "colorbar": {
              "outlinewidth": 0,
              "tickcolor": "rgb(237,237,237)",
              "ticklen": 6,
              "ticks": "inside"
             }
            },
            "type": "scatterpolargl"
           }
          ],
          "scatterternary": [
           {
            "marker": {
             "colorbar": {
              "outlinewidth": 0,
              "tickcolor": "rgb(237,237,237)",
              "ticklen": 6,
              "ticks": "inside"
             }
            },
            "type": "scatterternary"
           }
          ],
          "surface": [
           {
            "colorbar": {
             "outlinewidth": 0,
             "tickcolor": "rgb(237,237,237)",
             "ticklen": 6,
             "ticks": "inside"
            },
            "colorscale": [
             [
              0,
              "rgb(20,44,66)"
             ],
             [
              1,
              "rgb(90,179,244)"
             ]
            ],
            "type": "surface"
           }
          ],
          "table": [
           {
            "cells": {
             "fill": {
              "color": "rgb(237,237,237)"
             },
             "line": {
              "color": "white"
             }
            },
            "header": {
             "fill": {
              "color": "rgb(217,217,217)"
             },
             "line": {
              "color": "white"
             }
            },
            "type": "table"
           }
          ]
         },
         "layout": {
          "annotationdefaults": {
           "arrowhead": 0,
           "arrowwidth": 1
          },
          "autotypenumbers": "strict",
          "coloraxis": {
           "colorbar": {
            "outlinewidth": 0,
            "tickcolor": "rgb(237,237,237)",
            "ticklen": 6,
            "ticks": "inside"
           }
          },
          "colorscale": {
           "sequential": [
            [
             0,
             "rgb(20,44,66)"
            ],
            [
             1,
             "rgb(90,179,244)"
            ]
           ],
           "sequentialminus": [
            [
             0,
             "rgb(20,44,66)"
            ],
            [
             1,
             "rgb(90,179,244)"
            ]
           ]
          },
          "colorway": [
           "#F8766D",
           "#A3A500",
           "#00BF7D",
           "#00B0F6",
           "#E76BF3"
          ],
          "font": {
           "color": "rgb(51,51,51)"
          },
          "geo": {
           "bgcolor": "white",
           "lakecolor": "white",
           "landcolor": "rgb(237,237,237)",
           "showlakes": true,
           "showland": true,
           "subunitcolor": "white"
          },
          "hoverlabel": {
           "align": "left"
          },
          "hovermode": "closest",
          "paper_bgcolor": "white",
          "plot_bgcolor": "rgb(237,237,237)",
          "polar": {
           "angularaxis": {
            "gridcolor": "white",
            "linecolor": "white",
            "showgrid": true,
            "tickcolor": "rgb(51,51,51)",
            "ticks": "outside"
           },
           "bgcolor": "rgb(237,237,237)",
           "radialaxis": {
            "gridcolor": "white",
            "linecolor": "white",
            "showgrid": true,
            "tickcolor": "rgb(51,51,51)",
            "ticks": "outside"
           }
          },
          "scene": {
           "xaxis": {
            "backgroundcolor": "rgb(237,237,237)",
            "gridcolor": "white",
            "gridwidth": 2,
            "linecolor": "white",
            "showbackground": true,
            "showgrid": true,
            "tickcolor": "rgb(51,51,51)",
            "ticks": "outside",
            "zerolinecolor": "white"
           },
           "yaxis": {
            "backgroundcolor": "rgb(237,237,237)",
            "gridcolor": "white",
            "gridwidth": 2,
            "linecolor": "white",
            "showbackground": true,
            "showgrid": true,
            "tickcolor": "rgb(51,51,51)",
            "ticks": "outside",
            "zerolinecolor": "white"
           },
           "zaxis": {
            "backgroundcolor": "rgb(237,237,237)",
            "gridcolor": "white",
            "gridwidth": 2,
            "linecolor": "white",
            "showbackground": true,
            "showgrid": true,
            "tickcolor": "rgb(51,51,51)",
            "ticks": "outside",
            "zerolinecolor": "white"
           }
          },
          "shapedefaults": {
           "fillcolor": "black",
           "line": {
            "width": 0
           },
           "opacity": 0.3
          },
          "ternary": {
           "aaxis": {
            "gridcolor": "white",
            "linecolor": "white",
            "showgrid": true,
            "tickcolor": "rgb(51,51,51)",
            "ticks": "outside"
           },
           "baxis": {
            "gridcolor": "white",
            "linecolor": "white",
            "showgrid": true,
            "tickcolor": "rgb(51,51,51)",
            "ticks": "outside"
           },
           "bgcolor": "rgb(237,237,237)",
           "caxis": {
            "gridcolor": "white",
            "linecolor": "white",
            "showgrid": true,
            "tickcolor": "rgb(51,51,51)",
            "ticks": "outside"
           }
          },
          "xaxis": {
           "automargin": true,
           "gridcolor": "white",
           "linecolor": "white",
           "showgrid": true,
           "tickcolor": "rgb(51,51,51)",
           "ticks": "outside",
           "title": {
            "standoff": 15
           },
           "zerolinecolor": "white"
          },
          "yaxis": {
           "automargin": true,
           "gridcolor": "white",
           "linecolor": "white",
           "showgrid": true,
           "tickcolor": "rgb(51,51,51)",
           "ticks": "outside",
           "title": {
            "standoff": 15
           },
           "zerolinecolor": "white"
          }
         }
        },
        "title": {
         "text": "Actual vs. Forecast (Out-of-Sample)"
        },
        "xaxis": {
         "anchor": "y",
         "domain": [
          0,
          1
         ]
        },
        "yaxis": {
         "anchor": "x",
         "domain": [
          0,
          1
         ]
        }
       }
      }
     },
     "metadata": {},
     "output_type": "display_data"
    }
   ],
   "source": [
    "exp.plot_model([arima, tuned_arima, huber, tuned_huber], data_kwargs={\"labels\": [\"arima\", \"tuned_arima\", \"huber\", \"tuned_huber\"]})"
   ]
  },
  {
   "cell_type": "markdown",
   "metadata": {},
   "source": [
    "### finalise model and future forecast"
   ]
  },
  {
   "cell_type": "code",
   "execution_count": 247,
   "metadata": {},
   "outputs": [],
   "source": [
    "final_model = exp.finalize_model(tuned_arima)"
   ]
  },
  {
   "cell_type": "code",
   "execution_count": 168,
   "metadata": {},
   "outputs": [],
   "source": [
    "# future periods to predict\n",
    "future_periods = pd.period_range(start=df_forecast.index[-1] + 1, periods=6, freq='2Q')  # 5 future periods\n",
    "\n",
    "# initialising future_df with NaNs for features and target\n",
    "future_df = pd.DataFrame(index=future_periods, columns=['Unemployment_Rate', 'lag_1', 'lag_2', 'rolling_mean_3'])\n",
    "future_df[['Unemployment_Rate', 'lag_1', 'lag_2', 'rolling_mean_3']] = np.nan"
   ]
  },
  {
   "cell_type": "code",
   "execution_count": 169,
   "metadata": {},
   "outputs": [],
   "source": [
    "# defining a function to get value from historical or predicted data\n",
    "def get_value_for_period(period):\n",
    "    if period in df_forecast.index:\n",
    "        return df_forecast.loc[period, 'Unemployment_Rate']\n",
    "    elif period in future_df.index and not pd.isna(future_df.loc[period, 'Unemployment_Rate']):\n",
    "        return future_df.loc[period, 'Unemployment_Rate']\n",
    "    else:\n",
    "        return np.nan"
   ]
  },
  {
   "cell_type": "code",
   "execution_count": null,
   "metadata": {},
   "outputs": [
    {
     "name": "stdout",
     "output_type": "stream",
     "text": [
      "Predicted Unemployment_Rate at 2025Q1: 11.593\n",
      "Predicted Unemployment_Rate at 2025Q3: 10.951\n",
      "Predicted Unemployment_Rate at 2026Q1: 11.187\n",
      "Predicted Unemployment_Rate at 2026Q3: 11.512\n",
      "Predicted Unemployment_Rate at 2027Q1: 11.543\n",
      "Predicted Unemployment_Rate at 2027Q3: 11.431\n"
     ]
    }
   ],
   "source": [
    "# looping over each future period and predict\n",
    "for period in future_periods:\n",
    "    # calculating the lag features\n",
    "    lag_1 = get_value_for_period(period - 1)\n",
    "    lag_2 = get_value_for_period(period - 2)\n",
    "\n",
    "    # rolling mean of last 3 values (lags 1, 2, 3)\n",
    "    last_three_vals = [get_value_for_period(period - i) for i in range(1, 4)]\n",
    "    rolling_mean_3 = np.nanmean(last_three_vals)  # np.nanmean ignores nan values\n",
    "\n",
    "    # saving features into future_df\n",
    "    future_df.loc[period, ['lag_1', 'lag_2', 'rolling_mean_3']] = [lag_1, lag_2, rolling_mean_3]\n",
    "\n",
    "    # preparing feature vector for prediction\n",
    "    X_pred = future_df.loc[[period], ['lag_1', 'lag_2', 'rolling_mean_3']].astype(float)\n",
    "\n",
    "    # checking for NaNs before predicting\n",
    "    if X_pred.isnull().values.any():\n",
    "        raise ValueError(f\"NaN found in features at period {period}:\\n{X_pred}\")\n",
    "\n",
    "    # forecasting future values\n",
    "    pred_df = predict_model(final_model, X=X_pred, fh=[1])\n",
    "    pred_value = pred_df['y_pred'].values[0]\n",
    "\n",
    "    # saving predicted value back to future_df for next iterations\n",
    "    future_df.loc[period, 'Unemployment_Rate'] = pred_value\n",
    "\n",
    "    print(f\"Predicted Unemployment_Rate at {period}: {pred_value:.3f}\")"
   ]
  },
  {
   "cell_type": "code",
   "execution_count": 175,
   "metadata": {},
   "outputs": [],
   "source": [
    "# concatenating historical and future predictions into one DataFrame\n",
    "combined_df = pd.concat([df_forecast[['Unemployment_Rate']], future_df[['Unemployment_Rate']]], axis=0)\n",
    "\n",
    "# creating a column to indicate whether the value is historical or predicted\n",
    "combined_df['Type'] = ['Historical'] * len(df_forecast) + ['Predicted'] * len(future_df)"
   ]
  },
  {
   "cell_type": "code",
   "execution_count": 176,
   "metadata": {},
   "outputs": [
    {
     "data": {
      "image/png": "[encoded data removed]",
      "text/plain": [
       "<Figure size 1200x600 with 1 Axes>"
      ]
     },
     "metadata": {},
     "output_type": "display_data"
    }
   ],
   "source": [
    "# plotting\n",
    "plt.figure(figsize=(12,6))\n",
    "\n",
    "for t_type, group_data in combined_df.groupby('Type'):\n",
    "    plt.plot(group_data.index.to_timestamp(), group_data['Unemployment_Rate'], \n",
    "             marker='o', label=t_type)\n",
    "\n",
    "plt.title('Unemployment Rate: Historical vs Predicted')\n",
    "plt.xlabel('Period')\n",
    "plt.ylabel('Unemployment Rate')\n",
    "plt.legend()\n",
    "plt.grid(True)\n",
    "plt.show()"
   ]
  },
  {
   "cell_type": "code",
   "execution_count": 177,
   "metadata": {},
   "outputs": [
    {
     "data": {
      "text/html": [
       "<div>\n",
       "<style scoped>\n",
       "    .dataframe tbody tr th:only-of-type {\n",
       "        vertical-align: middle;\n",
       "    }\n",
       "\n",
       "    .dataframe tbody tr th {\n",
       "        vertical-align: top;\n",
       "    }\n",
       "\n",
       "    .dataframe thead th {\n",
       "        text-align: right;\n",
       "    }\n",
       "</style>\n",
       "<table border=\"1\" class=\"dataframe\">\n",
       "  <thead>\n",
       "    <tr style=\"text-align: right;\">\n",
       "      <th></th>\n",
       "      <th>Unemployment_Rate</th>\n",
       "      <th>lag_1</th>\n",
       "      <th>lag_2</th>\n",
       "      <th>rolling_mean_3</th>\n",
       "    </tr>\n",
       "  </thead>\n",
       "  <tbody>\n",
       "    <tr>\n",
       "      <th>2025Q1</th>\n",
       "      <td>11.5930</td>\n",
       "      <td>12.871909</td>\n",
       "      <td>12.378460</td>\n",
       "      <td>12.625185</td>\n",
       "    </tr>\n",
       "    <tr>\n",
       "      <th>2025Q3</th>\n",
       "      <td>10.9513</td>\n",
       "      <td>11.593000</td>\n",
       "      <td>12.871909</td>\n",
       "      <td>12.232455</td>\n",
       "    </tr>\n",
       "    <tr>\n",
       "      <th>2026Q1</th>\n",
       "      <td>11.1871</td>\n",
       "      <td>10.951300</td>\n",
       "      <td>11.593000</td>\n",
       "      <td>11.272150</td>\n",
       "    </tr>\n",
       "    <tr>\n",
       "      <th>2026Q3</th>\n",
       "      <td>11.5120</td>\n",
       "      <td>11.187100</td>\n",
       "      <td>10.951300</td>\n",
       "      <td>11.069200</td>\n",
       "    </tr>\n",
       "    <tr>\n",
       "      <th>2027Q1</th>\n",
       "      <td>11.5426</td>\n",
       "      <td>11.512000</td>\n",
       "      <td>11.187100</td>\n",
       "      <td>11.349550</td>\n",
       "    </tr>\n",
       "    <tr>\n",
       "      <th>2027Q3</th>\n",
       "      <td>11.4306</td>\n",
       "      <td>11.542600</td>\n",
       "      <td>11.512000</td>\n",
       "      <td>11.527300</td>\n",
       "    </tr>\n",
       "  </tbody>\n",
       "</table>\n",
       "</div>"
      ],
      "text/plain": [
       "        Unemployment_Rate      lag_1      lag_2  rolling_mean_3\n",
       "2025Q1            11.5930  12.871909  12.378460       12.625185\n",
       "2025Q3            10.9513  11.593000  12.871909       12.232455\n",
       "2026Q1            11.1871  10.951300  11.593000       11.272150\n",
       "2026Q3            11.5120  11.187100  10.951300       11.069200\n",
       "2027Q1            11.5426  11.512000  11.187100       11.349550\n",
       "2027Q3            11.4306  11.542600  11.512000       11.527300"
      ]
     },
     "execution_count": 177,
     "metadata": {},
     "output_type": "execute_result"
    }
   ],
   "source": [
    "future_df"
   ]
  },
  {
   "cell_type": "code",
   "execution_count": null,
   "metadata": {},
   "outputs": [],
   "source": []
  }
 ],
 "metadata": {
  "kernelspec": {
   "display_name": "Thesis (.venv)",
   "language": "python",
   "name": ".venv"
  },
  "language_info": {
   "codemirror_mode": {
    "name": "ipython",
    "version": 3
   },
   "file_extension": ".py",
   "mimetype": "text/x-python",
   "name": "python",
   "nbconvert_exporter": "python",
   "pygments_lexer": "ipython3",
   "version": "3.9.6"
  }
 },
 "nbformat": 4,
 "nbformat_minor": 2
}
