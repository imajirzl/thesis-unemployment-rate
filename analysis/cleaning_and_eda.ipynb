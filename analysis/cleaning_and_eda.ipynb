{
 "cells": [
  {
   "cell_type": "code",
   "execution_count": 4,
   "metadata": {},
   "outputs": [],
   "source": [
    "import json\n",
    "import pandas as pd"
   ]
  },
  {
   "cell_type": "code",
   "execution_count": 5,
   "metadata": {},
   "outputs": [],
   "source": [
    "# Load the BPS data\n",
    "with open(\"../data_ind.json\", \"r\", encoding=\"utf-8\") as file:\n",
    "    data_ind = json.load(file)\n",
    "\n",
    "# Load the OECD data\n",
    "with open(\"../data_oecd.json\", \"r\", encoding=\"utf-8\") as file:\n",
    "    data_oecd = json.load(file)"
   ]
  },
  {
   "cell_type": "code",
   "execution_count": 6,
   "metadata": {},
   "outputs": [],
   "source": [
    "# extracting unemployment rate for indonesia only (excluding per province)\n",
    "data_ind_ = {\n",
    "    key: value\n",
    "    for key, value in data_ind[\"datacontent\"].items()\n",
    "    if key.startswith(\"9999\")  # Key should start with '9999' for Indonesia\n",
    "}"
   ]
  },
  {
   "cell_type": "code",
   "execution_count": 7,
   "metadata": {},
   "outputs": [],
   "source": [
    "data_ind_records = []"
   ]
  },
  {
   "cell_type": "code",
   "execution_count": 8,
   "metadata": {},
   "outputs": [],
   "source": [
    "for key, value in data_ind_.items():\n",
    "    year = key[-5:-3]  # Extract digits representing the year\n",
    "    quarter_suffix = key[-2:] # Extract digits representing quarter reporting\n",
    "   \n",
    "     # Map the numeric year to the full year\n",
    "    full_year = 1900 + int(year) if int(year) > 50 else 2000 + int(year)\n",
    "\n",
    "    # Check for two values (quarters) in the same year\n",
    "    if quarter_suffix == \"91\": \n",
    "        data_ind_records.append([full_year, \"-\", value])\n",
    "    elif quarter_suffix == \"89\": # If the last digits are '89', it's for the first quarter\n",
    "        data_ind_records.append([full_year, \"Q1\", value])\n",
    "    elif quarter_suffix == \"90\":  # If it's '90', it's for the second quarter\n",
    "        data_ind_records.append([full_year, \"Q3\", value])\n"
   ]
  },
  {
   "cell_type": "code",
   "execution_count": 9,
   "metadata": {},
   "outputs": [],
   "source": [
    "# Convert records into a DataFrame\n",
    "df_ind = pd.DataFrame(data_ind_records, columns=[\"Year\", \"Quarter\", \"Unemployment Rate\"])"
   ]
  },
  {
   "cell_type": "code",
   "execution_count": 11,
   "metadata": {},
   "outputs": [
    {
     "name": "stdout",
     "output_type": "stream",
     "text": [
      "    Year Quarter  Unemployment Rate\n",
      "0   1986       -               2.70\n",
      "1   1987       -               2.62\n",
      "2   1988       -               2.85\n",
      "3   1989       -               2.81\n",
      "4   1990       -               2.55\n",
      "5   1991       -               2.62\n",
      "6   1992       -               2.74\n",
      "7   1993       -               2.79\n",
      "8   1994       -               4.36\n",
      "9   1996       -               4.87\n",
      "10  1997       -               4.69\n",
      "11  1998       -               5.46\n",
      "12  1999       -               6.36\n",
      "13  2000       -               6.08\n",
      "14  2001       -               8.10\n",
      "15  2002       -               9.06\n",
      "16  2003       -               9.67\n",
      "17  2004       -               9.86\n",
      "18  2005      Q1              10.26\n",
      "19  2005      Q3              11.24\n",
      "20  2006      Q1              10.45\n",
      "21  2006      Q3              10.28\n",
      "22  2007      Q1               9.75\n",
      "23  2007      Q3               9.11\n",
      "24  2008      Q1               8.46\n",
      "25  2008      Q3               8.39\n",
      "26  2009      Q1               8.14\n",
      "27  2009      Q3               7.87\n",
      "28  2010      Q1               7.41\n",
      "29  2010      Q3               7.14\n",
      "30  2011      Q1               6.96\n",
      "31  2011      Q3               7.48\n",
      "32  2012      Q1               6.37\n",
      "33  2012      Q3               6.13\n",
      "34  2013      Q1               5.88\n",
      "35  2013      Q3               6.17\n",
      "36  2014      Q1               5.70\n",
      "37  2014      Q3               5.94\n",
      "38  2015      Q1               5.81\n",
      "39  2015      Q3               6.18\n",
      "40  2016      Q1               5.50\n",
      "41  2016      Q3               5.61\n",
      "42  2017      Q1               5.33\n",
      "43  2017      Q3               5.50\n",
      "44  2018      Q1               5.10\n",
      "45  2018      Q3               5.30\n",
      "46  2019      Q1               4.98\n",
      "47  2019      Q3               5.23\n",
      "48  2020      Q1               4.94\n",
      "49  2020      Q3               7.07\n",
      "50  2021      Q1               6.26\n",
      "51  2021      Q3               6.49\n",
      "52  2022      Q1               5.83\n",
      "53  2022      Q3               5.86\n",
      "54  2023      Q1               5.45\n",
      "55  2023      Q3               5.32\n",
      "56  2024      Q1               4.82\n",
      "57  2024      Q3               4.91\n"
     ]
    }
   ],
   "source": [
    "# Save to CSV (Optional)\n",
    "df_ind.to_csv(\"../indonesia_unemployment_rate.csv\", index=False)\n",
    "\n",
    "# Display the DataFrame\n",
    "print(df_ind)"
   ]
  },
  {
   "cell_type": "code",
   "execution_count": null,
   "metadata": {},
   "outputs": [],
   "source": []
  }
 ],
 "metadata": {
  "kernelspec": {
   "display_name": "Thesis (.venv)",
   "language": "python",
   "name": ".venv"
  },
  "language_info": {
   "codemirror_mode": {
    "name": "ipython",
    "version": 3
   },
   "file_extension": ".py",
   "mimetype": "text/x-python",
   "name": "python",
   "nbconvert_exporter": "python",
   "pygments_lexer": "ipython3",
   "version": "3.10.9"
  }
 },
 "nbformat": 4,
 "nbformat_minor": 2
}
