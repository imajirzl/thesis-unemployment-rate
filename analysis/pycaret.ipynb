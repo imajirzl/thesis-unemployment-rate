{
 "cells": [
  {
   "cell_type": "code",
   "execution_count": 1,
   "metadata": {},
   "outputs": [
    {
     "data": {
      "text/plain": [
       "'3.3.2'"
      ]
     },
     "execution_count": 1,
     "metadata": {},
     "output_type": "execute_result"
    }
   ],
   "source": [
    "from pycaret.utils import version\n",
    "version()"
   ]
  },
  {
   "cell_type": "markdown",
   "metadata": {},
   "source": [
    "### reading and cleaning data"
   ]
  },
  {
   "cell_type": "code",
   "execution_count": 2,
   "metadata": {},
   "outputs": [],
   "source": [
    "import pandas as pd"
   ]
  },
  {
   "cell_type": "code",
   "execution_count": 4,
   "metadata": {},
   "outputs": [],
   "source": [
    "df_ind = pd.read_csv('../data_ind.csv')\n",
    "df_oecd = pd.read_csv('../data_oecd.csv')"
   ]
  },
  {
   "cell_type": "code",
   "execution_count": 5,
   "metadata": {},
   "outputs": [],
   "source": [
    "df_oecd = df_oecd.sort_values(by=['Country', 'Time_Period'])\n",
    "df_oecd['Time_Period'] = pd.to_datetime(df_oecd['Time_Period'], format='%Y-%m')\n",
    "\n",
    "df_deu = df_oecd[(df_oecd['Country'] == 'DEU')]\n",
    "df_usa = df_oecd[(df_oecd['Country'] == 'USA')]\n",
    "\n",
    "df_ind['Time_Period'] = df_ind['Year'].astype(str) + '-' + df_ind['Quarter'].map({'-': '01', 'Q1': '02', 'Q3': '08'})\n",
    "df_ind['Country'] = 'IND'  # Add country column\n",
    "df_ind = df_ind[['Country', 'Time_Period', 'Unemployment_Rate']]\n",
    "df_ind['Time_Period'] = pd.to_datetime(df_ind['Time_Period'], format='%Y-%m')"
   ]
  },
  {
   "cell_type": "code",
   "execution_count": 6,
   "metadata": {},
   "outputs": [],
   "source": [
    "select_df_ind = df_ind[df_ind['Time_Period'].dt.year >= 2005]\n",
    "select_df_deu = df_deu[df_deu['Time_Period'].dt.year >= 2005]\n",
    "select_df_usa = df_usa[df_usa['Time_Period'].dt.year >= 2005]\n"
   ]
  },
  {
   "cell_type": "code",
   "execution_count": null,
   "metadata": {},
   "outputs": [],
   "source": []
  }
 ],
 "metadata": {
  "kernelspec": {
   "display_name": "Thesis (.venv)",
   "language": "python",
   "name": ".venv"
  },
  "language_info": {
   "codemirror_mode": {
    "name": "ipython",
    "version": 3
   },
   "file_extension": ".py",
   "mimetype": "text/x-python",
   "name": "python",
   "nbconvert_exporter": "python",
   "pygments_lexer": "ipython3",
   "version": "3.9.6"
  }
 },
 "nbformat": 4,
 "nbformat_minor": 2
}
